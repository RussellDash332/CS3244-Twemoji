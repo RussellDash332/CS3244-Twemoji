{
  "nbformat": 4,
  "nbformat_minor": 0,
  "metadata": {
    "accelerator": "GPU",
    "colab": {
      "name": "CS3244-TFBertForSequenceClassification-Kevin.ipynb",
      "provenance": [],
      "collapsed_sections": [],
      "machine_shape": "hm"
    },
    "kernelspec": {
      "display_name": "Python 3",
      "name": "python3"
    },
    "language_info": {
      "name": "python"
    }
  },
  "cells": [
    {
      "cell_type": "markdown",
      "metadata": {
        "id": "Yj8cEKwwH5u0"
      },
      "source": [
        "# Import & Download all the necessariy libraries"
      ]
    },
    {
      "cell_type": "code",
      "metadata": {
        "colab": {
          "base_uri": "https://localhost:8080/"
        },
        "id": "DYR8XGMucths",
        "outputId": "81fb5937-7705-4f34-ec03-e253e13a9100"
      },
      "source": [
        "# Import Common Modules\n",
        "import pandas as pd\n",
        "import numpy as np\n",
        "import matplotlib.pyplot as plt\n",
        "% matplotlib inline\n",
        "import seaborn as sns\n",
        "import re\n",
        "import os\n",
        "import tensorflow as tf\n",
        "from sklearn.metrics import confusion_matrix\n",
        "\n",
        "# install\n",
        "!pip install git+https://github.com/huggingface/transformers\n",
        "\n",
        "from keras.preprocessing.sequence import pad_sequences\n",
        "from transformers import TFBertForSequenceClassification, BertTokenizer, BertConfig, AdamWeightDecay\n",
        "\n",
        "# Since the data size is big, we will need to use a GPU\n",
        "\n",
        "%tensorflow_version 2.x\n",
        "device_name = tf.test.gpu_device_name()\n",
        "if device_name != '/device:GPU:0':\n",
        "  raise SystemError('GPU device not found')\n",
        "print('Found GPU at: {}'.format(device_name))"
      ],
      "execution_count": 1,
      "outputs": [
        {
          "output_type": "stream",
          "name": "stdout",
          "text": [
            "Collecting git+https://github.com/huggingface/transformers\n",
            "  Cloning https://github.com/huggingface/transformers to /tmp/pip-req-build-wxr9dpkq\n",
            "  Running command git clone -q https://github.com/huggingface/transformers /tmp/pip-req-build-wxr9dpkq\n",
            "  Installing build dependencies ... \u001b[?25l\u001b[?25hdone\n",
            "  Getting requirements to build wheel ... \u001b[?25l\u001b[?25hdone\n",
            "    Preparing wheel metadata ... \u001b[?25l\u001b[?25hdone\n",
            "Requirement already satisfied: packaging>=20.0 in /usr/local/lib/python3.7/dist-packages (from transformers==4.13.0.dev0) (21.2)\n",
            "Requirement already satisfied: pyyaml>=5.1 in /usr/local/lib/python3.7/dist-packages (from transformers==4.13.0.dev0) (6.0)\n",
            "Requirement already satisfied: filelock in /usr/local/lib/python3.7/dist-packages (from transformers==4.13.0.dev0) (3.3.2)\n",
            "Requirement already satisfied: huggingface-hub<1.0,>=0.1.0 in /usr/local/lib/python3.7/dist-packages (from transformers==4.13.0.dev0) (0.1.2)\n",
            "Requirement already satisfied: sacremoses in /usr/local/lib/python3.7/dist-packages (from transformers==4.13.0.dev0) (0.0.46)\n",
            "Requirement already satisfied: importlib-metadata in /usr/local/lib/python3.7/dist-packages (from transformers==4.13.0.dev0) (4.8.1)\n",
            "Requirement already satisfied: numpy>=1.17 in /usr/local/lib/python3.7/dist-packages (from transformers==4.13.0.dev0) (1.19.5)\n",
            "Requirement already satisfied: requests in /usr/local/lib/python3.7/dist-packages (from transformers==4.13.0.dev0) (2.23.0)\n",
            "Requirement already satisfied: tqdm>=4.27 in /usr/local/lib/python3.7/dist-packages (from transformers==4.13.0.dev0) (4.62.3)\n",
            "Requirement already satisfied: tokenizers<0.11,>=0.10.1 in /usr/local/lib/python3.7/dist-packages (from transformers==4.13.0.dev0) (0.10.3)\n",
            "Requirement already satisfied: regex!=2019.12.17 in /usr/local/lib/python3.7/dist-packages (from transformers==4.13.0.dev0) (2019.12.20)\n",
            "Requirement already satisfied: typing-extensions>=3.7.4.3 in /usr/local/lib/python3.7/dist-packages (from huggingface-hub<1.0,>=0.1.0->transformers==4.13.0.dev0) (3.10.0.2)\n",
            "Requirement already satisfied: pyparsing<3,>=2.0.2 in /usr/local/lib/python3.7/dist-packages (from packaging>=20.0->transformers==4.13.0.dev0) (2.4.7)\n",
            "Requirement already satisfied: zipp>=0.5 in /usr/local/lib/python3.7/dist-packages (from importlib-metadata->transformers==4.13.0.dev0) (3.6.0)\n",
            "Requirement already satisfied: idna<3,>=2.5 in /usr/local/lib/python3.7/dist-packages (from requests->transformers==4.13.0.dev0) (2.10)\n",
            "Requirement already satisfied: certifi>=2017.4.17 in /usr/local/lib/python3.7/dist-packages (from requests->transformers==4.13.0.dev0) (2021.10.8)\n",
            "Requirement already satisfied: chardet<4,>=3.0.2 in /usr/local/lib/python3.7/dist-packages (from requests->transformers==4.13.0.dev0) (3.0.4)\n",
            "Requirement already satisfied: urllib3!=1.25.0,!=1.25.1,<1.26,>=1.21.1 in /usr/local/lib/python3.7/dist-packages (from requests->transformers==4.13.0.dev0) (1.24.3)\n",
            "Requirement already satisfied: six in /usr/local/lib/python3.7/dist-packages (from sacremoses->transformers==4.13.0.dev0) (1.15.0)\n",
            "Requirement already satisfied: joblib in /usr/local/lib/python3.7/dist-packages (from sacremoses->transformers==4.13.0.dev0) (1.1.0)\n",
            "Requirement already satisfied: click in /usr/local/lib/python3.7/dist-packages (from sacremoses->transformers==4.13.0.dev0) (7.1.2)\n",
            "Found GPU at: /device:GPU:0\n"
          ]
        }
      ]
    },
    {
      "cell_type": "markdown",
      "metadata": {
        "id": "Yv74pEtvKH2-"
      },
      "source": [
        "# Data Cleaning"
      ]
    },
    {
      "cell_type": "markdown",
      "metadata": {
        "id": "6bl9P-CBhoHp"
      },
      "source": [
        "### Cleaning Process"
      ]
    },
    {
      "cell_type": "code",
      "metadata": {
        "id": "dmmw2-zqg-6J"
      },
      "source": [
        "# In our project, we have performed the data splitting, so we won't need to do the train_test_split anymore.\n",
        "\n",
        "train = pd.read_csv(\"train_text_emoji_clean.csv\")\n",
        "test = pd.read_csv(\"test_text_emoji_clean.csv\")\n",
        "valid = pd.read_csv(\"valid_text_emoji_clean.csv\")\n",
        "\n",
        "# Remove usernames + punctuations + (numbers) + excessive spaces\n",
        "\n",
        "for i in range(len(train)):\n",
        "    message = train[\"tweets\"][i]\n",
        "    clean_message = message.split(\":\", 1)\n",
        "    if len(clean_message) > 1:\n",
        "        train[\"tweets\"][i] = re.sub(\" +\", \" \", re.sub(\"\\d+\", \" \", re.sub(r'[^\\w\\s]', '', clean_message[1])))\n",
        "    else:\n",
        "        train[\"tweets\"][i] = re.sub(\" +\", \" \", re.sub(\"\\d+\", \" \", re.sub(r'[^\\w\\s]', '', clean_message[0])))\n",
        "\n",
        "for i in range(len(test)):\n",
        "    message = test[\"tweets\"][i]\n",
        "    clean_message = message.split(\":\", 1)\n",
        "    if len(clean_message) > 1:\n",
        "        test[\"tweets\"][i] = re.sub(\" +\", \" \", re.sub(\"\\d+\", \" \", re.sub(r'[^\\w\\s]', '', clean_message[1])))\n",
        "    else:\n",
        "        test[\"tweets\"][i] = re.sub(\" +\", \" \", re.sub(\"\\d+\", \" \", re.sub(r'[^\\w\\s]', '', clean_message[0])))\n",
        "\n",
        "    \n",
        "for i in range(len(valid)):\n",
        "    message = valid[\"tweets\"][i]\n",
        "    clean_message = message.split(\":\", 1)\n",
        "    if len(clean_message) > 1:\n",
        "        valid[\"tweets\"][i] = re.sub(\" +\", \" \", re.sub(\"\\d+\", \" \", re.sub(r'[^\\w\\s]', '', clean_message[1])))\n",
        "    else:\n",
        "        valid[\"tweets\"][i] = re.sub(\" +\", \" \", re.sub(\"\\d+\", \" \", re.sub(r'[^\\w\\s]', '', clean_message[0])))\n",
        "\n",
        "# Remove all rows that has more than 1 emoji representations\n",
        "\n",
        "train = train[train['annotations'].map(len) == 1]\n",
        "test = test[test['annotations'].map(len) == 1]\n",
        "valid = valid[valid['annotations'].map(len) == 1]\n",
        "\n",
        "# Reset the index after dropping several rows\n",
        "\n",
        "train = train.reset_index()\n",
        "test = test.reset_index()\n",
        "valid = valid.reset_index()\n",
        "\n",
        "# Assign the tweets as the dataset for the model\n",
        "\n",
        "X_train = train[\"tweets\"]\n",
        "X_test = test[\"tweets\"]\n",
        "X_valid = valid[\"tweets\"]\n",
        "\n",
        "# Encode the emojis\n",
        "\n",
        "train['classification'] = pd.factorize(train[\"annotations\"])[0]\n",
        "test['classification'] = pd.factorize(test[\"annotations\"])[0]\n",
        "valid['classification'] = pd.factorize(valid[\"annotations\"])[0]\n",
        "\n",
        "# Assign the encoded emojis as the labels for the model\n",
        "\n",
        "y_train = train['classification']\n",
        "y_test = test['classification']\n",
        "y_valid = valid['classification']"
      ],
      "execution_count": 2,
      "outputs": []
    },
    {
      "cell_type": "markdown",
      "metadata": {
        "id": "w6fWF-UChrDn"
      },
      "source": [
        "### List of All Emojis"
      ]
    },
    {
      "cell_type": "code",
      "metadata": {
        "colab": {
          "base_uri": "https://localhost:8080/"
        },
        "id": "RiBfwUK7hCrM",
        "outputId": "3151d024-08ba-4098-d654-fd0233383bd2"
      },
      "source": [
        "# Collect all the possible emojis (will be useful for our final prediction function)\n",
        "\n",
        "emojis = train[\"annotations\"].unique()\n",
        "emojis"
      ],
      "execution_count": 3,
      "outputs": [
        {
          "output_type": "execute_result",
          "data": {
            "text/plain": [
              "array(['😂', '😭', '😍', '🙄', '❤', '😊', '😩', '🤔', '😘', '🏽', '💯', '🙃'],\n",
              "      dtype=object)"
            ]
          },
          "metadata": {},
          "execution_count": 3
        }
      ]
    },
    {
      "cell_type": "markdown",
      "metadata": {
        "id": "1M6_jcjghh-g"
      },
      "source": [
        "### Training Data"
      ]
    },
    {
      "cell_type": "code",
      "metadata": {
        "colab": {
          "base_uri": "https://localhost:8080/"
        },
        "id": "ZLv8sGoPhGeQ",
        "outputId": "ab1d714d-2675-4ad8-ea70-330c7dab3927"
      },
      "source": [
        "# Take a look at the training dataset + label\n",
        "\n",
        "print(X_train)\n",
        "\n",
        "print(\"==================================================\")\n",
        "\n",
        "print(y_train)"
      ],
      "execution_count": 4,
      "outputs": [
        {
          "output_type": "stream",
          "name": "stdout",
          "text": [
            "0                               school is so dead o my god\n",
            "1        lol Ive been told mine is worse than yours but...\n",
            "2        Im excited to hear them That shit is going rat...\n",
            "3        Damn alycia knows everything even indirect tweets\n",
            "4                               That sound like everything\n",
            "                               ...                        \n",
            "52881                 Or That Picture Was Just Cute To You\n",
            "52882                    Im otw wit some gas still hate me\n",
            "52883                                  Yeahhh you kinda do\n",
            "52884                       nothing wit youuuuu raymundooo\n",
            "52885    dont be that person who parks right next to me...\n",
            "Name: tweets, Length: 52886, dtype: object\n",
            "==================================================\n",
            "0         0\n",
            "1         0\n",
            "2         0\n",
            "3         0\n",
            "4         0\n",
            "         ..\n",
            "52881    11\n",
            "52882    11\n",
            "52883    11\n",
            "52884    11\n",
            "52885    11\n",
            "Name: classification, Length: 52886, dtype: int64\n"
          ]
        }
      ]
    },
    {
      "cell_type": "markdown",
      "metadata": {
        "id": "5_jtmsZfhuWo"
      },
      "source": [
        "### Test Data"
      ]
    },
    {
      "cell_type": "code",
      "metadata": {
        "colab": {
          "base_uri": "https://localhost:8080/"
        },
        "id": "lFZxBgyxhHFg",
        "outputId": "2804bbf0-aa1d-47b9-d892-307f45a7544a"
      },
      "source": [
        "# Take a look at the test dataset + label\n",
        "\n",
        "print(X_test)\n",
        "\n",
        "print(\"==================================================\")\n",
        "\n",
        "print(y_test)"
      ],
      "execution_count": 5,
      "outputs": [
        {
          "output_type": "stream",
          "name": "stdout",
          "text": [
            "0          The conversation is so deep i saw adele rolling\n",
            "1         Lord were coo asf lol Just waiting for break ...\n",
            "2                                                   I cant\n",
            "3        These little kids talking about going to Canad...\n",
            "4                                       only would do that\n",
            "                               ...                        \n",
            "13480                           The ball hates Croatia smh\n",
            "13481                        Sexy bitch I hope she bout it\n",
            "13482    I didnt realize that my tweets were private an...\n",
            "13483                         lowkey annoyed for no reason\n",
            "13484                          appreciate it while it last\n",
            "Name: tweets, Length: 13485, dtype: object\n",
            "==================================================\n",
            "0         0\n",
            "1         0\n",
            "2         0\n",
            "3         0\n",
            "4         0\n",
            "         ..\n",
            "13480    11\n",
            "13481    11\n",
            "13482    11\n",
            "13483    11\n",
            "13484    11\n",
            "Name: classification, Length: 13485, dtype: int64\n"
          ]
        }
      ]
    },
    {
      "cell_type": "markdown",
      "metadata": {
        "id": "d2PUkJVIhxYR"
      },
      "source": [
        "### Validation Data"
      ]
    },
    {
      "cell_type": "code",
      "metadata": {
        "colab": {
          "base_uri": "https://localhost:8080/"
        },
        "id": "ScHB57PBhIzC",
        "outputId": "f0e4ebee-4c0e-463e-be74-5e9b2fc5e069"
      },
      "source": [
        "# Take a look at the validation dataset + label\n",
        "\n",
        "print(X_valid)\n",
        "\n",
        "print(\"==================================================\")\n",
        "\n",
        "print(y_valid)"
      ],
      "execution_count": 6,
      "outputs": [
        {
          "output_type": "stream",
          "name": "stdout",
          "text": [
            "0                             hahahah you guys crack me up\n",
            "1                                                  Im dead\n",
            "2                     ate girl The tweet was before TMC pa\n",
            "3        Also who wouldve thought that Will Griggs on f...\n",
            "4                             Im not fooling w you tonight\n",
            "                               ...                        \n",
            "13476    Hopefully I dont fall asleep in the toilets in...\n",
            "13477    Excited for the lake Not excited to wake up at...\n",
            "13478    mom just told me shes leaving early to go to a...\n",
            "13479          all these double shifts are killing my vibe\n",
            "13480     I love when my legs are shaved but hate shavi...\n",
            "Name: tweets, Length: 13481, dtype: object\n",
            "==================================================\n",
            "0         0\n",
            "1         0\n",
            "2         0\n",
            "3         0\n",
            "4         0\n",
            "         ..\n",
            "13476    11\n",
            "13477    11\n",
            "13478    11\n",
            "13479    11\n",
            "13480    11\n",
            "Name: classification, Length: 13481, dtype: int64\n"
          ]
        }
      ]
    },
    {
      "cell_type": "markdown",
      "metadata": {
        "id": "NlH4SAD9KOJK"
      },
      "source": [
        "# Tokenization"
      ]
    },
    {
      "cell_type": "markdown",
      "metadata": {
        "id": "asz2Z0DDhOcP"
      },
      "source": [
        "### [CLS] & [SEP] Tokens Insertion"
      ]
    },
    {
      "cell_type": "code",
      "metadata": {
        "colab": {
          "base_uri": "https://localhost:8080/"
        },
        "id": "XHuykb6jh82i",
        "outputId": "c79832b4-2368-4fc8-ec39-8e06b26aa886"
      },
      "source": [
        "# In every BERT model, we need to include the tokens [CLS] & [SEP] for every row's text\n",
        "\n",
        "# [SEP] token helps the model to understand the end of one input and the start of another input in the same sequence input.\n",
        "\n",
        "# [CLS] is a special classification token and the last hidden state of BERT corresponding to this token (h[CLS]) is used for classification tasks.\n",
        "\n",
        "sentences_train = [\"[CLS] \" + query + \" [SEP]\" for query in X_train]\n",
        "sentences_test = [\"[CLS] \" + query + \" [SEP]\" for query in X_test]\n",
        "sentences_valid = [\"[CLS] \" + query + \" [SEP]\" for query in X_valid]\n",
        "print(sentences_train[0])\n",
        "print(sentences_test[0])\n",
        "print(sentences_valid[0])"
      ],
      "execution_count": 7,
      "outputs": [
        {
          "output_type": "stream",
          "name": "stdout",
          "text": [
            "[CLS] school is so dead o my god [SEP]\n",
            "[CLS] The conversation is so deep i saw adele rolling [SEP]\n",
            "[CLS] hahahah you guys crack me up [SEP]\n"
          ]
        }
      ]
    },
    {
      "cell_type": "markdown",
      "metadata": {
        "id": "oUH-4dz3hVUL"
      },
      "source": [
        "### Tokenizing Each Sentences"
      ]
    },
    {
      "cell_type": "code",
      "metadata": {
        "colab": {
          "base_uri": "https://localhost:8080/"
        },
        "id": "okm48fs9r1eT",
        "outputId": "c8f2b7a4-c232-41e0-8fb8-7afe5f2bbaf7"
      },
      "source": [
        "# Tokenize all the sentences in the training, test, and validation datasets\n",
        "\n",
        "tokenizer = BertTokenizer.from_pretrained('bert-base-uncased')\n",
        "tokenized_texts_train = [tokenizer.tokenize(sent) for sent in sentences_train]\n",
        "tokenized_texts_test = [tokenizer.tokenize(sent) for sent in sentences_test]\n",
        "tokenized_texts_valid = [tokenizer.tokenize(sent) for sent in sentences_valid]\n",
        "print (\"Tokenize the first sentence of the training:\")\n",
        "print (tokenized_texts_train[0])\n"
      ],
      "execution_count": 8,
      "outputs": [
        {
          "output_type": "stream",
          "name": "stdout",
          "text": [
            "Tokenize the first sentence of the training:\n",
            "['[CLS]', 'school', 'is', 'so', 'dead', 'o', 'my', 'god', '[SEP]']\n"
          ]
        }
      ]
    },
    {
      "cell_type": "markdown",
      "metadata": {
        "id": "qyTIhaQXKbfY"
      },
      "source": [
        "# Text Padding"
      ]
    },
    {
      "cell_type": "code",
      "metadata": {
        "id": "nxV0ScvPV5Xr"
      },
      "source": [
        "max_token_length_train = 0\n",
        "max_token_length_test = 0\n",
        "max_token_length_valid = 0\n",
        "\n",
        "for i in range(len(tokenized_texts_train)):\n",
        "  if max_token_length_train < len(tokenized_texts_train[i]):\n",
        "    max_token_length_train = len(tokenized_texts_train[i])\n",
        "\n",
        "for i in range(len(tokenized_texts_test)):\n",
        "  if max_token_length_test < len(tokenized_texts_test[i]):\n",
        "    max_token_length_test = len(tokenized_texts_test[i])\n",
        "\n",
        "for i in range(len(tokenized_texts_valid)):\n",
        "  if max_token_length_valid < len(tokenized_texts_valid[i]):\n",
        "    max_token_length_valid = len(tokenized_texts_valid[i])"
      ],
      "execution_count": 9,
      "outputs": []
    },
    {
      "cell_type": "code",
      "metadata": {
        "colab": {
          "base_uri": "https://localhost:8080/"
        },
        "id": "vcXusXqAR7Uj",
        "outputId": "05d83065-8649-4b10-bfd9-d348b526723f"
      },
      "source": [
        "# Find out the maximum number of tokens in each sentence from the train, test, validation datasets\n",
        "\n",
        "print(\"Maximum number of tokens in each tweet from the training dataset is: \"+str(max_token_length_train))\n",
        "print(\"Maximum number of tokens in each tweet from the test dataset is: \"+str(max_token_length_test))\n",
        "print(\"Maximum number of tokens in each tweet from the validation dataset is: \"+str(max_token_length_valid))"
      ],
      "execution_count": 10,
      "outputs": [
        {
          "output_type": "stream",
          "name": "stdout",
          "text": [
            "Maximum number of tokens in each tweet from the training dataset is: 45\n",
            "Maximum number of tokens in each tweet from the test dataset is: 39\n",
            "Maximum number of tokens in each tweet from the validation dataset is: 41\n"
          ]
        }
      ]
    },
    {
      "cell_type": "code",
      "metadata": {
        "id": "JWYu-QkHrtWr"
      },
      "source": [
        "# Set the maximum sequence length (a bit higher than the max number of tokens). \n",
        "MAX_LEN = 50\n",
        "\n",
        "# Pad our input tokens\n",
        "input_ids_train = pad_sequences([tokenizer.convert_tokens_to_ids(txt) for txt in tokenized_texts_train],\n",
        "                          maxlen=MAX_LEN, dtype=\"long\", truncating=\"post\", padding=\"post\")\n",
        "\n",
        "input_ids_test = pad_sequences([tokenizer.convert_tokens_to_ids(txt) for txt in tokenized_texts_test],\n",
        "                          maxlen=MAX_LEN, dtype=\"long\", truncating=\"post\", padding=\"post\")\n",
        "\n",
        "input_ids_valid = pad_sequences([tokenizer.convert_tokens_to_ids(txt) for txt in tokenized_texts_valid],\n",
        "                          maxlen=MAX_LEN, dtype=\"long\", truncating=\"post\", padding=\"post\")\n",
        "\n",
        "# Use the BERT tokenizer to convert the tokens to their index numbers in the BERT vocabulary\n",
        "input_ids_train = [tokenizer.convert_tokens_to_ids(x) for x in tokenized_texts_train]\n",
        "input_ids_train = pad_sequences(input_ids_train, maxlen=MAX_LEN, dtype=\"long\", truncating=\"post\", padding=\"post\")\n",
        "\n",
        "input_ids_test = [tokenizer.convert_tokens_to_ids(x) for x in tokenized_texts_test]\n",
        "input_ids_test = pad_sequences(input_ids_test, maxlen=MAX_LEN, dtype=\"long\", truncating=\"post\", padding=\"post\")\n",
        "\n",
        "input_ids_valid = [tokenizer.convert_tokens_to_ids(x) for x in tokenized_texts_valid]\n",
        "input_ids_valid = pad_sequences(input_ids_valid, maxlen=MAX_LEN, dtype=\"long\", truncating=\"post\", padding=\"post\")"
      ],
      "execution_count": 11,
      "outputs": []
    },
    {
      "cell_type": "markdown",
      "metadata": {
        "id": "3khuiaokKiiG"
      },
      "source": [
        "# Finalize the data for the model"
      ]
    },
    {
      "cell_type": "code",
      "metadata": {
        "id": "n-a0FgVesaIO"
      },
      "source": [
        "train_inputs = input_ids_train\n",
        "test_inputs = input_ids_test\n",
        "validation_inputs = input_ids_valid\n",
        "\n",
        "\n",
        "train_labels = y_train\n",
        "test_labels = y_test\n",
        "validation_labels = y_valid"
      ],
      "execution_count": 12,
      "outputs": []
    },
    {
      "cell_type": "markdown",
      "metadata": {
        "id": "_NS4ek5tKm8R"
      },
      "source": [
        "# Model Preparation"
      ]
    },
    {
      "cell_type": "markdown",
      "metadata": {
        "id": "lrB5chtTg7K4"
      },
      "source": [
        "### Creating a New Model"
      ]
    },
    {
      "cell_type": "code",
      "metadata": {
        "colab": {
          "base_uri": "https://localhost:8080/"
        },
        "id": "Q_VsVo7RTtgc",
        "outputId": "11549d5d-9e39-40e6-deb6-f08459e7c139"
      },
      "source": [
        "# Add some regularization to the model to reduce overfitting\n",
        "configuration = BertConfig(hidden_dropout_prob = 0.15, num_labels=12)\n",
        "\n",
        "# Load model from pretrained model/vocabulary\n",
        "model = TFBertForSequenceClassification.from_pretrained('bert-base-uncased', config=configuration)"
      ],
      "execution_count": 13,
      "outputs": [
        {
          "output_type": "stream",
          "name": "stderr",
          "text": [
            "All model checkpoint layers were used when initializing TFBertForSequenceClassification.\n",
            "\n",
            "Some layers of TFBertForSequenceClassification were not initialized from the model checkpoint at bert-base-uncased and are newly initialized: ['classifier']\n",
            "You should probably TRAIN this model on a down-stream task to be able to use it for predictions and inference.\n"
          ]
        }
      ]
    },
    {
      "cell_type": "markdown",
      "metadata": {
        "id": "HZ32rX0ygv5i"
      },
      "source": [
        "### Optimizer + Loss Function + Metric"
      ]
    },
    {
      "cell_type": "code",
      "metadata": {
        "id": "ub9RVErujCBX"
      },
      "source": [
        "# Prepare training: \n",
        "# -. Compile tf.keras model with loss and learning rate schedule \n",
        "# -. Use AdamWeightDecay as the optimizer\n",
        "\n",
        "with tf.device('/device:GPU:0'):\n",
        "  optimizer = AdamWeightDecay(learning_rate=3e-05, epsilon=1e-08, clipnorm=1.0)\n",
        "  loss = tf.keras.losses.SparseCategoricalCrossentropy(from_logits=True)\n",
        "  metric = tf.keras.metrics.SparseCategoricalAccuracy('accuracy')\n",
        "  model.compile(optimizer=optimizer, loss=loss, metrics=[metric])"
      ],
      "execution_count": 14,
      "outputs": []
    },
    {
      "cell_type": "markdown",
      "metadata": {
        "id": "BOBZQcmtgsGJ"
      },
      "source": [
        "### Model Configuration"
      ]
    },
    {
      "cell_type": "code",
      "metadata": {
        "colab": {
          "base_uri": "https://localhost:8080/"
        },
        "id": "KmBTqSW8jSBH",
        "outputId": "1414c0eb-d244-45a3-bd62-0acace5cb9b6"
      },
      "source": [
        "# Check the configuration of the model\n",
        "\n",
        "configuration = model.config\n",
        "configuration"
      ],
      "execution_count": 15,
      "outputs": [
        {
          "output_type": "execute_result",
          "data": {
            "text/plain": [
              "BertConfig {\n",
              "  \"_name_or_path\": \"bert-base-uncased\",\n",
              "  \"attention_probs_dropout_prob\": 0.1,\n",
              "  \"classifier_dropout\": null,\n",
              "  \"hidden_act\": \"gelu\",\n",
              "  \"hidden_dropout_prob\": 0.15,\n",
              "  \"hidden_size\": 768,\n",
              "  \"id2label\": {\n",
              "    \"0\": \"LABEL_0\",\n",
              "    \"1\": \"LABEL_1\",\n",
              "    \"2\": \"LABEL_2\",\n",
              "    \"3\": \"LABEL_3\",\n",
              "    \"4\": \"LABEL_4\",\n",
              "    \"5\": \"LABEL_5\",\n",
              "    \"6\": \"LABEL_6\",\n",
              "    \"7\": \"LABEL_7\",\n",
              "    \"8\": \"LABEL_8\",\n",
              "    \"9\": \"LABEL_9\",\n",
              "    \"10\": \"LABEL_10\",\n",
              "    \"11\": \"LABEL_11\"\n",
              "  },\n",
              "  \"initializer_range\": 0.02,\n",
              "  \"intermediate_size\": 3072,\n",
              "  \"label2id\": {\n",
              "    \"LABEL_0\": 0,\n",
              "    \"LABEL_1\": 1,\n",
              "    \"LABEL_10\": 10,\n",
              "    \"LABEL_11\": 11,\n",
              "    \"LABEL_2\": 2,\n",
              "    \"LABEL_3\": 3,\n",
              "    \"LABEL_4\": 4,\n",
              "    \"LABEL_5\": 5,\n",
              "    \"LABEL_6\": 6,\n",
              "    \"LABEL_7\": 7,\n",
              "    \"LABEL_8\": 8,\n",
              "    \"LABEL_9\": 9\n",
              "  },\n",
              "  \"layer_norm_eps\": 1e-12,\n",
              "  \"max_position_embeddings\": 512,\n",
              "  \"model_type\": \"bert\",\n",
              "  \"num_attention_heads\": 12,\n",
              "  \"num_hidden_layers\": 12,\n",
              "  \"pad_token_id\": 0,\n",
              "  \"position_embedding_type\": \"absolute\",\n",
              "  \"transformers_version\": \"4.13.0.dev0\",\n",
              "  \"type_vocab_size\": 2,\n",
              "  \"use_cache\": true,\n",
              "  \"vocab_size\": 30522\n",
              "}"
            ]
          },
          "metadata": {},
          "execution_count": 15
        }
      ]
    },
    {
      "cell_type": "markdown",
      "metadata": {
        "id": "IzmAlX9IgpX6"
      },
      "source": [
        "### Model Summary"
      ]
    },
    {
      "cell_type": "code",
      "metadata": {
        "colab": {
          "base_uri": "https://localhost:8080/"
        },
        "id": "NXT6lfhQZJ57",
        "outputId": "fa05947f-868d-478e-a7ec-482143a2e25d"
      },
      "source": [
        "# Here's the summary of the model\n",
        "\n",
        "model.summary()"
      ],
      "execution_count": 16,
      "outputs": [
        {
          "output_type": "stream",
          "name": "stdout",
          "text": [
            "Model: \"tf_bert_for_sequence_classification\"\n",
            "_________________________________________________________________\n",
            " Layer (type)                Output Shape              Param #   \n",
            "=================================================================\n",
            " bert (TFBertMainLayer)      multiple                  109482240 \n",
            "                                                                 \n",
            " dropout_37 (Dropout)        multiple                  0         \n",
            "                                                                 \n",
            " classifier (Dense)          multiple                  9228      \n",
            "                                                                 \n",
            "=================================================================\n",
            "Total params: 109,491,468\n",
            "Trainable params: 109,491,468\n",
            "Non-trainable params: 0\n",
            "_________________________________________________________________\n"
          ]
        }
      ]
    },
    {
      "cell_type": "markdown",
      "metadata": {
        "id": "OxTzROejKqof"
      },
      "source": [
        "# Model Training"
      ]
    },
    {
      "cell_type": "markdown",
      "metadata": {
        "id": "yM6VcRdxgeJ0"
      },
      "source": [
        "### Training Part"
      ]
    },
    {
      "cell_type": "code",
      "metadata": {
        "colab": {
          "base_uri": "https://localhost:8080/"
        },
        "id": "9JR05w6pMvSn",
        "outputId": "e8c52c03-e3a5-455f-808d-aeb9f3420c71"
      },
      "source": [
        "# BERT can be easily overfitted, due to its model complexity.\n",
        "# So in this case, the model is trained with 2 epochs only. \n",
        "\n",
        "checkpoint_path = \"training_1/cp.ckpt\"\n",
        "checkpoint_dir = os.path.dirname(checkpoint_path)\n",
        "\n",
        "callback_1 = tf.keras.callbacks.EarlyStopping(monitor='val_loss', patience=3)\n",
        "callback_2 = tf.keras.callbacks.ModelCheckpoint(filepath=checkpoint_path,\n",
        "                                                 save_weights_only=True,\n",
        "                                                 verbose=1)\n",
        "\n",
        "history = model.fit(x=train_inputs, y=train_labels, validation_data = (validation_inputs, validation_labels), callbacks=[callback_1, callback_2], epochs = 2, batch_size=32)\n"
      ],
      "execution_count": 17,
      "outputs": [
        {
          "output_type": "stream",
          "name": "stdout",
          "text": [
            "Epoch 1/2\n",
            "1653/1653 [==============================] - ETA: 0s - loss: 2.1218 - accuracy: 0.2588\n",
            "Epoch 00001: saving model to training_1/cp.ckpt\n",
            "1653/1653 [==============================] - 408s 234ms/step - loss: 2.1218 - accuracy: 0.2588 - val_loss: 1.9950 - val_accuracy: 0.3150\n",
            "Epoch 2/2\n",
            "1653/1653 [==============================] - ETA: 0s - loss: 1.8590 - accuracy: 0.3585\n",
            "Epoch 00002: saving model to training_1/cp.ckpt\n",
            "1653/1653 [==============================] - 382s 231ms/step - loss: 1.8590 - accuracy: 0.3585 - val_loss: 1.9636 - val_accuracy: 0.3311\n"
          ]
        }
      ]
    },
    {
      "cell_type": "markdown",
      "metadata": {
        "id": "q04jscCBghmJ"
      },
      "source": [
        "### Visualization of the Model Training Result"
      ]
    },
    {
      "cell_type": "code",
      "metadata": {
        "colab": {
          "base_uri": "https://localhost:8080/",
          "height": 283
        },
        "id": "Zi13y4QgjGNc",
        "outputId": "eebd9c0d-915b-426a-dd5a-dfafcec7714c"
      },
      "source": [
        "losses = history.history['loss']\n",
        "accs = history.history['accuracy']\n",
        "val_losses = history.history['val_loss']\n",
        "val_accs = history.history['val_accuracy']\n",
        "epochs = len(losses)\n",
        "\n",
        "plt.figure(figsize=(12, 4))\n",
        "for i, metrics in enumerate(zip([losses, accs], [val_losses, val_accs], ['Loss', 'Accuracy'])):\n",
        "  plt.subplot(1, 2, i + 1)\n",
        "  plt.plot(range(epochs), metrics[0], label='Training {}'.format(metrics[2]))\n",
        "  plt.plot(range(epochs), metrics[1], label='Validation {}'.format(metrics[2]))\n",
        "  plt.legend()\n",
        "plt.show()\n",
        "plt.savefig('bert_accuracy.png')"
      ],
      "execution_count": 18,
      "outputs": [
        {
          "output_type": "display_data",
          "data": {
            "image/png": "[encoded data removed]",
            "text/plain": [
              "<Figure size 864x288 with 2 Axes>"
            ]
          },
          "metadata": {
            "needs_background": "light"
          }
        },
        {
          "output_type": "display_data",
          "data": {
            "text/plain": [
              "<Figure size 432x288 with 0 Axes>"
            ]
          },
          "metadata": {}
        }
      ]
    },
    {
      "cell_type": "markdown",
      "metadata": {
        "id": "-fA7aSC5Kt8q"
      },
      "source": [
        "# Model Evaluation"
      ]
    },
    {
      "cell_type": "markdown",
      "metadata": {
        "id": "q_-GfsWbealy"
      },
      "source": [
        "### Loss + Accuracy"
      ]
    },
    {
      "cell_type": "code",
      "metadata": {
        "colab": {
          "base_uri": "https://localhost:8080/"
        },
        "id": "e8JIDU4HsObg",
        "outputId": "a8fa9dbb-33f5-4250-ae40-83c24f6f6230"
      },
      "source": [
        "# Check out the accuracy + loss of the model using the test dataset\n",
        "\n",
        "results = model.evaluate(test_inputs, test_labels, batch_size = 32)\n",
        "\n",
        "print(\"test loss, test acc:\", results)"
      ],
      "execution_count": 19,
      "outputs": [
        {
          "output_type": "stream",
          "name": "stdout",
          "text": [
            "422/422 [==============================] - 32s 75ms/step - loss: 2.0235 - accuracy: 0.3036\n",
            "test loss, test acc: [2.023524761199951, 0.3035965859889984]\n"
          ]
        }
      ]
    },
    {
      "cell_type": "code",
      "metadata": {
        "id": "EfUUzxngA6EU"
      },
      "source": [
        "very_complex_prediction = model.predict(test_inputs).logits"
      ],
      "execution_count": 20,
      "outputs": []
    },
    {
      "cell_type": "code",
      "metadata": {
        "colab": {
          "base_uri": "https://localhost:8080/"
        },
        "id": "iuITEJUnc9AK",
        "outputId": "b1463e58-bbb4-4d46-af66-e55a70f7a61f"
      },
      "source": [
        "very_complex_prediction"
      ],
      "execution_count": 21,
      "outputs": [
        {
          "output_type": "execute_result",
          "data": {
            "text/plain": [
              "array([[ 1.5993913 ,  2.3435168 , -1.1304922 , ..., -0.9455858 ,\n",
              "        -1.1907939 ,  1.4174259 ],\n",
              "       [ 2.114253  ,  1.1061422 , -0.5637777 , ...,  0.5634389 ,\n",
              "        -0.2790711 ,  0.04761942],\n",
              "       [ 0.8898692 ,  2.6103995 , -1.482954  , ..., -0.8665365 ,\n",
              "        -1.4324207 ,  1.7890189 ],\n",
              "       ...,\n",
              "       [ 1.804895  ,  0.73668754, -1.6111457 , ..., -1.1605428 ,\n",
              "        -1.7788322 ,  2.3605096 ],\n",
              "       [ 0.92255104,  0.49445605, -1.5499611 , ..., -0.03708696,\n",
              "        -0.5545548 ,  1.6670287 ],\n",
              "       [-0.37165424, -1.4548175 , -0.7630677 , ...,  2.599243  ,\n",
              "         4.0019455 , -0.48955765]], dtype=float32)"
            ]
          },
          "metadata": {},
          "execution_count": 21
        }
      ]
    },
    {
      "cell_type": "code",
      "metadata": {
        "colab": {
          "base_uri": "https://localhost:8080/"
        },
        "id": "z2604MP1dPEZ",
        "outputId": "b16b517f-1229-47d5-d2bd-8f50d6a3e817"
      },
      "source": [
        "np.shape(very_complex_prediction)"
      ],
      "execution_count": 22,
      "outputs": [
        {
          "output_type": "execute_result",
          "data": {
            "text/plain": [
              "(13485, 12)"
            ]
          },
          "metadata": {},
          "execution_count": 22
        }
      ]
    },
    {
      "cell_type": "markdown",
      "metadata": {
        "id": "2wUSVOuxeotL"
      },
      "source": [
        "### Predicted Labels"
      ]
    },
    {
      "cell_type": "code",
      "metadata": {
        "colab": {
          "base_uri": "https://localhost:8080/"
        },
        "id": "uQYaOmSQfwCE",
        "outputId": "cf5a0784-9166-4366-c49a-d4e4b33dbc9b"
      },
      "source": [
        "# Find out the predicted label for each row by finding the index of the maximum value for each row\n",
        "\n",
        "prediction = []\n",
        "\n",
        "for i in range(len(very_complex_prediction)):\n",
        "  prediction.append(np.argmax(very_complex_prediction[i]))\n",
        "\n",
        "print(prediction)"
      ],
      "execution_count": 23,
      "outputs": [
        {
          "output_type": "stream",
          "name": "stdout",
          "text": [
            "[1, 0, 1, 7, 0, 0, 0, 7, 3, 0, 1, 10, 7, 2, 9, 2, 1, 1, 8, 8, 0, 2, 11, 1, 10, 0, 2, 9, 0, 6, 7, 11, 11, 9, 0, 10, 1, 8, 0, 6, 2, 3, 0, 0, 0, 10, 7, 11, 9, 1, 0, 2, 6, 7, 5, 2, 0, 0, 7, 5, 0, 0, 0, 5, 9, 10, 7, 11, 9, 5, 0, 2, 1, 2, 9, 3, 0, 0, 5, 5, 1, 5, 7, 10, 0, 0, 0, 3, 11, 0, 9, 0, 7, 8, 0, 3, 8, 5, 0, 0, 5, 0, 0, 11, 7, 9, 10, 11, 0, 0, 7, 0, 0, 5, 0, 0, 9, 7, 1, 2, 0, 3, 1, 0, 0, 7, 0, 1, 0, 5, 11, 7, 5, 11, 5, 0, 7, 0, 9, 0, 3, 0, 0, 9, 3, 3, 9, 7, 7, 0, 0, 0, 0, 0, 2, 0, 0, 7, 3, 1, 2, 0, 2, 11, 11, 0, 2, 1, 1, 9, 9, 11, 11, 0, 0, 3, 3, 9, 2, 0, 3, 11, 5, 0, 0, 5, 9, 8, 0, 0, 0, 7, 2, 0, 9, 0, 3, 2, 0, 10, 0, 7, 11, 5, 2, 0, 0, 0, 4, 0, 9, 5, 8, 0, 11, 2, 0, 9, 9, 0, 3, 0, 0, 8, 1, 11, 5, 5, 9, 11, 11, 2, 5, 0, 7, 0, 6, 5, 5, 0, 0, 3, 6, 0, 1, 9, 0, 0, 11, 5, 2, 9, 3, 9, 9, 2, 2, 10, 1, 0, 1, 5, 0, 7, 0, 8, 2, 5, 9, 3, 0, 10, 6, 9, 5, 7, 0, 0, 0, 5, 1, 0, 9, 1, 1, 9, 0, 10, 0, 2, 9, 1, 2, 0, 0, 7, 9, 0, 10, 0, 2, 9, 7, 3, 0, 6, 1, 0, 10, 3, 5, 1, 0, 10, 2, 7, 9, 0, 5, 10, 6, 9, 0, 0, 10, 0, 5, 0, 3, 9, 5, 2, 3, 7, 0, 1, 4, 10, 2, 0, 7, 0, 0, 0, 3, 0, 10, 9, 2, 5, 3, 7, 1, 0, 0, 4, 7, 2, 0, 3, 2, 0, 1, 0, 0, 10, 2, 7, 0, 0, 7, 2, 11, 2, 0, 0, 0, 5, 7, 3, 7, 0, 7, 0, 1, 7, 7, 11, 5, 4, 0, 0, 5, 0, 0, 9, 1, 9, 8, 3, 0, 0, 0, 0, 1, 2, 2, 9, 7, 5, 0, 0, 0, 10, 2, 7, 0, 7, 4, 9, 3, 1, 11, 0, 0, 2, 7, 0, 5, 7, 2, 0, 11, 0, 11, 9, 3, 0, 0, 0, 3, 7, 10, 1, 1, 0, 0, 4, 2, 0, 7, 5, 0, 2, 7, 0, 2, 0, 0, 3, 2, 3, 0, 0, 9, 7, 3, 2, 2, 0, 0, 7, 11, 1, 3, 7, 11, 9, 8, 8, 0, 3, 0, 0, 2, 5, 11, 5, 5, 0, 10, 8, 0, 7, 0, 2, 2, 2, 0, 0, 2, 11, 0, 2, 1, 0, 2, 11, 0, 0, 0, 2, 0, 5, 5, 0, 2, 0, 3, 9, 0, 0, 3, 10, 7, 2, 2, 1, 9, 0, 9, 7, 0, 9, 2, 2, 2, 0, 0, 0, 1, 11, 9, 5, 5, 0, 9, 6, 0, 2, 7, 10, 7, 5, 0, 7, 0, 3, 11, 10, 0, 2, 7, 9, 1, 10, 2, 3, 7, 10, 5, 10, 0, 3, 0, 3, 7, 4, 1, 0, 9, 0, 7, 9, 0, 0, 3, 2, 0, 9, 0, 7, 0, 0, 0, 3, 7, 5, 9, 4, 2, 0, 1, 11, 3, 2, 3, 0, 0, 0, 7, 0, 1, 0, 7, 6, 0, 5, 3, 2, 7, 5, 0, 9, 2, 7, 10, 0, 0, 3, 5, 7, 0, 11, 0, 11, 0, 6, 5, 5, 9, 5, 0, 1, 11, 1, 0, 7, 11, 0, 10, 3, 1, 7, 5, 7, 0, 0, 0, 0, 7, 1, 11, 0, 2, 5, 0, 7, 3, 9, 5, 0, 0, 11, 0, 0, 10, 2, 5, 1, 0, 2, 0, 3, 2, 7, 10, 2, 5, 0, 2, 6, 2, 7, 3, 7, 0, 8, 0, 0, 4, 9, 9, 0, 10, 0, 5, 4, 9, 2, 2, 0, 5, 5, 0, 0, 3, 1, 11, 10, 11, 5, 0, 5, 0, 7, 11, 7, 0, 0, 0, 5, 1, 9, 7, 2, 0, 0, 0, 9, 0, 7, 5, 7, 0, 7, 1, 1, 10, 10, 9, 10, 0, 8, 2, 7, 3, 0, 8, 9, 0, 0, 2, 11, 2, 5, 1, 0, 9, 7, 0, 0, 0, 7, 11, 2, 0, 11, 9, 3, 2, 0, 5, 5, 11, 2, 0, 0, 9, 3, 0, 7, 10, 2, 8, 11, 2, 0, 9, 5, 1, 10, 5, 2, 2, 9, 0, 0, 5, 10, 9, 7, 10, 0, 0, 9, 0, 5, 7, 11, 0, 7, 5, 5, 0, 0, 11, 0, 0, 3, 11, 0, 1, 0, 7, 0, 11, 2, 0, 5, 5, 3, 11, 11, 11, 0, 1, 2, 0, 2, 6, 7, 0, 0, 0, 5, 0, 0, 2, 9, 6, 2, 10, 0, 0, 10, 0, 2, 5, 0, 1, 0, 4, 9, 5, 7, 1, 8, 0, 7, 1, 0, 0, 2, 0, 0, 4, 0, 11, 6, 0, 1, 9, 1, 0, 2, 2, 7, 11, 1, 3, 9, 2, 0, 0, 7, 11, 5, 0, 1, 7, 1, 9, 9, 5, 7, 0, 0, 7, 0, 5, 0, 5, 7, 9, 5, 0, 0, 3, 0, 3, 0, 7, 3, 5, 2, 11, 3, 4, 5, 5, 0, 2, 11, 0, 11, 3, 0, 0, 9, 3, 8, 7, 11, 9, 1, 5, 9, 1, 3, 5, 4, 7, 0, 10, 7, 0, 1, 11, 5, 0, 8, 7, 7, 1, 10, 5, 5, 0, 1, 0, 5, 0, 0, 7, 7, 0, 0, 2, 5, 7, 10, 0, 2, 11, 9, 5, 11, 9, 3, 7, 6, 4, 2, 5, 11, 5, 9, 8, 11, 0, 9, 3, 5, 0, 0, 7, 10, 5, 1, 9, 3, 5, 0, 7, 7, 0, 2, 0, 8, 0, 9, 0, 0, 5, 10, 0, 2, 9, 10, 2, 11, 0, 0, 0, 2, 0, 5, 7, 7, 7, 0, 11, 11, 11, 8, 3, 0, 3, 2, 3, 9, 1, 0, 0, 7, 11, 0, 2, 2, 0, 2, 7, 0, 7, 7, 0, 0, 2, 0, 5, 6, 6, 11, 1, 5, 0, 0, 5, 0, 7, 0, 5, 0, 11, 1, 11, 11, 2, 5, 7, 7, 0, 2, 2, 1, 2, 11, 0, 11, 7, 9, 9, 0, 3, 5, 7, 1, 0, 8, 3, 5, 5, 0, 9, 9, 7, 8, 0, 3, 10, 2, 0, 2, 6, 0, 0, 7, 2, 5, 5, 6, 0, 5, 0, 0, 0, 10, 9, 0, 7, 3, 1, 7, 7, 10, 3, 0, 11, 9, 10, 2, 0, 3, 9, 4, 3, 1, 6, 3, 0, 0, 3, 7, 5, 0, 0, 2, 7, 7, 1, 10, 2, 2, 3, 7, 3, 9, 0, 10, 0, 8, 0, 0, 2, 9, 7, 3, 0, 10, 0, 8, 9, 10, 2, 0, 0, 0, 0, 0, 7, 9, 1, 6, 0, 0, 0, 9, 5, 5, 7, 0, 3, 7, 6, 0, 0, 1, 0, 0, 0, 2, 10, 3, 7, 0, 9, 10, 7, 9, 0, 10, 0, 0, 8, 0, 0, 5, 9, 6, 2, 5, 1, 6, 9, 0, 0, 8, 5, 9, 0, 7, 8, 9, 7, 6, 7, 10, 9, 11, 9, 0, 2, 4, 2, 3, 7, 11, 0, 0, 5, 0, 11, 10, 0, 3, 3, 10, 1, 0, 4, 5, 2, 3, 1, 5, 10, 10, 2, 3, 3, 5, 4, 7, 10, 4, 5, 0, 4, 4, 0, 0, 9, 0, 2, 10, 0, 1, 9, 11, 0, 11, 2, 2, 8, 9, 7, 0, 0, 7, 3, 9, 7, 7, 9, 9, 5, 7, 7, 0, 0, 11, 3, 0, 7, 7, 4, 4, 5, 2, 11, 3, 11, 2, 0, 0, 0, 9, 10, 2, 7, 7, 0, 7, 0, 7, 7, 9, 9, 3, 0, 9, 0, 0, 0, 10, 9, 0, 6, 0, 0, 0, 0, 11, 11, 1, 0, 7, 10, 1, 3, 7, 7, 11, 0, 7, 1, 9, 0, 5, 1, 11, 7, 2, 9, 5, 11, 8, 0, 0, 10, 1, 0, 2, 3, 0, 2, 0, 0, 1, 9, 11, 9, 11, 5, 2, 3, 0, 9, 7, 0, 1, 10, 0, 0, 7, 5, 0, 4, 0, 6, 0, 0, 0, 0, 2, 0, 5, 2, 0, 0, 2, 3, 0, 0, 2, 1, 1, 9, 1, 0, 8, 7, 0, 0, 0, 1, 1, 9, 7, 1, 7, 0, 0, 1, 5, 7, 7, 9, 11, 0, 5, 7, 0, 9, 3, 9, 0, 3, 11, 7, 7, 6, 7, 0, 9, 1, 7, 5, 7, 0, 0, 6, 0, 2, 0, 3, 7, 0, 0, 7, 3, 0, 3, 10, 5, 0, 0, 7, 7, 10, 8, 0, 0, 9, 2, 10, 7, 2, 5, 1, 11, 0, 2, 3, 0, 1, 2, 9, 2, 0, 6, 0, 9, 5, 10, 9, 0, 1, 0, 1, 2, 0, 0, 5, 2, 7, 1, 5, 1, 9, 3, 11, 5, 10, 5, 2, 4, 0, 0, 8, 0, 7, 7, 2, 0, 0, 7, 0, 11, 5, 4, 5, 0, 1, 1, 7, 10, 0, 10, 0, 0, 5, 0, 11, 0, 5, 0, 10, 5, 5, 0, 3, 1, 0, 4, 10, 8, 0, 9, 0, 10, 0, 5, 0, 3, 5, 0, 7, 3, 5, 6, 0, 0, 0, 1, 0, 0, 7, 2, 1, 3, 5, 10, 9, 1, 3, 0, 11, 9, 3, 1, 0, 0, 0, 0, 7, 11, 1, 1, 10, 0, 10, 10, 7, 0, 11, 3, 2, 9, 0, 0, 0, 1, 2, 7, 3, 0, 10, 11, 0, 7, 0, 0, 9, 0, 0, 3, 0, 11, 0, 9, 5, 11, 0, 0, 1, 3, 7, 6, 0, 7, 3, 9, 0, 3, 0, 2, 7, 4, 10, 9, 0, 9, 9, 7, 0, 10, 0, 11, 11, 5, 0, 11, 5, 0, 7, 10, 0, 9, 7, 7, 3, 2, 9, 3, 2, 11, 0, 0, 9, 3, 3, 0, 0, 0, 0, 11, 0, 2, 5, 0, 9, 5, 7, 11, 2, 0, 0, 5, 7, 4, 3, 3, 9, 9, 1, 7, 3, 2, 0, 11, 11, 5, 7, 1, 9, 2, 5, 0, 3, 2, 7, 1, 3, 0, 0, 9, 2, 0, 0, 2, 7, 8, 0, 0, 9, 7, 5, 7, 2, 5, 6, 0, 1, 0, 2, 0, 0, 2, 0, 5, 2, 5, 0, 1, 11, 9, 1, 7, 0, 1, 1, 2, 2, 1, 11, 5, 0, 1, 11, 5, 11, 7, 9, 3, 4, 0, 0, 7, 0, 4, 3, 9, 0, 11, 7, 7, 8, 6, 1, 0, 10, 11, 1, 6, 0, 1, 2, 7, 5, 9, 0, 1, 2, 6, 2, 10, 6, 6, 6, 10, 11, 7, 1, 11, 9, 7, 9, 0, 4, 0, 2, 9, 5, 8, 9, 7, 0, 3, 6, 6, 7, 0, 1, 6, 11, 2, 4, 7, 11, 3, 1, 8, 6, 7, 1, 2, 1, 8, 11, 7, 0, 0, 5, 9, 1, 6, 5, 7, 6, 1, 1, 0, 1, 1, 8, 11, 2, 3, 0, 7, 10, 0, 2, 7, 10, 0, 3, 10, 2, 0, 2, 9, 1, 3, 11, 7, 0, 0, 0, 11, 0, 9, 7, 1, 11, 2, 8, 0, 2, 11, 3, 0, 7, 11, 1, 2, 11, 2, 7, 5, 4, 3, 10, 6, 6, 1, 7, 11, 10, 2, 3, 0, 1, 1, 2, 9, 6, 6, 8, 9, 1, 11, 5, 5, 1, 5, 0, 6, 2, 3, 10, 3, 4, 0, 7, 10, 0, 6, 0, 3, 2, 0, 5, 0, 2, 8, 2, 2, 6, 0, 11, 0, 0, 7, 6, 11, 2, 0, 11, 3, 11, 0, 3, 7, 1, 6, 0, 7, 1, 7, 9, 0, 3, 0, 1, 7, 6, 0, 1, 1, 1, 2, 1, 1, 0, 0, 4, 1, 7, 0, 1, 3, 0, 1, 1, 4, 0, 2, 2, 4, 6, 11, 6, 5, 6, 6, 1, 0, 5, 8, 7, 9, 7, 0, 5, 7, 0, 3, 2, 1, 4, 0, 2, 2, 6, 10, 11, 0, 11, 1, 2, 1, 11, 2, 0, 8, 6, 11, 0, 6, 0, 0, 7, 2, 7, 2, 8, 1, 1, 0, 2, 11, 1, 11, 9, 6, 0, 1, 1, 11, 8, 6, 3, 1, 8, 1, 6, 6, 2, 9, 1, 4, 5, 11, 6, 6, 1, 6, 7, 6, 2, 4, 0, 1, 5, 8, 3, 4, 1, 0, 0, 11, 2, 0, 1, 1, 11, 8, 1, 11, 3, 7, 11, 6, 11, 6, 6, 9, 3, 9, 2, 0, 9, 1, 2, 6, 1, 6, 2, 7, 11, 8, 0, 10, 2, 1, 2, 7, 11, 3, 0, 0, 1, 6, 0, 9, 0, 11, 2, 0, 10, 7, 10, 0, 2, 2, 2, 1, 8, 6, 3, 1, 5, 0, 3, 3, 7, 2, 0, 0, 1, 6, 8, 3, 6, 8, 6, 0, 2, 0, 1, 7, 2, 2, 7, 2, 11, 2, 3, 0, 0, 1, 0, 0, 7, 1, 2, 8, 1, 6, 1, 1, 2, 3, 11, 9, 1, 6, 9, 0, 1, 1, 4, 4, 0, 5, 0, 2, 4, 0, 10, 5, 4, 3, 3, 3, 6, 10, 5, 1, 0, 0, 6, 7, 0, 2, 11, 3, 1, 7, 2, 0, 8, 0, 1, 2, 9, 2, 1, 7, 8, 3, 7, 9, 9, 2, 4, 4, 3, 6, 2, 9, 0, 5, 0, 3, 8, 0, 0, 10, 6, 1, 0, 0, 0, 9, 0, 11, 6, 2, 11, 6, 1, 2, 7, 11, 1, 8, 0, 8, 0, 2, 0, 0, 6, 8, 11, 5, 1, 9, 2, 2, 0, 0, 10, 1, 0, 8, 6, 6, 11, 5, 4, 5, 1, 0, 0, 2, 3, 0, 11, 5, 0, 6, 1, 0, 2, 11, 5, 11, 5, 11, 1, 5, 3, 0, 2, 6, 6, 6, 7, 0, 3, 1, 11, 6, 3, 7, 0, 5, 9, 11, 3, 2, 0, 5, 6, 7, 11, 1, 1, 7, 1, 1, 1, 2, 6, 6, 0, 11, 7, 2, 7, 9, 9, 8, 2, 1, 0, 3, 11, 1, 6, 5, 7, 1, 5, 0, 2, 0, 1, 1, 1, 0, 7, 3, 0, 5, 9, 1, 1, 6, 0, 4, 4, 11, 11, 8, 2, 6, 1, 0, 5, 3, 10, 7, 7, 11, 0, 6, 6, 2, 2, 6, 5, 0, 6, 7, 2, 10, 2, 6, 9, 0, 7, 6, 6, 11, 5, 1, 11, 0, 1, 1, 0, 3, 1, 0, 6, 4, 11, 0, 1, 3, 7, 5, 9, 1, 10, 11, 0, 5, 0, 3, 9, 1, 2, 11, 0, 2, 7, 2, 6, 2, 1, 8, 1, 1, 9, 2, 11, 11, 2, 6, 2, 1, 11, 2, 0, 2, 2, 0, 1, 6, 7, 6, 1, 5, 8, 0, 3, 0, 11, 3, 0, 0, 6, 5, 0, 1, 2, 3, 6, 5, 2, 8, 6, 0, 0, 6, 4, 5, 0, 6, 6, 8, 1, 2, 3, 10, 5, 11, 0, 1, 1, 5, 1, 0, 6, 2, 2, 0, 11, 7, 2, 6, 6, 1, 1, 11, 1, 0, 3, 4, 6, 1, 2, 5, 6, 1, 7, 3, 2, 10, 9, 11, 1, 0, 7, 11, 1, 3, 1, 10, 1, 1, 6, 0, 3, 6, 6, 6, 2, 4, 2, 1, 10, 1, 2, 6, 7, 1, 2, 10, 1, 1, 6, 3, 6, 6, 3, 1, 2, 7, 0, 9, 1, 3, 2, 0, 2, 5, 7, 3, 1, 5, 9, 3, 0, 1, 0, 0, 0, 3, 5, 10, 0, 11, 11, 9, 10, 3, 0, 1, 10, 0, 1, 11, 9, 5, 0, 3, 0, 9, 0, 0, 0, 1, 2, 2, 11, 2, 0, 7, 11, 6, 3, 6, 6, 0, 7, 2, 0, 6, 1, 0, 0, 0, 0, 11, 6, 0, 1, 6, 11, 2, 7, 5, 1, 0, 1, 5, 9, 8, 7, 2, 2, 11, 9, 2, 0, 1, 0, 0, 2, 0, 8, 3, 6, 7, 2, 0, 1, 0, 9, 10, 0, 2, 0, 8, 0, 4, 11, 9, 6, 0, 6, 0, 4, 1, 11, 0, 1, 1, 7, 1, 0, 6, 0, 0, 0, 2, 6, 6, 2, 9, 1, 6, 0, 7, 2, 3, 7, 11, 1, 11, 6, 0, 9, 11, 0, 1, 1, 1, 6, 3, 11, 11, 5, 3, 3, 3, 3, 2, 0, 1, 2, 3, 7, 0, 7, 0, 6, 7, 6, 1, 2, 0, 0, 11, 0, 2, 2, 11, 7, 1, 0, 2, 1, 6, 0, 1, 1, 0, 11, 6, 1, 1, 1, 5, 4, 7, 7, 0, 11, 2, 9, 0, 11, 9, 0, 1, 1, 8, 0, 3, 0, 2, 0, 10, 9, 11, 3, 3, 1, 3, 11, 7, 0, 2, 0, 0, 9, 0, 7, 3, 9, 11, 9, 11, 11, 1, 2, 2, 3, 9, 7, 8, 0, 7, 6, 6, 3, 0, 2, 0, 3, 1, 11, 11, 7, 1, 1, 6, 1, 1, 7, 9, 6, 6, 8, 2, 11, 6, 9, 6, 0, 1, 1, 5, 2, 1, 5, 8, 4, 11, 9, 5, 0, 9, 0, 7, 6, 3, 0, 8, 1, 2, 4, 1, 3, 1, 2, 1, 6, 6, 0, 0, 9, 1, 2, 4, 2, 4, 9, 0, 10, 2, 11, 5, 3, 1, 6, 11, 5, 7, 2, 7, 11, 6, 2, 0, 8, 3, 5, 1, 0, 2, 0, 10, 1, 5, 2, 0, 3, 0, 2, 11, 9, 6, 2, 5, 7, 6, 2, 2, 4, 6, 3, 7, 0, 1, 4, 2, 0, 3, 0, 6, 1, 1, 1, 0, 11, 2, 8, 7, 2, 8, 0, 7, 11, 11, 3, 3, 1, 0, 2, 2, 0, 0, 11, 2, 2, 10, 11, 11, 1, 1, 11, 2, 11, 9, 6, 1, 7, 2, 0, 11, 2, 3, 2, 5, 0, 11, 2, 0, 1, 2, 3, 6, 1, 1, 4, 5, 2, 3, 3, 0, 1, 1, 6, 5, 1, 1, 11, 0, 5, 5, 8, 2, 5, 2, 5, 2, 1, 1, 0, 0, 2, 1, 2, 2, 0, 3, 8, 2, 8, 0, 2, 5, 7, 6, 1, 1, 3, 9, 0, 0, 1, 0, 0, 1, 0, 3, 7, 0, 6, 2, 3, 6, 5, 3, 2, 5, 11, 0, 11, 0, 9, 0, 11, 0, 0, 2, 1, 7, 2, 1, 2, 0, 0, 3, 1, 0, 5, 9, 11, 0, 0, 0, 0, 1, 1, 3, 2, 0, 2, 6, 7, 0, 0, 0, 1, 10, 6, 7, 7, 1, 0, 9, 1, 0, 6, 9, 1, 1, 0, 1, 5, 0, 2, 7, 1, 0, 6, 1, 8, 2, 3, 4, 6, 9, 0, 9, 6, 6, 5, 11, 3, 11, 9, 1, 6, 0, 1, 6, 11, 7, 10, 6, 11, 2, 5, 0, 6, 1, 9, 7, 1, 0, 5, 2, 11, 1, 3, 8, 0, 5, 0, 9, 8, 11, 7, 0, 5, 0, 6, 7, 6, 5, 1, 6, 1, 9, 0, 10, 0, 10, 9, 0, 1, 0, 4, 6, 9, 2, 2, 2, 6, 11, 7, 1, 11, 5, 5, 0, 0, 9, 1, 5, 4, 1, 0, 1, 2, 0, 6, 2, 11, 1, 11, 6, 11, 1, 2, 2, 5, 1, 9, 11, 0, 0, 6, 2, 6, 2, 0, 7, 4, 0, 8, 1, 0, 11, 1, 1, 1, 0, 1, 2, 5, 1, 6, 11, 0, 0, 2, 11, 0, 6, 7, 11, 1, 6, 5, 6, 6, 0, 10, 6, 0, 1, 1, 8, 0, 0, 0, 3, 0, 0, 1, 3, 9, 10, 0, 10, 3, 6, 11, 2, 6, 4, 3, 0, 3, 0, 1, 8, 0, 0, 2, 0, 5, 2, 2, 5, 4, 2, 4, 8, 2, 2, 2, 2, 2, 8, 5, 7, 2, 8, 9, 11, 5, 2, 2, 2, 0, 11, 2, 6, 2, 5, 9, 2, 9, 2, 5, 2, 8, 5, 2, 8, 2, 7, 2, 2, 8, 2, 7, 2, 5, 2, 9, 2, 2, 7, 5, 2, 9, 5, 2, 2, 4, 0, 2, 7, 1, 8, 5, 6, 5, 5, 5, 2, 8, 4, 2, 2, 2, 5, 4, 2, 2, 2, 8, 8, 2, 2, 2, 4, 2, 2, 6, 5, 8, 2, 2, 2, 5, 9, 2, 2, 4, 5, 2, 2, 2, 2, 2, 2, 2, 2, 2, 9, 8, 2, 2, 2, 2, 2, 8, 5, 4, 2, 7, 2, 8, 8, 5, 8, 2, 2, 2, 8, 2, 2, 2, 2, 4, 2, 2, 8, 0, 2, 8, 7, 9, 2, 8, 5, 10, 2, 2, 5, 2, 0, 2, 2, 2, 2, 2, 2, 7, 5, 5, 4, 2, 2, 2, 8, 2, 9, 2, 2, 5, 2, 8, 10, 8, 2, 2, 2, 8, 0, 2, 8, 5, 5, 2, 9, 5, 4, 2, 9, 2, 2, 5, 9, 2, 2, 5, 0, 5, 9, 0, 2, 2, 2, 2, 2, 2, 2, 2, 1, 11, 2, 2, 9, 8, 2, 2, 2, 0, 1, 7, 1, 3, 5, 2, 2, 9, 2, 5, 2, 2, 2, 2, 2, 7, 7, 2, 4, 1, 2, 2, 2, 2, 5, 5, 8, 11, 8, 11, 9, 5, 9, 7, 5, 2, 0, 4, 2, 5, 2, 2, 2, 0, 9, 2, 5, 2, 8, 4, 9, 2, 2, 2, 9, 0, 4, 2, 2, 5, 11, 2, 4, 2, 9, 4, 5, 7, 5, 4, 2, 5, 9, 8, 2, 9, 2, 0, 2, 2, 4, 2, 3, 11, 2, 2, 5, 2, 0, 8, 5, 2, 1, 2, 2, 4, 5, 10, 2, 2, 4, 2, 2, 5, 2, 11, 0, 2, 2, 2, 2, 8, 1, 2, 2, 2, 2, 2, 4, 2, 2, 2, 4, 7, 2, 11, 2, 5, 1, 0, 8, 2, 5, 5, 2, 8, 4, 2, 2, 0, 9, 2, 2, 2, 2, 2, 8, 2, 8, 2, 5, 2, 0, 2, 9, 2, 2, 5, 2, 5, 8, 5, 2, 5, 2, 9, 2, 9, 0, 8, 0, 5, 9, 5, 6, 9, 2, 10, 10, 2, 2, 9, 2, 2, 2, 2, 2, 9, 9, 4, 2, 2, 5, 2, 2, 8, 2, 2, 2, 2, 2, 8, 2, 7, 2, 2, 2, 9, 4, 9, 2, 1, 4, 2, 3, 5, 2, 2, 2, 8, 2, 2, 11, 2, 2, 5, 2, 2, 4, 2, 9, 2, 2, 2, 2, 2, 2, 2, 2, 5, 7, 2, 5, 5, 2, 2, 2, 2, 5, 10, 2, 2, 6, 7, 2, 5, 8, 8, 2, 5, 8, 2, 9, 2, 2, 8, 2, 2, 5, 9, 8, 4, 2, 5, 5, 8, 2, 5, 9, 0, 2, 2, 2, 2, 0, 2, 2, 2, 11, 2, 8, 2, 2, 2, 4, 8, 1, 10, 3, 8, 0, 8, 2, 2, 5, 2, 2, 8, 2, 2, 9, 4, 2, 2, 4, 8, 0, 2, 0, 5, 2, 2, 4, 5, 7, 5, 6, 2, 2, 2, 2, 0, 2, 9, 2, 2, 2, 5, 2, 2, 2, 11, 4, 2, 2, 7, 5, 2, 2, 0, 6, 2, 2, 8, 4, 4, 2, 0, 2, 11, 5, 5, 4, 0, 2, 2, 5, 2, 2, 10, 2, 4, 8, 6, 2, 2, 5, 5, 2, 2, 4, 2, 2, 2, 2, 5, 4, 2, 4, 1, 2, 2, 2, 2, 6, 2, 2, 4, 2, 2, 2, 4, 5, 2, 0, 2, 5, 2, 1, 2, 2, 7, 2, 2, 6, 4, 2, 8, 0, 1, 2, 2, 2, 1, 4, 7, 2, 2, 2, 9, 2, 8, 10, 2, 0, 2, 2, 2, 5, 2, 2, 4, 0, 2, 9, 2, 5, 2, 5, 2, 2, 5, 7, 0, 2, 2, 1, 4, 8, 2, 2, 2, 2, 5, 6, 5, 10, 0, 2, 9, 2, 2, 9, 1, 2, 5, 2, 6, 2, 4, 5, 0, 4, 8, 2, 5, 2, 2, 2, 6, 9, 2, 2, 5, 5, 2, 9, 2, 2, 2, 2, 2, 7, 2, 9, 2, 0, 2, 2, 2, 0, 2, 8, 2, 2, 2, 2, 2, 1, 5, 2, 2, 2, 2, 9, 2, 2, 2, 9, 7, 2, 5, 0, 2, 2, 5, 2, 2, 2, 2, 2, 8, 5, 7, 2, 2, 2, 2, 2, 8, 2, 2, 4, 2, 9, 7, 4, 0, 2, 2, 5, 5, 2, 0, 2, 2, 1, 2, 2, 9, 8, 2, 5, 8, 2, 10, 2, 4, 2, 2, 11, 4, 2, 8, 8, 2, 2, 2, 2, 2, 5, 11, 2, 8, 2, 7, 4, 9, 2, 2, 2, 9, 9, 2, 10, 2, 2, 2, 2, 4, 9, 2, 4, 5, 2, 4, 2, 9, 2, 2, 2, 0, 2, 5, 2, 2, 2, 2, 2, 2, 2, 2, 8, 2, 9, 2, 2, 9, 2, 5, 2, 2, 2, 2, 2, 2, 2, 5, 2, 2, 2, 5, 2, 2, 10, 2, 2, 6, 2, 2, 2, 2, 2, 4, 2, 0, 11, 0, 5, 2, 4, 2, 5, 5, 2, 2, 4, 2, 2, 5, 1, 9, 2, 9, 8, 0, 2, 2, 10, 9, 2, 0, 2, 5, 2, 8, 2, 4, 4, 2, 2, 8, 6, 0, 2, 5, 0, 2, 9, 5, 2, 0, 2, 2, 2, 2, 2, 2, 2, 2, 8, 2, 9, 5, 0, 2, 2, 8, 2, 7, 2, 6, 2, 2, 2, 2, 2, 3, 6, 5, 2, 0, 5, 5, 2, 2, 2, 8, 2, 5, 4, 8, 5, 8, 2, 5, 2, 2, 2, 5, 2, 5, 4, 0, 9, 2, 2, 2, 7, 2, 0, 8, 6, 2, 2, 5, 0, 2, 2, 2, 2, 7, 2, 2, 2, 0, 9, 8, 5, 8, 2, 2, 4, 2, 1, 0, 3, 8, 5, 2, 9, 2, 2, 5, 2, 2, 2, 4, 7, 2, 2, 2, 9, 2, 5, 2, 2, 2, 2, 2, 2, 2, 9, 2, 2, 2, 1, 2, 5, 2, 5, 2, 7, 2, 7, 9, 2, 2, 2, 2, 2, 2, 9, 2, 2, 2, 7, 2, 6, 5, 5, 1, 5, 0, 0, 2, 9, 2, 2, 2, 2, 2, 2, 0, 2, 2, 9, 7, 2, 1, 2, 2, 11, 11, 10, 0, 9, 11, 3, 9, 2, 10, 11, 11, 7, 10, 6, 11, 1, 5, 0, 11, 7, 5, 2, 3, 7, 0, 1, 5, 7, 3, 8, 7, 0, 0, 1, 0, 3, 0, 3, 5, 6, 5, 0, 9, 1, 7, 7, 11, 7, 6, 1, 11, 7, 10, 6, 0, 3, 3, 6, 6, 3, 2, 2, 11, 3, 2, 3, 4, 10, 3, 1, 5, 0, 3, 0, 10, 7, 0, 3, 2, 6, 0, 0, 11, 6, 0, 11, 3, 7, 5, 3, 11, 6, 8, 3, 1, 5, 3, 0, 3, 0, 0, 0, 0, 0, 0, 7, 9, 11, 6, 1, 11, 7, 0, 11, 5, 7, 11, 6, 10, 1, 6, 5, 11, 0, 5, 3, 0, 0, 1, 0, 3, 6, 0, 10, 3, 0, 0, 11, 6, 5, 0, 3, 0, 7, 3, 2, 11, 10, 6, 0, 11, 7, 3, 3, 9, 7, 11, 1, 0, 7, 7, 0, 7, 0, 0, 3, 11, 7, 5, 9, 11, 3, 0, 11, 0, 11, 2, 2, 10, 3, 5, 6, 0, 3, 7, 3, 11, 3, 5, 6, 1, 11, 9, 0, 7, 5, 3, 11, 5, 7, 11, 11, 0, 0, 2, 7, 0, 0, 3, 2, 7, 1, 11, 7, 6, 3, 3, 5, 9, 5, 7, 0, 1, 7, 11, 10, 0, 10, 9, 7, 9, 2, 3, 11, 3, 6, 3, 10, 2, 2, 3, 11, 3, 10, 7, 7, 3, 3, 7, 11, 3, 0, 11, 1, 7, 3, 5, 9, 6, 6, 6, 2, 5, 0, 11, 11, 5, 10, 9, 10, 11, 7, 11, 11, 3, 5, 3, 2, 9, 7, 1, 8, 3, 3, 11, 5, 11, 7, 3, 6, 8, 1, 7, 0, 11, 3, 0, 0, 3, 0, 0, 11, 2, 0, 3, 2, 1, 3, 10, 9, 0, 0, 3, 0, 10, 0, 0, 7, 10, 0, 11, 3, 10, 9, 0, 3, 11, 11, 3, 3, 11, 7, 0, 3, 10, 0, 2, 1, 0, 5, 0, 1, 1, 6, 1, 10, 10, 11, 9, 3, 10, 0, 7, 5, 1, 10, 7, 5, 0, 7, 3, 6, 1, 11, 2, 0, 10, 0, 11, 9, 9, 3, 2, 3, 3, 3, 2, 0, 2, 1, 6, 9, 0, 10, 3, 0, 2, 9, 1, 0, 2, 0, 11, 11, 5, 10, 0, 3, 1, 1, 3, 11, 1, 0, 11, 0, 0, 11, 11, 3, 3, 3, 7, 8, 0, 11, 0, 11, 7, 3, 0, 3, 3, 3, 3, 3, 0, 5, 5, 0, 11, 5, 3, 11, 6, 11, 3, 0, 0, 5, 1, 2, 0, 7, 11, 0, 3, 7, 11, 8, 6, 2, 10, 7, 9, 3, 3, 6, 0, 3, 0, 3, 1, 7, 6, 3, 7, 3, 3, 2, 9, 0, 2, 9, 0, 2, 0, 3, 0, 3, 6, 6, 6, 0, 3, 7, 11, 0, 0, 10, 10, 0, 3, 2, 9, 2, 1, 7, 0, 3, 0, 0, 7, 1, 3, 1, 7, 3, 11, 7, 7, 1, 3, 0, 6, 4, 7, 2, 5, 3, 6, 9, 0, 11, 11, 7, 7, 0, 3, 11, 9, 3, 0, 11, 11, 11, 0, 11, 1, 3, 6, 5, 3, 10, 10, 3, 6, 10, 11, 0, 1, 9, 5, 7, 9, 0, 9, 0, 0, 9, 3, 11, 9, 11, 2, 0, 7, 7, 5, 3, 2, 5, 5, 0, 1, 3, 11, 7, 3, 11, 1, 2, 2, 11, 1, 0, 1, 3, 1, 0, 10, 10, 7, 3, 11, 3, 5, 0, 0, 1, 2, 7, 1, 10, 3, 6, 6, 0, 0, 0, 1, 3, 3, 7, 1, 3, 11, 5, 11, 9, 10, 2, 2, 11, 3, 5, 0, 9, 10, 9, 11, 11, 7, 7, 10, 3, 1, 11, 11, 7, 0, 3, 11, 8, 0, 10, 2, 11, 0, 5, 11, 6, 3, 11, 2, 0, 3, 2, 10, 3, 6, 6, 7, 0, 11, 2, 9, 0, 3, 0, 3, 2, 11, 5, 7, 0, 6, 5, 5, 3, 9, 6, 3, 11, 3, 9, 5, 7, 1, 6, 11, 6, 6, 3, 0, 10, 3, 9, 1, 0, 7, 1, 1, 7, 1, 1, 5, 3, 0, 3, 2, 8, 3, 11, 4, 6, 11, 8, 11, 1, 3, 7, 3, 3, 7, 6, 9, 0, 0, 6, 1, 2, 11, 7, 3, 0, 10, 10, 0, 5, 9, 3, 0, 2, 6, 3, 6, 3, 7, 3, 6, 6, 7, 10, 10, 10, 11, 3, 6, 0, 3, 3, 3, 1, 9, 3, 3, 10, 11, 1, 3, 11, 3, 9, 9, 6, 3, 9, 0, 3, 7, 6, 6, 7, 0, 3, 6, 3, 5, 5, 3, 6, 2, 0, 2, 0, 6, 3, 10, 9, 1, 10, 3, 11, 7, 11, 10, 5, 7, 7, 5, 2, 11, 7, 9, 10, 6, 11, 10, 7, 3, 1, 11, 3, 0, 0, 10, 11, 0, 6, 1, 11, 0, 1, 11, 9, 0, 11, 3, 5, 3, 7, 1, 7, 7, 0, 3, 3, 3, 7, 0, 2, 5, 11, 3, 5, 3, 7, 5, 7, 1, 3, 1, 3, 9, 3, 3, 6, 11, 1, 7, 11, 6, 1, 2, 3, 0, 11, 2, 2, 7, 11, 10, 11, 11, 6, 3, 0, 0, 11, 11, 3, 3, 11, 10, 10, 6, 0, 6, 6, 11, 0, 3, 3, 6, 5, 7, 0, 11, 11, 6, 8, 6, 6, 2, 7, 6, 0, 2, 7, 1, 6, 0, 11, 5, 3, 0, 3, 2, 6, 11, 1, 0, 3, 3, 8, 3, 11, 2, 0, 6, 6, 10, 0, 3, 11, 11, 2, 5, 11, 7, 1, 9, 7, 2, 2, 6, 9, 6, 3, 9, 1, 6, 5, 11, 5, 0, 5, 11, 7, 3, 11, 0, 3, 6, 5, 11, 6, 7, 3, 3, 6, 11, 3, 0, 6, 3, 0, 0, 0, 3, 5, 11, 0, 0, 0, 7, 3, 3, 3, 9, 0, 5, 6, 0, 3, 0, 3, 5, 3, 5, 9, 11, 9, 3, 3, 5, 11, 0, 3, 3, 11, 10, 9, 11, 3, 0, 3, 11, 11, 3, 3, 3, 8, 5, 3, 6, 9, 11, 2, 11, 7, 11, 11, 11, 5, 1, 0, 5, 0, 7, 11, 0, 2, 3, 11, 5, 11, 0, 1, 10, 0, 3, 5, 7, 0, 2, 6, 0, 3, 11, 5, 9, 1, 0, 11, 0, 3, 3, 0, 0, 9, 6, 0, 0, 9, 6, 11, 6, 2, 11, 3, 3, 0, 0, 6, 3, 7, 3, 2, 11, 1, 0, 5, 3, 2, 7, 0, 6, 0, 0, 7, 8, 11, 3, 9, 10, 11, 0, 1, 11, 11, 6, 3, 1, 0, 11, 7, 6, 9, 5, 10, 5, 1, 7, 0, 0, 4, 10, 0, 9, 11, 3, 10, 2, 9, 10, 6, 3, 5, 6, 0, 7, 7, 3, 5, 11, 0, 0, 7, 10, 11, 7, 10, 1, 9, 3, 11, 0, 6, 11, 9, 3, 11, 11, 2, 3, 3, 10, 11, 11, 0, 9, 6, 0, 11, 6, 11, 1, 6, 0, 3, 5, 6, 6, 3, 9, 11, 0, 5, 0, 6, 2, 5, 10, 6, 7, 1, 0, 11, 6, 10, 3, 6, 5, 4, 4, 8, 2, 9, 2, 4, 4, 10, 8, 8, 10, 0, 8, 9, 4, 8, 9, 8, 2, 8, 4, 4, 4, 4, 8, 2, 4, 3, 5, 5, 8, 5, 7, 2, 5, 4, 5, 4, 8, 4, 5, 10, 8, 4, 4, 5, 1, 8, 8, 5, 4, 8, 4, 2, 4, 4, 4, 5, 9, 5, 3, 5, 5, 8, 2, 2, 8, 4, 5, 2, 5, 4, 0, 4, 1, 4, 4, 10, 8, 5, 4, 0, 9, 5, 2, 8, 5, 2, 0, 8, 8, 4, 2, 8, 7, 9, 8, 8, 4, 4, 1, 2, 5, 8, 4, 8, 7, 8, 4, 4, 4, 10, 0, 2, 7, 5, 10, 8, 2, 5, 1, 8, 4, 2, 4, 4, 8, 11, 8, 8, 4, 6, 4, 8, 2, 2, 2, 8, 10, 8, 5, 5, 4, 4, 9, 4, 4, 4, 4, 4, 2, 5, 4, 8, 8, 4, 5, 5, 2, 8, 5, 4, 8, 9, 10, 10, 11, 4, 5, 2, 5, 9, 9, 4, 5, 4, 5, 4, 8, 9, 2, 8, 5, 5, 7, 5, 5, 5, 5, 9, 4, 4, 5, 8, 4, 4, 9, 2, 9, 4, 5, 9, 0, 2, 5, 1, 4, 4, 5, 4, 8, 0, 4, 5, 2, 9, 4, 2, 8, 9, 2, 8, 5, 2, 5, 2, 5, 4, 4, 1, 8, 5, 2, 4, 5, 5, 0, 11, 5, 4, 4, 4, 4, 4, 3, 8, 7, 8, 4, 4, 9, 4, 2, 2, 0, 2, 10, 5, 5, 10, 8, 5, 2, 8, 2, 8, 5, 4, 4, 2, 2, 4, 4, 9, 4, 11, 5, 4, 9, 8, 5, 2, 8, 2, 2, 7, 4, 7, 5, 5, 5, 5, 2, 11, 5, 4, 5, 5, 8, 8, 5, 9, 8, 4, 8, 5, 4, 5, 4, 8, 1, 8, 9, 9, 10, 4, 2, 8, 8, 4, 9, 8, 10, 8, 2, 8, 8, 4, 2, 5, 4, 4, 4, 5, 4, 7, 8, 4, 8, 2, 8, 4, 5, 8, 5, 4, 0, 2, 10, 8, 2, 8, 1, 4, 4, 5, 1, 0, 0, 8, 8, 8, 9, 8, 4, 8, 8, 5, 4, 4, 5, 5, 1, 8, 2, 5, 4, 0, 5, 4, 9, 2, 2, 4, 5, 8, 4, 8, 2, 5, 2, 2, 2, 2, 5, 5, 9, 4, 4, 2, 9, 5, 5, 9, 4, 2, 10, 5, 8, 8, 4, 2, 2, 0, 4, 5, 5, 5, 5, 2, 4, 9, 2, 4, 2, 5, 8, 4, 5, 5, 9, 0, 8, 4, 2, 4, 8, 5, 4, 4, 8, 10, 2, 8, 4, 5, 8, 10, 4, 4, 8, 8, 0, 2, 2, 4, 4, 5, 4, 4, 2, 5, 5, 4, 4, 5, 5, 4, 10, 5, 10, 4, 8, 8, 8, 5, 11, 2, 2, 8, 0, 5, 5, 4, 8, 4, 8, 2, 5, 9, 8, 0, 8, 2, 2, 4, 4, 5, 1, 8, 2, 8, 4, 8, 9, 8, 4, 11, 2, 0, 9, 4, 9, 5, 8, 8, 4, 5, 4, 4, 5, 4, 4, 2, 2, 5, 5, 2, 8, 4, 2, 7, 8, 8, 8, 4, 8, 5, 2, 4, 2, 11, 5, 4, 2, 8, 5, 11, 4, 4, 4, 8, 8, 2, 5, 2, 9, 8, 2, 2, 4, 4, 4, 8, 2, 8, 10, 2, 4, 4, 4, 2, 4, 4, 2, 2, 4, 2, 5, 2, 4, 5, 5, 2, 1, 5, 4, 5, 10, 8, 5, 5, 5, 5, 0, 2, 4, 4, 11, 2, 4, 4, 0, 5, 0, 5, 2, 5, 4, 6, 4, 11, 8, 4, 4, 0, 8, 10, 4, 4, 4, 11, 8, 2, 8, 5, 4, 10, 2, 4, 8, 5, 8, 7, 0, 4, 4, 4, 4, 0, 10, 4, 5, 4, 2, 8, 0, 8, 8, 5, 8, 4, 8, 4, 9, 5, 8, 0, 5, 8, 2, 5, 0, 10, 10, 2, 0, 8, 5, 11, 5, 5, 8, 5, 4, 4, 5, 5, 4, 5, 4, 4, 2, 2, 2, 8, 5, 2, 4, 8, 4, 9, 5, 8, 4, 4, 5, 2, 2, 2, 6, 4, 10, 4, 2, 2, 4, 8, 9, 4, 8, 2, 2, 0, 4, 8, 9, 2, 9, 2, 8, 1, 4, 0, 4, 7, 2, 4, 4, 5, 2, 9, 5, 5, 8, 5, 5, 9, 4, 11, 2, 9, 8, 3, 0, 5, 2, 7, 5, 2, 8, 2, 11, 11, 5, 5, 10, 0, 9, 5, 8, 5, 2, 0, 5, 5, 8, 5, 8, 5, 4, 5, 9, 8, 5, 0, 2, 0, 5, 8, 5, 7, 5, 7, 1, 4, 10, 5, 9, 0, 8, 10, 5, 9, 5, 9, 5, 9, 5, 10, 2, 4, 5, 9, 10, 7, 11, 2, 2, 7, 5, 0, 4, 0, 8, 5, 5, 0, 5, 8, 5, 2, 9, 5, 8, 3, 8, 2, 11, 5, 5, 1, 5, 7, 1, 5, 0, 2, 5, 5, 10, 8, 4, 8, 8, 5, 8, 8, 9, 2, 10, 10, 5, 5, 4, 5, 5, 2, 5, 0, 5, 0, 5, 10, 9, 5, 3, 1, 8, 11, 8, 5, 10, 5, 5, 5, 5, 0, 5, 8, 5, 0, 9, 6, 7, 4, 2, 5, 4, 10, 8, 2, 2, 3, 5, 5, 6, 5, 8, 8, 1, 6, 0, 5, 5, 5, 2, 2, 9, 8, 5, 0, 5, 4, 5, 7, 2, 5, 9, 0, 11, 4, 10, 3, 8, 2, 8, 5, 8, 7, 5, 11, 11, 5, 2, 5, 5, 10, 8, 9, 8, 8, 11, 9, 8, 5, 8, 5, 0, 5, 5, 5, 6, 5, 10, 5, 2, 9, 2, 5, 5, 5, 3, 5, 11, 5, 5, 5, 4, 8, 9, 10, 7, 5, 3, 2, 2, 5, 8, 5, 5, 0, 5, 0, 11, 5, 2, 8, 4, 3, 5, 7, 9, 2, 5, 2, 2, 0, 6, 5, 5, 9, 5, 5, 5, 9, 4, 5, 2, 2, 10, 5, 5, 5, 5, 8, 10, 8, 2, 2, 5, 7, 5, 3, 3, 8, 2, 0, 2, 5, 11, 5, 9, 6, 5, 5, 5, 5, 8, 3, 4, 5, 10, 2, 0, 0, 5, 0, 5, 9, 5, 0, 5, 0, 5, 0, 8, 2, 0, 10, 5, 5, 5, 5, 9, 5, 5, 5, 9, 2, 9, 5, 7, 0, 0, 5, 5, 5, 7, 5, 2, 10, 5, 8, 2, 9, 5, 2, 10, 5, 9, 5, 5, 5, 2, 0, 5, 8, 5, 2, 5, 5, 5, 5, 7, 0, 9, 5, 11, 5, 5, 5, 5, 5, 5, 3, 8, 10, 5, 5, 5, 5, 5, 5, 4, 2, 4, 9, 5, 2, 2, 5, 10, 9, 8, 5, 9, 10, 9, 9, 5, 9, 9, 5, 4, 5, 5, 2, 4, 2, 2, 8, 9, 5, 2, 5, 5, 3, 5, 5, 10, 2, 10, 5, 9, 4, 7, 5, 5, 4, 11, 5, 5, 4, 5, 9, 5, 2, 2, 2, 8, 2, 5, 5, 8, 1, 5, 5, 9, 9, 0, 5, 5, 5, 5, 4, 10, 6, 5, 5, 5, 4, 5, 5, 3, 9, 5, 5, 10, 5, 5, 3, 5, 8, 5, 2, 11, 7, 5, 5, 5, 4, 3, 0, 11, 5, 5, 9, 2, 10, 11, 5, 4, 5, 8, 11, 5, 8, 7, 2, 2, 0, 5, 5, 2, 4, 7, 5, 11, 5, 5, 6, 5, 4, 2, 5, 8, 5, 5, 3, 5, 2, 2, 10, 5, 5, 5, 4, 5, 5, 5, 2, 5, 9, 7, 2, 2, 5, 5, 2, 5, 5, 5, 2, 4, 5, 9, 2, 4, 5, 2, 5, 5, 9, 5, 3, 6, 10, 5, 2, 2, 10, 0, 11, 5, 4, 9, 4, 5, 7, 5, 7, 2, 5, 5, 11, 5, 5, 2, 5, 9, 5, 5, 0, 9, 5, 8, 5, 5, 5, 5, 2, 10, 3, 9, 9, 5, 2, 5, 5, 5, 11, 10, 4, 6, 9, 9, 9, 8, 8, 7, 2, 0, 4, 7, 2, 6, 5, 5, 5, 5, 5, 10, 5, 6, 2, 5, 2, 5, 4, 8, 5, 5, 5, 7, 7, 9, 5, 5, 5, 5, 2, 5, 5, 2, 9, 9, 0, 2, 5, 4, 2, 9, 2, 7, 10, 9, 5, 5, 4, 2, 8, 5, 5, 7, 9, 8, 0, 2, 5, 4, 5, 4, 5, 8, 10, 7, 5, 8, 4, 5, 8, 5, 8, 7, 5, 4, 2, 5, 7, 4, 0, 2, 0, 3, 8, 8, 8, 4, 0, 11, 11, 4, 2, 7, 2, 5, 10, 2, 0, 4, 5, 2, 2, 5, 9, 0, 9, 0, 10, 7, 11, 4, 8, 0, 10, 0, 2, 5, 3, 9, 5, 6, 8, 6, 7, 7, 0, 1, 6, 7, 6, 11, 6, 0, 1, 6, 5, 6, 2, 2, 6, 6, 6, 0, 0, 6, 11, 11, 0, 0, 3, 5, 1, 11, 11, 11, 6, 7, 6, 0, 2, 6, 0, 7, 0, 7, 6, 1, 2, 2, 10, 3, 11, 1, 2, 5, 7, 6, 4, 1, 7, 1, 7, 0, 3, 5, 6, 11, 6, 6, 6, 1, 1, 11, 6, 6, 1, 11, 2, 6, 10, 3, 1, 9, 8, 2, 1, 9, 3, 6, 0, 2, 6, 5, 8, 6, 9, 1, 6, 2, 4, 6, 1, 6, 0, 2, 9, 0, 6, 1, 2, 0, 1, 11, 6, 2, 6, 11, 5, 1, 1, 6, 6, 6, 7, 5, 0, 6, 7, 4, 9, 3, 6, 6, 3, 3, 9, 6, 6, 9, 1, 6, 6, 7, 6, 11, 4, 2, 2, 0, 11, 5, 11, 9, 7, 3, 0, 1, 6, 5, 3, 0, 2, 0, 6, 9, 11, 1, 0, 11, 6, 5, 0, 4, 11, 0, 6, 6, 1, 1, 9, 2, 2, 0, 7, 3, 6, 3, 2, 11, 0, 2, 5, 11, 8, 11, 5, 7, 1, 5, 3, 5, 6, 11, 7, 6, 10, 5, 1, 1, 1, 5, 2, 1, 1, 7, 1, 7, 9, 6, 3, 5, 4, 6, 7, 6, 6, 10, 6, 6, 6, 7, 6, 5, 7, 11, 3, 5, 2, 8, 11, 1, 8, 1, 6, 3, 1, 6, 5, 1, 2, 11, 3, 1, 0, 8, 1, 3, 11, 7, 11, 3, 6, 1, 0, 8, 11, 6, 5, 6, 11, 0, 1, 7, 5, 6, 2, 10, 2, 6, 0, 4, 0, 7, 3, 6, 9, 3, 6, 1, 3, 3, 7, 7, 11, 6, 9, 2, 6, 1, 3, 11, 0, 0, 3, 6, 6, 1, 6, 4, 6, 6, 7, 7, 10, 3, 5, 2, 1, 1, 7, 6, 3, 0, 10, 6, 3, 1, 11, 6, 11, 3, 11, 0, 1, 3, 11, 1, 9, 6, 6, 2, 3, 0, 4, 9, 9, 7, 4, 11, 1, 3, 3, 3, 5, 11, 6, 11, 2, 0, 5, 2, 0, 3, 9, 2, 3, 6, 2, 2, 0, 11, 2, 10, 0, 6, 6, 11, 3, 10, 6, 0, 2, 2, 0, 1, 8, 11, 3, 7, 10, 1, 3, 6, 2, 9, 1, 5, 6, 7, 1, 3, 2, 9, 6, 6, 0, 6, 6, 11, 0, 6, 7, 2, 2, 6, 6, 9, 11, 2, 9, 2, 6, 9, 11, 7, 6, 7, 1, 6, 9, 6, 11, 3, 1, 2, 6, 6, 1, 0, 2, 0, 6, 6, 3, 1, 6, 0, 3, 7, 6, 6, 2, 6, 3, 9, 11, 6, 0, 0, 9, 6, 0, 9, 6, 3, 11, 6, 6, 10, 7, 11, 2, 5, 11, 0, 6, 0, 5, 1, 6, 1, 1, 6, 3, 6, 9, 7, 11, 6, 0, 11, 6, 11, 1, 6, 4, 2, 11, 10, 9, 6, 6, 0, 3, 5, 0, 1, 11, 6, 5, 2, 11, 0, 3, 3, 0, 3, 5, 0, 9, 6, 6, 6, 6, 3, 6, 3, 6, 11, 3, 11, 9, 11, 10, 2, 11, 1, 11, 1, 0, 1, 6, 6, 1, 3, 3, 2, 11, 1, 1, 6, 11, 2, 1, 9, 11, 6, 6, 11, 1, 2, 6, 10, 1, 1, 11, 10, 3, 0, 1, 1, 0, 5, 10, 0, 11, 1, 5, 2, 0, 6, 0, 6, 6, 6, 0, 10, 11, 0, 11, 11, 2, 7, 1, 6, 9, 5, 7, 6, 0, 6, 9, 11, 11, 0, 6, 3, 11, 9, 2, 6, 1, 7, 0, 1, 0, 3, 6, 2, 1, 1, 6, 11, 11, 2, 7, 5, 6, 2, 9, 2, 6, 6, 2, 10, 3, 7, 2, 11, 2, 3, 2, 9, 7, 11, 2, 3, 5, 6, 2, 3, 5, 2, 6, 1, 6, 6, 7, 7, 7, 9, 7, 2, 7, 0, 3, 7, 9, 6, 6, 6, 11, 1, 3, 10, 0, 2, 0, 2, 3, 11, 2, 9, 11, 9, 0, 6, 1, 0, 3, 2, 2, 10, 6, 2, 1, 11, 10, 1, 11, 5, 6, 2, 4, 2, 2, 6, 6, 6, 6, 11, 9, 3, 7, 0, 11, 7, 2, 6, 6, 11, 6, 0, 7, 7, 6, 6, 11, 2, 5, 2, 6, 3, 9, 6, 7, 1, 7, 1, 1, 7, 6, 2, 6, 11, 6, 6, 6, 0, 10, 9, 3, 0, 7, 0, 5, 7, 0, 11, 2, 2, 9, 9, 6, 0, 6, 2, 3, 6, 6, 3, 6, 6, 3, 3, 1, 9, 6, 6, 11, 6, 0, 10, 11, 0, 9, 11, 2, 0, 11, 6, 6, 6, 2, 0, 3, 0, 6, 6, 2, 2, 6, 0, 1, 2, 11, 6, 9, 6, 11, 0, 1, 2, 6, 0, 6, 0, 0, 6, 3, 2, 6, 2, 11, 6, 3, 10, 2, 1, 0, 10, 6, 5, 6, 9, 0, 6, 11, 0, 2, 0, 11, 6, 11, 10, 2, 10, 1, 3, 6, 0, 3, 2, 6, 10, 11, 3, 7, 7, 6, 4, 0, 1, 1, 1, 1, 6, 0, 6, 0, 0, 9, 6, 9, 3, 0, 5, 0, 11, 2, 6, 7, 6, 7, 0, 11, 2, 8, 1, 7, 6, 4, 1, 0, 1, 9, 0, 6, 11, 6, 1, 5, 2, 11, 6, 3, 9, 0, 11, 7, 3, 2, 2, 5, 4, 7, 1, 1, 8, 6, 2, 2, 11, 1, 5, 6, 1, 1, 7, 6, 10, 9, 1, 2, 6, 6, 10, 11, 3, 6, 2, 11, 11, 10, 2, 0, 5, 0, 3, 0, 4, 0, 5, 4, 11, 5, 0, 6, 0, 0, 9, 10, 6, 9, 6, 4, 2, 11, 11, 6, 2, 7, 0, 6, 7, 1, 1, 6, 11, 10, 2, 10, 0, 2, 2, 2, 9, 11, 1, 2, 6, 3, 11, 6, 2, 1, 6, 10, 5, 0, 6, 7, 6, 6, 11, 0, 7, 6, 1, 2, 7, 1, 3, 2, 3, 7, 1, 3, 0, 7, 2, 0, 9, 10, 11, 10, 6, 0, 11, 10, 5, 3, 3, 10, 7, 11, 6, 3, 7, 6, 7, 1, 9, 4, 11, 6, 10, 5, 1, 3, 5, 0, 0, 6, 5, 2, 1, 6, 11, 2, 2, 9, 3, 6, 0, 5, 9, 11, 6, 6, 1, 6, 3, 3, 9, 7, 7, 6, 7, 10, 9, 1, 2, 11, 10, 2, 0, 7, 4, 8, 9, 6, 7, 9, 2, 0, 1, 2, 3, 3, 6, 2, 6, 2, 1, 6, 11, 7, 8, 1, 0, 10, 11, 4, 5, 11, 0, 0, 2, 11, 6, 11, 2, 7, 1, 7, 9, 6, 11, 6, 8, 10, 11, 9, 11, 0, 5, 4, 1, 6, 3, 1, 7, 6, 1, 2, 0, 10, 10, 3, 1, 1, 1, 7, 0, 11, 2, 0, 10, 10, 11, 11, 9, 0, 6, 6, 7, 11, 1, 10, 2, 5, 11, 5, 6, 4, 11, 1, 6, 6, 2, 7, 7, 0, 0, 6, 11, 4, 2, 11, 7, 2, 3, 3, 1, 7, 10, 1, 0, 3, 2, 4, 2, 6, 3, 0, 3, 6, 6, 6, 11, 5, 11, 6, 1, 5, 7, 9, 7, 6, 0, 2, 7, 8, 0, 11, 2, 6, 2, 0, 6, 2, 0, 0, 11, 1, 7, 0, 6, 0, 9, 1, 1, 3, 7, 3, 6, 3, 11, 2, 11, 9, 2, 0, 7, 2, 6, 1, 0, 7, 0, 11, 9, 8, 6, 3, 9, 3, 11, 6, 1, 6, 2, 6, 0, 6, 0, 6, 2, 6, 6, 0, 11, 8, 6, 11, 5, 9, 6, 1, 1, 3, 2, 1, 1, 2, 1, 10, 5, 6, 1, 2, 2, 7, 0, 3, 7, 6, 7, 7, 11, 0, 7, 7, 7, 7, 3, 3, 7, 5, 0, 0, 7, 7, 7, 0, 9, 6, 5, 7, 11, 7, 9, 0, 5, 0, 7, 7, 0, 11, 7, 10, 7, 7, 7, 10, 2, 7, 7, 10, 7, 7, 7, 7, 1, 5, 7, 9, 0, 7, 6, 7, 7, 7, 10, 4, 7, 0, 7, 7, 0, 7, 7, 7, 7, 10, 7, 9, 7, 10, 7, 3, 0, 10, 0, 6, 10, 10, 8, 0, 1, 4, 7, 0, 7, 7, 10, 7, 5, 0, 7, 5, 0, 2, 9, 7, 7, 5, 7, 7, 0, 7, 2, 8, 7, 10, 3, 7, 7, 0, 7, 7, 7, 5, 7, 7, 7, 7, 2, 5, 10, 7, 9, 7, 11, 0, 0, 7, 7, 0, 2, 0, 0, 5, 7, 5, 7, 11, 1, 11, 6, 0, 6, 7, 7, 7, 7, 7, 2, 0, 7, 11, 1, 0, 7, 9, 5, 9, 2, 7, 7, 7, 11, 7, 7, 7, 7, 7, 7, 9, 10, 7, 0, 7, 7, 7, 3, 10, 11, 0, 2, 7, 7, 1, 7, 0, 10, 6, 0, 0, 7, 7, 11, 7, 7, 7, 0, 7, 7, 7, 8, 7, 10, 11, 5, 9, 7, 10, 9, 7, 9, 7, 0, 7, 11, 7, 0, 7, 0, 0, 7, 7, 6, 11, 0, 7, 11, 7, 11, 8, 7, 7, 2, 7, 5, 0, 5, 6, 0, 7, 7, 11, 11, 7, 11, 7, 0, 7, 5, 7, 11, 7, 0, 7, 10, 7, 7, 11, 0, 8, 0, 6, 7, 0, 3, 7, 11, 7, 7, 9, 7, 4, 8, 10, 7, 5, 0, 7, 0, 11, 7, 3, 10, 7, 7, 10, 7, 7, 10, 7, 0, 2, 0, 3, 0, 0, 7, 5, 7, 7, 0, 10, 7, 7, 7, 5, 0, 7, 3, 7, 7, 7, 7, 0, 7, 0, 4, 7, 7, 7, 7, 7, 11, 7, 9, 11, 2, 11, 5, 7, 11, 9, 7, 7, 7, 0, 7, 7, 9, 7, 3, 7, 11, 11, 7, 2, 7, 7, 9, 11, 7, 0, 7, 7, 7, 7, 7, 7, 8, 2, 7, 7, 7, 11, 7, 7, 8, 7, 10, 7, 0, 0, 7, 7, 7, 9, 0, 3, 7, 7, 7, 7, 0, 11, 2, 10, 7, 7, 10, 7, 7, 11, 7, 7, 0, 11, 0, 5, 11, 0, 11, 7, 6, 7, 7, 7, 2, 9, 7, 10, 0, 7, 7, 2, 0, 1, 0, 10, 7, 7, 2, 6, 7, 7, 5, 5, 4, 5, 7, 0, 6, 2, 4, 7, 0, 7, 7, 2, 2, 7, 3, 5, 7, 7, 7, 7, 2, 11, 3, 0, 7, 0, 11, 7, 7, 10, 10, 10, 7, 9, 5, 7, 3, 7, 7, 7, 7, 0, 7, 2, 1, 7, 6, 7, 2, 2, 9, 2, 7, 7, 7, 7, 7, 0, 11, 5, 6, 0, 11, 5, 7, 7, 0, 7, 7, 1, 7, 3, 10, 7, 9, 2, 0, 0, 6, 7, 7, 7, 7, 7, 7, 7, 10, 11, 10, 0, 0, 7, 7, 7, 5, 11, 7, 7, 7, 7, 9, 7, 7, 1, 7, 0, 7, 7, 7, 7, 7, 7, 0, 7, 0, 7, 10, 7, 2, 0, 7, 7, 9, 7, 7, 7, 7, 7, 11, 11, 8, 7, 7, 7, 7, 0, 7, 6, 7, 11, 11, 7, 9, 7, 7, 3, 3, 7, 7, 2, 7, 11, 7, 7, 0, 7, 7, 7, 7, 7, 7, 3, 7, 7, 8, 7, 7, 7, 0, 5, 10, 9, 7, 0, 7, 11, 7, 6, 10, 2, 7, 7, 7, 3, 9, 2, 7, 7, 7, 0, 7, 6, 7, 7, 2, 7, 7, 0, 7, 9, 4, 11, 7, 0, 7, 3, 2, 9, 0, 7, 7, 7, 3, 7, 7, 7, 7, 9, 5, 0, 7, 2, 7, 7, 1, 0, 5, 0, 2, 3, 11, 7, 7, 0, 7, 7, 7, 6, 7, 0, 5, 7, 0, 7, 7, 6, 7, 11, 7, 7, 7, 7, 7, 11, 7, 6, 7, 7, 1, 7, 2, 0, 0, 7, 7, 3, 0, 9, 4, 2, 11, 7, 7, 7, 0, 7, 7, 11, 0, 7, 2, 7, 7, 7, 2, 7, 7, 0, 7, 7, 7, 3, 7, 0, 2, 0, 11, 7, 2, 7, 7, 5, 3, 5, 7, 7, 0, 0, 7, 5, 7, 7, 7, 7, 7, 7, 7, 2, 2, 7, 7, 10, 7, 0, 7, 5, 5, 9, 7, 0, 7, 7, 0, 6, 7, 7, 1, 5, 7, 7, 7, 0, 7, 6, 0, 2, 1, 7, 7, 9, 2, 10, 7, 2, 7, 7, 7, 7, 2, 10, 5, 7, 7, 7, 7, 2, 7, 10, 5, 1, 7, 11, 7, 10, 5, 7, 3, 7, 7, 7, 6, 10, 2, 6, 7, 7, 9, 7, 0, 7, 7, 3, 7, 7, 6, 7, 7, 9, 0, 0, 7, 7, 9, 10, 11, 7, 9, 3, 0, 2, 7, 6, 2, 9, 6, 7, 0, 7, 7, 9, 0, 7, 11, 11, 7, 11, 7, 7, 6, 7, 7, 3, 7, 2, 11, 7, 7, 7, 7, 11, 7, 7, 3, 7, 0, 7, 7, 0, 7, 9, 7, 7, 7, 3, 7, 3, 9, 7, 7, 9, 7, 7, 10, 7, 0, 7, 3, 10, 7, 0, 0, 2, 7, 0, 0, 5, 7, 6, 5, 7, 10, 5, 7, 7, 7, 7, 11, 7, 7, 5, 9, 7, 0, 7, 7, 7, 7, 7, 5, 11, 7, 7, 7, 3, 7, 7, 7, 7, 7, 7, 7, 7, 7, 7, 7, 0, 7, 6, 11, 7, 5, 7, 11, 7, 7, 0, 1, 10, 7, 3, 7, 7, 9, 7, 0, 7, 7, 1, 7, 0, 7, 7, 0, 7, 2, 7, 7, 10, 7, 9, 7, 7, 0, 11, 0, 7, 9, 7, 0, 7, 2, 3, 7, 0, 0, 7, 2, 2, 1, 7, 11, 7, 10, 3, 9, 7, 5, 2, 0, 2, 2, 5, 9, 2, 7, 5, 7, 7, 7, 6, 6, 7, 7, 0, 7, 3, 11, 0, 0, 7, 7, 9, 11, 10, 0, 7, 3, 2, 7, 7, 7, 7, 3, 0, 10, 0, 7, 0, 10, 7, 7, 7, 5, 7, 10, 0, 11, 7, 7, 2, 7, 11, 11, 0, 7, 7, 7, 6, 7, 7, 7, 0, 9, 7, 0, 3, 3, 7, 11, 7, 0, 7, 0, 7, 7, 5, 5, 7, 0, 9, 7, 7, 7, 7, 7, 2, 7, 7, 7, 7, 11, 7, 7, 11, 0, 7, 3, 9, 9, 7, 7, 6, 7, 9, 7, 0, 7, 7, 9, 7, 7, 7, 3, 7, 11, 9, 7, 7, 7, 6, 5, 7, 7, 6, 6, 0, 11, 7, 7, 9, 7, 7, 7, 10, 11, 7, 7, 7, 7, 2, 6, 7, 7, 7, 3, 7, 7, 7, 2, 11, 7, 7, 7, 11, 2, 7, 0, 10, 7, 0, 3, 7, 7, 7, 11, 11, 7, 7, 0, 5, 7, 6, 7, 7, 0, 11, 7, 10, 0, 7, 7, 7, 9, 0, 0, 7, 0, 11, 7, 7, 7, 0, 7, 7, 3, 3, 7, 7, 2, 7, 3, 11, 7, 7, 11, 7, 0, 7, 11, 8, 8, 5, 8, 8, 8, 5, 8, 9, 10, 2, 2, 8, 8, 5, 8, 4, 2, 5, 8, 5, 8, 10, 8, 9, 8, 5, 5, 4, 5, 8, 9, 8, 8, 5, 2, 5, 8, 4, 5, 8, 5, 5, 5, 9, 5, 5, 7, 8, 9, 8, 4, 4, 8, 9, 5, 8, 4, 3, 2, 5, 8, 0, 8, 6, 0, 2, 5, 5, 5, 8, 8, 8, 7, 5, 5, 11, 8, 9, 4, 8, 8, 5, 8, 8, 8, 5, 5, 8, 8, 8, 5, 9, 5, 8, 8, 8, 5, 4, 8, 5, 8, 2, 8, 8, 8, 5, 8, 2, 1, 5, 8, 8, 0, 9, 5, 2, 5, 4, 3, 8, 9, 9, 5, 8, 5, 2, 8, 10, 5, 8, 8, 8, 10, 8, 5, 8, 7, 5, 8, 8, 9, 4, 8, 5, 8, 8, 8, 8, 9, 8, 2, 8, 10, 8, 8, 8, 8, 10, 10, 5, 0, 8, 5, 4, 5, 8, 9, 5, 5, 8, 8, 9, 2, 5, 0, 9, 8, 5, 8, 4, 1, 8, 8, 8, 2, 7, 8, 8, 5, 4, 5, 4, 8, 5, 8, 5, 0, 2, 5, 5, 8, 8, 2, 8, 8, 8, 8, 5, 5, 8, 5, 5, 8, 8, 5, 4, 0, 2, 5, 5, 8, 5, 4, 10, 5, 5, 5, 5, 5, 11, 5, 8, 8, 5, 9, 8, 8, 10, 8, 4, 4, 5, 8, 5, 9, 5, 4, 4, 9, 2, 8, 8, 2, 0, 8, 2, 4, 5, 4, 8, 10, 8, 8, 9, 4, 5, 8, 5, 8, 8, 0, 8, 8, 8, 0, 8, 8, 5, 8, 9, 0, 2, 8, 8, 8, 10, 2, 4, 8, 8, 5, 8, 2, 8, 5, 8, 8, 4, 2, 5, 5, 8, 8, 8, 5, 2, 8, 8, 9, 2, 0, 8, 8, 4, 8, 9, 8, 5, 2, 8, 5, 5, 8, 5, 4, 2, 8, 2, 8, 8, 1, 5, 11, 8, 9, 8, 5, 5, 1, 5, 5, 5, 2, 9, 0, 4, 8, 0, 2, 5, 8, 5, 9, 2, 5, 2, 8, 9, 8, 2, 5, 2, 8, 3, 2, 0, 8, 5, 5, 5, 5, 8, 8, 8, 8, 8, 8, 8, 8, 4, 9, 5, 8, 0, 4, 8, 0, 5, 8, 5, 9, 8, 4, 2, 10, 2, 8, 8, 5, 0, 8, 8, 4, 5, 8, 8, 9, 9, 0, 11, 9, 0, 5, 5, 5, 5, 8, 5, 8, 2, 2, 8, 8, 5, 5, 5, 8, 8, 2, 5, 8, 5, 5, 8, 8, 5, 4, 9, 8, 5, 2, 8, 2, 0, 5, 8, 8, 8, 8, 8, 2, 5, 8, 5, 2, 8, 8, 9, 8, 8, 5, 8, 5, 9, 8, 8, 9, 4, 5, 11, 8, 8, 0, 8, 9, 4, 8, 4, 5, 0, 8, 5, 5, 5, 8, 5, 6, 8, 8, 9, 4, 8, 8, 0, 2, 8, 5, 8, 9, 8, 8, 8, 9, 7, 5, 5, 0, 0, 5, 10, 9, 8, 0, 2, 7, 10, 9, 3, 5, 9, 5, 0, 9, 11, 2, 11, 10, 9, 9, 10, 5, 6, 8, 2, 7, 9, 9, 7, 2, 7, 10, 9, 10, 7, 10, 9, 6, 0, 10, 9, 11, 7, 2, 4, 5, 2, 6, 0, 5, 10, 6, 9, 10, 5, 9, 9, 3, 5, 10, 3, 8, 7, 6, 10, 10, 5, 9, 2, 2, 11, 9, 9, 11, 9, 0, 9, 1, 11, 11, 6, 10, 10, 5, 10, 9, 9, 3, 9, 10, 9, 8, 5, 9, 5, 3, 5, 4, 5, 1, 9, 9, 8, 5, 9, 0, 2, 7, 11, 10, 0, 0, 2, 9, 9, 10, 3, 5, 7, 2, 11, 10, 2, 2, 11, 0, 3, 0, 9, 1, 9, 10, 9, 4, 9, 9, 9, 9, 11, 2, 9, 11, 10, 3, 9, 10, 9, 7, 2, 3, 6, 8, 0, 10, 9, 5, 0, 5, 9, 5, 5, 5, 9, 0, 9, 5, 0, 10, 10, 9, 10, 10, 0, 4, 9, 5, 10, 2, 9, 7, 3, 10, 8, 8, 10, 2, 1, 7, 9, 0, 10, 5, 2, 6, 9, 2, 4, 7, 5, 0, 10, 10, 9, 5, 5, 10, 11, 10, 9, 10, 4, 8, 9, 2, 9, 8, 9, 10, 1, 10, 9, 8, 2, 9, 9, 10, 10, 10, 3, 9, 2, 1, 9, 3, 5, 9, 9, 10, 5, 7, 4, 7, 6, 0, 9, 8, 5, 11, 2, 9, 10, 8, 9, 8, 3, 9, 9, 0, 10, 2, 10, 9, 2, 5, 3, 5, 6, 5, 2, 5, 9, 6, 1, 9, 0, 7, 3, 3, 3, 3, 9, 10, 0, 10, 4, 9, 10, 7, 6, 10, 9, 5, 2, 9, 8, 10, 9, 9, 8, 9, 5, 6, 2, 7, 0, 5, 3, 9, 5, 7, 0, 9, 9, 10, 1, 5, 7, 9, 9, 6, 2, 5, 0, 9, 9, 9, 5, 8, 7, 9, 6, 9, 9, 2, 7, 10, 9, 8, 2, 7, 9, 1, 10, 8, 9, 5, 10, 9, 6, 9, 2, 0, 8, 0, 10, 9, 9, 8, 5, 7, 4, 2, 9, 5, 10, 0, 5, 2, 5, 9, 8, 10, 6, 0, 10, 10, 0, 10, 9, 10, 10, 10, 1, 7, 11, 7, 0, 8, 11, 9, 3, 9, 2, 6, 5, 5, 1, 9, 5, 7, 2, 8, 7, 10, 5, 10, 10, 3, 10, 4, 9, 5, 6, 9, 5, 7, 9, 8, 7, 1, 2, 5, 9, 4, 9, 8, 11, 4, 2, 5, 2, 10, 0, 5, 5, 2, 10, 9, 6, 9, 3, 9, 9, 10, 6, 11, 9, 7, 4, 2, 10, 5, 9, 4, 11, 9, 0, 9, 10, 10, 8, 11, 9, 10, 9, 0, 0, 3, 7, 0, 0, 8, 11, 2, 5, 4, 9, 5, 0, 11, 8, 2, 4, 0, 0, 10, 7, 2, 2, 10, 2, 8, 1, 7, 9, 0, 7, 2, 5, 8, 0, 0, 7, 2, 10, 2, 7, 11, 8, 11, 5, 7, 4, 0, 9, 9, 5, 5, 2, 5, 9, 2, 3, 8, 7, 5, 9, 1, 3, 9, 8, 0, 3, 1, 2, 2, 0, 11, 9, 1, 5, 4, 9, 10, 0, 7, 5, 7, 5, 5, 0, 9, 9, 9, 2, 10, 5, 2, 2, 8, 9, 9, 2, 2, 9, 9, 7, 5, 0, 2, 10, 10, 10, 9, 9, 8, 4, 2, 10, 10, 2, 9, 9, 9, 5, 5, 2, 11, 0, 9, 8, 10, 9, 9, 6, 9, 5, 9, 9, 0, 1, 9, 2, 3, 9, 11, 7, 3, 11, 5, 10, 3, 9, 7, 4, 2, 5, 9, 7, 9, 5, 9, 9, 5, 5, 9, 11, 5, 5, 5, 0, 4, 7, 11, 1, 9, 2, 2, 9, 2, 10, 0, 8, 5, 4, 5, 9, 2, 5, 4, 2, 5, 0, 10, 9, 10, 9, 5, 9, 9, 0, 3, 7, 10, 9, 3, 0, 0, 6, 11, 7, 10, 5, 3, 2, 6, 9, 7, 5, 9, 7, 4, 10, 10, 8, 9, 2, 11, 2, 0, 0, 7, 5, 9, 10, 9, 2, 9, 0, 0, 5, 5, 3, 3, 10, 5, 2, 5, 9, 5, 5, 8, 11, 3, 2, 10, 11, 3, 2, 10, 6, 10, 1, 5, 3, 2, 9, 6, 9, 9, 11, 9, 7, 9, 4, 10, 0, 5, 10, 2, 10, 3, 2, 10, 2, 2, 2, 5, 5, 10, 9, 5, 5, 0, 9, 9, 10, 2, 7, 9, 9, 2, 0, 9, 5, 2, 2, 11, 9, 9, 7, 0, 2, 7, 0, 0, 10, 10, 6, 10, 5, 7, 1, 5, 4, 10, 9, 3, 3, 7, 7, 9, 4, 0, 5, 9, 9, 9, 11, 3, 3, 5, 5, 9, 2, 11, 2, 10, 5, 0, 11, 9, 10, 4, 10, 6, 9, 7, 2, 9, 10, 7, 5, 9, 0, 0, 9, 10, 9, 3, 5, 0, 8, 10, 9, 2, 8, 0, 5, 10, 9, 9, 9, 5, 2, 0, 9, 7, 0, 10, 5, 5, 9, 5, 5, 10, 0, 6, 0, 10, 4, 6, 0, 1, 7, 7, 9, 11, 5, 5, 0, 9, 2, 9, 9, 8, 11, 5, 4, 6, 9, 3, 2, 9, 5, 5, 9, 11, 9, 9, 5, 8, 9, 5, 3, 0, 7, 9, 0, 11, 5, 5, 5, 7, 9, 9, 9, 10, 6, 4, 7, 9, 9, 4, 2, 8, 1, 11, 9, 10, 9, 9, 10, 10, 10, 9, 7, 7, 0, 10, 7, 4, 10, 2, 4, 9, 9, 2, 3, 5, 4, 3, 10, 10, 6, 4, 11, 5, 0, 9, 5, 1, 5, 9, 11, 9, 10, 6, 2, 2, 7, 9, 9, 9, 9, 2, 0, 10, 2, 0, 3, 2, 2, 2, 5, 9, 10, 5, 5, 0, 3, 4, 0, 0, 9, 7, 9, 0, 6, 9, 4, 10, 2, 10, 11, 8, 4, 5, 4, 3, 9, 5, 2, 2, 9, 10, 0, 10, 9, 10, 10, 10, 9, 2, 11, 10, 2, 8, 9, 0, 5, 2, 5, 8, 5, 9, 5, 8, 2, 2, 2, 5, 2, 10, 9, 3, 3, 7, 9, 9, 9, 5, 5, 10, 2, 7, 9, 10, 0, 2, 7, 8, 10, 9, 0, 11, 9, 5, 10, 5, 9, 1, 9, 4, 9, 1, 0, 3, 1, 0, 0, 10, 0, 2, 9, 7, 5, 0, 3, 5, 9, 10, 0, 3, 2, 9, 9, 5, 9, 4, 9, 7, 7, 5, 8, 2, 11, 2, 11, 5, 11, 9, 11, 10, 10, 11, 9, 9, 10, 9, 3, 10, 5, 9, 10, 3, 9, 10, 10, 5, 10, 2, 0, 9, 9, 7, 9, 7, 9, 2, 4, 9, 5, 2, 2, 0, 0, 10, 7, 4, 10, 5, 3, 10, 3, 5, 2, 9, 3, 9, 5, 9, 0, 0, 5, 9, 10, 7, 10, 0, 0, 5, 8, 8, 5, 2, 4, 9, 9, 5, 10, 10, 5, 7, 4, 0, 4, 2, 2, 9, 10, 2, 9, 2, 0, 9, 0, 9, 4, 5, 6, 7, 7, 11, 6, 5, 7, 5, 2, 10, 9, 7, 2, 9, 5, 9, 0, 6, 11, 0, 9, 9, 10, 5, 11, 10, 10, 9, 10, 8, 6, 4, 2, 2, 11, 5, 2, 4, 5, 2, 3, 9, 9, 9, 5, 9, 0, 7, 3, 10, 6, 9, 10, 8, 5, 0, 9, 9, 5, 9, 2, 11, 11, 0, 10, 9, 0, 8, 5, 5, 9, 4, 5, 5, 0, 9, 9, 9, 9, 11, 5, 9, 9, 1, 11, 11, 9, 9, 9, 9, 10, 9, 10, 9, 9, 1, 0, 10, 9, 9, 5, 0, 7, 9, 0, 7, 9, 9, 5, 9, 1, 10, 8, 11, 0, 9, 5, 5, 0, 7, 5, 4, 5, 5, 9, 7, 5, 9, 7, 9, 0, 9, 2, 4, 5, 10, 0, 5, 8, 2, 10, 5, 5, 9, 2, 2, 10, 9, 2, 8, 5, 9, 2, 9, 10, 9, 0, 2, 9, 11, 2, 0, 0, 0, 7, 6, 5, 1, 9, 9, 9, 2, 5, 0, 3, 5, 5, 9, 10, 9, 5, 9, 0, 0, 11, 11, 3, 3, 8, 2, 7, 5, 10, 0, 9, 8, 10, 8, 1, 6, 6, 0, 6, 4, 5, 4, 4, 10, 9, 10, 9, 11, 6, 2, 9, 9, 8, 9, 7, 2, 9, 9, 9, 10, 10, 9, 6, 3, 4, 9, 0, 0, 0, 9, 0, 4, 10, 9, 5, 0, 10, 10, 1, 0, 7, 9, 3, 4, 9, 0, 5, 2, 10, 2, 9, 8, 5, 9, 1, 5, 9, 0, 5, 8, 2, 9, 5, 8, 10, 6, 9, 10, 9, 8, 9, 7, 9, 2, 10, 10, 9, 2, 0, 9, 10, 0, 3, 9, 9, 10, 2, 4, 9, 0, 0, 4, 9, 4, 0, 2, 10, 2, 10, 9, 9, 9, 5, 2, 5, 4, 10, 9, 10, 3, 5, 9, 11, 9, 5, 9, 10, 9, 10, 0, 5, 0, 5, 11, 3, 4, 9, 10, 5, 7, 5, 5, 9, 10, 10, 6, 4, 10, 9, 2, 7, 5, 5, 9, 6, 8, 9, 9, 9, 5, 9, 8, 8, 10, 9, 10, 0, 8, 11, 8, 9, 10, 10, 10, 5, 11, 11, 3, 2, 3, 11, 0, 7, 2, 9, 9, 0, 7, 10, 5, 10, 4, 1, 11, 9, 4, 11, 10, 9, 9, 5, 5, 3, 11, 11, 10, 0, 9, 2, 5, 11, 7, 9, 5, 0, 9, 3, 2, 4, 0, 9, 7, 9, 9, 10, 11, 2, 2, 9, 10, 10, 2, 5, 0, 3, 10, 5, 9, 3, 5, 9, 4, 5, 2, 10, 11, 2, 10, 9, 4, 9, 11, 9, 9, 5, 10, 7, 6, 10, 5, 10, 10, 10, 5, 0, 5, 10, 10, 2, 2, 9, 9, 2, 9, 7, 10, 5, 7, 8, 5, 5, 2, 5, 7, 10, 0, 10, 5, 11, 5, 0, 4, 0, 2, 9, 0, 10, 2, 3, 7, 9, 4, 2, 9, 2, 10, 10, 0, 6, 5, 7, 6, 2, 9, 9, 1, 5, 9, 5, 0, 10, 2, 2, 8, 3, 5, 9, 8, 9, 9, 5, 0, 0, 0, 9, 9, 0, 4, 9, 9, 3, 10, 10, 7, 10, 3, 10, 10, 10, 10, 8, 8, 10, 10, 11, 2, 5, 10, 4, 9, 10, 0, 3, 2, 10, 5, 2, 7, 9, 11, 9, 4, 0, 9, 10, 10, 9, 9, 10, 8, 0, 9, 10, 10, 10, 10, 5, 10, 11, 10, 2, 9, 10, 9, 5, 5, 0, 10, 9, 10, 9, 10, 9, 9, 9, 10, 9, 10, 10, 9, 10, 0, 5, 10, 2, 1, 5, 0, 2, 10, 0, 10, 10, 5, 10, 2, 10, 3, 2, 10, 2, 10, 10, 10, 9, 0, 9, 2, 5, 8, 10, 10, 10, 3, 10, 10, 7, 0, 7, 10, 10, 9, 0, 4, 10, 10, 5, 10, 9, 10, 10, 0, 0, 4, 1, 8, 0, 10, 10, 0, 10, 9, 10, 10, 10, 11, 10, 10, 5, 7, 2, 0, 5, 9, 10, 2, 10, 10, 9, 9, 10, 9, 10, 10, 9, 10, 10, 11, 9, 3, 10, 4, 3, 5, 6, 10, 10, 0, 10, 9, 10, 9, 10, 5, 9, 10, 5, 10, 10, 9, 10, 10, 7, 9, 3, 10, 10, 9, 5, 5, 9, 10, 10, 10, 3, 1, 10, 7, 11, 6, 10, 10, 9, 10, 10, 9, 10, 10, 9, 10, 5, 5, 10, 3, 10, 11, 10, 0, 8, 10, 10, 5, 0, 5, 10, 9, 3, 10, 8, 10, 10, 0, 8, 10, 11, 9, 3, 10, 10, 10, 10, 10, 10, 0, 9, 9, 2, 9, 9, 0, 9, 10, 10, 8, 2, 2, 0, 10, 0, 10, 0, 5, 10, 10, 10, 10, 10, 4, 10, 10, 10, 3, 2, 10, 9, 10, 11, 2, 9, 10, 10, 3, 11, 10, 10, 9, 2, 9, 11, 9, 3, 4, 10, 9, 0, 0, 9, 10, 10, 10, 10, 9, 2, 10, 10, 4, 0, 10, 10, 2, 10, 9, 5, 4, 9, 2, 4, 10, 0, 9, 10, 2, 9, 7, 10, 10, 10, 10, 10, 6, 10, 10, 10, 10, 2, 10, 2, 10, 10, 9, 10, 10, 9, 10, 9, 2, 11, 1, 10, 9, 0, 9, 10, 2, 10, 10, 9, 8, 9, 2, 10, 10, 3, 8, 10, 10, 11, 9, 1, 4, 10, 6, 5, 8, 9, 10, 0, 5, 9, 10, 3, 10, 5, 7, 4, 9, 10, 9, 10, 9, 10, 6, 9, 0, 10, 9, 3, 5, 5, 10, 10, 3, 10, 10, 10, 1, 10, 10, 11, 10, 0, 6, 10, 0, 10, 10, 6, 3, 10, 4, 10, 10, 10, 9, 11, 2, 10, 9, 10, 10, 10, 0, 10, 4, 10, 10, 10, 7, 3, 10, 9, 2, 9, 5, 5, 10, 10, 9, 3, 10, 9, 10, 10, 7, 10, 10, 0, 10, 9, 10, 10, 9, 10, 10, 11, 10, 1, 10, 0, 9, 3, 0, 4, 4, 0, 10, 10, 2, 10, 0, 2, 9, 10, 7, 10, 10, 2, 10, 9, 10, 7, 10, 3, 9, 11, 9, 10, 8, 10, 10, 10, 10, 9, 3, 4, 11, 9, 10, 7, 10, 0, 2, 5, 10, 10, 10, 10, 8, 10, 4, 10, 0, 8, 11, 10, 9, 10, 10, 10, 5, 9, 10, 9, 4, 9, 10, 11, 2, 10, 9, 10, 0, 9, 5, 10, 9, 10, 10, 10, 7, 2, 10, 10, 10, 10, 0, 2, 9, 9, 9, 7, 0, 10, 5, 10, 10, 5, 10, 10, 9, 10, 7, 10, 10, 10, 0, 10, 10, 11, 10, 5, 10, 3, 0, 10, 10, 10, 10, 3, 0, 9, 9, 10, 9, 10, 10, 3, 9, 3, 5, 5, 0, 9, 10, 10, 0, 9, 0, 9, 10, 10, 9, 10, 2, 9, 10, 5, 9, 9, 0, 10, 0, 5, 10, 10, 0, 7, 3, 10, 10, 5, 10, 8, 10, 10, 10, 9, 0, 9, 10, 9, 5, 0, 7, 8, 10, 5, 9, 10, 10, 10, 10, 10, 6, 7, 5, 9, 10, 1, 10, 3, 4, 9, 10, 2, 0, 9, 3, 7, 9, 10, 10, 5, 3, 9, 10, 10, 10, 10, 10, 3, 10, 9, 10, 9, 10, 10, 10, 2, 10, 9, 11, 8, 10, 11, 11, 0, 0, 9, 1, 11, 0, 1, 9, 11, 4, 2, 6, 9, 1, 9, 11, 9, 6, 6, 11, 7, 10, 3, 11, 3, 11, 0, 7, 0, 3, 11, 11, 5, 5, 11, 6, 11, 11, 6, 9, 11, 6, 9, 2, 11, 5, 11, 11, 3, 9, 5, 6, 11, 7, 2, 7, 11, 11, 3, 1, 5, 0, 11, 7, 7, 11, 2, 10, 3, 5, 8, 0, 5, 5, 0, 11, 8, 0, 11, 11, 5, 0, 5, 11, 8, 11, 7, 5, 0, 11, 9, 7, 9, 2, 6, 7, 9, 1, 0, 11, 3, 1, 5, 0, 3, 0, 10, 0, 11, 11, 3, 1, 3, 10, 11, 6, 11, 5, 1, 6, 11, 11, 11, 9, 3, 9, 11, 11, 10, 0, 11, 10, 2, 11, 11, 0, 11, 11, 9, 5, 10, 0, 7, 11, 5, 8, 0, 11, 6, 7, 5, 11, 7, 5, 10, 6, 8, 11, 11, 5, 0, 5, 6, 8, 5, 5, 7, 2, 7, 11, 11, 7, 11, 2, 10, 7, 11, 7, 11, 5, 2, 9, 11, 11, 0, 9, 7, 9, 0, 11, 0, 1, 5, 5, 0, 9, 5, 7, 6, 9, 11, 10, 6, 11, 2, 7, 0, 5, 7, 9, 5, 11, 5, 7, 2, 11, 0, 2, 7, 6, 11, 11, 1, 11, 5, 7, 11, 8, 0, 7, 3, 11, 1, 11, 11, 0, 0, 6, 2, 6, 7, 0, 5, 1, 11, 7, 7, 0, 11, 5, 0, 2, 10, 0, 11, 3, 11, 11, 7, 6, 11, 2, 9, 7, 11, 5, 8, 10, 7, 0, 6, 11, 3, 11, 11, 9, 3, 2, 7, 11, 0, 11, 0, 3, 0, 7, 6, 6, 11, 7, 11, 3, 4, 6, 11, 3, 2, 3, 11, 11, 11, 3, 2, 11, 1, 7, 11, 5, 0, 11, 6, 3, 6, 10, 1, 9, 3, 9, 7, 3, 7, 11, 3, 11, 4, 11, 1, 5, 6, 4, 3, 5, 0, 11, 9, 11, 7, 11, 9, 7, 5, 5, 8, 8, 11, 9, 0, 0, 11, 10, 6, 1, 0, 2, 3, 9, 11, 11, 11, 1, 8, 7, 0, 3, 8, 11, 11, 6, 11, 5, 11, 11, 0, 3, 3, 1, 8, 6, 11, 7, 9, 9, 6, 7, 3, 3, 3, 7, 5, 11, 11, 0, 0, 2, 11, 2, 0, 0, 9, 7, 11, 0, 7, 7, 5, 11, 9, 11, 0, 9, 5, 11, 11, 7, 0, 2, 3, 11, 11, 9, 7, 5, 3, 2, 11, 5, 0, 11, 2, 0, 6, 11, 6, 9, 9, 10, 5, 11, 3, 11, 5, 11, 0, 3, 2, 11, 5, 11, 1, 7, 11, 9, 7, 1, 7, 11, 3, 3, 5, 5, 9, 9, 5, 11, 9, 3, 8, 11, 6, 6, 6, 2, 6, 11, 9, 9, 0, 11, 6, 11, 11, 11, 1, 1, 6, 8, 5, 0, 0, 9, 0, 5, 11, 11, 5, 3, 5, 11, 0, 8, 5, 0, 11, 6, 7, 11, 11, 3, 11, 8, 7, 11, 7, 1, 3, 7, 6, 6, 7, 6, 11, 1, 9, 0, 1, 11, 0, 0, 0, 6, 6, 10, 11, 0, 3, 9, 9, 0, 2, 7, 11, 9, 5, 5, 11, 5, 1, 9, 10, 10, 7, 11, 10, 0, 1, 1, 5, 2, 11, 9, 11, 3, 3, 11, 5, 7, 11, 2, 5, 7, 3, 9, 7, 6, 5, 6, 11, 11, 0, 5, 11, 6, 1, 11, 2, 7, 9, 11, 7, 11, 2, 3, 3, 9, 5, 11, 3, 2, 7, 10, 11, 10, 11, 0, 3, 7, 11, 5, 11, 6, 5, 5, 0, 11, 6, 3, 0, 3, 6, 3, 3, 11, 10, 9, 10, 11, 2, 0, 11, 1, 10, 6, 11, 6, 11, 5, 5, 6, 7, 11, 1, 5, 11, 3, 6, 10, 3, 0, 1, 10, 8, 6, 1, 5, 11, 9, 0, 11, 9, 7, 11, 9, 11, 6, 11, 0, 9, 11, 11, 2, 5, 0, 7, 6, 11, 11, 9, 11, 0, 6, 11, 0, 11, 1, 11, 0, 11, 11, 9, 3, 11, 11, 11, 7, 0, 11, 11, 7, 10, 1, 1, 1, 8, 11, 10, 2, 11, 11, 9, 11, 0, 2, 2, 0, 2, 5, 4, 0, 11, 11, 5, 11, 3, 4, 1, 10, 3, 11, 5, 3, 11, 5, 5, 0, 2, 5, 5, 0, 9, 5, 10, 2, 5, 5, 11, 9, 11, 11, 10, 1, 9, 0, 0, 11, 7, 0, 5, 5, 6, 0, 3, 9, 11, 11, 1, 1, 6, 7, 11, 11, 11, 5, 11, 0, 6, 3, 11, 9, 1, 0, 5, 6, 0, 3, 5, 6, 7, 3, 0, 11, 10, 10, 6, 7, 11, 7, 11, 2, 11, 10, 3, 0, 5, 0, 0, 4, 3, 11, 6, 7, 11, 3, 0, 7, 11, 1, 5, 5, 9, 0, 11, 3, 3, 9, 11, 1, 11, 0, 11, 7, 10, 11, 3, 3, 3, 7, 11, 5, 10, 11, 0, 6, 0, 5, 5, 6, 9, 3, 8, 11, 7, 9, 11, 0, 11, 2, 6, 7, 9, 11, 6, 11, 5, 11, 9, 11, 11, 11, 11, 0, 8, 11, 3, 10]\n"
          ]
        }
      ]
    },
    {
      "cell_type": "code",
      "metadata": {
        "id": "i7CbtHH5elLF"
      },
      "source": [
        "test_labels = test_labels.values.tolist()"
      ],
      "execution_count": 24,
      "outputs": []
    },
    {
      "cell_type": "code",
      "metadata": {
        "colab": {
          "base_uri": "https://localhost:8080/",
          "height": 419
        },
        "id": "fNkBo3tBlkSj",
        "outputId": "772a1796-f7f0-4ab4-9b00-8ad803a788be"
      },
      "source": [
        "# Compare the actual and the predicted labels for each row of the test dataset\n",
        "\n",
        "report = pd.DataFrame({'Actual': test_labels, 'Predicted': prediction})\n",
        "\n",
        "report"
      ],
      "execution_count": 25,
      "outputs": [
        {
          "output_type": "execute_result",
          "data": {
            "text/html": [
              "<div>\n",
              "<style scoped>\n",
              "    .dataframe tbody tr th:only-of-type {\n",
              "        vertical-align: middle;\n",
              "    }\n",
              "\n",
              "    .dataframe tbody tr th {\n",
              "        vertical-align: top;\n",
              "    }\n",
              "\n",
              "    .dataframe thead th {\n",
              "        text-align: right;\n",
              "    }\n",
              "</style>\n",
              "<table border=\"1\" class=\"dataframe\">\n",
              "  <thead>\n",
              "    <tr style=\"text-align: right;\">\n",
              "      <th></th>\n",
              "      <th>Actual</th>\n",
              "      <th>Predicted</th>\n",
              "    </tr>\n",
              "  </thead>\n",
              "  <tbody>\n",
              "    <tr>\n",
              "      <th>0</th>\n",
              "      <td>0</td>\n",
              "      <td>1</td>\n",
              "    </tr>\n",
              "    <tr>\n",
              "      <th>1</th>\n",
              "      <td>0</td>\n",
              "      <td>0</td>\n",
              "    </tr>\n",
              "    <tr>\n",
              "      <th>2</th>\n",
              "      <td>0</td>\n",
              "      <td>1</td>\n",
              "    </tr>\n",
              "    <tr>\n",
              "      <th>3</th>\n",
              "      <td>0</td>\n",
              "      <td>7</td>\n",
              "    </tr>\n",
              "    <tr>\n",
              "      <th>4</th>\n",
              "      <td>0</td>\n",
              "      <td>0</td>\n",
              "    </tr>\n",
              "    <tr>\n",
              "      <th>...</th>\n",
              "      <td>...</td>\n",
              "      <td>...</td>\n",
              "    </tr>\n",
              "    <tr>\n",
              "      <th>13480</th>\n",
              "      <td>11</td>\n",
              "      <td>0</td>\n",
              "    </tr>\n",
              "    <tr>\n",
              "      <th>13481</th>\n",
              "      <td>11</td>\n",
              "      <td>8</td>\n",
              "    </tr>\n",
              "    <tr>\n",
              "      <th>13482</th>\n",
              "      <td>11</td>\n",
              "      <td>11</td>\n",
              "    </tr>\n",
              "    <tr>\n",
              "      <th>13483</th>\n",
              "      <td>11</td>\n",
              "      <td>3</td>\n",
              "    </tr>\n",
              "    <tr>\n",
              "      <th>13484</th>\n",
              "      <td>11</td>\n",
              "      <td>10</td>\n",
              "    </tr>\n",
              "  </tbody>\n",
              "</table>\n",
              "<p>13485 rows × 2 columns</p>\n",
              "</div>"
            ],
            "text/plain": [
              "       Actual  Predicted\n",
              "0           0          1\n",
              "1           0          0\n",
              "2           0          1\n",
              "3           0          7\n",
              "4           0          0\n",
              "...       ...        ...\n",
              "13480      11          0\n",
              "13481      11          8\n",
              "13482      11         11\n",
              "13483      11          3\n",
              "13484      11         10\n",
              "\n",
              "[13485 rows x 2 columns]"
            ]
          },
          "metadata": {},
          "execution_count": 25
        }
      ]
    },
    {
      "cell_type": "code",
      "metadata": {
        "id": "C7Hw8bZ7qK4n"
      },
      "source": [
        "# Accumulate the number of each [actual, prediction] pair\n",
        "\n",
        "numbers = report.groupby(['Actual', 'Predicted']).size()\n",
        "\n",
        "pair_values = pd.DataFrame(numbers)"
      ],
      "execution_count": 26,
      "outputs": []
    },
    {
      "cell_type": "code",
      "metadata": {
        "colab": {
          "base_uri": "https://localhost:8080/",
          "height": 450
        },
        "id": "6Ne8ViE-qXiH",
        "outputId": "8e35c251-8608-47ad-b04c-50733f9b2cae"
      },
      "source": [
        "pair_values"
      ],
      "execution_count": 27,
      "outputs": [
        {
          "output_type": "execute_result",
          "data": {
            "text/html": [
              "<div>\n",
              "<style scoped>\n",
              "    .dataframe tbody tr th:only-of-type {\n",
              "        vertical-align: middle;\n",
              "    }\n",
              "\n",
              "    .dataframe tbody tr th {\n",
              "        vertical-align: top;\n",
              "    }\n",
              "\n",
              "    .dataframe thead th {\n",
              "        text-align: right;\n",
              "    }\n",
              "</style>\n",
              "<table border=\"1\" class=\"dataframe\">\n",
              "  <thead>\n",
              "    <tr style=\"text-align: right;\">\n",
              "      <th></th>\n",
              "      <th></th>\n",
              "      <th>0</th>\n",
              "    </tr>\n",
              "    <tr>\n",
              "      <th>Actual</th>\n",
              "      <th>Predicted</th>\n",
              "      <th></th>\n",
              "    </tr>\n",
              "  </thead>\n",
              "  <tbody>\n",
              "    <tr>\n",
              "      <th rowspan=\"5\" valign=\"top\">0</th>\n",
              "      <th>0</th>\n",
              "      <td>555</td>\n",
              "    </tr>\n",
              "    <tr>\n",
              "      <th>1</th>\n",
              "      <td>120</td>\n",
              "    </tr>\n",
              "    <tr>\n",
              "      <th>2</th>\n",
              "      <td>173</td>\n",
              "    </tr>\n",
              "    <tr>\n",
              "      <th>3</th>\n",
              "      <td>127</td>\n",
              "    </tr>\n",
              "    <tr>\n",
              "      <th>4</th>\n",
              "      <td>30</td>\n",
              "    </tr>\n",
              "    <tr>\n",
              "      <th>...</th>\n",
              "      <th>...</th>\n",
              "      <td>...</td>\n",
              "    </tr>\n",
              "    <tr>\n",
              "      <th rowspan=\"5\" valign=\"top\">11</th>\n",
              "      <th>7</th>\n",
              "      <td>81</td>\n",
              "    </tr>\n",
              "    <tr>\n",
              "      <th>8</th>\n",
              "      <td>22</td>\n",
              "    </tr>\n",
              "    <tr>\n",
              "      <th>9</th>\n",
              "      <td>72</td>\n",
              "    </tr>\n",
              "    <tr>\n",
              "      <th>10</th>\n",
              "      <td>38</td>\n",
              "    </tr>\n",
              "    <tr>\n",
              "      <th>11</th>\n",
              "      <td>235</td>\n",
              "    </tr>\n",
              "  </tbody>\n",
              "</table>\n",
              "<p>144 rows × 1 columns</p>\n",
              "</div>"
            ],
            "text/plain": [
              "                    0\n",
              "Actual Predicted     \n",
              "0      0          555\n",
              "       1          120\n",
              "       2          173\n",
              "       3          127\n",
              "       4           30\n",
              "...               ...\n",
              "11     7           81\n",
              "       8           22\n",
              "       9           72\n",
              "       10          38\n",
              "       11         235\n",
              "\n",
              "[144 rows x 1 columns]"
            ]
          },
          "metadata": {},
          "execution_count": 27
        }
      ]
    },
    {
      "cell_type": "code",
      "metadata": {
        "colab": {
          "base_uri": "https://localhost:8080/"
        },
        "id": "aN2ebVFREaSk",
        "outputId": "9a2f0c7a-7db0-4cdd-c87a-ee319b67b78d"
      },
      "source": [
        "data=[]\n",
        "\n",
        "for i in range(12):\n",
        "  row = []\n",
        "  for j in range(12):\n",
        "    row.append(pair_values[0][i][j])\n",
        "  data.append(row)\n",
        "\n",
        "data"
      ],
      "execution_count": 28,
      "outputs": [
        {
          "output_type": "execute_result",
          "data": {
            "text/plain": [
              "[[555, 120, 173, 127, 30, 164, 34, 204, 37, 156, 90, 114],\n",
              " [305, 246, 192, 108, 41, 85, 169, 110, 53, 80, 41, 140],\n",
              " [58, 23, 570, 6, 66, 134, 19, 35, 80, 72, 14, 16],\n",
              " [208, 80, 71, 222, 4, 82, 107, 115, 13, 67, 71, 175],\n",
              " [31, 13, 116, 3, 195, 140, 3, 12, 137, 41, 27, 13],\n",
              " [49, 6, 97, 21, 47, 281, 12, 33, 66, 65, 40, 26],\n",
              " [150, 143, 148, 111, 25, 62, 279, 101, 17, 74, 51, 147],\n",
              " [163, 17, 67, 49, 8, 56, 40, 605, 10, 58, 57, 86],\n",
              " [26, 4, 45, 3, 37, 131, 2, 5, 200, 40, 13, 6],\n",
              " [164, 35, 179, 78, 73, 238, 52, 109, 75, 404, 233, 83],\n",
              " [56, 8, 39, 34, 20, 45, 8, 21, 17, 119, 302, 21],\n",
              " [103, 44, 42, 74, 7, 93, 69, 81, 22, 72, 38, 235]]"
            ]
          },
          "metadata": {},
          "execution_count": 28
        }
      ]
    },
    {
      "cell_type": "code",
      "metadata": {
        "id": "3ZaQwbzHs6gs"
      },
      "source": [
        "final = pd.DataFrame(data, index=emojis, columns=emojis)\n",
        "\n",
        "final.index.name=\"Actual\"\n",
        "\n",
        "final.columns.name=\"Predicted\""
      ],
      "execution_count": 29,
      "outputs": []
    },
    {
      "cell_type": "markdown",
      "metadata": {
        "id": "iMkbHFHKe1EC"
      },
      "source": [
        "### Confusion Matrix"
      ]
    },
    {
      "cell_type": "code",
      "metadata": {
        "colab": {
          "base_uri": "https://localhost:8080/",
          "height": 452
        },
        "id": "e7QZwohlxYci",
        "outputId": "f0a01aa9-381c-4bbb-d627-e130b4cf78df"
      },
      "source": [
        "final"
      ],
      "execution_count": 30,
      "outputs": [
        {
          "output_type": "execute_result",
          "data": {
            "text/html": [
              "<div>\n",
              "<style scoped>\n",
              "    .dataframe tbody tr th:only-of-type {\n",
              "        vertical-align: middle;\n",
              "    }\n",
              "\n",
              "    .dataframe tbody tr th {\n",
              "        vertical-align: top;\n",
              "    }\n",
              "\n",
              "    .dataframe thead th {\n",
              "        text-align: right;\n",
              "    }\n",
              "</style>\n",
              "<table border=\"1\" class=\"dataframe\">\n",
              "  <thead>\n",
              "    <tr style=\"text-align: right;\">\n",
              "      <th>Predicted</th>\n",
              "      <th>😂</th>\n",
              "      <th>😭</th>\n",
              "      <th>😍</th>\n",
              "      <th>🙄</th>\n",
              "      <th>❤</th>\n",
              "      <th>😊</th>\n",
              "      <th>😩</th>\n",
              "      <th>🤔</th>\n",
              "      <th>😘</th>\n",
              "      <th>🏽</th>\n",
              "      <th>💯</th>\n",
              "      <th>🙃</th>\n",
              "    </tr>\n",
              "    <tr>\n",
              "      <th>Actual</th>\n",
              "      <th></th>\n",
              "      <th></th>\n",
              "      <th></th>\n",
              "      <th></th>\n",
              "      <th></th>\n",
              "      <th></th>\n",
              "      <th></th>\n",
              "      <th></th>\n",
              "      <th></th>\n",
              "      <th></th>\n",
              "      <th></th>\n",
              "      <th></th>\n",
              "    </tr>\n",
              "  </thead>\n",
              "  <tbody>\n",
              "    <tr>\n",
              "      <th>😂</th>\n",
              "      <td>555</td>\n",
              "      <td>120</td>\n",
              "      <td>173</td>\n",
              "      <td>127</td>\n",
              "      <td>30</td>\n",
              "      <td>164</td>\n",
              "      <td>34</td>\n",
              "      <td>204</td>\n",
              "      <td>37</td>\n",
              "      <td>156</td>\n",
              "      <td>90</td>\n",
              "      <td>114</td>\n",
              "    </tr>\n",
              "    <tr>\n",
              "      <th>😭</th>\n",
              "      <td>305</td>\n",
              "      <td>246</td>\n",
              "      <td>192</td>\n",
              "      <td>108</td>\n",
              "      <td>41</td>\n",
              "      <td>85</td>\n",
              "      <td>169</td>\n",
              "      <td>110</td>\n",
              "      <td>53</td>\n",
              "      <td>80</td>\n",
              "      <td>41</td>\n",
              "      <td>140</td>\n",
              "    </tr>\n",
              "    <tr>\n",
              "      <th>😍</th>\n",
              "      <td>58</td>\n",
              "      <td>23</td>\n",
              "      <td>570</td>\n",
              "      <td>6</td>\n",
              "      <td>66</td>\n",
              "      <td>134</td>\n",
              "      <td>19</td>\n",
              "      <td>35</td>\n",
              "      <td>80</td>\n",
              "      <td>72</td>\n",
              "      <td>14</td>\n",
              "      <td>16</td>\n",
              "    </tr>\n",
              "    <tr>\n",
              "      <th>🙄</th>\n",
              "      <td>208</td>\n",
              "      <td>80</td>\n",
              "      <td>71</td>\n",
              "      <td>222</td>\n",
              "      <td>4</td>\n",
              "      <td>82</td>\n",
              "      <td>107</td>\n",
              "      <td>115</td>\n",
              "      <td>13</td>\n",
              "      <td>67</td>\n",
              "      <td>71</td>\n",
              "      <td>175</td>\n",
              "    </tr>\n",
              "    <tr>\n",
              "      <th>❤</th>\n",
              "      <td>31</td>\n",
              "      <td>13</td>\n",
              "      <td>116</td>\n",
              "      <td>3</td>\n",
              "      <td>195</td>\n",
              "      <td>140</td>\n",
              "      <td>3</td>\n",
              "      <td>12</td>\n",
              "      <td>137</td>\n",
              "      <td>41</td>\n",
              "      <td>27</td>\n",
              "      <td>13</td>\n",
              "    </tr>\n",
              "    <tr>\n",
              "      <th>😊</th>\n",
              "      <td>49</td>\n",
              "      <td>6</td>\n",
              "      <td>97</td>\n",
              "      <td>21</td>\n",
              "      <td>47</td>\n",
              "      <td>281</td>\n",
              "      <td>12</td>\n",
              "      <td>33</td>\n",
              "      <td>66</td>\n",
              "      <td>65</td>\n",
              "      <td>40</td>\n",
              "      <td>26</td>\n",
              "    </tr>\n",
              "    <tr>\n",
              "      <th>😩</th>\n",
              "      <td>150</td>\n",
              "      <td>143</td>\n",
              "      <td>148</td>\n",
              "      <td>111</td>\n",
              "      <td>25</td>\n",
              "      <td>62</td>\n",
              "      <td>279</td>\n",
              "      <td>101</td>\n",
              "      <td>17</td>\n",
              "      <td>74</td>\n",
              "      <td>51</td>\n",
              "      <td>147</td>\n",
              "    </tr>\n",
              "    <tr>\n",
              "      <th>🤔</th>\n",
              "      <td>163</td>\n",
              "      <td>17</td>\n",
              "      <td>67</td>\n",
              "      <td>49</td>\n",
              "      <td>8</td>\n",
              "      <td>56</td>\n",
              "      <td>40</td>\n",
              "      <td>605</td>\n",
              "      <td>10</td>\n",
              "      <td>58</td>\n",
              "      <td>57</td>\n",
              "      <td>86</td>\n",
              "    </tr>\n",
              "    <tr>\n",
              "      <th>😘</th>\n",
              "      <td>26</td>\n",
              "      <td>4</td>\n",
              "      <td>45</td>\n",
              "      <td>3</td>\n",
              "      <td>37</td>\n",
              "      <td>131</td>\n",
              "      <td>2</td>\n",
              "      <td>5</td>\n",
              "      <td>200</td>\n",
              "      <td>40</td>\n",
              "      <td>13</td>\n",
              "      <td>6</td>\n",
              "    </tr>\n",
              "    <tr>\n",
              "      <th>🏽</th>\n",
              "      <td>164</td>\n",
              "      <td>35</td>\n",
              "      <td>179</td>\n",
              "      <td>78</td>\n",
              "      <td>73</td>\n",
              "      <td>238</td>\n",
              "      <td>52</td>\n",
              "      <td>109</td>\n",
              "      <td>75</td>\n",
              "      <td>404</td>\n",
              "      <td>233</td>\n",
              "      <td>83</td>\n",
              "    </tr>\n",
              "    <tr>\n",
              "      <th>💯</th>\n",
              "      <td>56</td>\n",
              "      <td>8</td>\n",
              "      <td>39</td>\n",
              "      <td>34</td>\n",
              "      <td>20</td>\n",
              "      <td>45</td>\n",
              "      <td>8</td>\n",
              "      <td>21</td>\n",
              "      <td>17</td>\n",
              "      <td>119</td>\n",
              "      <td>302</td>\n",
              "      <td>21</td>\n",
              "    </tr>\n",
              "    <tr>\n",
              "      <th>🙃</th>\n",
              "      <td>103</td>\n",
              "      <td>44</td>\n",
              "      <td>42</td>\n",
              "      <td>74</td>\n",
              "      <td>7</td>\n",
              "      <td>93</td>\n",
              "      <td>69</td>\n",
              "      <td>81</td>\n",
              "      <td>22</td>\n",
              "      <td>72</td>\n",
              "      <td>38</td>\n",
              "      <td>235</td>\n",
              "    </tr>\n",
              "  </tbody>\n",
              "</table>\n",
              "</div>"
            ],
            "text/plain": [
              "Predicted    😂    😭    😍    🙄    ❤    😊    😩    🤔    😘    🏽    💯    🙃\n",
              "Actual                                                               \n",
              "😂          555  120  173  127   30  164   34  204   37  156   90  114\n",
              "😭          305  246  192  108   41   85  169  110   53   80   41  140\n",
              "😍           58   23  570    6   66  134   19   35   80   72   14   16\n",
              "🙄          208   80   71  222    4   82  107  115   13   67   71  175\n",
              "❤           31   13  116    3  195  140    3   12  137   41   27   13\n",
              "😊           49    6   97   21   47  281   12   33   66   65   40   26\n",
              "😩          150  143  148  111   25   62  279  101   17   74   51  147\n",
              "🤔          163   17   67   49    8   56   40  605   10   58   57   86\n",
              "😘           26    4   45    3   37  131    2    5  200   40   13    6\n",
              "🏽          164   35  179   78   73  238   52  109   75  404  233   83\n",
              "💯           56    8   39   34   20   45    8   21   17  119  302   21\n",
              "🙃          103   44   42   74    7   93   69   81   22   72   38  235"
            ]
          },
          "metadata": {},
          "execution_count": 30
        }
      ]
    },
    {
      "cell_type": "code",
      "metadata": {
        "colab": {
          "base_uri": "https://localhost:8080/",
          "height": 675
        },
        "id": "ugTZnHnbl90h",
        "outputId": "1b32df4d-7e2c-464e-fdec-deec92519fa5"
      },
      "source": [
        "sns.heatmap(final)"
      ],
      "execution_count": 31,
      "outputs": [
        {
          "output_type": "stream",
          "name": "stderr",
          "text": [
            "/usr/local/lib/python3.7/dist-packages/matplotlib/backends/backend_agg.py:214: RuntimeWarning: Glyph 128580 missing from current font.\n",
            "  font.set_text(s, 0.0, flags=flags)\n",
            "/usr/local/lib/python3.7/dist-packages/matplotlib/backends/backend_agg.py:214: RuntimeWarning: Glyph 129300 missing from current font.\n",
            "  font.set_text(s, 0.0, flags=flags)\n",
            "/usr/local/lib/python3.7/dist-packages/matplotlib/backends/backend_agg.py:214: RuntimeWarning: Glyph 127997 missing from current font.\n",
            "  font.set_text(s, 0.0, flags=flags)\n",
            "/usr/local/lib/python3.7/dist-packages/matplotlib/backends/backend_agg.py:214: RuntimeWarning: Glyph 128175 missing from current font.\n",
            "  font.set_text(s, 0.0, flags=flags)\n",
            "/usr/local/lib/python3.7/dist-packages/matplotlib/backends/backend_agg.py:214: RuntimeWarning: Glyph 128579 missing from current font.\n",
            "  font.set_text(s, 0.0, flags=flags)\n",
            "/usr/local/lib/python3.7/dist-packages/matplotlib/backends/backend_agg.py:183: RuntimeWarning: Glyph 128580 missing from current font.\n",
            "  font.set_text(s, 0, flags=flags)\n",
            "/usr/local/lib/python3.7/dist-packages/matplotlib/backends/backend_agg.py:183: RuntimeWarning: Glyph 129300 missing from current font.\n",
            "  font.set_text(s, 0, flags=flags)\n",
            "/usr/local/lib/python3.7/dist-packages/matplotlib/backends/backend_agg.py:183: RuntimeWarning: Glyph 127997 missing from current font.\n",
            "  font.set_text(s, 0, flags=flags)\n",
            "/usr/local/lib/python3.7/dist-packages/matplotlib/backends/backend_agg.py:183: RuntimeWarning: Glyph 128175 missing from current font.\n",
            "  font.set_text(s, 0, flags=flags)\n",
            "/usr/local/lib/python3.7/dist-packages/matplotlib/backends/backend_agg.py:183: RuntimeWarning: Glyph 128579 missing from current font.\n",
            "  font.set_text(s, 0, flags=flags)\n"
          ]
        },
        {
          "output_type": "execute_result",
          "data": {
            "text/plain": [
              "<matplotlib.axes._subplots.AxesSubplot at 0x7efc496a0750>"
            ]
          },
          "metadata": {},
          "execution_count": 31
        },
        {
          "output_type": "display_data",
          "data": {
            "image/png": "[encoded data removed]",
            "text/plain": [
              "<Figure size 432x288 with 2 Axes>"
            ]
          },
          "metadata": {
            "needs_background": "light"
          }
        }
      ]
    },
    {
      "cell_type": "markdown",
      "metadata": {
        "id": "xbBfq4QdfE0y"
      },
      "source": [
        "### Summary of the Model Evaluation"
      ]
    },
    {
      "cell_type": "code",
      "metadata": {
        "colab": {
          "base_uri": "https://localhost:8080/"
        },
        "id": "KONr3wfnUXti",
        "outputId": "250673a5-bc4a-4d90-da96-4d1a55fe394e"
      },
      "source": [
        "cm=confusion_matrix(test_labels, prediction)\n",
        "cm"
      ],
      "execution_count": 32,
      "outputs": [
        {
          "output_type": "execute_result",
          "data": {
            "text/plain": [
              "array([[555, 120, 173, 127,  30, 164,  34, 204,  37, 156,  90, 114],\n",
              "       [305, 246, 192, 108,  41,  85, 169, 110,  53,  80,  41, 140],\n",
              "       [ 58,  23, 570,   6,  66, 134,  19,  35,  80,  72,  14,  16],\n",
              "       [208,  80,  71, 222,   4,  82, 107, 115,  13,  67,  71, 175],\n",
              "       [ 31,  13, 116,   3, 195, 140,   3,  12, 137,  41,  27,  13],\n",
              "       [ 49,   6,  97,  21,  47, 281,  12,  33,  66,  65,  40,  26],\n",
              "       [150, 143, 148, 111,  25,  62, 279, 101,  17,  74,  51, 147],\n",
              "       [163,  17,  67,  49,   8,  56,  40, 605,  10,  58,  57,  86],\n",
              "       [ 26,   4,  45,   3,  37, 131,   2,   5, 200,  40,  13,   6],\n",
              "       [164,  35, 179,  78,  73, 238,  52, 109,  75, 404, 233,  83],\n",
              "       [ 56,   8,  39,  34,  20,  45,   8,  21,  17, 119, 302,  21],\n",
              "       [103,  44,  42,  74,   7,  93,  69,  81,  22,  72,  38, 235]])"
            ]
          },
          "metadata": {},
          "execution_count": 32
        }
      ]
    },
    {
      "cell_type": "code",
      "metadata": {
        "colab": {
          "base_uri": "https://localhost:8080/",
          "height": 295
        },
        "id": "iV8TdexIVUYf",
        "outputId": "6dc46c6f-95e7-4fe6-e5ce-ef462794cb8d"
      },
      "source": [
        "correct = 0\n",
        "\n",
        "for i in range(12):\n",
        "  correct += cm[i][i]\n",
        "\n",
        "total = 0\n",
        "\n",
        "for i in range(12):\n",
        "  for j in range(12):\n",
        "    total += cm[i][j]\n",
        "\n",
        "wrong = total - correct\n",
        "\n",
        "plt.title(\"Evaluation Outcome\")\n",
        "\n",
        "# Data\n",
        "status = ['Correct', 'False']\n",
        "num   = [correct, wrong]\n",
        "\n",
        "# Plot\n",
        "plt.bar(status, num, width=0.50, edgecolor='k', linewidth=2)\n",
        "\n",
        "plt.xlabel(\"Status\")\n",
        "plt.ylabel(\"Number of Predictions\")\n",
        "\n",
        "# Create the graph ticks with a list comprehension\n",
        "plt.yticks(ticks=[x * 1000 for x in range(15)])\n",
        "\n",
        "# Render\n",
        "plt.savefig(\"plot.png\")\n",
        "plt.show()"
      ],
      "execution_count": 33,
      "outputs": [
        {
          "output_type": "display_data",
          "data": {
            "image/png": "[encoded data removed]",
            "text/plain": [
              "<Figure size 432x288 with 1 Axes>"
            ]
          },
          "metadata": {
            "needs_background": "light"
          }
        }
      ]
    },
    {
      "cell_type": "code",
      "metadata": {
        "colab": {
          "base_uri": "https://localhost:8080/"
        },
        "id": "ZKt6WEfhaD4l",
        "outputId": "863c7b8d-e397-4579-89ca-5e3f9de443ed"
      },
      "source": [
        "print(\"Correct: \"+str(correct))\n",
        "print(\"False: \"+str(wrong))\n",
        "\n",
        "print(\"Test Accuracy: \"+str(correct/total))"
      ],
      "execution_count": 34,
      "outputs": [
        {
          "output_type": "stream",
          "name": "stdout",
          "text": [
            "Correct: 4094\n",
            "False: 9391\n",
            "Test Accuracy: 0.303596588802373\n"
          ]
        }
      ]
    },
    {
      "cell_type": "markdown",
      "metadata": {
        "id": "OGlwC-f6K910"
      },
      "source": [
        "# Function for Emoji Prediction"
      ]
    },
    {
      "cell_type": "code",
      "metadata": {
        "id": "Lzl8uNeh9AlR"
      },
      "source": [
        "# Before predicting the emoji from a text, don't forget to do the following:\n",
        "#   -. Include the [CLS] & [SEP] tokens\n",
        "#   -. Tokenize the sentence\n",
        "#   -. Pad the tokenized sentence with a fixed padding length\n",
        "#   -. Find the index of the highest value from the prediction result\n",
        "#   -. return the emoji with the index\n",
        "\n",
        "def prediction(text):\n",
        "  semi_processed_text = \"[CLS] \" + text + \" [SEP]\"\n",
        "  tokenized_text = tokenizer.tokenize(semi_processed_text)\n",
        "  tokenized_text_in_array = [tokenized_text]\n",
        "  text_with_padding = pad_sequences([tokenizer.convert_tokens_to_ids(sent) for sent in tokenized_text_in_array], maxlen=MAX_LEN, dtype=\"long\", truncating=\"post\", padding=\"post\")\n",
        "  index = np.argmax(model.predict(text_with_padding).logits[0])\n",
        "  return emojis[index]"
      ],
      "execution_count": 35,
      "outputs": []
    },
    {
      "cell_type": "code",
      "metadata": {
        "colab": {
          "base_uri": "https://localhost:8080/"
        },
        "id": "akEek8oGgQDM",
        "outputId": "b1e9416d-356d-4cc7-b5de-e77ac31bc060"
      },
      "source": [
        "emojis"
      ],
      "execution_count": 36,
      "outputs": [
        {
          "output_type": "execute_result",
          "data": {
            "text/plain": [
              "array(['😂', '😭', '😍', '🙄', '❤', '😊', '😩', '🤔', '😘', '🏽', '💯', '🙃'],\n",
              "      dtype=object)"
            ]
          },
          "metadata": {},
          "execution_count": 36
        }
      ]
    },
    {
      "cell_type": "code",
      "metadata": {
        "id": "1zyVrWdo-A0-",
        "colab": {
          "base_uri": "https://localhost:8080/",
          "height": 35
        },
        "outputId": "8d9751b7-d490-4035-dc72-2445eea69c6d"
      },
      "source": [
        "prediction(\"Hi, it's really nice to meet you\")"
      ],
      "execution_count": 37,
      "outputs": [
        {
          "output_type": "execute_result",
          "data": {
            "application/vnd.google.colaboratory.intrinsic+json": {
              "type": "string"
            },
            "text/plain": [
              "'😊'"
            ]
          },
          "metadata": {},
          "execution_count": 37
        }
      ]
    },
    {
      "cell_type": "code",
      "metadata": {
        "colab": {
          "base_uri": "https://localhost:8080/",
          "height": 35
        },
        "id": "8HMxq3Y6fKMo",
        "outputId": "b03a2323-f184-4f70-87b3-920013bf3f23"
      },
      "source": [
        "prediction(\"Why do I have to fail a lot??\")"
      ],
      "execution_count": 38,
      "outputs": [
        {
          "output_type": "execute_result",
          "data": {
            "application/vnd.google.colaboratory.intrinsic+json": {
              "type": "string"
            },
            "text/plain": [
              "'🙃'"
            ]
          },
          "metadata": {},
          "execution_count": 38
        }
      ]
    },
    {
      "cell_type": "code",
      "metadata": {
        "colab": {
          "base_uri": "https://localhost:8080/",
          "height": 35
        },
        "id": "nU1yetUnfZfx",
        "outputId": "80c3d1d4-ab60-44dc-a6c1-c9eeb37d3dc5"
      },
      "source": [
        "prediction(\"I love you so much, babe!\")"
      ],
      "execution_count": 39,
      "outputs": [
        {
          "output_type": "execute_result",
          "data": {
            "application/vnd.google.colaboratory.intrinsic+json": {
              "type": "string"
            },
            "text/plain": [
              "'❤'"
            ]
          },
          "metadata": {},
          "execution_count": 39
        }
      ]
    }
  ]
}