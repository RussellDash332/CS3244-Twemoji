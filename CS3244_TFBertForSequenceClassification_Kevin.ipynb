{
  "nbformat": 4,
  "nbformat_minor": 0,
  "metadata": {
    "accelerator": "GPU",
    "colab": {
      "name": "CS3244-TFBertForSequenceClassification-Kevin.ipynb",
      "provenance": [],
      "collapsed_sections": [],
      "toc_visible": true,
      "machine_shape": "hm"
    },
    "kernelspec": {
      "display_name": "Python 3",
      "name": "python3"
    },
    "language_info": {
      "name": "python"
    },
    "widgets": {
      "application/vnd.jupyter.widget-state+json": {
        "c31288d39e2c411491dfc12cb9cea1ba": {
          "model_module": "@jupyter-widgets/controls",
          "model_name": "HBoxModel",
          "model_module_version": "1.5.0",
          "state": {
            "_view_name": "HBoxView",
            "_dom_classes": [],
            "_model_name": "HBoxModel",
            "_view_module": "@jupyter-widgets/controls",
            "_model_module_version": "1.5.0",
            "_view_count": null,
            "_view_module_version": "1.5.0",
            "box_style": "",
            "layout": "IPY_MODEL_cb856157980b47689331d5040b5d03b2",
            "_model_module": "@jupyter-widgets/controls",
            "children": [
              "IPY_MODEL_c4164032930d42a5a8b7ac324dfee0f6",
              "IPY_MODEL_a88e1ff3bb0c42348d44323c7345cae8",
              "IPY_MODEL_4cc7f35f9fc54ef5bada0cf5e2ff7c53"
            ]
          }
        },
        "cb856157980b47689331d5040b5d03b2": {
          "model_module": "@jupyter-widgets/base",
          "model_name": "LayoutModel",
          "model_module_version": "1.2.0",
          "state": {
            "_view_name": "LayoutView",
            "grid_template_rows": null,
            "right": null,
            "justify_content": null,
            "_view_module": "@jupyter-widgets/base",
            "overflow": null,
            "_model_module_version": "1.2.0",
            "_view_count": null,
            "flex_flow": null,
            "width": null,
            "min_width": null,
            "border": null,
            "align_items": null,
            "bottom": null,
            "_model_module": "@jupyter-widgets/base",
            "top": null,
            "grid_column": null,
            "overflow_y": null,
            "overflow_x": null,
            "grid_auto_flow": null,
            "grid_area": null,
            "grid_template_columns": null,
            "flex": null,
            "_model_name": "LayoutModel",
            "justify_items": null,
            "grid_row": null,
            "max_height": null,
            "align_content": null,
            "visibility": null,
            "align_self": null,
            "height": null,
            "min_height": null,
            "padding": null,
            "grid_auto_rows": null,
            "grid_gap": null,
            "max_width": null,
            "order": null,
            "_view_module_version": "1.2.0",
            "grid_template_areas": null,
            "object_position": null,
            "object_fit": null,
            "grid_auto_columns": null,
            "margin": null,
            "display": null,
            "left": null
          }
        },
        "c4164032930d42a5a8b7ac324dfee0f6": {
          "model_module": "@jupyter-widgets/controls",
          "model_name": "HTMLModel",
          "model_module_version": "1.5.0",
          "state": {
            "_view_name": "HTMLView",
            "style": "IPY_MODEL_f48a29b39fd049fea08dc4be85cc76cc",
            "_dom_classes": [],
            "description": "",
            "_model_name": "HTMLModel",
            "placeholder": "​",
            "_view_module": "@jupyter-widgets/controls",
            "_model_module_version": "1.5.0",
            "value": "Downloading: 100%",
            "_view_count": null,
            "_view_module_version": "1.5.0",
            "description_tooltip": null,
            "_model_module": "@jupyter-widgets/controls",
            "layout": "IPY_MODEL_21f4a0699f88449aa3df1eba95f2dafa"
          }
        },
        "a88e1ff3bb0c42348d44323c7345cae8": {
          "model_module": "@jupyter-widgets/controls",
          "model_name": "FloatProgressModel",
          "model_module_version": "1.5.0",
          "state": {
            "_view_name": "ProgressView",
            "style": "IPY_MODEL_61e892060bcb4a099048b1ae37014bdf",
            "_dom_classes": [],
            "description": "",
            "_model_name": "FloatProgressModel",
            "bar_style": "success",
            "max": 231508,
            "_view_module": "@jupyter-widgets/controls",
            "_model_module_version": "1.5.0",
            "value": 231508,
            "_view_count": null,
            "_view_module_version": "1.5.0",
            "orientation": "horizontal",
            "min": 0,
            "description_tooltip": null,
            "_model_module": "@jupyter-widgets/controls",
            "layout": "IPY_MODEL_1481d641a7e94d2b9fea945fb4ae3fec"
          }
        },
        "4cc7f35f9fc54ef5bada0cf5e2ff7c53": {
          "model_module": "@jupyter-widgets/controls",
          "model_name": "HTMLModel",
          "model_module_version": "1.5.0",
          "state": {
            "_view_name": "HTMLView",
            "style": "IPY_MODEL_36089ba368c74aff8365c77e722666cc",
            "_dom_classes": [],
            "description": "",
            "_model_name": "HTMLModel",
            "placeholder": "​",
            "_view_module": "@jupyter-widgets/controls",
            "_model_module_version": "1.5.0",
            "value": " 226k/226k [00:00&lt;00:00, 1.74MB/s]",
            "_view_count": null,
            "_view_module_version": "1.5.0",
            "description_tooltip": null,
            "_model_module": "@jupyter-widgets/controls",
            "layout": "IPY_MODEL_c8eec18b4d324300953917bfaa7be381"
          }
        },
        "f48a29b39fd049fea08dc4be85cc76cc": {
          "model_module": "@jupyter-widgets/controls",
          "model_name": "DescriptionStyleModel",
          "model_module_version": "1.5.0",
          "state": {
            "_view_name": "StyleView",
            "_model_name": "DescriptionStyleModel",
            "description_width": "",
            "_view_module": "@jupyter-widgets/base",
            "_model_module_version": "1.5.0",
            "_view_count": null,
            "_view_module_version": "1.2.0",
            "_model_module": "@jupyter-widgets/controls"
          }
        },
        "21f4a0699f88449aa3df1eba95f2dafa": {
          "model_module": "@jupyter-widgets/base",
          "model_name": "LayoutModel",
          "model_module_version": "1.2.0",
          "state": {
            "_view_name": "LayoutView",
            "grid_template_rows": null,
            "right": null,
            "justify_content": null,
            "_view_module": "@jupyter-widgets/base",
            "overflow": null,
            "_model_module_version": "1.2.0",
            "_view_count": null,
            "flex_flow": null,
            "width": null,
            "min_width": null,
            "border": null,
            "align_items": null,
            "bottom": null,
            "_model_module": "@jupyter-widgets/base",
            "top": null,
            "grid_column": null,
            "overflow_y": null,
            "overflow_x": null,
            "grid_auto_flow": null,
            "grid_area": null,
            "grid_template_columns": null,
            "flex": null,
            "_model_name": "LayoutModel",
            "justify_items": null,
            "grid_row": null,
            "max_height": null,
            "align_content": null,
            "visibility": null,
            "align_self": null,
            "height": null,
            "min_height": null,
            "padding": null,
            "grid_auto_rows": null,
            "grid_gap": null,
            "max_width": null,
            "order": null,
            "_view_module_version": "1.2.0",
            "grid_template_areas": null,
            "object_position": null,
            "object_fit": null,
            "grid_auto_columns": null,
            "margin": null,
            "display": null,
            "left": null
          }
        },
        "61e892060bcb4a099048b1ae37014bdf": {
          "model_module": "@jupyter-widgets/controls",
          "model_name": "ProgressStyleModel",
          "model_module_version": "1.5.0",
          "state": {
            "_view_name": "StyleView",
            "_model_name": "ProgressStyleModel",
            "description_width": "",
            "_view_module": "@jupyter-widgets/base",
            "_model_module_version": "1.5.0",
            "_view_count": null,
            "_view_module_version": "1.2.0",
            "bar_color": null,
            "_model_module": "@jupyter-widgets/controls"
          }
        },
        "1481d641a7e94d2b9fea945fb4ae3fec": {
          "model_module": "@jupyter-widgets/base",
          "model_name": "LayoutModel",
          "model_module_version": "1.2.0",
          "state": {
            "_view_name": "LayoutView",
            "grid_template_rows": null,
            "right": null,
            "justify_content": null,
            "_view_module": "@jupyter-widgets/base",
            "overflow": null,
            "_model_module_version": "1.2.0",
            "_view_count": null,
            "flex_flow": null,
            "width": null,
            "min_width": null,
            "border": null,
            "align_items": null,
            "bottom": null,
            "_model_module": "@jupyter-widgets/base",
            "top": null,
            "grid_column": null,
            "overflow_y": null,
            "overflow_x": null,
            "grid_auto_flow": null,
            "grid_area": null,
            "grid_template_columns": null,
            "flex": null,
            "_model_name": "LayoutModel",
            "justify_items": null,
            "grid_row": null,
            "max_height": null,
            "align_content": null,
            "visibility": null,
            "align_self": null,
            "height": null,
            "min_height": null,
            "padding": null,
            "grid_auto_rows": null,
            "grid_gap": null,
            "max_width": null,
            "order": null,
            "_view_module_version": "1.2.0",
            "grid_template_areas": null,
            "object_position": null,
            "object_fit": null,
            "grid_auto_columns": null,
            "margin": null,
            "display": null,
            "left": null
          }
        },
        "36089ba368c74aff8365c77e722666cc": {
          "model_module": "@jupyter-widgets/controls",
          "model_name": "DescriptionStyleModel",
          "model_module_version": "1.5.0",
          "state": {
            "_view_name": "StyleView",
            "_model_name": "DescriptionStyleModel",
            "description_width": "",
            "_view_module": "@jupyter-widgets/base",
            "_model_module_version": "1.5.0",
            "_view_count": null,
            "_view_module_version": "1.2.0",
            "_model_module": "@jupyter-widgets/controls"
          }
        },
        "c8eec18b4d324300953917bfaa7be381": {
          "model_module": "@jupyter-widgets/base",
          "model_name": "LayoutModel",
          "model_module_version": "1.2.0",
          "state": {
            "_view_name": "LayoutView",
            "grid_template_rows": null,
            "right": null,
            "justify_content": null,
            "_view_module": "@jupyter-widgets/base",
            "overflow": null,
            "_model_module_version": "1.2.0",
            "_view_count": null,
            "flex_flow": null,
            "width": null,
            "min_width": null,
            "border": null,
            "align_items": null,
            "bottom": null,
            "_model_module": "@jupyter-widgets/base",
            "top": null,
            "grid_column": null,
            "overflow_y": null,
            "overflow_x": null,
            "grid_auto_flow": null,
            "grid_area": null,
            "grid_template_columns": null,
            "flex": null,
            "_model_name": "LayoutModel",
            "justify_items": null,
            "grid_row": null,
            "max_height": null,
            "align_content": null,
            "visibility": null,
            "align_self": null,
            "height": null,
            "min_height": null,
            "padding": null,
            "grid_auto_rows": null,
            "grid_gap": null,
            "max_width": null,
            "order": null,
            "_view_module_version": "1.2.0",
            "grid_template_areas": null,
            "object_position": null,
            "object_fit": null,
            "grid_auto_columns": null,
            "margin": null,
            "display": null,
            "left": null
          }
        },
        "af632c836e9c43508549e05cd07ba6e2": {
          "model_module": "@jupyter-widgets/controls",
          "model_name": "HBoxModel",
          "model_module_version": "1.5.0",
          "state": {
            "_view_name": "HBoxView",
            "_dom_classes": [],
            "_model_name": "HBoxModel",
            "_view_module": "@jupyter-widgets/controls",
            "_model_module_version": "1.5.0",
            "_view_count": null,
            "_view_module_version": "1.5.0",
            "box_style": "",
            "layout": "IPY_MODEL_5f43263f16a04f4d88a8033ae798a42c",
            "_model_module": "@jupyter-widgets/controls",
            "children": [
              "IPY_MODEL_17877985261b487492dc6a2eed9517e2",
              "IPY_MODEL_f82130eb47604c95a6449f325788249e",
              "IPY_MODEL_306fef64871244d7a8ab005b6d9a2a6b"
            ]
          }
        },
        "5f43263f16a04f4d88a8033ae798a42c": {
          "model_module": "@jupyter-widgets/base",
          "model_name": "LayoutModel",
          "model_module_version": "1.2.0",
          "state": {
            "_view_name": "LayoutView",
            "grid_template_rows": null,
            "right": null,
            "justify_content": null,
            "_view_module": "@jupyter-widgets/base",
            "overflow": null,
            "_model_module_version": "1.2.0",
            "_view_count": null,
            "flex_flow": null,
            "width": null,
            "min_width": null,
            "border": null,
            "align_items": null,
            "bottom": null,
            "_model_module": "@jupyter-widgets/base",
            "top": null,
            "grid_column": null,
            "overflow_y": null,
            "overflow_x": null,
            "grid_auto_flow": null,
            "grid_area": null,
            "grid_template_columns": null,
            "flex": null,
            "_model_name": "LayoutModel",
            "justify_items": null,
            "grid_row": null,
            "max_height": null,
            "align_content": null,
            "visibility": null,
            "align_self": null,
            "height": null,
            "min_height": null,
            "padding": null,
            "grid_auto_rows": null,
            "grid_gap": null,
            "max_width": null,
            "order": null,
            "_view_module_version": "1.2.0",
            "grid_template_areas": null,
            "object_position": null,
            "object_fit": null,
            "grid_auto_columns": null,
            "margin": null,
            "display": null,
            "left": null
          }
        },
        "17877985261b487492dc6a2eed9517e2": {
          "model_module": "@jupyter-widgets/controls",
          "model_name": "HTMLModel",
          "model_module_version": "1.5.0",
          "state": {
            "_view_name": "HTMLView",
            "style": "IPY_MODEL_0888760a97d94edcb3cd99d9e8dbf319",
            "_dom_classes": [],
            "description": "",
            "_model_name": "HTMLModel",
            "placeholder": "​",
            "_view_module": "@jupyter-widgets/controls",
            "_model_module_version": "1.5.0",
            "value": "Downloading: 100%",
            "_view_count": null,
            "_view_module_version": "1.5.0",
            "description_tooltip": null,
            "_model_module": "@jupyter-widgets/controls",
            "layout": "IPY_MODEL_d9ad0d3d44694bfd8978f5a2123f42ca"
          }
        },
        "f82130eb47604c95a6449f325788249e": {
          "model_module": "@jupyter-widgets/controls",
          "model_name": "FloatProgressModel",
          "model_module_version": "1.5.0",
          "state": {
            "_view_name": "ProgressView",
            "style": "IPY_MODEL_ef6d4d87146a477ba75cd76ff82d0757",
            "_dom_classes": [],
            "description": "",
            "_model_name": "FloatProgressModel",
            "bar_style": "success",
            "max": 28,
            "_view_module": "@jupyter-widgets/controls",
            "_model_module_version": "1.5.0",
            "value": 28,
            "_view_count": null,
            "_view_module_version": "1.5.0",
            "orientation": "horizontal",
            "min": 0,
            "description_tooltip": null,
            "_model_module": "@jupyter-widgets/controls",
            "layout": "IPY_MODEL_204d1b67aa3f456dbd7939ab15bf6dc0"
          }
        },
        "306fef64871244d7a8ab005b6d9a2a6b": {
          "model_module": "@jupyter-widgets/controls",
          "model_name": "HTMLModel",
          "model_module_version": "1.5.0",
          "state": {
            "_view_name": "HTMLView",
            "style": "IPY_MODEL_8ebe71db2ec64ad58baf7a89fba240c3",
            "_dom_classes": [],
            "description": "",
            "_model_name": "HTMLModel",
            "placeholder": "​",
            "_view_module": "@jupyter-widgets/controls",
            "_model_module_version": "1.5.0",
            "value": " 28.0/28.0 [00:00&lt;00:00, 1.15kB/s]",
            "_view_count": null,
            "_view_module_version": "1.5.0",
            "description_tooltip": null,
            "_model_module": "@jupyter-widgets/controls",
            "layout": "IPY_MODEL_ebf3c564d5e94f64afbfdc89a726ddf2"
          }
        },
        "0888760a97d94edcb3cd99d9e8dbf319": {
          "model_module": "@jupyter-widgets/controls",
          "model_name": "DescriptionStyleModel",
          "model_module_version": "1.5.0",
          "state": {
            "_view_name": "StyleView",
            "_model_name": "DescriptionStyleModel",
            "description_width": "",
            "_view_module": "@jupyter-widgets/base",
            "_model_module_version": "1.5.0",
            "_view_count": null,
            "_view_module_version": "1.2.0",
            "_model_module": "@jupyter-widgets/controls"
          }
        },
        "d9ad0d3d44694bfd8978f5a2123f42ca": {
          "model_module": "@jupyter-widgets/base",
          "model_name": "LayoutModel",
          "model_module_version": "1.2.0",
          "state": {
            "_view_name": "LayoutView",
            "grid_template_rows": null,
            "right": null,
            "justify_content": null,
            "_view_module": "@jupyter-widgets/base",
            "overflow": null,
            "_model_module_version": "1.2.0",
            "_view_count": null,
            "flex_flow": null,
            "width": null,
            "min_width": null,
            "border": null,
            "align_items": null,
            "bottom": null,
            "_model_module": "@jupyter-widgets/base",
            "top": null,
            "grid_column": null,
            "overflow_y": null,
            "overflow_x": null,
            "grid_auto_flow": null,
            "grid_area": null,
            "grid_template_columns": null,
            "flex": null,
            "_model_name": "LayoutModel",
            "justify_items": null,
            "grid_row": null,
            "max_height": null,
            "align_content": null,
            "visibility": null,
            "align_self": null,
            "height": null,
            "min_height": null,
            "padding": null,
            "grid_auto_rows": null,
            "grid_gap": null,
            "max_width": null,
            "order": null,
            "_view_module_version": "1.2.0",
            "grid_template_areas": null,
            "object_position": null,
            "object_fit": null,
            "grid_auto_columns": null,
            "margin": null,
            "display": null,
            "left": null
          }
        },
        "ef6d4d87146a477ba75cd76ff82d0757": {
          "model_module": "@jupyter-widgets/controls",
          "model_name": "ProgressStyleModel",
          "model_module_version": "1.5.0",
          "state": {
            "_view_name": "StyleView",
            "_model_name": "ProgressStyleModel",
            "description_width": "",
            "_view_module": "@jupyter-widgets/base",
            "_model_module_version": "1.5.0",
            "_view_count": null,
            "_view_module_version": "1.2.0",
            "bar_color": null,
            "_model_module": "@jupyter-widgets/controls"
          }
        },
        "204d1b67aa3f456dbd7939ab15bf6dc0": {
          "model_module": "@jupyter-widgets/base",
          "model_name": "LayoutModel",
          "model_module_version": "1.2.0",
          "state": {
            "_view_name": "LayoutView",
            "grid_template_rows": null,
            "right": null,
            "justify_content": null,
            "_view_module": "@jupyter-widgets/base",
            "overflow": null,
            "_model_module_version": "1.2.0",
            "_view_count": null,
            "flex_flow": null,
            "width": null,
            "min_width": null,
            "border": null,
            "align_items": null,
            "bottom": null,
            "_model_module": "@jupyter-widgets/base",
            "top": null,
            "grid_column": null,
            "overflow_y": null,
            "overflow_x": null,
            "grid_auto_flow": null,
            "grid_area": null,
            "grid_template_columns": null,
            "flex": null,
            "_model_name": "LayoutModel",
            "justify_items": null,
            "grid_row": null,
            "max_height": null,
            "align_content": null,
            "visibility": null,
            "align_self": null,
            "height": null,
            "min_height": null,
            "padding": null,
            "grid_auto_rows": null,
            "grid_gap": null,
            "max_width": null,
            "order": null,
            "_view_module_version": "1.2.0",
            "grid_template_areas": null,
            "object_position": null,
            "object_fit": null,
            "grid_auto_columns": null,
            "margin": null,
            "display": null,
            "left": null
          }
        },
        "8ebe71db2ec64ad58baf7a89fba240c3": {
          "model_module": "@jupyter-widgets/controls",
          "model_name": "DescriptionStyleModel",
          "model_module_version": "1.5.0",
          "state": {
            "_view_name": "StyleView",
            "_model_name": "DescriptionStyleModel",
            "description_width": "",
            "_view_module": "@jupyter-widgets/base",
            "_model_module_version": "1.5.0",
            "_view_count": null,
            "_view_module_version": "1.2.0",
            "_model_module": "@jupyter-widgets/controls"
          }
        },
        "ebf3c564d5e94f64afbfdc89a726ddf2": {
          "model_module": "@jupyter-widgets/base",
          "model_name": "LayoutModel",
          "model_module_version": "1.2.0",
          "state": {
            "_view_name": "LayoutView",
            "grid_template_rows": null,
            "right": null,
            "justify_content": null,
            "_view_module": "@jupyter-widgets/base",
            "overflow": null,
            "_model_module_version": "1.2.0",
            "_view_count": null,
            "flex_flow": null,
            "width": null,
            "min_width": null,
            "border": null,
            "align_items": null,
            "bottom": null,
            "_model_module": "@jupyter-widgets/base",
            "top": null,
            "grid_column": null,
            "overflow_y": null,
            "overflow_x": null,
            "grid_auto_flow": null,
            "grid_area": null,
            "grid_template_columns": null,
            "flex": null,
            "_model_name": "LayoutModel",
            "justify_items": null,
            "grid_row": null,
            "max_height": null,
            "align_content": null,
            "visibility": null,
            "align_self": null,
            "height": null,
            "min_height": null,
            "padding": null,
            "grid_auto_rows": null,
            "grid_gap": null,
            "max_width": null,
            "order": null,
            "_view_module_version": "1.2.0",
            "grid_template_areas": null,
            "object_position": null,
            "object_fit": null,
            "grid_auto_columns": null,
            "margin": null,
            "display": null,
            "left": null
          }
        },
        "228a58a5cf1d4ce7addb3332afc0ad3c": {
          "model_module": "@jupyter-widgets/controls",
          "model_name": "HBoxModel",
          "model_module_version": "1.5.0",
          "state": {
            "_view_name": "HBoxView",
            "_dom_classes": [],
            "_model_name": "HBoxModel",
            "_view_module": "@jupyter-widgets/controls",
            "_model_module_version": "1.5.0",
            "_view_count": null,
            "_view_module_version": "1.5.0",
            "box_style": "",
            "layout": "IPY_MODEL_0859d060329f4374a79baba533c58bdb",
            "_model_module": "@jupyter-widgets/controls",
            "children": [
              "IPY_MODEL_6be7b30ae14d481aa37771126846645c",
              "IPY_MODEL_2cdd53b1cd35406487b711bf1c0b061b",
              "IPY_MODEL_e9d99082792745048c4b5196101254ff"
            ]
          }
        },
        "0859d060329f4374a79baba533c58bdb": {
          "model_module": "@jupyter-widgets/base",
          "model_name": "LayoutModel",
          "model_module_version": "1.2.0",
          "state": {
            "_view_name": "LayoutView",
            "grid_template_rows": null,
            "right": null,
            "justify_content": null,
            "_view_module": "@jupyter-widgets/base",
            "overflow": null,
            "_model_module_version": "1.2.0",
            "_view_count": null,
            "flex_flow": null,
            "width": null,
            "min_width": null,
            "border": null,
            "align_items": null,
            "bottom": null,
            "_model_module": "@jupyter-widgets/base",
            "top": null,
            "grid_column": null,
            "overflow_y": null,
            "overflow_x": null,
            "grid_auto_flow": null,
            "grid_area": null,
            "grid_template_columns": null,
            "flex": null,
            "_model_name": "LayoutModel",
            "justify_items": null,
            "grid_row": null,
            "max_height": null,
            "align_content": null,
            "visibility": null,
            "align_self": null,
            "height": null,
            "min_height": null,
            "padding": null,
            "grid_auto_rows": null,
            "grid_gap": null,
            "max_width": null,
            "order": null,
            "_view_module_version": "1.2.0",
            "grid_template_areas": null,
            "object_position": null,
            "object_fit": null,
            "grid_auto_columns": null,
            "margin": null,
            "display": null,
            "left": null
          }
        },
        "6be7b30ae14d481aa37771126846645c": {
          "model_module": "@jupyter-widgets/controls",
          "model_name": "HTMLModel",
          "model_module_version": "1.5.0",
          "state": {
            "_view_name": "HTMLView",
            "style": "IPY_MODEL_9a20bcef89d14309be5aa073e67fe1d6",
            "_dom_classes": [],
            "description": "",
            "_model_name": "HTMLModel",
            "placeholder": "​",
            "_view_module": "@jupyter-widgets/controls",
            "_model_module_version": "1.5.0",
            "value": "Downloading: 100%",
            "_view_count": null,
            "_view_module_version": "1.5.0",
            "description_tooltip": null,
            "_model_module": "@jupyter-widgets/controls",
            "layout": "IPY_MODEL_9caa1ffe1d654806b78c4873f30e4d04"
          }
        },
        "2cdd53b1cd35406487b711bf1c0b061b": {
          "model_module": "@jupyter-widgets/controls",
          "model_name": "FloatProgressModel",
          "model_module_version": "1.5.0",
          "state": {
            "_view_name": "ProgressView",
            "style": "IPY_MODEL_edb2f78a3dd14162adc46f789a1b855a",
            "_dom_classes": [],
            "description": "",
            "_model_name": "FloatProgressModel",
            "bar_style": "success",
            "max": 466062,
            "_view_module": "@jupyter-widgets/controls",
            "_model_module_version": "1.5.0",
            "value": 466062,
            "_view_count": null,
            "_view_module_version": "1.5.0",
            "orientation": "horizontal",
            "min": 0,
            "description_tooltip": null,
            "_model_module": "@jupyter-widgets/controls",
            "layout": "IPY_MODEL_25554b732ae24b8fa87e53cdf8b513d7"
          }
        },
        "e9d99082792745048c4b5196101254ff": {
          "model_module": "@jupyter-widgets/controls",
          "model_name": "HTMLModel",
          "model_module_version": "1.5.0",
          "state": {
            "_view_name": "HTMLView",
            "style": "IPY_MODEL_186686d722a24b57b2331ac52d8ec20b",
            "_dom_classes": [],
            "description": "",
            "_model_name": "HTMLModel",
            "placeholder": "​",
            "_view_module": "@jupyter-widgets/controls",
            "_model_module_version": "1.5.0",
            "value": " 455k/455k [00:00&lt;00:00, 2.19MB/s]",
            "_view_count": null,
            "_view_module_version": "1.5.0",
            "description_tooltip": null,
            "_model_module": "@jupyter-widgets/controls",
            "layout": "IPY_MODEL_a33cc077e775438b91ac9acba9667406"
          }
        },
        "9a20bcef89d14309be5aa073e67fe1d6": {
          "model_module": "@jupyter-widgets/controls",
          "model_name": "DescriptionStyleModel",
          "model_module_version": "1.5.0",
          "state": {
            "_view_name": "StyleView",
            "_model_name": "DescriptionStyleModel",
            "description_width": "",
            "_view_module": "@jupyter-widgets/base",
            "_model_module_version": "1.5.0",
            "_view_count": null,
            "_view_module_version": "1.2.0",
            "_model_module": "@jupyter-widgets/controls"
          }
        },
        "9caa1ffe1d654806b78c4873f30e4d04": {
          "model_module": "@jupyter-widgets/base",
          "model_name": "LayoutModel",
          "model_module_version": "1.2.0",
          "state": {
            "_view_name": "LayoutView",
            "grid_template_rows": null,
            "right": null,
            "justify_content": null,
            "_view_module": "@jupyter-widgets/base",
            "overflow": null,
            "_model_module_version": "1.2.0",
            "_view_count": null,
            "flex_flow": null,
            "width": null,
            "min_width": null,
            "border": null,
            "align_items": null,
            "bottom": null,
            "_model_module": "@jupyter-widgets/base",
            "top": null,
            "grid_column": null,
            "overflow_y": null,
            "overflow_x": null,
            "grid_auto_flow": null,
            "grid_area": null,
            "grid_template_columns": null,
            "flex": null,
            "_model_name": "LayoutModel",
            "justify_items": null,
            "grid_row": null,
            "max_height": null,
            "align_content": null,
            "visibility": null,
            "align_self": null,
            "height": null,
            "min_height": null,
            "padding": null,
            "grid_auto_rows": null,
            "grid_gap": null,
            "max_width": null,
            "order": null,
            "_view_module_version": "1.2.0",
            "grid_template_areas": null,
            "object_position": null,
            "object_fit": null,
            "grid_auto_columns": null,
            "margin": null,
            "display": null,
            "left": null
          }
        },
        "edb2f78a3dd14162adc46f789a1b855a": {
          "model_module": "@jupyter-widgets/controls",
          "model_name": "ProgressStyleModel",
          "model_module_version": "1.5.0",
          "state": {
            "_view_name": "StyleView",
            "_model_name": "ProgressStyleModel",
            "description_width": "",
            "_view_module": "@jupyter-widgets/base",
            "_model_module_version": "1.5.0",
            "_view_count": null,
            "_view_module_version": "1.2.0",
            "bar_color": null,
            "_model_module": "@jupyter-widgets/controls"
          }
        },
        "25554b732ae24b8fa87e53cdf8b513d7": {
          "model_module": "@jupyter-widgets/base",
          "model_name": "LayoutModel",
          "model_module_version": "1.2.0",
          "state": {
            "_view_name": "LayoutView",
            "grid_template_rows": null,
            "right": null,
            "justify_content": null,
            "_view_module": "@jupyter-widgets/base",
            "overflow": null,
            "_model_module_version": "1.2.0",
            "_view_count": null,
            "flex_flow": null,
            "width": null,
            "min_width": null,
            "border": null,
            "align_items": null,
            "bottom": null,
            "_model_module": "@jupyter-widgets/base",
            "top": null,
            "grid_column": null,
            "overflow_y": null,
            "overflow_x": null,
            "grid_auto_flow": null,
            "grid_area": null,
            "grid_template_columns": null,
            "flex": null,
            "_model_name": "LayoutModel",
            "justify_items": null,
            "grid_row": null,
            "max_height": null,
            "align_content": null,
            "visibility": null,
            "align_self": null,
            "height": null,
            "min_height": null,
            "padding": null,
            "grid_auto_rows": null,
            "grid_gap": null,
            "max_width": null,
            "order": null,
            "_view_module_version": "1.2.0",
            "grid_template_areas": null,
            "object_position": null,
            "object_fit": null,
            "grid_auto_columns": null,
            "margin": null,
            "display": null,
            "left": null
          }
        },
        "186686d722a24b57b2331ac52d8ec20b": {
          "model_module": "@jupyter-widgets/controls",
          "model_name": "DescriptionStyleModel",
          "model_module_version": "1.5.0",
          "state": {
            "_view_name": "StyleView",
            "_model_name": "DescriptionStyleModel",
            "description_width": "",
            "_view_module": "@jupyter-widgets/base",
            "_model_module_version": "1.5.0",
            "_view_count": null,
            "_view_module_version": "1.2.0",
            "_model_module": "@jupyter-widgets/controls"
          }
        },
        "a33cc077e775438b91ac9acba9667406": {
          "model_module": "@jupyter-widgets/base",
          "model_name": "LayoutModel",
          "model_module_version": "1.2.0",
          "state": {
            "_view_name": "LayoutView",
            "grid_template_rows": null,
            "right": null,
            "justify_content": null,
            "_view_module": "@jupyter-widgets/base",
            "overflow": null,
            "_model_module_version": "1.2.0",
            "_view_count": null,
            "flex_flow": null,
            "width": null,
            "min_width": null,
            "border": null,
            "align_items": null,
            "bottom": null,
            "_model_module": "@jupyter-widgets/base",
            "top": null,
            "grid_column": null,
            "overflow_y": null,
            "overflow_x": null,
            "grid_auto_flow": null,
            "grid_area": null,
            "grid_template_columns": null,
            "flex": null,
            "_model_name": "LayoutModel",
            "justify_items": null,
            "grid_row": null,
            "max_height": null,
            "align_content": null,
            "visibility": null,
            "align_self": null,
            "height": null,
            "min_height": null,
            "padding": null,
            "grid_auto_rows": null,
            "grid_gap": null,
            "max_width": null,
            "order": null,
            "_view_module_version": "1.2.0",
            "grid_template_areas": null,
            "object_position": null,
            "object_fit": null,
            "grid_auto_columns": null,
            "margin": null,
            "display": null,
            "left": null
          }
        },
        "880871c5285e46528bd7fed569b10bf8": {
          "model_module": "@jupyter-widgets/controls",
          "model_name": "HBoxModel",
          "model_module_version": "1.5.0",
          "state": {
            "_view_name": "HBoxView",
            "_dom_classes": [],
            "_model_name": "HBoxModel",
            "_view_module": "@jupyter-widgets/controls",
            "_model_module_version": "1.5.0",
            "_view_count": null,
            "_view_module_version": "1.5.0",
            "box_style": "",
            "layout": "IPY_MODEL_82edd91758104400937f0ebc15b37c5d",
            "_model_module": "@jupyter-widgets/controls",
            "children": [
              "IPY_MODEL_370cdf4d94c142f990649afa68e36fbe",
              "IPY_MODEL_15b905c6a4cf43868d4146708606bdb5",
              "IPY_MODEL_e6114643075544718236c2cd599d25cd"
            ]
          }
        },
        "82edd91758104400937f0ebc15b37c5d": {
          "model_module": "@jupyter-widgets/base",
          "model_name": "LayoutModel",
          "model_module_version": "1.2.0",
          "state": {
            "_view_name": "LayoutView",
            "grid_template_rows": null,
            "right": null,
            "justify_content": null,
            "_view_module": "@jupyter-widgets/base",
            "overflow": null,
            "_model_module_version": "1.2.0",
            "_view_count": null,
            "flex_flow": null,
            "width": null,
            "min_width": null,
            "border": null,
            "align_items": null,
            "bottom": null,
            "_model_module": "@jupyter-widgets/base",
            "top": null,
            "grid_column": null,
            "overflow_y": null,
            "overflow_x": null,
            "grid_auto_flow": null,
            "grid_area": null,
            "grid_template_columns": null,
            "flex": null,
            "_model_name": "LayoutModel",
            "justify_items": null,
            "grid_row": null,
            "max_height": null,
            "align_content": null,
            "visibility": null,
            "align_self": null,
            "height": null,
            "min_height": null,
            "padding": null,
            "grid_auto_rows": null,
            "grid_gap": null,
            "max_width": null,
            "order": null,
            "_view_module_version": "1.2.0",
            "grid_template_areas": null,
            "object_position": null,
            "object_fit": null,
            "grid_auto_columns": null,
            "margin": null,
            "display": null,
            "left": null
          }
        },
        "370cdf4d94c142f990649afa68e36fbe": {
          "model_module": "@jupyter-widgets/controls",
          "model_name": "HTMLModel",
          "model_module_version": "1.5.0",
          "state": {
            "_view_name": "HTMLView",
            "style": "IPY_MODEL_8cab86a61fad44c7b5d8cc60e815a80e",
            "_dom_classes": [],
            "description": "",
            "_model_name": "HTMLModel",
            "placeholder": "​",
            "_view_module": "@jupyter-widgets/controls",
            "_model_module_version": "1.5.0",
            "value": "Downloading: 100%",
            "_view_count": null,
            "_view_module_version": "1.5.0",
            "description_tooltip": null,
            "_model_module": "@jupyter-widgets/controls",
            "layout": "IPY_MODEL_d79482d23b4344c4984fcd5e01f0de3f"
          }
        },
        "15b905c6a4cf43868d4146708606bdb5": {
          "model_module": "@jupyter-widgets/controls",
          "model_name": "FloatProgressModel",
          "model_module_version": "1.5.0",
          "state": {
            "_view_name": "ProgressView",
            "style": "IPY_MODEL_4685de54563641df982d69e80b095f44",
            "_dom_classes": [],
            "description": "",
            "_model_name": "FloatProgressModel",
            "bar_style": "success",
            "max": 570,
            "_view_module": "@jupyter-widgets/controls",
            "_model_module_version": "1.5.0",
            "value": 570,
            "_view_count": null,
            "_view_module_version": "1.5.0",
            "orientation": "horizontal",
            "min": 0,
            "description_tooltip": null,
            "_model_module": "@jupyter-widgets/controls",
            "layout": "IPY_MODEL_e6e63320058f45908d4ddf66e846a456"
          }
        },
        "e6114643075544718236c2cd599d25cd": {
          "model_module": "@jupyter-widgets/controls",
          "model_name": "HTMLModel",
          "model_module_version": "1.5.0",
          "state": {
            "_view_name": "HTMLView",
            "style": "IPY_MODEL_132991da8544466ba6827f71fcdc9c83",
            "_dom_classes": [],
            "description": "",
            "_model_name": "HTMLModel",
            "placeholder": "​",
            "_view_module": "@jupyter-widgets/controls",
            "_model_module_version": "1.5.0",
            "value": " 570/570 [00:00&lt;00:00, 19.1kB/s]",
            "_view_count": null,
            "_view_module_version": "1.5.0",
            "description_tooltip": null,
            "_model_module": "@jupyter-widgets/controls",
            "layout": "IPY_MODEL_f5001838778e443dae7c483beb7865c5"
          }
        },
        "8cab86a61fad44c7b5d8cc60e815a80e": {
          "model_module": "@jupyter-widgets/controls",
          "model_name": "DescriptionStyleModel",
          "model_module_version": "1.5.0",
          "state": {
            "_view_name": "StyleView",
            "_model_name": "DescriptionStyleModel",
            "description_width": "",
            "_view_module": "@jupyter-widgets/base",
            "_model_module_version": "1.5.0",
            "_view_count": null,
            "_view_module_version": "1.2.0",
            "_model_module": "@jupyter-widgets/controls"
          }
        },
        "d79482d23b4344c4984fcd5e01f0de3f": {
          "model_module": "@jupyter-widgets/base",
          "model_name": "LayoutModel",
          "model_module_version": "1.2.0",
          "state": {
            "_view_name": "LayoutView",
            "grid_template_rows": null,
            "right": null,
            "justify_content": null,
            "_view_module": "@jupyter-widgets/base",
            "overflow": null,
            "_model_module_version": "1.2.0",
            "_view_count": null,
            "flex_flow": null,
            "width": null,
            "min_width": null,
            "border": null,
            "align_items": null,
            "bottom": null,
            "_model_module": "@jupyter-widgets/base",
            "top": null,
            "grid_column": null,
            "overflow_y": null,
            "overflow_x": null,
            "grid_auto_flow": null,
            "grid_area": null,
            "grid_template_columns": null,
            "flex": null,
            "_model_name": "LayoutModel",
            "justify_items": null,
            "grid_row": null,
            "max_height": null,
            "align_content": null,
            "visibility": null,
            "align_self": null,
            "height": null,
            "min_height": null,
            "padding": null,
            "grid_auto_rows": null,
            "grid_gap": null,
            "max_width": null,
            "order": null,
            "_view_module_version": "1.2.0",
            "grid_template_areas": null,
            "object_position": null,
            "object_fit": null,
            "grid_auto_columns": null,
            "margin": null,
            "display": null,
            "left": null
          }
        },
        "4685de54563641df982d69e80b095f44": {
          "model_module": "@jupyter-widgets/controls",
          "model_name": "ProgressStyleModel",
          "model_module_version": "1.5.0",
          "state": {
            "_view_name": "StyleView",
            "_model_name": "ProgressStyleModel",
            "description_width": "",
            "_view_module": "@jupyter-widgets/base",
            "_model_module_version": "1.5.0",
            "_view_count": null,
            "_view_module_version": "1.2.0",
            "bar_color": null,
            "_model_module": "@jupyter-widgets/controls"
          }
        },
        "e6e63320058f45908d4ddf66e846a456": {
          "model_module": "@jupyter-widgets/base",
          "model_name": "LayoutModel",
          "model_module_version": "1.2.0",
          "state": {
            "_view_name": "LayoutView",
            "grid_template_rows": null,
            "right": null,
            "justify_content": null,
            "_view_module": "@jupyter-widgets/base",
            "overflow": null,
            "_model_module_version": "1.2.0",
            "_view_count": null,
            "flex_flow": null,
            "width": null,
            "min_width": null,
            "border": null,
            "align_items": null,
            "bottom": null,
            "_model_module": "@jupyter-widgets/base",
            "top": null,
            "grid_column": null,
            "overflow_y": null,
            "overflow_x": null,
            "grid_auto_flow": null,
            "grid_area": null,
            "grid_template_columns": null,
            "flex": null,
            "_model_name": "LayoutModel",
            "justify_items": null,
            "grid_row": null,
            "max_height": null,
            "align_content": null,
            "visibility": null,
            "align_self": null,
            "height": null,
            "min_height": null,
            "padding": null,
            "grid_auto_rows": null,
            "grid_gap": null,
            "max_width": null,
            "order": null,
            "_view_module_version": "1.2.0",
            "grid_template_areas": null,
            "object_position": null,
            "object_fit": null,
            "grid_auto_columns": null,
            "margin": null,
            "display": null,
            "left": null
          }
        },
        "132991da8544466ba6827f71fcdc9c83": {
          "model_module": "@jupyter-widgets/controls",
          "model_name": "DescriptionStyleModel",
          "model_module_version": "1.5.0",
          "state": {
            "_view_name": "StyleView",
            "_model_name": "DescriptionStyleModel",
            "description_width": "",
            "_view_module": "@jupyter-widgets/base",
            "_model_module_version": "1.5.0",
            "_view_count": null,
            "_view_module_version": "1.2.0",
            "_model_module": "@jupyter-widgets/controls"
          }
        },
        "f5001838778e443dae7c483beb7865c5": {
          "model_module": "@jupyter-widgets/base",
          "model_name": "LayoutModel",
          "model_module_version": "1.2.0",
          "state": {
            "_view_name": "LayoutView",
            "grid_template_rows": null,
            "right": null,
            "justify_content": null,
            "_view_module": "@jupyter-widgets/base",
            "overflow": null,
            "_model_module_version": "1.2.0",
            "_view_count": null,
            "flex_flow": null,
            "width": null,
            "min_width": null,
            "border": null,
            "align_items": null,
            "bottom": null,
            "_model_module": "@jupyter-widgets/base",
            "top": null,
            "grid_column": null,
            "overflow_y": null,
            "overflow_x": null,
            "grid_auto_flow": null,
            "grid_area": null,
            "grid_template_columns": null,
            "flex": null,
            "_model_name": "LayoutModel",
            "justify_items": null,
            "grid_row": null,
            "max_height": null,
            "align_content": null,
            "visibility": null,
            "align_self": null,
            "height": null,
            "min_height": null,
            "padding": null,
            "grid_auto_rows": null,
            "grid_gap": null,
            "max_width": null,
            "order": null,
            "_view_module_version": "1.2.0",
            "grid_template_areas": null,
            "object_position": null,
            "object_fit": null,
            "grid_auto_columns": null,
            "margin": null,
            "display": null,
            "left": null
          }
        }
      }
    }
  },
  "cells": [
    {
      "cell_type": "markdown",
      "metadata": {
        "id": "Yj8cEKwwH5u0"
      },
      "source": [
        "# Import & Download all the necessariy libraries"
      ]
    },
    {
      "cell_type": "code",
      "metadata": {
        "colab": {
          "base_uri": "https://localhost:8080/"
        },
        "id": "DYR8XGMucths",
        "outputId": "59fd608d-3acf-4796-fe2e-0f06cc4bd302"
      },
      "source": [
        "# Import Common Modules\n",
        "import pandas as pd\n",
        "import numpy as np\n",
        "import matplotlib.pyplot as plt\n",
        "% matplotlib inline\n",
        "import seaborn as sns\n",
        "import io\n",
        "import re\n",
        "from random import randint\n",
        "import os\n",
        "\n",
        "# install\n",
        "!pip install git+https://github.com/huggingface/transformers\n",
        "!pip install english-words\n",
        "\n",
        "import tensorflow_datasets as tfds\n",
        "from keras.preprocessing.sequence import pad_sequences\n",
        "from transformers import TFBertForSequenceClassification, BertTokenizer, BertModel, BertConfig\n",
        "from english_words import english_words_set\n",
        "\n",
        "# Since the data size is big, we will need to use a GPU\n",
        "\n",
        "%tensorflow_version 2.x\n",
        "import tensorflow as tf\n",
        "device_name = tf.test.gpu_device_name()\n",
        "if device_name != '/device:GPU:0':\n",
        "  raise SystemError('GPU device not found')\n",
        "print('Found GPU at: {}'.format(device_name))"
      ],
      "execution_count": 1,
      "outputs": [
        {
          "output_type": "stream",
          "name": "stdout",
          "text": [
            "Collecting git+https://github.com/huggingface/transformers\n",
            "  Cloning https://github.com/huggingface/transformers to /tmp/pip-req-build-qeeefzuq\n",
            "  Running command git clone -q https://github.com/huggingface/transformers /tmp/pip-req-build-qeeefzuq\n",
            "  Installing build dependencies ... \u001b[?25l\u001b[?25hdone\n",
            "  Getting requirements to build wheel ... \u001b[?25l\u001b[?25hdone\n",
            "    Preparing wheel metadata ... \u001b[?25l\u001b[?25hdone\n",
            "Collecting sacremoses\n",
            "  Downloading sacremoses-0.0.46-py3-none-any.whl (895 kB)\n",
            "\u001b[K     |████████████████████████████████| 895 kB 4.0 MB/s \n",
            "\u001b[?25hRequirement already satisfied: packaging>=20.0 in /usr/local/lib/python3.7/dist-packages (from transformers==4.13.0.dev0) (21.0)\n",
            "Requirement already satisfied: requests in /usr/local/lib/python3.7/dist-packages (from transformers==4.13.0.dev0) (2.23.0)\n",
            "Requirement already satisfied: importlib-metadata in /usr/local/lib/python3.7/dist-packages (from transformers==4.13.0.dev0) (4.8.1)\n",
            "Requirement already satisfied: regex!=2019.12.17 in /usr/local/lib/python3.7/dist-packages (from transformers==4.13.0.dev0) (2019.12.20)\n",
            "Collecting huggingface-hub<1.0,>=0.1.0\n",
            "  Downloading huggingface_hub-0.1.0-py3-none-any.whl (59 kB)\n",
            "\u001b[K     |████████████████████████████████| 59 kB 7.7 MB/s \n",
            "\u001b[?25hCollecting tokenizers<0.11,>=0.10.1\n",
            "  Downloading tokenizers-0.10.3-cp37-cp37m-manylinux_2_5_x86_64.manylinux1_x86_64.manylinux_2_12_x86_64.manylinux2010_x86_64.whl (3.3 MB)\n",
            "\u001b[K     |████████████████████████████████| 3.3 MB 70.1 MB/s \n",
            "\u001b[?25hRequirement already satisfied: filelock in /usr/local/lib/python3.7/dist-packages (from transformers==4.13.0.dev0) (3.3.0)\n",
            "Collecting pyyaml>=5.1\n",
            "  Downloading PyYAML-6.0-cp37-cp37m-manylinux_2_5_x86_64.manylinux1_x86_64.manylinux_2_12_x86_64.manylinux2010_x86_64.whl (596 kB)\n",
            "\u001b[K     |████████████████████████████████| 596 kB 79.2 MB/s \n",
            "\u001b[?25hRequirement already satisfied: numpy>=1.17 in /usr/local/lib/python3.7/dist-packages (from transformers==4.13.0.dev0) (1.19.5)\n",
            "Requirement already satisfied: tqdm>=4.27 in /usr/local/lib/python3.7/dist-packages (from transformers==4.13.0.dev0) (4.62.3)\n",
            "Requirement already satisfied: typing-extensions in /usr/local/lib/python3.7/dist-packages (from huggingface-hub<1.0,>=0.1.0->transformers==4.13.0.dev0) (3.7.4.3)\n",
            "Requirement already satisfied: pyparsing>=2.0.2 in /usr/local/lib/python3.7/dist-packages (from packaging>=20.0->transformers==4.13.0.dev0) (2.4.7)\n",
            "Requirement already satisfied: zipp>=0.5 in /usr/local/lib/python3.7/dist-packages (from importlib-metadata->transformers==4.13.0.dev0) (3.6.0)\n",
            "Requirement already satisfied: urllib3!=1.25.0,!=1.25.1,<1.26,>=1.21.1 in /usr/local/lib/python3.7/dist-packages (from requests->transformers==4.13.0.dev0) (1.24.3)\n",
            "Requirement already satisfied: idna<3,>=2.5 in /usr/local/lib/python3.7/dist-packages (from requests->transformers==4.13.0.dev0) (2.10)\n",
            "Requirement already satisfied: certifi>=2017.4.17 in /usr/local/lib/python3.7/dist-packages (from requests->transformers==4.13.0.dev0) (2021.5.30)\n",
            "Requirement already satisfied: chardet<4,>=3.0.2 in /usr/local/lib/python3.7/dist-packages (from requests->transformers==4.13.0.dev0) (3.0.4)\n",
            "Requirement already satisfied: click in /usr/local/lib/python3.7/dist-packages (from sacremoses->transformers==4.13.0.dev0) (7.1.2)\n",
            "Requirement already satisfied: joblib in /usr/local/lib/python3.7/dist-packages (from sacremoses->transformers==4.13.0.dev0) (1.0.1)\n",
            "Requirement already satisfied: six in /usr/local/lib/python3.7/dist-packages (from sacremoses->transformers==4.13.0.dev0) (1.15.0)\n",
            "Building wheels for collected packages: transformers\n",
            "  Building wheel for transformers (PEP 517) ... \u001b[?25l\u001b[?25hdone\n",
            "  Created wheel for transformers: filename=transformers-4.13.0.dev0-py3-none-any.whl size=3101338 sha256=3957afca7f3be0544f688cd881f27b200e07d09544bcc504f722daacc6c07bbb\n",
            "  Stored in directory: /tmp/pip-ephem-wheel-cache-7htduwkm/wheels/35/2e/a7/d819e3310040329f0f47e57c9e3e7a7338aa5e74c49acfe522\n",
            "Successfully built transformers\n",
            "Installing collected packages: pyyaml, tokenizers, sacremoses, huggingface-hub, transformers\n",
            "  Attempting uninstall: pyyaml\n",
            "    Found existing installation: PyYAML 3.13\n",
            "    Uninstalling PyYAML-3.13:\n",
            "      Successfully uninstalled PyYAML-3.13\n",
            "Successfully installed huggingface-hub-0.1.0 pyyaml-6.0 sacremoses-0.0.46 tokenizers-0.10.3 transformers-4.13.0.dev0\n",
            "Collecting english-words\n",
            "  Downloading english-words-1.0.4.tar.gz (353 kB)\n",
            "\u001b[K     |████████████████████████████████| 353 kB 3.2 MB/s \n",
            "\u001b[?25hBuilding wheels for collected packages: english-words\n",
            "  Building wheel for english-words (setup.py) ... \u001b[?25l\u001b[?25hdone\n",
            "  Created wheel for english-words: filename=english_words-1.0.4-py3-none-any.whl size=352158 sha256=8496dfcba4de9bd41fcf58efc992f4ff6830231524ea37e7918455ed9e2fcfe8\n",
            "  Stored in directory: /root/.cache/pip/wheels/8f/7a/1f/5f54a5151359e5d80102450529a80f7a02c716e33c1cc7f46d\n",
            "Successfully built english-words\n",
            "Installing collected packages: english-words\n",
            "Successfully installed english-words-1.0.4\n",
            "Found GPU at: /device:GPU:0\n"
          ]
        }
      ]
    },
    {
      "cell_type": "markdown",
      "metadata": {
        "id": "Yv74pEtvKH2-"
      },
      "source": [
        "# Data Cleaning"
      ]
    },
    {
      "cell_type": "markdown",
      "metadata": {
        "id": "6bl9P-CBhoHp"
      },
      "source": [
        "### Cleaning Process"
      ]
    },
    {
      "cell_type": "code",
      "metadata": {
        "id": "dmmw2-zqg-6J"
      },
      "source": [
        "# In our project, we have performed the data splitting, so we won't need to do the train_test_split anymore.\n",
        "\n",
        "train = pd.read_csv(\"train_text_emoji_clean.csv\")\n",
        "test = pd.read_csv(\"test_text_emoji_clean.csv\")\n",
        "valid = pd.read_csv(\"valid_text_emoji_clean.csv\")\n",
        "\n",
        "# Remove usernames + punctuations + (numbers) + excessive spaces\n",
        "\n",
        "for i in range(len(train)):\n",
        "    message = train[\"tweets\"][i]\n",
        "    clean_message = message.split(\":\", 1)\n",
        "    if len(clean_message) > 1:\n",
        "        train[\"tweets\"][i] = re.sub(\" +\", \" \", re.sub(\"\\d+\", \" \", re.sub(r'[^\\w\\s]', '', clean_message[1])))\n",
        "    else:\n",
        "        train[\"tweets\"][i] = re.sub(\" +\", \" \", re.sub(\"\\d+\", \" \", re.sub(r'[^\\w\\s]', '', clean_message[0])))\n",
        "\n",
        "for i in range(len(test)):\n",
        "    message = test[\"tweets\"][i]\n",
        "    clean_message = message.split(\":\", 1)\n",
        "    if len(clean_message) > 1:\n",
        "        test[\"tweets\"][i] = re.sub(\" +\", \" \", re.sub(\"\\d+\", \" \", re.sub(r'[^\\w\\s]', '', clean_message[1])))\n",
        "    else:\n",
        "        test[\"tweets\"][i] = re.sub(\" +\", \" \", re.sub(\"\\d+\", \" \", re.sub(r'[^\\w\\s]', '', clean_message[0])))\n",
        "\n",
        "    \n",
        "for i in range(len(valid)):\n",
        "    message = valid[\"tweets\"][i]\n",
        "    clean_message = message.split(\":\", 1)\n",
        "    if len(clean_message) > 1:\n",
        "        valid[\"tweets\"][i] = re.sub(\" +\", \" \", re.sub(\"\\d+\", \" \", re.sub(r'[^\\w\\s]', '', clean_message[1])))\n",
        "    else:\n",
        "        valid[\"tweets\"][i] = re.sub(\" +\", \" \", re.sub(\"\\d+\", \" \", re.sub(r'[^\\w\\s]', '', clean_message[0])))\n",
        "\n",
        "# Remove all rows that has more than 1 emoji representations\n",
        "\n",
        "train = train[train['annotations'].map(len) == 1]\n",
        "test = test[test['annotations'].map(len) == 1]\n",
        "valid = valid[valid['annotations'].map(len) == 1]\n",
        "\n",
        "# Reset the index after dropping several rows\n",
        "\n",
        "train = train.reset_index()\n",
        "test = test.reset_index()\n",
        "valid = valid.reset_index()\n",
        "\n",
        "# Assign the tweets as the dataset for the model\n",
        "\n",
        "X_train = train[\"tweets\"]\n",
        "X_test = test[\"tweets\"]\n",
        "X_valid = valid[\"tweets\"]\n",
        "\n",
        "# Encode the emojis\n",
        "\n",
        "train['classification'] = pd.factorize(train[\"annotations\"])[0]\n",
        "test['classification'] = pd.factorize(test[\"annotations\"])[0]\n",
        "valid['classification'] = pd.factorize(valid[\"annotations\"])[0]\n",
        "\n",
        "# Assign the encoded emojis as the labels for the model\n",
        "\n",
        "y_train = train['classification']\n",
        "y_test = test['classification']\n",
        "y_valid = valid['classification']"
      ],
      "execution_count": 2,
      "outputs": []
    },
    {
      "cell_type": "markdown",
      "metadata": {
        "id": "w6fWF-UChrDn"
      },
      "source": [
        "### List of All Emojis"
      ]
    },
    {
      "cell_type": "code",
      "metadata": {
        "colab": {
          "base_uri": "https://localhost:8080/"
        },
        "id": "RiBfwUK7hCrM",
        "outputId": "6ad96951-f0e6-49d4-9557-21a22c3cd1ae"
      },
      "source": [
        "# Collect all the possible emojis (will be useful for our final prediction function)\n",
        "\n",
        "emojis = train[\"annotations\"].unique()\n",
        "emojis"
      ],
      "execution_count": 3,
      "outputs": [
        {
          "output_type": "execute_result",
          "data": {
            "text/plain": [
              "array(['😂', '😭', '😍', '🙄', '❤', '😊', '😩', '🤔', '😘', '🏽', '💯', '🙃'],\n",
              "      dtype=object)"
            ]
          },
          "metadata": {},
          "execution_count": 3
        }
      ]
    },
    {
      "cell_type": "markdown",
      "metadata": {
        "id": "1M6_jcjghh-g"
      },
      "source": [
        "### Training Data"
      ]
    },
    {
      "cell_type": "code",
      "metadata": {
        "colab": {
          "base_uri": "https://localhost:8080/"
        },
        "id": "ZLv8sGoPhGeQ",
        "outputId": "7cb7ec91-2214-4261-e17e-5f99701ae6f1"
      },
      "source": [
        "# Take a look at the training dataset + label\n",
        "\n",
        "print(X_train)\n",
        "\n",
        "print(\"==================================================\")\n",
        "\n",
        "print(y_train)"
      ],
      "execution_count": 4,
      "outputs": [
        {
          "output_type": "stream",
          "name": "stdout",
          "text": [
            "0                               school is so dead o my god\n",
            "1        lol Ive been told mine is worse than yours but...\n",
            "2        Im excited to hear them That shit is going rat...\n",
            "3        Damn alycia knows everything even indirect tweets\n",
            "4                               That sound like everything\n",
            "                               ...                        \n",
            "52881                 Or That Picture Was Just Cute To You\n",
            "52882                    Im otw wit some gas still hate me\n",
            "52883                                  Yeahhh you kinda do\n",
            "52884                       nothing wit youuuuu raymundooo\n",
            "52885    dont be that person who parks right next to me...\n",
            "Name: tweets, Length: 52886, dtype: object\n",
            "==================================================\n",
            "0         0\n",
            "1         0\n",
            "2         0\n",
            "3         0\n",
            "4         0\n",
            "         ..\n",
            "52881    11\n",
            "52882    11\n",
            "52883    11\n",
            "52884    11\n",
            "52885    11\n",
            "Name: classification, Length: 52886, dtype: int64\n"
          ]
        }
      ]
    },
    {
      "cell_type": "markdown",
      "metadata": {
        "id": "5_jtmsZfhuWo"
      },
      "source": [
        "### Test Data"
      ]
    },
    {
      "cell_type": "code",
      "metadata": {
        "colab": {
          "base_uri": "https://localhost:8080/"
        },
        "id": "lFZxBgyxhHFg",
        "outputId": "e2bac853-468d-4df4-ef0d-3b2a46158d23"
      },
      "source": [
        "# Take a look at the test dataset + label\n",
        "\n",
        "print(X_test)\n",
        "\n",
        "print(\"==================================================\")\n",
        "\n",
        "print(y_test)"
      ],
      "execution_count": 5,
      "outputs": [
        {
          "output_type": "stream",
          "name": "stdout",
          "text": [
            "0          The conversation is so deep i saw adele rolling\n",
            "1         Lord were coo asf lol Just waiting for break ...\n",
            "2                                                   I cant\n",
            "3        These little kids talking about going to Canad...\n",
            "4                                       only would do that\n",
            "                               ...                        \n",
            "13480                           The ball hates Croatia smh\n",
            "13481                        Sexy bitch I hope she bout it\n",
            "13482    I didnt realize that my tweets were private an...\n",
            "13483                         lowkey annoyed for no reason\n",
            "13484                          appreciate it while it last\n",
            "Name: tweets, Length: 13485, dtype: object\n",
            "==================================================\n",
            "0         0\n",
            "1         0\n",
            "2         0\n",
            "3         0\n",
            "4         0\n",
            "         ..\n",
            "13480    11\n",
            "13481    11\n",
            "13482    11\n",
            "13483    11\n",
            "13484    11\n",
            "Name: classification, Length: 13485, dtype: int64\n"
          ]
        }
      ]
    },
    {
      "cell_type": "markdown",
      "metadata": {
        "id": "d2PUkJVIhxYR"
      },
      "source": [
        "### Validation Data"
      ]
    },
    {
      "cell_type": "code",
      "metadata": {
        "colab": {
          "base_uri": "https://localhost:8080/"
        },
        "id": "ScHB57PBhIzC",
        "outputId": "b816d61a-4cd8-43fd-c61a-4d8d9329a78b"
      },
      "source": [
        "# Take a look at the validation dataset + label\n",
        "\n",
        "print(X_valid)\n",
        "\n",
        "print(\"==================================================\")\n",
        "\n",
        "print(y_valid)"
      ],
      "execution_count": 6,
      "outputs": [
        {
          "output_type": "stream",
          "name": "stdout",
          "text": [
            "0                             hahahah you guys crack me up\n",
            "1                                                  Im dead\n",
            "2                     ate girl The tweet was before TMC pa\n",
            "3        Also who wouldve thought that Will Griggs on f...\n",
            "4                             Im not fooling w you tonight\n",
            "                               ...                        \n",
            "13476    Hopefully I dont fall asleep in the toilets in...\n",
            "13477    Excited for the lake Not excited to wake up at...\n",
            "13478    mom just told me shes leaving early to go to a...\n",
            "13479          all these double shifts are killing my vibe\n",
            "13480     I love when my legs are shaved but hate shavi...\n",
            "Name: tweets, Length: 13481, dtype: object\n",
            "==================================================\n",
            "0         0\n",
            "1         0\n",
            "2         0\n",
            "3         0\n",
            "4         0\n",
            "         ..\n",
            "13476    11\n",
            "13477    11\n",
            "13478    11\n",
            "13479    11\n",
            "13480    11\n",
            "Name: classification, Length: 13481, dtype: int64\n"
          ]
        }
      ]
    },
    {
      "cell_type": "markdown",
      "metadata": {
        "id": "NlH4SAD9KOJK"
      },
      "source": [
        "# Tokenization"
      ]
    },
    {
      "cell_type": "markdown",
      "metadata": {
        "id": "asz2Z0DDhOcP"
      },
      "source": [
        "### [CLS] & [SEP] Tokens Insertion"
      ]
    },
    {
      "cell_type": "code",
      "metadata": {
        "colab": {
          "base_uri": "https://localhost:8080/"
        },
        "id": "XHuykb6jh82i",
        "outputId": "b1e26d57-6fe8-46c4-a68b-41d126346b56"
      },
      "source": [
        "# In every BERT model, we need to include the tokens [CLS] & [SEP] for every row's text\n",
        "\n",
        "# [SEP] token helps the model to understand the end of one input and the start of another input in the same sequence input.\n",
        "\n",
        "# [CLS] is a special classification token and the last hidden state of BERT corresponding to this token (h[CLS]) is used for classification tasks.\n",
        "\n",
        "sentences_train = [\"[CLS] \" + query + \" [SEP]\" for query in X_train]\n",
        "sentences_test = [\"[CLS] \" + query + \" [SEP]\" for query in X_test]\n",
        "sentences_valid = [\"[CLS] \" + query + \" [SEP]\" for query in X_valid]\n",
        "print(sentences_train[0])\n",
        "print(sentences_test[0])\n",
        "print(sentences_valid[0])"
      ],
      "execution_count": 7,
      "outputs": [
        {
          "output_type": "stream",
          "name": "stdout",
          "text": [
            "[CLS] school is so dead o my god [SEP]\n",
            "[CLS] The conversation is so deep i saw adele rolling [SEP]\n",
            "[CLS] hahahah you guys crack me up [SEP]\n"
          ]
        }
      ]
    },
    {
      "cell_type": "markdown",
      "metadata": {
        "id": "oUH-4dz3hVUL"
      },
      "source": [
        "### Tokenizing Each Sentences"
      ]
    },
    {
      "cell_type": "code",
      "metadata": {
        "colab": {
          "base_uri": "https://localhost:8080/",
          "height": 181,
          "referenced_widgets": [
            "c31288d39e2c411491dfc12cb9cea1ba",
            "cb856157980b47689331d5040b5d03b2",
            "c4164032930d42a5a8b7ac324dfee0f6",
            "a88e1ff3bb0c42348d44323c7345cae8",
            "4cc7f35f9fc54ef5bada0cf5e2ff7c53",
            "f48a29b39fd049fea08dc4be85cc76cc",
            "21f4a0699f88449aa3df1eba95f2dafa",
            "61e892060bcb4a099048b1ae37014bdf",
            "1481d641a7e94d2b9fea945fb4ae3fec",
            "36089ba368c74aff8365c77e722666cc",
            "c8eec18b4d324300953917bfaa7be381",
            "af632c836e9c43508549e05cd07ba6e2",
            "5f43263f16a04f4d88a8033ae798a42c",
            "17877985261b487492dc6a2eed9517e2",
            "f82130eb47604c95a6449f325788249e",
            "306fef64871244d7a8ab005b6d9a2a6b",
            "0888760a97d94edcb3cd99d9e8dbf319",
            "d9ad0d3d44694bfd8978f5a2123f42ca",
            "ef6d4d87146a477ba75cd76ff82d0757",
            "204d1b67aa3f456dbd7939ab15bf6dc0",
            "8ebe71db2ec64ad58baf7a89fba240c3",
            "ebf3c564d5e94f64afbfdc89a726ddf2",
            "228a58a5cf1d4ce7addb3332afc0ad3c",
            "0859d060329f4374a79baba533c58bdb",
            "6be7b30ae14d481aa37771126846645c",
            "2cdd53b1cd35406487b711bf1c0b061b",
            "e9d99082792745048c4b5196101254ff",
            "9a20bcef89d14309be5aa073e67fe1d6",
            "9caa1ffe1d654806b78c4873f30e4d04",
            "edb2f78a3dd14162adc46f789a1b855a",
            "25554b732ae24b8fa87e53cdf8b513d7",
            "186686d722a24b57b2331ac52d8ec20b",
            "a33cc077e775438b91ac9acba9667406",
            "880871c5285e46528bd7fed569b10bf8",
            "82edd91758104400937f0ebc15b37c5d",
            "370cdf4d94c142f990649afa68e36fbe",
            "15b905c6a4cf43868d4146708606bdb5",
            "e6114643075544718236c2cd599d25cd",
            "8cab86a61fad44c7b5d8cc60e815a80e",
            "d79482d23b4344c4984fcd5e01f0de3f",
            "4685de54563641df982d69e80b095f44",
            "e6e63320058f45908d4ddf66e846a456",
            "132991da8544466ba6827f71fcdc9c83",
            "f5001838778e443dae7c483beb7865c5"
          ]
        },
        "id": "okm48fs9r1eT",
        "outputId": "081f60d4-170e-4578-db28-0398e44ddbfe"
      },
      "source": [
        "# Tokenize all the sentences in the training, test, and validation datasets\n",
        "\n",
        "tokenizer = BertTokenizer.from_pretrained('bert-base-uncased')\n",
        "tokenized_texts_train = [tokenizer.tokenize(sent) for sent in sentences_train]\n",
        "tokenized_texts_test = [tokenizer.tokenize(sent) for sent in sentences_test]\n",
        "tokenized_texts_valid = [tokenizer.tokenize(sent) for sent in sentences_valid]\n",
        "print (\"Tokenize the first sentence of the training:\")\n",
        "print (tokenized_texts_train[0])\n"
      ],
      "execution_count": 8,
      "outputs": [
        {
          "output_type": "display_data",
          "data": {
            "application/vnd.jupyter.widget-view+json": {
              "model_id": "c31288d39e2c411491dfc12cb9cea1ba",
              "version_minor": 0,
              "version_major": 2
            },
            "text/plain": [
              "Downloading:   0%|          | 0.00/226k [00:00<?, ?B/s]"
            ]
          },
          "metadata": {}
        },
        {
          "output_type": "display_data",
          "data": {
            "application/vnd.jupyter.widget-view+json": {
              "model_id": "af632c836e9c43508549e05cd07ba6e2",
              "version_minor": 0,
              "version_major": 2
            },
            "text/plain": [
              "Downloading:   0%|          | 0.00/28.0 [00:00<?, ?B/s]"
            ]
          },
          "metadata": {}
        },
        {
          "output_type": "display_data",
          "data": {
            "application/vnd.jupyter.widget-view+json": {
              "model_id": "228a58a5cf1d4ce7addb3332afc0ad3c",
              "version_minor": 0,
              "version_major": 2
            },
            "text/plain": [
              "Downloading:   0%|          | 0.00/455k [00:00<?, ?B/s]"
            ]
          },
          "metadata": {}
        },
        {
          "output_type": "display_data",
          "data": {
            "application/vnd.jupyter.widget-view+json": {
              "model_id": "880871c5285e46528bd7fed569b10bf8",
              "version_minor": 0,
              "version_major": 2
            },
            "text/plain": [
              "Downloading:   0%|          | 0.00/570 [00:00<?, ?B/s]"
            ]
          },
          "metadata": {}
        },
        {
          "output_type": "stream",
          "name": "stdout",
          "text": [
            "Tokenize the first sentence of the training:\n",
            "['[CLS]', 'school', 'is', 'so', 'dead', 'o', 'my', 'god', '[SEP]']\n"
          ]
        }
      ]
    },
    {
      "cell_type": "markdown",
      "metadata": {
        "id": "qyTIhaQXKbfY"
      },
      "source": [
        "# Text Padding"
      ]
    },
    {
      "cell_type": "code",
      "metadata": {
        "id": "JWYu-QkHrtWr"
      },
      "source": [
        "# Set the maximum sequence length. \n",
        "MAX_LEN = 50\n",
        "\n",
        "# Pad our input tokens\n",
        "input_ids_train = pad_sequences([tokenizer.convert_tokens_to_ids(txt) for txt in tokenized_texts_train],\n",
        "                          maxlen=MAX_LEN, dtype=\"long\", truncating=\"post\", padding=\"post\")\n",
        "\n",
        "input_ids_test = pad_sequences([tokenizer.convert_tokens_to_ids(txt) for txt in tokenized_texts_test],\n",
        "                          maxlen=MAX_LEN, dtype=\"long\", truncating=\"post\", padding=\"post\")\n",
        "\n",
        "input_ids_valid = pad_sequences([tokenizer.convert_tokens_to_ids(txt) for txt in tokenized_texts_valid],\n",
        "                          maxlen=MAX_LEN, dtype=\"long\", truncating=\"post\", padding=\"post\")\n",
        "\n",
        "# Use the BERT tokenizer to convert the tokens to their index numbers in the BERT vocabulary\n",
        "input_ids_train = [tokenizer.convert_tokens_to_ids(x) for x in tokenized_texts_train]\n",
        "input_ids_train = pad_sequences(input_ids_train, maxlen=MAX_LEN, dtype=\"long\", truncating=\"post\", padding=\"post\")\n",
        "\n",
        "input_ids_test = [tokenizer.convert_tokens_to_ids(x) for x in tokenized_texts_test]\n",
        "input_ids_test = pad_sequences(input_ids_test, maxlen=MAX_LEN, dtype=\"long\", truncating=\"post\", padding=\"post\")\n",
        "\n",
        "input_ids_valid = [tokenizer.convert_tokens_to_ids(x) for x in tokenized_texts_valid]\n",
        "input_ids_valid = pad_sequences(input_ids_valid, maxlen=MAX_LEN, dtype=\"long\", truncating=\"post\", padding=\"post\")"
      ],
      "execution_count": 9,
      "outputs": []
    },
    {
      "cell_type": "markdown",
      "metadata": {
        "id": "3khuiaokKiiG"
      },
      "source": [
        "# Finalize the data for the model"
      ]
    },
    {
      "cell_type": "code",
      "metadata": {
        "id": "n-a0FgVesaIO"
      },
      "source": [
        "train_inputs = input_ids_train\n",
        "test_inputs = input_ids_test\n",
        "validation_inputs = input_ids_valid\n",
        "\n",
        "\n",
        "train_labels = y_train\n",
        "test_labels = y_test\n",
        "validation_labels = y_valid"
      ],
      "execution_count": 11,
      "outputs": []
    },
    {
      "cell_type": "markdown",
      "metadata": {
        "id": "_NS4ek5tKm8R"
      },
      "source": [
        "# Model Preparation"
      ]
    },
    {
      "cell_type": "markdown",
      "metadata": {
        "id": "lrB5chtTg7K4"
      },
      "source": [
        "### Creating a New Model"
      ]
    },
    {
      "cell_type": "code",
      "metadata": {
        "colab": {
          "base_uri": "https://localhost:8080/"
        },
        "id": "Q_VsVo7RTtgc",
        "outputId": "ea5b9dbb-a21c-491a-8971-2f3e7ce975c5"
      },
      "source": [
        "# Setup the regularization (dropout rate) + number of classifications for the model\n",
        "configuration = BertConfig(classification_dropout=0.15, hidden_dropout_prob =0.15, num_labels=12)\n",
        "\n",
        "# Load model from pretrained model/vocabulary\n",
        "model = TFBertForSequenceClassification.from_pretrained('bert-base-uncased', config=configuration)"
      ],
      "execution_count": 19,
      "outputs": [
        {
          "output_type": "stream",
          "name": "stderr",
          "text": [
            "All model checkpoint layers were used when initializing TFBertForSequenceClassification.\n",
            "\n",
            "Some layers of TFBertForSequenceClassification were not initialized from the model checkpoint at bert-base-uncased and are newly initialized: ['classifier']\n",
            "You should probably TRAIN this model on a down-stream task to be able to use it for predictions and inference.\n"
          ]
        }
      ]
    },
    {
      "cell_type": "markdown",
      "metadata": {
        "id": "HZ32rX0ygv5i"
      },
      "source": [
        "### Optimizer + Loss Function + Metric"
      ]
    },
    {
      "cell_type": "code",
      "metadata": {
        "id": "ub9RVErujCBX"
      },
      "source": [
        "# Prepare training: \n",
        "# -. Compile tf.keras model with loss and learning rate schedule \n",
        "# -. Use AdamWeightDecay as the optimizer\n",
        "\n",
        "from transformers import AdamWeightDecay\n",
        "\n",
        "with tf.device('/device:GPU:0'):\n",
        "  optimizer = AdamWeightDecay(learning_rate=3e-05, epsilon=1e-08, clipnorm=1.0)\n",
        "  loss = tf.keras.losses.SparseCategoricalCrossentropy(from_logits=True)\n",
        "  metric = tf.keras.metrics.SparseCategoricalAccuracy('accuracy')\n",
        "  model.compile(optimizer=optimizer, loss=loss, metrics=[metric])"
      ],
      "execution_count": 21,
      "outputs": []
    },
    {
      "cell_type": "markdown",
      "metadata": {
        "id": "BOBZQcmtgsGJ"
      },
      "source": [
        "### Model Configuration"
      ]
    },
    {
      "cell_type": "code",
      "metadata": {
        "colab": {
          "base_uri": "https://localhost:8080/"
        },
        "id": "KmBTqSW8jSBH",
        "outputId": "ecf09241-43d5-4812-dd49-aaf2b1437dcb"
      },
      "source": [
        "# Check the configuration of the model\n",
        "\n",
        "configuration = model.config\n",
        "configuration"
      ],
      "execution_count": 22,
      "outputs": [
        {
          "output_type": "execute_result",
          "data": {
            "text/plain": [
              "BertConfig {\n",
              "  \"_name_or_path\": \"bert-base-uncased\",\n",
              "  \"attention_probs_dropout_prob\": 0.1,\n",
              "  \"classification_dropout\": 0.15,\n",
              "  \"classifier_dropout\": null,\n",
              "  \"hidden_act\": \"gelu\",\n",
              "  \"hidden_dropout_prob\": 0.15,\n",
              "  \"hidden_size\": 768,\n",
              "  \"id2label\": {\n",
              "    \"0\": \"LABEL_0\",\n",
              "    \"1\": \"LABEL_1\",\n",
              "    \"2\": \"LABEL_2\",\n",
              "    \"3\": \"LABEL_3\",\n",
              "    \"4\": \"LABEL_4\",\n",
              "    \"5\": \"LABEL_5\",\n",
              "    \"6\": \"LABEL_6\",\n",
              "    \"7\": \"LABEL_7\",\n",
              "    \"8\": \"LABEL_8\",\n",
              "    \"9\": \"LABEL_9\",\n",
              "    \"10\": \"LABEL_10\",\n",
              "    \"11\": \"LABEL_11\"\n",
              "  },\n",
              "  \"initializer_range\": 0.02,\n",
              "  \"intermediate_size\": 3072,\n",
              "  \"label2id\": {\n",
              "    \"LABEL_0\": 0,\n",
              "    \"LABEL_1\": 1,\n",
              "    \"LABEL_10\": 10,\n",
              "    \"LABEL_11\": 11,\n",
              "    \"LABEL_2\": 2,\n",
              "    \"LABEL_3\": 3,\n",
              "    \"LABEL_4\": 4,\n",
              "    \"LABEL_5\": 5,\n",
              "    \"LABEL_6\": 6,\n",
              "    \"LABEL_7\": 7,\n",
              "    \"LABEL_8\": 8,\n",
              "    \"LABEL_9\": 9\n",
              "  },\n",
              "  \"layer_norm_eps\": 1e-12,\n",
              "  \"max_position_embeddings\": 512,\n",
              "  \"model_type\": \"bert\",\n",
              "  \"num_attention_heads\": 12,\n",
              "  \"num_hidden_layers\": 12,\n",
              "  \"pad_token_id\": 0,\n",
              "  \"position_embedding_type\": \"absolute\",\n",
              "  \"transformers_version\": \"4.13.0.dev0\",\n",
              "  \"type_vocab_size\": 2,\n",
              "  \"use_cache\": true,\n",
              "  \"vocab_size\": 30522\n",
              "}"
            ]
          },
          "metadata": {},
          "execution_count": 22
        }
      ]
    },
    {
      "cell_type": "markdown",
      "metadata": {
        "id": "IzmAlX9IgpX6"
      },
      "source": [
        "### Model Summary"
      ]
    },
    {
      "cell_type": "code",
      "metadata": {
        "colab": {
          "base_uri": "https://localhost:8080/"
        },
        "id": "NXT6lfhQZJ57",
        "outputId": "0134c02e-2e5d-4bb2-d8e2-8570de98556f"
      },
      "source": [
        "# Here's the summary of the model\n",
        "\n",
        "model.summary()"
      ],
      "execution_count": 23,
      "outputs": [
        {
          "output_type": "stream",
          "name": "stdout",
          "text": [
            "Model: \"tf_bert_for_sequence_classification_1\"\n",
            "_________________________________________________________________\n",
            "Layer (type)                 Output Shape              Param #   \n",
            "=================================================================\n",
            "bert (TFBertMainLayer)       multiple                  109482240 \n",
            "_________________________________________________________________\n",
            "dropout_75 (Dropout)         multiple                  0         \n",
            "_________________________________________________________________\n",
            "classifier (Dense)           multiple                  9228      \n",
            "=================================================================\n",
            "Total params: 109,491,468\n",
            "Trainable params: 109,491,468\n",
            "Non-trainable params: 0\n",
            "_________________________________________________________________\n"
          ]
        }
      ]
    },
    {
      "cell_type": "markdown",
      "metadata": {
        "id": "OxTzROejKqof"
      },
      "source": [
        "# Model Training"
      ]
    },
    {
      "cell_type": "markdown",
      "metadata": {
        "id": "yM6VcRdxgeJ0"
      },
      "source": [
        "### Training Part"
      ]
    },
    {
      "cell_type": "code",
      "metadata": {
        "colab": {
          "base_uri": "https://localhost:8080/"
        },
        "id": "9JR05w6pMvSn",
        "outputId": "8f7adcbb-e42f-45f1-a936-cba969e21b1e"
      },
      "source": [
        "import os\n",
        "\n",
        "checkpoint_path = \"training_1/cp.ckpt\"\n",
        "checkpoint_dir = os.path.dirname(checkpoint_path)\n",
        "\n",
        "callback_1 = tf.keras.callbacks.EarlyStopping(monitor='val_loss', patience=3)\n",
        "callback_2 = tf.keras.callbacks.ModelCheckpoint(filepath=checkpoint_path,\n",
        "                                                 save_weights_only=True,\n",
        "                                                 verbose=1)\n",
        "\n",
        "history = model.fit(x=train_inputs, y=train_labels, validation_data = (validation_inputs, validation_labels), callbacks=[callback_1, callback_2], epochs = 40, batch_size=32)\n"
      ],
      "execution_count": 24,
      "outputs": [
        {
          "output_type": "stream",
          "name": "stdout",
          "text": [
            "Epoch 1/40\n",
            "1653/1653 [==============================] - 427s 230ms/step - loss: 2.1094 - accuracy: 0.2636 - val_loss: 2.0195 - val_accuracy: 0.3038\n",
            "\n",
            "Epoch 00001: saving model to training_1/cp.ckpt\n",
            "Epoch 2/40\n",
            "1653/1653 [==============================] - 377s 228ms/step - loss: 1.8579 - accuracy: 0.3597 - val_loss: 2.0143 - val_accuracy: 0.3055\n",
            "\n",
            "Epoch 00002: saving model to training_1/cp.ckpt\n",
            "Epoch 3/40\n",
            "1653/1653 [==============================] - 376s 228ms/step - loss: 1.6294 - accuracy: 0.4365 - val_loss: 2.0342 - val_accuracy: 0.3256\n",
            "\n",
            "Epoch 00003: saving model to training_1/cp.ckpt\n",
            "Epoch 4/40\n",
            "1653/1653 [==============================] - 376s 228ms/step - loss: 1.3747 - accuracy: 0.5254 - val_loss: 2.2314 - val_accuracy: 0.3078\n",
            "\n",
            "Epoch 00004: saving model to training_1/cp.ckpt\n",
            "Epoch 5/40\n",
            "1653/1653 [==============================] - 376s 228ms/step - loss: 1.1302 - accuracy: 0.6120 - val_loss: 2.5131 - val_accuracy: 0.3001\n",
            "\n",
            "Epoch 00005: saving model to training_1/cp.ckpt\n"
          ]
        }
      ]
    },
    {
      "cell_type": "markdown",
      "metadata": {
        "id": "q04jscCBghmJ"
      },
      "source": [
        "### Visualization of the Model Training Result"
      ]
    },
    {
      "cell_type": "code",
      "metadata": {
        "colab": {
          "base_uri": "https://localhost:8080/",
          "height": 283
        },
        "id": "Zi13y4QgjGNc",
        "outputId": "744711b7-455b-4c41-cfe1-10bf4ffd2556"
      },
      "source": [
        "losses = history.history['loss']\n",
        "accs = history.history['accuracy']\n",
        "val_losses = history.history['val_loss']\n",
        "val_accs = history.history['val_accuracy']\n",
        "epochs = len(losses)\n",
        "\n",
        "plt.figure(figsize=(12, 4))\n",
        "for i, metrics in enumerate(zip([losses, accs], [val_losses, val_accs], ['Loss', 'Accuracy'])):\n",
        "  plt.subplot(1, 2, i + 1)\n",
        "  plt.plot(range(epochs), metrics[0], label='Training {}'.format(metrics[2]))\n",
        "  plt.plot(range(epochs), metrics[1], label='Validation {}'.format(metrics[2]))\n",
        "  plt.legend()\n",
        "plt.show()\n",
        "plt.savefig('bert_accuracy.png')"
      ],
      "execution_count": 25,
      "outputs": [
        {
          "output_type": "display_data",
          "data": {
            "image/png": "[encoded data removed]",
            "text/plain": [
              "<Figure size 864x288 with 2 Axes>"
            ]
          },
          "metadata": {
            "needs_background": "light"
          }
        },
        {
          "output_type": "display_data",
          "data": {
            "text/plain": [
              "<Figure size 432x288 with 0 Axes>"
            ]
          },
          "metadata": {}
        }
      ]
    },
    {
      "cell_type": "markdown",
      "metadata": {
        "id": "-fA7aSC5Kt8q"
      },
      "source": [
        "# Model Evaluation"
      ]
    },
    {
      "cell_type": "markdown",
      "metadata": {
        "id": "q_-GfsWbealy"
      },
      "source": [
        "### Loss + Accuracy"
      ]
    },
    {
      "cell_type": "code",
      "metadata": {
        "colab": {
          "base_uri": "https://localhost:8080/"
        },
        "id": "e8JIDU4HsObg",
        "outputId": "730238c8-a007-4bdf-d883-63254e63dd15"
      },
      "source": [
        "# Check out the accuracy + loss of the model using the test dataset\n",
        "\n",
        "results = model.evaluate(test_inputs, test_labels, batch_size = 32)\n",
        "\n",
        "print(\"test loss, test acc:\", results)"
      ],
      "execution_count": 26,
      "outputs": [
        {
          "output_type": "stream",
          "name": "stdout",
          "text": [
            "422/422 [==============================] - 32s 75ms/step - loss: 2.5479 - accuracy: 0.2843\n",
            "test loss, test acc: [2.5479001998901367, 0.28431591391563416]\n"
          ]
        }
      ]
    },
    {
      "cell_type": "code",
      "metadata": {
        "id": "EfUUzxngA6EU"
      },
      "source": [
        "very_complex_prediction = model.predict(test_inputs).logits"
      ],
      "execution_count": 27,
      "outputs": []
    },
    {
      "cell_type": "code",
      "metadata": {
        "colab": {
          "base_uri": "https://localhost:8080/"
        },
        "id": "iuITEJUnc9AK",
        "outputId": "b73298c5-9d9e-4193-b899-c4dc3c37ebd7"
      },
      "source": [
        "very_complex_prediction"
      ],
      "execution_count": 56,
      "outputs": [
        {
          "output_type": "execute_result",
          "data": {
            "text/plain": [
              "array([[ 0.74225825,  3.3299634 , -2.8383467 , ..., -1.7460034 ,\n",
              "        -2.3057902 ,  2.78811   ],\n",
              "       [ 2.2871525 ,  3.2814837 , -2.5841162 , ..., -0.22682156,\n",
              "        -2.001789  ,  1.6779553 ],\n",
              "       [-0.14504553,  3.2306712 , -2.0154612 , ..., -0.305605  ,\n",
              "        -1.1071423 ,  1.7576404 ],\n",
              "       ...,\n",
              "       [ 3.4192445 ,  0.0727715 , -2.3201282 , ..., -1.1395819 ,\n",
              "        -2.3905714 ,  2.0825603 ],\n",
              "       [ 1.171839  , -0.4045652 , -3.260077  , ...,  0.5668713 ,\n",
              "         0.03051871,  2.6650698 ],\n",
              "       [-2.13016   , -2.1930137 , -1.3604989 , ...,  4.5291877 ,\n",
              "         5.6718006 , -0.46198732]], dtype=float32)"
            ]
          },
          "metadata": {},
          "execution_count": 56
        }
      ]
    },
    {
      "cell_type": "code",
      "metadata": {
        "colab": {
          "base_uri": "https://localhost:8080/"
        },
        "id": "z2604MP1dPEZ",
        "outputId": "b46d58fa-d4a6-4655-e547-c68d7079b8c4"
      },
      "source": [
        "np.shape(very_complex_prediction)"
      ],
      "execution_count": 58,
      "outputs": [
        {
          "output_type": "execute_result",
          "data": {
            "text/plain": [
              "(13485, 12)"
            ]
          },
          "metadata": {},
          "execution_count": 58
        }
      ]
    },
    {
      "cell_type": "markdown",
      "metadata": {
        "id": "2wUSVOuxeotL"
      },
      "source": [
        "### Predicted Labels"
      ]
    },
    {
      "cell_type": "code",
      "metadata": {
        "colab": {
          "base_uri": "https://localhost:8080/"
        },
        "id": "uQYaOmSQfwCE",
        "outputId": "c03775fb-21b4-4508-fa7c-f172af99c488"
      },
      "source": [
        "# Find out the predicted label for each row by finding the index of the maximum value for each row\n",
        "\n",
        "prediction = []\n",
        "\n",
        "for i in range(len(very_complex_prediction)):\n",
        "  prediction.append(np.argmax(very_complex_prediction[i]))\n",
        "\n",
        "print(prediction)"
      ],
      "execution_count": 28,
      "outputs": [
        {
          "output_type": "stream",
          "name": "stdout",
          "text": [
            "[6, 3, 6, 3, 11, 3, 3, 7, 9, 3, 1, 9, 3, 2, 9, 6, 3, 6, 8, 8, 0, 2, 11, 3, 10, 0, 2, 0, 0, 6, 7, 11, 11, 9, 0, 9, 1, 8, 3, 6, 0, 3, 0, 11, 0, 3, 11, 7, 3, 1, 0, 2, 6, 0, 5, 6, 5, 0, 7, 5, 0, 0, 0, 8, 11, 10, 11, 3, 9, 8, 0, 3, 6, 8, 9, 3, 3, 0, 11, 5, 1, 5, 3, 3, 0, 7, 7, 10, 6, 3, 2, 3, 7, 9, 9, 3, 8, 5, 0, 3, 8, 0, 7, 1, 0, 6, 10, 7, 0, 1, 2, 6, 0, 8, 1, 1, 0, 0, 6, 10, 3, 3, 11, 7, 0, 7, 0, 1, 6, 5, 9, 7, 5, 11, 5, 0, 7, 2, 0, 0, 3, 0, 11, 10, 3, 6, 10, 7, 7, 9, 0, 6, 0, 1, 2, 3, 0, 7, 3, 11, 2, 0, 1, 11, 7, 5, 2, 1, 8, 9, 1, 11, 3, 1, 0, 3, 3, 6, 4, 0, 3, 11, 5, 0, 1, 4, 9, 8, 2, 1, 3, 7, 2, 1, 9, 0, 5, 2, 0, 10, 3, 3, 5, 5, 2, 6, 3, 7, 9, 0, 1, 8, 8, 0, 8, 10, 0, 7, 1, 0, 3, 3, 6, 8, 6, 11, 5, 8, 2, 11, 11, 8, 5, 1, 11, 3, 1, 5, 5, 3, 0, 11, 6, 0, 0, 9, 0, 0, 11, 0, 2, 10, 3, 9, 11, 2, 4, 0, 1, 0, 6, 7, 2, 5, 0, 4, 7, 5, 0, 3, 0, 10, 3, 8, 10, 7, 0, 0, 0, 8, 1, 6, 9, 1, 6, 10, 1, 1, 3, 2, 10, 11, 2, 3, 0, 3, 9, 0, 3, 2, 2, 11, 7, 3, 5, 11, 1, 0, 10, 6, 0, 1, 1, 10, 2, 3, 2, 3, 5, 10, 6, 9, 7, 10, 10, 0, 11, 7, 0, 7, 2, 2, 3, 3, 0, 1, 4, 5, 6, 3, 0, 1, 1, 0, 9, 9, 10, 9, 9, 0, 10, 7, 6, 1, 0, 8, 7, 11, 6, 3, 5, 0, 6, 0, 5, 10, 10, 7, 0, 0, 0, 2, 5, 2, 0, 7, 0, 5, 7, 3, 7, 3, 7, 0, 1, 3, 3, 3, 5, 4, 7, 0, 3, 3, 10, 9, 1, 9, 5, 3, 1, 0, 0, 0, 0, 11, 2, 10, 7, 2, 7, 1, 0, 10, 6, 1, 3, 7, 4, 0, 3, 6, 11, 3, 0, 2, 7, 8, 5, 0, 2, 1, 1, 0, 11, 9, 3, 0, 0, 6, 3, 7, 10, 1, 3, 0, 0, 2, 6, 3, 7, 2, 0, 2, 10, 1, 0, 0, 5, 3, 2, 3, 6, 8, 1, 7, 0, 6, 0, 9, 0, 7, 11, 1, 10, 7, 6, 10, 8, 8, 4, 10, 10, 11, 3, 5, 11, 0, 5, 0, 10, 8, 0, 10, 11, 9, 2, 2, 0, 3, 8, 11, 0, 2, 1, 1, 0, 3, 3, 0, 0, 2, 0, 6, 11, 0, 0, 6, 3, 9, 2, 7, 3, 9, 6, 2, 2, 1, 9, 7, 11, 0, 1, 7, 2, 3, 2, 0, 0, 0, 1, 11, 3, 5, 5, 1, 5, 6, 0, 2, 5, 11, 7, 4, 3, 0, 1, 3, 7, 3, 1, 1, 7, 9, 6, 5, 2, 9, 9, 10, 5, 10, 3, 3, 1, 10, 7, 9, 4, 0, 9, 11, 11, 9, 3, 6, 3, 9, 7, 3, 0, 7, 6, 0, 0, 3, 7, 5, 9, 4, 2, 5, 0, 11, 3, 2, 3, 0, 1, 3, 7, 0, 3, 0, 7, 6, 0, 5, 1, 0, 7, 11, 6, 1, 2, 7, 3, 0, 0, 3, 6, 7, 3, 1, 0, 11, 0, 6, 5, 5, 10, 9, 0, 1, 10, 0, 0, 6, 11, 0, 9, 3, 0, 7, 5, 0, 0, 0, 0, 0, 7, 11, 11, 11, 9, 3, 7, 0, 3, 9, 8, 3, 1, 11, 3, 3, 5, 8, 10, 1, 10, 2, 1, 3, 2, 3, 7, 6, 5, 0, 2, 1, 5, 10, 3, 7, 7, 7, 3, 9, 4, 0, 9, 3, 10, 3, 11, 4, 9, 2, 2, 0, 5, 5, 1, 0, 3, 1, 7, 3, 11, 5, 0, 5, 3, 7, 5, 6, 6, 0, 1, 8, 0, 10, 0, 4, 0, 0, 7, 9, 3, 7, 5, 7, 0, 7, 1, 6, 10, 10, 8, 10, 0, 3, 5, 7, 3, 0, 8, 3, 0, 3, 2, 11, 2, 5, 1, 1, 11, 6, 0, 3, 3, 7, 4, 1, 10, 3, 10, 3, 2, 6, 5, 5, 11, 2, 0, 0, 9, 11, 1, 3, 10, 2, 8, 1, 10, 0, 11, 6, 6, 10, 5, 4, 4, 10, 0, 9, 11, 10, 9, 7, 10, 0, 5, 11, 0, 8, 7, 11, 3, 7, 2, 9, 3, 11, 3, 3, 0, 3, 0, 0, 0, 0, 3, 6, 6, 0, 5, 5, 4, 3, 11, 3, 11, 6, 1, 2, 1, 4, 6, 3, 0, 0, 0, 8, 0, 11, 2, 10, 6, 4, 3, 0, 3, 3, 0, 2, 5, 0, 1, 6, 5, 9, 0, 7, 6, 8, 0, 6, 3, 0, 1, 8, 3, 0, 4, 3, 11, 6, 0, 1, 9, 1, 3, 2, 0, 2, 5, 6, 3, 9, 1, 0, 8, 7, 11, 9, 7, 11, 7, 1, 5, 2, 5, 6, 9, 3, 3, 0, 5, 0, 5, 0, 0, 5, 0, 5, 3, 0, 3, 0, 7, 9, 3, 2, 1, 3, 4, 5, 11, 3, 0, 6, 10, 11, 10, 0, 0, 3, 6, 8, 7, 9, 0, 1, 8, 9, 11, 10, 5, 9, 7, 0, 3, 7, 2, 1, 11, 5, 6, 8, 0, 7, 1, 0, 5, 8, 6, 1, 3, 11, 3, 11, 7, 7, 5, 10, 2, 5, 6, 11, 7, 5, 11, 9, 5, 3, 11, 3, 0, 6, 7, 4, 5, 7, 9, 0, 8, 6, 10, 10, 1, 5, 0, 1, 1, 10, 0, 3, 9, 3, 5, 2, 7, 3, 1, 0, 1, 8, 0, 9, 9, 3, 7, 10, 6, 2, 9, 0, 2, 11, 6, 8, 0, 2, 1, 11, 0, 3, 7, 0, 11, 1, 3, 3, 9, 2, 3, 5, 3, 5, 1, 11, 0, 7, 6, 0, 4, 3, 0, 10, 7, 0, 1, 7, 0, 0, 2, 11, 5, 6, 11, 3, 1, 8, 6, 0, 7, 11, 7, 0, 5, 6, 0, 0, 11, 7, 2, 5, 7, 7, 7, 4, 2, 11, 7, 3, 0, 6, 7, 9, 1, 0, 3, 8, 0, 0, 1, 8, 11, 2, 4, 3, 5, 10, 3, 8, 3, 3, 10, 4, 11, 0, 6, 0, 0, 7, 2, 5, 5, 6, 0, 11, 10, 0, 3, 10, 11, 3, 10, 3, 0, 7, 7, 9, 6, 0, 11, 9, 10, 0, 3, 1, 3, 5, 3, 1, 3, 3, 0, 7, 3, 7, 5, 5, 0, 1, 5, 1, 1, 6, 1, 2, 7, 7, 11, 3, 0, 10, 11, 5, 0, 0, 6, 9, 7, 3, 4, 10, 0, 8, 10, 10, 1, 1, 0, 3, 9, 0, 7, 11, 1, 6, 0, 0, 5, 9, 5, 6, 7, 0, 6, 7, 3, 3, 0, 0, 0, 0, 0, 4, 10, 3, 7, 0, 10, 10, 7, 9, 7, 10, 5, 0, 0, 0, 0, 5, 10, 6, 2, 5, 6, 6, 0, 0, 6, 8, 8, 3, 0, 7, 8, 0, 0, 3, 10, 3, 11, 3, 0, 0, 4, 4, 5, 3, 7, 11, 6, 7, 11, 3, 11, 7, 0, 0, 3, 11, 0, 0, 4, 5, 2, 3, 0, 2, 8, 10, 4, 3, 10, 5, 2, 3, 10, 10, 1, 0, 4, 4, 10, 3, 10, 0, 8, 10, 0, 6, 3, 11, 10, 11, 4, 9, 8, 0, 6, 7, 3, 6, 3, 0, 4, 6, 8, 11, 0, 7, 5, 0, 2, 3, 3, 0, 7, 11, 10, 2, 5, 1, 11, 3, 1, 6, 3, 11, 9, 9, 0, 2, 7, 7, 0, 11, 0, 7, 7, 10, 9, 3, 1, 9, 10, 1, 3, 10, 5, 0, 11, 11, 11, 3, 0, 11, 0, 6, 0, 0, 10, 11, 1, 7, 3, 11, 0, 3, 1, 4, 6, 5, 0, 11, 5, 2, 1, 5, 1, 9, 4, 11, 10, 3, 3, 3, 3, 0, 2, 7, 2, 3, 0, 0, 11, 6, 9, 8, 3, 0, 3, 5, 1, 0, 7, 0, 0, 0, 2, 0, 4, 5, 6, 0, 0, 1, 0, 0, 1, 2, 2, 10, 3, 4, 3, 9, 2, 2, 6, 0, 7, 0, 7, 8, 7, 11, 5, 9, 1, 1, 0, 7, 11, 5, 0, 0, 1, 1, 8, 7, 1, 1, 0, 5, 8, 6, 10, 3, 9, 4, 3, 11, 0, 7, 6, 0, 0, 9, 0, 0, 6, 5, 0, 5, 6, 3, 4, 0, 9, 0, 0, 0, 0, 3, 0, 3, 3, 5, 1, 3, 0, 7, 10, 5, 3, 0, 3, 2, 10, 9, 1, 5, 0, 6, 7, 11, 6, 0, 0, 8, 9, 2, 0, 6, 0, 9, 5, 10, 1, 3, 1, 0, 11, 2, 3, 0, 5, 2, 3, 0, 5, 6, 9, 3, 11, 2, 10, 5, 2, 5, 2, 0, 8, 7, 7, 7, 2, 5, 6, 7, 0, 11, 2, 11, 0, 0, 1, 1, 5, 6, 0, 7, 3, 0, 8, 0, 1, 5, 5, 3, 10, 1, 5, 9, 3, 1, 7, 4, 10, 4, 1, 10, 0, 10, 1, 5, 0, 6, 2, 4, 7, 3, 0, 6, 0, 0, 0, 1, 0, 10, 7, 1, 1, 3, 2, 10, 10, 7, 3, 3, 5, 9, 10, 6, 3, 5, 0, 1, 0, 11, 1, 0, 4, 11, 10, 10, 7, 10, 11, 3, 10, 3, 0, 1, 0, 1, 2, 7, 3, 3, 11, 3, 0, 11, 0, 0, 0, 0, 3, 3, 9, 11, 2, 2, 9, 11, 8, 0, 0, 3, 0, 6, 0, 9, 1, 9, 9, 5, 0, 2, 5, 4, 10, 9, 0, 5, 11, 3, 0, 3, 5, 3, 11, 3, 0, 11, 0, 3, 7, 10, 0, 0, 7, 7, 3, 2, 9, 11, 2, 3, 3, 6, 9, 3, 3, 3, 0, 0, 0, 11, 0, 4, 5, 11, 9, 4, 11, 6, 9, 0, 1, 5, 0, 9, 3, 6, 1, 2, 0, 6, 3, 2, 7, 3, 7, 2, 5, 1, 9, 8, 5, 3, 0, 4, 7, 7, 11, 3, 11, 10, 2, 10, 11, 9, 7, 8, 9, 5, 6, 0, 0, 3, 2, 5, 6, 0, 2, 0, 2, 3, 0, 8, 0, 5, 2, 5, 0, 0, 11, 9, 1, 7, 0, 1, 11, 2, 2, 4, 6, 3, 3, 0, 11, 5, 11, 7, 5, 3, 4, 11, 0, 0, 0, 4, 3, 11, 1, 6, 9, 7, 8, 6, 1, 0, 10, 11, 0, 11, 5, 0, 0, 7, 5, 9, 11, 6, 6, 6, 4, 10, 6, 6, 6, 10, 11, 7, 6, 1, 9, 3, 9, 0, 4, 3, 0, 10, 5, 8, 11, 5, 0, 3, 6, 4, 7, 1, 1, 11, 11, 9, 4, 3, 3, 3, 6, 9, 6, 7, 3, 2, 1, 8, 1, 6, 3, 0, 5, 6, 0, 11, 5, 7, 2, 1, 4, 0, 1, 0, 4, 11, 2, 1, 0, 3, 10, 1, 2, 0, 10, 3, 3, 10, 2, 6, 2, 5, 0, 3, 11, 6, 3, 5, 4, 6, 0, 9, 6, 4, 7, 1, 8, 7, 2, 11, 6, 0, 3, 6, 1, 6, 11, 2, 0, 6, 4, 3, 9, 7, 6, 3, 7, 11, 7, 11, 3, 0, 1, 1, 2, 3, 6, 6, 8, 2, 1, 11, 5, 5, 0, 2, 9, 6, 6, 3, 1, 3, 8, 0, 7, 9, 3, 6, 1, 3, 1, 5, 4, 0, 2, 4, 2, 2, 3, 6, 6, 1, 0, 7, 1, 11, 2, 3, 11, 6, 11, 0, 9, 7, 1, 6, 3, 7, 1, 3, 9, 7, 0, 7, 1, 6, 11, 1, 1, 6, 1, 11, 1, 0, 0, 0, 6, 1, 7, 0, 4, 6, 0, 1, 1, 4, 0, 6, 2, 4, 6, 1, 6, 8, 1, 6, 6, 0, 5, 8, 0, 2, 1, 1, 8, 11, 0, 3, 2, 4, 8, 3, 2, 9, 3, 10, 6, 7, 1, 5, 4, 1, 6, 1, 0, 8, 6, 11, 0, 6, 0, 1, 5, 1, 6, 2, 8, 0, 1, 6, 2, 11, 8, 11, 5, 6, 1, 6, 1, 7, 8, 11, 3, 1, 8, 1, 11, 6, 2, 2, 1, 4, 9, 9, 6, 6, 3, 1, 1, 6, 2, 4, 2, 1, 5, 8, 6, 4, 1, 3, 7, 5, 9, 0, 1, 3, 11, 8, 6, 11, 3, 5, 3, 6, 1, 6, 6, 9, 3, 0, 2, 1, 6, 1, 1, 6, 1, 6, 9, 6, 1, 8, 11, 10, 2, 1, 1, 7, 3, 3, 0, 11, 1, 3, 5, 3, 1, 3, 1, 7, 10, 7, 3, 3, 1, 2, 8, 1, 8, 6, 3, 1, 8, 0, 3, 11, 7, 4, 0, 0, 1, 6, 8, 3, 6, 8, 6, 1, 0, 1, 1, 7, 2, 1, 6, 3, 11, 5, 3, 0, 0, 1, 0, 0, 3, 1, 2, 8, 1, 6, 6, 1, 2, 0, 11, 10, 1, 1, 3, 0, 2, 1, 4, 4, 0, 11, 3, 2, 4, 0, 10, 8, 4, 7, 3, 6, 6, 6, 5, 4, 0, 11, 6, 0, 1, 0, 11, 3, 1, 11, 2, 9, 8, 4, 1, 0, 3, 2, 1, 11, 8, 7, 7, 0, 9, 3, 4, 1, 3, 6, 2, 10, 0, 4, 7, 11, 10, 0, 10, 9, 6, 1, 0, 0, 10, 6, 3, 3, 6, 6, 11, 6, 6, 6, 7, 5, 0, 8, 0, 8, 1, 5, 3, 1, 6, 8, 1, 5, 1, 3, 1, 0, 0, 11, 0, 6, 0, 8, 6, 6, 1, 5, 4, 11, 0, 6, 11, 0, 3, 5, 11, 11, 3, 6, 7, 1, 9, 0, 5, 11, 9, 6, 1, 5, 11, 3, 6, 11, 6, 7, 7, 0, 3, 6, 6, 3, 3, 7, 1, 1, 9, 11, 3, 2, 0, 0, 11, 1, 11, 6, 1, 11, 1, 0, 1, 2, 6, 6, 1, 11, 3, 3, 7, 10, 9, 8, 2, 3, 3, 3, 6, 3, 2, 4, 7, 1, 5, 0, 2, 1, 1, 11, 1, 1, 6, 3, 1, 5, 9, 11, 1, 6, 0, 4, 4, 11, 9, 5, 11, 6, 6, 3, 5, 6, 3, 5, 7, 11, 0, 6, 1, 3, 2, 6, 6, 1, 6, 6, 6, 7, 1, 6, 9, 0, 7, 6, 6, 11, 5, 1, 6, 3, 6, 11, 0, 0, 1, 3, 6, 1, 1, 0, 0, 3, 7, 8, 0, 1, 10, 6, 7, 4, 0, 3, 2, 1, 4, 11, 0, 2, 0, 2, 3, 2, 1, 8, 1, 1, 9, 2, 11, 11, 0, 6, 2, 6, 6, 2, 1, 2, 9, 4, 6, 6, 7, 6, 0, 11, 8, 0, 3, 3, 7, 3, 3, 5, 6, 2, 0, 0, 2, 1, 6, 5, 11, 4, 6, 0, 0, 11, 1, 8, 0, 6, 6, 8, 3, 4, 3, 10, 2, 1, 0, 0, 11, 0, 6, 1, 6, 0, 2, 0, 3, 7, 6, 6, 6, 1, 7, 1, 1, 3, 3, 4, 6, 1, 2, 5, 6, 1, 6, 3, 9, 4, 9, 3, 6, 0, 7, 1, 1, 11, 1, 10, 1, 1, 6, 0, 6, 6, 3, 6, 6, 4, 6, 1, 9, 1, 2, 6, 0, 6, 2, 3, 6, 1, 6, 11, 6, 6, 0, 1, 2, 7, 4, 3, 1, 3, 2, 0, 5, 0, 7, 3, 0, 1, 4, 3, 0, 1, 7, 0, 1, 6, 5, 6, 5, 1, 11, 9, 10, 3, 4, 1, 10, 3, 1, 11, 1, 11, 1, 1, 6, 10, 0, 3, 6, 1, 2, 6, 11, 9, 0, 7, 11, 6, 3, 6, 6, 0, 7, 10, 0, 6, 6, 11, 5, 0, 10, 1, 0, 5, 1, 6, 5, 1, 5, 11, 1, 2, 1, 5, 9, 1, 7, 2, 4, 11, 1, 2, 3, 1, 3, 3, 2, 1, 4, 3, 6, 6, 2, 3, 1, 10, 11, 10, 0, 4, 10, 8, 1, 4, 3, 6, 6, 0, 6, 0, 4, 1, 11, 3, 6, 1, 7, 6, 0, 6, 4, 0, 0, 1, 6, 3, 2, 9, 1, 6, 1, 6, 2, 0, 0, 6, 6, 11, 6, 3, 8, 11, 0, 6, 6, 6, 1, 3, 11, 11, 8, 7, 3, 11, 3, 2, 1, 6, 6, 3, 7, 3, 0, 6, 11, 7, 9, 6, 1, 5, 3, 1, 0, 2, 1, 11, 7, 1, 6, 2, 1, 6, 0, 4, 10, 0, 3, 6, 1, 1, 6, 5, 4, 3, 7, 0, 1, 1, 0, 0, 11, 9, 3, 1, 1, 8, 3, 3, 0, 2, 0, 10, 10, 10, 3, 3, 1, 3, 11, 5, 0, 2, 10, 1, 9, 10, 3, 3, 1, 11, 8, 11, 11, 1, 1, 2, 3, 11, 3, 8, 2, 7, 11, 6, 3, 1, 6, 1, 3, 6, 11, 3, 6, 0, 1, 6, 6, 1, 7, 9, 6, 6, 8, 1, 11, 6, 1, 3, 1, 1, 6, 3, 2, 1, 2, 4, 4, 6, 0, 11, 0, 10, 1, 10, 6, 3, 0, 8, 1, 6, 9, 1, 11, 6, 2, 1, 6, 6, 1, 1, 4, 2, 1, 4, 2, 4, 1, 0, 9, 7, 6, 8, 3, 1, 6, 5, 4, 7, 0, 7, 0, 11, 2, 3, 8, 3, 5, 6, 1, 2, 1, 10, 0, 5, 1, 0, 3, 0, 1, 11, 1, 6, 2, 6, 7, 1, 2, 2, 4, 6, 3, 7, 11, 0, 4, 0, 1, 1, 1, 3, 6, 1, 1, 3, 7, 4, 8, 11, 1, 8, 1, 7, 11, 11, 3, 6, 4, 6, 5, 9, 4, 0, 11, 0, 2, 10, 0, 11, 0, 9, 11, 2, 3, 9, 6, 1, 7, 2, 7, 11, 0, 11, 2, 8, 3, 11, 6, 0, 1, 2, 3, 6, 1, 1, 4, 6, 9, 3, 6, 2, 6, 6, 6, 11, 6, 1, 11, 8, 0, 0, 8, 2, 4, 4, 0, 2, 1, 1, 3, 0, 4, 1, 2, 2, 7, 3, 1, 2, 8, 5, 2, 5, 7, 11, 6, 6, 3, 9, 1, 3, 3, 8, 1, 1, 1, 6, 3, 3, 6, 2, 3, 6, 11, 3, 8, 4, 11, 7, 11, 1, 2, 0, 11, 0, 1, 4, 1, 5, 2, 1, 2, 10, 0, 3, 1, 1, 6, 10, 11, 11, 7, 3, 0, 4, 8, 3, 3, 0, 2, 6, 3, 0, 0, 7, 1, 11, 6, 7, 1, 1, 0, 9, 6, 7, 6, 0, 6, 1, 1, 0, 2, 11, 2, 7, 1, 3, 6, 6, 8, 1, 6, 4, 6, 9, 1, 9, 6, 6, 7, 11, 3, 1, 6, 1, 6, 3, 11, 6, 3, 7, 10, 6, 11, 5, 8, 11, 6, 1, 0, 3, 4, 3, 5, 2, 6, 6, 3, 4, 3, 2, 0, 9, 2, 11, 0, 0, 7, 3, 3, 7, 7, 6, 1, 6, 8, 9, 0, 9, 0, 4, 6, 0, 1, 0, 4, 6, 11, 6, 2, 2, 3, 1, 7, 1, 11, 8, 5, 0, 0, 6, 1, 8, 4, 10, 0, 1, 2, 6, 6, 1, 11, 6, 11, 6, 6, 1, 1, 3, 6, 2, 5, 11, 0, 1, 3, 1, 11, 2, 6, 6, 0, 3, 8, 1, 11, 6, 1, 0, 4, 7, 1, 3, 5, 1, 11, 6, 0, 3, 2, 2, 1, 11, 7, 8, 0, 11, 11, 6, 6, 7, 10, 6, 0, 1, 0, 8, 0, 1, 0, 6, 3, 6, 0, 6, 3, 1, 9, 10, 3, 11, 1, 2, 6, 4, 1, 0, 7, 1, 1, 8, 0, 1, 6, 3, 3, 6, 2, 8, 2, 2, 4, 8, 0, 6, 2, 2, 6, 8, 5, 1, 2, 8, 2, 11, 2, 6, 2, 2, 0, 11, 9, 3, 2, 5, 5, 2, 11, 2, 5, 2, 8, 4, 2, 8, 2, 6, 2, 9, 8, 2, 7, 2, 8, 9, 9, 4, 2, 2, 8, 5, 9, 4, 4, 2, 8, 1, 2, 7, 1, 8, 5, 3, 5, 8, 5, 2, 8, 4, 2, 2, 2, 9, 6, 9, 9, 2, 0, 4, 2, 2, 2, 4, 6, 2, 6, 2, 8, 2, 4, 2, 1, 9, 2, 8, 8, 0, 2, 2, 3, 2, 5, 2, 2, 2, 2, 9, 8, 2, 2, 2, 2, 0, 8, 4, 4, 2, 7, 2, 2, 8, 0, 8, 6, 2, 2, 8, 2, 6, 2, 2, 2, 2, 2, 8, 0, 8, 8, 7, 9, 2, 8, 11, 2, 5, 2, 4, 2, 2, 2, 3, 2, 9, 2, 5, 0, 5, 8, 4, 4, 2, 8, 2, 2, 9, 2, 6, 2, 7, 8, 0, 11, 0, 2, 2, 8, 0, 2, 8, 5, 9, 9, 9, 5, 4, 4, 8, 2, 2, 2, 7, 2, 2, 4, 7, 5, 11, 7, 2, 2, 4, 7, 2, 2, 2, 2, 2, 2, 2, 2, 9, 8, 9, 4, 2, 9, 3, 6, 1, 9, 4, 11, 2, 10, 2, 5, 1, 0, 2, 2, 2, 5, 2, 2, 4, 4, 8, 2, 4, 2, 8, 6, 8, 11, 8, 6, 5, 5, 9, 6, 8, 2, 0, 4, 2, 8, 2, 2, 2, 0, 6, 6, 8, 2, 8, 4, 4, 2, 2, 2, 9, 1, 4, 2, 2, 4, 3, 2, 4, 4, 9, 11, 1, 7, 5, 4, 2, 0, 4, 8, 2, 9, 2, 2, 2, 2, 2, 9, 3, 11, 2, 2, 3, 2, 1, 0, 5, 2, 1, 2, 0, 4, 5, 8, 11, 6, 4, 0, 6, 5, 2, 11, 11, 2, 0, 0, 4, 8, 1, 2, 2, 2, 2, 2, 4, 2, 6, 2, 5, 11, 2, 3, 8, 5, 1, 4, 4, 0, 8, 4, 2, 6, 4, 9, 2, 0, 3, 6, 8, 11, 2, 2, 8, 1, 4, 5, 5, 1, 5, 2, 10, 2, 2, 5, 2, 5, 8, 5, 6, 8, 2, 9, 2, 9, 1, 8, 0, 10, 9, 5, 6, 2, 2, 9, 4, 8, 2, 8, 2, 2, 6, 2, 2, 2, 5, 4, 2, 2, 8, 2, 2, 8, 2, 2, 2, 2, 2, 8, 2, 3, 2, 2, 2, 6, 4, 9, 8, 6, 9, 2, 6, 6, 6, 2, 2, 4, 2, 4, 11, 1, 2, 11, 2, 2, 4, 2, 0, 4, 2, 2, 2, 2, 2, 2, 5, 5, 7, 2, 5, 8, 2, 2, 2, 2, 8, 3, 2, 4, 5, 7, 2, 9, 8, 8, 2, 5, 8, 2, 4, 5, 5, 8, 2, 7, 6, 9, 8, 4, 2, 4, 2, 8, 2, 10, 0, 3, 4, 2, 0, 10, 10, 2, 2, 2, 7, 2, 8, 5, 11, 2, 9, 8, 6, 10, 3, 8, 9, 8, 2, 2, 5, 2, 2, 8, 2, 1, 4, 8, 2, 9, 4, 8, 0, 2, 11, 4, 2, 2, 4, 5, 5, 5, 6, 2, 2, 2, 2, 0, 8, 9, 9, 2, 0, 5, 0, 2, 2, 5, 4, 0, 2, 7, 9, 2, 6, 2, 6, 2, 2, 8, 4, 4, 0, 0, 5, 1, 8, 5, 4, 0, 2, 2, 8, 2, 2, 10, 2, 10, 8, 6, 6, 2, 5, 4, 2, 4, 4, 2, 2, 6, 2, 5, 8, 2, 4, 1, 2, 2, 2, 4, 0, 2, 2, 8, 2, 2, 4, 4, 5, 2, 5, 1, 9, 2, 3, 0, 2, 7, 9, 2, 6, 4, 4, 8, 0, 1, 2, 2, 9, 2, 4, 2, 2, 2, 3, 9, 2, 8, 9, 2, 6, 2, 2, 6, 8, 2, 2, 8, 0, 1, 2, 7, 4, 2, 8, 2, 2, 4, 5, 1, 6, 2, 3, 6, 8, 2, 8, 2, 1, 5, 1, 2, 9, 0, 6, 7, 2, 2, 9, 5, 9, 0, 2, 1, 2, 8, 8, 0, 4, 8, 2, 9, 2, 2, 4, 1, 9, 2, 2, 5, 4, 3, 11, 8, 2, 4, 2, 2, 0, 6, 2, 6, 11, 2, 2, 2, 0, 2, 5, 2, 2, 2, 2, 2, 3, 9, 2, 6, 2, 2, 3, 4, 2, 2, 9, 2, 6, 0, 1, 8, 2, 5, 2, 2, 2, 2, 2, 8, 2, 9, 11, 2, 2, 2, 9, 8, 9, 0, 4, 2, 9, 7, 4, 3, 2, 2, 5, 5, 2, 1, 2, 9, 6, 2, 6, 2, 8, 2, 8, 4, 6, 4, 2, 4, 2, 2, 11, 8, 2, 2, 8, 2, 2, 5, 4, 6, 5, 11, 2, 8, 2, 6, 4, 11, 2, 2, 6, 9, 6, 6, 0, 2, 2, 0, 11, 4, 9, 2, 4, 5, 2, 4, 2, 2, 4, 2, 2, 9, 4, 8, 2, 5, 2, 9, 2, 8, 4, 0, 8, 9, 9, 9, 9, 11, 2, 8, 9, 2, 2, 3, 2, 2, 2, 1, 2, 2, 2, 2, 2, 2, 10, 4, 2, 6, 5, 2, 9, 2, 2, 2, 6, 0, 1, 7, 4, 2, 4, 2, 4, 5, 2, 0, 4, 2, 2, 9, 1, 2, 5, 9, 8, 5, 2, 2, 4, 9, 2, 3, 2, 5, 1, 9, 2, 4, 4, 2, 4, 8, 6, 3, 3, 5, 5, 11, 9, 8, 2, 5, 2, 0, 2, 5, 6, 11, 2, 9, 8, 8, 8, 5, 2, 2, 2, 8, 2, 7, 8, 6, 2, 2, 2, 4, 2, 7, 6, 4, 2, 1, 3, 0, 2, 2, 2, 8, 2, 5, 9, 8, 5, 8, 2, 5, 2, 6, 2, 0, 2, 1, 2, 7, 0, 2, 5, 2, 2, 2, 4, 2, 1, 2, 9, 0, 6, 2, 2, 2, 2, 7, 2, 2, 2, 4, 5, 8, 8, 4, 2, 2, 4, 2, 1, 3, 3, 8, 5, 2, 9, 0, 6, 5, 8, 2, 4, 4, 7, 2, 2, 2, 2, 2, 7, 2, 2, 2, 4, 9, 2, 2, 9, 2, 0, 2, 1, 2, 2, 1, 0, 2, 3, 2, 7, 5, 2, 2, 2, 2, 2, 9, 5, 4, 2, 2, 7, 2, 6, 2, 9, 1, 8, 1, 0, 2, 2, 2, 2, 2, 2, 8, 2, 5, 2, 5, 9, 7, 0, 1, 2, 10, 11, 11, 10, 1, 0, 7, 3, 0, 2, 11, 3, 3, 6, 3, 6, 3, 10, 5, 0, 11, 3, 5, 9, 3, 3, 3, 6, 5, 7, 10, 8, 7, 5, 0, 4, 7, 3, 11, 3, 6, 11, 5, 11, 7, 6, 7, 10, 11, 7, 6, 1, 11, 10, 3, 6, 10, 3, 3, 6, 6, 6, 2, 9, 11, 3, 1, 3, 4, 3, 3, 6, 3, 3, 11, 3, 10, 3, 1, 3, 2, 6, 7, 3, 6, 6, 7, 3, 3, 3, 10, 3, 11, 6, 8, 6, 0, 0, 3, 0, 3, 0, 0, 3, 0, 0, 3, 7, 9, 0, 6, 6, 6, 7, 0, 11, 8, 7, 11, 6, 10, 1, 6, 5, 11, 11, 3, 3, 0, 0, 1, 3, 3, 6, 5, 10, 3, 3, 0, 5, 6, 5, 0, 3, 7, 7, 3, 2, 11, 10, 6, 0, 11, 3, 3, 3, 9, 3, 7, 1, 3, 3, 7, 0, 3, 0, 0, 3, 11, 7, 4, 1, 11, 3, 0, 11, 3, 11, 2, 2, 10, 3, 5, 1, 0, 3, 3, 3, 10, 3, 5, 6, 1, 11, 9, 0, 11, 3, 10, 11, 5, 6, 11, 11, 7, 7, 5, 7, 3, 0, 3, 3, 3, 1, 3, 6, 5, 3, 3, 5, 9, 9, 7, 0, 1, 7, 0, 10, 5, 10, 7, 7, 9, 5, 3, 11, 3, 3, 3, 3, 4, 2, 3, 11, 7, 10, 7, 7, 3, 6, 11, 6, 3, 0, 11, 3, 11, 3, 5, 6, 11, 6, 6, 1, 7, 11, 11, 3, 7, 1, 3, 10, 11, 6, 11, 6, 3, 4, 3, 2, 10, 7, 0, 8, 3, 3, 3, 1, 11, 11, 11, 3, 8, 6, 3, 3, 11, 3, 3, 11, 6, 0, 1, 6, 9, 0, 3, 5, 6, 3, 10, 3, 0, 0, 3, 1, 10, 8, 3, 7, 6, 1, 11, 3, 3, 5, 7, 3, 11, 11, 11, 11, 11, 7, 0, 3, 0, 3, 5, 6, 10, 9, 3, 0, 3, 11, 6, 11, 9, 11, 11, 1, 10, 6, 5, 3, 6, 5, 0, 9, 1, 5, 3, 11, 3, 3, 3, 11, 4, 0, 11, 1, 8, 3, 6, 3, 3, 3, 2, 8, 2, 1, 11, 8, 3, 9, 3, 11, 2, 3, 6, 3, 9, 0, 11, 3, 5, 10, 7, 3, 6, 6, 9, 3, 1, 1, 7, 0, 3, 3, 3, 3, 3, 3, 7, 8, 3, 11, 3, 11, 7, 6, 1, 1, 6, 3, 11, 5, 0, 5, 6, 3, 11, 3, 6, 7, 6, 11, 3, 0, 1, 6, 1, 9, 0, 11, 6, 0, 3, 7, 3, 3, 11, 2, 3, 6, 9, 3, 3, 6, 0, 3, 0, 3, 1, 7, 3, 7, 7, 3, 1, 3, 3, 6, 2, 7, 3, 4, 3, 10, 7, 0, 6, 6, 6, 3, 3, 7, 11, 1, 5, 10, 10, 0, 6, 2, 9, 3, 1, 7, 0, 3, 0, 6, 7, 0, 3, 1, 3, 3, 3, 7, 10, 1, 3, 11, 6, 5, 11, 2, 5, 3, 11, 9, 0, 3, 7, 3, 7, 3, 3, 11, 3, 3, 0, 11, 11, 1, 3, 11, 1, 11, 6, 0, 6, 3, 3, 3, 6, 3, 11, 5, 11, 11, 5, 10, 9, 3, 9, 0, 8, 3, 3, 6, 7, 11, 3, 2, 7, 6, 7, 3, 2, 0, 5, 1, 1, 3, 3, 7, 7, 1, 1, 2, 8, 3, 1, 0, 6, 3, 11, 3, 10, 3, 9, 3, 3, 3, 4, 4, 0, 3, 6, 7, 6, 10, 3, 3, 6, 0, 3, 9, 0, 11, 6, 11, 3, 3, 11, 5, 11, 2, 3, 2, 1, 11, 6, 0, 11, 5, 10, 11, 11, 11, 3, 7, 10, 6, 1, 11, 6, 3, 3, 3, 3, 8, 3, 3, 2, 3, 0, 5, 11, 6, 6, 11, 6, 3, 3, 2, 9, 3, 6, 6, 7, 0, 11, 6, 0, 0, 3, 0, 6, 5, 11, 3, 3, 7, 11, 1, 5, 3, 9, 6, 3, 11, 9, 6, 5, 7, 1, 6, 11, 6, 6, 6, 5, 10, 10, 3, 0, 6, 11, 1, 1, 6, 6, 3, 5, 3, 11, 0, 6, 8, 6, 6, 4, 6, 0, 8, 1, 1, 3, 7, 9, 3, 7, 6, 9, 0, 1, 6, 1, 10, 7, 7, 3, 6, 4, 9, 0, 5, 3, 11, 10, 3, 3, 3, 6, 3, 11, 6, 6, 6, 2, 6, 10, 0, 6, 3, 6, 0, 6, 3, 3, 6, 10, 3, 1, 10, 11, 3, 10, 5, 11, 3, 9, 6, 3, 3, 0, 3, 7, 6, 6, 11, 6, 3, 6, 3, 8, 5, 6, 6, 6, 7, 1, 3, 3, 3, 10, 6, 3, 6, 1, 9, 3, 11, 10, 5, 5, 7, 5, 0, 11, 7, 1, 10, 6, 5, 10, 11, 3, 4, 11, 3, 0, 0, 7, 3, 0, 7, 0, 11, 3, 6, 11, 1, 0, 7, 3, 1, 3, 0, 3, 3, 7, 6, 3, 3, 3, 6, 1, 2, 8, 11, 3, 8, 6, 11, 5, 7, 1, 11, 6, 3, 9, 3, 3, 11, 0, 11, 1, 6, 11, 1, 1, 10, 3, 3, 6, 4, 7, 11, 10, 3, 11, 6, 3, 3, 3, 11, 11, 3, 3, 6, 3, 10, 1, 0, 6, 6, 1, 0, 3, 0, 6, 6, 7, 0, 6, 11, 5, 8, 6, 6, 9, 10, 6, 10, 2, 3, 1, 6, 7, 11, 8, 3, 3, 3, 2, 6, 3, 6, 3, 6, 3, 0, 6, 1, 2, 0, 6, 6, 10, 0, 3, 3, 9, 11, 5, 11, 7, 1, 11, 11, 2, 4, 6, 10, 6, 3, 3, 1, 6, 0, 11, 5, 3, 8, 11, 11, 3, 6, 0, 3, 6, 0, 11, 9, 7, 3, 6, 6, 11, 5, 3, 6, 3, 3, 5, 1, 3, 8, 3, 3, 0, 8, 7, 3, 3, 3, 3, 3, 8, 6, 0, 3, 0, 3, 5, 3, 8, 9, 3, 9, 3, 3, 5, 7, 0, 11, 9, 3, 10, 9, 6, 1, 1, 3, 11, 11, 3, 11, 3, 8, 11, 3, 11, 10, 7, 6, 11, 11, 3, 2, 3, 9, 1, 0, 3, 3, 7, 7, 7, 5, 3, 10, 11, 11, 0, 1, 10, 1, 3, 0, 0, 3, 11, 6, 0, 3, 11, 3, 9, 11, 9, 3, 0, 3, 7, 3, 0, 9, 6, 0, 3, 9, 6, 3, 6, 2, 3, 11, 3, 3, 3, 6, 3, 7, 7, 0, 7, 0, 3, 5, 6, 0, 0, 0, 6, 3, 1, 10, 8, 3, 10, 3, 10, 11, 3, 1, 11, 3, 6, 8, 1, 0, 3, 3, 6, 3, 11, 10, 8, 1, 7, 11, 3, 4, 0, 1, 10, 3, 3, 10, 0, 9, 3, 1, 3, 5, 6, 3, 10, 7, 0, 6, 11, 1, 6, 7, 10, 11, 7, 11, 7, 6, 11, 11, 3, 6, 11, 1, 3, 11, 3, 9, 3, 3, 11, 11, 3, 6, 5, 6, 0, 2, 3, 11, 1, 6, 5, 3, 5, 6, 11, 3, 9, 3, 0, 6, 3, 3, 1, 7, 0, 6, 7, 1, 0, 3, 6, 10, 6, 6, 8, 5, 4, 2, 2, 1, 4, 4, 4, 10, 4, 2, 3, 7, 8, 0, 4, 8, 4, 8, 0, 8, 4, 4, 4, 4, 8, 2, 4, 3, 11, 8, 8, 8, 7, 2, 4, 4, 6, 4, 8, 4, 4, 10, 8, 4, 4, 5, 6, 8, 8, 2, 5, 8, 4, 6, 4, 4, 4, 3, 9, 11, 3, 2, 1, 8, 4, 4, 8, 4, 2, 2, 5, 8, 0, 4, 1, 4, 4, 3, 4, 5, 4, 5, 9, 4, 2, 4, 5, 2, 5, 8, 8, 4, 8, 8, 3, 9, 8, 8, 8, 4, 1, 1, 5, 8, 8, 4, 10, 8, 9, 4, 4, 7, 4, 4, 7, 5, 10, 8, 2, 5, 1, 8, 7, 2, 4, 4, 1, 0, 2, 8, 4, 6, 2, 8, 1, 5, 9, 8, 8, 5, 5, 5, 4, 4, 9, 4, 4, 4, 8, 4, 4, 8, 4, 8, 8, 4, 8, 5, 2, 8, 4, 4, 8, 9, 6, 4, 11, 4, 8, 2, 8, 7, 4, 4, 5, 4, 8, 4, 4, 4, 2, 8, 4, 0, 9, 4, 5, 8, 0, 10, 4, 4, 8, 8, 4, 4, 8, 4, 2, 8, 8, 3, 9, 1, 8, 1, 4, 4, 8, 4, 4, 5, 4, 11, 8, 1, 9, 1, 8, 2, 4, 8, 8, 2, 6, 4, 9, 4, 4, 1, 8, 8, 1, 4, 8, 5, 0, 11, 7, 8, 1, 4, 9, 4, 1, 8, 0, 4, 4, 4, 10, 4, 0, 2, 11, 2, 8, 8, 4, 10, 8, 4, 2, 4, 4, 8, 8, 4, 4, 5, 0, 4, 4, 4, 4, 6, 5, 4, 9, 8, 5, 2, 8, 4, 2, 7, 4, 5, 5, 5, 5, 9, 9, 4, 4, 4, 4, 5, 8, 8, 5, 8, 8, 4, 8, 8, 4, 9, 4, 8, 0, 8, 2, 8, 4, 8, 4, 4, 8, 4, 1, 8, 10, 8, 2, 1, 8, 4, 4, 8, 4, 4, 4, 8, 4, 9, 8, 4, 8, 2, 8, 4, 5, 4, 4, 4, 0, 2, 9, 8, 2, 6, 1, 4, 4, 5, 1, 1, 2, 8, 8, 8, 10, 8, 4, 8, 8, 5, 4, 4, 5, 3, 6, 8, 2, 5, 4, 8, 5, 4, 9, 8, 5, 4, 9, 8, 4, 8, 2, 8, 4, 2, 9, 8, 5, 4, 4, 4, 4, 2, 9, 8, 5, 5, 4, 6, 10, 11, 8, 8, 4, 4, 6, 2, 4, 5, 8, 5, 4, 2, 4, 9, 5, 4, 2, 5, 8, 4, 5, 4, 8, 11, 8, 4, 2, 4, 8, 5, 4, 4, 8, 9, 4, 8, 4, 2, 1, 9, 4, 4, 8, 8, 11, 4, 4, 4, 4, 8, 4, 4, 2, 8, 4, 4, 4, 8, 0, 4, 8, 5, 10, 4, 8, 8, 8, 5, 11, 2, 2, 8, 8, 5, 9, 4, 8, 5, 8, 2, 8, 11, 8, 4, 8, 2, 9, 4, 4, 8, 1, 8, 2, 4, 9, 8, 2, 8, 4, 2, 4, 6, 10, 6, 1, 4, 2, 5, 4, 8, 4, 4, 8, 4, 4, 2, 2, 10, 4, 4, 4, 4, 2, 1, 8, 8, 9, 8, 8, 5, 4, 4, 4, 3, 9, 4, 2, 8, 8, 6, 4, 8, 4, 8, 8, 2, 4, 2, 6, 8, 5, 2, 9, 4, 4, 8, 4, 8, 10, 5, 4, 4, 4, 4, 4, 8, 2, 2, 4, 6, 5, 0, 4, 5, 4, 9, 1, 5, 4, 5, 10, 8, 5, 8, 4, 5, 1, 8, 4, 4, 1, 2, 4, 2, 0, 5, 0, 8, 0, 5, 4, 5, 4, 5, 8, 4, 4, 3, 4, 10, 4, 4, 4, 5, 8, 4, 8, 5, 4, 10, 2, 4, 8, 5, 8, 5, 2, 4, 2, 4, 4, 3, 10, 2, 5, 4, 2, 8, 11, 8, 8, 8, 4, 4, 8, 4, 4, 2, 8, 10, 5, 8, 2, 9, 9, 4, 10, 2, 6, 8, 8, 11, 4, 11, 5, 5, 4, 4, 5, 8, 1, 0, 4, 4, 10, 2, 2, 8, 11, 4, 4, 5, 4, 9, 5, 8, 4, 4, 2, 2, 9, 9, 9, 4, 10, 4, 2, 4, 4, 8, 4, 2, 8, 4, 4, 1, 4, 8, 9, 2, 4, 5, 8, 1, 4, 2, 4, 7, 2, 4, 4, 8, 2, 11, 5, 8, 8, 5, 5, 5, 8, 1, 4, 11, 8, 11, 5, 5, 1, 5, 5, 5, 8, 4, 3, 11, 8, 8, 9, 5, 5, 5, 8, 5, 10, 9, 5, 5, 8, 3, 9, 5, 4, 1, 10, 8, 10, 7, 1, 0, 5, 5, 8, 7, 5, 7, 8, 4, 7, 8, 9, 3, 8, 10, 5, 4, 8, 9, 8, 10, 8, 10, 8, 9, 5, 9, 3, 9, 7, 2, 4, 7, 0, 5, 4, 5, 8, 8, 5, 11, 5, 8, 5, 6, 9, 8, 8, 3, 8, 2, 11, 0, 5, 6, 7, 7, 6, 8, 11, 7, 5, 2, 5, 8, 4, 8, 0, 5, 8, 8, 4, 2, 0, 3, 5, 5, 4, 5, 11, 4, 8, 9, 5, 0, 8, 3, 9, 8, 7, 6, 8, 7, 8, 5, 8, 5, 0, 5, 10, 11, 5, 5, 4, 11, 10, 6, 7, 6, 2, 8, 0, 9, 8, 2, 2, 10, 5, 5, 6, 8, 8, 8, 4, 2, 11, 5, 5, 8, 2, 9, 9, 8, 5, 1, 5, 4, 4, 5, 2, 4, 0, 0, 6, 4, 10, 3, 8, 2, 8, 8, 8, 7, 5, 9, 11, 5, 2, 5, 5, 10, 8, 4, 8, 8, 11, 5, 8, 9, 8, 8, 11, 5, 4, 5, 6, 8, 10, 4, 2, 9, 2, 5, 5, 5, 3, 5, 11, 0, 5, 4, 4, 8, 9, 10, 7, 4, 11, 2, 2, 8, 8, 5, 5, 0, 8, 3, 0, 5, 2, 8, 4, 3, 5, 11, 5, 5, 4, 11, 4, 10, 11, 10, 8, 4, 5, 8, 9, 1, 8, 5, 2, 2, 10, 5, 5, 8, 8, 8, 9, 8, 4, 9, 3, 5, 5, 3, 11, 5, 2, 5, 8, 5, 11, 5, 9, 3, 8, 8, 1, 5, 8, 3, 4, 11, 3, 2, 11, 5, 4, 5, 5, 5, 5, 9, 8, 0, 5, 7, 8, 2, 0, 10, 10, 5, 11, 4, 9, 9, 5, 5, 2, 2, 5, 11, 5, 1, 2, 5, 5, 4, 7, 5, 2, 11, 5, 8, 2, 8, 5, 2, 3, 5, 5, 5, 5, 5, 2, 0, 8, 8, 5, 6, 11, 5, 5, 5, 7, 6, 5, 5, 5, 5, 5, 5, 8, 8, 8, 6, 8, 3, 8, 5, 8, 9, 5, 5, 4, 2, 4, 3, 8, 9, 2, 8, 10, 9, 8, 4, 5, 3, 9, 9, 5, 9, 9, 8, 4, 8, 8, 2, 4, 2, 2, 8, 6, 2, 5, 9, 2, 3, 5, 7, 3, 6, 10, 8, 4, 5, 9, 8, 0, 4, 11, 5, 5, 4, 5, 9, 8, 2, 5, 4, 8, 8, 8, 4, 8, 6, 5, 8, 9, 9, 3, 5, 5, 5, 5, 4, 10, 6, 5, 8, 5, 8, 8, 8, 3, 2, 5, 5, 9, 5, 8, 3, 5, 8, 4, 7, 9, 7, 5, 8, 5, 8, 6, 6, 3, 8, 5, 5, 2, 0, 6, 5, 4, 8, 8, 10, 8, 8, 7, 2, 5, 3, 5, 10, 11, 4, 5, 5, 11, 5, 9, 6, 5, 4, 2, 8, 8, 5, 5, 0, 5, 2, 8, 10, 5, 5, 5, 4, 4, 5, 5, 2, 5, 9, 11, 2, 8, 8, 8, 5, 10, 5, 5, 2, 4, 5, 4, 1, 4, 6, 0, 5, 8, 4, 4, 3, 6, 9, 2, 9, 2, 10, 5, 3, 5, 9, 9, 9, 5, 11, 5, 0, 5, 6, 4, 2, 1, 5, 5, 5, 9, 2, 5, 0, 6, 8, 8, 4, 5, 11, 1, 2, 10, 10, 5, 5, 4, 5, 5, 4, 5, 9, 10, 4, 6, 9, 8, 5, 8, 4, 3, 2, 0, 4, 5, 4, 6, 5, 5, 5, 8, 5, 9, 5, 6, 9, 5, 2, 5, 4, 8, 11, 5, 5, 7, 6, 9, 5, 8, 9, 5, 2, 5, 8, 2, 5, 9, 3, 2, 5, 4, 2, 5, 5, 7, 7, 3, 5, 5, 5, 5, 8, 5, 5, 3, 5, 8, 2, 2, 5, 4, 8, 8, 4, 8, 3, 7, 5, 5, 4, 0, 0, 2, 8, 2, 5, 4, 4, 5, 6, 4, 5, 4, 0, 3, 8, 8, 8, 9, 9, 11, 11, 4, 2, 3, 7, 2, 9, 2, 5, 4, 8, 0, 2, 1, 9, 11, 9, 0, 10, 7, 1, 8, 8, 0, 9, 7, 2, 5, 3, 9, 5, 3, 8, 1, 7, 7, 3, 1, 7, 11, 6, 6, 6, 8, 1, 6, 6, 6, 2, 2, 6, 1, 6, 2, 3, 6, 6, 7, 3, 3, 0, 5, 1, 11, 11, 11, 6, 1, 6, 0, 2, 6, 1, 3, 11, 0, 6, 1, 6, 6, 10, 3, 11, 6, 2, 5, 7, 6, 4, 6, 7, 1, 7, 10, 3, 5, 6, 1, 6, 6, 6, 6, 1, 11, 1, 6, 3, 1, 6, 6, 10, 3, 2, 6, 8, 2, 1, 5, 3, 11, 0, 2, 6, 8, 8, 11, 0, 6, 6, 4, 4, 6, 6, 6, 10, 2, 9, 3, 6, 6, 2, 0, 6, 11, 3, 2, 6, 3, 1, 6, 1, 1, 6, 11, 3, 0, 5, 6, 3, 1, 0, 3, 9, 6, 3, 10, 6, 6, 6, 9, 6, 6, 6, 7, 6, 11, 4, 6, 2, 0, 6, 5, 11, 1, 7, 3, 0, 6, 6, 5, 3, 1, 2, 0, 6, 3, 11, 1, 0, 3, 3, 5, 3, 4, 11, 1, 6, 6, 1, 1, 9, 2, 2, 3, 7, 3, 6, 3, 2, 6, 11, 6, 11, 11, 8, 11, 5, 7, 1, 5, 11, 8, 6, 11, 2, 6, 10, 5, 1, 1, 1, 2, 5, 1, 1, 7, 1, 7, 9, 11, 3, 9, 5, 1, 7, 6, 6, 6, 6, 3, 11, 7, 6, 2, 3, 6, 3, 8, 1, 8, 11, 1, 8, 5, 6, 1, 1, 6, 5, 6, 1, 5, 11, 6, 3, 8, 1, 11, 11, 7, 3, 3, 4, 0, 11, 8, 6, 1, 5, 6, 11, 0, 1, 6, 5, 6, 6, 10, 2, 6, 7, 6, 7, 7, 11, 6, 2, 1, 6, 1, 6, 3, 7, 6, 3, 11, 9, 6, 6, 6, 3, 3, 6, 3, 3, 6, 3, 1, 6, 10, 3, 11, 1, 7, 10, 3, 11, 2, 1, 6, 7, 6, 3, 7, 10, 6, 11, 1, 11, 3, 6, 6, 11, 1, 1, 0, 11, 6, 3, 6, 6, 6, 3, 0, 8, 9, 2, 6, 9, 11, 1, 3, 11, 10, 5, 11, 3, 11, 10, 5, 5, 2, 0, 6, 6, 6, 1, 6, 5, 6, 9, 11, 2, 10, 6, 6, 6, 11, 11, 10, 6, 9, 2, 6, 3, 1, 8, 6, 6, 2, 10, 11, 6, 6, 2, 6, 6, 3, 6, 7, 6, 6, 2, 0, 11, 6, 0, 6, 6, 6, 1, 11, 11, 4, 6, 3, 6, 6, 3, 2, 10, 9, 6, 5, 11, 6, 6, 3, 11, 6, 6, 6, 3, 3, 7, 6, 6, 6, 2, 0, 6, 0, 6, 6, 3, 1, 6, 3, 6, 7, 6, 6, 2, 6, 3, 11, 1, 6, 1, 0, 9, 10, 0, 10, 3, 3, 6, 6, 6, 4, 7, 6, 8, 11, 11, 1, 6, 3, 11, 10, 6, 11, 1, 6, 3, 6, 0, 9, 11, 6, 0, 3, 5, 11, 6, 6, 4, 5, 11, 10, 6, 5, 6, 11, 11, 3, 3, 1, 11, 6, 5, 2, 3, 0, 3, 9, 1, 6, 11, 3, 5, 6, 6, 3, 6, 1, 6, 6, 6, 3, 6, 6, 9, 6, 1, 2, 11, 11, 6, 1, 0, 6, 6, 6, 2, 3, 3, 0, 11, 6, 1, 6, 6, 2, 6, 2, 1, 6, 6, 6, 10, 2, 6, 11, 3, 1, 11, 9, 3, 0, 1, 3, 6, 4, 10, 0, 3, 6, 2, 4, 0, 6, 0, 1, 6, 6, 1, 10, 1, 9, 3, 11, 6, 5, 6, 6, 9, 3, 6, 6, 11, 6, 9, 6, 11, 1, 6, 11, 11, 10, 4, 6, 11, 11, 3, 1, 0, 3, 6, 2, 1, 1, 6, 0, 11, 2, 6, 8, 6, 6, 10, 9, 6, 6, 1, 10, 11, 7, 2, 11, 6, 3, 2, 9, 3, 11, 2, 3, 5, 6, 2, 6, 11, 7, 6, 6, 6, 6, 2, 7, 7, 9, 7, 2, 6, 1, 3, 7, 6, 6, 7, 6, 11, 1, 6, 10, 7, 2, 1, 6, 3, 0, 2, 5, 2, 2, 1, 3, 0, 7, 3, 4, 2, 9, 3, 2, 1, 6, 7, 6, 6, 9, 1, 4, 9, 6, 0, 6, 11, 6, 9, 3, 2, 3, 3, 0, 3, 7, 2, 6, 1, 6, 6, 11, 7, 3, 6, 11, 6, 11, 5, 9, 6, 3, 9, 6, 6, 1, 1, 1, 11, 9, 6, 2, 6, 9, 6, 6, 6, 9, 0, 9, 3, 1, 7, 2, 5, 7, 6, 11, 6, 2, 8, 7, 6, 3, 6, 3, 11, 6, 6, 3, 6, 6, 1, 6, 1, 9, 1, 3, 6, 11, 0, 10, 6, 0, 11, 1, 2, 0, 11, 6, 3, 6, 6, 1, 3, 10, 6, 6, 2, 2, 6, 3, 7, 4, 11, 6, 5, 6, 3, 4, 6, 6, 6, 0, 6, 11, 1, 1, 6, 2, 6, 2, 11, 6, 3, 8, 6, 6, 0, 10, 6, 5, 6, 9, 0, 6, 11, 0, 9, 11, 11, 6, 7, 6, 2, 9, 3, 3, 6, 0, 3, 3, 6, 10, 6, 3, 6, 7, 3, 8, 0, 7, 6, 6, 1, 6, 0, 6, 3, 1, 4, 6, 6, 3, 3, 11, 9, 0, 2, 6, 3, 6, 7, 3, 7, 6, 7, 1, 6, 6, 4, 1, 11, 6, 9, 0, 6, 11, 6, 11, 9, 2, 11, 6, 6, 9, 0, 11, 0, 11, 2, 3, 5, 4, 5, 1, 0, 5, 3, 4, 2, 1, 6, 4, 6, 1, 1, 3, 3, 4, 9, 3, 2, 6, 6, 10, 6, 3, 6, 2, 3, 11, 5, 4, 0, 3, 0, 3, 0, 4, 6, 5, 6, 11, 2, 0, 7, 5, 5, 4, 9, 6, 6, 6, 6, 2, 11, 5, 1, 0, 7, 2, 3, 7, 1, 0, 6, 11, 10, 6, 9, 0, 1, 7, 3, 9, 5, 0, 2, 6, 10, 3, 6, 2, 8, 1, 10, 5, 5, 3, 2, 9, 6, 7, 7, 7, 6, 6, 2, 7, 6, 1, 2, 3, 7, 11, 6, 2, 7, 2, 3, 1, 10, 11, 10, 6, 9, 7, 9, 6, 3, 3, 10, 7, 11, 6, 3, 7, 6, 7, 6, 6, 11, 11, 6, 3, 8, 1, 3, 11, 1, 6, 6, 6, 2, 1, 6, 3, 2, 2, 1, 3, 6, 5, 8, 9, 6, 6, 6, 1, 6, 3, 6, 4, 6, 11, 6, 3, 10, 9, 1, 6, 11, 9, 5, 0, 7, 4, 8, 9, 1, 7, 6, 4, 11, 6, 2, 7, 3, 6, 2, 3, 7, 1, 6, 9, 7, 8, 6, 0, 10, 11, 4, 5, 1, 0, 3, 1, 6, 3, 3, 2, 3, 6, 7, 9, 6, 3, 6, 8, 9, 0, 9, 1, 1, 8, 6, 1, 6, 6, 1, 7, 6, 1, 6, 6, 10, 10, 3, 6, 6, 1, 6, 6, 11, 7, 0, 10, 10, 6, 11, 6, 0, 6, 6, 6, 5, 6, 9, 2, 8, 7, 7, 1, 4, 6, 1, 6, 6, 4, 6, 7, 0, 1, 6, 6, 4, 6, 11, 0, 4, 6, 6, 6, 7, 10, 1, 0, 3, 6, 4, 2, 9, 3, 6, 3, 3, 6, 3, 3, 5, 11, 0, 6, 5, 6, 0, 7, 6, 11, 2, 7, 8, 0, 1, 2, 10, 1, 11, 6, 2, 3, 0, 11, 1, 6, 0, 6, 0, 9, 1, 1, 6, 7, 3, 6, 3, 6, 6, 11, 2, 0, 0, 6, 6, 6, 4, 0, 9, 10, 11, 6, 8, 6, 3, 9, 10, 11, 3, 1, 6, 8, 6, 6, 6, 1, 11, 9, 6, 6, 0, 6, 9, 6, 7, 2, 9, 6, 6, 6, 3, 2, 11, 6, 4, 6, 10, 8, 6, 7, 11, 3, 7, 0, 1, 7, 11, 7, 7, 11, 3, 7, 7, 7, 7, 11, 3, 7, 7, 11, 3, 7, 3, 5, 0, 3, 6, 5, 7, 3, 3, 3, 5, 11, 0, 7, 3, 3, 11, 7, 10, 7, 7, 7, 10, 5, 7, 7, 10, 7, 7, 3, 7, 1, 5, 7, 10, 7, 7, 1, 7, 7, 2, 9, 4, 3, 3, 7, 7, 0, 7, 7, 7, 7, 10, 7, 9, 7, 10, 9, 3, 11, 9, 7, 6, 10, 11, 0, 0, 6, 4, 7, 10, 11, 0, 9, 7, 5, 0, 7, 11, 10, 4, 9, 0, 7, 8, 7, 9, 0, 7, 2, 8, 11, 7, 6, 7, 7, 7, 7, 10, 7, 9, 7, 7, 7, 7, 2, 8, 10, 2, 5, 7, 11, 1, 0, 7, 0, 1, 5, 0, 0, 11, 7, 9, 11, 11, 2, 11, 6, 3, 1, 7, 2, 7, 11, 7, 2, 11, 7, 7, 6, 6, 7, 10, 5, 2, 6, 7, 11, 7, 11, 7, 7, 0, 7, 7, 7, 9, 10, 7, 0, 7, 7, 7, 11, 10, 0, 1, 7, 6, 3, 1, 3, 0, 3, 6, 0, 9, 7, 7, 11, 3, 7, 7, 2, 7, 9, 7, 3, 6, 10, 1, 5, 6, 7, 10, 2, 3, 9, 11, 3, 7, 6, 7, 9, 7, 11, 0, 7, 0, 6, 3, 0, 6, 11, 7, 11, 8, 3, 7, 2, 8, 9, 7, 5, 11, 0, 7, 7, 11, 4, 7, 11, 5, 0, 3, 2, 2, 6, 7, 3, 11, 9, 7, 7, 11, 0, 4, 3, 6, 7, 0, 3, 7, 11, 7, 7, 9, 7, 10, 8, 10, 7, 5, 0, 6, 0, 11, 5, 3, 10, 7, 7, 3, 11, 5, 10, 0, 3, 4, 10, 3, 3, 5, 7, 9, 7, 7, 0, 10, 6, 7, 7, 9, 0, 3, 3, 10, 5, 7, 7, 5, 7, 7, 5, 7, 7, 7, 7, 11, 11, 7, 9, 11, 2, 11, 7, 7, 11, 11, 10, 7, 7, 3, 7, 7, 2, 7, 3, 7, 11, 3, 7, 2, 7, 7, 9, 3, 7, 0, 7, 7, 7, 7, 7, 7, 8, 4, 5, 0, 0, 3, 7, 7, 5, 3, 9, 3, 0, 3, 7, 7, 3, 9, 0, 3, 7, 7, 7, 0, 6, 7, 1, 6, 7, 7, 10, 3, 6, 11, 7, 7, 6, 11, 7, 5, 11, 3, 3, 7, 6, 7, 7, 7, 2, 11, 11, 10, 0, 3, 7, 0, 0, 1, 0, 10, 7, 10, 11, 6, 7, 3, 5, 5, 4, 1, 7, 0, 3, 2, 4, 7, 5, 7, 7, 2, 7, 7, 3, 4, 7, 0, 3, 2, 2, 11, 3, 10, 7, 3, 3, 7, 7, 3, 10, 10, 6, 4, 5, 3, 3, 7, 5, 1, 7, 10, 11, 2, 3, 7, 6, 7, 6, 3, 5, 11, 7, 7, 5, 0, 7, 0, 11, 0, 6, 0, 11, 5, 7, 7, 0, 0, 0, 1, 7, 3, 7, 7, 11, 2, 0, 6, 6, 11, 7, 7, 3, 3, 7, 7, 10, 7, 10, 7, 3, 7, 10, 7, 5, 11, 7, 7, 7, 7, 9, 7, 7, 1, 6, 7, 7, 7, 7, 7, 7, 7, 6, 3, 6, 7, 10, 3, 2, 0, 1, 7, 9, 7, 7, 7, 7, 11, 6, 11, 8, 3, 7, 7, 7, 3, 7, 3, 7, 11, 10, 7, 9, 7, 6, 3, 3, 7, 7, 6, 7, 11, 5, 7, 1, 7, 7, 10, 7, 7, 5, 3, 11, 7, 5, 0, 5, 7, 7, 0, 10, 9, 7, 11, 11, 11, 7, 6, 10, 2, 7, 7, 7, 11, 10, 2, 7, 7, 3, 0, 7, 6, 7, 7, 3, 10, 7, 3, 7, 3, 4, 3, 7, 0, 1, 3, 2, 9, 3, 7, 7, 0, 11, 7, 0, 3, 7, 10, 0, 11, 3, 2, 7, 0, 3, 0, 10, 6, 2, 3, 11, 7, 7, 10, 7, 6, 7, 6, 11, 1, 5, 7, 0, 7, 7, 6, 0, 11, 7, 7, 7, 7, 7, 7, 7, 6, 10, 3, 7, 7, 10, 11, 5, 7, 7, 11, 3, 8, 4, 2, 6, 7, 9, 7, 0, 7, 3, 11, 0, 7, 5, 6, 7, 7, 7, 7, 1, 9, 3, 7, 7, 11, 7, 7, 11, 2, 3, 0, 2, 7, 7, 3, 3, 7, 7, 7, 0, 3, 7, 9, 7, 7, 7, 0, 7, 7, 7, 2, 7, 7, 7, 10, 7, 0, 3, 2, 5, 7, 7, 0, 7, 7, 7, 6, 7, 9, 6, 5, 7, 7, 7, 0, 10, 6, 7, 6, 6, 3, 1, 9, 2, 10, 11, 5, 7, 7, 10, 7, 9, 9, 5, 7, 7, 7, 7, 5, 7, 11, 11, 6, 5, 11, 11, 3, 5, 7, 3, 3, 7, 0, 1, 10, 11, 11, 7, 7, 9, 7, 1, 2, 7, 3, 11, 6, 3, 7, 7, 9, 7, 11, 7, 2, 5, 10, 3, 6, 9, 3, 7, 1, 7, 6, 2, 9, 6, 7, 7, 7, 0, 3, 5, 7, 9, 3, 7, 7, 7, 7, 7, 7, 7, 3, 3, 7, 3, 7, 7, 5, 7, 11, 9, 7, 3, 3, 0, 11, 7, 1, 7, 3, 7, 0, 7, 3, 0, 3, 10, 7, 1, 9, 7, 11, 10, 7, 10, 11, 11, 3, 11, 3, 0, 1, 7, 3, 3, 7, 11, 6, 5, 7, 8, 7, 1, 7, 3, 7, 11, 3, 7, 5, 2, 6, 7, 7, 7, 7, 7, 7, 4, 11, 6, 7, 7, 11, 7, 7, 10, 7, 7, 7, 7, 6, 7, 7, 0, 6, 3, 6, 3, 7, 8, 7, 7, 0, 7, 1, 11, 10, 7, 6, 9, 7, 9, 7, 0, 7, 7, 6, 7, 3, 10, 11, 0, 7, 6, 7, 6, 3, 7, 9, 9, 7, 0, 11, 3, 7, 9, 7, 0, 0, 2, 3, 7, 7, 7, 2, 2, 9, 1, 7, 5, 7, 10, 3, 7, 7, 5, 4, 3, 8, 6, 5, 10, 5, 7, 11, 6, 11, 7, 6, 3, 7, 6, 7, 7, 6, 7, 1, 6, 7, 7, 3, 0, 10, 7, 7, 11, 4, 11, 7, 3, 7, 3, 5, 9, 0, 7, 0, 10, 7, 5, 7, 1, 7, 10, 0, 11, 7, 7, 0, 7, 3, 11, 3, 7, 7, 7, 11, 11, 3, 3, 0, 9, 7, 3, 3, 3, 7, 3, 3, 7, 7, 6, 11, 7, 10, 5, 6, 3, 9, 3, 7, 7, 3, 3, 7, 7, 7, 7, 5, 11, 7, 7, 6, 3, 7, 11, 4, 9, 8, 7, 5, 7, 9, 3, 7, 9, 7, 9, 7, 7, 7, 3, 6, 11, 4, 7, 7, 7, 6, 5, 0, 7, 6, 3, 3, 3, 7, 7, 3, 7, 11, 0, 3, 7, 7, 6, 7, 11, 2, 6, 7, 2, 7, 1, 7, 3, 7, 2, 3, 7, 7, 7, 11, 2, 7, 0, 10, 7, 11, 7, 7, 7, 7, 10, 0, 11, 3, 7, 0, 7, 6, 7, 3, 2, 11, 2, 10, 10, 7, 7, 7, 3, 3, 0, 6, 3, 1, 0, 7, 7, 10, 7, 7, 3, 7, 0, 9, 8, 7, 3, 1, 6, 7, 6, 7, 7, 7, 0, 8, 8, 5, 8, 8, 8, 5, 8, 9, 10, 4, 4, 8, 8, 0, 8, 8, 2, 8, 8, 8, 4, 9, 8, 9, 8, 1, 5, 4, 5, 8, 8, 8, 8, 5, 2, 4, 8, 4, 8, 8, 5, 9, 5, 4, 8, 8, 9, 8, 9, 8, 2, 4, 8, 8, 8, 8, 8, 5, 1, 8, 8, 0, 9, 7, 3, 4, 8, 8, 8, 8, 8, 8, 5, 8, 8, 11, 8, 4, 8, 8, 3, 9, 8, 8, 8, 8, 5, 8, 8, 8, 5, 9, 11, 8, 8, 8, 0, 4, 8, 4, 8, 5, 8, 8, 8, 6, 8, 0, 4, 5, 8, 8, 0, 9, 8, 2, 5, 4, 0, 10, 9, 8, 5, 8, 5, 1, 8, 8, 8, 10, 8, 8, 9, 8, 5, 8, 7, 4, 8, 4, 2, 4, 8, 5, 8, 0, 8, 8, 0, 8, 2, 8, 3, 8, 8, 8, 4, 10, 5, 5, 11, 8, 7, 4, 5, 8, 5, 3, 8, 8, 8, 8, 6, 4, 3, 4, 8, 8, 8, 1, 1, 8, 8, 8, 2, 0, 2, 8, 8, 4, 0, 4, 8, 5, 8, 8, 5, 2, 8, 8, 8, 8, 5, 8, 8, 8, 8, 8, 5, 8, 5, 11, 8, 0, 5, 4, 3, 9, 8, 5, 8, 5, 8, 10, 5, 8, 5, 8, 8, 11, 8, 8, 8, 8, 8, 8, 10, 9, 8, 8, 4, 5, 8, 5, 4, 5, 4, 8, 9, 2, 8, 8, 2, 5, 5, 2, 4, 4, 8, 8, 9, 8, 8, 10, 4, 5, 8, 9, 0, 4, 11, 8, 8, 8, 9, 4, 8, 7, 8, 5, 3, 11, 8, 8, 5, 10, 2, 4, 1, 8, 8, 8, 2, 8, 5, 8, 8, 8, 5, 8, 4, 8, 9, 4, 8, 2, 2, 8, 4, 9, 3, 8, 8, 4, 8, 9, 8, 4, 2, 8, 8, 8, 8, 8, 4, 4, 8, 2, 4, 8, 1, 8, 0, 8, 9, 8, 8, 2, 1, 8, 5, 5, 9, 9, 0, 4, 8, 0, 2, 11, 3, 8, 3, 2, 8, 2, 8, 6, 8, 9, 3, 5, 8, 3, 8, 0, 8, 8, 5, 5, 8, 8, 8, 8, 8, 4, 8, 8, 8, 8, 9, 9, 8, 0, 4, 8, 0, 8, 8, 8, 9, 8, 4, 2, 10, 2, 8, 8, 8, 1, 8, 8, 4, 2, 8, 8, 9, 4, 0, 11, 9, 0, 8, 8, 5, 11, 8, 5, 8, 4, 2, 8, 8, 5, 5, 5, 8, 8, 2, 8, 8, 5, 5, 4, 8, 8, 8, 9, 8, 8, 4, 8, 8, 0, 2, 8, 8, 8, 8, 8, 9, 8, 8, 9, 2, 8, 8, 9, 8, 8, 8, 8, 5, 4, 8, 8, 7, 4, 8, 3, 8, 8, 0, 8, 2, 0, 4, 8, 5, 6, 8, 5, 8, 5, 8, 8, 6, 8, 8, 9, 4, 8, 8, 3, 2, 8, 5, 8, 9, 8, 8, 8, 9, 5, 8, 2, 8, 0, 5, 10, 4, 9, 0, 9, 9, 9, 10, 11, 4, 9, 5, 0, 9, 11, 9, 11, 0, 9, 9, 10, 5, 6, 8, 9, 5, 9, 1, 7, 6, 7, 0, 9, 10, 7, 10, 10, 1, 0, 10, 6, 7, 5, 2, 9, 5, 4, 9, 0, 5, 10, 1, 9, 10, 8, 9, 8, 3, 2, 10, 11, 8, 3, 11, 10, 10, 5, 9, 2, 4, 9, 9, 9, 11, 9, 1, 4, 11, 11, 10, 3, 10, 10, 5, 10, 9, 7, 3, 9, 10, 10, 8, 2, 9, 4, 3, 8, 4, 8, 0, 9, 9, 8, 4, 10, 1, 2, 11, 3, 10, 7, 6, 11, 9, 9, 10, 6, 5, 10, 5, 0, 10, 2, 2, 11, 3, 3, 1, 9, 1, 9, 9, 4, 9, 9, 9, 2, 9, 11, 9, 9, 5, 10, 3, 9, 3, 9, 9, 5, 3, 6, 8, 3, 10, 9, 8, 0, 5, 11, 11, 5, 5, 8, 11, 9, 5, 3, 7, 10, 9, 9, 0, 0, 4, 9, 5, 10, 5, 9, 7, 1, 10, 8, 8, 10, 4, 9, 2, 4, 8, 9, 8, 2, 1, 9, 2, 4, 10, 5, 0, 9, 10, 11, 5, 11, 9, 5, 10, 10, 10, 4, 8, 11, 2, 9, 3, 9, 10, 6, 10, 9, 8, 0, 9, 11, 9, 10, 0, 3, 9, 2, 6, 9, 3, 8, 5, 11, 10, 5, 7, 8, 7, 6, 3, 4, 8, 5, 5, 2, 3, 10, 8, 9, 8, 6, 11, 10, 0, 10, 5, 10, 5, 2, 5, 11, 5, 6, 5, 2, 8, 5, 6, 1, 11, 9, 2, 3, 11, 3, 3, 8, 0, 0, 10, 4, 9, 10, 6, 6, 9, 8, 3, 5, 9, 4, 10, 9, 9, 8, 9, 5, 6, 2, 7, 3, 5, 0, 9, 9, 5, 0, 9, 10, 10, 0, 8, 9, 9, 3, 6, 9, 8, 0, 9, 9, 9, 8, 8, 7, 9, 6, 5, 9, 6, 7, 10, 9, 4, 11, 3, 9, 6, 4, 8, 9, 11, 10, 9, 6, 9, 5, 3, 5, 9, 10, 8, 0, 8, 5, 6, 4, 0, 2, 5, 10, 0, 5, 2, 11, 0, 8, 7, 6, 1, 9, 9, 0, 9, 0, 10, 10, 10, 0, 7, 0, 9, 3, 8, 11, 10, 10, 9, 2, 6, 5, 8, 3, 9, 8, 0, 9, 8, 10, 9, 9, 10, 10, 3, 3, 9, 9, 5, 9, 9, 11, 7, 0, 8, 7, 3, 2, 5, 9, 9, 9, 8, 11, 4, 2, 0, 2, 10, 9, 5, 4, 6, 9, 9, 6, 4, 3, 9, 9, 10, 6, 11, 9, 3, 4, 2, 10, 5, 9, 11, 3, 2, 3, 9, 10, 5, 8, 11, 9, 10, 9, 0, 0, 0, 5, 0, 0, 8, 11, 4, 11, 8, 3, 5, 5, 11, 8, 2, 2, 3, 6, 9, 7, 4, 3, 3, 2, 8, 6, 7, 9, 3, 7, 2, 9, 8, 0, 0, 9, 8, 9, 3, 8, 11, 8, 11, 9, 0, 10, 11, 5, 11, 2, 5, 2, 5, 1, 2, 6, 8, 7, 10, 5, 3, 6, 3, 8, 3, 11, 1, 2, 2, 0, 6, 1, 1, 5, 4, 9, 10, 7, 7, 11, 7, 5, 5, 0, 11, 9, 9, 2, 10, 9, 2, 9, 3, 10, 9, 9, 5, 9, 9, 4, 9, 3, 6, 10, 9, 10, 9, 3, 8, 9, 9, 4, 10, 1, 0, 9, 9, 5, 5, 10, 0, 0, 9, 8, 0, 9, 5, 6, 9, 5, 9, 2, 8, 11, 9, 4, 1, 10, 3, 7, 3, 11, 9, 10, 3, 1, 2, 4, 1, 11, 9, 7, 9, 5, 9, 2, 8, 5, 11, 6, 5, 5, 4, 0, 4, 7, 11, 11, 9, 2, 4, 0, 4, 0, 11, 4, 8, 4, 5, 6, 2, 8, 4, 2, 5, 10, 10, 0, 10, 9, 4, 11, 9, 0, 6, 8, 10, 9, 6, 3, 0, 6, 6, 7, 10, 8, 6, 2, 6, 4, 7, 5, 9, 0, 9, 10, 11, 4, 10, 8, 5, 6, 0, 11, 7, 5, 9, 9, 7, 2, 3, 0, 3, 2, 5, 3, 3, 10, 0, 4, 5, 10, 5, 5, 8, 3, 3, 2, 10, 6, 10, 5, 9, 6, 10, 6, 5, 3, 2, 9, 6, 9, 9, 3, 3, 3, 9, 6, 10, 7, 4, 9, 2, 10, 3, 2, 10, 2, 2, 11, 8, 8, 9, 9, 10, 5, 5, 9, 9, 10, 11, 3, 9, 9, 9, 10, 9, 8, 0, 2, 11, 9, 9, 3, 3, 2, 7, 3, 3, 9, 9, 6, 10, 11, 7, 2, 11, 8, 10, 9, 10, 3, 7, 7, 9, 4, 9, 5, 0, 9, 9, 11, 3, 3, 4, 5, 5, 6, 0, 2, 10, 2, 5, 11, 9, 10, 4, 5, 9, 9, 7, 9, 9, 10, 7, 5, 9, 0, 1, 10, 10, 10, 11, 2, 11, 8, 9, 9, 2, 8, 7, 4, 10, 9, 7, 9, 5, 2, 3, 9, 6, 3, 10, 9, 5, 11, 5, 5, 3, 0, 6, 0, 9, 2, 11, 10, 10, 3, 6, 3, 11, 9, 1, 0, 9, 2, 9, 10, 2, 6, 8, 10, 6, 9, 3, 8, 9, 4, 0, 10, 11, 9, 9, 8, 9, 5, 9, 3, 9, 3, 7, 10, 11, 8, 5, 5, 9, 10, 9, 10, 10, 9, 1, 9, 9, 4, 8, 2, 8, 6, 11, 9, 11, 9, 2, 1, 10, 10, 8, 7, 7, 5, 10, 7, 4, 10, 2, 4, 2, 9, 9, 11, 5, 4, 1, 10, 3, 6, 4, 11, 5, 11, 9, 5, 0, 5, 4, 11, 5, 10, 6, 2, 2, 9, 9, 9, 8, 9, 2, 0, 10, 2, 1, 3, 9, 9, 6, 9, 9, 10, 2, 9, 3, 3, 4, 3, 11, 10, 6, 4, 1, 6, 4, 2, 10, 3, 10, 0, 2, 4, 9, 4, 3, 6, 4, 2, 2, 2, 3, 0, 9, 6, 10, 10, 10, 9, 1, 6, 10, 2, 8, 10, 3, 4, 2, 5, 9, 5, 9, 5, 8, 2, 4, 2, 9, 8, 0, 9, 3, 3, 7, 3, 9, 9, 8, 11, 10, 9, 5, 0, 9, 0, 2, 6, 8, 10, 9, 0, 11, 10, 8, 10, 5, 9, 0, 9, 4, 10, 1, 10, 6, 6, 11, 3, 10, 7, 2, 9, 3, 8, 11, 3, 11, 4, 10, 0, 3, 9, 9, 10, 5, 9, 9, 9, 9, 7, 5, 8, 2, 11, 2, 1, 8, 11, 10, 11, 10, 4, 6, 9, 9, 10, 9, 9, 10, 10, 9, 11, 3, 9, 10, 4, 5, 10, 6, 0, 4, 7, 7, 9, 7, 9, 1, 4, 9, 10, 6, 6, 1, 1, 9, 11, 4, 10, 8, 10, 10, 9, 4, 2, 6, 10, 9, 11, 3, 3, 0, 8, 9, 9, 7, 11, 3, 11, 5, 8, 4, 7, 2, 9, 9, 5, 5, 10, 10, 0, 6, 4, 7, 4, 6, 2, 0, 6, 7, 10, 2, 0, 9, 9, 9, 4, 9, 3, 9, 5, 11, 6, 5, 7, 9, 9, 10, 9, 9, 2, 9, 5, 9, 5, 9, 3, 1, 11, 9, 10, 7, 5, 10, 10, 9, 9, 10, 6, 4, 2, 5, 11, 8, 2, 4, 2, 5, 3, 9, 9, 2, 5, 10, 7, 7, 10, 10, 6, 9, 0, 8, 0, 0, 3, 9, 5, 9, 4, 11, 10, 0, 11, 2, 7, 8, 11, 5, 10, 10, 10, 9, 1, 9, 3, 0, 10, 11, 11, 9, 9, 6, 1, 6, 4, 10, 9, 9, 4, 9, 10, 10, 9, 9, 5, 4, 9, 0, 5, 3, 0, 10, 0, 1, 9, 9, 5, 9, 1, 9, 8, 1, 0, 9, 2, 11, 10, 5, 5, 8, 8, 4, 10, 3, 5, 10, 11, 9, 9, 9, 9, 3, 9, 10, 0, 3, 9, 9, 10, 5, 4, 9, 2, 2, 10, 1, 6, 8, 5, 0, 8, 9, 9, 8, 3, 0, 10, 5, 8, 3, 0, 8, 7, 3, 2, 1, 9, 11, 9, 3, 7, 3, 3, 5, 8, 4, 10, 9, 5, 9, 6, 3, 11, 3, 3, 7, 8, 9, 9, 5, 3, 5, 9, 4, 10, 8, 1, 6, 6, 0, 6, 4, 11, 4, 4, 10, 5, 10, 9, 3, 6, 6, 9, 10, 8, 11, 11, 2, 10, 9, 10, 9, 10, 10, 6, 11, 4, 9, 3, 0, 0, 4, 6, 4, 3, 3, 5, 3, 10, 4, 6, 0, 3, 9, 3, 4, 9, 3, 5, 6, 9, 2, 9, 8, 4, 9, 1, 8, 9, 10, 8, 8, 6, 9, 3, 8, 10, 9, 8, 10, 9, 8, 10, 9, 10, 8, 10, 10, 9, 5, 0, 10, 6, 0, 3, 10, 2, 7, 2, 4, 9, 3, 0, 4, 0, 4, 0, 0, 10, 2, 3, 9, 0, 7, 5, 3, 2, 4, 10, 10, 7, 6, 6, 9, 3, 9, 8, 4, 5, 9, 10, 1, 8, 9, 5, 3, 3, 9, 9, 10, 5, 11, 5, 5, 9, 10, 10, 6, 10, 4, 10, 2, 7, 8, 5, 9, 11, 8, 9, 9, 10, 5, 9, 2, 8, 10, 9, 9, 1, 8, 3, 5, 0, 10, 5, 7, 8, 1, 6, 3, 2, 3, 11, 0, 7, 2, 9, 9, 3, 7, 4, 8, 9, 4, 1, 0, 9, 4, 11, 9, 6, 9, 9, 2, 3, 11, 11, 10, 10, 9, 8, 5, 6, 3, 9, 2, 9, 9, 10, 2, 4, 11, 9, 7, 9, 9, 10, 9, 2, 0, 9, 10, 10, 8, 9, 1, 3, 10, 11, 9, 10, 4, 9, 6, 9, 2, 10, 11, 2, 9, 0, 4, 9, 11, 0, 7, 9, 10, 11, 5, 10, 0, 11, 9, 9, 9, 3, 5, 9, 10, 2, 2, 5, 9, 2, 4, 7, 4, 11, 9, 4, 5, 4, 2, 5, 3, 10, 0, 9, 8, 11, 5, 10, 4, 11, 2, 9, 6, 10, 9, 3, 7, 9, 10, 9, 9, 6, 3, 9, 1, 10, 5, 5, 6, 0, 9, 3, 1, 5, 8, 4, 1, 10, 11, 3, 8, 3, 4, 11, 5, 5, 5, 8, 1, 0, 3, 1, 9, 1, 9, 9, 9, 11, 9, 10, 7, 0, 3, 10, 10, 10, 10, 4, 8, 10, 9, 11, 2, 4, 10, 4, 9, 10, 11, 3, 4, 10, 10, 2, 7, 5, 9, 9, 4, 10, 10, 10, 10, 3, 9, 10, 9, 9, 5, 10, 10, 10, 10, 5, 0, 10, 10, 4, 0, 10, 8, 5, 9, 10, 10, 9, 10, 9, 10, 3, 9, 10, 10, 2, 6, 10, 5, 10, 7, 5, 10, 9, 1, 8, 0, 2, 0, 1, 10, 3, 2, 10, 2, 10, 3, 2, 10, 4, 10, 10, 10, 9, 0, 9, 10, 5, 8, 10, 10, 10, 3, 10, 10, 0, 3, 0, 10, 10, 9, 3, 4, 10, 10, 5, 10, 10, 10, 10, 0, 0, 8, 10, 5, 11, 10, 10, 0, 10, 5, 10, 10, 10, 11, 10, 10, 5, 11, 11, 7, 8, 9, 10, 2, 4, 10, 9, 1, 10, 0, 10, 10, 9, 10, 3, 2, 9, 3, 10, 4, 3, 3, 0, 10, 10, 6, 10, 4, 10, 9, 9, 9, 9, 10, 4, 10, 8, 9, 10, 10, 7, 10, 3, 10, 10, 9, 5, 4, 9, 9, 10, 10, 10, 6, 10, 7, 11, 6, 10, 10, 10, 10, 10, 2, 10, 10, 9, 3, 9, 5, 10, 3, 10, 9, 10, 11, 8, 10, 11, 5, 1, 4, 10, 3, 3, 10, 8, 10, 10, 1, 8, 10, 9, 0, 11, 10, 10, 9, 4, 10, 10, 5, 9, 9, 6, 10, 10, 5, 0, 7, 10, 8, 6, 2, 3, 10, 3, 3, 11, 9, 10, 9, 10, 10, 10, 2, 10, 10, 9, 3, 4, 10, 5, 10, 5, 10, 9, 10, 10, 3, 2, 10, 10, 3, 0, 10, 9, 9, 7, 4, 10, 10, 11, 0, 0, 10, 9, 8, 10, 9, 7, 9, 10, 4, 0, 10, 10, 4, 10, 5, 5, 4, 9, 6, 4, 10, 10, 9, 10, 6, 9, 7, 10, 9, 9, 10, 10, 6, 3, 10, 10, 10, 4, 4, 9, 9, 10, 9, 10, 9, 8, 4, 5, 9, 6, 6, 10, 0, 0, 10, 10, 4, 10, 10, 6, 5, 10, 9, 10, 10, 11, 8, 10, 10, 9, 10, 3, 4, 10, 6, 5, 8, 9, 10, 10, 9, 9, 3, 10, 10, 5, 7, 9, 0, 10, 8, 10, 3, 10, 7, 5, 10, 10, 10, 3, 5, 5, 10, 10, 7, 10, 5, 0, 1, 5, 10, 11, 10, 10, 6, 3, 0, 10, 10, 6, 3, 10, 10, 10, 10, 7, 0, 7, 1, 10, 0, 10, 10, 10, 0, 9, 9, 10, 10, 11, 7, 3, 4, 11, 0, 6, 11, 11, 9, 3, 11, 3, 10, 9, 10, 10, 5, 3, 10, 11, 10, 9, 10, 10, 9, 10, 10, 10, 10, 0, 10, 11, 3, 3, 3, 9, 2, 8, 0, 11, 4, 10, 0, 1, 9, 10, 7, 10, 6, 6, 5, 10, 10, 0, 10, 3, 9, 9, 9, 10, 8, 10, 10, 0, 10, 10, 3, 4, 11, 9, 9, 5, 10, 1, 6, 5, 10, 10, 10, 10, 8, 10, 4, 10, 0, 4, 11, 10, 9, 9, 10, 9, 5, 9, 10, 10, 10, 9, 10, 9, 2, 10, 8, 10, 9, 10, 8, 10, 9, 6, 7, 10, 7, 0, 10, 10, 9, 10, 0, 4, 9, 9, 0, 7, 0, 10, 5, 0, 9, 8, 10, 10, 10, 10, 7, 10, 10, 10, 10, 10, 7, 11, 9, 5, 10, 11, 10, 10, 10, 10, 10, 3, 3, 7, 9, 9, 10, 10, 10, 10, 9, 10, 10, 8, 3, 9, 10, 3, 0, 3, 0, 8, 10, 10, 6, 10, 2, 10, 11, 8, 3, 9, 1, 10, 0, 5, 10, 0, 0, 1, 3, 9, 10, 5, 3, 8, 9, 10, 10, 9, 0, 9, 10, 10, 5, 3, 7, 8, 9, 8, 10, 10, 10, 10, 10, 10, 3, 9, 0, 9, 10, 6, 10, 7, 4, 9, 10, 4, 10, 4, 5, 3, 9, 10, 10, 4, 3, 10, 10, 10, 10, 10, 10, 11, 10, 8, 10, 10, 10, 10, 10, 7, 3, 9, 11, 8, 10, 3, 11, 5, 0, 3, 1, 11, 5, 6, 10, 4, 1, 3, 1, 9, 3, 1, 11, 6, 6, 6, 11, 7, 3, 3, 11, 11, 3, 5, 7, 6, 11, 11, 3, 11, 0, 11, 3, 11, 11, 6, 9, 11, 5, 1, 9, 11, 5, 11, 11, 3, 9, 5, 1, 3, 3, 2, 3, 11, 1, 11, 11, 7, 11, 6, 7, 7, 6, 2, 10, 7, 7, 3, 5, 6, 8, 0, 6, 8, 5, 5, 11, 5, 0, 6, 11, 4, 11, 7, 5, 3, 11, 11, 10, 2, 5, 11, 4, 2, 6, 7, 11, 3, 1, 5, 9, 11, 0, 1, 0, 11, 11, 3, 6, 7, 3, 11, 11, 11, 5, 6, 6, 11, 3, 11, 9, 3, 8, 3, 11, 10, 7, 3, 10, 2, 1, 11, 3, 9, 11, 5, 11, 3, 3, 7, 11, 5, 8, 0, 11, 6, 5, 5, 6, 7, 5, 11, 6, 8, 3, 1, 0, 0, 1, 1, 8, 5, 5, 3, 9, 0, 11, 11, 7, 11, 2, 10, 7, 11, 7, 11, 8, 2, 3, 11, 3, 10, 0, 11, 5, 0, 1, 11, 6, 2, 11, 0, 9, 5, 7, 6, 11, 11, 9, 11, 11, 7, 7, 0, 5, 5, 1, 8, 9, 5, 5, 9, 11, 0, 2, 7, 6, 6, 11, 6, 5, 7, 11, 11, 8, 3, 7, 11, 7, 6, 9, 11, 2, 3, 6, 5, 6, 7, 7, 5, 6, 3, 11, 11, 11, 11, 2, 11, 0, 10, 3, 6, 3, 11, 11, 5, 6, 6, 0, 9, 7, 6, 11, 4, 9, 11, 0, 6, 11, 3, 11, 9, 3, 1, 8, 7, 11, 5, 3, 3, 1, 11, 7, 11, 6, 6, 5, 11, 3, 4, 6, 3, 11, 5, 11, 11, 11, 5, 1, 2, 11, 11, 0, 11, 5, 0, 11, 6, 6, 6, 11, 1, 10, 3, 9, 3, 3, 6, 5, 11, 7, 4, 3, 3, 9, 11, 2, 3, 8, 11, 11, 9, 11, 7, 11, 9, 5, 5, 5, 2, 2, 11, 9, 11, 0, 11, 3, 6, 1, 7, 2, 3, 9, 11, 3, 0, 3, 1, 7, 1, 3, 8, 11, 11, 6, 11, 7, 11, 3, 10, 3, 3, 1, 5, 3, 11, 11, 6, 2, 6, 7, 3, 3, 11, 11, 11, 11, 11, 3, 11, 5, 11, 4, 0, 0, 10, 3, 6, 7, 7, 5, 3, 11, 11, 11, 9, 9, 8, 11, 3, 7, 6, 11, 3, 3, 11, 9, 0, 11, 3, 6, 3, 5, 0, 11, 1, 3, 6, 11, 1, 9, 10, 10, 5, 11, 3, 11, 2, 11, 3, 3, 11, 11, 9, 11, 1, 7, 11, 3, 7, 1, 11, 11, 3, 3, 11, 4, 3, 3, 5, 11, 1, 10, 8, 6, 6, 6, 11, 2, 6, 11, 1, 10, 8, 11, 11, 3, 0, 11, 6, 11, 6, 4, 5, 5, 9, 10, 7, 5, 11, 7, 5, 3, 11, 11, 9, 7, 11, 3, 11, 6, 7, 11, 11, 3, 11, 8, 7, 7, 11, 1, 7, 11, 11, 6, 6, 11, 6, 0, 11, 3, 6, 6, 3, 3, 0, 6, 6, 11, 6, 3, 3, 9, 3, 0, 4, 0, 11, 1, 5, 5, 5, 2, 1, 3, 3, 10, 2, 11, 10, 0, 6, 0, 2, 5, 6, 0, 6, 1, 3, 11, 9, 6, 11, 5, 4, 7, 1, 4, 10, 6, 5, 6, 11, 11, 0, 6, 7, 7, 1, 11, 2, 7, 6, 11, 7, 11, 2, 3, 10, 5, 5, 11, 3, 0, 7, 9, 7, 5, 6, 3, 3, 11, 11, 5, 11, 6, 5, 7, 5, 5, 6, 3, 11, 9, 7, 3, 1, 11, 4, 10, 10, 3, 5, 0, 3, 11, 10, 6, 11, 6, 3, 4, 5, 6, 7, 11, 6, 5, 11, 6, 6, 9, 3, 3, 11, 11, 0, 6, 0, 5, 4, 9, 6, 11, 9, 3, 11, 3, 11, 6, 1, 0, 5, 6, 11, 2, 5, 11, 3, 6, 11, 3, 0, 1, 5, 6, 3, 3, 11, 6, 11, 0, 11, 11, 5, 7, 11, 11, 11, 7, 6, 11, 11, 11, 11, 6, 9, 1, 8, 11, 9, 0, 11, 11, 9, 11, 11, 4, 9, 0, 11, 0, 8, 5, 11, 3, 4, 3, 3, 11, 1, 10, 3, 11, 5, 6, 3, 8, 11, 10, 2, 5, 5, 3, 4, 6, 10, 11, 5, 5, 11, 9, 11, 4, 9, 6, 9, 0, 0, 11, 11, 0, 0, 5, 6, 0, 5, 9, 11, 11, 6, 1, 3, 7, 3, 11, 6, 5, 3, 0, 11, 11, 11, 10, 3, 3, 5, 6, 10, 3, 5, 6, 6, 3, 1, 11, 10, 11, 6, 7, 11, 6, 3, 2, 11, 11, 3, 3, 1, 0, 11, 8, 3, 11, 3, 0, 9, 3, 0, 7, 6, 4, 5, 0, 9, 1, 6, 3, 3, 11, 11, 0, 9, 7, 11, 0, 9, 11, 11, 3, 3, 7, 11, 5, 5, 11, 0, 6, 0, 5, 5, 6, 5, 3, 5, 11, 7, 4, 9, 3, 11, 2, 7, 0, 5, 11, 1, 3, 2, 3, 4, 11, 11, 1, 3, 3, 10, 0, 3, 10]\n"
          ]
        }
      ]
    },
    {
      "cell_type": "code",
      "metadata": {
        "id": "i7CbtHH5elLF"
      },
      "source": [
        "test_labels = test_labels.values.tolist()"
      ],
      "execution_count": 29,
      "outputs": []
    },
    {
      "cell_type": "code",
      "metadata": {
        "colab": {
          "base_uri": "https://localhost:8080/",
          "height": 419
        },
        "id": "fNkBo3tBlkSj",
        "outputId": "6ecadfe3-63f2-4220-c46a-317df320bb8f"
      },
      "source": [
        "# Compare the actual and the predicted labels for each row of the test dataset\n",
        "\n",
        "report = pd.DataFrame({'Actual': test_labels, 'Predicted': prediction})\n",
        "\n",
        "report"
      ],
      "execution_count": 30,
      "outputs": [
        {
          "output_type": "execute_result",
          "data": {
            "text/html": [
              "<div>\n",
              "<style scoped>\n",
              "    .dataframe tbody tr th:only-of-type {\n",
              "        vertical-align: middle;\n",
              "    }\n",
              "\n",
              "    .dataframe tbody tr th {\n",
              "        vertical-align: top;\n",
              "    }\n",
              "\n",
              "    .dataframe thead th {\n",
              "        text-align: right;\n",
              "    }\n",
              "</style>\n",
              "<table border=\"1\" class=\"dataframe\">\n",
              "  <thead>\n",
              "    <tr style=\"text-align: right;\">\n",
              "      <th></th>\n",
              "      <th>Actual</th>\n",
              "      <th>Predicted</th>\n",
              "    </tr>\n",
              "  </thead>\n",
              "  <tbody>\n",
              "    <tr>\n",
              "      <th>0</th>\n",
              "      <td>0</td>\n",
              "      <td>6</td>\n",
              "    </tr>\n",
              "    <tr>\n",
              "      <th>1</th>\n",
              "      <td>0</td>\n",
              "      <td>3</td>\n",
              "    </tr>\n",
              "    <tr>\n",
              "      <th>2</th>\n",
              "      <td>0</td>\n",
              "      <td>6</td>\n",
              "    </tr>\n",
              "    <tr>\n",
              "      <th>3</th>\n",
              "      <td>0</td>\n",
              "      <td>3</td>\n",
              "    </tr>\n",
              "    <tr>\n",
              "      <th>4</th>\n",
              "      <td>0</td>\n",
              "      <td>11</td>\n",
              "    </tr>\n",
              "    <tr>\n",
              "      <th>...</th>\n",
              "      <td>...</td>\n",
              "      <td>...</td>\n",
              "    </tr>\n",
              "    <tr>\n",
              "      <th>13480</th>\n",
              "      <td>11</td>\n",
              "      <td>3</td>\n",
              "    </tr>\n",
              "    <tr>\n",
              "      <th>13481</th>\n",
              "      <td>11</td>\n",
              "      <td>10</td>\n",
              "    </tr>\n",
              "    <tr>\n",
              "      <th>13482</th>\n",
              "      <td>11</td>\n",
              "      <td>0</td>\n",
              "    </tr>\n",
              "    <tr>\n",
              "      <th>13483</th>\n",
              "      <td>11</td>\n",
              "      <td>3</td>\n",
              "    </tr>\n",
              "    <tr>\n",
              "      <th>13484</th>\n",
              "      <td>11</td>\n",
              "      <td>10</td>\n",
              "    </tr>\n",
              "  </tbody>\n",
              "</table>\n",
              "<p>13485 rows × 2 columns</p>\n",
              "</div>"
            ],
            "text/plain": [
              "       Actual  Predicted\n",
              "0           0          6\n",
              "1           0          3\n",
              "2           0          6\n",
              "3           0          3\n",
              "4           0         11\n",
              "...       ...        ...\n",
              "13480      11          3\n",
              "13481      11         10\n",
              "13482      11          0\n",
              "13483      11          3\n",
              "13484      11         10\n",
              "\n",
              "[13485 rows x 2 columns]"
            ]
          },
          "metadata": {},
          "execution_count": 30
        }
      ]
    },
    {
      "cell_type": "code",
      "metadata": {
        "id": "C7Hw8bZ7qK4n"
      },
      "source": [
        "# Accumulate the number of each [actual, prediction] pair\n",
        "\n",
        "numbers = report.groupby(['Actual', 'Predicted']).size()\n",
        "\n",
        "pair_values = pd.DataFrame(numbers)"
      ],
      "execution_count": 31,
      "outputs": []
    },
    {
      "cell_type": "code",
      "metadata": {
        "colab": {
          "base_uri": "https://localhost:8080/",
          "height": 450
        },
        "id": "6Ne8ViE-qXiH",
        "outputId": "2fcc8e5e-bf6a-4478-ddcd-dc2114b9101f"
      },
      "source": [
        "pair_values"
      ],
      "execution_count": 32,
      "outputs": [
        {
          "output_type": "execute_result",
          "data": {
            "text/html": [
              "<div>\n",
              "<style scoped>\n",
              "    .dataframe tbody tr th:only-of-type {\n",
              "        vertical-align: middle;\n",
              "    }\n",
              "\n",
              "    .dataframe tbody tr th {\n",
              "        vertical-align: top;\n",
              "    }\n",
              "\n",
              "    .dataframe thead th {\n",
              "        text-align: right;\n",
              "    }\n",
              "</style>\n",
              "<table border=\"1\" class=\"dataframe\">\n",
              "  <thead>\n",
              "    <tr style=\"text-align: right;\">\n",
              "      <th></th>\n",
              "      <th></th>\n",
              "      <th>0</th>\n",
              "    </tr>\n",
              "    <tr>\n",
              "      <th>Actual</th>\n",
              "      <th>Predicted</th>\n",
              "      <th></th>\n",
              "    </tr>\n",
              "  </thead>\n",
              "  <tbody>\n",
              "    <tr>\n",
              "      <th rowspan=\"5\" valign=\"top\">0</th>\n",
              "      <th>0</th>\n",
              "      <td>366</td>\n",
              "    </tr>\n",
              "    <tr>\n",
              "      <th>1</th>\n",
              "      <td>146</td>\n",
              "    </tr>\n",
              "    <tr>\n",
              "      <th>2</th>\n",
              "      <td>121</td>\n",
              "    </tr>\n",
              "    <tr>\n",
              "      <th>3</th>\n",
              "      <td>261</td>\n",
              "    </tr>\n",
              "    <tr>\n",
              "      <th>4</th>\n",
              "      <td>51</td>\n",
              "    </tr>\n",
              "    <tr>\n",
              "      <th>...</th>\n",
              "      <th>...</th>\n",
              "      <td>...</td>\n",
              "    </tr>\n",
              "    <tr>\n",
              "      <th rowspan=\"5\" valign=\"top\">11</th>\n",
              "      <th>7</th>\n",
              "      <td>65</td>\n",
              "    </tr>\n",
              "    <tr>\n",
              "      <th>8</th>\n",
              "      <td>21</td>\n",
              "    </tr>\n",
              "    <tr>\n",
              "      <th>9</th>\n",
              "      <td>50</td>\n",
              "    </tr>\n",
              "    <tr>\n",
              "      <th>10</th>\n",
              "      <td>32</td>\n",
              "    </tr>\n",
              "    <tr>\n",
              "      <th>11</th>\n",
              "      <td>227</td>\n",
              "    </tr>\n",
              "  </tbody>\n",
              "</table>\n",
              "<p>144 rows × 1 columns</p>\n",
              "</div>"
            ],
            "text/plain": [
              "                    0\n",
              "Actual Predicted     \n",
              "0      0          366\n",
              "       1          146\n",
              "       2          121\n",
              "       3          261\n",
              "       4           51\n",
              "...               ...\n",
              "11     7           65\n",
              "       8           21\n",
              "       9           50\n",
              "       10          32\n",
              "       11         227\n",
              "\n",
              "[144 rows x 1 columns]"
            ]
          },
          "metadata": {},
          "execution_count": 32
        }
      ]
    },
    {
      "cell_type": "code",
      "metadata": {
        "colab": {
          "base_uri": "https://localhost:8080/"
        },
        "id": "aN2ebVFREaSk",
        "outputId": "1013fd67-b07e-4b03-b840-55f876aaf9f2"
      },
      "source": [
        "data=[]\n",
        "\n",
        "for i in range(12):\n",
        "  row = []\n",
        "  for j in range(12):\n",
        "    row.append(pair_values[0][i][j])\n",
        "  data.append(row)\n",
        "\n",
        "data"
      ],
      "execution_count": 33,
      "outputs": [
        {
          "output_type": "execute_result",
          "data": {
            "text/plain": [
              "[[366, 146, 121, 261, 51, 144, 125, 160, 67, 107, 117, 139],\n",
              " [195, 268, 116, 186, 80, 62, 265, 90, 65, 56, 44, 143],\n",
              " [60, 42, 431, 30, 110, 86, 66, 29, 118, 81, 11, 29],\n",
              " [117, 85, 31, 333, 15, 62, 177, 95, 29, 47, 65, 159],\n",
              " [18, 31, 78, 11, 245, 75, 17, 9, 171, 39, 22, 15],\n",
              " [29, 13, 66, 37, 73, 203, 29, 28, 137, 61, 30, 37],\n",
              " [82, 134, 94, 161, 36, 52, 392, 82, 31, 64, 49, 131],\n",
              " [97, 34, 48, 159, 18, 60, 84, 463, 14, 56, 70, 113],\n",
              " [25, 9, 32, 14, 54, 61, 5, 5, 250, 37, 10, 10],\n",
              " [113, 53, 120, 148, 112, 159, 102, 73, 124, 374, 225, 120],\n",
              " [46, 11, 16, 53, 36, 40, 22, 26, 29, 100, 282, 29],\n",
              " [61, 46, 29, 134, 22, 90, 103, 65, 21, 50, 32, 227]]"
            ]
          },
          "metadata": {},
          "execution_count": 33
        }
      ]
    },
    {
      "cell_type": "code",
      "metadata": {
        "id": "3ZaQwbzHs6gs"
      },
      "source": [
        "final = pd.DataFrame(data, index=emojis, columns=emojis)\n",
        "\n",
        "final.index.name=\"Actual\"\n",
        "\n",
        "final.columns.name=\"Predicted\""
      ],
      "execution_count": 34,
      "outputs": []
    },
    {
      "cell_type": "markdown",
      "metadata": {
        "id": "iMkbHFHKe1EC"
      },
      "source": [
        "### Confusion Matrix"
      ]
    },
    {
      "cell_type": "code",
      "metadata": {
        "colab": {
          "base_uri": "https://localhost:8080/",
          "height": 452
        },
        "id": "e7QZwohlxYci",
        "outputId": "8f00abfa-7630-4f0f-f418-dbcab3818615"
      },
      "source": [
        "final"
      ],
      "execution_count": 35,
      "outputs": [
        {
          "output_type": "execute_result",
          "data": {
            "text/html": [
              "<div>\n",
              "<style scoped>\n",
              "    .dataframe tbody tr th:only-of-type {\n",
              "        vertical-align: middle;\n",
              "    }\n",
              "\n",
              "    .dataframe tbody tr th {\n",
              "        vertical-align: top;\n",
              "    }\n",
              "\n",
              "    .dataframe thead th {\n",
              "        text-align: right;\n",
              "    }\n",
              "</style>\n",
              "<table border=\"1\" class=\"dataframe\">\n",
              "  <thead>\n",
              "    <tr style=\"text-align: right;\">\n",
              "      <th>Predicted</th>\n",
              "      <th>😂</th>\n",
              "      <th>😭</th>\n",
              "      <th>😍</th>\n",
              "      <th>🙄</th>\n",
              "      <th>❤</th>\n",
              "      <th>😊</th>\n",
              "      <th>😩</th>\n",
              "      <th>🤔</th>\n",
              "      <th>😘</th>\n",
              "      <th>🏽</th>\n",
              "      <th>💯</th>\n",
              "      <th>🙃</th>\n",
              "    </tr>\n",
              "    <tr>\n",
              "      <th>Actual</th>\n",
              "      <th></th>\n",
              "      <th></th>\n",
              "      <th></th>\n",
              "      <th></th>\n",
              "      <th></th>\n",
              "      <th></th>\n",
              "      <th></th>\n",
              "      <th></th>\n",
              "      <th></th>\n",
              "      <th></th>\n",
              "      <th></th>\n",
              "      <th></th>\n",
              "    </tr>\n",
              "  </thead>\n",
              "  <tbody>\n",
              "    <tr>\n",
              "      <th>😂</th>\n",
              "      <td>366</td>\n",
              "      <td>146</td>\n",
              "      <td>121</td>\n",
              "      <td>261</td>\n",
              "      <td>51</td>\n",
              "      <td>144</td>\n",
              "      <td>125</td>\n",
              "      <td>160</td>\n",
              "      <td>67</td>\n",
              "      <td>107</td>\n",
              "      <td>117</td>\n",
              "      <td>139</td>\n",
              "    </tr>\n",
              "    <tr>\n",
              "      <th>😭</th>\n",
              "      <td>195</td>\n",
              "      <td>268</td>\n",
              "      <td>116</td>\n",
              "      <td>186</td>\n",
              "      <td>80</td>\n",
              "      <td>62</td>\n",
              "      <td>265</td>\n",
              "      <td>90</td>\n",
              "      <td>65</td>\n",
              "      <td>56</td>\n",
              "      <td>44</td>\n",
              "      <td>143</td>\n",
              "    </tr>\n",
              "    <tr>\n",
              "      <th>😍</th>\n",
              "      <td>60</td>\n",
              "      <td>42</td>\n",
              "      <td>431</td>\n",
              "      <td>30</td>\n",
              "      <td>110</td>\n",
              "      <td>86</td>\n",
              "      <td>66</td>\n",
              "      <td>29</td>\n",
              "      <td>118</td>\n",
              "      <td>81</td>\n",
              "      <td>11</td>\n",
              "      <td>29</td>\n",
              "    </tr>\n",
              "    <tr>\n",
              "      <th>🙄</th>\n",
              "      <td>117</td>\n",
              "      <td>85</td>\n",
              "      <td>31</td>\n",
              "      <td>333</td>\n",
              "      <td>15</td>\n",
              "      <td>62</td>\n",
              "      <td>177</td>\n",
              "      <td>95</td>\n",
              "      <td>29</td>\n",
              "      <td>47</td>\n",
              "      <td>65</td>\n",
              "      <td>159</td>\n",
              "    </tr>\n",
              "    <tr>\n",
              "      <th>❤</th>\n",
              "      <td>18</td>\n",
              "      <td>31</td>\n",
              "      <td>78</td>\n",
              "      <td>11</td>\n",
              "      <td>245</td>\n",
              "      <td>75</td>\n",
              "      <td>17</td>\n",
              "      <td>9</td>\n",
              "      <td>171</td>\n",
              "      <td>39</td>\n",
              "      <td>22</td>\n",
              "      <td>15</td>\n",
              "    </tr>\n",
              "    <tr>\n",
              "      <th>😊</th>\n",
              "      <td>29</td>\n",
              "      <td>13</td>\n",
              "      <td>66</td>\n",
              "      <td>37</td>\n",
              "      <td>73</td>\n",
              "      <td>203</td>\n",
              "      <td>29</td>\n",
              "      <td>28</td>\n",
              "      <td>137</td>\n",
              "      <td>61</td>\n",
              "      <td>30</td>\n",
              "      <td>37</td>\n",
              "    </tr>\n",
              "    <tr>\n",
              "      <th>😩</th>\n",
              "      <td>82</td>\n",
              "      <td>134</td>\n",
              "      <td>94</td>\n",
              "      <td>161</td>\n",
              "      <td>36</td>\n",
              "      <td>52</td>\n",
              "      <td>392</td>\n",
              "      <td>82</td>\n",
              "      <td>31</td>\n",
              "      <td>64</td>\n",
              "      <td>49</td>\n",
              "      <td>131</td>\n",
              "    </tr>\n",
              "    <tr>\n",
              "      <th>🤔</th>\n",
              "      <td>97</td>\n",
              "      <td>34</td>\n",
              "      <td>48</td>\n",
              "      <td>159</td>\n",
              "      <td>18</td>\n",
              "      <td>60</td>\n",
              "      <td>84</td>\n",
              "      <td>463</td>\n",
              "      <td>14</td>\n",
              "      <td>56</td>\n",
              "      <td>70</td>\n",
              "      <td>113</td>\n",
              "    </tr>\n",
              "    <tr>\n",
              "      <th>😘</th>\n",
              "      <td>25</td>\n",
              "      <td>9</td>\n",
              "      <td>32</td>\n",
              "      <td>14</td>\n",
              "      <td>54</td>\n",
              "      <td>61</td>\n",
              "      <td>5</td>\n",
              "      <td>5</td>\n",
              "      <td>250</td>\n",
              "      <td>37</td>\n",
              "      <td>10</td>\n",
              "      <td>10</td>\n",
              "    </tr>\n",
              "    <tr>\n",
              "      <th>🏽</th>\n",
              "      <td>113</td>\n",
              "      <td>53</td>\n",
              "      <td>120</td>\n",
              "      <td>148</td>\n",
              "      <td>112</td>\n",
              "      <td>159</td>\n",
              "      <td>102</td>\n",
              "      <td>73</td>\n",
              "      <td>124</td>\n",
              "      <td>374</td>\n",
              "      <td>225</td>\n",
              "      <td>120</td>\n",
              "    </tr>\n",
              "    <tr>\n",
              "      <th>💯</th>\n",
              "      <td>46</td>\n",
              "      <td>11</td>\n",
              "      <td>16</td>\n",
              "      <td>53</td>\n",
              "      <td>36</td>\n",
              "      <td>40</td>\n",
              "      <td>22</td>\n",
              "      <td>26</td>\n",
              "      <td>29</td>\n",
              "      <td>100</td>\n",
              "      <td>282</td>\n",
              "      <td>29</td>\n",
              "    </tr>\n",
              "    <tr>\n",
              "      <th>🙃</th>\n",
              "      <td>61</td>\n",
              "      <td>46</td>\n",
              "      <td>29</td>\n",
              "      <td>134</td>\n",
              "      <td>22</td>\n",
              "      <td>90</td>\n",
              "      <td>103</td>\n",
              "      <td>65</td>\n",
              "      <td>21</td>\n",
              "      <td>50</td>\n",
              "      <td>32</td>\n",
              "      <td>227</td>\n",
              "    </tr>\n",
              "  </tbody>\n",
              "</table>\n",
              "</div>"
            ],
            "text/plain": [
              "Predicted    😂    😭    😍    🙄    ❤    😊    😩    🤔    😘    🏽    💯    🙃\n",
              "Actual                                                               \n",
              "😂          366  146  121  261   51  144  125  160   67  107  117  139\n",
              "😭          195  268  116  186   80   62  265   90   65   56   44  143\n",
              "😍           60   42  431   30  110   86   66   29  118   81   11   29\n",
              "🙄          117   85   31  333   15   62  177   95   29   47   65  159\n",
              "❤           18   31   78   11  245   75   17    9  171   39   22   15\n",
              "😊           29   13   66   37   73  203   29   28  137   61   30   37\n",
              "😩           82  134   94  161   36   52  392   82   31   64   49  131\n",
              "🤔           97   34   48  159   18   60   84  463   14   56   70  113\n",
              "😘           25    9   32   14   54   61    5    5  250   37   10   10\n",
              "🏽          113   53  120  148  112  159  102   73  124  374  225  120\n",
              "💯           46   11   16   53   36   40   22   26   29  100  282   29\n",
              "🙃           61   46   29  134   22   90  103   65   21   50   32  227"
            ]
          },
          "metadata": {},
          "execution_count": 35
        }
      ]
    },
    {
      "cell_type": "code",
      "metadata": {
        "colab": {
          "base_uri": "https://localhost:8080/",
          "height": 672
        },
        "id": "ugTZnHnbl90h",
        "outputId": "7c5d5fb0-64cc-4b16-870b-75b5b1d1eb83"
      },
      "source": [
        "sns.heatmap(final)"
      ],
      "execution_count": 36,
      "outputs": [
        {
          "output_type": "stream",
          "name": "stderr",
          "text": [
            "/usr/local/lib/python3.7/dist-packages/matplotlib/backends/backend_agg.py:214: RuntimeWarning: Glyph 128580 missing from current font.\n",
            "  font.set_text(s, 0.0, flags=flags)\n",
            "/usr/local/lib/python3.7/dist-packages/matplotlib/backends/backend_agg.py:214: RuntimeWarning: Glyph 129300 missing from current font.\n",
            "  font.set_text(s, 0.0, flags=flags)\n",
            "/usr/local/lib/python3.7/dist-packages/matplotlib/backends/backend_agg.py:214: RuntimeWarning: Glyph 127997 missing from current font.\n",
            "  font.set_text(s, 0.0, flags=flags)\n",
            "/usr/local/lib/python3.7/dist-packages/matplotlib/backends/backend_agg.py:214: RuntimeWarning: Glyph 128175 missing from current font.\n",
            "  font.set_text(s, 0.0, flags=flags)\n",
            "/usr/local/lib/python3.7/dist-packages/matplotlib/backends/backend_agg.py:214: RuntimeWarning: Glyph 128579 missing from current font.\n",
            "  font.set_text(s, 0.0, flags=flags)\n",
            "/usr/local/lib/python3.7/dist-packages/matplotlib/backends/backend_agg.py:183: RuntimeWarning: Glyph 128580 missing from current font.\n",
            "  font.set_text(s, 0, flags=flags)\n",
            "/usr/local/lib/python3.7/dist-packages/matplotlib/backends/backend_agg.py:183: RuntimeWarning: Glyph 129300 missing from current font.\n",
            "  font.set_text(s, 0, flags=flags)\n",
            "/usr/local/lib/python3.7/dist-packages/matplotlib/backends/backend_agg.py:183: RuntimeWarning: Glyph 127997 missing from current font.\n",
            "  font.set_text(s, 0, flags=flags)\n",
            "/usr/local/lib/python3.7/dist-packages/matplotlib/backends/backend_agg.py:183: RuntimeWarning: Glyph 128175 missing from current font.\n",
            "  font.set_text(s, 0, flags=flags)\n",
            "/usr/local/lib/python3.7/dist-packages/matplotlib/backends/backend_agg.py:183: RuntimeWarning: Glyph 128579 missing from current font.\n",
            "  font.set_text(s, 0, flags=flags)\n"
          ]
        },
        {
          "output_type": "execute_result",
          "data": {
            "text/plain": [
              "<matplotlib.axes._subplots.AxesSubplot at 0x7f52739a6590>"
            ]
          },
          "metadata": {},
          "execution_count": 36
        },
        {
          "output_type": "display_data",
          "data": {
            "image/png": "[encoded data removed]",
            "text/plain": [
              "<Figure size 432x288 with 2 Axes>"
            ]
          },
          "metadata": {
            "needs_background": "light"
          }
        }
      ]
    },
    {
      "cell_type": "markdown",
      "metadata": {
        "id": "xbBfq4QdfE0y"
      },
      "source": [
        "### Summary of the Model Evaluation"
      ]
    },
    {
      "cell_type": "code",
      "metadata": {
        "colab": {
          "base_uri": "https://localhost:8080/"
        },
        "id": "KONr3wfnUXti",
        "outputId": "22fd1a03-2b9d-4fd6-94de-f1fe5198c4bf"
      },
      "source": [
        "from sklearn.metrics import confusion_matrix\n",
        "\n",
        "cm=confusion_matrix(test_labels, prediction)\n",
        "cm"
      ],
      "execution_count": 37,
      "outputs": [
        {
          "output_type": "execute_result",
          "data": {
            "text/plain": [
              "array([[366, 146, 121, 261,  51, 144, 125, 160,  67, 107, 117, 139],\n",
              "       [195, 268, 116, 186,  80,  62, 265,  90,  65,  56,  44, 143],\n",
              "       [ 60,  42, 431,  30, 110,  86,  66,  29, 118,  81,  11,  29],\n",
              "       [117,  85,  31, 333,  15,  62, 177,  95,  29,  47,  65, 159],\n",
              "       [ 18,  31,  78,  11, 245,  75,  17,   9, 171,  39,  22,  15],\n",
              "       [ 29,  13,  66,  37,  73, 203,  29,  28, 137,  61,  30,  37],\n",
              "       [ 82, 134,  94, 161,  36,  52, 392,  82,  31,  64,  49, 131],\n",
              "       [ 97,  34,  48, 159,  18,  60,  84, 463,  14,  56,  70, 113],\n",
              "       [ 25,   9,  32,  14,  54,  61,   5,   5, 250,  37,  10,  10],\n",
              "       [113,  53, 120, 148, 112, 159, 102,  73, 124, 374, 225, 120],\n",
              "       [ 46,  11,  16,  53,  36,  40,  22,  26,  29, 100, 282,  29],\n",
              "       [ 61,  46,  29, 134,  22,  90, 103,  65,  21,  50,  32, 227]])"
            ]
          },
          "metadata": {},
          "execution_count": 37
        }
      ]
    },
    {
      "cell_type": "code",
      "metadata": {
        "colab": {
          "base_uri": "https://localhost:8080/",
          "height": 295
        },
        "id": "iV8TdexIVUYf",
        "outputId": "dfb16f57-f439-46a8-d20a-7caafad8141d"
      },
      "source": [
        "correct = 0\n",
        "\n",
        "for i in range(12):\n",
        "  correct += cm[i][i]\n",
        "\n",
        "total = 0\n",
        "\n",
        "for i in range(12):\n",
        "  for j in range(12):\n",
        "    total += cm[i][j]\n",
        "\n",
        "wrong = total - correct\n",
        "\n",
        "plt.title(\"Evaluation Outcome\")\n",
        "\n",
        "# Data\n",
        "status = ['Correct', 'False']\n",
        "num   = [correct, wrong]\n",
        "\n",
        "# Plot\n",
        "plt.bar(status, num, width=0.50, edgecolor='k', linewidth=2)\n",
        "\n",
        "plt.xlabel(\"Status\")\n",
        "plt.ylabel(\"Number of Predictions\")\n",
        "\n",
        "# Create the graph ticks with a list comprehension\n",
        "plt.yticks(ticks=[x * 1000 for x in range(15)])\n",
        "\n",
        "# Render\n",
        "plt.savefig(\"plot.png\")\n",
        "plt.show()"
      ],
      "execution_count": 40,
      "outputs": [
        {
          "output_type": "display_data",
          "data": {
            "image/png": "[encoded data removed]",
            "text/plain": [
              "<Figure size 432x288 with 1 Axes>"
            ]
          },
          "metadata": {
            "needs_background": "light"
          }
        }
      ]
    },
    {
      "cell_type": "code",
      "metadata": {
        "colab": {
          "base_uri": "https://localhost:8080/"
        },
        "id": "ZKt6WEfhaD4l",
        "outputId": "15aad8aa-2777-4167-9386-c4457448b189"
      },
      "source": [
        "print(\"Correct: \"+str(correct))\n",
        "print(\"False: \"+str(wrong))\n",
        "\n",
        "print(\"Test Accuracy: \"+str(correct/total))"
      ],
      "execution_count": 51,
      "outputs": [
        {
          "output_type": "stream",
          "name": "stdout",
          "text": [
            "Correct: 3834\n",
            "False: 9651\n",
            "Test Accuracy: 0.2843159065628476\n"
          ]
        }
      ]
    },
    {
      "cell_type": "markdown",
      "metadata": {
        "id": "OGlwC-f6K910"
      },
      "source": [
        "# Function for Emoji Prediction"
      ]
    },
    {
      "cell_type": "code",
      "metadata": {
        "id": "Lzl8uNeh9AlR"
      },
      "source": [
        "# Before predicting the emoji from a text, don't forget to do the following:\n",
        "#   -. Include the [CLS] & [SEP] tokens\n",
        "#   -. Tokenize the sentence\n",
        "#   -. Pad the tokenized sentence with a fixed padding length\n",
        "#   -. Find the index of the highest value from the prediction result\n",
        "#   -. return the emoji with the index\n",
        "\n",
        "def prediction(text):\n",
        "  semi_processed_text = \"[CLS] \" + text + \" [SEP]\"\n",
        "  tokenized_text = tokenizer.tokenize(semi_processed_text)\n",
        "  tokenized_text_in_array = [tokenized_text]\n",
        "  text_with_padding = pad_sequences([tokenizer.convert_tokens_to_ids(sent) for sent in tokenized_text_in_array], maxlen=MAX_LEN, dtype=\"long\", truncating=\"post\", padding=\"post\")\n",
        "  index = np.argmax(model.predict(text_with_padding).logits[0])\n",
        "  return emojis[index]"
      ],
      "execution_count": 54,
      "outputs": []
    },
    {
      "cell_type": "code",
      "metadata": {
        "colab": {
          "base_uri": "https://localhost:8080/"
        },
        "id": "akEek8oGgQDM",
        "outputId": "02f4084f-f476-42f3-bff0-d527712732d1"
      },
      "source": [
        "emojis"
      ],
      "execution_count": 64,
      "outputs": [
        {
          "output_type": "execute_result",
          "data": {
            "text/plain": [
              "array(['😂', '😭', '😍', '🙄', '❤', '😊', '😩', '🤔', '😘', '🏽', '💯', '🙃'],\n",
              "      dtype=object)"
            ]
          },
          "metadata": {},
          "execution_count": 64
        }
      ]
    },
    {
      "cell_type": "code",
      "metadata": {
        "id": "1zyVrWdo-A0-",
        "colab": {
          "base_uri": "https://localhost:8080/",
          "height": 35
        },
        "outputId": "f8ee50d2-b385-4a7b-fe3a-d3d7eda16ea8"
      },
      "source": [
        "prediction(\"Hi, it's really nice to meet you\")"
      ],
      "execution_count": 55,
      "outputs": [
        {
          "output_type": "execute_result",
          "data": {
            "application/vnd.google.colaboratory.intrinsic+json": {
              "type": "string"
            },
            "text/plain": [
              "'😊'"
            ]
          },
          "metadata": {},
          "execution_count": 55
        }
      ]
    },
    {
      "cell_type": "code",
      "metadata": {
        "colab": {
          "base_uri": "https://localhost:8080/",
          "height": 35
        },
        "id": "8HMxq3Y6fKMo",
        "outputId": "3afa91c3-1296-4793-b8c6-273882e96c6d"
      },
      "source": [
        "prediction(\"Why do I have to fail a lot??\")"
      ],
      "execution_count": 60,
      "outputs": [
        {
          "output_type": "execute_result",
          "data": {
            "application/vnd.google.colaboratory.intrinsic+json": {
              "type": "string"
            },
            "text/plain": [
              "'🙃'"
            ]
          },
          "metadata": {},
          "execution_count": 60
        }
      ]
    },
    {
      "cell_type": "code",
      "metadata": {
        "colab": {
          "base_uri": "https://localhost:8080/",
          "height": 35
        },
        "id": "nU1yetUnfZfx",
        "outputId": "7eb4580a-e0e1-4116-b271-f40c22044f34"
      },
      "source": [
        "prediction(\"I love you so much, babe!\")"
      ],
      "execution_count": 63,
      "outputs": [
        {
          "output_type": "execute_result",
          "data": {
            "application/vnd.google.colaboratory.intrinsic+json": {
              "type": "string"
            },
            "text/plain": [
              "'❤'"
            ]
          },
          "metadata": {},
          "execution_count": 63
        }
      ]
    }
  ]
}