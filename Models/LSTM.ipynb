{
  "nbformat": 4,
  "nbformat_minor": 0,
  "metadata": {
    "colab": {
      "name": "Project Test.ipynb",
      "provenance": []
    },
    "kernelspec": {
      "name": "python3",
      "display_name": "Python 3"
    },
    "language_info": {
      "name": "python"
    }
  },
  "cells": [
    {
      "cell_type": "code",
      "metadata": {
        "id": "Qre-e1moT3tW"
      },
      "source": [
        "import numpy as np\n",
        "import pandas as pd\n",
        "import re\n",
        "\n",
        "from keras.models import Sequential\n",
        "from keras.layers import Dense, Input, Dropout, Bidirectional,LSTM, Activation\n",
        "from keras.utils import np_utils\n",
        "from tensorflow.keras.utils import to_categorical\n",
        "\n",
        "import matplotlib.pyplot as plt\n"
      ],
      "execution_count": null,
      "outputs": []
    },
    {
      "cell_type": "code",
      "metadata": {
        "id": "2xKQwxD_T8O_"
      },
      "source": [
        "train = pd.read_csv(r\"https://raw.githubusercontent.com/RussellDash332/CS3244-Twemoji/main/Datasets/train_text_emoji_clean.csv\")\n",
        "test = pd.read_csv(r\"https://raw.githubusercontent.com/RussellDash332/CS3244-Twemoji/main/Datasets/test_text_emoji_clean.csv\")\n",
        "valid = pd.read_csv(r\"https://raw.githubusercontent.com/RussellDash332/CS3244-Twemoji/main/Datasets/valid_text_emoji_clean.csv\")"
      ],
      "execution_count": null,
      "outputs": []
    },
    {
      "cell_type": "code",
      "metadata": {
        "id": "d2JlIACBT8ag",
        "colab": {
          "base_uri": "https://localhost:8080/",
          "height": 408
        },
        "outputId": "5464ba8c-14d1-4187-af07-11ea4d9a005f"
      },
      "source": [
        "def process(sen):\n",
        "  if \":\" in sen:\n",
        "    sentence =sen[sen.index(\":\")+1:]\n",
        "    return sentence\n",
        "  return sen\n",
        "\n",
        "def preprocess_text(sen):\n",
        "    # Remove punctuations and numbers\n",
        "    sentence = re.sub('[^a-zA-Z]', ' ', sen)\n",
        "    # Removing multiple spaces\n",
        "    sentence = re.sub(r'\\s+', ' ', sentence)\n",
        "    return sentence\n",
        "\n",
        "#Pre-processing\n",
        "#train[\"tweets\"] = train[\"tweets\"].apply(process)\n",
        "#train[\"tweets\"] = test[\"tweets\"].apply(process)\n",
        "\n",
        "train[\"tweets\"] = train[\"tweets\"].apply(preprocess_text)\n",
        "test[\"tweets\"] = test[\"tweets\"].apply(preprocess_text)\n",
        "valid['tweets'] = valid['tweets'].apply(preprocess_text)\n",
        "\n",
        "X_train = train['tweets']\n",
        "Y_train = train['labels']\n",
        "\n",
        "X_test = test['tweets']\n",
        "Y_test = test['labels']\n",
        "\n",
        "X_valid = valid['tweets']\n",
        "Y_valid = valid['labels']\n",
        "\n",
        "Y_test = np_utils.to_categorical(Y_test)\n",
        "Y_train = np_utils.to_categorical(Y_train)\n",
        "Y_valid = np_utils.to_categorical(Y_valid)"
      ],
      "execution_count": null,
      "outputs": [
        {
          "output_type": "error",
          "ename": "TypeError",
          "evalue": "ignored",
          "traceback": [
            "\u001b[0;31m---------------------------------------------------------------------------\u001b[0m",
            "\u001b[0;31mTypeError\u001b[0m                                 Traceback (most recent call last)",
            "\u001b[0;32m<ipython-input-54-ec972e152bae>\u001b[0m in \u001b[0;36m<module>\u001b[0;34m()\u001b[0m\n\u001b[1;32m     16\u001b[0m \u001b[0;31m#train[\"tweets\"] = test[\"tweets\"].apply(process)\u001b[0m\u001b[0;34m\u001b[0m\u001b[0;34m\u001b[0m\u001b[0;34m\u001b[0m\u001b[0m\n\u001b[1;32m     17\u001b[0m \u001b[0;34m\u001b[0m\u001b[0m\n\u001b[0;32m---> 18\u001b[0;31m \u001b[0mtrain\u001b[0m\u001b[0;34m[\u001b[0m\u001b[0;34m\"tweets\"\u001b[0m\u001b[0;34m]\u001b[0m \u001b[0;34m=\u001b[0m \u001b[0mtrain\u001b[0m\u001b[0;34m[\u001b[0m\u001b[0;34m\"tweets\"\u001b[0m\u001b[0;34m]\u001b[0m\u001b[0;34m.\u001b[0m\u001b[0mapply\u001b[0m\u001b[0;34m(\u001b[0m\u001b[0mpreprocess_text\u001b[0m\u001b[0;34m)\u001b[0m\u001b[0;34m\u001b[0m\u001b[0;34m\u001b[0m\u001b[0m\n\u001b[0m\u001b[1;32m     19\u001b[0m \u001b[0mtest\u001b[0m\u001b[0;34m[\u001b[0m\u001b[0;34m\"tweets\"\u001b[0m\u001b[0;34m]\u001b[0m \u001b[0;34m=\u001b[0m \u001b[0mtest\u001b[0m\u001b[0;34m[\u001b[0m\u001b[0;34m\"tweets\"\u001b[0m\u001b[0;34m]\u001b[0m\u001b[0;34m.\u001b[0m\u001b[0mapply\u001b[0m\u001b[0;34m(\u001b[0m\u001b[0mpreprocess_text\u001b[0m\u001b[0;34m)\u001b[0m\u001b[0;34m\u001b[0m\u001b[0;34m\u001b[0m\u001b[0m\n\u001b[1;32m     20\u001b[0m \u001b[0mvalid\u001b[0m\u001b[0;34m[\u001b[0m\u001b[0;34m'tweets'\u001b[0m\u001b[0;34m]\u001b[0m \u001b[0;34m=\u001b[0m \u001b[0mvalid\u001b[0m\u001b[0;34m[\u001b[0m\u001b[0;34m'tweets'\u001b[0m\u001b[0;34m]\u001b[0m\u001b[0;34m.\u001b[0m\u001b[0mapply\u001b[0m\u001b[0;34m(\u001b[0m\u001b[0mpreprocess_text\u001b[0m\u001b[0;34m)\u001b[0m\u001b[0;34m\u001b[0m\u001b[0;34m\u001b[0m\u001b[0m\n",
            "\u001b[0;32m/usr/local/lib/python3.7/dist-packages/pandas/core/series.py\u001b[0m in \u001b[0;36mapply\u001b[0;34m(self, func, convert_dtype, args, **kwds)\u001b[0m\n\u001b[1;32m   4211\u001b[0m             \u001b[0;32melse\u001b[0m\u001b[0;34m:\u001b[0m\u001b[0;34m\u001b[0m\u001b[0;34m\u001b[0m\u001b[0m\n\u001b[1;32m   4212\u001b[0m                 \u001b[0mvalues\u001b[0m \u001b[0;34m=\u001b[0m \u001b[0mself\u001b[0m\u001b[0;34m.\u001b[0m\u001b[0mastype\u001b[0m\u001b[0;34m(\u001b[0m\u001b[0mobject\u001b[0m\u001b[0;34m)\u001b[0m\u001b[0;34m.\u001b[0m\u001b[0m_values\u001b[0m\u001b[0;34m\u001b[0m\u001b[0;34m\u001b[0m\u001b[0m\n\u001b[0;32m-> 4213\u001b[0;31m                 \u001b[0mmapped\u001b[0m \u001b[0;34m=\u001b[0m \u001b[0mlib\u001b[0m\u001b[0;34m.\u001b[0m\u001b[0mmap_infer\u001b[0m\u001b[0;34m(\u001b[0m\u001b[0mvalues\u001b[0m\u001b[0;34m,\u001b[0m \u001b[0mf\u001b[0m\u001b[0;34m,\u001b[0m \u001b[0mconvert\u001b[0m\u001b[0;34m=\u001b[0m\u001b[0mconvert_dtype\u001b[0m\u001b[0;34m)\u001b[0m\u001b[0;34m\u001b[0m\u001b[0;34m\u001b[0m\u001b[0m\n\u001b[0m\u001b[1;32m   4214\u001b[0m \u001b[0;34m\u001b[0m\u001b[0m\n\u001b[1;32m   4215\u001b[0m         \u001b[0;32mif\u001b[0m \u001b[0mlen\u001b[0m\u001b[0;34m(\u001b[0m\u001b[0mmapped\u001b[0m\u001b[0;34m)\u001b[0m \u001b[0;32mand\u001b[0m \u001b[0misinstance\u001b[0m\u001b[0;34m(\u001b[0m\u001b[0mmapped\u001b[0m\u001b[0;34m[\u001b[0m\u001b[0;36m0\u001b[0m\u001b[0;34m]\u001b[0m\u001b[0;34m,\u001b[0m \u001b[0mSeries\u001b[0m\u001b[0;34m)\u001b[0m\u001b[0;34m:\u001b[0m\u001b[0;34m\u001b[0m\u001b[0;34m\u001b[0m\u001b[0m\n",
            "\u001b[0;32mpandas/_libs/lib.pyx\u001b[0m in \u001b[0;36mpandas._libs.lib.map_infer\u001b[0;34m()\u001b[0m\n",
            "\u001b[0;32m<ipython-input-54-ec972e152bae>\u001b[0m in \u001b[0;36mpreprocess_text\u001b[0;34m(sen)\u001b[0m\n\u001b[1;32m      7\u001b[0m \u001b[0;32mdef\u001b[0m \u001b[0mpreprocess_text\u001b[0m\u001b[0;34m(\u001b[0m\u001b[0msen\u001b[0m\u001b[0;34m)\u001b[0m\u001b[0;34m:\u001b[0m\u001b[0;34m\u001b[0m\u001b[0;34m\u001b[0m\u001b[0m\n\u001b[1;32m      8\u001b[0m     \u001b[0;31m# Remove punctuations and numbers\u001b[0m\u001b[0;34m\u001b[0m\u001b[0;34m\u001b[0m\u001b[0;34m\u001b[0m\u001b[0m\n\u001b[0;32m----> 9\u001b[0;31m     \u001b[0msentence\u001b[0m \u001b[0;34m=\u001b[0m \u001b[0mre\u001b[0m\u001b[0;34m.\u001b[0m\u001b[0msub\u001b[0m\u001b[0;34m(\u001b[0m\u001b[0;34m'[^a-zA-Z]'\u001b[0m\u001b[0;34m,\u001b[0m \u001b[0;34m' '\u001b[0m\u001b[0;34m,\u001b[0m \u001b[0msen\u001b[0m\u001b[0;34m)\u001b[0m\u001b[0;34m\u001b[0m\u001b[0;34m\u001b[0m\u001b[0m\n\u001b[0m\u001b[1;32m     10\u001b[0m     \u001b[0;31m# Removing multiple spaces\u001b[0m\u001b[0;34m\u001b[0m\u001b[0;34m\u001b[0m\u001b[0;34m\u001b[0m\u001b[0m\n\u001b[1;32m     11\u001b[0m     \u001b[0msentence\u001b[0m \u001b[0;34m=\u001b[0m \u001b[0mre\u001b[0m\u001b[0;34m.\u001b[0m\u001b[0msub\u001b[0m\u001b[0;34m(\u001b[0m\u001b[0;34mr'\\s+'\u001b[0m\u001b[0;34m,\u001b[0m \u001b[0;34m' '\u001b[0m\u001b[0;34m,\u001b[0m \u001b[0msentence\u001b[0m\u001b[0;34m)\u001b[0m\u001b[0;34m\u001b[0m\u001b[0;34m\u001b[0m\u001b[0m\n",
            "\u001b[0;32m/usr/lib/python3.7/re.py\u001b[0m in \u001b[0;36msub\u001b[0;34m(pattern, repl, string, count, flags)\u001b[0m\n\u001b[1;32m    192\u001b[0m     \u001b[0ma\u001b[0m \u001b[0mcallable\u001b[0m\u001b[0;34m,\u001b[0m \u001b[0mit\u001b[0m\u001b[0;31m'\u001b[0m\u001b[0ms\u001b[0m \u001b[0mpassed\u001b[0m \u001b[0mthe\u001b[0m \u001b[0mMatch\u001b[0m \u001b[0mobject\u001b[0m \u001b[0;32mand\u001b[0m \u001b[0mmust\u001b[0m \u001b[0;32mreturn\u001b[0m\u001b[0;34m\u001b[0m\u001b[0;34m\u001b[0m\u001b[0m\n\u001b[1;32m    193\u001b[0m     a replacement string to be used.\"\"\"\n\u001b[0;32m--> 194\u001b[0;31m     \u001b[0;32mreturn\u001b[0m \u001b[0m_compile\u001b[0m\u001b[0;34m(\u001b[0m\u001b[0mpattern\u001b[0m\u001b[0;34m,\u001b[0m \u001b[0mflags\u001b[0m\u001b[0;34m)\u001b[0m\u001b[0;34m.\u001b[0m\u001b[0msub\u001b[0m\u001b[0;34m(\u001b[0m\u001b[0mrepl\u001b[0m\u001b[0;34m,\u001b[0m \u001b[0mstring\u001b[0m\u001b[0;34m,\u001b[0m \u001b[0mcount\u001b[0m\u001b[0;34m)\u001b[0m\u001b[0;34m\u001b[0m\u001b[0;34m\u001b[0m\u001b[0m\n\u001b[0m\u001b[1;32m    195\u001b[0m \u001b[0;34m\u001b[0m\u001b[0m\n\u001b[1;32m    196\u001b[0m \u001b[0;32mdef\u001b[0m \u001b[0msubn\u001b[0m\u001b[0;34m(\u001b[0m\u001b[0mpattern\u001b[0m\u001b[0;34m,\u001b[0m \u001b[0mrepl\u001b[0m\u001b[0;34m,\u001b[0m \u001b[0mstring\u001b[0m\u001b[0;34m,\u001b[0m \u001b[0mcount\u001b[0m\u001b[0;34m=\u001b[0m\u001b[0;36m0\u001b[0m\u001b[0;34m,\u001b[0m \u001b[0mflags\u001b[0m\u001b[0;34m=\u001b[0m\u001b[0;36m0\u001b[0m\u001b[0;34m)\u001b[0m\u001b[0;34m:\u001b[0m\u001b[0;34m\u001b[0m\u001b[0;34m\u001b[0m\u001b[0m\n",
            "\u001b[0;31mTypeError\u001b[0m: expected string or bytes-like object"
          ]
        }
      ]
    },
    {
      "cell_type": "code",
      "metadata": {
        "id": "xuvqU7I9T8ez",
        "colab": {
          "base_uri": "https://localhost:8080/"
        },
        "outputId": "bfca6bed-84d3-4543-df9e-0e2d7f83edba"
      },
      "source": [
        "# Splitting the train data from sentences to words\n",
        "for i in range(X_train.shape[0]):\n",
        "    X_train[i] = X_train[i].split()\n",
        "\n",
        "# Splitting the test data from sentences to words\n",
        "for i in range(X_test.shape[0]):\n",
        "    X_test[i] = X_test[i].split()\n",
        "\n",
        "# Splitting the validation data from sentences to words\n",
        "for i in range(X_valid.shape[0]):\n",
        "    X_valid[i] = X_valid[i].split()"
      ],
      "execution_count": null,
      "outputs": [
        {
          "output_type": "stream",
          "name": "stderr",
          "text": [
            "/usr/local/lib/python3.7/dist-packages/ipykernel_launcher.py:3: SettingWithCopyWarning: \n",
            "A value is trying to be set on a copy of a slice from a DataFrame\n",
            "\n",
            "See the caveats in the documentation: https://pandas.pydata.org/pandas-docs/stable/user_guide/indexing.html#returning-a-view-versus-a-copy\n",
            "  This is separate from the ipykernel package so we can avoid doing imports until\n",
            "/usr/local/lib/python3.7/dist-packages/ipykernel_launcher.py:7: SettingWithCopyWarning: \n",
            "A value is trying to be set on a copy of a slice from a DataFrame\n",
            "\n",
            "See the caveats in the documentation: https://pandas.pydata.org/pandas-docs/stable/user_guide/indexing.html#returning-a-view-versus-a-copy\n",
            "  import sys\n",
            "/usr/local/lib/python3.7/dist-packages/ipykernel_launcher.py:11: SettingWithCopyWarning: \n",
            "A value is trying to be set on a copy of a slice from a DataFrame\n",
            "\n",
            "See the caveats in the documentation: https://pandas.pydata.org/pandas-docs/stable/user_guide/indexing.html#returning-a-view-versus-a-copy\n",
            "  # This is added back by InteractiveShellApp.init_path()\n"
          ]
        }
      ]
    },
    {
      "cell_type": "code",
      "metadata": {
        "id": "1mEYZNYf37Fj",
        "colab": {
          "base_uri": "https://localhost:8080/"
        },
        "outputId": "b2953f7d-d8e1-4955-b140-bc46385927bb"
      },
      "source": [
        "# To check maximum length of sentence in training data\n",
        "np.unique(np.array([len(ix) for ix in X_train]) , return_counts=True)"
      ],
      "execution_count": null,
      "outputs": [
        {
          "output_type": "execute_result",
          "data": {
            "text/plain": [
              "(array([ 0,  1,  2,  3,  4,  5,  6,  7,  8,  9, 10, 11, 12, 13, 14, 15, 16,\n",
              "        17, 18, 19, 20, 21, 22, 23, 24, 25, 26, 27, 28, 29, 30, 31, 32, 33,\n",
              "        34, 35]),\n",
              " array([   1, 2051, 4179, 4336, 4397, 4407, 4034, 3561, 3113, 2825, 2560,\n",
              "        2366, 2100, 1803, 1706, 1363, 1221, 1096,  925,  811,  735,  709,\n",
              "         523,  502,  405,  329,  246,  203,  146,  105,   69,   31,   17,\n",
              "           5,    4,    1]))"
            ]
          },
          "metadata": {},
          "execution_count": 5
        }
      ]
    },
    {
      "cell_type": "code",
      "metadata": {
        "id": "m9UtE20237NA",
        "colab": {
          "base_uri": "https://localhost:8080/"
        },
        "outputId": "0e16dfc4-7a0d-432f-8bed-566cd6d45cc4"
      },
      "source": [
        "# To check maximum length of sentence in testing data\n",
        "np.unique(np.array([len(ix) for ix in X_valid]) , return_counts=True)\n",
        "\n",
        "#np.unique(np.array([len(ix) for ix in X_train]) , return_counts=True)\n"
      ],
      "execution_count": null,
      "outputs": [
        {
          "output_type": "execute_result",
          "data": {
            "text/plain": [
              "(array([ 1,  2,  3,  4,  5,  6,  7,  8,  9, 10, 11, 12, 13, 14, 15, 16, 17,\n",
              "        18, 19, 20, 21, 22, 23, 24, 25, 26, 27, 28, 29, 30, 31, 32, 33, 35]),\n",
              " array([ 541, 1036, 1066, 1117, 1097, 1004,  901,  873,  788,  676,  553,\n",
              "         503,  446,  387,  389,  304,  277,  271,  203,  169,  187,  152,\n",
              "         122,   98,   97,   82,   50,   36,   22,   18,    5,    7,    3,\n",
              "           1]))"
            ]
          },
          "metadata": {},
          "execution_count": 22
        }
      ]
    },
    {
      "cell_type": "code",
      "metadata": {
        "colab": {
          "base_uri": "https://localhost:8080/"
        },
        "id": "mgZHryUdaUcQ",
        "outputId": "7eca3499-97d9-4fa4-ebd4-91024cb18464"
      },
      "source": [
        "!wget http://nlp.stanford.edu/data/glove.twitter.27B.zip\n",
        "!unzip glove*.zip"
      ],
      "execution_count": null,
      "outputs": [
        {
          "output_type": "stream",
          "name": "stdout",
          "text": [
            "--2021-10-21 02:12:00--  http://nlp.stanford.edu/data/glove.twitter.27B.zip\n",
            "Resolving nlp.stanford.edu (nlp.stanford.edu)... 171.64.67.140\n",
            "Connecting to nlp.stanford.edu (nlp.stanford.edu)|171.64.67.140|:80... connected.\n",
            "HTTP request sent, awaiting response... 302 Found\n",
            "Location: https://nlp.stanford.edu/data/glove.twitter.27B.zip [following]\n",
            "--2021-10-21 02:12:00--  https://nlp.stanford.edu/data/glove.twitter.27B.zip\n",
            "Connecting to nlp.stanford.edu (nlp.stanford.edu)|171.64.67.140|:443... connected.\n",
            "HTTP request sent, awaiting response... 301 Moved Permanently\n",
            "Location: http://downloads.cs.stanford.edu/nlp/data/glove.twitter.27B.zip [following]\n",
            "--2021-10-21 02:12:01--  http://downloads.cs.stanford.edu/nlp/data/glove.twitter.27B.zip\n",
            "Resolving downloads.cs.stanford.edu (downloads.cs.stanford.edu)... 171.64.64.22\n",
            "Connecting to downloads.cs.stanford.edu (downloads.cs.stanford.edu)|171.64.64.22|:80... connected.\n",
            "HTTP request sent, awaiting response... 200 OK\n",
            "Length: 1520408563 (1.4G) [application/zip]\n",
            "Saving to: ‘glove.twitter.27B.zip’\n",
            "\n",
            "glove.twitter.27B.z 100%[===================>]   1.42G  5.14MB/s    in 4m 45s  \n",
            "\n",
            "2021-10-21 02:16:46 (5.09 MB/s) - ‘glove.twitter.27B.zip’ saved [1520408563/1520408563]\n",
            "\n",
            "Archive:  glove.twitter.27B.zip\n",
            "  inflating: glove.twitter.27B.25d.txt  \n",
            "  inflating: glove.twitter.27B.50d.txt  \n",
            "  inflating: glove.twitter.27B.100d.txt  \n",
            "  inflating: glove.twitter.27B.200d.txt  \n"
          ]
        }
      ]
    },
    {
      "cell_type": "code",
      "metadata": {
        "id": "uiozn7Ki37Tg"
      },
      "source": [
        "# Creating  embeddings dictionary with key = word and value = list of words in glove vector\n",
        "embeddings_index = {}\n",
        "\n",
        "f = open('glove.twitter.27B.100d.txt', encoding = \"utf8\")\n",
        "for line in f:\n",
        "    values = line.split()\n",
        "    word = values[0]\n",
        "    coefs = np.asarray(values[1:], dtype='float32')\n",
        "    embeddings_index[word] = coefs\n",
        "f.close()"
      ],
      "execution_count": null,
      "outputs": []
    },
    {
      "cell_type": "code",
      "metadata": {
        "colab": {
          "base_uri": "https://localhost:8080/"
        },
        "id": "9HXML-tADJce",
        "outputId": "f39a4a46-7e22-4641-b2c2-e6bff98c67b0"
      },
      "source": [
        "# Checking length of a particular word\n",
        "embeddings_index[\"i\"].shape\n",
        "\n",
        "embeddings_index[\"c\"].shape"
      ],
      "execution_count": null,
      "outputs": [
        {
          "output_type": "execute_result",
          "data": {
            "text/plain": [
              "(100,)"
            ]
          },
          "metadata": {},
          "execution_count": 9
        }
      ]
    },
    {
      "cell_type": "code",
      "metadata": {
        "id": "5Nci2RC5DJu9"
      },
      "source": [
        "# Filling the embedding matrix\n",
        "x = embeddings_index[\".\"]\n",
        "x[x != 0] = 0\n",
        "\n",
        "embedding_matrix_train = np.zeros((X_train.shape[0], 35, 100))\n",
        "embedding_matrix_test = np.zeros((X_test.shape[0], 35, 100))\n",
        "embedding_matrix_valid = np.zeros((X_valid.shape[0], 35, 100))\n",
        "\n",
        "count = 0\n",
        "\n",
        "for i in range(X_train.shape[0]):\n",
        "    for j in range(len(X_train[i])):\n",
        "        if (X_train[i][j].lower() in embeddings_index.keys()):\n",
        "            embedding_matrix_train[i][j] = embeddings_index[X_train[i][j].lower()]\n",
        "        else:\n",
        "            embedding_matrix_train[i][j] = x\n",
        "        \n",
        "for i in range(X_test.shape[0]):\n",
        "    for j in range(len(X_test[i])):\n",
        "        if (X_test[i][j].lower() in embeddings_index.keys()):\n",
        "            embedding_matrix_test[i][j] = embeddings_index[X_test[i][j].lower()]\n",
        "        else: \n",
        "            embedding_matrix_test[i][j] = x\n",
        "\n",
        "for i in range(X_valid.shape[0]):\n",
        "    for j in range(len(X_valid[i])):\n",
        "        if (X_valid[i][j].lower() in embeddings_index.keys()):\n",
        "            embedding_matrix_valid[i][j] = embeddings_index[X_valid[i][j].lower()]\n",
        "        else: \n",
        "            embedding_matrix_valid[i][j] = x"
      ],
      "execution_count": null,
      "outputs": []
    },
    {
      "cell_type": "code",
      "metadata": {
        "id": "J7Lou4r137Xw"
      },
      "source": [
        "# A simple LSTM network\n",
        "model = Sequential()\n",
        "model.add(LSTM(128, input_shape=(35,100),return_sequences=True))\n",
        "model.add(Dropout(0.4))\n",
        "model.add(LSTM(128, return_sequences=True))\n",
        "model.add(Dropout(0.4))\n",
        "model.add(LSTM(128, return_sequences=False))\n",
        "model.add(Dropout(0.4))\n",
        "model.add(Dense(12))\n",
        "model.add(Activation('softmax'))"
      ],
      "execution_count": null,
      "outputs": []
    },
    {
      "cell_type": "code",
      "metadata": {
        "id": "mwqBH4aInqoi"
      },
      "source": [
        "#Test\n",
        "model = Sequential()\n",
        "model.add(Bidirectional(LSTM(128, input_shape=(35,100),return_sequences=True)))\n",
        "model.add(Dropout(0.5))\n",
        "model.add(LSTM(128, return_sequences=False))\n",
        "model.add(Dropout(0.5))\n",
        "model.add(Dense(12))\n",
        "model.add(Activation('softmax'))"
      ],
      "execution_count": null,
      "outputs": []
    },
    {
      "cell_type": "code",
      "metadata": {
        "id": "7IDt5Rhy4A8Y"
      },
      "source": [
        "# Setting Loss ,Optimiser for model\n",
        "model.compile(loss='categorical_crossentropy', optimizer='adam', metrics=['accuracy'])"
      ],
      "execution_count": null,
      "outputs": []
    },
    {
      "cell_type": "code",
      "metadata": {
        "id": "DwxqJ1uI4DDL",
        "colab": {
          "base_uri": "https://localhost:8080/"
        },
        "outputId": "6a9f246c-e4c8-4df4-8495-4f9c2f47ba05"
      },
      "source": [
        "from keras import callbacks\n",
        "\n",
        "early_stopping_1 = callbacks.EarlyStopping(monitor = \"val_accuracy\", mode = \"max\", patience = 5, restore_best_weights = True, verbose = 1)\n",
        "\n",
        "hist = model.fit(embedding_matrix_train,Y_train, validation_data=(embedding_matrix_valid, Y_valid)\n",
        "                ,epochs = 10, batch_size=32,shuffle=True, callbacks = [early_stopping_1]\n",
        "                )"
      ],
      "execution_count": null,
      "outputs": [
        {
          "output_type": "stream",
          "name": "stdout",
          "text": [
            "Epoch 1/10\n",
            "1653/1653 [==============================] - 323s 182ms/step - loss: 2.2777 - accuracy: 0.1841 - val_loss: 2.2329 - val_accuracy: 0.1984\n",
            "Epoch 2/10\n",
            "1653/1653 [==============================] - 300s 181ms/step - loss: 2.1764 - accuracy: 0.2268 - val_loss: 2.2084 - val_accuracy: 0.2084\n",
            "Epoch 3/10\n",
            "1653/1653 [==============================] - 301s 182ms/step - loss: 2.1294 - accuracy: 0.2523 - val_loss: 2.1405 - val_accuracy: 0.2502\n",
            "Epoch 4/10\n",
            "1653/1653 [==============================] - 301s 182ms/step - loss: 2.0881 - accuracy: 0.2750 - val_loss: 2.1016 - val_accuracy: 0.2825\n",
            "Epoch 5/10\n",
            "1653/1653 [==============================] - 300s 182ms/step - loss: 2.0454 - accuracy: 0.2914 - val_loss: 2.1498 - val_accuracy: 0.2575\n",
            "Epoch 6/10\n",
            "1653/1653 [==============================] - 300s 181ms/step - loss: 2.0038 - accuracy: 0.3090 - val_loss: 2.0794 - val_accuracy: 0.2843\n",
            "Epoch 7/10\n",
            "1653/1653 [==============================] - 299s 181ms/step - loss: 1.9633 - accuracy: 0.3258 - val_loss: 2.0730 - val_accuracy: 0.2866\n",
            "Epoch 8/10\n",
            "1653/1653 [==============================] - 297s 179ms/step - loss: 1.9173 - accuracy: 0.3422 - val_loss: 2.0874 - val_accuracy: 0.2814\n",
            "Epoch 9/10\n",
            "1653/1653 [==============================] - 297s 180ms/step - loss: 1.8714 - accuracy: 0.3609 - val_loss: 2.1233 - val_accuracy: 0.2833\n",
            "Epoch 10/10\n",
            "1653/1653 [==============================] - 297s 180ms/step - loss: 1.8153 - accuracy: 0.3790 - val_loss: 2.1446 - val_accuracy: 0.2805\n"
          ]
        }
      ]
    },
    {
      "cell_type": "code",
      "metadata": {
        "id": "6_P-fC5iw8KH"
      },
      "source": [
        "#Without glove embedding\n",
        "EMBEDDING_DIM = 100\n",
        "\n",
        "\n",
        "model = Sequential()\n",
        "model.add(Embedding(MAX_NB_WORDS, EMBEDDING_DIM, input_length=100))\n",
        "model.add(SpatialDropout1D(0.2))\n",
        "model.add(Bidirectional(LSTM(128, dropout=0.5, recurrent_dropout=0.5,return_sequences=True)))\n",
        "model.add(LSTM(128, return_sequences=False))\n",
        "model.add(Dropout(0.5))\n",
        "model.add(Dense(12))\n",
        "model.add(Activation('softmax'))"
      ],
      "execution_count": null,
      "outputs": []
    },
    {
      "cell_type": "code",
      "metadata": {
        "id": "tyHznqmKcZmg"
      },
      "source": [
        "Y_test = np_utils.to_categorical(Y_test)"
      ],
      "execution_count": null,
      "outputs": []
    },
    {
      "cell_type": "code",
      "metadata": {
        "colab": {
          "base_uri": "https://localhost:8080/"
        },
        "id": "PxY2pFdQmZgO",
        "outputId": "27ba00bd-8eeb-400b-d5c1-b20c647b615b"
      },
      "source": [
        "print(model.summary())"
      ],
      "execution_count": null,
      "outputs": [
        {
          "output_type": "stream",
          "name": "stdout",
          "text": [
            "Model: \"sequential_9\"\n",
            "_________________________________________________________________\n",
            "Layer (type)                 Output Shape              Param #   \n",
            "=================================================================\n",
            "lstm_19 (LSTM)               (None, 35, 128)           117248    \n",
            "_________________________________________________________________\n",
            "dropout_20 (Dropout)         (None, 35, 128)           0         \n",
            "_________________________________________________________________\n",
            "lstm_20 (LSTM)               (None, 35, 128)           131584    \n",
            "_________________________________________________________________\n",
            "dropout_21 (Dropout)         (None, 35, 128)           0         \n",
            "_________________________________________________________________\n",
            "lstm_21 (LSTM)               (None, 128)               131584    \n",
            "_________________________________________________________________\n",
            "dropout_22 (Dropout)         (None, 128)               0         \n",
            "_________________________________________________________________\n",
            "dense_11 (Dense)             (None, 12)                1548      \n",
            "_________________________________________________________________\n",
            "activation_11 (Activation)   (None, 12)                0         \n",
            "=================================================================\n",
            "Total params: 381,964\n",
            "Trainable params: 381,964\n",
            "Non-trainable params: 0\n",
            "_________________________________________________________________\n",
            "None\n"
          ]
        }
      ]
    },
    {
      "cell_type": "code",
      "metadata": {
        "colab": {
          "base_uri": "https://localhost:8080/"
        },
        "id": "kYD-1283Il59",
        "outputId": "c2b3d32c-61ff-438b-f5b1-8f13ae09a7e0"
      },
      "source": [
        "score1 = model.evaluate(embedding_matrix_test, Y_test)\n",
        "\n",
        "print(\"Test Score:\", score1[0])\n",
        "print(\"Test Accuracy:\", score1[1])\n",
        "print(score1)\n",
        "print(model.metrics_names)"
      ],
      "execution_count": null,
      "outputs": [
        {
          "output_type": "stream",
          "name": "stdout",
          "text": [
            "422/422 [==============================] - 19s 44ms/step - loss: 2.1855 - accuracy: 0.2680\n",
            "Test Score: 2.1854522228240967\n",
            "Test Accuracy: 0.2680014967918396\n",
            "[2.1854522228240967, 0.2680014967918396]\n",
            "['loss', 'accuracy']\n"
          ]
        }
      ]
    },
    {
      "cell_type": "code",
      "metadata": {
        "colab": {
          "base_uri": "https://localhost:8080/",
          "height": 573
        },
        "id": "DiNehn8XCnkW",
        "outputId": "44f35a2f-192b-423b-c4a5-668aef9ca620"
      },
      "source": [
        "#Plotting epoch graph\n",
        "import matplotlib.pyplot as plt\n",
        "\n",
        "plt.plot(hist.history['accuracy'])\n",
        "plt.plot(hist.history['val_accuracy'])\n",
        "\n",
        "plt.title('model accuracy')\n",
        "plt.ylabel('accuracy')\n",
        "plt.xlabel('epoch')\n",
        "plt.legend(['train','valid'], loc='upper left')\n",
        "plt.show()\n",
        "\n",
        "plt.plot(hist.history['loss'])\n",
        "plt.plot(hist.history['val_loss'])\n",
        "\n",
        "plt.title('model loss')\n",
        "plt.ylabel('loss')\n",
        "plt.xlabel('epoch')\n",
        "plt.legend(['train','valid'], loc='upper left')\n",
        "plt.show()"
      ],
      "execution_count": null,
      "outputs": [
        {
          "output_type": "display_data",
          "data": {
            "image/png": "[encoded data removed]",
            "text/plain": [
              "<Figure size 432x288 with 1 Axes>"
            ]
          },
          "metadata": {
            "needs_background": "light"
          }
        },
        {
          "output_type": "display_data",
          "data": {
            "image/png": "[encoded data removed]",
            "text/plain": [
              "<Figure size 432x288 with 1 Axes>"
            ]
          },
          "metadata": {
            "needs_background": "light"
          }
        }
      ]
    },
    {
      "cell_type": "code",
      "metadata": {
        "colab": {
          "base_uri": "https://localhost:8080/"
        },
        "id": "Bux4g_Ey8UZE",
        "outputId": "59cf1976-e0d9-4432-917b-d50b7ec4cefa"
      },
      "source": [
        "# Save the entire model as a SavedModel.\n",
        "#!mkdir -p saved_model\n",
        "#model.save('saved_model/my_model') "
      ],
      "execution_count": null,
      "outputs": [
        {
          "output_type": "stream",
          "name": "stderr",
          "text": [
            "WARNING:absl:Found untraced functions such as lstm_cell_4_layer_call_and_return_conditional_losses, lstm_cell_4_layer_call_fn, lstm_cell_5_layer_call_and_return_conditional_losses, lstm_cell_5_layer_call_fn, lstm_cell_4_layer_call_fn while saving (showing 5 of 10). These functions will not be directly callable after loading.\n"
          ]
        },
        {
          "output_type": "stream",
          "name": "stdout",
          "text": [
            "INFO:tensorflow:Assets written to: saved_model/my_model/assets\n"
          ]
        },
        {
          "output_type": "stream",
          "name": "stderr",
          "text": [
            "INFO:tensorflow:Assets written to: saved_model/my_model/assets\n"
          ]
        }
      ]
    },
    {
      "cell_type": "code",
      "metadata": {
        "id": "cWtTPoe6iUA2"
      },
      "source": [
        "# Prediction of the trained model \n",
        "pred = model.predict(embedding_matrix_test)"
      ],
      "execution_count": null,
      "outputs": []
    },
    {
      "cell_type": "code",
      "metadata": {
        "colab": {
          "base_uri": "https://localhost:8080/"
        },
        "id": "CTroRNYEiXGG",
        "outputId": "40a85e93-287c-4fca-c222-3395dbb25a34"
      },
      "source": [
        "# Calculating the accuracy of the algorithm\n",
        "float(sum(np.argmax(pred)==Y_test))/embedding_matrix_test.shape[0]"
      ],
      "execution_count": null,
      "outputs": [
        {
          "output_type": "execute_result",
          "data": {
            "text/plain": [
              "0.0"
            ]
          },
          "metadata": {},
          "execution_count": 37
        }
      ]
    },
    {
      "cell_type": "code",
      "metadata": {
        "colab": {
          "base_uri": "https://localhost:8080/"
        },
        "id": "g5yEbkfT_Q5d",
        "outputId": "4e23fe55-3c42-4c44-d020-1f15b410d3af"
      },
      "source": [
        "b = 0\n",
        "for i in range(len(pred)):\n",
        "  if (np.argmax(pred[i]) == Y_test[i]):\n",
        "    b += 1\n",
        "  else:\n",
        "    continue\n",
        "\n",
        "b/len(Y_test)"
      ],
      "execution_count": null,
      "outputs": [
        {
          "output_type": "execute_result",
          "data": {
            "text/plain": [
              "0.26192065257693736"
            ]
          },
          "metadata": {},
          "execution_count": 50
        }
      ]
    }
  ]
}