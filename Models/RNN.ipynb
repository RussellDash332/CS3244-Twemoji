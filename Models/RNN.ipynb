{
  "nbformat": 4,
  "nbformat_minor": 0,
  "metadata": {
    "accelerator": "GPU",
    "colab": {
      "name": "RNN",
      "provenance": [],
      "collapsed_sections": []
    },
    "kernelspec": {
      "display_name": "Python 3",
      "name": "python3"
    },
    "language_info": {
      "name": "python"
    }
  },
  "cells": [
    {
      "cell_type": "code",
      "metadata": {
        "id": "Qre-e1moT3tW"
      },
      "source": [
        "import numpy as np\n",
        "import pandas as pd\n",
        "import re\n",
        "\n",
        "from keras.models import Sequential\n",
        "from keras.layers import Dense, Input, Dropout, Bidirectional,LSTM, Activation\n",
        "from keras.utils import np_utils\n",
        "from tensorflow.keras.utils import to_categorical\n",
        "\n",
        "import matplotlib.pyplot as plt\n"
      ],
      "execution_count": 1,
      "outputs": []
    },
    {
      "cell_type": "code",
      "metadata": {
        "id": "2xKQwxD_T8O_"
      },
      "source": [
        "train = pd.read_csv(r\"https://raw.githubusercontent.com/RussellDash332/CS3244-Twemoji/main/Datasets/train_text_emoji_clean.csv\")\n",
        "test = pd.read_csv(r\"https://raw.githubusercontent.com/RussellDash332/CS3244-Twemoji/main/Datasets/test_text_emoji_clean.csv\")\n",
        "valid = pd.read_csv(r\"https://raw.githubusercontent.com/RussellDash332/CS3244-Twemoji/main/Datasets/valid_text_emoji_clean.csv\")"
      ],
      "execution_count": 2,
      "outputs": []
    },
    {
      "cell_type": "code",
      "metadata": {
        "colab": {
          "base_uri": "https://localhost:8080/"
        },
        "id": "d2JlIACBT8ag",
        "outputId": "2469e411-df5b-4239-decd-e3e76719b4c1"
      },
      "source": [
        "import spacy\n",
        "!pip install --disable-pip-version-check -q pyspellchecker\n",
        "\n",
        "nlp = spacy.load('en', disable=['parser', 'ner'])\n",
        "\n",
        "\n",
        "def preprocess_text(sen):\n",
        "    sentence = sen.lower()\n",
        "\n",
        "    sentence = nlp(sentence)\n",
        "    sentence = \" \".join([token.lemma_ for token in sentence])\n",
        "\n",
        "    sentence = re.sub(\"-PRON-\", \"\", sentence)\n",
        "    # Remove punctuations and numbers\n",
        "    sentence = re.sub('[^a-zA-Z]', ' ', sen)\n",
        "    # Removing multiple spaces\n",
        "    sentence = re.sub(r'\\s+', ' ', sentence)\n",
        "\n",
        "    sentence = sentence.lower()\n",
        "\n",
        "    return sentence.strip()\n",
        "\n",
        "#train[\"tweets\"] = train[\"tweets\"].apply(preprocess_text)\n",
        "#test[\"tweets\"] = test[\"tweets\"].apply(preprocess_text)\n",
        "#valid['tweets'] = valid['tweets'].apply(preprocess_text)\n",
        "\n",
        "X_train = train['tweets']\n",
        "Y_train = train['labels']\n",
        "\n",
        "X_test = test['tweets']\n",
        "Y_test = test['labels']\n",
        "\n",
        "X_valid = valid['tweets']\n",
        "Y_valid = valid['labels']\n",
        "\n",
        "Y_test = np_utils.to_categorical(Y_test)\n",
        "Y_train = np_utils.to_categorical(Y_train)\n",
        "Y_valid = np_utils.to_categorical(Y_valid)"
      ],
      "execution_count": 3,
      "outputs": [
        {
          "output_type": "stream",
          "name": "stdout",
          "text": [
            "\u001b[?25l\r\u001b[K     |▏                               | 10 kB 23.7 MB/s eta 0:00:01\r\u001b[K     |▎                               | 20 kB 28.0 MB/s eta 0:00:01\r\u001b[K     |▍                               | 30 kB 12.7 MB/s eta 0:00:01\r\u001b[K     |▌                               | 40 kB 9.6 MB/s eta 0:00:01\r\u001b[K     |▋                               | 51 kB 5.4 MB/s eta 0:00:01\r\u001b[K     |▊                               | 61 kB 5.9 MB/s eta 0:00:01\r\u001b[K     |▉                               | 71 kB 5.7 MB/s eta 0:00:01\r\u001b[K     |█                               | 81 kB 6.4 MB/s eta 0:00:01\r\u001b[K     |█                               | 92 kB 5.6 MB/s eta 0:00:01\r\u001b[K     |█▏                              | 102 kB 5.3 MB/s eta 0:00:01\r\u001b[K     |█▎                              | 112 kB 5.3 MB/s eta 0:00:01\r\u001b[K     |█▍                              | 122 kB 5.3 MB/s eta 0:00:01\r\u001b[K     |█▌                              | 133 kB 5.3 MB/s eta 0:00:01\r\u001b[K     |█▊                              | 143 kB 5.3 MB/s eta 0:00:01\r\u001b[K     |█▉                              | 153 kB 5.3 MB/s eta 0:00:01\r\u001b[K     |██                              | 163 kB 5.3 MB/s eta 0:00:01\r\u001b[K     |██                              | 174 kB 5.3 MB/s eta 0:00:01\r\u001b[K     |██▏                             | 184 kB 5.3 MB/s eta 0:00:01\r\u001b[K     |██▎                             | 194 kB 5.3 MB/s eta 0:00:01\r\u001b[K     |██▍                             | 204 kB 5.3 MB/s eta 0:00:01\r\u001b[K     |██▌                             | 215 kB 5.3 MB/s eta 0:00:01\r\u001b[K     |██▋                             | 225 kB 5.3 MB/s eta 0:00:01\r\u001b[K     |██▊                             | 235 kB 5.3 MB/s eta 0:00:01\r\u001b[K     |██▉                             | 245 kB 5.3 MB/s eta 0:00:01\r\u001b[K     |███                             | 256 kB 5.3 MB/s eta 0:00:01\r\u001b[K     |███                             | 266 kB 5.3 MB/s eta 0:00:01\r\u001b[K     |███▎                            | 276 kB 5.3 MB/s eta 0:00:01\r\u001b[K     |███▍                            | 286 kB 5.3 MB/s eta 0:00:01\r\u001b[K     |███▌                            | 296 kB 5.3 MB/s eta 0:00:01\r\u001b[K     |███▋                            | 307 kB 5.3 MB/s eta 0:00:01\r\u001b[K     |███▊                            | 317 kB 5.3 MB/s eta 0:00:01\r\u001b[K     |███▉                            | 327 kB 5.3 MB/s eta 0:00:01\r\u001b[K     |████                            | 337 kB 5.3 MB/s eta 0:00:01\r\u001b[K     |████                            | 348 kB 5.3 MB/s eta 0:00:01\r\u001b[K     |████▏                           | 358 kB 5.3 MB/s eta 0:00:01\r\u001b[K     |████▎                           | 368 kB 5.3 MB/s eta 0:00:01\r\u001b[K     |████▍                           | 378 kB 5.3 MB/s eta 0:00:01\r\u001b[K     |████▌                           | 389 kB 5.3 MB/s eta 0:00:01\r\u001b[K     |████▋                           | 399 kB 5.3 MB/s eta 0:00:01\r\u001b[K     |████▉                           | 409 kB 5.3 MB/s eta 0:00:01\r\u001b[K     |█████                           | 419 kB 5.3 MB/s eta 0:00:01\r\u001b[K     |█████                           | 430 kB 5.3 MB/s eta 0:00:01\r\u001b[K     |█████▏                          | 440 kB 5.3 MB/s eta 0:00:01\r\u001b[K     |█████▎                          | 450 kB 5.3 MB/s eta 0:00:01\r\u001b[K     |█████▍                          | 460 kB 5.3 MB/s eta 0:00:01\r\u001b[K     |█████▌                          | 471 kB 5.3 MB/s eta 0:00:01\r\u001b[K     |█████▋                          | 481 kB 5.3 MB/s eta 0:00:01\r\u001b[K     |█████▊                          | 491 kB 5.3 MB/s eta 0:00:01\r\u001b[K     |█████▉                          | 501 kB 5.3 MB/s eta 0:00:01\r\u001b[K     |██████                          | 512 kB 5.3 MB/s eta 0:00:01\r\u001b[K     |██████                          | 522 kB 5.3 MB/s eta 0:00:01\r\u001b[K     |██████▏                         | 532 kB 5.3 MB/s eta 0:00:01\r\u001b[K     |██████▍                         | 542 kB 5.3 MB/s eta 0:00:01\r\u001b[K     |██████▌                         | 552 kB 5.3 MB/s eta 0:00:01\r\u001b[K     |██████▋                         | 563 kB 5.3 MB/s eta 0:00:01\r\u001b[K     |██████▊                         | 573 kB 5.3 MB/s eta 0:00:01\r\u001b[K     |██████▉                         | 583 kB 5.3 MB/s eta 0:00:01\r\u001b[K     |███████                         | 593 kB 5.3 MB/s eta 0:00:01\r\u001b[K     |███████                         | 604 kB 5.3 MB/s eta 0:00:01\r\u001b[K     |███████▏                        | 614 kB 5.3 MB/s eta 0:00:01\r\u001b[K     |███████▎                        | 624 kB 5.3 MB/s eta 0:00:01\r\u001b[K     |███████▍                        | 634 kB 5.3 MB/s eta 0:00:01\r\u001b[K     |███████▌                        | 645 kB 5.3 MB/s eta 0:00:01\r\u001b[K     |███████▋                        | 655 kB 5.3 MB/s eta 0:00:01\r\u001b[K     |███████▊                        | 665 kB 5.3 MB/s eta 0:00:01\r\u001b[K     |████████                        | 675 kB 5.3 MB/s eta 0:00:01\r\u001b[K     |████████                        | 686 kB 5.3 MB/s eta 0:00:01\r\u001b[K     |████████▏                       | 696 kB 5.3 MB/s eta 0:00:01\r\u001b[K     |████████▎                       | 706 kB 5.3 MB/s eta 0:00:01\r\u001b[K     |████████▍                       | 716 kB 5.3 MB/s eta 0:00:01\r\u001b[K     |████████▌                       | 727 kB 5.3 MB/s eta 0:00:01\r\u001b[K     |████████▋                       | 737 kB 5.3 MB/s eta 0:00:01\r\u001b[K     |████████▊                       | 747 kB 5.3 MB/s eta 0:00:01\r\u001b[K     |████████▉                       | 757 kB 5.3 MB/s eta 0:00:01\r\u001b[K     |█████████                       | 768 kB 5.3 MB/s eta 0:00:01\r\u001b[K     |█████████                       | 778 kB 5.3 MB/s eta 0:00:01\r\u001b[K     |█████████▏                      | 788 kB 5.3 MB/s eta 0:00:01\r\u001b[K     |█████████▎                      | 798 kB 5.3 MB/s eta 0:00:01\r\u001b[K     |█████████▌                      | 808 kB 5.3 MB/s eta 0:00:01\r\u001b[K     |█████████▋                      | 819 kB 5.3 MB/s eta 0:00:01\r\u001b[K     |█████████▊                      | 829 kB 5.3 MB/s eta 0:00:01\r\u001b[K     |█████████▉                      | 839 kB 5.3 MB/s eta 0:00:01\r\u001b[K     |██████████                      | 849 kB 5.3 MB/s eta 0:00:01\r\u001b[K     |██████████                      | 860 kB 5.3 MB/s eta 0:00:01\r\u001b[K     |██████████▏                     | 870 kB 5.3 MB/s eta 0:00:01\r\u001b[K     |██████████▎                     | 880 kB 5.3 MB/s eta 0:00:01\r\u001b[K     |██████████▍                     | 890 kB 5.3 MB/s eta 0:00:01\r\u001b[K     |██████████▌                     | 901 kB 5.3 MB/s eta 0:00:01\r\u001b[K     |██████████▋                     | 911 kB 5.3 MB/s eta 0:00:01\r\u001b[K     |██████████▊                     | 921 kB 5.3 MB/s eta 0:00:01\r\u001b[K     |██████████▉                     | 931 kB 5.3 MB/s eta 0:00:01\r\u001b[K     |███████████                     | 942 kB 5.3 MB/s eta 0:00:01\r\u001b[K     |███████████▏                    | 952 kB 5.3 MB/s eta 0:00:01\r\u001b[K     |███████████▎                    | 962 kB 5.3 MB/s eta 0:00:01\r\u001b[K     |███████████▍                    | 972 kB 5.3 MB/s eta 0:00:01\r\u001b[K     |███████████▌                    | 983 kB 5.3 MB/s eta 0:00:01\r\u001b[K     |███████████▋                    | 993 kB 5.3 MB/s eta 0:00:01\r\u001b[K     |███████████▊                    | 1.0 MB 5.3 MB/s eta 0:00:01\r\u001b[K     |███████████▉                    | 1.0 MB 5.3 MB/s eta 0:00:01\r\u001b[K     |████████████                    | 1.0 MB 5.3 MB/s eta 0:00:01\r\u001b[K     |████████████                    | 1.0 MB 5.3 MB/s eta 0:00:01\r\u001b[K     |████████████▏                   | 1.0 MB 5.3 MB/s eta 0:00:01\r\u001b[K     |████████████▎                   | 1.1 MB 5.3 MB/s eta 0:00:01\r\u001b[K     |████████████▍                   | 1.1 MB 5.3 MB/s eta 0:00:01\r\u001b[K     |████████████▋                   | 1.1 MB 5.3 MB/s eta 0:00:01\r\u001b[K     |████████████▊                   | 1.1 MB 5.3 MB/s eta 0:00:01\r\u001b[K     |████████████▉                   | 1.1 MB 5.3 MB/s eta 0:00:01\r\u001b[K     |█████████████                   | 1.1 MB 5.3 MB/s eta 0:00:01\r\u001b[K     |█████████████                   | 1.1 MB 5.3 MB/s eta 0:00:01\r\u001b[K     |█████████████▏                  | 1.1 MB 5.3 MB/s eta 0:00:01\r\u001b[K     |█████████████▎                  | 1.1 MB 5.3 MB/s eta 0:00:01\r\u001b[K     |█████████████▍                  | 1.1 MB 5.3 MB/s eta 0:00:01\r\u001b[K     |█████████████▌                  | 1.2 MB 5.3 MB/s eta 0:00:01\r\u001b[K     |█████████████▋                  | 1.2 MB 5.3 MB/s eta 0:00:01\r\u001b[K     |█████████████▊                  | 1.2 MB 5.3 MB/s eta 0:00:01\r\u001b[K     |█████████████▉                  | 1.2 MB 5.3 MB/s eta 0:00:01\r\u001b[K     |██████████████                  | 1.2 MB 5.3 MB/s eta 0:00:01\r\u001b[K     |██████████████▏                 | 1.2 MB 5.3 MB/s eta 0:00:01\r\u001b[K     |██████████████▎                 | 1.2 MB 5.3 MB/s eta 0:00:01\r\u001b[K     |██████████████▍                 | 1.2 MB 5.3 MB/s eta 0:00:01\r\u001b[K     |██████████████▌                 | 1.2 MB 5.3 MB/s eta 0:00:01\r\u001b[K     |██████████████▋                 | 1.2 MB 5.3 MB/s eta 0:00:01\r\u001b[K     |██████████████▊                 | 1.3 MB 5.3 MB/s eta 0:00:01\r\u001b[K     |██████████████▉                 | 1.3 MB 5.3 MB/s eta 0:00:01\r\u001b[K     |███████████████                 | 1.3 MB 5.3 MB/s eta 0:00:01\r\u001b[K     |███████████████                 | 1.3 MB 5.3 MB/s eta 0:00:01\r\u001b[K     |███████████████▏                | 1.3 MB 5.3 MB/s eta 0:00:01\r\u001b[K     |███████████████▎                | 1.3 MB 5.3 MB/s eta 0:00:01\r\u001b[K     |███████████████▍                | 1.3 MB 5.3 MB/s eta 0:00:01\r\u001b[K     |███████████████▌                | 1.3 MB 5.3 MB/s eta 0:00:01\r\u001b[K     |███████████████▋                | 1.3 MB 5.3 MB/s eta 0:00:01\r\u001b[K     |███████████████▉                | 1.4 MB 5.3 MB/s eta 0:00:01\r\u001b[K     |████████████████                | 1.4 MB 5.3 MB/s eta 0:00:01\r\u001b[K     |████████████████                | 1.4 MB 5.3 MB/s eta 0:00:01\r\u001b[K     |████████████████▏               | 1.4 MB 5.3 MB/s eta 0:00:01\r\u001b[K     |████████████████▎               | 1.4 MB 5.3 MB/s eta 0:00:01\r\u001b[K     |████████████████▍               | 1.4 MB 5.3 MB/s eta 0:00:01\r\u001b[K     |████████████████▌               | 1.4 MB 5.3 MB/s eta 0:00:01\r\u001b[K     |████████████████▋               | 1.4 MB 5.3 MB/s eta 0:00:01\r\u001b[K     |████████████████▊               | 1.4 MB 5.3 MB/s eta 0:00:01\r\u001b[K     |████████████████▉               | 1.4 MB 5.3 MB/s eta 0:00:01\r\u001b[K     |█████████████████               | 1.5 MB 5.3 MB/s eta 0:00:01\r\u001b[K     |█████████████████               | 1.5 MB 5.3 MB/s eta 0:00:01\r\u001b[K     |█████████████████▏              | 1.5 MB 5.3 MB/s eta 0:00:01\r\u001b[K     |█████████████████▍              | 1.5 MB 5.3 MB/s eta 0:00:01\r\u001b[K     |█████████████████▌              | 1.5 MB 5.3 MB/s eta 0:00:01\r\u001b[K     |█████████████████▋              | 1.5 MB 5.3 MB/s eta 0:00:01\r\u001b[K     |█████████████████▊              | 1.5 MB 5.3 MB/s eta 0:00:01\r\u001b[K     |█████████████████▉              | 1.5 MB 5.3 MB/s eta 0:00:01\r\u001b[K     |██████████████████              | 1.5 MB 5.3 MB/s eta 0:00:01\r\u001b[K     |██████████████████              | 1.5 MB 5.3 MB/s eta 0:00:01\r\u001b[K     |██████████████████▏             | 1.6 MB 5.3 MB/s eta 0:00:01\r\u001b[K     |██████████████████▎             | 1.6 MB 5.3 MB/s eta 0:00:01\r\u001b[K     |██████████████████▍             | 1.6 MB 5.3 MB/s eta 0:00:01\r\u001b[K     |██████████████████▌             | 1.6 MB 5.3 MB/s eta 0:00:01\r\u001b[K     |██████████████████▋             | 1.6 MB 5.3 MB/s eta 0:00:01\r\u001b[K     |██████████████████▊             | 1.6 MB 5.3 MB/s eta 0:00:01\r\u001b[K     |███████████████████             | 1.6 MB 5.3 MB/s eta 0:00:01\r\u001b[K     |███████████████████             | 1.6 MB 5.3 MB/s eta 0:00:01\r\u001b[K     |███████████████████▏            | 1.6 MB 5.3 MB/s eta 0:00:01\r\u001b[K     |███████████████████▎            | 1.6 MB 5.3 MB/s eta 0:00:01\r\u001b[K     |███████████████████▍            | 1.7 MB 5.3 MB/s eta 0:00:01\r\u001b[K     |███████████████████▌            | 1.7 MB 5.3 MB/s eta 0:00:01\r\u001b[K     |███████████████████▋            | 1.7 MB 5.3 MB/s eta 0:00:01\r\u001b[K     |███████████████████▊            | 1.7 MB 5.3 MB/s eta 0:00:01\r\u001b[K     |███████████████████▉            | 1.7 MB 5.3 MB/s eta 0:00:01\r\u001b[K     |████████████████████            | 1.7 MB 5.3 MB/s eta 0:00:01\r\u001b[K     |████████████████████            | 1.7 MB 5.3 MB/s eta 0:00:01\r\u001b[K     |████████████████████▏           | 1.7 MB 5.3 MB/s eta 0:00:01\r\u001b[K     |████████████████████▎           | 1.7 MB 5.3 MB/s eta 0:00:01\r\u001b[K     |████████████████████▌           | 1.8 MB 5.3 MB/s eta 0:00:01\r\u001b[K     |████████████████████▋           | 1.8 MB 5.3 MB/s eta 0:00:01\r\u001b[K     |████████████████████▊           | 1.8 MB 5.3 MB/s eta 0:00:01\r\u001b[K     |████████████████████▉           | 1.8 MB 5.3 MB/s eta 0:00:01\r\u001b[K     |█████████████████████           | 1.8 MB 5.3 MB/s eta 0:00:01\r\u001b[K     |█████████████████████           | 1.8 MB 5.3 MB/s eta 0:00:01\r\u001b[K     |█████████████████████▏          | 1.8 MB 5.3 MB/s eta 0:00:01\r\u001b[K     |█████████████████████▎          | 1.8 MB 5.3 MB/s eta 0:00:01\r\u001b[K     |█████████████████████▍          | 1.8 MB 5.3 MB/s eta 0:00:01\r\u001b[K     |█████████████████████▌          | 1.8 MB 5.3 MB/s eta 0:00:01\r\u001b[K     |█████████████████████▋          | 1.9 MB 5.3 MB/s eta 0:00:01\r\u001b[K     |█████████████████████▊          | 1.9 MB 5.3 MB/s eta 0:00:01\r\u001b[K     |█████████████████████▉          | 1.9 MB 5.3 MB/s eta 0:00:01\r\u001b[K     |██████████████████████          | 1.9 MB 5.3 MB/s eta 0:00:01\r\u001b[K     |██████████████████████▏         | 1.9 MB 5.3 MB/s eta 0:00:01\r\u001b[K     |██████████████████████▎         | 1.9 MB 5.3 MB/s eta 0:00:01\r\u001b[K     |██████████████████████▍         | 1.9 MB 5.3 MB/s eta 0:00:01\r\u001b[K     |██████████████████████▌         | 1.9 MB 5.3 MB/s eta 0:00:01\r\u001b[K     |██████████████████████▋         | 1.9 MB 5.3 MB/s eta 0:00:01\r\u001b[K     |██████████████████████▊         | 1.9 MB 5.3 MB/s eta 0:00:01\r\u001b[K     |██████████████████████▉         | 2.0 MB 5.3 MB/s eta 0:00:01\r\u001b[K     |███████████████████████         | 2.0 MB 5.3 MB/s eta 0:00:01\r\u001b[K     |███████████████████████         | 2.0 MB 5.3 MB/s eta 0:00:01\r\u001b[K     |███████████████████████▏        | 2.0 MB 5.3 MB/s eta 0:00:01\r\u001b[K     |███████████████████████▎        | 2.0 MB 5.3 MB/s eta 0:00:01\r\u001b[K     |███████████████████████▍        | 2.0 MB 5.3 MB/s eta 0:00:01\r\u001b[K     |███████████████████████▋        | 2.0 MB 5.3 MB/s eta 0:00:01\r\u001b[K     |███████████████████████▊        | 2.0 MB 5.3 MB/s eta 0:00:01\r\u001b[K     |███████████████████████▉        | 2.0 MB 5.3 MB/s eta 0:00:01\r\u001b[K     |████████████████████████        | 2.0 MB 5.3 MB/s eta 0:00:01\r\u001b[K     |████████████████████████        | 2.1 MB 5.3 MB/s eta 0:00:01\r\u001b[K     |████████████████████████▏       | 2.1 MB 5.3 MB/s eta 0:00:01\r\u001b[K     |████████████████████████▎       | 2.1 MB 5.3 MB/s eta 0:00:01\r\u001b[K     |████████████████████████▍       | 2.1 MB 5.3 MB/s eta 0:00:01\r\u001b[K     |████████████████████████▌       | 2.1 MB 5.3 MB/s eta 0:00:01\r\u001b[K     |████████████████████████▋       | 2.1 MB 5.3 MB/s eta 0:00:01\r\u001b[K     |████████████████████████▊       | 2.1 MB 5.3 MB/s eta 0:00:01\r\u001b[K     |████████████████████████▉       | 2.1 MB 5.3 MB/s eta 0:00:01\r\u001b[K     |█████████████████████████       | 2.1 MB 5.3 MB/s eta 0:00:01\r\u001b[K     |█████████████████████████▏      | 2.2 MB 5.3 MB/s eta 0:00:01\r\u001b[K     |█████████████████████████▎      | 2.2 MB 5.3 MB/s eta 0:00:01\r\u001b[K     |█████████████████████████▍      | 2.2 MB 5.3 MB/s eta 0:00:01\r\u001b[K     |█████████████████████████▌      | 2.2 MB 5.3 MB/s eta 0:00:01\r\u001b[K     |█████████████████████████▋      | 2.2 MB 5.3 MB/s eta 0:00:01\r\u001b[K     |█████████████████████████▊      | 2.2 MB 5.3 MB/s eta 0:00:01\r\u001b[K     |█████████████████████████▉      | 2.2 MB 5.3 MB/s eta 0:00:01\r\u001b[K     |██████████████████████████      | 2.2 MB 5.3 MB/s eta 0:00:01\r\u001b[K     |██████████████████████████      | 2.2 MB 5.3 MB/s eta 0:00:01\r\u001b[K     |██████████████████████████▏     | 2.2 MB 5.3 MB/s eta 0:00:01\r\u001b[K     |██████████████████████████▎     | 2.3 MB 5.3 MB/s eta 0:00:01\r\u001b[K     |██████████████████████████▍     | 2.3 MB 5.3 MB/s eta 0:00:01\r\u001b[K     |██████████████████████████▌     | 2.3 MB 5.3 MB/s eta 0:00:01\r\u001b[K     |██████████████████████████▊     | 2.3 MB 5.3 MB/s eta 0:00:01\r\u001b[K     |██████████████████████████▉     | 2.3 MB 5.3 MB/s eta 0:00:01\r\u001b[K     |███████████████████████████     | 2.3 MB 5.3 MB/s eta 0:00:01\r\u001b[K     |███████████████████████████     | 2.3 MB 5.3 MB/s eta 0:00:01\r\u001b[K     |███████████████████████████▏    | 2.3 MB 5.3 MB/s eta 0:00:01\r\u001b[K     |███████████████████████████▎    | 2.3 MB 5.3 MB/s eta 0:00:01\r\u001b[K     |███████████████████████████▍    | 2.3 MB 5.3 MB/s eta 0:00:01\r\u001b[K     |███████████████████████████▌    | 2.4 MB 5.3 MB/s eta 0:00:01\r\u001b[K     |███████████████████████████▋    | 2.4 MB 5.3 MB/s eta 0:00:01\r\u001b[K     |███████████████████████████▊    | 2.4 MB 5.3 MB/s eta 0:00:01\r\u001b[K     |███████████████████████████▉    | 2.4 MB 5.3 MB/s eta 0:00:01\r\u001b[K     |████████████████████████████    | 2.4 MB 5.3 MB/s eta 0:00:01\r\u001b[K     |████████████████████████████    | 2.4 MB 5.3 MB/s eta 0:00:01\r\u001b[K     |████████████████████████████▎   | 2.4 MB 5.3 MB/s eta 0:00:01\r\u001b[K     |████████████████████████████▍   | 2.4 MB 5.3 MB/s eta 0:00:01\r\u001b[K     |████████████████████████████▌   | 2.4 MB 5.3 MB/s eta 0:00:01\r\u001b[K     |████████████████████████████▋   | 2.4 MB 5.3 MB/s eta 0:00:01\r\u001b[K     |████████████████████████████▊   | 2.5 MB 5.3 MB/s eta 0:00:01\r\u001b[K     |████████████████████████████▉   | 2.5 MB 5.3 MB/s eta 0:00:01\r\u001b[K     |█████████████████████████████   | 2.5 MB 5.3 MB/s eta 0:00:01\r\u001b[K     |█████████████████████████████   | 2.5 MB 5.3 MB/s eta 0:00:01\r\u001b[K     |█████████████████████████████▏  | 2.5 MB 5.3 MB/s eta 0:00:01\r\u001b[K     |█████████████████████████████▎  | 2.5 MB 5.3 MB/s eta 0:00:01\r\u001b[K     |█████████████████████████████▍  | 2.5 MB 5.3 MB/s eta 0:00:01\r\u001b[K     |█████████████████████████████▌  | 2.5 MB 5.3 MB/s eta 0:00:01\r\u001b[K     |█████████████████████████████▋  | 2.5 MB 5.3 MB/s eta 0:00:01\r\u001b[K     |█████████████████████████████▊  | 2.5 MB 5.3 MB/s eta 0:00:01\r\u001b[K     |██████████████████████████████  | 2.6 MB 5.3 MB/s eta 0:00:01\r\u001b[K     |██████████████████████████████  | 2.6 MB 5.3 MB/s eta 0:00:01\r\u001b[K     |██████████████████████████████▏ | 2.6 MB 5.3 MB/s eta 0:00:01\r\u001b[K     |██████████████████████████████▎ | 2.6 MB 5.3 MB/s eta 0:00:01\r\u001b[K     |██████████████████████████████▍ | 2.6 MB 5.3 MB/s eta 0:00:01\r\u001b[K     |██████████████████████████████▌ | 2.6 MB 5.3 MB/s eta 0:00:01\r\u001b[K     |██████████████████████████████▋ | 2.6 MB 5.3 MB/s eta 0:00:01\r\u001b[K     |██████████████████████████████▊ | 2.6 MB 5.3 MB/s eta 0:00:01\r\u001b[K     |██████████████████████████████▉ | 2.6 MB 5.3 MB/s eta 0:00:01\r\u001b[K     |███████████████████████████████ | 2.7 MB 5.3 MB/s eta 0:00:01\r\u001b[K     |███████████████████████████████ | 2.7 MB 5.3 MB/s eta 0:00:01\r\u001b[K     |███████████████████████████████▏| 2.7 MB 5.3 MB/s eta 0:00:01\r\u001b[K     |███████████████████████████████▎| 2.7 MB 5.3 MB/s eta 0:00:01\r\u001b[K     |███████████████████████████████▌| 2.7 MB 5.3 MB/s eta 0:00:01\r\u001b[K     |███████████████████████████████▋| 2.7 MB 5.3 MB/s eta 0:00:01\r\u001b[K     |███████████████████████████████▊| 2.7 MB 5.3 MB/s eta 0:00:01\r\u001b[K     |███████████████████████████████▉| 2.7 MB 5.3 MB/s eta 0:00:01\r\u001b[K     |████████████████████████████████| 2.7 MB 5.3 MB/s eta 0:00:01\r\u001b[K     |████████████████████████████████| 2.7 MB 5.3 MB/s \n",
            "\u001b[?25h"
          ]
        }
      ]
    },
    {
      "cell_type": "code",
      "metadata": {
        "colab": {
          "base_uri": "https://localhost:8080/"
        },
        "id": "xuvqU7I9T8ez",
        "outputId": "45e64dac-0c51-435f-a10c-5606596c2772"
      },
      "source": [
        "# Splitting the train data from sentences to words\n",
        "for i in range(X_train.shape[0]):\n",
        "    X_train[i] = X_train[i].split()\n",
        "\n",
        "# Splitting the test data from sentences to words\n",
        "for i in range(X_test.shape[0]):\n",
        "    X_test[i] = X_test[i].split()\n",
        "\n",
        "# Splitting the validation data from sentences to words\n",
        "for i in range(X_valid.shape[0]):\n",
        "    X_valid[i] = X_valid[i].split()"
      ],
      "execution_count": 5,
      "outputs": [
        {
          "output_type": "stream",
          "name": "stderr",
          "text": [
            "/usr/local/lib/python3.7/dist-packages/ipykernel_launcher.py:3: SettingWithCopyWarning: \n",
            "A value is trying to be set on a copy of a slice from a DataFrame\n",
            "\n",
            "See the caveats in the documentation: https://pandas.pydata.org/pandas-docs/stable/user_guide/indexing.html#returning-a-view-versus-a-copy\n",
            "  This is separate from the ipykernel package so we can avoid doing imports until\n",
            "/usr/local/lib/python3.7/dist-packages/ipykernel_launcher.py:7: SettingWithCopyWarning: \n",
            "A value is trying to be set on a copy of a slice from a DataFrame\n",
            "\n",
            "See the caveats in the documentation: https://pandas.pydata.org/pandas-docs/stable/user_guide/indexing.html#returning-a-view-versus-a-copy\n",
            "  import sys\n",
            "/usr/local/lib/python3.7/dist-packages/ipykernel_launcher.py:11: SettingWithCopyWarning: \n",
            "A value is trying to be set on a copy of a slice from a DataFrame\n",
            "\n",
            "See the caveats in the documentation: https://pandas.pydata.org/pandas-docs/stable/user_guide/indexing.html#returning-a-view-versus-a-copy\n",
            "  # This is added back by InteractiveShellApp.init_path()\n"
          ]
        }
      ]
    },
    {
      "cell_type": "code",
      "metadata": {
        "colab": {
          "base_uri": "https://localhost:8080/"
        },
        "id": "nnK7tgmUDbPY",
        "outputId": "fadd83a4-7b14-469f-9b49-6253f08763c0"
      },
      "source": [
        "print(Y_train)"
      ],
      "execution_count": 6,
      "outputs": [
        {
          "output_type": "stream",
          "name": "stdout",
          "text": [
            "0         0\n",
            "1         0\n",
            "2         0\n",
            "3         0\n",
            "4         0\n",
            "         ..\n",
            "52879    11\n",
            "52880    11\n",
            "52881    11\n",
            "52882    11\n",
            "52883    11\n",
            "Name: labels, Length: 52884, dtype: int64\n"
          ]
        }
      ]
    },
    {
      "cell_type": "code",
      "metadata": {
        "colab": {
          "base_uri": "https://localhost:8080/"
        },
        "id": "uft2xDko4E60",
        "outputId": "e1ae39b3-db5b-4d6d-90f7-defad8ad7007"
      },
      "source": [
        "print(X_train)"
      ],
      "execution_count": 7,
      "outputs": [
        {
          "output_type": "stream",
          "name": "stdout",
          "text": [
            "0                       [school, is, so, dead, o, my, god]\n",
            "1        [lol, ive, been, told, mine, is, worse, than, ...\n",
            "2        [im, excited, to, hear, them, that, shit, is, ...\n",
            "3        [damn, alicia, knows, everything, even, indire...\n",
            "4                          [that, sound, like, everything]\n",
            "                               ...                        \n",
            "52879        [or, that, picture, was, just, cute, to, you]\n",
            "52880           [im, tow, wit, some, gas, still, hate, me]\n",
            "52881                               [yeah, you, kinda, do]\n",
            "52882                     [nothing, wit, youuuu, raymundo]\n",
            "52883    [dont, be, that, person, who, parks, right, ne...\n",
            "Name: tweets, Length: 52884, dtype: object\n"
          ]
        }
      ]
    },
    {
      "cell_type": "code",
      "metadata": {
        "colab": {
          "base_uri": "https://localhost:8080/"
        },
        "id": "1mEYZNYf37Fj",
        "outputId": "14894d4c-19b5-43e4-b13e-64bb1b54235c"
      },
      "source": [
        "# To check maximum length of sentence in training data\n",
        "np.unique(np.array([len(ix) for ix in X_train]) , return_counts=True)"
      ],
      "execution_count": 8,
      "outputs": [
        {
          "output_type": "execute_result",
          "data": {
            "text/plain": [
              "(array([ 1,  2,  3,  4,  5,  6,  7,  8,  9, 10, 11, 12, 13, 14, 15, 16, 17,\n",
              "        18, 19, 20, 21, 22, 23, 24, 25, 26, 27, 28, 29, 30, 31, 32, 33]),\n",
              " array([2078, 4523, 4665, 4501, 4480, 4165, 3639, 3128, 2833, 2608, 2280,\n",
              "        2081, 1723, 1643, 1302, 1183, 1019,  875,  797,  693,  626,  481,\n",
              "         403,  353,  299,  165,  146,   92,   60,   24,   12,    5,    2]))"
            ]
          },
          "metadata": {},
          "execution_count": 8
        }
      ]
    },
    {
      "cell_type": "code",
      "metadata": {
        "colab": {
          "base_uri": "https://localhost:8080/"
        },
        "id": "m9UtE20237NA",
        "outputId": "f3b54536-a1b3-4ebb-8db5-c67bea07ca3c"
      },
      "source": [
        "# To check maximum length of sentence in testing data\n",
        "#np.unique(np.array([len(ix) for ix in X_valid]) , return_counts=True)\n",
        "\n",
        "np.unique(np.array([len(ix) for ix in X_test]) , return_counts=True)\n"
      ],
      "execution_count": 11,
      "outputs": [
        {
          "output_type": "execute_result",
          "data": {
            "text/plain": [
              "(array([ 1,  2,  3,  4,  5,  6,  7,  8,  9, 10, 11, 12, 13, 14, 15, 16, 17,\n",
              "        18, 19, 20, 21, 22, 23, 24, 25, 26, 27, 28, 29, 30, 31, 32]),\n",
              " array([ 558, 1075, 1126, 1181, 1180, 1072,  913,  822,  746,  669,  597,\n",
              "         496,  456,  418,  343,  278,  262,  208,  208,  187,  155,  131,\n",
              "         120,   90,   62,   43,   31,   19,   23,   11,    3,    2]))"
            ]
          },
          "metadata": {},
          "execution_count": 11
        }
      ]
    },
    {
      "cell_type": "code",
      "metadata": {
        "colab": {
          "base_uri": "https://localhost:8080/"
        },
        "id": "mgZHryUdaUcQ",
        "outputId": "bc4c05b7-cfab-4ca9-a4d3-241b2ab8fd5b"
      },
      "source": [
        "!wget http://nlp.stanford.edu/data/glove.twitter.27B.zip\n",
        "!unzip glove*.zip"
      ],
      "execution_count": 13,
      "outputs": [
        {
          "output_type": "stream",
          "name": "stdout",
          "text": [
            "--2021-11-16 16:09:32--  http://nlp.stanford.edu/data/glove.twitter.27B.zip\n",
            "Resolving nlp.stanford.edu (nlp.stanford.edu)... 171.64.67.140\n",
            "Connecting to nlp.stanford.edu (nlp.stanford.edu)|171.64.67.140|:80... connected.\n",
            "HTTP request sent, awaiting response... 302 Found\n",
            "Location: https://nlp.stanford.edu/data/glove.twitter.27B.zip [following]\n",
            "--2021-11-16 16:09:32--  https://nlp.stanford.edu/data/glove.twitter.27B.zip\n",
            "Connecting to nlp.stanford.edu (nlp.stanford.edu)|171.64.67.140|:443... connected.\n",
            "HTTP request sent, awaiting response... 301 Moved Permanently\n",
            "Location: http://downloads.cs.stanford.edu/nlp/data/glove.twitter.27B.zip [following]\n",
            "--2021-11-16 16:09:32--  http://downloads.cs.stanford.edu/nlp/data/glove.twitter.27B.zip\n",
            "Resolving downloads.cs.stanford.edu (downloads.cs.stanford.edu)... 171.64.64.22\n",
            "Connecting to downloads.cs.stanford.edu (downloads.cs.stanford.edu)|171.64.64.22|:80... connected.\n",
            "HTTP request sent, awaiting response... 200 OK\n",
            "Length: 1520408563 (1.4G) [application/zip]\n",
            "Saving to: ‘glove.twitter.27B.zip’\n",
            "\n",
            "glove.twitter.27B.z 100%[===================>]   1.42G  5.03MB/s    in 4m 46s  \n",
            "\n",
            "2021-11-16 16:14:18 (5.08 MB/s) - ‘glove.twitter.27B.zip’ saved [1520408563/1520408563]\n",
            "\n",
            "Archive:  glove.twitter.27B.zip\n",
            "  inflating: glove.twitter.27B.25d.txt  \n",
            "  inflating: glove.twitter.27B.50d.txt  \n",
            "  inflating: glove.twitter.27B.100d.txt  \n",
            "  inflating: glove.twitter.27B.200d.txt  \n"
          ]
        }
      ]
    },
    {
      "cell_type": "code",
      "metadata": {
        "id": "uiozn7Ki37Tg"
      },
      "source": [
        "# Creating  embeddings dictionary with key = word and value = list of words in glove vector\n",
        "embeddings_index = {}\n",
        "\n",
        "f = open('glove.twitter.27B.100d.txt', encoding = \"utf8\")\n",
        "for line in f:\n",
        "    values = line.split()\n",
        "    word = values[0]\n",
        "    coefs = np.asarray(values[1:], dtype='float32')\n",
        "    embeddings_index[word] = coefs\n",
        "f.close()"
      ],
      "execution_count": 14,
      "outputs": []
    },
    {
      "cell_type": "code",
      "metadata": {
        "colab": {
          "base_uri": "https://localhost:8080/"
        },
        "id": "9HXML-tADJce",
        "outputId": "afffef5b-3e1d-43f7-8a58-8cfbf5b4f129"
      },
      "source": [
        "# Checking length of a particular word\n",
        "embeddings_index[\"i\"].shape\n",
        "\n",
        "embeddings_index[\"c\"].shape"
      ],
      "execution_count": 15,
      "outputs": [
        {
          "output_type": "execute_result",
          "data": {
            "text/plain": [
              "(100,)"
            ]
          },
          "metadata": {},
          "execution_count": 15
        }
      ]
    },
    {
      "cell_type": "code",
      "metadata": {
        "id": "5Nci2RC5DJu9"
      },
      "source": [
        "# Filling the embedding matrix\n",
        "x = embeddings_index[\".\"]\n",
        "x[x != 0] = 0\n",
        "\n",
        "embedding_matrix_train = np.zeros((X_train.shape[0], 33, 100))\n",
        "embedding_matrix_test = np.zeros((X_test.shape[0], 33, 100))\n",
        "embedding_matrix_valid = np.zeros((X_valid.shape[0], 33, 100))\n",
        "\n",
        "count = 0\n",
        "\n",
        "for i in range(X_train.shape[0]):\n",
        "    for j in range(len(X_train[i])):\n",
        "        if (X_train[i][j].lower() in embeddings_index.keys()):\n",
        "            embedding_matrix_train[i][j] = embeddings_index[X_train[i][j].lower()]\n",
        "        else:\n",
        "            embedding_matrix_train[i][j] = np.zeros(100)\n",
        "        \n",
        "for i in range(X_test.shape[0]):\n",
        "    for j in range(len(X_test[i])):\n",
        "        if (X_test[i][j].lower() in embeddings_index.keys()):\n",
        "            embedding_matrix_test[i][j] = embeddings_index[X_test[i][j].lower()]\n",
        "        else: \n",
        "            embedding_matrix_test[i][j] = np.zeros(100)\n",
        "\n",
        "for i in range(X_valid.shape[0]):\n",
        "    for j in range(len(X_valid[i])):\n",
        "        if (X_valid[i][j].lower() in embeddings_index.keys()):\n",
        "            embedding_matrix_valid[i][j] = embeddings_index[X_valid[i][j].lower()]\n",
        "        else: \n",
        "            embedding_matrix_valid[i][j] = np.zeros(100)"
      ],
      "execution_count": 16,
      "outputs": []
    },
    {
      "cell_type": "code",
      "metadata": {
        "id": "TQvCubqUGD5h"
      },
      "source": [
        "#LSTM model\n",
        "model = Sequential()\n",
        "model.add(LSTM(128, input_shape=(33,100), return_sequences=True))\n",
        "model.add(Dropout(0.5))\n",
        "model.add(LSTM(128, input_shape=(33,100)))\n",
        "model.add(Dropout(0.5))\n",
        "model.add(Dense(12))\n",
        "model.add(Activation('softmax'))\n",
        "\n",
        "# Setting Loss ,Optimiser for model\n",
        "model.compile(loss='categorical_crossentropy', optimizer='adam', metrics=['accuracy'])"
      ],
      "execution_count": 24,
      "outputs": []
    },
    {
      "cell_type": "code",
      "metadata": {
        "id": "PxY2pFdQmZgO"
      },
      "source": [
        "print(model.summary())"
      ],
      "execution_count": null,
      "outputs": []
    },
    {
      "cell_type": "code",
      "metadata": {
        "colab": {
          "base_uri": "https://localhost:8080/"
        },
        "id": "DwxqJ1uI4DDL",
        "outputId": "bc0ae6d7-8001-426b-a369-afb6306caece"
      },
      "source": [
        "from keras import callbacks\n",
        "\n",
        "early_stopping_1 = callbacks.EarlyStopping(monitor = \"val_accuracy\", mode = \"max\", patience = 20, restore_best_weights = True, verbose = 1)\n",
        "\n",
        "hist = model.fit(embedding_matrix_train,Y_train, validation_data=(embedding_matrix_valid, Y_valid), epochs = 10, batch_size=32, shuffle=True, callbacks = [early_stopping_1])"
      ],
      "execution_count": 25,
      "outputs": [
        {
          "output_type": "stream",
          "name": "stdout",
          "text": [
            "Epoch 1/10\n",
            "1653/1653 [==============================] - 47s 26ms/step - loss: 2.2948 - accuracy: 0.1715 - val_loss: 2.2268 - val_accuracy: 0.1883\n",
            "Epoch 2/10\n",
            "1653/1653 [==============================] - 40s 24ms/step - loss: 2.1862 - accuracy: 0.2251 - val_loss: 2.2078 - val_accuracy: 0.1886\n",
            "Epoch 3/10\n",
            "1653/1653 [==============================] - 41s 25ms/step - loss: 2.1376 - accuracy: 0.2494 - val_loss: 2.1454 - val_accuracy: 0.2371\n",
            "Epoch 4/10\n",
            "1653/1653 [==============================] - 40s 24ms/step - loss: 2.0939 - accuracy: 0.2710 - val_loss: 2.1495 - val_accuracy: 0.2542\n",
            "Epoch 5/10\n",
            "1653/1653 [==============================] - 40s 24ms/step - loss: 2.0588 - accuracy: 0.2865 - val_loss: 2.1166 - val_accuracy: 0.2590\n",
            "Epoch 6/10\n",
            "1653/1653 [==============================] - 40s 24ms/step - loss: 2.0221 - accuracy: 0.3021 - val_loss: 2.1036 - val_accuracy: 0.2676\n",
            "Epoch 7/10\n",
            "1653/1653 [==============================] - 40s 24ms/step - loss: 1.9870 - accuracy: 0.3167 - val_loss: 2.1199 - val_accuracy: 0.2661\n",
            "Epoch 8/10\n",
            "1653/1653 [==============================] - 40s 24ms/step - loss: 1.9513 - accuracy: 0.3289 - val_loss: 2.1001 - val_accuracy: 0.2827\n",
            "Epoch 9/10\n",
            "1653/1653 [==============================] - 42s 26ms/step - loss: 1.9093 - accuracy: 0.3435 - val_loss: 2.1146 - val_accuracy: 0.2768\n",
            "Epoch 10/10\n",
            "1653/1653 [==============================] - 41s 25ms/step - loss: 1.8674 - accuracy: 0.3596 - val_loss: 2.1413 - val_accuracy: 0.2768\n"
          ]
        }
      ]
    },
    {
      "cell_type": "code",
      "metadata": {
        "id": "kYD-1283Il59",
        "colab": {
          "base_uri": "https://localhost:8080/"
        },
        "outputId": "9af0c538-4f95-4875-8794-39118a688ab0"
      },
      "source": [
        "# Getting accuracy and loss\n",
        "\n",
        "score1 = model.evaluate(embedding_matrix_test, Y_test)\n",
        "\n",
        "print(\"Test Score:\", score1[0])\n",
        "print(\"Test Accuracy:\", score1[1])\n",
        "print(score1)\n",
        "print(model.metrics_names)"
      ],
      "execution_count": 26,
      "outputs": [
        {
          "output_type": "stream",
          "name": "stdout",
          "text": [
            "422/422 [==============================] - 4s 10ms/step - loss: 2.1646 - accuracy: 0.2615\n",
            "Test Score: 2.164597272872925\n",
            "Test Accuracy: 0.26147571206092834\n",
            "[2.164597272872925, 0.26147571206092834]\n",
            "['loss', 'accuracy']\n"
          ]
        }
      ]
    },
    {
      "cell_type": "code",
      "metadata": {
        "id": "DiNehn8XCnkW",
        "colab": {
          "base_uri": "https://localhost:8080/",
          "height": 573
        },
        "outputId": "49ea24b9-0477-4d6e-8ce6-5e45f92afaf7"
      },
      "source": [
        "#Plotting epoch graph\n",
        "import matplotlib.pyplot as plt\n",
        "\n",
        "plt.plot(hist.history['accuracy'])\n",
        "plt.plot(hist.history['val_accuracy'])\n",
        "\n",
        "plt.title('model accuracy')\n",
        "plt.ylabel('accuracy')\n",
        "plt.xlabel('epoch')\n",
        "plt.legend(['train','valid'], loc='upper left')\n",
        "plt.show()\n",
        "\n",
        "plt.plot(hist.history['loss'])\n",
        "plt.plot(hist.history['val_loss'])\n",
        "\n",
        "plt.title('model loss')\n",
        "plt.ylabel('loss')\n",
        "plt.xlabel('epoch')\n",
        "plt.legend(['train','valid'], loc='upper left')\n",
        "plt.show()"
      ],
      "execution_count": 27,
      "outputs": [
        {
          "output_type": "display_data",
          "data": {
            "image/png": "[encoded data removed]",
            "text/plain": [
              "<Figure size 432x288 with 1 Axes>"
            ]
          },
          "metadata": {
            "needs_background": "light"
          }
        },
        {
          "output_type": "display_data",
          "data": {
            "image/png": "[encoded data removed]",
            "text/plain": [
              "<Figure size 432x288 with 1 Axes>"
            ]
          },
          "metadata": {
            "needs_background": "light"
          }
        }
      ]
    },
    {
      "cell_type": "code",
      "metadata": {
        "id": "Bux4g_Ey8UZE",
        "colab": {
          "base_uri": "https://localhost:8080/"
        },
        "outputId": "0854128c-de2c-48ab-8f80-4dda7d488e9f"
      },
      "source": [
        "# Save the entire model as a SavedModel.\n",
        "!mkdir -p saved_model\n",
        "model.save('saved_model/my_model') "
      ],
      "execution_count": 46,
      "outputs": [
        {
          "output_type": "stream",
          "name": "stderr",
          "text": [
            "WARNING:absl:Found untraced functions such as lstm_cell_2_layer_call_fn, lstm_cell_2_layer_call_and_return_conditional_losses, lstm_cell_3_layer_call_fn, lstm_cell_3_layer_call_and_return_conditional_losses, lstm_cell_2_layer_call_fn while saving (showing 5 of 10). These functions will not be directly callable after loading.\n"
          ]
        },
        {
          "output_type": "stream",
          "name": "stdout",
          "text": [
            "INFO:tensorflow:Assets written to: saved_model/my_model/assets\n"
          ]
        },
        {
          "output_type": "stream",
          "name": "stderr",
          "text": [
            "INFO:tensorflow:Assets written to: saved_model/my_model/assets\n",
            "WARNING:absl:<keras.layers.recurrent.LSTMCell object at 0x7f62b0290310> has the same name 'LSTMCell' as a built-in Keras object. Consider renaming <class 'keras.layers.recurrent.LSTMCell'> to avoid naming conflicts when loading with `tf.keras.models.load_model`. If renaming is not possible, pass the object in the `custom_objects` parameter of the load function.\n",
            "WARNING:absl:<keras.layers.recurrent.LSTMCell object at 0x7f62b019ef50> has the same name 'LSTMCell' as a built-in Keras object. Consider renaming <class 'keras.layers.recurrent.LSTMCell'> to avoid naming conflicts when loading with `tf.keras.models.load_model`. If renaming is not possible, pass the object in the `custom_objects` parameter of the load function.\n"
          ]
        }
      ]
    },
    {
      "cell_type": "code",
      "metadata": {
        "id": "cWtTPoe6iUA2"
      },
      "source": [
        "# Prediction of the trained model \n",
        "pred = model.predict(embedding_matrix_test)"
      ],
      "execution_count": 29,
      "outputs": []
    },
    {
      "cell_type": "code",
      "metadata": {
        "id": "g5yEbkfT_Q5d",
        "colab": {
          "base_uri": "https://localhost:8080/"
        },
        "outputId": "0cd64319-8ee1-4929-c55d-5bfea374c62b"
      },
      "source": [
        "# Get all predicted labels into 1 array\n",
        "prediction = []\n",
        "\n",
        "for i in range(len(pred)):\n",
        "  prediction.append(np.argmax(pred[i]))\n",
        "\n",
        "print(prediction)"
      ],
      "execution_count": 33,
      "outputs": [
        {
          "output_type": "stream",
          "name": "stdout",
          "text": [
            "[0, 0, 6, 3, 7, 10, 0, 7, 5, 0, 1, 9, 7, 3, 9, 6, 11, 7, 5, 8, 0, 2, 11, 10, 10, 0, 0, 0, 0, 6, 0, 5, 0, 10, 0, 7, 6, 8, 0, 0, 2, 3, 10, 0, 0, 10, 11, 7, 9, 6, 9, 2, 11, 7, 5, 11, 0, 7, 7, 0, 11, 5, 7, 5, 9, 10, 0, 0, 9, 5, 9, 1, 11, 5, 0, 0, 0, 11, 0, 9, 0, 0, 7, 7, 0, 10, 0, 10, 11, 10, 7, 6, 7, 9, 0, 0, 8, 2, 0, 10, 5, 0, 0, 0, 0, 6, 1, 5, 0, 2, 7, 11, 10, 8, 7, 0, 0, 7, 10, 10, 0, 1, 7, 0, 0, 0, 0, 0, 11, 9, 5, 6, 0, 11, 5, 0, 7, 0, 9, 0, 11, 0, 0, 0, 5, 6, 0, 0, 7, 10, 0, 0, 0, 10, 2, 0, 10, 0, 10, 0, 7, 10, 6, 10, 11, 5, 2, 1, 8, 7, 9, 11, 0, 1, 0, 11, 3, 10, 0, 0, 0, 3, 11, 0, 0, 8, 10, 8, 0, 0, 0, 7, 2, 11, 2, 0, 5, 2, 2, 10, 11, 7, 5, 11, 2, 6, 0, 0, 9, 0, 6, 5, 5, 0, 2, 7, 10, 9, 9, 11, 9, 7, 6, 8, 0, 11, 8, 5, 0, 7, 0, 2, 9, 0, 7, 10, 11, 5, 0, 9, 0, 11, 6, 5, 0, 4, 0, 0, 11, 0, 0, 11, 0, 0, 9, 11, 2, 10, 2, 0, 7, 0, 7, 11, 0, 8, 0, 0, 0, 6, 0, 10, 6, 9, 5, 0, 0, 1, 0, 10, 1, 3, 9, 1, 6, 9, 0, 8, 5, 1, 9, 11, 9, 3, 0, 7, 9, 0, 10, 5, 7, 0, 0, 3, 0, 11, 11, 0, 9, 1, 5, 0, 0, 0, 11, 0, 2, 10, 0, 1, 8, 11, 0, 10, 9, 0, 11, 7, 6, 9, 8, 2, 0, 0, 0, 6, 4, 5, 11, 0, 6, 0, 11, 11, 11, 1, 10, 10, 9, 0, 0, 7, 1, 0, 0, 2, 7, 9, 0, 11, 0, 2, 0, 1, 7, 3, 0, 7, 0, 7, 7, 0, 11, 7, 3, 7, 0, 11, 7, 5, 10, 0, 7, 0, 6, 7, 7, 0, 11, 9, 7, 1, 7, 7, 9, 2, 11, 9, 8, 6, 0, 0, 1, 0, 0, 7, 10, 9, 11, 8, 6, 10, 11, 10, 0, 10, 0, 0, 9, 11, 10, 3, 11, 0, 0, 2, 10, 0, 0, 7, 0, 10, 7, 10, 11, 5, 3, 10, 0, 0, 0, 6, 11, 0, 11, 7, 11, 5, 6, 10, 7, 9, 11, 2, 6, 0, 10, 6, 7, 11, 2, 11, 0, 0, 11, 0, 11, 11, 9, 10, 9, 0, 11, 11, 10, 7, 6, 9, 5, 0, 0, 10, 0, 0, 7, 11, 0, 11, 11, 0, 10, 8, 0, 0, 0, 6, 9, 2, 0, 3, 9, 11, 0, 2, 6, 11, 6, 11, 0, 11, 10, 1, 0, 9, 5, 10, 0, 0, 3, 0, 0, 7, 10, 10, 7, 1, 2, 7, 0, 1, 0, 0, 0, 5, 2, 6, 2, 0, 0, 0, 1, 5, 9, 0, 0, 0, 11, 11, 0, 6, 0, 10, 10, 2, 1, 7, 0, 3, 0, 10, 10, 11, 6, 10, 1, 10, 5, 3, 5, 10, 0, 3, 0, 10, 0, 3, 0, 7, 1, 0, 6, 0, 7, 11, 1, 0, 7, 0, 0, 10, 0, 7, 7, 0, 9, 0, 7, 2, 9, 9, 2, 0, 1, 7, 7, 11, 10, 11, 0, 7, 7, 0, 7, 7, 6, 11, 0, 0, 0, 11, 7, 0, 7, 9, 2, 7, 5, 0, 0, 7, 11, 7, 10, 9, 0, 11, 0, 11, 8, 7, 0, 9, 0, 11, 7, 1, 0, 7, 11, 9, 10, 6, 5, 7, 0, 7, 0, 0, 7, 0, 1, 0, 0, 0, 9, 0, 0, 0, 11, 9, 8, 10, 0, 11, 0, 7, 10, 0, 5, 11, 3, 2, 0, 11, 6, 7, 7, 2, 5, 0, 2, 11, 11, 7, 3, 7, 0, 0, 11, 0, 2, 0, 0, 0, 5, 10, 0, 11, 9, 5, 1, 0, 0, 8, 0, 0, 3, 11, 0, 5, 11, 0, 0, 5, 0, 7, 11, 11, 3, 3, 0, 5, 11, 10, 7, 2, 0, 0, 0, 10, 0, 7, 0, 9, 0, 11, 7, 8, 9, 10, 0, 10, 7, 7, 2, 7, 5, 11, 8, 10, 0, 7, 2, 11, 9, 5, 1, 11, 0, 7, 0, 0, 0, 7, 0, 2, 0, 0, 9, 3, 0, 0, 5, 5, 11, 2, 0, 0, 10, 1, 11, 5, 9, 5, 0, 11, 2, 0, 9, 11, 0, 10, 7, 2, 7, 10, 10, 1, 0, 0, 9, 9, 10, 0, 3, 3, 0, 11, 7, 6, 0, 7, 5, 7, 0, 7, 11, 0, 0, 9, 11, 0, 0, 11, 0, 1, 5, 6, 5, 5, 5, 11, 0, 3, 9, 0, 1, 7, 0, 2, 11, 9, 0, 0, 0, 4, 0, 9, 2, 0, 11, 2, 10, 7, 0, 10, 0, 11, 0, 0, 0, 0, 8, 10, 11, 7, 3, 8, 0, 7, 6, 0, 0, 9, 0, 0, 11, 0, 5, 11, 10, 1, 10, 6, 0, 9, 0, 0, 9, 1, 10, 10, 6, 7, 0, 7, 11, 9, 7, 6, 7, 0, 4, 9, 0, 2, 7, 0, 10, 0, 0, 0, 2, 11, 10, 11, 7, 9, 10, 0, 6, 0, 7, 11, 0, 2, 5, 11, 4, 5, 11, 0, 6, 11, 0, 11, 10, 0, 0, 0, 1, 8, 7, 10, 9, 9, 5, 2, 7, 11, 10, 2, 7, 0, 10, 7, 2, 11, 11, 5, 5, 8, 7, 10, 0, 10, 0, 0, 0, 0, 3, 8, 0, 0, 7, 6, 0, 10, 2, 5, 0, 7, 10, 5, 11, 10, 9, 11, 9, 7, 0, 10, 4, 2, 7, 11, 0, 0, 10, 7, 0, 9, 11, 5, 0, 7, 0, 11, 7, 0, 0, 10, 0, 0, 7, 0, 0, 0, 9, 9, 0, 9, 0, 0, 0, 10, 5, 2, 9, 10, 1, 0, 6, 7, 0, 0, 0, 0, 7, 7, 3, 0, 11, 11, 9, 4, 11, 3, 6, 0, 10, 10, 0, 0, 5, 6, 3, 0, 9, 0, 0, 9, 7, 0, 10, 7, 0, 0, 10, 0, 5, 11, 1, 9, 1, 5, 0, 11, 11, 0, 11, 0, 0, 0, 10, 1, 11, 7, 0, 5, 7, 11, 7, 11, 0, 11, 6, 0, 10, 11, 7, 9, 9, 0, 3, 5, 10, 0, 10, 8, 3, 2, 11, 10, 10, 2, 11, 8, 0, 0, 10, 11, 9, 0, 0, 0, 0, 10, 2, 0, 11, 11, 0, 11, 0, 0, 0, 0, 10, 11, 11, 11, 0, 7, 11, 9, 11, 7, 10, 6, 7, 6, 0, 10, 9, 4, 11, 1, 1, 9, 0, 3, 3, 6, 5, 0, 0, 1, 7, 10, 1, 0, 6, 6, 7, 7, 11, 11, 0, 11, 0, 8, 0, 0, 11, 10, 7, 11, 3, 9, 0, 8, 0, 5, 6, 0, 0, 11, 0, 0, 11, 9, 1, 11, 7, 7, 0, 11, 7, 0, 0, 7, 3, 6, 9, 0, 5, 0, 0, 0, 0, 9, 5, 0, 7, 0, 10, 10, 7, 6, 0, 7, 7, 0, 0, 5, 0, 11, 9, 11, 7, 11, 6, 11, 10, 1, 11, 7, 5, 7, 0, 7, 5, 11, 7, 11, 0, 10, 7, 6, 9, 0, 2, 0, 2, 3, 6, 3, 11, 7, 11, 0, 11, 10, 7, 3, 11, 0, 0, 0, 11, 6, 7, 10, 0, 5, 8, 9, 1, 10, 10, 11, 1, 11, 9, 11, 0, 0, 4, 4, 0, 3, 7, 0, 0, 0, 0, 1, 5, 8, 7, 0, 5, 5, 8, 0, 11, 10, 10, 11, 11, 0, 5, 11, 0, 3, 8, 7, 0, 11, 0, 3, 0, 0, 7, 11, 0, 6, 5, 2, 9, 3, 11, 0, 7, 0, 8, 7, 0, 7, 10, 6, 0, 11, 0, 7, 7, 10, 9, 11, 0, 11, 0, 11, 10, 10, 11, 0, 6, 0, 11, 7, 1, 0, 5, 9, 0, 0, 11, 0, 6, 7, 7, 0, 10, 2, 1, 6, 6, 5, 0, 11, 5, 9, 0, 5, 11, 8, 0, 10, 10, 0, 0, 9, 11, 0, 6, 11, 0, 0, 10, 11, 6, 9, 9, 0, 3, 11, 0, 5, 0, 10, 0, 0, 0, 0, 5, 2, 5, 11, 11, 7, 0, 10, 0, 7, 0, 5, 2, 10, 1, 8, 6, 2, 7, 1, 10, 0, 0, 11, 0, 8, 7, 0, 5, 7, 9, 0, 10, 7, 1, 7, 0, 0, 1, 5, 7, 7, 11, 1, 5, 5, 9, 7, 9, 10, 9, 11, 10, 5, 0, 0, 6, 2, 0, 9, 0, 3, 7, 7, 0, 7, 0, 0, 6, 1, 0, 7, 0, 0, 7, 0, 0, 11, 9, 5, 10, 0, 10, 7, 10, 0, 7, 11, 9, 2, 0, 7, 0, 0, 1, 5, 0, 2, 6, 0, 0, 9, 10, 0, 0, 11, 0, 5, 11, 10, 10, 6, 11, 6, 0, 0, 3, 0, 2, 0, 10, 10, 5, 0, 9, 10, 10, 5, 1, 5, 9, 5, 0, 0, 8, 7, 3, 7, 2, 11, 0, 5, 0, 6, 9, 10, 11, 0, 10, 0, 7, 6, 0, 3, 0, 0, 5, 10, 11, 7, 0, 2, 9, 9, 5, 0, 0, 1, 7, 5, 0, 4, 0, 10, 0, 11, 6, 11, 9, 3, 2, 10, 10, 3, 5, 3, 0, 1, 0, 0, 0, 10, 7, 9, 1, 1, 5, 9, 3, 3, 7, 0, 5, 10, 5, 6, 0, 0, 9, 0, 7, 5, 5, 0, 10, 0, 10, 10, 9, 0, 11, 0, 10, 9, 0, 0, 11, 11, 2, 7, 3, 6, 0, 11, 0, 0, 9, 6, 9, 0, 0, 7, 10, 11, 0, 0, 2, 6, 8, 0, 0, 0, 7, 6, 0, 7, 3, 9, 0, 11, 7, 2, 11, 9, 2, 10, 11, 3, 11, 7, 0, 10, 7, 7, 11, 8, 0, 11, 9, 0, 0, 10, 5, 0, 10, 7, 10, 11, 0, 6, 9, 1, 0, 11, 6, 3, 6, 11, 11, 0, 7, 11, 0, 9, 5, 0, 2, 5, 11, 0, 6, 0, 0, 7, 7, 0, 0, 0, 6, 11, 9, 1, 6, 5, 0, 11, 0, 11, 0, 1, 11, 2, 5, 11, 11, 10, 7, 0, 9, 10, 0, 9, 2, 7, 0, 10, 0, 0, 7, 2, 11, 0, 0, 11, 0, 5, 6, 3, 1, 0, 5, 11, 0, 3, 7, 5, 2, 0, 3, 0, 0, 11, 11, 0, 0, 1, 6, 6, 7, 1, 11, 7, 0, 0, 7, 5, 6, 7, 1, 3, 4, 11, 0, 7, 9, 1, 7, 11, 10, 6, 7, 0, 9, 6, 11, 0, 10, 11, 6, 6, 0, 0, 6, 7, 0, 2, 0, 1, 6, 11, 2, 11, 6, 6, 6, 10, 6, 7, 6, 11, 6, 11, 9, 0, 8, 10, 11, 9, 11, 8, 9, 7, 1, 3, 0, 0, 7, 3, 1, 11, 11, 9, 1, 7, 6, 3, 6, 8, 11, 7, 0, 2, 0, 8, 5, 3, 1, 7, 5, 11, 0, 6, 8, 10, 7, 1, 1, 0, 1, 1, 8, 11, 9, 11, 0, 0, 10, 0, 0, 0, 10, 7, 3, 10, 4, 10, 8, 5, 0, 11, 11, 0, 0, 0, 11, 11, 1, 2, 6, 1, 1, 6, 0, 0, 9, 11, 3, 0, 7, 11, 6, 6, 3, 2, 7, 11, 4, 9, 10, 6, 6, 3, 0, 11, 3, 11, 6, 0, 0, 1, 2, 9, 6, 6, 8, 0, 6, 11, 0, 11, 0, 0, 4, 1, 2, 10, 9, 3, 5, 5, 0, 10, 9, 6, 0, 10, 6, 7, 2, 8, 2, 8, 2, 2, 6, 9, 11, 0, 0, 10, 6, 7, 2, 0, 0, 6, 11, 11, 10, 7, 1, 1, 1, 7, 0, 11, 11, 0, 6, 7, 1, 6, 1, 7, 1, 6, 1, 2, 1, 1, 11, 0, 4, 0, 0, 0, 1, 6, 0, 1, 1, 4, 0, 6, 2, 2, 11, 11, 11, 8, 1, 11, 1, 0, 11, 8, 10, 0, 11, 7, 0, 11, 10, 0, 0, 1, 8, 11, 2, 2, 6, 7, 11, 7, 11, 1, 4, 10, 11, 2, 10, 8, 6, 11, 0, 1, 3, 0, 0, 9, 7, 2, 4, 1, 1, 11, 9, 11, 5, 10, 9, 11, 1, 6, 0, 11, 8, 6, 6, 11, 8, 9, 6, 6, 2, 9, 6, 9, 10, 11, 6, 11, 7, 6, 7, 6, 11, 4, 6, 0, 5, 8, 6, 6, 1, 3, 0, 0, 9, 0, 11, 10, 11, 10, 1, 10, 6, 5, 7, 6, 5, 9, 6, 9, 9, 7, 5, 10, 9, 1, 8, 11, 1, 6, 2, 11, 11, 8, 0, 11, 2, 1, 11, 7, 11, 3, 10, 0, 0, 11, 9, 10, 0, 1, 2, 0, 10, 5, 10, 0, 10, 2, 4, 2, 1, 10, 11, 1, 2, 0, 11, 10, 7, 2, 0, 0, 1, 11, 0, 10, 6, 5, 11, 0, 0, 6, 1, 0, 2, 6, 11, 9, 11, 0, 11, 0, 0, 11, 0, 10, 0, 1, 2, 8, 6, 6, 1, 1, 0, 11, 3, 10, 4, 6, 9, 0, 1, 1, 1, 10, 2, 10, 0, 2, 1, 0, 10, 11, 4, 3, 6, 7, 11, 0, 5, 1, 0, 0, 6, 7, 0, 6, 1, 3, 0, 5, 1, 10, 8, 11, 1, 0, 10, 2, 3, 7, 9, 3, 10, 0, 0, 0, 1, 8, 6, 11, 9, 10, 0, 2, 0, 3, 9, 0, 10, 10, 11, 0, 0, 0, 10, 2, 0, 11, 7, 6, 11, 6, 6, 2, 6, 9, 0, 8, 2, 9, 11, 2, 0, 0, 11, 0, 11, 8, 1, 7, 1, 0, 0, 10, 0, 6, 11, 8, 6, 6, 11, 2, 1, 5, 1, 11, 11, 11, 6, 7, 11, 0, 7, 9, 0, 6, 0, 0, 11, 6, 7, 11, 2, 5, 0, 0, 0, 11, 11, 11, 11, 6, 7, 1, 11, 6, 11, 7, 0, 11, 9, 11, 3, 2, 1, 0, 11, 0, 11, 0, 11, 7, 10, 10, 0, 1, 6, 11, 5, 0, 7, 10, 7, 10, 9, 8, 2, 6, 0, 11, 11, 10, 11, 4, 7, 1, 0, 0, 0, 6, 1, 11, 6, 10, 7, 6, 0, 0, 9, 1, 0, 10, 0, 1, 9, 11, 11, 8, 2, 6, 1, 0, 11, 6, 10, 7, 7, 6, 7, 6, 6, 7, 2, 6, 2, 3, 7, 7, 6, 10, 2, 6, 10, 1, 7, 6, 6, 11, 6, 1, 11, 7, 9, 3, 0, 11, 1, 11, 6, 1, 10, 0, 1, 10, 11, 0, 9, 0, 10, 11, 0, 1, 10, 0, 2, 1, 2, 3, 0, 1, 7, 2, 6, 6, 6, 11, 6, 1, 10, 2, 9, 11, 0, 11, 2, 3, 1, 7, 0, 2, 7, 7, 6, 11, 11, 6, 0, 5, 8, 0, 3, 0, 6, 10, 11, 0, 6, 5, 0, 3, 2, 3, 6, 11, 11, 1, 6, 0, 0, 11, 1, 5, 0, 6, 6, 8, 6, 8, 11, 6, 0, 11, 0, 0, 3, 9, 6, 6, 7, 0, 0, 0, 3, 5, 4, 6, 6, 1, 0, 11, 1, 2, 0, 0, 6, 1, 2, 0, 6, 11, 0, 11, 9, 9, 9, 9, 6, 10, 0, 6, 1, 7, 11, 10, 11, 9, 11, 3, 10, 6, 1, 6, 2, 1, 6, 1, 3, 8, 11, 1, 7, 6, 2, 10, 0, 6, 11, 6, 6, 11, 0, 1, 6, 7, 0, 9, 1, 6, 2, 0, 9, 9, 7, 10, 9, 11, 9, 3, 9, 0, 7, 0, 0, 3, 5, 1, 0, 11, 7, 7, 0, 11, 2, 1, 10, 0, 0, 2, 0, 5, 0, 3, 0, 9, 0, 3, 3, 1, 2, 6, 11, 10, 0, 5, 11, 7, 11, 6, 6, 5, 11, 9, 0, 6, 1, 11, 7, 0, 0, 11, 11, 2, 0, 1, 11, 9, 5, 11, 0, 0, 1, 0, 9, 1, 7, 2, 3, 11, 10, 9, 0, 1, 0, 7, 2, 9, 0, 0, 6, 7, 2, 3, 6, 0, 2, 10, 0, 9, 0, 8, 6, 4, 11, 3, 6, 0, 6, 10, 1, 1, 6, 0, 6, 1, 7, 11, 0, 11, 4, 0, 0, 0, 6, 11, 2, 9, 1, 6, 7, 9, 2, 0, 7, 11, 7, 11, 1, 1, 7, 11, 11, 2, 6, 6, 6, 11, 11, 11, 5, 0, 3, 1, 11, 7, 0, 0, 11, 3, 7, 7, 3, 0, 6, 0, 1, 7, 9, 11, 0, 6, 9, 2, 9, 11, 7, 0, 0, 0, 11, 6, 0, 1, 6, 3, 3, 6, 1, 1, 0, 9, 9, 0, 7, 0, 11, 6, 10, 0, 6, 10, 0, 1, 0, 8, 0, 6, 0, 0, 0, 9, 0, 3, 10, 0, 4, 0, 0, 7, 0, 6, 0, 10, 11, 7, 7, 11, 9, 3, 1, 11, 7, 11, 9, 2, 3, 7, 7, 8, 0, 7, 0, 6, 1, 0, 11, 6, 1, 1, 7, 0, 6, 0, 11, 6, 11, 11, 6, 6, 6, 6, 8, 2, 7, 11, 0, 1, 0, 6, 1, 9, 2, 1, 9, 1, 1, 10, 7, 11, 0, 0, 0, 7, 6, 11, 0, 11, 1, 6, 6, 6, 0, 1, 0, 1, 6, 7, 0, 1, 11, 0, 6, 1, 3, 11, 6, 0, 3, 9, 0, 5, 10, 10, 6, 6, 4, 9, 0, 7, 6, 11, 6, 7, 5, 0, 5, 0, 0, 2, 1, 0, 0, 3, 11, 3, 0, 0, 2, 7, 6, 6, 0, 11, 7, 11, 2, 2, 4, 6, 1, 7, 9, 6, 2, 0, 0, 3, 0, 11, 1, 9, 1, 0, 11, 2, 8, 7, 2, 8, 0, 7, 11, 11, 0, 7, 4, 0, 8, 0, 0, 0, 11, 11, 0, 10, 11, 11, 11, 10, 3, 2, 11, 11, 6, 6, 11, 0, 0, 11, 2, 11, 2, 0, 0, 11, 1, 10, 11, 2, 11, 11, 1, 1, 4, 6, 9, 3, 11, 0, 4, 1, 11, 0, 0, 1, 11, 7, 5, 7, 8, 0, 5, 6, 11, 3, 9, 11, 0, 11, 2, 1, 2, 2, 0, 11, 6, 11, 1, 0, 2, 11, 0, 6, 7, 1, 10, 0, 9, 0, 1, 0, 11, 11, 0, 6, 10, 3, 11, 9, 3, 6, 6, 6, 2, 5, 0, 0, 11, 0, 7, 0, 11, 0, 10, 2, 0, 5, 6, 1, 2, 9, 10, 10, 1, 11, 11, 10, 11, 11, 0, 0, 10, 1, 8, 3, 7, 0, 10, 11, 0, 0, 0, 11, 0, 7, 11, 11, 0, 1, 11, 11, 6, 0, 6, 10, 1, 1, 1, 5, 2, 0, 2, 7, 6, 10, 11, 1, 0, 1, 11, 4, 6, 2, 11, 3, 6, 3, 7, 11, 3, 11, 11, 11, 11, 0, 3, 6, 9, 7, 1, 6, 6, 5, 5, 7, 6, 11, 9, 11, 5, 7, 0, 5, 11, 1, 11, 4, 3, 5, 0, 0, 2, 0, 0, 0, 9, 0, 6, 7, 6, 11, 1, 0, 1, 9, 1, 6, 0, 9, 11, 6, 6, 0, 4, 6, 3, 2, 11, 2, 6, 0, 4, 11, 11, 0, 5, 7, 0, 3, 1, 8, 11, 0, 3, 1, 1, 0, 11, 6, 11, 11, 1, 6, 11, 11, 1, 0, 5, 0, 2, 11, 0, 7, 11, 2, 6, 1, 11, 7, 1, 7, 8, 10, 3, 6, 0, 6, 6, 7, 1, 2, 11, 1, 6, 11, 0, 7, 2, 11, 1, 7, 7, 5, 0, 11, 8, 6, 11, 1, 10, 6, 0, 1, 0, 4, 5, 0, 7, 7, 7, 7, 1, 11, 9, 0, 6, 9, 6, 6, 1, 9, 11, 9, 6, 3, 0, 0, 1, 8, 1, 3, 6, 0, 5, 2, 6, 5, 5, 2, 4, 4, 6, 2, 2, 4, 0, 5, 4, 7, 2, 8, 9, 0, 2, 6, 2, 0, 0, 2, 2, 6, 2, 0, 0, 2, 2, 11, 5, 2, 4, 4, 9, 5, 2, 6, 2, 9, 2, 2, 2, 2, 4, 0, 9, 2, 0, 2, 9, 9, 9, 11, 2, 2, 2, 11, 0, 7, 11, 8, 4, 6, 8, 8, 4, 2, 0, 4, 2, 6, 2, 7, 4, 0, 2, 2, 9, 5, 2, 2, 2, 4, 6, 9, 6, 5, 2, 0, 2, 2, 11, 0, 2, 2, 4, 0, 5, 2, 9, 2, 6, 2, 0, 2, 2, 10, 2, 2, 9, 2, 2, 0, 8, 8, 2, 9, 7, 2, 2, 4, 5, 8, 2, 2, 9, 8, 2, 6, 0, 7, 5, 2, 10, 10, 7, 2, 5, 7, 2, 9, 8, 11, 2, 0, 2, 9, 2, 7, 2, 0, 2, 5, 9, 11, 11, 2, 11, 9, 2, 2, 2, 2, 2, 0, 2, 2, 2, 7, 4, 0, 8, 0, 6, 6, 8, 9, 1, 8, 0, 5, 2, 9, 9, 4, 0, 9, 9, 2, 2, 2, 4, 2, 2, 0, 0, 5, 7, 2, 9, 9, 7, 2, 2, 2, 2, 0, 11, 2, 2, 10, 8, 2, 2, 0, 6, 6, 7, 1, 7, 11, 2, 2, 11, 0, 9, 9, 0, 2, 0, 9, 7, 2, 2, 4, 1, 2, 2, 2, 2, 2, 5, 7, 7, 1, 11, 9, 9, 9, 7, 9, 2, 1, 8, 1, 5, 2, 9, 2, 9, 9, 2, 0, 0, 0, 8, 9, 2, 2, 2, 9, 6, 4, 2, 2, 4, 0, 2, 2, 2, 3, 2, 11, 7, 0, 4, 8, 9, 2, 9, 11, 9, 2, 0, 2, 2, 5, 11, 0, 0, 2, 2, 5, 2, 2, 5, 2, 2, 6, 5, 3, 8, 2, 2, 9, 6, 2, 2, 6, 0, 2, 0, 0, 2, 0, 9, 4, 5, 6, 2, 3, 10, 2, 1, 2, 2, 2, 6, 4, 7, 6, 9, 8, 9, 1, 11, 4, 6, 7, 5, 2, 6, 4, 9, 7, 0, 3, 2, 2, 9, 2, 0, 8, 1, 2, 4, 5, 1, 7, 2, 9, 2, 1, 5, 2, 5, 8, 5, 0, 0, 0, 6, 9, 9, 6, 5, 0, 9, 6, 5, 11, 5, 2, 2, 11, 8, 2, 5, 0, 2, 2, 2, 2, 9, 11, 2, 2, 9, 5, 2, 2, 8, 9, 2, 2, 2, 6, 8, 6, 3, 2, 9, 11, 9, 4, 9, 2, 6, 4, 2, 6, 11, 6, 2, 2, 0, 2, 2, 11, 2, 2, 7, 2, 2, 11, 2, 9, 2, 2, 2, 9, 2, 2, 2, 2, 5, 5, 2, 2, 2, 0, 2, 2, 2, 5, 9, 2, 2, 11, 7, 2, 7, 8, 2, 2, 2, 8, 2, 7, 5, 0, 8, 6, 7, 7, 9, 8, 0, 2, 5, 9, 8, 2, 9, 9, 9, 2, 0, 9, 5, 5, 2, 2, 2, 0, 7, 8, 2, 0, 2, 11, 0, 3, 9, 10, 2, 6, 8, 2, 2, 9, 2, 0, 8, 0, 11, 2, 4, 2, 2, 4, 2, 0, 2, 0, 5, 0, 1, 4, 2, 7, 11, 11, 2, 2, 6, 0, 0, 5, 2, 2, 2, 0, 8, 0, 6, 2, 11, 2, 9, 2, 11, 11, 2, 1, 0, 6, 2, 11, 2, 8, 4, 2, 0, 0, 1, 2, 5, 7, 0, 2, 6, 2, 2, 2, 9, 2, 2, 8, 6, 6, 2, 0, 4, 2, 2, 2, 11, 2, 1, 0, 0, 8, 0, 4, 1, 4, 2, 2, 2, 3, 2, 2, 8, 2, 2, 9, 2, 4, 6, 0, 6, 6, 2, 7, 9, 2, 5, 2, 2, 6, 2, 2, 8, 2, 1, 2, 2, 7, 9, 4, 7, 2, 2, 2, 9, 2, 5, 0, 2, 11, 2, 11, 6, 8, 9, 0, 9, 0, 2, 9, 2, 5, 2, 8, 2, 2, 5, 11, 0, 6, 6, 0, 10, 8, 2, 2, 2, 6, 6, 9, 9, 9, 0, 6, 11, 2, 0, 9, 0, 2, 9, 2, 5, 9, 4, 8, 7, 6, 9, 2, 8, 0, 2, 2, 1, 5, 2, 0, 11, 5, 0, 5, 2, 2, 8, 0, 2, 7, 0, 10, 4, 1, 2, 0, 2, 9, 2, 8, 2, 5, 5, 2, 2, 1, 9, 2, 2, 2, 2, 10, 5, 2, 0, 9, 7, 2, 11, 0, 2, 2, 1, 2, 0, 2, 2, 2, 2, 8, 7, 5, 2, 8, 2, 9, 4, 11, 2, 9, 2, 9, 7, 9, 11, 2, 2, 9, 9, 2, 7, 2, 9, 6, 2, 2, 2, 8, 2, 8, 5, 6, 9, 2, 9, 2, 2, 11, 5, 2, 5, 8, 6, 2, 0, 0, 6, 9, 11, 2, 8, 0, 7, 9, 7, 4, 2, 6, 2, 2, 2, 2, 2, 2, 0, 7, 5, 9, 2, 4, 9, 2, 7, 9, 8, 2, 2, 7, 2, 2, 5, 9, 0, 0, 0, 2, 6, 2, 9, 8, 7, 2, 2, 11, 0, 2, 8, 7, 2, 2, 7, 0, 2, 10, 11, 2, 2, 2, 8, 11, 0, 10, 2, 2, 6, 2, 2, 0, 0, 2, 2, 2, 0, 6, 7, 2, 2, 9, 2, 2, 0, 2, 7, 4, 2, 2, 11, 1, 9, 4, 2, 8, 0, 0, 9, 11, 5, 2, 0, 2, 5, 2, 8, 11, 2, 4, 2, 4, 8, 6, 0, 7, 5, 0, 11, 5, 7, 2, 0, 2, 0, 2, 2, 1, 7, 2, 2, 0, 9, 9, 10, 0, 2, 2, 8, 2, 7, 5, 6, 2, 2, 8, 2, 2, 0, 11, 4, 2, 7, 5, 7, 2, 2, 2, 5, 2, 0, 10, 8, 5, 8, 2, 2, 2, 6, 2, 11, 2, 5, 4, 7, 11, 2, 8, 8, 7, 0, 8, 8, 6, 0, 9, 11, 1, 5, 2, 2, 2, 0, 2, 9, 2, 2, 9, 8, 7, 8, 2, 6, 2, 0, 2, 0, 0, 8, 0, 2, 9, 2, 10, 2, 2, 2, 2, 4, 7, 2, 2, 2, 1, 6, 6, 2, 2, 0, 2, 2, 0, 2, 10, 2, 6, 2, 6, 8, 2, 0, 0, 2, 7, 11, 3, 9, 2, 2, 2, 2, 0, 2, 9, 5, 0, 4, 7, 11, 6, 0, 9, 6, 11, 0, 0, 2, 2, 2, 2, 6, 2, 2, 1, 10, 2, 0, 6, 0, 2, 2, 0, 9, 11, 11, 0, 11, 10, 11, 3, 0, 7, 10, 10, 11, 6, 7, 6, 0, 9, 5, 6, 11, 7, 11, 9, 11, 11, 0, 6, 5, 7, 10, 8, 0, 9, 0, 1, 11, 3, 0, 3, 2, 11, 11, 0, 11, 0, 0, 2, 11, 7, 6, 10, 11, 0, 9, 6, 9, 10, 10, 5, 6, 6, 2, 9, 11, 3, 6, 0, 0, 10, 11, 6, 0, 0, 3, 0, 10, 9, 3, 6, 0, 6, 7, 3, 11, 6, 0, 11, 10, 0, 0, 1, 11, 6, 8, 6, 10, 5, 7, 0, 11, 0, 0, 0, 7, 10, 10, 7, 9, 11, 6, 10, 11, 7, 0, 10, 8, 11, 11, 11, 0, 0, 6, 5, 11, 0, 0, 6, 11, 0, 6, 3, 10, 7, 11, 5, 3, 9, 1, 11, 2, 7, 11, 3, 0, 7, 11, 9, 11, 10, 11, 0, 11, 11, 3, 3, 3, 10, 7, 0, 0, 7, 7, 10, 7, 0, 0, 10, 11, 10, 5, 10, 11, 3, 0, 11, 0, 9, 0, 2, 7, 11, 0, 9, 9, 6, 7, 3, 11, 7, 11, 6, 7, 11, 9, 0, 6, 0, 10, 10, 1, 11, 11, 11, 0, 0, 6, 10, 0, 0, 11, 0, 11, 1, 11, 11, 9, 3, 10, 7, 9, 9, 7, 0, 1, 0, 11, 10, 7, 10, 9, 11, 10, 9, 11, 11, 11, 6, 10, 10, 0, 7, 3, 11, 3, 3, 7, 7, 11, 11, 0, 11, 3, 0, 3, 11, 2, 11, 11, 9, 7, 6, 6, 1, 0, 11, 11, 3, 5, 10, 9, 10, 11, 7, 11, 3, 6, 8, 3, 0, 3, 7, 7, 8, 11, 6, 11, 5, 7, 6, 11, 6, 8, 6, 0, 11, 7, 7, 11, 0, 11, 11, 3, 11, 9, 7, 11, 9, 6, 3, 10, 11, 7, 0, 11, 0, 10, 0, 0, 7, 10, 10, 11, 0, 10, 7, 0, 10, 11, 8, 3, 0, 3, 9, 10, 3, 10, 0, 0, 11, 0, 5, 0, 0, 1, 11, 11, 10, 10, 5, 9, 3, 10, 7, 7, 7, 6, 11, 7, 11, 3, 11, 11, 6, 9, 11, 0, 10, 10, 9, 11, 10, 0, 3, 11, 10, 6, 3, 0, 0, 9, 0, 6, 0, 11, 7, 11, 0, 6, 0, 0, 10, 9, 1, 11, 11, 7, 2, 11, 6, 6, 2, 10, 7, 11, 10, 11, 10, 0, 0, 11, 10, 10, 3, 7, 0, 7, 11, 10, 11, 7, 7, 0, 3, 3, 9, 6, 0, 0, 5, 9, 0, 3, 9, 11, 7, 6, 11, 6, 9, 0, 11, 1, 11, 0, 7, 11, 0, 11, 7, 3, 10, 11, 2, 5, 7, 3, 3, 10, 6, 3, 3, 0, 6, 11, 7, 6, 3, 0, 10, 10, 1, 9, 11, 1, 7, 0, 9, 0, 3, 7, 3, 3, 6, 3, 1, 11, 0, 11, 0, 11, 10, 10, 0, 11, 0, 10, 9, 0, 7, 0, 11, 10, 3, 7, 0, 10, 11, 0, 6, 11, 7, 7, 11, 11, 0, 6, 0, 0, 0, 5, 3, 6, 5, 10, 11, 6, 7, 6, 7, 0, 9, 9, 7, 11, 9, 2, 11, 11, 11, 9, 11, 6, 11, 3, 10, 11, 11, 6, 5, 11, 11, 11, 9, 5, 7, 9, 3, 3, 0, 11, 9, 11, 11, 6, 11, 3, 0, 7, 7, 7, 7, 7, 9, 0, 11, 9, 11, 11, 7, 7, 11, 4, 1, 0, 11, 1, 10, 11, 11, 1, 1, 11, 0, 3, 11, 10, 0, 5, 7, 10, 0, 9, 7, 1, 10, 11, 1, 6, 0, 10, 3, 0, 6, 11, 7, 9, 0, 9, 8, 11, 9, 11, 2, 9, 11, 6, 11, 0, 5, 10, 11, 11, 3, 0, 7, 7, 11, 0, 11, 3, 6, 11, 6, 7, 8, 3, 7, 0, 3, 0, 0, 11, 11, 6, 11, 6, 11, 10, 7, 6, 11, 6, 3, 7, 3, 0, 2, 0, 0, 3, 0, 11, 2, 11, 7, 7, 1, 11, 11, 5, 1, 9, 6, 11, 7, 10, 0, 9, 7, 11, 9, 6, 6, 6, 11, 11, 10, 4, 11, 1, 0, 0, 1, 0, 7, 11, 0, 8, 10, 11, 0, 0, 0, 11, 7, 5, 6, 11, 0, 11, 11, 3, 0, 10, 3, 0, 6, 0, 0, 0, 11, 11, 10, 11, 3, 3, 0, 3, 10, 10, 0, 9, 10, 11, 3, 6, 10, 6, 3, 7, 6, 1, 6, 0, 10, 3, 10, 6, 0, 11, 10, 0, 11, 11, 6, 0, 6, 0, 10, 11, 7, 10, 11, 10, 11, 11, 6, 3, 11, 10, 10, 5, 6, 11, 7, 11, 0, 6, 10, 0, 5, 11, 6, 1, 7, 6, 11, 6, 11, 10, 10, 6, 11, 0, 11, 7, 11, 10, 5, 7, 7, 11, 2, 6, 7, 6, 7, 6, 10, 10, 7, 7, 1, 11, 3, 0, 10, 10, 11, 0, 11, 0, 11, 0, 7, 11, 1, 3, 11, 11, 11, 7, 0, 3, 11, 7, 0, 10, 11, 11, 2, 0, 2, 8, 11, 11, 11, 10, 11, 5, 7, 1, 3, 3, 11, 3, 11, 11, 3, 11, 11, 5, 11, 11, 1, 7, 0, 9, 11, 6, 0, 7, 5, 10, 0, 9, 1, 11, 0, 2, 11, 11, 0, 0, 11, 10, 10, 6, 0, 6, 11, 6, 0, 10, 11, 6, 11, 0, 0, 11, 11, 6, 8, 11, 6, 7, 10, 6, 0, 2, 11, 11, 11, 10, 11, 10, 11, 0, 3, 2, 6, 11, 0, 6, 11, 7, 0, 7, 11, 1, 7, 11, 0, 10, 10, 3, 9, 11, 7, 7, 11, 11, 0, 3, 7, 0, 11, 6, 9, 6, 10, 0, 6, 6, 9, 11, 11, 0, 11, 0, 0, 6, 5, 0, 6, 11, 5, 11, 6, 11, 10, 11, 6, 11, 5, 0, 3, 7, 0, 7, 11, 3, 8, 11, 10, 0, 0, 9, 3, 3, 11, 10, 0, 5, 3, 9, 3, 11, 3, 5, 0, 2, 3, 3, 10, 3, 10, 0, 9, 0, 7, 3, 5, 9, 0, 6, 10, 11, 3, 11, 11, 9, 6, 9, 4, 0, 3, 1, 10, 11, 2, 11, 11, 0, 11, 11, 11, 11, 0, 10, 10, 11, 11, 7, 10, 3, 11, 11, 11, 0, 0, 10, 9, 10, 0, 7, 7, 7, 11, 0, 1, 11, 9, 11, 9, 10, 11, 0, 11, 7, 10, 10, 9, 11, 1, 0, 11, 11, 10, 11, 6, 6, 0, 11, 0, 3, 10, 11, 7, 0, 6, 0, 10, 7, 5, 11, 0, 7, 7, 6, 7, 4, 10, 0, 11, 11, 9, 0, 11, 9, 6, 11, 5, 6, 0, 6, 0, 5, 7, 6, 11, 11, 10, 7, 0, 7, 7, 0, 10, 10, 0, 9, 11, 3, 10, 6, 7, 9, 11, 3, 10, 1, 0, 10, 7, 9, 11, 11, 0, 6, 11, 10, 11, 7, 7, 0, 11, 6, 5, 10, 0, 11, 0, 6, 11, 7, 6, 3, 10, 10, 0, 11, 0, 3, 6, 3, 11, 11, 11, 1, 6, 5, 11, 2, 11, 11, 6, 9, 11, 0, 6, 10, 6, 6, 7, 0, 6, 10, 2, 0, 11, 6, 10, 10, 11, 2, 4, 4, 2, 10, 9, 1, 5, 4, 9, 8, 2, 5, 10, 8, 11, 4, 8, 9, 8, 7, 8, 4, 4, 11, 8, 8, 2, 9, 1, 2, 8, 8, 5, 7, 2, 9, 4, 5, 4, 8, 4, 4, 5, 8, 4, 4, 7, 1, 8, 8, 5, 5, 4, 4, 2, 4, 4, 9, 5, 2, 9, 7, 0, 5, 8, 2, 2, 8, 4, 9, 7, 5, 4, 2, 4, 4, 4, 2, 9, 5, 5, 4, 10, 9, 9, 9, 8, 0, 4, 0, 2, 8, 1, 2, 8, 7, 9, 8, 8, 4, 4, 1, 9, 0, 4, 4, 4, 11, 5, 2, 4, 4, 9, 0, 2, 7, 9, 10, 8, 2, 2, 0, 8, 7, 2, 4, 4, 5, 11, 5, 8, 5, 6, 2, 8, 2, 5, 2, 8, 8, 8, 5, 7, 4, 1, 7, 4, 2, 8, 8, 8, 9, 9, 1, 8, 8, 2, 5, 5, 2, 8, 8, 8, 5, 9, 4, 8, 11, 10, 5, 2, 8, 10, 9, 2, 5, 4, 8, 4, 4, 9, 1, 8, 5, 4, 10, 9, 5, 5, 5, 7, 4, 11, 8, 11, 4, 4, 9, 2, 9, 8, 8, 9, 0, 2, 8, 11, 2, 8, 8, 4, 8, 7, 4, 9, 8, 11, 9, 7, 8, 2, 5, 8, 5, 9, 9, 10, 5, 4, 4, 1, 8, 4, 2, 10, 5, 5, 2, 5, 5, 4, 4, 9, 4, 4, 0, 8, 7, 8, 5, 4, 0, 4, 5, 2, 0, 0, 8, 5, 11, 10, 8, 9, 2, 4, 4, 0, 8, 4, 4, 7, 2, 4, 4, 9, 4, 2, 5, 4, 9, 10, 5, 2, 8, 9, 2, 9, 4, 5, 5, 2, 8, 7, 2, 4, 4, 9, 4, 5, 4, 8, 5, 8, 8, 9, 8, 5, 8, 5, 4, 10, 1, 8, 2, 9, 4, 4, 2, 8, 8, 4, 6, 8, 10, 8, 4, 8, 8, 4, 5, 5, 2, 4, 8, 8, 8, 0, 8, 1, 8, 0, 4, 4, 5, 8, 5, 4, 0, 2, 9, 8, 2, 8, 1, 0, 4, 0, 1, 1, 11, 8, 8, 7, 10, 8, 4, 8, 5, 11, 4, 2, 5, 0, 1, 8, 2, 5, 5, 0, 8, 2, 5, 5, 5, 9, 0, 4, 4, 8, 2, 3, 1, 2, 11, 8, 7, 2, 4, 4, 4, 0, 9, 8, 8, 0, 2, 11, 9, 11, 2, 4, 4, 2, 1, 2, 11, 7, 8, 5, 5, 2, 4, 6, 2, 4, 2, 5, 8, 4, 8, 4, 8, 11, 8, 0, 9, 0, 4, 5, 2, 4, 9, 10, 4, 8, 4, 2, 8, 8, 4, 4, 5, 4, 11, 9, 4, 2, 2, 5, 8, 4, 2, 5, 5, 4, 4, 5, 10, 4, 10, 8, 10, 4, 4, 10, 8, 9, 0, 0, 1, 8, 2, 0, 11, 2, 8, 5, 8, 9, 9, 11, 8, 0, 8, 10, 6, 5, 4, 8, 6, 4, 7, 8, 2, 8, 11, 5, 4, 11, 4, 0, 10, 9, 11, 5, 8, 5, 4, 8, 11, 9, 8, 2, 8, 0, 2, 9, 5, 4, 4, 4, 2, 7, 8, 8, 8, 8, 5, 5, 0, 2, 2, 11, 9, 4, 2, 8, 8, 5, 4, 8, 4, 8, 8, 2, 4, 6, 6, 8, 7, 2, 4, 4, 2, 8, 10, 4, 3, 2, 4, 4, 4, 4, 4, 8, 2, 2, 5, 6, 8, 4, 4, 4, 2, 4, 1, 9, 2, 0, 8, 4, 5, 5, 5, 5, 0, 2, 4, 4, 1, 9, 10, 5, 0, 11, 0, 8, 0, 11, 4, 9, 4, 11, 8, 2, 8, 0, 8, 9, 4, 4, 4, 5, 4, 7, 8, 8, 2, 5, 2, 2, 9, 8, 2, 7, 0, 4, 5, 9, 2, 0, 10, 4, 0, 5, 2, 8, 7, 8, 5, 5, 4, 4, 8, 8, 7, 5, 8, 3, 8, 5, 4, 8, 0, 2, 0, 2, 0, 8, 5, 4, 4, 9, 2, 5, 8, 4, 0, 8, 4, 5, 4, 4, 9, 2, 2, 8, 11, 2, 9, 8, 8, 11, 5, 8, 8, 4, 4, 2, 2, 0, 6, 4, 3, 4, 1, 2, 2, 8, 9, 0, 8, 2, 2, 0, 8, 8, 9, 2, 4, 10, 8, 1, 1, 0, 4, 5, 2, 8, 4, 5, 2, 9, 5, 5, 8, 5, 10, 0, 4, 11, 11, 10, 8, 10, 9, 8, 10, 0, 5, 5, 0, 9, 11, 11, 0, 8, 11, 5, 11, 9, 8, 5, 5, 10, 2, 5, 8, 0, 9, 4, 2, 5, 1, 8, 11, 0, 9, 11, 0, 5, 0, 7, 0, 0, 7, 4, 10, 5, 6, 0, 8, 10, 5, 9, 5, 9, 5, 9, 0, 9, 8, 4, 8, 10, 10, 6, 2, 2, 11, 7, 5, 9, 5, 5, 0, 8, 5, 11, 8, 8, 5, 7, 3, 8, 8, 11, 8, 2, 11, 8, 9, 3, 0, 5, 1, 4, 1, 9, 0, 4, 5, 0, 4, 2, 9, 8, 8, 8, 10, 0, 10, 0, 0, 4, 2, 9, 11, 5, 5, 5, 8, 9, 8, 10, 11, 4, 11, 9, 8, 11, 8, 5, 4, 4, 0, 9, 5, 0, 0, 9, 7, 11, 8, 11, 7, 5, 9, 5, 2, 11, 8, 2, 0, 11, 11, 5, 7, 0, 8, 8, 8, 6, 0, 5, 5, 5, 0, 2, 9, 8, 5, 0, 8, 8, 5, 7, 2, 11, 0, 0, 9, 10, 10, 3, 0, 5, 8, 5, 2, 0, 5, 11, 11, 2, 2, 5, 5, 0, 8, 9, 8, 8, 11, 0, 8, 11, 8, 5, 0, 5, 8, 5, 11, 8, 10, 5, 5, 9, 6, 5, 2, 6, 11, 0, 5, 0, 5, 11, 1, 0, 11, 0, 10, 5, 11, 2, 8, 5, 5, 5, 8, 0, 5, 11, 11, 10, 6, 8, 4, 11, 5, 11, 9, 5, 8, 0, 9, 1, 6, 9, 5, 9, 5, 5, 0, 9, 2, 5, 5, 2, 7, 8, 5, 8, 5, 8, 10, 8, 10, 6, 5, 11, 5, 7, 0, 5, 2, 9, 0, 7, 11, 5, 10, 6, 8, 0, 0, 11, 8, 5, 4, 7, 9, 2, 7, 0, 9, 8, 5, 9, 0, 11, 0, 0, 8, 7, 8, 0, 0, 10, 9, 5, 11, 2, 5, 8, 10, 8, 9, 7, 10, 0, 7, 11, 0, 5, 5, 4, 7, 5, 0, 11, 11, 5, 2, 5, 5, 11, 10, 5, 6, 5, 8, 5, 2, 0, 5, 8, 5, 2, 11, 11, 5, 11, 11, 0, 5, 5, 11, 5, 0, 5, 8, 5, 8, 6, 8, 10, 2, 5, 5, 5, 5, 11, 5, 2, 7, 11, 8, 2, 4, 8, 10, 9, 8, 11, 10, 10, 11, 6, 5, 10, 11, 5, 4, 5, 8, 2, 4, 9, 2, 8, 11, 2, 2, 5, 8, 6, 11, 5, 10, 2, 9, 8, 9, 8, 7, 8, 8, 5, 0, 5, 6, 4, 5, 4, 5, 0, 2, 1, 2, 10, 5, 5, 8, 1, 5, 8, 9, 5, 10, 5, 9, 8, 5, 4, 10, 6, 5, 0, 5, 4, 5, 8, 3, 2, 11, 8, 7, 2, 5, 11, 5, 8, 11, 0, 11, 11, 5, 9, 1, 10, 11, 0, 11, 5, 5, 10, 9, 10, 0, 0, 4, 5, 8, 11, 8, 0, 11, 2, 10, 0, 5, 10, 10, 10, 7, 5, 11, 9, 9, 0, 5, 4, 2, 8, 5, 7, 9, 10, 7, 1, 5, 10, 7, 5, 11, 4, 5, 9, 0, 2, 8, 7, 0, 2, 2, 8, 8, 0, 9, 5, 5, 7, 5, 5, 10, 9, 4, 6, 9, 2, 5, 0, 0, 0, 6, 10, 9, 2, 5, 10, 2, 5, 4, 0, 11, 4, 5, 7, 5, 0, 8, 2, 5, 9, 11, 0, 0, 4, 2, 5, 8, 0, 6, 8, 8, 4, 8, 10, 5, 2, 9, 7, 7, 10, 5, 1, 4, 10, 5, 9, 3, 4, 6, 9, 9, 9, 5, 8, 7, 2, 0, 4, 7, 11, 6, 11, 5, 5, 10, 0, 9, 5, 11, 5, 5, 9, 5, 0, 9, 6, 5, 5, 7, 5, 5, 4, 5, 11, 5, 2, 5, 5, 0, 9, 6, 7, 5, 5, 9, 5, 5, 4, 7, 0, 5, 5, 11, 5, 9, 8, 9, 4, 10, 11, 8, 0, 2, 5, 9, 5, 5, 5, 8, 10, 7, 8, 9, 9, 10, 7, 9, 5, 7, 0, 4, 2, 5, 7, 2, 0, 6, 11, 10, 8, 5, 8, 9, 0, 0, 6, 4, 2, 7, 5, 9, 2, 7, 0, 8, 0, 2, 5, 11, 7, 11, 9, 0, 5, 10, 11, 5, 5, 11, 10, 11, 2, 5, 0, 9, 5, 5, 8, 11, 7, 0, 9, 1, 6, 11, 6, 11, 11, 0, 1, 6, 10, 6, 2, 2, 1, 11, 1, 10, 10, 11, 11, 6, 7, 3, 3, 11, 3, 11, 11, 11, 7, 5, 11, 0, 2, 11, 1, 7, 0, 7, 11, 6, 7, 11, 10, 11, 11, 0, 6, 2, 7, 11, 4, 11, 7, 3, 7, 6, 3, 11, 11, 11, 6, 6, 11, 6, 6, 0, 1, 6, 0, 1, 2, 6, 10, 3, 5, 10, 8, 2, 0, 7, 3, 11, 0, 6, 11, 5, 5, 6, 9, 0, 1, 2, 8, 6, 1, 6, 9, 2, 11, 1, 6, 0, 5, 0, 11, 11, 6, 1, 6, 11, 9, 1, 1, 11, 6, 11, 0, 0, 0, 1, 7, 2, 10, 11, 11, 6, 3, 6, 6, 6, 6, 2, 0, 6, 6, 7, 11, 11, 0, 6, 2, 0, 1, 11, 6, 9, 7, 10, 11, 11, 6, 11, 10, 0, 2, 6, 11, 6, 6, 1, 3, 11, 6, 9, 7, 7, 11, 10, 6, 11, 4, 1, 10, 2, 11, 10, 0, 11, 6, 6, 11, 7, 11, 9, 9, 0, 5, 11, 5, 7, 1, 9, 11, 9, 6, 11, 7, 7, 10, 8, 11, 1, 1, 7, 11, 10, 1, 7, 1, 7, 11, 11, 8, 11, 11, 1, 3, 6, 10, 10, 6, 6, 5, 0, 6, 9, 7, 6, 6, 11, 5, 8, 11, 11, 8, 11, 6, 9, 11, 6, 6, 1, 6, 5, 6, 6, 10, 8, 0, 11, 5, 3, 0, 10, 3, 0, 7, 8, 11, 10, 5, 11, 11, 1, 11, 11, 1, 6, 9, 10, 9, 6, 9, 4, 0, 9, 3, 6, 11, 1, 11, 7, 6, 10, 7, 7, 11, 7, 9, 1, 11, 1, 6, 11, 1, 1, 11, 6, 11, 0, 6, 10, 11, 6, 11, 10, 11, 11, 0, 11, 1, 1, 7, 0, 6, 6, 9, 1, 6, 1, 11, 6, 11, 6, 5, 0, 1, 11, 10, 1, 9, 6, 6, 6, 6, 0, 8, 5, 9, 7, 9, 11, 6, 11, 11, 10, 11, 0, 7, 11, 9, 0, 11, 5, 0, 6, 3, 6, 11, 6, 9, 11, 10, 11, 9, 10, 0, 11, 6, 11, 3, 10, 6, 6, 2, 9, 11, 11, 8, 6, 11, 9, 10, 3, 6, 7, 2, 11, 10, 3, 6, 7, 1, 6, 9, 0, 6, 11, 0, 6, 6, 10, 0, 6, 0, 11, 6, 11, 11, 11, 11, 2, 9, 0, 6, 10, 7, 7, 6, 7, 11, 6, 6, 2, 0, 10, 6, 6, 6, 6, 2, 0, 1, 0, 11, 6, 3, 7, 6, 10, 7, 11, 6, 6, 0, 11, 1, 9, 6, 6, 11, 0, 9, 6, 0, 9, 10, 0, 11, 6, 6, 10, 11, 11, 9, 11, 7, 6, 6, 3, 0, 10, 6, 1, 0, 6, 6, 6, 0, 3, 7, 6, 0, 11, 9, 11, 0, 11, 2, 9, 11, 10, 6, 11, 11, 4, 6, 0, 0, 1, 11, 6, 5, 7, 11, 0, 11, 6, 0, 10, 11, 10, 9, 9, 6, 11, 6, 10, 6, 3, 6, 11, 6, 7, 2, 11, 10, 7, 11, 11, 11, 6, 0, 6, 2, 6, 1, 6, 3, 0, 7, 6, 1, 6, 6, 6, 6, 11, 11, 11, 6, 11, 0, 2, 7, 10, 1, 11, 11, 5, 10, 1, 6, 6, 9, 11, 3, 5, 11, 6, 5, 2, 5, 11, 7, 11, 6, 11, 11, 0, 0, 0, 1, 11, 1, 7, 6, 6, 2, 5, 11, 6, 7, 9, 11, 3, 11, 0, 6, 11, 0, 0, 0, 3, 11, 7, 11, 11, 0, 3, 6, 2, 11, 11, 6, 11, 11, 0, 11, 0, 6, 6, 10, 2, 9, 1, 6, 10, 3, 7, 2, 0, 1, 11, 2, 2, 0, 6, 2, 11, 9, 11, 2, 10, 11, 11, 6, 0, 11, 6, 0, 11, 7, 6, 7, 2, 7, 10, 3, 0, 5, 6, 6, 0, 0, 1, 3, 11, 0, 2, 9, 9, 11, 5, 4, 7, 11, 11, 7, 11, 11, 0, 6, 2, 7, 4, 3, 6, 6, 5, 3, 6, 6, 6, 6, 2, 2, 11, 6, 6, 9, 6, 9, 11, 2, 3, 7, 0, 11, 7, 2, 9, 6, 11, 6, 0, 7, 11, 11, 11, 7, 2, 0, 2, 6, 11, 11, 6, 6, 7, 7, 11, 1, 10, 3, 2, 7, 11, 11, 11, 11, 11, 9, 11, 11, 0, 7, 5, 2, 7, 11, 11, 1, 2, 0, 9, 6, 6, 0, 6, 6, 6, 0, 0, 11, 6, 0, 11, 1, 2, 11, 6, 11, 11, 7, 10, 6, 0, 10, 7, 6, 0, 11, 6, 6, 1, 0, 0, 0, 9, 6, 6, 2, 0, 11, 5, 9, 7, 11, 6, 6, 1, 0, 7, 11, 6, 6, 0, 1, 3, 10, 1, 10, 0, 11, 2, 11, 11, 11, 10, 0, 6, 11, 10, 11, 4, 6, 9, 6, 1, 11, 0, 0, 11, 11, 6, 11, 1, 2, 11, 6, 0, 6, 11, 3, 0, 11, 10, 11, 10, 11, 7, 6, 0, 9, 6, 1, 1, 11, 10, 10, 6, 0, 6, 8, 7, 11, 3, 11, 11, 11, 11, 2, 6, 7, 6, 0, 10, 3, 6, 0, 0, 7, 2, 1, 7, 3, 6, 9, 0, 6, 7, 6, 6, 8, 2, 0, 10, 11, 6, 7, 11, 7, 11, 2, 7, 11, 4, 0, 6, 11, 0, 9, 2, 2, 6, 0, 9, 1, 6, 6, 7, 6, 4, 9, 1, 2, 11, 6, 10, 9, 6, 7, 0, 0, 11, 9, 5, 0, 5, 10, 3, 0, 9, 6, 11, 1, 11, 2, 0, 2, 7, 7, 6, 6, 0, 9, 6, 1, 0, 11, 11, 1, 10, 11, 0, 11, 7, 0, 1, 10, 5, 1, 2, 10, 0, 6, 5, 10, 2, 11, 1, 2, 7, 7, 3, 6, 4, 4, 6, 1, 5, 7, 1, 2, 6, 6, 11, 0, 3, 6, 6, 2, 7, 1, 6, 1, 7, 7, 1, 10, 0, 7, 0, 7, 6, 10, 11, 1, 11, 7, 11, 10, 6, 11, 11, 10, 0, 11, 11, 11, 7, 6, 7, 6, 11, 1, 11, 6, 4, 10, 3, 11, 11, 0, 7, 6, 7, 0, 1, 6, 11, 5, 2, 10, 11, 6, 7, 11, 6, 3, 6, 7, 1, 6, 3, 6, 0, 7, 7, 11, 0, 9, 9, 11, 6, 2, 10, 2, 5, 3, 9, 0, 1, 6, 5, 11, 7, 10, 1, 2, 5, 7, 11, 2, 11, 6, 0, 6, 10, 11, 8, 1, 0, 10, 11, 9, 5, 0, 11, 11, 0, 7, 11, 11, 2, 6, 6, 0, 7, 6, 11, 11, 5, 11, 11, 9, 0, 0, 8, 10, 0, 6, 6, 11, 0, 6, 11, 2, 2, 10, 10, 3, 1, 6, 11, 7, 11, 3, 9, 1, 0, 10, 1, 11, 10, 0, 6, 6, 0, 6, 10, 6, 2, 0, 11, 11, 11, 11, 0, 6, 6, 6, 9, 7, 7, 1, 3, 6, 11, 10, 6, 11, 0, 2, 6, 7, 6, 7, 10, 11, 11, 11, 9, 6, 2, 11, 10, 0, 6, 3, 11, 11, 11, 11, 11, 6, 6, 11, 7, 7, 2, 6, 11, 6, 7, 8, 0, 11, 2, 10, 11, 11, 6, 2, 0, 0, 6, 6, 3, 1, 6, 0, 0, 1, 1, 6, 10, 11, 6, 11, 11, 2, 11, 9, 7, 7, 6, 6, 6, 11, 10, 0, 0, 0, 6, 8, 11, 11, 7, 11, 11, 8, 1, 6, 7, 6, 0, 6, 11, 6, 7, 6, 11, 11, 11, 5, 6, 11, 11, 2, 6, 11, 1, 11, 2, 1, 6, 2, 0, 9, 5, 6, 7, 11, 6, 0, 0, 1, 0, 6, 7, 7, 11, 0, 7, 7, 7, 7, 11, 3, 7, 11, 0, 0, 7, 5, 7, 0, 10, 6, 7, 7, 11, 11, 9, 0, 11, 0, 7, 7, 10, 6, 7, 10, 7, 11, 7, 10, 0, 7, 11, 10, 7, 0, 6, 3, 7, 7, 7, 6, 0, 11, 9, 11, 0, 7, 10, 4, 7, 7, 7, 10, 7, 7, 7, 7, 7, 10, 9, 10, 0, 10, 7, 11, 7, 10, 0, 6, 10, 10, 5, 1, 6, 7, 11, 7, 7, 9, 0, 7, 7, 7, 11, 11, 7, 9, 0, 0, 7, 9, 7, 10, 0, 7, 7, 0, 7, 10, 11, 7, 7, 0, 7, 7, 0, 0, 7, 7, 7, 7, 7, 5, 3, 9, 0, 8, 0, 0, 1, 7, 7, 1, 5, 7, 0, 7, 7, 0, 11, 11, 0, 0, 6, 7, 9, 9, 7, 10, 7, 6, 2, 0, 7, 6, 7, 1, 7, 10, 5, 2, 2, 7, 0, 7, 11, 7, 7, 7, 7, 7, 11, 9, 9, 10, 10, 5, 7, 7, 11, 10, 11, 7, 7, 11, 7, 11, 10, 0, 9, 6, 11, 9, 7, 7, 6, 0, 7, 11, 11, 7, 0, 10, 2, 11, 10, 11, 7, 11, 11, 9, 11, 11, 9, 7, 10, 7, 11, 7, 7, 7, 0, 0, 7, 7, 6, 6, 7, 7, 6, 7, 11, 8, 0, 7, 5, 10, 7, 3, 11, 6, 11, 0, 0, 11, 5, 7, 11, 7, 0, 11, 0, 0, 9, 11, 0, 7, 10, 7, 7, 11, 0, 8, 0, 6, 7, 10, 7, 7, 11, 7, 7, 9, 7, 4, 8, 10, 7, 7, 7, 11, 0, 11, 0, 7, 7, 0, 7, 9, 6, 7, 0, 7, 0, 11, 10, 11, 3, 9, 0, 9, 2, 7, 0, 10, 7, 2, 10, 7, 7, 7, 3, 7, 5, 7, 7, 0, 7, 7, 7, 7, 6, 3, 7, 7, 11, 7, 9, 3, 2, 6, 0, 7, 5, 11, 11, 6, 7, 0, 9, 7, 7, 11, 3, 7, 9, 11, 10, 11, 7, 7, 9, 11, 11, 0, 7, 10, 11, 3, 7, 7, 8, 2, 8, 0, 0, 7, 7, 7, 10, 9, 3, 7, 0, 7, 7, 7, 7, 9, 11, 10, 7, 9, 7, 11, 11, 7, 0, 6, 10, 7, 10, 10, 7, 11, 7, 10, 6, 1, 0, 9, 6, 7, 11, 7, 6, 7, 7, 7, 7, 9, 7, 10, 7, 7, 7, 7, 0, 0, 0, 10, 7, 10, 7, 7, 7, 7, 9, 0, 11, 1, 5, 7, 6, 4, 7, 7, 6, 7, 7, 2, 2, 7, 11, 11, 11, 7, 0, 7, 7, 11, 3, 10, 11, 0, 9, 0, 10, 0, 9, 10, 3, 9, 5, 0, 11, 7, 7, 7, 0, 10, 7, 5, 11, 7, 6, 7, 6, 0, 5, 6, 7, 7, 7, 0, 0, 0, 0, 0, 6, 0, 7, 7, 10, 7, 10, 9, 0, 11, 7, 9, 7, 7, 5, 6, 7, 0, 7, 7, 1, 0, 11, 7, 7, 7, 10, 0, 10, 7, 2, 9, 2, 0, 0, 11, 0, 0, 7, 7, 10, 7, 7, 0, 7, 7, 0, 0, 0, 2, 0, 0, 0, 11, 7, 9, 0, 6, 11, 10, 11, 0, 6, 7, 7, 7, 7, 7, 1, 4, 0, 9, 10, 7, 10, 7, 7, 11, 7, 11, 7, 0, 9, 10, 7, 3, 11, 0, 11, 5, 7, 10, 7, 10, 0, 7, 7, 0, 0, 7, 11, 10, 11, 7, 9, 7, 7, 7, 7, 0, 9, 7, 11, 0, 7, 11, 7, 1, 5, 5, 7, 0, 7, 11, 10, 0, 11, 7, 7, 10, 7, 6, 10, 7, 5, 10, 7, 11, 7, 9, 8, 9, 7, 7, 5, 11, 11, 7, 0, 7, 7, 7, 3, 7, 10, 7, 4, 6, 0, 7, 7, 7, 3, 7, 7, 0, 9, 9, 10, 3, 9, 7, 7, 10, 7, 7, 6, 6, 6, 7, 5, 0, 1, 7, 7, 6, 7, 11, 2, 7, 7, 11, 7, 7, 7, 11, 7, 7, 9, 7, 9, 3, 0, 0, 10, 0, 11, 9, 10, 2, 7, 7, 0, 7, 10, 7, 7, 11, 11, 7, 0, 11, 7, 10, 11, 8, 7, 0, 11, 7, 7, 11, 0, 10, 11, 0, 11, 7, 7, 7, 7, 11, 7, 11, 7, 7, 0, 11, 2, 9, 7, 7, 11, 0, 7, 7, 7, 9, 0, 7, 7, 5, 7, 0, 7, 7, 5, 9, 0, 9, 6, 7, 0, 7, 7, 10, 7, 7, 6, 11, 7, 5, 7, 6, 9, 6, 11, 0, 10, 5, 0, 7, 0, 5, 4, 10, 2, 7, 9, 10, 6, 7, 7, 0, 7, 1, 10, 10, 0, 1, 7, 11, 7, 10, 10, 7, 11, 7, 7, 5, 6, 10, 9, 7, 10, 7, 9, 7, 7, 2, 7, 0, 11, 7, 1, 7, 10, 5, 0, 0, 0, 7, 9, 10, 0, 7, 9, 7, 0, 10, 7, 6, 2, 1, 6, 10, 3, 0, 11, 9, 11, 7, 7, 10, 7, 7, 7, 11, 9, 7, 7, 11, 7, 10, 11, 7, 7, 7, 7, 7, 7, 0, 10, 7, 7, 7, 7, 7, 0, 10, 7, 7, 7, 6, 0, 0, 3, 7, 7, 11, 7, 7, 10, 7, 0, 11, 6, 7, 0, 9, 7, 11, 7, 11, 0, 7, 9, 6, 7, 7, 0, 9, 7, 7, 0, 7, 11, 0, 7, 11, 10, 7, 0, 11, 7, 11, 7, 0, 5, 6, 0, 11, 7, 6, 7, 7, 10, 7, 7, 7, 6, 7, 6, 7, 3, 7, 7, 11, 6, 7, 0, 7, 11, 0, 7, 10, 7, 10, 7, 6, 3, 0, 9, 0, 0, 7, 10, 7, 7, 0, 0, 7, 0, 5, 1, 7, 7, 5, 7, 9, 10, 7, 0, 0, 0, 7, 7, 7, 0, 0, 9, 3, 7, 0, 7, 7, 7, 7, 11, 7, 11, 7, 10, 10, 9, 7, 8, 2, 11, 9, 2, 0, 9, 7, 10, 0, 3, 0, 2, 0, 7, 7, 11, 0, 7, 10, 11, 0, 0, 7, 7, 10, 11, 10, 6, 7, 6, 9, 11, 7, 6, 7, 3, 10, 7, 0, 7, 0, 0, 6, 5, 10, 5, 0, 7, 0, 11, 11, 7, 11, 7, 6, 11, 0, 7, 7, 7, 7, 7, 7, 10, 11, 10, 7, 0, 0, 11, 7, 11, 7, 2, 10, 1, 11, 10, 11, 5, 7, 0, 9, 0, 11, 7, 0, 7, 6, 7, 7, 0, 7, 11, 5, 6, 11, 11, 7, 6, 7, 7, 1, 7, 6, 7, 9, 7, 0, 0, 7, 9, 7, 7, 10, 11, 1, 11, 9, 9, 7, 0, 11, 7, 7, 0, 6, 1, 10, 11, 0, 7, 7, 1, 0, 11, 7, 11, 7, 7, 7, 6, 9, 10, 7, 5, 7, 11, 7, 7, 7, 0, 9, 7, 0, 7, 6, 11, 7, 0, 7, 10, 1, 7, 10, 7, 7, 9, 2, 10, 7, 0, 3, 7, 7, 7, 3, 7, 3, 7, 10, 9, 7, 7, 7, 9, 7, 0, 11, 10, 11, 7, 7, 7, 7, 7, 7, 7, 11, 7, 9, 8, 7, 6, 11, 9, 7, 9, 7, 10, 0, 11, 8, 8, 8, 8, 8, 8, 5, 5, 9, 10, 9, 2, 8, 4, 0, 8, 4, 2, 5, 8, 8, 8, 9, 8, 10, 8, 5, 5, 0, 2, 8, 4, 8, 8, 7, 0, 4, 5, 4, 8, 8, 0, 9, 5, 9, 8, 8, 0, 8, 5, 8, 9, 0, 8, 9, 8, 8, 4, 6, 0, 5, 8, 9, 5, 6, 11, 4, 0, 5, 11, 5, 8, 8, 8, 8, 8, 11, 8, 8, 4, 8, 8, 10, 1, 10, 8, 8, 5, 8, 8, 8, 5, 10, 4, 8, 8, 8, 5, 2, 8, 2, 4, 5, 8, 8, 8, 6, 8, 7, 8, 5, 8, 8, 0, 0, 8, 9, 5, 2, 0, 8, 9, 10, 7, 8, 5, 2, 5, 6, 5, 5, 4, 8, 10, 9, 8, 8, 5, 9, 8, 5, 2, 4, 8, 9, 8, 9, 9, 4, 5, 8, 2, 8, 11, 5, 8, 8, 2, 10, 8, 5, 0, 8, 5, 2, 5, 8, 11, 5, 8, 10, 8, 8, 2, 8, 8, 5, 4, 0, 2, 0, 10, 8, 8, 8, 5, 0, 8, 8, 5, 4, 9, 8, 8, 5, 5, 5, 7, 2, 8, 8, 8, 8, 5, 8, 8, 8, 8, 8, 8, 8, 5, 7, 8, 0, 5, 2, 0, 11, 8, 0, 8, 5, 4, 5, 5, 8, 5, 8, 8, 8, 5, 9, 8, 8, 8, 8, 8, 9, 8, 4, 4, 5, 8, 5, 11, 5, 9, 4, 9, 2, 4, 8, 2, 7, 5, 2, 5, 8, 4, 4, 10, 8, 8, 9, 4, 2, 5, 11, 0, 2, 2, 8, 5, 11, 0, 4, 8, 5, 5, 5, 0, 0, 8, 4, 8, 10, 2, 8, 8, 8, 2, 8, 2, 8, 5, 8, 8, 6, 2, 8, 5, 8, 9, 4, 8, 2, 8, 8, 11, 2, 0, 8, 8, 4, 8, 9, 8, 5, 2, 8, 5, 8, 8, 8, 5, 2, 5, 5, 4, 8, 8, 5, 11, 2, 9, 8, 8, 5, 1, 5, 7, 5, 9, 5, 7, 2, 4, 0, 2, 8, 5, 5, 9, 4, 8, 2, 0, 10, 8, 2, 3, 5, 8, 11, 2, 0, 0, 5, 5, 5, 5, 8, 8, 8, 8, 2, 8, 8, 8, 8, 10, 9, 5, 0, 5, 8, 0, 8, 8, 5, 7, 8, 4, 2, 10, 0, 8, 8, 8, 10, 8, 8, 9, 2, 8, 8, 9, 6, 0, 0, 9, 0, 5, 5, 5, 11, 8, 5, 8, 5, 4, 8, 5, 5, 5, 5, 2, 8, 2, 8, 8, 8, 0, 8, 8, 8, 8, 0, 8, 5, 2, 8, 4, 3, 2, 8, 8, 8, 8, 8, 2, 8, 8, 0, 8, 8, 8, 9, 0, 8, 0, 4, 5, 9, 8, 8, 9, 2, 8, 3, 8, 8, 3, 8, 5, 9, 8, 8, 5, 0, 8, 5, 8, 6, 8, 9, 10, 8, 8, 10, 8, 8, 0, 0, 2, 8, 0, 8, 0, 8, 8, 0, 9, 9, 2, 5, 0, 10, 8, 0, 9, 4, 0, 2, 9, 9, 9, 11, 2, 9, 5, 6, 9, 11, 2, 11, 11, 0, 9, 10, 8, 6, 8, 9, 7, 9, 9, 10, 6, 0, 10, 9, 10, 7, 9, 10, 6, 7, 10, 11, 9, 5, 6, 2, 9, 8, 2, 0, 5, 0, 11, 9, 10, 5, 9, 9, 6, 5, 9, 11, 2, 0, 6, 10, 10, 11, 0, 2, 9, 9, 9, 9, 11, 9, 0, 1, 0, 11, 9, 6, 9, 10, 5, 10, 0, 10, 11, 9, 10, 9, 8, 8, 9, 4, 9, 9, 9, 6, 11, 0, 5, 8, 9, 9, 11, 2, 6, 10, 10, 10, 9, 2, 9, 9, 10, 7, 0, 7, 6, 11, 10, 2, 0, 7, 11, 10, 1, 0, 1, 9, 9, 4, 9, 9, 9, 9, 6, 11, 9, 9, 11, 7, 7, 9, 10, 10, 7, 7, 9, 9, 8, 9, 10, 9, 8, 0, 7, 11, 2, 0, 2, 9, 5, 2, 5, 1, 10, 10, 9, 7, 10, 0, 0, 9, 5, 10, 0, 5, 7, 9, 9, 8, 8, 10, 2, 9, 7, 8, 1, 10, 5, 0, 9, 2, 2, 4, 0, 0, 5, 6, 9, 10, 9, 11, 10, 1, 10, 10, 10, 9, 8, 11, 2, 0, 8, 9, 10, 10, 10, 9, 8, 0, 10, 9, 10, 10, 10, 3, 9, 2, 0, 9, 10, 8, 11, 11, 9, 5, 11, 4, 7, 6, 11, 9, 8, 5, 11, 2, 10, 10, 0, 4, 5, 3, 9, 10, 11, 10, 0, 0, 7, 10, 11, 10, 5, 6, 5, 2, 0, 10, 0, 1, 10, 6, 7, 7, 0, 0, 0, 9, 9, 0, 6, 4, 9, 9, 9, 5, 9, 9, 11, 1, 9, 8, 10, 9, 9, 0, 2, 5, 11, 6, 7, 9, 0, 9, 9, 10, 7, 0, 9, 6, 10, 7, 5, 9, 9, 9, 11, 2, 5, 0, 10, 11, 2, 5, 8, 0, 10, 2, 9, 9, 11, 7, 7, 9, 8, 6, 7, 10, 1, 0, 8, 9, 11, 11, 10, 3, 9, 0, 10, 2, 10, 10, 9, 1, 5, 5, 6, 9, 9, 9, 5, 10, 0, 9, 0, 11, 10, 8, 10, 9, 4, 10, 9, 9, 10, 6, 1, 10, 10, 10, 10, 11, 11, 6, 8, 11, 10, 10, 9, 2, 6, 5, 5, 0, 9, 8, 9, 6, 8, 10, 10, 5, 10, 10, 5, 10, 9, 9, 5, 7, 9, 9, 7, 0, 8, 7, 6, 11, 0, 9, 4, 9, 8, 11, 9, 2, 11, 2, 8, 10, 9, 9, 7, 9, 10, 6, 7, 11, 9, 1, 9, 4, 10, 6, 10, 5, 2, 3, 5, 9, 11, 10, 9, 0, 9, 8, 10, 8, 11, 7, 7, 9, 11, 0, 11, 7, 0, 0, 5, 11, 2, 5, 4, 9, 8, 0, 11, 9, 3, 2, 11, 7, 10, 7, 7, 9, 10, 6, 8, 1, 10, 10, 0, 11, 0, 11, 0, 7, 7, 7, 2, 10, 9, 10, 11, 8, 11, 9, 0, 9, 0, 9, 11, 2, 5, 2, 5, 11, 4, 11, 8, 5, 7, 5, 7, 0, 9, 0, 11, 9, 6, 2, 2, 10, 11, 10, 1, 5, 4, 5, 9, 2, 10, 9, 10, 5, 0, 0, 9, 6, 9, 2, 10, 9, 2, 11, 0, 9, 5, 0, 7, 11, 9, 0, 2, 3, 0, 9, 10, 10, 9, 11, 8, 9, 2, 4, 10, 9, 0, 9, 9, 5, 9, 5, 0, 0, 9, 8, 10, 11, 3, 6, 9, 5, 11, 7, 0, 6, 9, 9, 0, 10, 11, 7, 0, 10, 0, 10, 11, 9, 0, 4, 0, 0, 9, 0, 9, 5, 9, 9, 5, 10, 9, 11, 5, 8, 5, 0, 4, 7, 3, 1, 9, 6, 9, 9, 11, 7, 0, 11, 5, 9, 5, 9, 1, 10, 5, 9, 5, 5, 10, 9, 11, 10, 5, 11, 11, 10, 9, 4, 10, 6, 9, 0, 10, 6, 11, 7, 9, 4, 6, 2, 6, 4, 2, 5, 0, 7, 4, 10, 10, 9, 9, 8, 7, 0, 10, 0, 0, 5, 9, 9, 11, 2, 0, 0, 0, 5, 7, 11, 0, 10, 8, 2, 5, 10, 0, 2, 8, 11, 6, 2, 10, 11, 10, 2, 7, 6, 10, 0, 5, 3, 2, 9, 2, 10, 6, 3, 9, 9, 9, 0, 10, 10, 5, 4, 4, 9, 0, 10, 9, 2, 2, 6, 9, 10, 10, 9, 4, 5, 0, 9, 5, 9, 7, 11, 6, 5, 9, 1, 9, 9, 6, 2, 11, 10, 4, 8, 0, 9, 11, 6, 0, 9, 10, 9, 10, 5, 9, 1, 5, 4, 10, 9, 11, 3, 5, 0, 9, 5, 6, 2, 10, 11, 9, 11, 0, 0, 8, 0, 9, 6, 11, 11, 7, 4, 3, 10, 9, 10, 4, 10, 11, 10, 0, 6, 2, 10, 0, 8, 10, 11, 3, 7, 0, 10, 11, 0, 0, 8, 10, 11, 2, 10, 0, 8, 7, 9, 10, 11, 7, 2, 10, 9, 7, 0, 6, 5, 8, 10, 5, 5, 9, 0, 11, 0, 9, 4, 1, 6, 10, 11, 7, 9, 11, 5, 9, 0, 9, 2, 9, 10, 8, 11, 8, 9, 6, 0, 6, 2, 9, 4, 5, 4, 11, 9, 9, 5, 9, 9, 0, 0, 10, 7, 10, 7, 11, 8, 5, 0, 7, 9, 9, 10, 10, 11, 9, 9, 9, 5, 4, 2, 8, 6, 11, 9, 11, 9, 5, 10, 10, 10, 9, 0, 7, 0, 10, 10, 9, 9, 2, 4, 2, 9, 0, 9, 5, 9, 0, 10, 10, 7, 2, 0, 2, 0, 9, 2, 10, 5, 9, 7, 2, 10, 1, 2, 9, 7, 7, 9, 9, 7, 9, 0, 0, 0, 10, 6, 2, 2, 2, 11, 2, 5, 4, 0, 0, 11, 4, 0, 0, 9, 3, 9, 11, 6, 9, 4, 9, 0, 7, 5, 2, 5, 9, 4, 7, 9, 4, 6, 2, 2, 9, 0, 9, 6, 10, 0, 10, 9, 5, 11, 10, 0, 8, 9, 7, 2, 11, 10, 5, 5, 10, 11, 8, 7, 7, 0, 9, 0, 10, 6, 10, 3, 10, 10, 9, 9, 0, 7, 10, 9, 10, 7, 10, 0, 9, 9, 5, 10, 10, 0, 0, 9, 5, 10, 7, 2, 7, 7, 2, 9, 6, 10, 11, 11, 7, 10, 10, 9, 9, 9, 3, 9, 9, 9, 11, 0, 10, 0, 0, 10, 9, 10, 5, 2, 9, 9, 0, 0, 5, 8, 2, 11, 9, 9, 5, 0, 10, 11, 6, 9, 11, 10, 10, 10, 11, 3, 3, 9, 11, 5, 3, 3, 10, 4, 5, 10, 10, 2, 9, 11, 7, 9, 7, 5, 9, 9, 4, 8, 0, 11, 0, 7, 10, 11, 9, 7, 8, 10, 10, 10, 11, 2, 9, 11, 10, 0, 11, 3, 0, 9, 10, 0, 10, 11, 0, 6, 5, 8, 8, 11, 2, 9, 9, 10, 9, 1, 10, 0, 7, 5, 0, 4, 2, 2, 10, 10, 3, 2, 2, 11, 9, 0, 9, 9, 10, 9, 7, 7, 11, 6, 0, 7, 7, 9, 10, 9, 9, 9, 9, 8, 9, 7, 10, 11, 11, 9, 9, 9, 0, 2, 10, 9, 0, 10, 10, 11, 9, 2, 2, 11, 8, 2, 1, 9, 2, 3, 9, 10, 9, 9, 9, 9, 10, 10, 10, 11, 9, 0, 9, 5, 1, 1, 9, 9, 9, 6, 11, 10, 10, 11, 4, 0, 8, 11, 0, 9, 4, 8, 11, 0, 9, 9, 0, 10, 3, 0, 6, 9, 6, 6, 9, 9, 9, 9, 10, 0, 9, 10, 11, 10, 10, 9, 5, 8, 5, 5, 6, 7, 9, 6, 0, 11, 4, 5, 10, 1, 10, 8, 0, 9, 10, 10, 5, 0, 11, 8, 4, 5, 0, 9, 11, 9, 9, 1, 9, 5, 11, 6, 5, 10, 1, 11, 9, 5, 0, 3, 7, 9, 11, 2, 2, 10, 9, 7, 8, 5, 11, 5, 5, 10, 9, 10, 0, 9, 11, 2, 11, 10, 11, 7, 11, 5, 11, 9, 9, 10, 2, 9, 0, 10, 0, 0, 9, 9, 5, 11, 4, 7, 11, 2, 9, 0, 0, 8, 9, 9, 7, 0, 11, 0, 2, 10, 2, 9, 6, 11, 10, 11, 1, 5, 4, 4, 10, 9, 10, 9, 11, 6, 1, 11, 9, 2, 11, 7, 2, 9, 5, 0, 10, 9, 10, 11, 7, 5, 9, 10, 0, 0, 2, 11, 4, 10, 3, 0, 10, 10, 10, 0, 0, 3, 9, 10, 4, 0, 11, 11, 6, 10, 7, 11, 8, 5, 10, 0, 0, 9, 10, 11, 8, 1, 0, 9, 5, 10, 11, 9, 10, 9, 8, 10, 9, 9, 2, 10, 10, 9, 2, 0, 10, 0, 10, 3, 5, 2, 10, 10, 4, 9, 0, 10, 8, 0, 11, 0, 6, 4, 2, 3, 9, 10, 9, 0, 9, 5, 5, 1, 10, 10, 0, 9, 10, 11, 9, 9, 9, 9, 0, 10, 1, 7, 0, 11, 11, 10, 4, 9, 10, 8, 5, 0, 0, 9, 9, 10, 6, 4, 10, 9, 2, 7, 11, 11, 10, 6, 8, 9, 4, 11, 9, 9, 2, 4, 10, 2, 9, 10, 8, 11, 8, 9, 10, 5, 10, 5, 11, 5, 10, 2, 11, 11, 1, 0, 0, 9, 1, 0, 3, 10, 8, 9, 2, 9, 6, 11, 4, 11, 10, 11, 9, 5, 0, 3, 11, 6, 10, 0, 10, 8, 0, 6, 7, 11, 2, 0, 9, 3, 2, 9, 0, 9, 11, 9, 10, 10, 6, 8, 0, 9, 10, 10, 8, 2, 2, 10, 10, 0, 9, 10, 9, 2, 9, 10, 9, 7, 11, 0, 10, 0, 2, 5, 11, 7, 7, 0, 9, 7, 6, 10, 0, 11, 10, 6, 10, 3, 5, 9, 10, 2, 0, 11, 4, 2, 8, 0, 9, 5, 10, 9, 8, 2, 6, 0, 7, 10, 0, 0, 5, 11, 5, 0, 10, 7, 3, 5, 2, 9, 2, 7, 10, 9, 9, 9, 8, 9, 10, 3, 11, 6, 9, 7, 11, 0, 6, 3, 10, 9, 9, 4, 0, 10, 5, 7, 2, 3, 9, 6, 5, 9, 9, 0, 1, 11, 0, 10, 9, 0, 4, 9, 9, 10, 10, 10, 0, 10, 3, 10, 10, 10, 10, 10, 8, 0, 9, 9, 9, 0, 10, 9, 10, 9, 10, 3, 2, 10, 7, 11, 0, 0, 11, 10, 9, 0, 9, 10, 10, 9, 10, 10, 10, 10, 9, 10, 10, 10, 10, 9, 10, 11, 7, 2, 9, 10, 0, 9, 11, 4, 10, 9, 10, 6, 10, 10, 6, 10, 10, 9, 10, 10, 9, 9, 10, 5, 10, 6, 6, 9, 0, 2, 10, 0, 10, 10, 5, 10, 2, 4, 11, 2, 10, 10, 10, 10, 10, 2, 0, 10, 9, 9, 2, 9, 10, 10, 3, 9, 10, 0, 8, 0, 10, 10, 11, 10, 10, 0, 11, 10, 10, 9, 10, 10, 3, 10, 9, 0, 8, 10, 5, 0, 0, 10, 10, 10, 10, 9, 2, 10, 10, 5, 9, 10, 0, 8, 10, 10, 2, 10, 11, 9, 10, 10, 10, 11, 10, 9, 10, 9, 9, 9, 10, 10, 2, 10, 11, 10, 10, 10, 7, 10, 9, 10, 10, 9, 5, 11, 10, 7, 10, 8, 2, 7, 10, 10, 10, 7, 10, 10, 10, 5, 2, 9, 5, 10, 10, 10, 0, 5, 7, 11, 6, 10, 3, 9, 10, 10, 5, 10, 9, 9, 10, 7, 2, 10, 3, 10, 10, 0, 0, 8, 10, 10, 5, 0, 9, 10, 0, 7, 9, 9, 9, 10, 9, 8, 10, 11, 11, 7, 10, 10, 8, 2, 10, 9, 9, 9, 10, 9, 9, 9, 9, 9, 0, 6, 8, 9, 2, 11, 10, 10, 0, 3, 6, 10, 7, 10, 10, 9, 9, 10, 10, 10, 3, 2, 10, 10, 10, 7, 10, 9, 9, 11, 2, 5, 10, 10, 0, 2, 10, 0, 10, 0, 4, 9, 10, 0, 3, 0, 10, 10, 9, 10, 10, 9, 10, 10, 10, 0, 10, 10, 2, 10, 10, 9, 4, 9, 9, 4, 9, 10, 9, 10, 6, 2, 7, 9, 10, 9, 10, 10, 6, 3, 10, 10, 10, 2, 10, 9, 10, 0, 5, 10, 10, 8, 9, 9, 6, 11, 9, 10, 10, 0, 10, 10, 2, 7, 9, 9, 8, 10, 9, 9, 11, 0, 8, 7, 10, 7, 10, 0, 5, 10, 6, 11, 5, 10, 9, 0, 7, 9, 10, 10, 9, 5, 0, 5, 0, 10, 9, 10, 9, 10, 6, 10, 0, 10, 2, 10, 9, 5, 10, 10, 7, 10, 9, 10, 1, 10, 10, 11, 10, 7, 6, 10, 0, 10, 10, 6, 11, 10, 4, 10, 10, 0, 0, 10, 1, 0, 0, 10, 10, 10, 0, 10, 2, 10, 10, 10, 7, 10, 10, 0, 5, 9, 10, 11, 6, 10, 5, 0, 9, 11, 10, 10, 7, 10, 10, 0, 10, 0, 10, 10, 10, 10, 10, 10, 10, 1, 7, 10, 10, 11, 10, 9, 4, 8, 10, 10, 4, 10, 0, 7, 9, 9, 7, 7, 10, 2, 10, 11, 10, 7, 10, 3, 9, 3, 9, 8, 0, 10, 9, 10, 10, 0, 11, 9, 11, 11, 9, 7, 10, 10, 10, 11, 10, 10, 10, 10, 10, 10, 4, 10, 7, 4, 6, 4, 10, 10, 10, 10, 0, 9, 10, 9, 10, 9, 9, 9, 0, 10, 8, 9, 10, 0, 8, 9, 2, 7, 10, 10, 0, 10, 10, 9, 10, 10, 0, 2, 0, 9, 0, 7, 11, 10, 10, 10, 10, 2, 10, 9, 9, 7, 10, 10, 10, 10, 0, 10, 7, 11, 9, 0, 11, 11, 9, 10, 10, 10, 9, 10, 11, 10, 5, 10, 9, 10, 10, 10, 10, 3, 10, 4, 10, 9, 10, 11, 7, 0, 0, 9, 2, 10, 3, 10, 2, 9, 10, 8, 10, 9, 1, 10, 0, 8, 10, 7, 0, 10, 10, 9, 10, 8, 10, 5, 3, 5, 10, 10, 0, 5, 10, 7, 10, 7, 0, 9, 3, 5, 7, 9, 10, 1, 10, 9, 6, 10, 10, 10, 9, 5, 10, 7, 9, 9, 10, 0, 0, 9, 10, 6, 11, 10, 10, 4, 10, 9, 10, 10, 9, 10, 10, 10, 10, 4, 10, 9, 9, 10, 10, 2, 10, 11, 0, 11, 10, 11, 5, 10, 1, 11, 7, 6, 5, 0, 9, 5, 1, 7, 6, 11, 9, 9, 11, 11, 6, 6, 11, 7, 10, 11, 11, 6, 11, 0, 11, 5, 11, 11, 11, 0, 0, 11, 3, 11, 7, 11, 11, 11, 11, 9, 2, 11, 11, 11, 11, 3, 11, 8, 11, 11, 10, 2, 11, 0, 9, 11, 0, 7, 7, 3, 7, 7, 11, 11, 10, 11, 9, 11, 0, 11, 0, 0, 11, 8, 5, 11, 7, 11, 7, 6, 11, 1, 11, 2, 5, 0, 11, 11, 0, 7, 5, 3, 7, 11, 1, 0, 11, 11, 0, 10, 11, 6, 0, 10, 0, 0, 11, 3, 1, 11, 3, 11, 11, 11, 11, 0, 6, 11, 11, 11, 11, 11, 11, 11, 11, 11, 0, 11, 10, 5, 10, 11, 0, 3, 11, 11, 9, 3, 0, 6, 1, 11, 0, 0, 11, 6, 11, 5, 0, 10, 5, 7, 6, 0, 0, 11, 2, 11, 11, 1, 8, 11, 0, 11, 6, 5, 7, 2, 7, 11, 0, 10, 7, 11, 10, 11, 8, 2, 9, 11, 0, 10, 0, 0, 9, 0, 3, 1, 6, 5, 8, 0, 11, 8, 7, 11, 11, 11, 7, 3, 11, 7, 7, 0, 0, 7, 11, 11, 7, 0, 0, 9, 5, 9, 0, 7, 6, 11, 11, 0, 0, 11, 10, 11, 8, 0, 11, 3, 11, 6, 11, 11, 0, 0, 6, 7, 2, 9, 0, 11, 7, 11, 0, 7, 0, 11, 2, 0, 11, 10, 0, 7, 7, 3, 11, 7, 6, 6, 7, 9, 7, 9, 11, 8, 10, 7, 6, 0, 11, 11, 11, 6, 11, 6, 10, 7, 11, 10, 11, 3, 3, 0, 7, 5, 6, 11, 11, 11, 3, 9, 7, 6, 3, 7, 10, 11, 11, 11, 0, 0, 11, 11, 5, 11, 5, 11, 11, 11, 6, 6, 11, 11, 9, 9, 10, 11, 7, 10, 5, 11, 11, 2, 11, 7, 6, 11, 4, 5, 7, 6, 11, 9, 11, 3, 0, 7, 5, 11, 10, 2, 9, 11, 0, 11, 7, 11, 1, 11, 0, 0, 0, 11, 9, 11, 7, 2, 7, 2, 0, 1, 0, 0, 11, 11, 6, 11, 5, 11, 11, 0, 3, 3, 1, 0, 1, 11, 7, 7, 11, 11, 7, 11, 6, 3, 11, 7, 11, 11, 0, 11, 2, 11, 2, 6, 7, 10, 0, 11, 5, 7, 11, 5, 11, 2, 11, 7, 5, 5, 11, 11, 0, 0, 0, 6, 11, 7, 9, 9, 9, 11, 6, 11, 9, 0, 11, 2, 0, 6, 11, 0, 10, 9, 10, 5, 9, 11, 11, 9, 11, 0, 3, 2, 11, 5, 7, 3, 7, 11, 10, 7, 1, 11, 7, 6, 11, 11, 5, 2, 9, 8, 11, 6, 3, 0, 11, 11, 6, 6, 0, 6, 11, 0, 9, 10, 11, 10, 0, 11, 11, 0, 11, 11, 5, 0, 11, 2, 0, 7, 11, 0, 3, 5, 11, 0, 11, 9, 6, 9, 11, 11, 6, 0, 11, 11, 3, 11, 5, 7, 7, 7, 11, 3, 0, 6, 6, 11, 11, 10, 1, 6, 10, 1, 11, 9, 0, 0, 11, 6, 8, 9, 0, 11, 9, 11, 7, 11, 7, 11, 3, 0, 5, 7, 7, 11, 10, 7, 11, 0, 11, 10, 11, 3, 1, 5, 6, 11, 0, 11, 11, 11, 3, 0, 6, 11, 5, 4, 7, 3, 11, 10, 11, 11, 6, 11, 11, 11, 6, 11, 6, 6, 11, 2, 5, 10, 11, 7, 11, 2, 3, 11, 9, 0, 9, 11, 0, 9, 3, 11, 5, 6, 11, 11, 7, 11, 5, 11, 1, 5, 5, 0, 11, 11, 0, 0, 11, 6, 3, 7, 6, 7, 9, 0, 11, 7, 7, 9, 3, 7, 0, 5, 11, 11, 10, 11, 6, 7, 11, 6, 5, 11, 6, 6, 7, 3, 0, 0, 10, 0, 11, 0, 0, 5, 5, 1, 2, 0, 7, 11, 9, 11, 1, 0, 7, 9, 11, 7, 11, 4, 0, 11, 11, 11, 7, 9, 2, 10, 11, 11, 0, 11, 1, 11, 3, 11, 11, 9, 3, 7, 11, 11, 7, 6, 11, 11, 11, 11, 9, 11, 1, 8, 11, 10, 11, 11, 11, 9, 7, 0, 11, 9, 10, 2, 11, 2, 5, 10, 11, 9, 11, 11, 11, 11, 0, 11, 11, 11, 3, 11, 5, 11, 5, 6, 9, 9, 0, 5, 7, 11, 2, 7, 5, 11, 0, 9, 9, 9, 0, 4, 10, 7, 6, 7, 0, 11, 5, 6, 0, 7, 2, 11, 0, 11, 11, 11, 0, 11, 11, 11, 0, 11, 0, 7, 6, 11, 10, 11, 1, 11, 11, 11, 0, 11, 6, 6, 11, 0, 11, 10, 11, 6, 0, 11, 11, 9, 2, 11, 11, 3, 10, 0, 8, 9, 0, 3, 11, 6, 10, 11, 0, 7, 3, 11, 6, 9, 0, 11, 7, 11, 7, 11, 11, 9, 11, 11, 11, 11, 7, 7, 1, 6, 11, 3, 7, 11, 11, 10, 5, 0, 11, 7, 11, 9, 6, 5, 3, 6, 11, 7, 7, 11, 0, 11, 5, 10, 7, 2, 11, 6, 7, 2, 11, 5, 11, 11, 11, 3, 3, 9, 0, 3, 10]\n"
          ]
        }
      ]
    },
    {
      "cell_type": "code",
      "metadata": {
        "colab": {
          "base_uri": "https://localhost:8080/",
          "height": 417
        },
        "id": "GUgX9P5zoZZq",
        "outputId": "41b0e78d-82a6-49a7-9780-33e945d1acd2"
      },
      "source": [
        "#prediction against test\n",
        "\n",
        "Y_test = test['labels']\n",
        "test_labels = Y_test.values.tolist()\n",
        "report = pd.DataFrame({'Actual': test_labels, 'Predicted': prediction})\n",
        "\n",
        "report"
      ],
      "execution_count": 35,
      "outputs": [
        {
          "output_type": "execute_result",
          "data": {
            "text/html": [
              "<div>\n",
              "<style scoped>\n",
              "    .dataframe tbody tr th:only-of-type {\n",
              "        vertical-align: middle;\n",
              "    }\n",
              "\n",
              "    .dataframe tbody tr th {\n",
              "        vertical-align: top;\n",
              "    }\n",
              "\n",
              "    .dataframe thead th {\n",
              "        text-align: right;\n",
              "    }\n",
              "</style>\n",
              "<table border=\"1\" class=\"dataframe\">\n",
              "  <thead>\n",
              "    <tr style=\"text-align: right;\">\n",
              "      <th></th>\n",
              "      <th>Actual</th>\n",
              "      <th>Predicted</th>\n",
              "    </tr>\n",
              "  </thead>\n",
              "  <tbody>\n",
              "    <tr>\n",
              "      <th>0</th>\n",
              "      <td>0</td>\n",
              "      <td>0</td>\n",
              "    </tr>\n",
              "    <tr>\n",
              "      <th>1</th>\n",
              "      <td>0</td>\n",
              "      <td>0</td>\n",
              "    </tr>\n",
              "    <tr>\n",
              "      <th>2</th>\n",
              "      <td>0</td>\n",
              "      <td>6</td>\n",
              "    </tr>\n",
              "    <tr>\n",
              "      <th>3</th>\n",
              "      <td>0</td>\n",
              "      <td>3</td>\n",
              "    </tr>\n",
              "    <tr>\n",
              "      <th>4</th>\n",
              "      <td>0</td>\n",
              "      <td>7</td>\n",
              "    </tr>\n",
              "    <tr>\n",
              "      <th>...</th>\n",
              "      <td>...</td>\n",
              "      <td>...</td>\n",
              "    </tr>\n",
              "    <tr>\n",
              "      <th>13480</th>\n",
              "      <td>11</td>\n",
              "      <td>3</td>\n",
              "    </tr>\n",
              "    <tr>\n",
              "      <th>13481</th>\n",
              "      <td>11</td>\n",
              "      <td>9</td>\n",
              "    </tr>\n",
              "    <tr>\n",
              "      <th>13482</th>\n",
              "      <td>11</td>\n",
              "      <td>0</td>\n",
              "    </tr>\n",
              "    <tr>\n",
              "      <th>13483</th>\n",
              "      <td>11</td>\n",
              "      <td>3</td>\n",
              "    </tr>\n",
              "    <tr>\n",
              "      <th>13484</th>\n",
              "      <td>11</td>\n",
              "      <td>10</td>\n",
              "    </tr>\n",
              "  </tbody>\n",
              "</table>\n",
              "<p>13485 rows × 2 columns</p>\n",
              "</div>"
            ],
            "text/plain": [
              "       Actual  Predicted\n",
              "0           0          0\n",
              "1           0          0\n",
              "2           0          6\n",
              "3           0          3\n",
              "4           0          7\n",
              "...       ...        ...\n",
              "13480      11          3\n",
              "13481      11          9\n",
              "13482      11          0\n",
              "13483      11          3\n",
              "13484      11         10\n",
              "\n",
              "[13485 rows x 2 columns]"
            ]
          },
          "metadata": {},
          "execution_count": 35
        }
      ]
    },
    {
      "cell_type": "code",
      "metadata": {
        "id": "3lS1M_t_pGgX"
      },
      "source": [
        "# Accumulate the number of each [actual, prediction] pair\n",
        "\n",
        "numbers = report.groupby(['Actual', 'Predicted']).size()\n",
        "\n",
        "pair_values = pd.DataFrame(numbers)"
      ],
      "execution_count": 36,
      "outputs": []
    },
    {
      "cell_type": "code",
      "metadata": {
        "colab": {
          "base_uri": "https://localhost:8080/",
          "height": 447
        },
        "id": "_j8H3hXvpIt_",
        "outputId": "e9647afc-59fa-4bd5-fed1-6a4433283942"
      },
      "source": [
        "pair_values"
      ],
      "execution_count": 37,
      "outputs": [
        {
          "output_type": "execute_result",
          "data": {
            "text/html": [
              "<div>\n",
              "<style scoped>\n",
              "    .dataframe tbody tr th:only-of-type {\n",
              "        vertical-align: middle;\n",
              "    }\n",
              "\n",
              "    .dataframe tbody tr th {\n",
              "        vertical-align: top;\n",
              "    }\n",
              "\n",
              "    .dataframe thead th {\n",
              "        text-align: right;\n",
              "    }\n",
              "</style>\n",
              "<table border=\"1\" class=\"dataframe\">\n",
              "  <thead>\n",
              "    <tr style=\"text-align: right;\">\n",
              "      <th></th>\n",
              "      <th></th>\n",
              "      <th>0</th>\n",
              "    </tr>\n",
              "    <tr>\n",
              "      <th>Actual</th>\n",
              "      <th>Predicted</th>\n",
              "      <th></th>\n",
              "    </tr>\n",
              "  </thead>\n",
              "  <tbody>\n",
              "    <tr>\n",
              "      <th rowspan=\"5\" valign=\"top\">0</th>\n",
              "      <th>0</th>\n",
              "      <td>568</td>\n",
              "    </tr>\n",
              "    <tr>\n",
              "      <th>1</th>\n",
              "      <td>68</td>\n",
              "    </tr>\n",
              "    <tr>\n",
              "      <th>2</th>\n",
              "      <td>82</td>\n",
              "    </tr>\n",
              "    <tr>\n",
              "      <th>3</th>\n",
              "      <td>61</td>\n",
              "    </tr>\n",
              "    <tr>\n",
              "      <th>4</th>\n",
              "      <td>11</td>\n",
              "    </tr>\n",
              "    <tr>\n",
              "      <th>...</th>\n",
              "      <th>...</th>\n",
              "      <td>...</td>\n",
              "    </tr>\n",
              "    <tr>\n",
              "      <th rowspan=\"5\" valign=\"top\">11</th>\n",
              "      <th>7</th>\n",
              "      <td>98</td>\n",
              "    </tr>\n",
              "    <tr>\n",
              "      <th>8</th>\n",
              "      <td>12</td>\n",
              "    </tr>\n",
              "    <tr>\n",
              "      <th>9</th>\n",
              "      <td>58</td>\n",
              "    </tr>\n",
              "    <tr>\n",
              "      <th>10</th>\n",
              "      <td>48</td>\n",
              "    </tr>\n",
              "    <tr>\n",
              "      <th>11</th>\n",
              "      <td>312</td>\n",
              "    </tr>\n",
              "  </tbody>\n",
              "</table>\n",
              "<p>144 rows × 1 columns</p>\n",
              "</div>"
            ],
            "text/plain": [
              "                    0\n",
              "Actual Predicted     \n",
              "0      0          568\n",
              "       1           68\n",
              "       2           82\n",
              "       3           61\n",
              "       4           11\n",
              "...               ...\n",
              "11     7           98\n",
              "       8           12\n",
              "       9           58\n",
              "       10          48\n",
              "       11         312\n",
              "\n",
              "[144 rows x 1 columns]"
            ]
          },
          "metadata": {},
          "execution_count": 37
        }
      ]
    },
    {
      "cell_type": "code",
      "metadata": {
        "id": "HB8RJYT5pL_P"
      },
      "source": [
        "# Create confusion matrix\n",
        "import seaborn\n",
        "data=[]\n",
        "\n",
        "used_pair_values = pair_values[0]\n",
        "\n",
        "for i in range(12):\n",
        "  row = []\n",
        "  for j in range(12):\n",
        "    row.append(used_pair_values[i][j])\n",
        "  data.append(row)\n",
        "\n",
        "emojis = train[\"annotations\"].unique()\n",
        "final = pd.DataFrame(data, index=emojis, columns=emojis)\n",
        "\n",
        "final.index.name=\"Actual\"\n",
        "\n",
        "final.columns.name=\"Predicted\"\n",
        "\n",
        "\n"
      ],
      "execution_count": 38,
      "outputs": []
    },
    {
      "cell_type": "code",
      "metadata": {
        "colab": {
          "base_uri": "https://localhost:8080/",
          "height": 450
        },
        "id": "BRUCo9zXpj62",
        "outputId": "a42ea8ac-a81a-4539-c218-cbededfc243d"
      },
      "source": [
        "final"
      ],
      "execution_count": 39,
      "outputs": [
        {
          "output_type": "execute_result",
          "data": {
            "text/html": [
              "<div>\n",
              "<style scoped>\n",
              "    .dataframe tbody tr th:only-of-type {\n",
              "        vertical-align: middle;\n",
              "    }\n",
              "\n",
              "    .dataframe tbody tr th {\n",
              "        vertical-align: top;\n",
              "    }\n",
              "\n",
              "    .dataframe thead th {\n",
              "        text-align: right;\n",
              "    }\n",
              "</style>\n",
              "<table border=\"1\" class=\"dataframe\">\n",
              "  <thead>\n",
              "    <tr style=\"text-align: right;\">\n",
              "      <th>Predicted</th>\n",
              "      <th>😂</th>\n",
              "      <th>😭</th>\n",
              "      <th>😍</th>\n",
              "      <th>🙄</th>\n",
              "      <th>❤</th>\n",
              "      <th>😊</th>\n",
              "      <th>😩</th>\n",
              "      <th>🤔</th>\n",
              "      <th>😘</th>\n",
              "      <th>🏽</th>\n",
              "      <th>💯</th>\n",
              "      <th>🙃</th>\n",
              "    </tr>\n",
              "    <tr>\n",
              "      <th>Actual</th>\n",
              "      <th></th>\n",
              "      <th></th>\n",
              "      <th></th>\n",
              "      <th></th>\n",
              "      <th></th>\n",
              "      <th></th>\n",
              "      <th></th>\n",
              "      <th></th>\n",
              "      <th></th>\n",
              "      <th></th>\n",
              "      <th></th>\n",
              "      <th></th>\n",
              "    </tr>\n",
              "  </thead>\n",
              "  <tbody>\n",
              "    <tr>\n",
              "      <th>😂</th>\n",
              "      <td>568</td>\n",
              "      <td>68</td>\n",
              "      <td>82</td>\n",
              "      <td>61</td>\n",
              "      <td>11</td>\n",
              "      <td>121</td>\n",
              "      <td>92</td>\n",
              "      <td>215</td>\n",
              "      <td>41</td>\n",
              "      <td>134</td>\n",
              "      <td>175</td>\n",
              "      <td>236</td>\n",
              "    </tr>\n",
              "    <tr>\n",
              "      <th>😭</th>\n",
              "      <td>324</td>\n",
              "      <td>171</td>\n",
              "      <td>100</td>\n",
              "      <td>71</td>\n",
              "      <td>27</td>\n",
              "      <td>45</td>\n",
              "      <td>216</td>\n",
              "      <td>129</td>\n",
              "      <td>44</td>\n",
              "      <td>89</td>\n",
              "      <td>94</td>\n",
              "      <td>260</td>\n",
              "    </tr>\n",
              "    <tr>\n",
              "      <th>😍</th>\n",
              "      <td>137</td>\n",
              "      <td>26</td>\n",
              "      <td>411</td>\n",
              "      <td>8</td>\n",
              "      <td>50</td>\n",
              "      <td>70</td>\n",
              "      <td>72</td>\n",
              "      <td>62</td>\n",
              "      <td>69</td>\n",
              "      <td>114</td>\n",
              "      <td>16</td>\n",
              "      <td>58</td>\n",
              "    </tr>\n",
              "    <tr>\n",
              "      <th>🙄</th>\n",
              "      <td>217</td>\n",
              "      <td>36</td>\n",
              "      <td>23</td>\n",
              "      <td>102</td>\n",
              "      <td>4</td>\n",
              "      <td>38</td>\n",
              "      <td>127</td>\n",
              "      <td>133</td>\n",
              "      <td>13</td>\n",
              "      <td>75</td>\n",
              "      <td>143</td>\n",
              "      <td>304</td>\n",
              "    </tr>\n",
              "    <tr>\n",
              "      <th>❤</th>\n",
              "      <td>48</td>\n",
              "      <td>23</td>\n",
              "      <td>103</td>\n",
              "      <td>4</td>\n",
              "      <td>155</td>\n",
              "      <td>93</td>\n",
              "      <td>9</td>\n",
              "      <td>26</td>\n",
              "      <td>152</td>\n",
              "      <td>63</td>\n",
              "      <td>25</td>\n",
              "      <td>30</td>\n",
              "    </tr>\n",
              "    <tr>\n",
              "      <th>😊</th>\n",
              "      <td>92</td>\n",
              "      <td>10</td>\n",
              "      <td>57</td>\n",
              "      <td>5</td>\n",
              "      <td>37</td>\n",
              "      <td>174</td>\n",
              "      <td>24</td>\n",
              "      <td>41</td>\n",
              "      <td>95</td>\n",
              "      <td>72</td>\n",
              "      <td>55</td>\n",
              "      <td>81</td>\n",
              "    </tr>\n",
              "    <tr>\n",
              "      <th>😩</th>\n",
              "      <td>159</td>\n",
              "      <td>94</td>\n",
              "      <td>79</td>\n",
              "      <td>50</td>\n",
              "      <td>12</td>\n",
              "      <td>40</td>\n",
              "      <td>277</td>\n",
              "      <td>118</td>\n",
              "      <td>18</td>\n",
              "      <td>69</td>\n",
              "      <td>89</td>\n",
              "      <td>303</td>\n",
              "    </tr>\n",
              "    <tr>\n",
              "      <th>🤔</th>\n",
              "      <td>191</td>\n",
              "      <td>21</td>\n",
              "      <td>24</td>\n",
              "      <td>28</td>\n",
              "      <td>6</td>\n",
              "      <td>36</td>\n",
              "      <td>69</td>\n",
              "      <td>475</td>\n",
              "      <td>10</td>\n",
              "      <td>84</td>\n",
              "      <td>116</td>\n",
              "      <td>156</td>\n",
              "    </tr>\n",
              "    <tr>\n",
              "      <th>😘</th>\n",
              "      <td>46</td>\n",
              "      <td>2</td>\n",
              "      <td>46</td>\n",
              "      <td>4</td>\n",
              "      <td>34</td>\n",
              "      <td>91</td>\n",
              "      <td>7</td>\n",
              "      <td>9</td>\n",
              "      <td>203</td>\n",
              "      <td>37</td>\n",
              "      <td>19</td>\n",
              "      <td>14</td>\n",
              "    </tr>\n",
              "    <tr>\n",
              "      <th>🏽</th>\n",
              "      <td>218</td>\n",
              "      <td>35</td>\n",
              "      <td>122</td>\n",
              "      <td>37</td>\n",
              "      <td>59</td>\n",
              "      <td>132</td>\n",
              "      <td>85</td>\n",
              "      <td>108</td>\n",
              "      <td>80</td>\n",
              "      <td>378</td>\n",
              "      <td>285</td>\n",
              "      <td>184</td>\n",
              "    </tr>\n",
              "    <tr>\n",
              "      <th>💯</th>\n",
              "      <td>68</td>\n",
              "      <td>5</td>\n",
              "      <td>31</td>\n",
              "      <td>16</td>\n",
              "      <td>14</td>\n",
              "      <td>25</td>\n",
              "      <td>18</td>\n",
              "      <td>38</td>\n",
              "      <td>19</td>\n",
              "      <td>120</td>\n",
              "      <td>300</td>\n",
              "      <td>36</td>\n",
              "    </tr>\n",
              "    <tr>\n",
              "      <th>🙃</th>\n",
              "      <td>126</td>\n",
              "      <td>23</td>\n",
              "      <td>30</td>\n",
              "      <td>46</td>\n",
              "      <td>4</td>\n",
              "      <td>52</td>\n",
              "      <td>71</td>\n",
              "      <td>98</td>\n",
              "      <td>12</td>\n",
              "      <td>58</td>\n",
              "      <td>48</td>\n",
              "      <td>312</td>\n",
              "    </tr>\n",
              "  </tbody>\n",
              "</table>\n",
              "</div>"
            ],
            "text/plain": [
              "Predicted    😂    😭    😍    🙄    ❤    😊    😩    🤔    😘    🏽    💯    🙃\n",
              "Actual                                                               \n",
              "😂          568   68   82   61   11  121   92  215   41  134  175  236\n",
              "😭          324  171  100   71   27   45  216  129   44   89   94  260\n",
              "😍          137   26  411    8   50   70   72   62   69  114   16   58\n",
              "🙄          217   36   23  102    4   38  127  133   13   75  143  304\n",
              "❤           48   23  103    4  155   93    9   26  152   63   25   30\n",
              "😊           92   10   57    5   37  174   24   41   95   72   55   81\n",
              "😩          159   94   79   50   12   40  277  118   18   69   89  303\n",
              "🤔          191   21   24   28    6   36   69  475   10   84  116  156\n",
              "😘           46    2   46    4   34   91    7    9  203   37   19   14\n",
              "🏽          218   35  122   37   59  132   85  108   80  378  285  184\n",
              "💯           68    5   31   16   14   25   18   38   19  120  300   36\n",
              "🙃          126   23   30   46    4   52   71   98   12   58   48  312"
            ]
          },
          "metadata": {},
          "execution_count": 39
        }
      ]
    },
    {
      "cell_type": "code",
      "metadata": {
        "colab": {
          "base_uri": "https://localhost:8080/",
          "height": 632
        },
        "id": "UGJVw72XpleH",
        "outputId": "8f11b26b-b13e-4112-8d6c-b882afff4402"
      },
      "source": [
        "#Raw confusion matrix\n",
        "\n",
        "sns.heatmap(final)"
      ],
      "execution_count": 40,
      "outputs": [
        {
          "output_type": "stream",
          "name": "stderr",
          "text": [
            "/usr/local/lib/python3.7/dist-packages/matplotlib/backends/backend_agg.py:214: RuntimeWarning: Glyph 128580 missing from current font.\n",
            "  font.set_text(s, 0.0, flags=flags)\n",
            "/usr/local/lib/python3.7/dist-packages/matplotlib/backends/backend_agg.py:214: RuntimeWarning: Glyph 129300 missing from current font.\n",
            "  font.set_text(s, 0.0, flags=flags)\n",
            "/usr/local/lib/python3.7/dist-packages/matplotlib/backends/backend_agg.py:214: RuntimeWarning: Glyph 127997 missing from current font.\n",
            "  font.set_text(s, 0.0, flags=flags)\n",
            "/usr/local/lib/python3.7/dist-packages/matplotlib/backends/backend_agg.py:214: RuntimeWarning: Glyph 128175 missing from current font.\n",
            "  font.set_text(s, 0.0, flags=flags)\n",
            "/usr/local/lib/python3.7/dist-packages/matplotlib/backends/backend_agg.py:214: RuntimeWarning: Glyph 128579 missing from current font.\n",
            "  font.set_text(s, 0.0, flags=flags)\n",
            "/usr/local/lib/python3.7/dist-packages/matplotlib/backends/backend_agg.py:183: RuntimeWarning: Glyph 128580 missing from current font.\n",
            "  font.set_text(s, 0, flags=flags)\n",
            "/usr/local/lib/python3.7/dist-packages/matplotlib/backends/backend_agg.py:183: RuntimeWarning: Glyph 129300 missing from current font.\n",
            "  font.set_text(s, 0, flags=flags)\n",
            "/usr/local/lib/python3.7/dist-packages/matplotlib/backends/backend_agg.py:183: RuntimeWarning: Glyph 127997 missing from current font.\n",
            "  font.set_text(s, 0, flags=flags)\n",
            "/usr/local/lib/python3.7/dist-packages/matplotlib/backends/backend_agg.py:183: RuntimeWarning: Glyph 128175 missing from current font.\n",
            "  font.set_text(s, 0, flags=flags)\n",
            "/usr/local/lib/python3.7/dist-packages/matplotlib/backends/backend_agg.py:183: RuntimeWarning: Glyph 128579 missing from current font.\n",
            "  font.set_text(s, 0, flags=flags)\n"
          ]
        },
        {
          "output_type": "execute_result",
          "data": {
            "text/plain": [
              "<matplotlib.axes._subplots.AxesSubplot at 0x7f6277e10410>"
            ]
          },
          "metadata": {},
          "execution_count": 40
        },
        {
          "output_type": "display_data",
          "data": {
            "image/png": "[encoded data removed]",
            "text/plain": [
              "<Figure size 432x288 with 2 Axes>"
            ]
          },
          "metadata": {
            "needs_background": "light"
          }
        }
      ]
    },
    {
      "cell_type": "code",
      "metadata": {
        "id": "LVvdkey0puhe"
      },
      "source": [
        "# Micro-average evaluation is used as the dataset is imbalanced\n",
        "\n",
        "True_Positive = [0]*12\n",
        "True_Negative = [0]*12\n",
        "False_Positive = [0]*12\n",
        "False_Negative = [0]*12\n",
        "\n",
        "for i in range(12):\n",
        "  True_Positive[i] = used_pair_values[i][i]\n",
        "  for j in range(12):\n",
        "    for k in range(12):\n",
        "      if i == k and j != k:\n",
        "        False_Negative[k] += used_pair_values[i][j]\n",
        "      elif i != k and j == k:\n",
        "        False_Positive[k] += used_pair_values[i][j]\n",
        "      else:\n",
        "        True_Negative[k] += used_pair_values[i][j]\n",
        "\n",
        "TP = sum(True_Positive)/12\n",
        "TN = sum(True_Negative)/12\n",
        "FP = sum(False_Positive)/12\n",
        "FN = sum(False_Negative)/12"
      ],
      "execution_count": 41,
      "outputs": []
    },
    {
      "cell_type": "code",
      "metadata": {
        "colab": {
          "base_uri": "https://localhost:8080/"
        },
        "id": "ZPVcvEQzpzme",
        "outputId": "ac24e6e7-092a-4f32-f2ed-0c1f67fa3742"
      },
      "source": [
        "print(\"True Positive: \"+str(TP))\n",
        "print(\"True Negative: \"+str(TN))\n",
        "print(\"False Positive: \"+str(FP))\n",
        "print(\"False Negative: \"+str(FN))"
      ],
      "execution_count": 42,
      "outputs": [
        {
          "output_type": "stream",
          "name": "stdout",
          "text": [
            "True Positive: 293.8333333333333\n",
            "True Negative: 11825.166666666666\n",
            "False Positive: 829.9166666666666\n",
            "False Negative: 829.9166666666666\n"
          ]
        }
      ]
    },
    {
      "cell_type": "code",
      "metadata": {
        "colab": {
          "base_uri": "https://localhost:8080/",
          "height": 269
        },
        "id": "Merf0Tl9p2qW",
        "outputId": "91e8dd9a-8086-4346-d4fa-491aaee86769"
      },
      "source": [
        "#Confusion matrix\n",
        "\n",
        "cleaned_confusion_matrix = [[TP, FP],[FN, TN]]\n",
        "heatmap = plt.pcolor(cleaned_confusion_matrix)\n",
        "plt.colorbar(heatmap)\n",
        "plt.show()"
      ],
      "execution_count": 43,
      "outputs": [
        {
          "output_type": "display_data",
          "data": {
            "image/png": "[encoded data removed]",
            "text/plain": [
              "<Figure size 432x288 with 2 Axes>"
            ]
          },
          "metadata": {
            "needs_background": "light"
          }
        }
      ]
    },
    {
      "cell_type": "code",
      "metadata": {
        "id": "TfkqWH3Ap9Qf"
      },
      "source": [
        "# Calculate precsion and recall and F1\n",
        "\n",
        "Precision = TP/(TP+FP)\n",
        "Recall = TP/(TP+FN)\n",
        "F1 = 2/((1/Precision)+(1/Recall))"
      ],
      "execution_count": 44,
      "outputs": []
    },
    {
      "cell_type": "code",
      "metadata": {
        "colab": {
          "base_uri": "https://localhost:8080/"
        },
        "id": "kSSLHhUEp-CX",
        "outputId": "79cec382-4059-48d8-88f2-a85403537123"
      },
      "source": [
        "print(\"Precision: \"+str(Precision))\n",
        "print(\"Recall: \"+str(Recall))\n",
        "print(\"F1 score: \"+str(F1))"
      ],
      "execution_count": 45,
      "outputs": [
        {
          "output_type": "stream",
          "name": "stdout",
          "text": [
            "Precision: 0.2614757137560252\n",
            "Recall: 0.2614757137560252\n",
            "F1 score: 0.2614757137560252\n"
          ]
        }
      ]
    }
  ]
}