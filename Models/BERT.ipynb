{
  "nbformat": 4,
  "nbformat_minor": 0,
  "metadata": {
    "accelerator": "GPU",
    "colab": {
      "name": "CS3244-TFBertForSequenceClassification-Kevin.ipynb",
      "provenance": [],
      "collapsed_sections": [],
      "machine_shape": "hm"
    },
    "kernelspec": {
      "display_name": "Python 3",
      "name": "python3"
    },
    "language_info": {
      "name": "python"
    },
    "widgets": {
      "application/vnd.jupyter.widget-state+json": {
        "98e32a580dbe41adbaa4024bff6e0633": {
          "model_module": "@jupyter-widgets/controls",
          "model_name": "HBoxModel",
          "model_module_version": "1.5.0",
          "state": {
            "_view_name": "HBoxView",
            "_dom_classes": [],
            "_model_name": "HBoxModel",
            "_view_module": "@jupyter-widgets/controls",
            "_model_module_version": "1.5.0",
            "_view_count": null,
            "_view_module_version": "1.5.0",
            "box_style": "",
            "layout": "IPY_MODEL_36346c4e3bf24fed9ad1e439a12ee1c4",
            "_model_module": "@jupyter-widgets/controls",
            "children": [
              "IPY_MODEL_9512a51e61474d3cb3d1fc1d2c6ce7e6",
              "IPY_MODEL_26a91ce46eea4f59b099020b269ad9da",
              "IPY_MODEL_931430daecb14013bf65a9110cfc4c59"
            ]
          }
        },
        "36346c4e3bf24fed9ad1e439a12ee1c4": {
          "model_module": "@jupyter-widgets/base",
          "model_name": "LayoutModel",
          "model_module_version": "1.2.0",
          "state": {
            "_view_name": "LayoutView",
            "grid_template_rows": null,
            "right": null,
            "justify_content": null,
            "_view_module": "@jupyter-widgets/base",
            "overflow": null,
            "_model_module_version": "1.2.0",
            "_view_count": null,
            "flex_flow": null,
            "width": null,
            "min_width": null,
            "border": null,
            "align_items": null,
            "bottom": null,
            "_model_module": "@jupyter-widgets/base",
            "top": null,
            "grid_column": null,
            "overflow_y": null,
            "overflow_x": null,
            "grid_auto_flow": null,
            "grid_area": null,
            "grid_template_columns": null,
            "flex": null,
            "_model_name": "LayoutModel",
            "justify_items": null,
            "grid_row": null,
            "max_height": null,
            "align_content": null,
            "visibility": null,
            "align_self": null,
            "height": null,
            "min_height": null,
            "padding": null,
            "grid_auto_rows": null,
            "grid_gap": null,
            "max_width": null,
            "order": null,
            "_view_module_version": "1.2.0",
            "grid_template_areas": null,
            "object_position": null,
            "object_fit": null,
            "grid_auto_columns": null,
            "margin": null,
            "display": null,
            "left": null
          }
        },
        "9512a51e61474d3cb3d1fc1d2c6ce7e6": {
          "model_module": "@jupyter-widgets/controls",
          "model_name": "HTMLModel",
          "model_module_version": "1.5.0",
          "state": {
            "_view_name": "HTMLView",
            "style": "IPY_MODEL_82d3d1057e5a48b599f9c055e274b6e9",
            "_dom_classes": [],
            "description": "",
            "_model_name": "HTMLModel",
            "placeholder": "​",
            "_view_module": "@jupyter-widgets/controls",
            "_model_module_version": "1.5.0",
            "value": "Downloading: 100%",
            "_view_count": null,
            "_view_module_version": "1.5.0",
            "description_tooltip": null,
            "_model_module": "@jupyter-widgets/controls",
            "layout": "IPY_MODEL_cd36a3d9bf5e42149db3734a442cd09c"
          }
        },
        "26a91ce46eea4f59b099020b269ad9da": {
          "model_module": "@jupyter-widgets/controls",
          "model_name": "FloatProgressModel",
          "model_module_version": "1.5.0",
          "state": {
            "_view_name": "ProgressView",
            "style": "IPY_MODEL_c8d80d7eec4a472fa0320f9187ca6587",
            "_dom_classes": [],
            "description": "",
            "_model_name": "FloatProgressModel",
            "bar_style": "success",
            "max": 231508,
            "_view_module": "@jupyter-widgets/controls",
            "_model_module_version": "1.5.0",
            "value": 231508,
            "_view_count": null,
            "_view_module_version": "1.5.0",
            "orientation": "horizontal",
            "min": 0,
            "description_tooltip": null,
            "_model_module": "@jupyter-widgets/controls",
            "layout": "IPY_MODEL_55c8387d107943089c121bf582abe613"
          }
        },
        "931430daecb14013bf65a9110cfc4c59": {
          "model_module": "@jupyter-widgets/controls",
          "model_name": "HTMLModel",
          "model_module_version": "1.5.0",
          "state": {
            "_view_name": "HTMLView",
            "style": "IPY_MODEL_83440cfb221d402da10593a4dc95af26",
            "_dom_classes": [],
            "description": "",
            "_model_name": "HTMLModel",
            "placeholder": "​",
            "_view_module": "@jupyter-widgets/controls",
            "_model_module_version": "1.5.0",
            "value": " 226k/226k [00:00&lt;00:00, 586kB/s]",
            "_view_count": null,
            "_view_module_version": "1.5.0",
            "description_tooltip": null,
            "_model_module": "@jupyter-widgets/controls",
            "layout": "IPY_MODEL_8e520e13a34f442cb3c4019ae620af30"
          }
        },
        "82d3d1057e5a48b599f9c055e274b6e9": {
          "model_module": "@jupyter-widgets/controls",
          "model_name": "DescriptionStyleModel",
          "model_module_version": "1.5.0",
          "state": {
            "_view_name": "StyleView",
            "_model_name": "DescriptionStyleModel",
            "description_width": "",
            "_view_module": "@jupyter-widgets/base",
            "_model_module_version": "1.5.0",
            "_view_count": null,
            "_view_module_version": "1.2.0",
            "_model_module": "@jupyter-widgets/controls"
          }
        },
        "cd36a3d9bf5e42149db3734a442cd09c": {
          "model_module": "@jupyter-widgets/base",
          "model_name": "LayoutModel",
          "model_module_version": "1.2.0",
          "state": {
            "_view_name": "LayoutView",
            "grid_template_rows": null,
            "right": null,
            "justify_content": null,
            "_view_module": "@jupyter-widgets/base",
            "overflow": null,
            "_model_module_version": "1.2.0",
            "_view_count": null,
            "flex_flow": null,
            "width": null,
            "min_width": null,
            "border": null,
            "align_items": null,
            "bottom": null,
            "_model_module": "@jupyter-widgets/base",
            "top": null,
            "grid_column": null,
            "overflow_y": null,
            "overflow_x": null,
            "grid_auto_flow": null,
            "grid_area": null,
            "grid_template_columns": null,
            "flex": null,
            "_model_name": "LayoutModel",
            "justify_items": null,
            "grid_row": null,
            "max_height": null,
            "align_content": null,
            "visibility": null,
            "align_self": null,
            "height": null,
            "min_height": null,
            "padding": null,
            "grid_auto_rows": null,
            "grid_gap": null,
            "max_width": null,
            "order": null,
            "_view_module_version": "1.2.0",
            "grid_template_areas": null,
            "object_position": null,
            "object_fit": null,
            "grid_auto_columns": null,
            "margin": null,
            "display": null,
            "left": null
          }
        },
        "c8d80d7eec4a472fa0320f9187ca6587": {
          "model_module": "@jupyter-widgets/controls",
          "model_name": "ProgressStyleModel",
          "model_module_version": "1.5.0",
          "state": {
            "_view_name": "StyleView",
            "_model_name": "ProgressStyleModel",
            "description_width": "",
            "_view_module": "@jupyter-widgets/base",
            "_model_module_version": "1.5.0",
            "_view_count": null,
            "_view_module_version": "1.2.0",
            "bar_color": null,
            "_model_module": "@jupyter-widgets/controls"
          }
        },
        "55c8387d107943089c121bf582abe613": {
          "model_module": "@jupyter-widgets/base",
          "model_name": "LayoutModel",
          "model_module_version": "1.2.0",
          "state": {
            "_view_name": "LayoutView",
            "grid_template_rows": null,
            "right": null,
            "justify_content": null,
            "_view_module": "@jupyter-widgets/base",
            "overflow": null,
            "_model_module_version": "1.2.0",
            "_view_count": null,
            "flex_flow": null,
            "width": null,
            "min_width": null,
            "border": null,
            "align_items": null,
            "bottom": null,
            "_model_module": "@jupyter-widgets/base",
            "top": null,
            "grid_column": null,
            "overflow_y": null,
            "overflow_x": null,
            "grid_auto_flow": null,
            "grid_area": null,
            "grid_template_columns": null,
            "flex": null,
            "_model_name": "LayoutModel",
            "justify_items": null,
            "grid_row": null,
            "max_height": null,
            "align_content": null,
            "visibility": null,
            "align_self": null,
            "height": null,
            "min_height": null,
            "padding": null,
            "grid_auto_rows": null,
            "grid_gap": null,
            "max_width": null,
            "order": null,
            "_view_module_version": "1.2.0",
            "grid_template_areas": null,
            "object_position": null,
            "object_fit": null,
            "grid_auto_columns": null,
            "margin": null,
            "display": null,
            "left": null
          }
        },
        "83440cfb221d402da10593a4dc95af26": {
          "model_module": "@jupyter-widgets/controls",
          "model_name": "DescriptionStyleModel",
          "model_module_version": "1.5.0",
          "state": {
            "_view_name": "StyleView",
            "_model_name": "DescriptionStyleModel",
            "description_width": "",
            "_view_module": "@jupyter-widgets/base",
            "_model_module_version": "1.5.0",
            "_view_count": null,
            "_view_module_version": "1.2.0",
            "_model_module": "@jupyter-widgets/controls"
          }
        },
        "8e520e13a34f442cb3c4019ae620af30": {
          "model_module": "@jupyter-widgets/base",
          "model_name": "LayoutModel",
          "model_module_version": "1.2.0",
          "state": {
            "_view_name": "LayoutView",
            "grid_template_rows": null,
            "right": null,
            "justify_content": null,
            "_view_module": "@jupyter-widgets/base",
            "overflow": null,
            "_model_module_version": "1.2.0",
            "_view_count": null,
            "flex_flow": null,
            "width": null,
            "min_width": null,
            "border": null,
            "align_items": null,
            "bottom": null,
            "_model_module": "@jupyter-widgets/base",
            "top": null,
            "grid_column": null,
            "overflow_y": null,
            "overflow_x": null,
            "grid_auto_flow": null,
            "grid_area": null,
            "grid_template_columns": null,
            "flex": null,
            "_model_name": "LayoutModel",
            "justify_items": null,
            "grid_row": null,
            "max_height": null,
            "align_content": null,
            "visibility": null,
            "align_self": null,
            "height": null,
            "min_height": null,
            "padding": null,
            "grid_auto_rows": null,
            "grid_gap": null,
            "max_width": null,
            "order": null,
            "_view_module_version": "1.2.0",
            "grid_template_areas": null,
            "object_position": null,
            "object_fit": null,
            "grid_auto_columns": null,
            "margin": null,
            "display": null,
            "left": null
          }
        },
        "d80a0b2d27c845cbafd1ec55da6d153e": {
          "model_module": "@jupyter-widgets/controls",
          "model_name": "HBoxModel",
          "model_module_version": "1.5.0",
          "state": {
            "_view_name": "HBoxView",
            "_dom_classes": [],
            "_model_name": "HBoxModel",
            "_view_module": "@jupyter-widgets/controls",
            "_model_module_version": "1.5.0",
            "_view_count": null,
            "_view_module_version": "1.5.0",
            "box_style": "",
            "layout": "IPY_MODEL_725bd4c2b4ec4d4f9dc6f22b5cfdb85c",
            "_model_module": "@jupyter-widgets/controls",
            "children": [
              "IPY_MODEL_eeb0e41123e647d3a1b650ff90218c96",
              "IPY_MODEL_37c592fe20314a6e83a74358dc8b89a3",
              "IPY_MODEL_cdc991ab35354002a301c2e76657d716"
            ]
          }
        },
        "725bd4c2b4ec4d4f9dc6f22b5cfdb85c": {
          "model_module": "@jupyter-widgets/base",
          "model_name": "LayoutModel",
          "model_module_version": "1.2.0",
          "state": {
            "_view_name": "LayoutView",
            "grid_template_rows": null,
            "right": null,
            "justify_content": null,
            "_view_module": "@jupyter-widgets/base",
            "overflow": null,
            "_model_module_version": "1.2.0",
            "_view_count": null,
            "flex_flow": null,
            "width": null,
            "min_width": null,
            "border": null,
            "align_items": null,
            "bottom": null,
            "_model_module": "@jupyter-widgets/base",
            "top": null,
            "grid_column": null,
            "overflow_y": null,
            "overflow_x": null,
            "grid_auto_flow": null,
            "grid_area": null,
            "grid_template_columns": null,
            "flex": null,
            "_model_name": "LayoutModel",
            "justify_items": null,
            "grid_row": null,
            "max_height": null,
            "align_content": null,
            "visibility": null,
            "align_self": null,
            "height": null,
            "min_height": null,
            "padding": null,
            "grid_auto_rows": null,
            "grid_gap": null,
            "max_width": null,
            "order": null,
            "_view_module_version": "1.2.0",
            "grid_template_areas": null,
            "object_position": null,
            "object_fit": null,
            "grid_auto_columns": null,
            "margin": null,
            "display": null,
            "left": null
          }
        },
        "eeb0e41123e647d3a1b650ff90218c96": {
          "model_module": "@jupyter-widgets/controls",
          "model_name": "HTMLModel",
          "model_module_version": "1.5.0",
          "state": {
            "_view_name": "HTMLView",
            "style": "IPY_MODEL_2b2f28f332da4a0c8c0254c3407da808",
            "_dom_classes": [],
            "description": "",
            "_model_name": "HTMLModel",
            "placeholder": "​",
            "_view_module": "@jupyter-widgets/controls",
            "_model_module_version": "1.5.0",
            "value": "Downloading: 100%",
            "_view_count": null,
            "_view_module_version": "1.5.0",
            "description_tooltip": null,
            "_model_module": "@jupyter-widgets/controls",
            "layout": "IPY_MODEL_d0f661d5479d44c9aeb8d92c041a956d"
          }
        },
        "37c592fe20314a6e83a74358dc8b89a3": {
          "model_module": "@jupyter-widgets/controls",
          "model_name": "FloatProgressModel",
          "model_module_version": "1.5.0",
          "state": {
            "_view_name": "ProgressView",
            "style": "IPY_MODEL_fd9a15cadde7456c84102b7d8a0a03ba",
            "_dom_classes": [],
            "description": "",
            "_model_name": "FloatProgressModel",
            "bar_style": "success",
            "max": 28,
            "_view_module": "@jupyter-widgets/controls",
            "_model_module_version": "1.5.0",
            "value": 28,
            "_view_count": null,
            "_view_module_version": "1.5.0",
            "orientation": "horizontal",
            "min": 0,
            "description_tooltip": null,
            "_model_module": "@jupyter-widgets/controls",
            "layout": "IPY_MODEL_70504329d62e46c0bf5ad40d5a3fcbec"
          }
        },
        "cdc991ab35354002a301c2e76657d716": {
          "model_module": "@jupyter-widgets/controls",
          "model_name": "HTMLModel",
          "model_module_version": "1.5.0",
          "state": {
            "_view_name": "HTMLView",
            "style": "IPY_MODEL_e9747fa35c1e472888e9ac829b4fbcc2",
            "_dom_classes": [],
            "description": "",
            "_model_name": "HTMLModel",
            "placeholder": "​",
            "_view_module": "@jupyter-widgets/controls",
            "_model_module_version": "1.5.0",
            "value": " 28.0/28.0 [00:00&lt;00:00, 970B/s]",
            "_view_count": null,
            "_view_module_version": "1.5.0",
            "description_tooltip": null,
            "_model_module": "@jupyter-widgets/controls",
            "layout": "IPY_MODEL_531a233ad8a44fb7b8fd986601f7cd19"
          }
        },
        "2b2f28f332da4a0c8c0254c3407da808": {
          "model_module": "@jupyter-widgets/controls",
          "model_name": "DescriptionStyleModel",
          "model_module_version": "1.5.0",
          "state": {
            "_view_name": "StyleView",
            "_model_name": "DescriptionStyleModel",
            "description_width": "",
            "_view_module": "@jupyter-widgets/base",
            "_model_module_version": "1.5.0",
            "_view_count": null,
            "_view_module_version": "1.2.0",
            "_model_module": "@jupyter-widgets/controls"
          }
        },
        "d0f661d5479d44c9aeb8d92c041a956d": {
          "model_module": "@jupyter-widgets/base",
          "model_name": "LayoutModel",
          "model_module_version": "1.2.0",
          "state": {
            "_view_name": "LayoutView",
            "grid_template_rows": null,
            "right": null,
            "justify_content": null,
            "_view_module": "@jupyter-widgets/base",
            "overflow": null,
            "_model_module_version": "1.2.0",
            "_view_count": null,
            "flex_flow": null,
            "width": null,
            "min_width": null,
            "border": null,
            "align_items": null,
            "bottom": null,
            "_model_module": "@jupyter-widgets/base",
            "top": null,
            "grid_column": null,
            "overflow_y": null,
            "overflow_x": null,
            "grid_auto_flow": null,
            "grid_area": null,
            "grid_template_columns": null,
            "flex": null,
            "_model_name": "LayoutModel",
            "justify_items": null,
            "grid_row": null,
            "max_height": null,
            "align_content": null,
            "visibility": null,
            "align_self": null,
            "height": null,
            "min_height": null,
            "padding": null,
            "grid_auto_rows": null,
            "grid_gap": null,
            "max_width": null,
            "order": null,
            "_view_module_version": "1.2.0",
            "grid_template_areas": null,
            "object_position": null,
            "object_fit": null,
            "grid_auto_columns": null,
            "margin": null,
            "display": null,
            "left": null
          }
        },
        "fd9a15cadde7456c84102b7d8a0a03ba": {
          "model_module": "@jupyter-widgets/controls",
          "model_name": "ProgressStyleModel",
          "model_module_version": "1.5.0",
          "state": {
            "_view_name": "StyleView",
            "_model_name": "ProgressStyleModel",
            "description_width": "",
            "_view_module": "@jupyter-widgets/base",
            "_model_module_version": "1.5.0",
            "_view_count": null,
            "_view_module_version": "1.2.0",
            "bar_color": null,
            "_model_module": "@jupyter-widgets/controls"
          }
        },
        "70504329d62e46c0bf5ad40d5a3fcbec": {
          "model_module": "@jupyter-widgets/base",
          "model_name": "LayoutModel",
          "model_module_version": "1.2.0",
          "state": {
            "_view_name": "LayoutView",
            "grid_template_rows": null,
            "right": null,
            "justify_content": null,
            "_view_module": "@jupyter-widgets/base",
            "overflow": null,
            "_model_module_version": "1.2.0",
            "_view_count": null,
            "flex_flow": null,
            "width": null,
            "min_width": null,
            "border": null,
            "align_items": null,
            "bottom": null,
            "_model_module": "@jupyter-widgets/base",
            "top": null,
            "grid_column": null,
            "overflow_y": null,
            "overflow_x": null,
            "grid_auto_flow": null,
            "grid_area": null,
            "grid_template_columns": null,
            "flex": null,
            "_model_name": "LayoutModel",
            "justify_items": null,
            "grid_row": null,
            "max_height": null,
            "align_content": null,
            "visibility": null,
            "align_self": null,
            "height": null,
            "min_height": null,
            "padding": null,
            "grid_auto_rows": null,
            "grid_gap": null,
            "max_width": null,
            "order": null,
            "_view_module_version": "1.2.0",
            "grid_template_areas": null,
            "object_position": null,
            "object_fit": null,
            "grid_auto_columns": null,
            "margin": null,
            "display": null,
            "left": null
          }
        },
        "e9747fa35c1e472888e9ac829b4fbcc2": {
          "model_module": "@jupyter-widgets/controls",
          "model_name": "DescriptionStyleModel",
          "model_module_version": "1.5.0",
          "state": {
            "_view_name": "StyleView",
            "_model_name": "DescriptionStyleModel",
            "description_width": "",
            "_view_module": "@jupyter-widgets/base",
            "_model_module_version": "1.5.0",
            "_view_count": null,
            "_view_module_version": "1.2.0",
            "_model_module": "@jupyter-widgets/controls"
          }
        },
        "531a233ad8a44fb7b8fd986601f7cd19": {
          "model_module": "@jupyter-widgets/base",
          "model_name": "LayoutModel",
          "model_module_version": "1.2.0",
          "state": {
            "_view_name": "LayoutView",
            "grid_template_rows": null,
            "right": null,
            "justify_content": null,
            "_view_module": "@jupyter-widgets/base",
            "overflow": null,
            "_model_module_version": "1.2.0",
            "_view_count": null,
            "flex_flow": null,
            "width": null,
            "min_width": null,
            "border": null,
            "align_items": null,
            "bottom": null,
            "_model_module": "@jupyter-widgets/base",
            "top": null,
            "grid_column": null,
            "overflow_y": null,
            "overflow_x": null,
            "grid_auto_flow": null,
            "grid_area": null,
            "grid_template_columns": null,
            "flex": null,
            "_model_name": "LayoutModel",
            "justify_items": null,
            "grid_row": null,
            "max_height": null,
            "align_content": null,
            "visibility": null,
            "align_self": null,
            "height": null,
            "min_height": null,
            "padding": null,
            "grid_auto_rows": null,
            "grid_gap": null,
            "max_width": null,
            "order": null,
            "_view_module_version": "1.2.0",
            "grid_template_areas": null,
            "object_position": null,
            "object_fit": null,
            "grid_auto_columns": null,
            "margin": null,
            "display": null,
            "left": null
          }
        },
        "dd8e5859d2884990b01a64502c7b2619": {
          "model_module": "@jupyter-widgets/controls",
          "model_name": "HBoxModel",
          "model_module_version": "1.5.0",
          "state": {
            "_view_name": "HBoxView",
            "_dom_classes": [],
            "_model_name": "HBoxModel",
            "_view_module": "@jupyter-widgets/controls",
            "_model_module_version": "1.5.0",
            "_view_count": null,
            "_view_module_version": "1.5.0",
            "box_style": "",
            "layout": "IPY_MODEL_5b19c57924ac49dd995f8604117529d1",
            "_model_module": "@jupyter-widgets/controls",
            "children": [
              "IPY_MODEL_e3d565cb3f2d45f28040b5d2e571fac8",
              "IPY_MODEL_cbb4a8a07f3446528801f69b6c77ff85",
              "IPY_MODEL_6a32a72d11f14ceba32d5f4545926ec0"
            ]
          }
        },
        "5b19c57924ac49dd995f8604117529d1": {
          "model_module": "@jupyter-widgets/base",
          "model_name": "LayoutModel",
          "model_module_version": "1.2.0",
          "state": {
            "_view_name": "LayoutView",
            "grid_template_rows": null,
            "right": null,
            "justify_content": null,
            "_view_module": "@jupyter-widgets/base",
            "overflow": null,
            "_model_module_version": "1.2.0",
            "_view_count": null,
            "flex_flow": null,
            "width": null,
            "min_width": null,
            "border": null,
            "align_items": null,
            "bottom": null,
            "_model_module": "@jupyter-widgets/base",
            "top": null,
            "grid_column": null,
            "overflow_y": null,
            "overflow_x": null,
            "grid_auto_flow": null,
            "grid_area": null,
            "grid_template_columns": null,
            "flex": null,
            "_model_name": "LayoutModel",
            "justify_items": null,
            "grid_row": null,
            "max_height": null,
            "align_content": null,
            "visibility": null,
            "align_self": null,
            "height": null,
            "min_height": null,
            "padding": null,
            "grid_auto_rows": null,
            "grid_gap": null,
            "max_width": null,
            "order": null,
            "_view_module_version": "1.2.0",
            "grid_template_areas": null,
            "object_position": null,
            "object_fit": null,
            "grid_auto_columns": null,
            "margin": null,
            "display": null,
            "left": null
          }
        },
        "e3d565cb3f2d45f28040b5d2e571fac8": {
          "model_module": "@jupyter-widgets/controls",
          "model_name": "HTMLModel",
          "model_module_version": "1.5.0",
          "state": {
            "_view_name": "HTMLView",
            "style": "IPY_MODEL_a87c8ab00ff9428e8b7217e5114e21da",
            "_dom_classes": [],
            "description": "",
            "_model_name": "HTMLModel",
            "placeholder": "​",
            "_view_module": "@jupyter-widgets/controls",
            "_model_module_version": "1.5.0",
            "value": "Downloading: 100%",
            "_view_count": null,
            "_view_module_version": "1.5.0",
            "description_tooltip": null,
            "_model_module": "@jupyter-widgets/controls",
            "layout": "IPY_MODEL_63b834687aab4418a810e13190a1a7ee"
          }
        },
        "cbb4a8a07f3446528801f69b6c77ff85": {
          "model_module": "@jupyter-widgets/controls",
          "model_name": "FloatProgressModel",
          "model_module_version": "1.5.0",
          "state": {
            "_view_name": "ProgressView",
            "style": "IPY_MODEL_81f3830f8adc4a14bea53c01e42d5fda",
            "_dom_classes": [],
            "description": "",
            "_model_name": "FloatProgressModel",
            "bar_style": "success",
            "max": 466062,
            "_view_module": "@jupyter-widgets/controls",
            "_model_module_version": "1.5.0",
            "value": 466062,
            "_view_count": null,
            "_view_module_version": "1.5.0",
            "orientation": "horizontal",
            "min": 0,
            "description_tooltip": null,
            "_model_module": "@jupyter-widgets/controls",
            "layout": "IPY_MODEL_3e6900035fee4899812961d3be0f718b"
          }
        },
        "6a32a72d11f14ceba32d5f4545926ec0": {
          "model_module": "@jupyter-widgets/controls",
          "model_name": "HTMLModel",
          "model_module_version": "1.5.0",
          "state": {
            "_view_name": "HTMLView",
            "style": "IPY_MODEL_81c98d60a2bd45febfd23a77a79d2273",
            "_dom_classes": [],
            "description": "",
            "_model_name": "HTMLModel",
            "placeholder": "​",
            "_view_module": "@jupyter-widgets/controls",
            "_model_module_version": "1.5.0",
            "value": " 455k/455k [00:00&lt;00:00, 839kB/s]",
            "_view_count": null,
            "_view_module_version": "1.5.0",
            "description_tooltip": null,
            "_model_module": "@jupyter-widgets/controls",
            "layout": "IPY_MODEL_31e581e1994c427eb76fb65a875702e7"
          }
        },
        "a87c8ab00ff9428e8b7217e5114e21da": {
          "model_module": "@jupyter-widgets/controls",
          "model_name": "DescriptionStyleModel",
          "model_module_version": "1.5.0",
          "state": {
            "_view_name": "StyleView",
            "_model_name": "DescriptionStyleModel",
            "description_width": "",
            "_view_module": "@jupyter-widgets/base",
            "_model_module_version": "1.5.0",
            "_view_count": null,
            "_view_module_version": "1.2.0",
            "_model_module": "@jupyter-widgets/controls"
          }
        },
        "63b834687aab4418a810e13190a1a7ee": {
          "model_module": "@jupyter-widgets/base",
          "model_name": "LayoutModel",
          "model_module_version": "1.2.0",
          "state": {
            "_view_name": "LayoutView",
            "grid_template_rows": null,
            "right": null,
            "justify_content": null,
            "_view_module": "@jupyter-widgets/base",
            "overflow": null,
            "_model_module_version": "1.2.0",
            "_view_count": null,
            "flex_flow": null,
            "width": null,
            "min_width": null,
            "border": null,
            "align_items": null,
            "bottom": null,
            "_model_module": "@jupyter-widgets/base",
            "top": null,
            "grid_column": null,
            "overflow_y": null,
            "overflow_x": null,
            "grid_auto_flow": null,
            "grid_area": null,
            "grid_template_columns": null,
            "flex": null,
            "_model_name": "LayoutModel",
            "justify_items": null,
            "grid_row": null,
            "max_height": null,
            "align_content": null,
            "visibility": null,
            "align_self": null,
            "height": null,
            "min_height": null,
            "padding": null,
            "grid_auto_rows": null,
            "grid_gap": null,
            "max_width": null,
            "order": null,
            "_view_module_version": "1.2.0",
            "grid_template_areas": null,
            "object_position": null,
            "object_fit": null,
            "grid_auto_columns": null,
            "margin": null,
            "display": null,
            "left": null
          }
        },
        "81f3830f8adc4a14bea53c01e42d5fda": {
          "model_module": "@jupyter-widgets/controls",
          "model_name": "ProgressStyleModel",
          "model_module_version": "1.5.0",
          "state": {
            "_view_name": "StyleView",
            "_model_name": "ProgressStyleModel",
            "description_width": "",
            "_view_module": "@jupyter-widgets/base",
            "_model_module_version": "1.5.0",
            "_view_count": null,
            "_view_module_version": "1.2.0",
            "bar_color": null,
            "_model_module": "@jupyter-widgets/controls"
          }
        },
        "3e6900035fee4899812961d3be0f718b": {
          "model_module": "@jupyter-widgets/base",
          "model_name": "LayoutModel",
          "model_module_version": "1.2.0",
          "state": {
            "_view_name": "LayoutView",
            "grid_template_rows": null,
            "right": null,
            "justify_content": null,
            "_view_module": "@jupyter-widgets/base",
            "overflow": null,
            "_model_module_version": "1.2.0",
            "_view_count": null,
            "flex_flow": null,
            "width": null,
            "min_width": null,
            "border": null,
            "align_items": null,
            "bottom": null,
            "_model_module": "@jupyter-widgets/base",
            "top": null,
            "grid_column": null,
            "overflow_y": null,
            "overflow_x": null,
            "grid_auto_flow": null,
            "grid_area": null,
            "grid_template_columns": null,
            "flex": null,
            "_model_name": "LayoutModel",
            "justify_items": null,
            "grid_row": null,
            "max_height": null,
            "align_content": null,
            "visibility": null,
            "align_self": null,
            "height": null,
            "min_height": null,
            "padding": null,
            "grid_auto_rows": null,
            "grid_gap": null,
            "max_width": null,
            "order": null,
            "_view_module_version": "1.2.0",
            "grid_template_areas": null,
            "object_position": null,
            "object_fit": null,
            "grid_auto_columns": null,
            "margin": null,
            "display": null,
            "left": null
          }
        },
        "81c98d60a2bd45febfd23a77a79d2273": {
          "model_module": "@jupyter-widgets/controls",
          "model_name": "DescriptionStyleModel",
          "model_module_version": "1.5.0",
          "state": {
            "_view_name": "StyleView",
            "_model_name": "DescriptionStyleModel",
            "description_width": "",
            "_view_module": "@jupyter-widgets/base",
            "_model_module_version": "1.5.0",
            "_view_count": null,
            "_view_module_version": "1.2.0",
            "_model_module": "@jupyter-widgets/controls"
          }
        },
        "31e581e1994c427eb76fb65a875702e7": {
          "model_module": "@jupyter-widgets/base",
          "model_name": "LayoutModel",
          "model_module_version": "1.2.0",
          "state": {
            "_view_name": "LayoutView",
            "grid_template_rows": null,
            "right": null,
            "justify_content": null,
            "_view_module": "@jupyter-widgets/base",
            "overflow": null,
            "_model_module_version": "1.2.0",
            "_view_count": null,
            "flex_flow": null,
            "width": null,
            "min_width": null,
            "border": null,
            "align_items": null,
            "bottom": null,
            "_model_module": "@jupyter-widgets/base",
            "top": null,
            "grid_column": null,
            "overflow_y": null,
            "overflow_x": null,
            "grid_auto_flow": null,
            "grid_area": null,
            "grid_template_columns": null,
            "flex": null,
            "_model_name": "LayoutModel",
            "justify_items": null,
            "grid_row": null,
            "max_height": null,
            "align_content": null,
            "visibility": null,
            "align_self": null,
            "height": null,
            "min_height": null,
            "padding": null,
            "grid_auto_rows": null,
            "grid_gap": null,
            "max_width": null,
            "order": null,
            "_view_module_version": "1.2.0",
            "grid_template_areas": null,
            "object_position": null,
            "object_fit": null,
            "grid_auto_columns": null,
            "margin": null,
            "display": null,
            "left": null
          }
        },
        "68810b0026354c51912b42525e07c5cb": {
          "model_module": "@jupyter-widgets/controls",
          "model_name": "HBoxModel",
          "model_module_version": "1.5.0",
          "state": {
            "_view_name": "HBoxView",
            "_dom_classes": [],
            "_model_name": "HBoxModel",
            "_view_module": "@jupyter-widgets/controls",
            "_model_module_version": "1.5.0",
            "_view_count": null,
            "_view_module_version": "1.5.0",
            "box_style": "",
            "layout": "IPY_MODEL_40b94bfc2e6144028deda658336d5aed",
            "_model_module": "@jupyter-widgets/controls",
            "children": [
              "IPY_MODEL_f89226e8846b42ddb8b003303628f840",
              "IPY_MODEL_167915419d8d44a08640d4337c481086",
              "IPY_MODEL_908140da4a794b56a1069f96a2d6c814"
            ]
          }
        },
        "40b94bfc2e6144028deda658336d5aed": {
          "model_module": "@jupyter-widgets/base",
          "model_name": "LayoutModel",
          "model_module_version": "1.2.0",
          "state": {
            "_view_name": "LayoutView",
            "grid_template_rows": null,
            "right": null,
            "justify_content": null,
            "_view_module": "@jupyter-widgets/base",
            "overflow": null,
            "_model_module_version": "1.2.0",
            "_view_count": null,
            "flex_flow": null,
            "width": null,
            "min_width": null,
            "border": null,
            "align_items": null,
            "bottom": null,
            "_model_module": "@jupyter-widgets/base",
            "top": null,
            "grid_column": null,
            "overflow_y": null,
            "overflow_x": null,
            "grid_auto_flow": null,
            "grid_area": null,
            "grid_template_columns": null,
            "flex": null,
            "_model_name": "LayoutModel",
            "justify_items": null,
            "grid_row": null,
            "max_height": null,
            "align_content": null,
            "visibility": null,
            "align_self": null,
            "height": null,
            "min_height": null,
            "padding": null,
            "grid_auto_rows": null,
            "grid_gap": null,
            "max_width": null,
            "order": null,
            "_view_module_version": "1.2.0",
            "grid_template_areas": null,
            "object_position": null,
            "object_fit": null,
            "grid_auto_columns": null,
            "margin": null,
            "display": null,
            "left": null
          }
        },
        "f89226e8846b42ddb8b003303628f840": {
          "model_module": "@jupyter-widgets/controls",
          "model_name": "HTMLModel",
          "model_module_version": "1.5.0",
          "state": {
            "_view_name": "HTMLView",
            "style": "IPY_MODEL_514e2adbfb424002923fe89c26a50743",
            "_dom_classes": [],
            "description": "",
            "_model_name": "HTMLModel",
            "placeholder": "​",
            "_view_module": "@jupyter-widgets/controls",
            "_model_module_version": "1.5.0",
            "value": "Downloading: 100%",
            "_view_count": null,
            "_view_module_version": "1.5.0",
            "description_tooltip": null,
            "_model_module": "@jupyter-widgets/controls",
            "layout": "IPY_MODEL_75e27c9caff1429da9ac5bf9c4b2b858"
          }
        },
        "167915419d8d44a08640d4337c481086": {
          "model_module": "@jupyter-widgets/controls",
          "model_name": "FloatProgressModel",
          "model_module_version": "1.5.0",
          "state": {
            "_view_name": "ProgressView",
            "style": "IPY_MODEL_ddbb42ece53e4304937140dff8a75195",
            "_dom_classes": [],
            "description": "",
            "_model_name": "FloatProgressModel",
            "bar_style": "success",
            "max": 570,
            "_view_module": "@jupyter-widgets/controls",
            "_model_module_version": "1.5.0",
            "value": 570,
            "_view_count": null,
            "_view_module_version": "1.5.0",
            "orientation": "horizontal",
            "min": 0,
            "description_tooltip": null,
            "_model_module": "@jupyter-widgets/controls",
            "layout": "IPY_MODEL_2aa85667dc0e484ebb2256d7e339dd92"
          }
        },
        "908140da4a794b56a1069f96a2d6c814": {
          "model_module": "@jupyter-widgets/controls",
          "model_name": "HTMLModel",
          "model_module_version": "1.5.0",
          "state": {
            "_view_name": "HTMLView",
            "style": "IPY_MODEL_996e9340272445a4b2122f1bf02d2ffb",
            "_dom_classes": [],
            "description": "",
            "_model_name": "HTMLModel",
            "placeholder": "​",
            "_view_module": "@jupyter-widgets/controls",
            "_model_module_version": "1.5.0",
            "value": " 570/570 [00:00&lt;00:00, 20.3kB/s]",
            "_view_count": null,
            "_view_module_version": "1.5.0",
            "description_tooltip": null,
            "_model_module": "@jupyter-widgets/controls",
            "layout": "IPY_MODEL_8f3758dfe9ec439aa4a5542b9398aefd"
          }
        },
        "514e2adbfb424002923fe89c26a50743": {
          "model_module": "@jupyter-widgets/controls",
          "model_name": "DescriptionStyleModel",
          "model_module_version": "1.5.0",
          "state": {
            "_view_name": "StyleView",
            "_model_name": "DescriptionStyleModel",
            "description_width": "",
            "_view_module": "@jupyter-widgets/base",
            "_model_module_version": "1.5.0",
            "_view_count": null,
            "_view_module_version": "1.2.0",
            "_model_module": "@jupyter-widgets/controls"
          }
        },
        "75e27c9caff1429da9ac5bf9c4b2b858": {
          "model_module": "@jupyter-widgets/base",
          "model_name": "LayoutModel",
          "model_module_version": "1.2.0",
          "state": {
            "_view_name": "LayoutView",
            "grid_template_rows": null,
            "right": null,
            "justify_content": null,
            "_view_module": "@jupyter-widgets/base",
            "overflow": null,
            "_model_module_version": "1.2.0",
            "_view_count": null,
            "flex_flow": null,
            "width": null,
            "min_width": null,
            "border": null,
            "align_items": null,
            "bottom": null,
            "_model_module": "@jupyter-widgets/base",
            "top": null,
            "grid_column": null,
            "overflow_y": null,
            "overflow_x": null,
            "grid_auto_flow": null,
            "grid_area": null,
            "grid_template_columns": null,
            "flex": null,
            "_model_name": "LayoutModel",
            "justify_items": null,
            "grid_row": null,
            "max_height": null,
            "align_content": null,
            "visibility": null,
            "align_self": null,
            "height": null,
            "min_height": null,
            "padding": null,
            "grid_auto_rows": null,
            "grid_gap": null,
            "max_width": null,
            "order": null,
            "_view_module_version": "1.2.0",
            "grid_template_areas": null,
            "object_position": null,
            "object_fit": null,
            "grid_auto_columns": null,
            "margin": null,
            "display": null,
            "left": null
          }
        },
        "ddbb42ece53e4304937140dff8a75195": {
          "model_module": "@jupyter-widgets/controls",
          "model_name": "ProgressStyleModel",
          "model_module_version": "1.5.0",
          "state": {
            "_view_name": "StyleView",
            "_model_name": "ProgressStyleModel",
            "description_width": "",
            "_view_module": "@jupyter-widgets/base",
            "_model_module_version": "1.5.0",
            "_view_count": null,
            "_view_module_version": "1.2.0",
            "bar_color": null,
            "_model_module": "@jupyter-widgets/controls"
          }
        },
        "2aa85667dc0e484ebb2256d7e339dd92": {
          "model_module": "@jupyter-widgets/base",
          "model_name": "LayoutModel",
          "model_module_version": "1.2.0",
          "state": {
            "_view_name": "LayoutView",
            "grid_template_rows": null,
            "right": null,
            "justify_content": null,
            "_view_module": "@jupyter-widgets/base",
            "overflow": null,
            "_model_module_version": "1.2.0",
            "_view_count": null,
            "flex_flow": null,
            "width": null,
            "min_width": null,
            "border": null,
            "align_items": null,
            "bottom": null,
            "_model_module": "@jupyter-widgets/base",
            "top": null,
            "grid_column": null,
            "overflow_y": null,
            "overflow_x": null,
            "grid_auto_flow": null,
            "grid_area": null,
            "grid_template_columns": null,
            "flex": null,
            "_model_name": "LayoutModel",
            "justify_items": null,
            "grid_row": null,
            "max_height": null,
            "align_content": null,
            "visibility": null,
            "align_self": null,
            "height": null,
            "min_height": null,
            "padding": null,
            "grid_auto_rows": null,
            "grid_gap": null,
            "max_width": null,
            "order": null,
            "_view_module_version": "1.2.0",
            "grid_template_areas": null,
            "object_position": null,
            "object_fit": null,
            "grid_auto_columns": null,
            "margin": null,
            "display": null,
            "left": null
          }
        },
        "996e9340272445a4b2122f1bf02d2ffb": {
          "model_module": "@jupyter-widgets/controls",
          "model_name": "DescriptionStyleModel",
          "model_module_version": "1.5.0",
          "state": {
            "_view_name": "StyleView",
            "_model_name": "DescriptionStyleModel",
            "description_width": "",
            "_view_module": "@jupyter-widgets/base",
            "_model_module_version": "1.5.0",
            "_view_count": null,
            "_view_module_version": "1.2.0",
            "_model_module": "@jupyter-widgets/controls"
          }
        },
        "8f3758dfe9ec439aa4a5542b9398aefd": {
          "model_module": "@jupyter-widgets/base",
          "model_name": "LayoutModel",
          "model_module_version": "1.2.0",
          "state": {
            "_view_name": "LayoutView",
            "grid_template_rows": null,
            "right": null,
            "justify_content": null,
            "_view_module": "@jupyter-widgets/base",
            "overflow": null,
            "_model_module_version": "1.2.0",
            "_view_count": null,
            "flex_flow": null,
            "width": null,
            "min_width": null,
            "border": null,
            "align_items": null,
            "bottom": null,
            "_model_module": "@jupyter-widgets/base",
            "top": null,
            "grid_column": null,
            "overflow_y": null,
            "overflow_x": null,
            "grid_auto_flow": null,
            "grid_area": null,
            "grid_template_columns": null,
            "flex": null,
            "_model_name": "LayoutModel",
            "justify_items": null,
            "grid_row": null,
            "max_height": null,
            "align_content": null,
            "visibility": null,
            "align_self": null,
            "height": null,
            "min_height": null,
            "padding": null,
            "grid_auto_rows": null,
            "grid_gap": null,
            "max_width": null,
            "order": null,
            "_view_module_version": "1.2.0",
            "grid_template_areas": null,
            "object_position": null,
            "object_fit": null,
            "grid_auto_columns": null,
            "margin": null,
            "display": null,
            "left": null
          }
        },
        "a5f2ec00715c4b5bbf10c5d6c1ef61a9": {
          "model_module": "@jupyter-widgets/controls",
          "model_name": "HBoxModel",
          "model_module_version": "1.5.0",
          "state": {
            "_view_name": "HBoxView",
            "_dom_classes": [],
            "_model_name": "HBoxModel",
            "_view_module": "@jupyter-widgets/controls",
            "_model_module_version": "1.5.0",
            "_view_count": null,
            "_view_module_version": "1.5.0",
            "box_style": "",
            "layout": "IPY_MODEL_319032dc840d4203b6b640950f82dad1",
            "_model_module": "@jupyter-widgets/controls",
            "children": [
              "IPY_MODEL_07a37fb8193a44838e776acfe2f63bf7",
              "IPY_MODEL_62678068393849e4bc80190a3c5ae74c",
              "IPY_MODEL_a8f318a064dc4ad6a4ef2f8e328e54ed"
            ]
          }
        },
        "319032dc840d4203b6b640950f82dad1": {
          "model_module": "@jupyter-widgets/base",
          "model_name": "LayoutModel",
          "model_module_version": "1.2.0",
          "state": {
            "_view_name": "LayoutView",
            "grid_template_rows": null,
            "right": null,
            "justify_content": null,
            "_view_module": "@jupyter-widgets/base",
            "overflow": null,
            "_model_module_version": "1.2.0",
            "_view_count": null,
            "flex_flow": null,
            "width": null,
            "min_width": null,
            "border": null,
            "align_items": null,
            "bottom": null,
            "_model_module": "@jupyter-widgets/base",
            "top": null,
            "grid_column": null,
            "overflow_y": null,
            "overflow_x": null,
            "grid_auto_flow": null,
            "grid_area": null,
            "grid_template_columns": null,
            "flex": null,
            "_model_name": "LayoutModel",
            "justify_items": null,
            "grid_row": null,
            "max_height": null,
            "align_content": null,
            "visibility": null,
            "align_self": null,
            "height": null,
            "min_height": null,
            "padding": null,
            "grid_auto_rows": null,
            "grid_gap": null,
            "max_width": null,
            "order": null,
            "_view_module_version": "1.2.0",
            "grid_template_areas": null,
            "object_position": null,
            "object_fit": null,
            "grid_auto_columns": null,
            "margin": null,
            "display": null,
            "left": null
          }
        },
        "07a37fb8193a44838e776acfe2f63bf7": {
          "model_module": "@jupyter-widgets/controls",
          "model_name": "HTMLModel",
          "model_module_version": "1.5.0",
          "state": {
            "_view_name": "HTMLView",
            "style": "IPY_MODEL_bc290849193449bb8a40bbaec9549b32",
            "_dom_classes": [],
            "description": "",
            "_model_name": "HTMLModel",
            "placeholder": "​",
            "_view_module": "@jupyter-widgets/controls",
            "_model_module_version": "1.5.0",
            "value": "Downloading: 100%",
            "_view_count": null,
            "_view_module_version": "1.5.0",
            "description_tooltip": null,
            "_model_module": "@jupyter-widgets/controls",
            "layout": "IPY_MODEL_be629ce9b5894581b310922d46c0a362"
          }
        },
        "62678068393849e4bc80190a3c5ae74c": {
          "model_module": "@jupyter-widgets/controls",
          "model_name": "FloatProgressModel",
          "model_module_version": "1.5.0",
          "state": {
            "_view_name": "ProgressView",
            "style": "IPY_MODEL_56b3423ce12542d88067d00f335d76dc",
            "_dom_classes": [],
            "description": "",
            "_model_name": "FloatProgressModel",
            "bar_style": "success",
            "max": 536063208,
            "_view_module": "@jupyter-widgets/controls",
            "_model_module_version": "1.5.0",
            "value": 536063208,
            "_view_count": null,
            "_view_module_version": "1.5.0",
            "orientation": "horizontal",
            "min": 0,
            "description_tooltip": null,
            "_model_module": "@jupyter-widgets/controls",
            "layout": "IPY_MODEL_475a59e1c7334c68adad618a52f9d26f"
          }
        },
        "a8f318a064dc4ad6a4ef2f8e328e54ed": {
          "model_module": "@jupyter-widgets/controls",
          "model_name": "HTMLModel",
          "model_module_version": "1.5.0",
          "state": {
            "_view_name": "HTMLView",
            "style": "IPY_MODEL_f782a337b7f84707afb53e61e5077f7b",
            "_dom_classes": [],
            "description": "",
            "_model_name": "HTMLModel",
            "placeholder": "​",
            "_view_module": "@jupyter-widgets/controls",
            "_model_module_version": "1.5.0",
            "value": " 511M/511M [00:09&lt;00:00, 63.5MB/s]",
            "_view_count": null,
            "_view_module_version": "1.5.0",
            "description_tooltip": null,
            "_model_module": "@jupyter-widgets/controls",
            "layout": "IPY_MODEL_ecc0000fc54349f0894fb37f0b703f18"
          }
        },
        "bc290849193449bb8a40bbaec9549b32": {
          "model_module": "@jupyter-widgets/controls",
          "model_name": "DescriptionStyleModel",
          "model_module_version": "1.5.0",
          "state": {
            "_view_name": "StyleView",
            "_model_name": "DescriptionStyleModel",
            "description_width": "",
            "_view_module": "@jupyter-widgets/base",
            "_model_module_version": "1.5.0",
            "_view_count": null,
            "_view_module_version": "1.2.0",
            "_model_module": "@jupyter-widgets/controls"
          }
        },
        "be629ce9b5894581b310922d46c0a362": {
          "model_module": "@jupyter-widgets/base",
          "model_name": "LayoutModel",
          "model_module_version": "1.2.0",
          "state": {
            "_view_name": "LayoutView",
            "grid_template_rows": null,
            "right": null,
            "justify_content": null,
            "_view_module": "@jupyter-widgets/base",
            "overflow": null,
            "_model_module_version": "1.2.0",
            "_view_count": null,
            "flex_flow": null,
            "width": null,
            "min_width": null,
            "border": null,
            "align_items": null,
            "bottom": null,
            "_model_module": "@jupyter-widgets/base",
            "top": null,
            "grid_column": null,
            "overflow_y": null,
            "overflow_x": null,
            "grid_auto_flow": null,
            "grid_area": null,
            "grid_template_columns": null,
            "flex": null,
            "_model_name": "LayoutModel",
            "justify_items": null,
            "grid_row": null,
            "max_height": null,
            "align_content": null,
            "visibility": null,
            "align_self": null,
            "height": null,
            "min_height": null,
            "padding": null,
            "grid_auto_rows": null,
            "grid_gap": null,
            "max_width": null,
            "order": null,
            "_view_module_version": "1.2.0",
            "grid_template_areas": null,
            "object_position": null,
            "object_fit": null,
            "grid_auto_columns": null,
            "margin": null,
            "display": null,
            "left": null
          }
        },
        "56b3423ce12542d88067d00f335d76dc": {
          "model_module": "@jupyter-widgets/controls",
          "model_name": "ProgressStyleModel",
          "model_module_version": "1.5.0",
          "state": {
            "_view_name": "StyleView",
            "_model_name": "ProgressStyleModel",
            "description_width": "",
            "_view_module": "@jupyter-widgets/base",
            "_model_module_version": "1.5.0",
            "_view_count": null,
            "_view_module_version": "1.2.0",
            "bar_color": null,
            "_model_module": "@jupyter-widgets/controls"
          }
        },
        "475a59e1c7334c68adad618a52f9d26f": {
          "model_module": "@jupyter-widgets/base",
          "model_name": "LayoutModel",
          "model_module_version": "1.2.0",
          "state": {
            "_view_name": "LayoutView",
            "grid_template_rows": null,
            "right": null,
            "justify_content": null,
            "_view_module": "@jupyter-widgets/base",
            "overflow": null,
            "_model_module_version": "1.2.0",
            "_view_count": null,
            "flex_flow": null,
            "width": null,
            "min_width": null,
            "border": null,
            "align_items": null,
            "bottom": null,
            "_model_module": "@jupyter-widgets/base",
            "top": null,
            "grid_column": null,
            "overflow_y": null,
            "overflow_x": null,
            "grid_auto_flow": null,
            "grid_area": null,
            "grid_template_columns": null,
            "flex": null,
            "_model_name": "LayoutModel",
            "justify_items": null,
            "grid_row": null,
            "max_height": null,
            "align_content": null,
            "visibility": null,
            "align_self": null,
            "height": null,
            "min_height": null,
            "padding": null,
            "grid_auto_rows": null,
            "grid_gap": null,
            "max_width": null,
            "order": null,
            "_view_module_version": "1.2.0",
            "grid_template_areas": null,
            "object_position": null,
            "object_fit": null,
            "grid_auto_columns": null,
            "margin": null,
            "display": null,
            "left": null
          }
        },
        "f782a337b7f84707afb53e61e5077f7b": {
          "model_module": "@jupyter-widgets/controls",
          "model_name": "DescriptionStyleModel",
          "model_module_version": "1.5.0",
          "state": {
            "_view_name": "StyleView",
            "_model_name": "DescriptionStyleModel",
            "description_width": "",
            "_view_module": "@jupyter-widgets/base",
            "_model_module_version": "1.5.0",
            "_view_count": null,
            "_view_module_version": "1.2.0",
            "_model_module": "@jupyter-widgets/controls"
          }
        },
        "ecc0000fc54349f0894fb37f0b703f18": {
          "model_module": "@jupyter-widgets/base",
          "model_name": "LayoutModel",
          "model_module_version": "1.2.0",
          "state": {
            "_view_name": "LayoutView",
            "grid_template_rows": null,
            "right": null,
            "justify_content": null,
            "_view_module": "@jupyter-widgets/base",
            "overflow": null,
            "_model_module_version": "1.2.0",
            "_view_count": null,
            "flex_flow": null,
            "width": null,
            "min_width": null,
            "border": null,
            "align_items": null,
            "bottom": null,
            "_model_module": "@jupyter-widgets/base",
            "top": null,
            "grid_column": null,
            "overflow_y": null,
            "overflow_x": null,
            "grid_auto_flow": null,
            "grid_area": null,
            "grid_template_columns": null,
            "flex": null,
            "_model_name": "LayoutModel",
            "justify_items": null,
            "grid_row": null,
            "max_height": null,
            "align_content": null,
            "visibility": null,
            "align_self": null,
            "height": null,
            "min_height": null,
            "padding": null,
            "grid_auto_rows": null,
            "grid_gap": null,
            "max_width": null,
            "order": null,
            "_view_module_version": "1.2.0",
            "grid_template_areas": null,
            "object_position": null,
            "object_fit": null,
            "grid_auto_columns": null,
            "margin": null,
            "display": null,
            "left": null
          }
        }
      }
    }
  },
  "cells": [
    {
      "cell_type": "markdown",
      "metadata": {
        "id": "Yj8cEKwwH5u0"
      },
      "source": [
        "# Import & Download all the necessariy libraries"
      ]
    },
    {
      "cell_type": "code",
      "metadata": {
        "colab": {
          "base_uri": "https://localhost:8080/"
        },
        "id": "DYR8XGMucths",
        "outputId": "554ef26a-7e61-40ac-81f0-d237ac01bcc8"
      },
      "source": [
        "# Import Common Modules\n",
        "import pandas as pd\n",
        "import numpy as np\n",
        "import matplotlib.pyplot as plt\n",
        "% matplotlib inline\n",
        "import seaborn as sns\n",
        "import re\n",
        "import os\n",
        "import tensorflow as tf\n",
        "from sklearn.metrics import confusion_matrix\n",
        "\n",
        "# install\n",
        "!pip install git+https://github.com/huggingface/transformers\n",
        "\n",
        "from keras.preprocessing.sequence import pad_sequences\n",
        "from transformers import TFBertForSequenceClassification, BertTokenizer, BertConfig, AdamWeightDecay\n",
        "\n",
        "# Since the data size is big, we will need to use a GPU\n",
        "\n",
        "%tensorflow_version 2.x\n",
        "device_name = tf.test.gpu_device_name()\n",
        "if device_name != '/device:GPU:0':\n",
        "  raise SystemError('GPU device not found')\n",
        "print('Found GPU at: {}'.format(device_name))"
      ],
      "execution_count": 4,
      "outputs": [
        {
          "output_type": "stream",
          "name": "stdout",
          "text": [
            "Collecting git+https://github.com/huggingface/transformers\n",
            "  Cloning https://github.com/huggingface/transformers to /tmp/pip-req-build-69y5kcdp\n",
            "  Running command git clone -q https://github.com/huggingface/transformers /tmp/pip-req-build-69y5kcdp\n",
            "  Installing build dependencies ... \u001b[?25l\u001b[?25hdone\n",
            "  Getting requirements to build wheel ... \u001b[?25l\u001b[?25hdone\n",
            "    Preparing wheel metadata ... \u001b[?25l\u001b[?25hdone\n",
            "Requirement already satisfied: tqdm>=4.27 in /usr/local/lib/python3.7/dist-packages (from transformers==4.13.0.dev0) (4.62.3)\n",
            "Collecting huggingface-hub<1.0,>=0.1.0\n",
            "  Downloading huggingface_hub-0.1.2-py3-none-any.whl (59 kB)\n",
            "\u001b[K     |████████████████████████████████| 59 kB 4.8 MB/s \n",
            "\u001b[?25hCollecting pyyaml>=5.1\n",
            "  Downloading PyYAML-6.0-cp37-cp37m-manylinux_2_5_x86_64.manylinux1_x86_64.manylinux_2_12_x86_64.manylinux2010_x86_64.whl (596 kB)\n",
            "\u001b[K     |████████████████████████████████| 596 kB 16.2 MB/s \n",
            "\u001b[?25hRequirement already satisfied: packaging>=20.0 in /usr/local/lib/python3.7/dist-packages (from transformers==4.13.0.dev0) (21.2)\n",
            "Collecting sacremoses\n",
            "  Downloading sacremoses-0.0.46-py3-none-any.whl (895 kB)\n",
            "\u001b[K     |████████████████████████████████| 895 kB 54.2 MB/s \n",
            "\u001b[?25hRequirement already satisfied: numpy>=1.17 in /usr/local/lib/python3.7/dist-packages (from transformers==4.13.0.dev0) (1.19.5)\n",
            "Requirement already satisfied: regex!=2019.12.17 in /usr/local/lib/python3.7/dist-packages (from transformers==4.13.0.dev0) (2019.12.20)\n",
            "Collecting tokenizers<0.11,>=0.10.1\n",
            "  Downloading tokenizers-0.10.3-cp37-cp37m-manylinux_2_5_x86_64.manylinux1_x86_64.manylinux_2_12_x86_64.manylinux2010_x86_64.whl (3.3 MB)\n",
            "\u001b[K     |████████████████████████████████| 3.3 MB 80.0 MB/s \n",
            "\u001b[?25hRequirement already satisfied: requests in /usr/local/lib/python3.7/dist-packages (from transformers==4.13.0.dev0) (2.23.0)\n",
            "Requirement already satisfied: importlib-metadata in /usr/local/lib/python3.7/dist-packages (from transformers==4.13.0.dev0) (4.8.1)\n",
            "Requirement already satisfied: filelock in /usr/local/lib/python3.7/dist-packages (from transformers==4.13.0.dev0) (3.3.2)\n",
            "Requirement already satisfied: typing-extensions>=3.7.4.3 in /usr/local/lib/python3.7/dist-packages (from huggingface-hub<1.0,>=0.1.0->transformers==4.13.0.dev0) (3.10.0.2)\n",
            "Requirement already satisfied: pyparsing<3,>=2.0.2 in /usr/local/lib/python3.7/dist-packages (from packaging>=20.0->transformers==4.13.0.dev0) (2.4.7)\n",
            "Requirement already satisfied: zipp>=0.5 in /usr/local/lib/python3.7/dist-packages (from importlib-metadata->transformers==4.13.0.dev0) (3.6.0)\n",
            "Requirement already satisfied: idna<3,>=2.5 in /usr/local/lib/python3.7/dist-packages (from requests->transformers==4.13.0.dev0) (2.10)\n",
            "Requirement already satisfied: chardet<4,>=3.0.2 in /usr/local/lib/python3.7/dist-packages (from requests->transformers==4.13.0.dev0) (3.0.4)\n",
            "Requirement already satisfied: certifi>=2017.4.17 in /usr/local/lib/python3.7/dist-packages (from requests->transformers==4.13.0.dev0) (2021.10.8)\n",
            "Requirement already satisfied: urllib3!=1.25.0,!=1.25.1,<1.26,>=1.21.1 in /usr/local/lib/python3.7/dist-packages (from requests->transformers==4.13.0.dev0) (1.24.3)\n",
            "Requirement already satisfied: joblib in /usr/local/lib/python3.7/dist-packages (from sacremoses->transformers==4.13.0.dev0) (1.1.0)\n",
            "Requirement already satisfied: click in /usr/local/lib/python3.7/dist-packages (from sacremoses->transformers==4.13.0.dev0) (7.1.2)\n",
            "Requirement already satisfied: six in /usr/local/lib/python3.7/dist-packages (from sacremoses->transformers==4.13.0.dev0) (1.15.0)\n",
            "Building wheels for collected packages: transformers\n",
            "  Building wheel for transformers (PEP 517) ... \u001b[?25l\u001b[?25hdone\n",
            "  Created wheel for transformers: filename=transformers-4.13.0.dev0-py3-none-any.whl size=3122862 sha256=0ecd4f84d2de728a7ad69f71833f54c3209a88dcf2af55396b98e72747ba83ad\n",
            "  Stored in directory: /tmp/pip-ephem-wheel-cache-vjpwo2n3/wheels/35/2e/a7/d819e3310040329f0f47e57c9e3e7a7338aa5e74c49acfe522\n",
            "Successfully built transformers\n",
            "Installing collected packages: pyyaml, tokenizers, sacremoses, huggingface-hub, transformers\n",
            "  Attempting uninstall: pyyaml\n",
            "    Found existing installation: PyYAML 3.13\n",
            "    Uninstalling PyYAML-3.13:\n",
            "      Successfully uninstalled PyYAML-3.13\n",
            "Successfully installed huggingface-hub-0.1.2 pyyaml-6.0 sacremoses-0.0.46 tokenizers-0.10.3 transformers-4.13.0.dev0\n",
            "Found GPU at: /device:GPU:0\n"
          ]
        }
      ]
    },
    {
      "cell_type": "markdown",
      "metadata": {
        "id": "Yv74pEtvKH2-"
      },
      "source": [
        "# Data Cleaning"
      ]
    },
    {
      "cell_type": "markdown",
      "metadata": {
        "id": "6bl9P-CBhoHp"
      },
      "source": [
        "### Cleaning Process"
      ]
    },
    {
      "cell_type": "code",
      "metadata": {
        "id": "dmmw2-zqg-6J"
      },
      "source": [
        "# In our project, we have performed the data splitting, so we won't need to do the train_test_split anymore.\n",
        "\n",
        "train = pd.read_csv(\"train_text_emoji_clean.csv\")\n",
        "test = pd.read_csv(\"test_text_emoji_clean.csv\")\n",
        "valid = pd.read_csv(\"valid_text_emoji_clean.csv\")\n",
        "\n",
        "# Remove usernames + punctuations + (numbers) + excessive spaces\n",
        "\n",
        "for i in range(len(train)):\n",
        "    message = train[\"tweets\"][i]\n",
        "    clean_message = message.split(\":\", 1)\n",
        "    if len(clean_message) > 1:\n",
        "        train[\"tweets\"][i] = re.sub(\" +\", \" \", re.sub(\"\\d+\", \" \", re.sub(r'[^\\w\\s]', '', clean_message[1])))\n",
        "    else:\n",
        "        train[\"tweets\"][i] = re.sub(\" +\", \" \", re.sub(\"\\d+\", \" \", re.sub(r'[^\\w\\s]', '', clean_message[0])))\n",
        "\n",
        "for i in range(len(test)):\n",
        "    message = test[\"tweets\"][i]\n",
        "    clean_message = message.split(\":\", 1)\n",
        "    if len(clean_message) > 1:\n",
        "        test[\"tweets\"][i] = re.sub(\" +\", \" \", re.sub(\"\\d+\", \" \", re.sub(r'[^\\w\\s]', '', clean_message[1])))\n",
        "    else:\n",
        "        test[\"tweets\"][i] = re.sub(\" +\", \" \", re.sub(\"\\d+\", \" \", re.sub(r'[^\\w\\s]', '', clean_message[0])))\n",
        "\n",
        "    \n",
        "for i in range(len(valid)):\n",
        "    message = valid[\"tweets\"][i]\n",
        "    clean_message = message.split(\":\", 1)\n",
        "    if len(clean_message) > 1:\n",
        "        valid[\"tweets\"][i] = re.sub(\" +\", \" \", re.sub(\"\\d+\", \" \", re.sub(r'[^\\w\\s]', '', clean_message[1])))\n",
        "    else:\n",
        "        valid[\"tweets\"][i] = re.sub(\" +\", \" \", re.sub(\"\\d+\", \" \", re.sub(r'[^\\w\\s]', '', clean_message[0])))\n",
        "\n",
        "# Remove all rows that has more than 1 emoji representations\n",
        "\n",
        "train = train[train['annotations'].map(len) == 1]\n",
        "test = test[test['annotations'].map(len) == 1]\n",
        "valid = valid[valid['annotations'].map(len) == 1]\n",
        "\n",
        "# Reset the index after dropping several rows\n",
        "\n",
        "train = train.reset_index()\n",
        "test = test.reset_index()\n",
        "valid = valid.reset_index()\n",
        "\n",
        "# Assign the tweets as the dataset for the model\n",
        "\n",
        "X_train = train[\"tweets\"]\n",
        "X_test = test[\"tweets\"]\n",
        "X_valid = valid[\"tweets\"]\n",
        "\n",
        "# Encode the emojis\n",
        "\n",
        "train['classification'] = pd.factorize(train[\"annotations\"])[0]\n",
        "test['classification'] = pd.factorize(test[\"annotations\"])[0]\n",
        "valid['classification'] = pd.factorize(valid[\"annotations\"])[0]\n",
        "\n",
        "# Assign the encoded emojis as the labels for the model\n",
        "\n",
        "y_train = train['classification']\n",
        "y_test = test['classification']\n",
        "y_valid = valid['classification']"
      ],
      "execution_count": 5,
      "outputs": []
    },
    {
      "cell_type": "markdown",
      "metadata": {
        "id": "w6fWF-UChrDn"
      },
      "source": [
        "### List of All Emojis"
      ]
    },
    {
      "cell_type": "code",
      "metadata": {
        "colab": {
          "base_uri": "https://localhost:8080/"
        },
        "id": "RiBfwUK7hCrM",
        "outputId": "82101d6c-d181-4292-e745-cf80f51d2f5f"
      },
      "source": [
        "# Collect all the possible emojis (will be useful for our final prediction function)\n",
        "\n",
        "emojis = train[\"annotations\"].unique()\n",
        "emojis"
      ],
      "execution_count": 6,
      "outputs": [
        {
          "output_type": "execute_result",
          "data": {
            "text/plain": [
              "array(['😂', '😭', '😍', '🙄', '❤', '😊', '😩', '🤔', '😘', '🏽', '💯', '🙃'],\n",
              "      dtype=object)"
            ]
          },
          "metadata": {},
          "execution_count": 6
        }
      ]
    },
    {
      "cell_type": "markdown",
      "metadata": {
        "id": "1M6_jcjghh-g"
      },
      "source": [
        "### Training Data"
      ]
    },
    {
      "cell_type": "code",
      "metadata": {
        "colab": {
          "base_uri": "https://localhost:8080/"
        },
        "id": "ZLv8sGoPhGeQ",
        "outputId": "084020ab-a5a6-415b-cf9b-fb7c76e0c4ae"
      },
      "source": [
        "# Take a look at the training dataset + label\n",
        "\n",
        "print(X_train)\n",
        "\n",
        "print(\"==================================================\")\n",
        "\n",
        "print(y_train)"
      ],
      "execution_count": 7,
      "outputs": [
        {
          "output_type": "stream",
          "name": "stdout",
          "text": [
            "0                               school is so dead o my god\n",
            "1        lol Ive been told mine is worse than yours but...\n",
            "2        Im excited to hear them That shit is going rat...\n",
            "3        Damn alycia knows everything even indirect tweets\n",
            "4                               That sound like everything\n",
            "                               ...                        \n",
            "52881                 Or That Picture Was Just Cute To You\n",
            "52882                    Im otw wit some gas still hate me\n",
            "52883                                  Yeahhh you kinda do\n",
            "52884                       nothing wit youuuuu raymundooo\n",
            "52885    dont be that person who parks right next to me...\n",
            "Name: tweets, Length: 52886, dtype: object\n",
            "==================================================\n",
            "0         0\n",
            "1         0\n",
            "2         0\n",
            "3         0\n",
            "4         0\n",
            "         ..\n",
            "52881    11\n",
            "52882    11\n",
            "52883    11\n",
            "52884    11\n",
            "52885    11\n",
            "Name: classification, Length: 52886, dtype: int64\n"
          ]
        }
      ]
    },
    {
      "cell_type": "markdown",
      "metadata": {
        "id": "5_jtmsZfhuWo"
      },
      "source": [
        "### Test Data"
      ]
    },
    {
      "cell_type": "code",
      "metadata": {
        "colab": {
          "base_uri": "https://localhost:8080/"
        },
        "id": "lFZxBgyxhHFg",
        "outputId": "f453a559-e655-44d9-87c6-269f986face4"
      },
      "source": [
        "# Take a look at the test dataset + label\n",
        "\n",
        "print(X_test)\n",
        "\n",
        "print(\"==================================================\")\n",
        "\n",
        "print(y_test)"
      ],
      "execution_count": 8,
      "outputs": [
        {
          "output_type": "stream",
          "name": "stdout",
          "text": [
            "0          The conversation is so deep i saw adele rolling\n",
            "1         Lord were coo asf lol Just waiting for break ...\n",
            "2                                                   I cant\n",
            "3        These little kids talking about going to Canad...\n",
            "4                                       only would do that\n",
            "                               ...                        \n",
            "13480                           The ball hates Croatia smh\n",
            "13481                        Sexy bitch I hope she bout it\n",
            "13482    I didnt realize that my tweets were private an...\n",
            "13483                         lowkey annoyed for no reason\n",
            "13484                          appreciate it while it last\n",
            "Name: tweets, Length: 13485, dtype: object\n",
            "==================================================\n",
            "0         0\n",
            "1         0\n",
            "2         0\n",
            "3         0\n",
            "4         0\n",
            "         ..\n",
            "13480    11\n",
            "13481    11\n",
            "13482    11\n",
            "13483    11\n",
            "13484    11\n",
            "Name: classification, Length: 13485, dtype: int64\n"
          ]
        }
      ]
    },
    {
      "cell_type": "markdown",
      "metadata": {
        "id": "d2PUkJVIhxYR"
      },
      "source": [
        "### Validation Data"
      ]
    },
    {
      "cell_type": "code",
      "metadata": {
        "colab": {
          "base_uri": "https://localhost:8080/"
        },
        "id": "ScHB57PBhIzC",
        "outputId": "9b5c85b2-78e4-4584-932a-c4455826c321"
      },
      "source": [
        "# Take a look at the validation dataset + label\n",
        "\n",
        "print(X_valid)\n",
        "\n",
        "print(\"==================================================\")\n",
        "\n",
        "print(y_valid)"
      ],
      "execution_count": 9,
      "outputs": [
        {
          "output_type": "stream",
          "name": "stdout",
          "text": [
            "0                             hahahah you guys crack me up\n",
            "1                                                  Im dead\n",
            "2                     ate girl The tweet was before TMC pa\n",
            "3        Also who wouldve thought that Will Griggs on f...\n",
            "4                             Im not fooling w you tonight\n",
            "                               ...                        \n",
            "13476    Hopefully I dont fall asleep in the toilets in...\n",
            "13477    Excited for the lake Not excited to wake up at...\n",
            "13478    mom just told me shes leaving early to go to a...\n",
            "13479          all these double shifts are killing my vibe\n",
            "13480     I love when my legs are shaved but hate shavi...\n",
            "Name: tweets, Length: 13481, dtype: object\n",
            "==================================================\n",
            "0         0\n",
            "1         0\n",
            "2         0\n",
            "3         0\n",
            "4         0\n",
            "         ..\n",
            "13476    11\n",
            "13477    11\n",
            "13478    11\n",
            "13479    11\n",
            "13480    11\n",
            "Name: classification, Length: 13481, dtype: int64\n"
          ]
        }
      ]
    },
    {
      "cell_type": "markdown",
      "metadata": {
        "id": "NlH4SAD9KOJK"
      },
      "source": [
        "# Tokenization"
      ]
    },
    {
      "cell_type": "markdown",
      "metadata": {
        "id": "asz2Z0DDhOcP"
      },
      "source": [
        "### [CLS] & [SEP] Tokens Insertion"
      ]
    },
    {
      "cell_type": "code",
      "metadata": {
        "colab": {
          "base_uri": "https://localhost:8080/"
        },
        "id": "XHuykb6jh82i",
        "outputId": "e1dd5307-0102-4d66-f6a4-ff8e1efa32eb"
      },
      "source": [
        "# In every BERT model, we need to include the tokens [CLS] & [SEP] for every row's text\n",
        "\n",
        "# [SEP] token helps the model to understand the end of one input and the start of another input in the same sequence input.\n",
        "\n",
        "# [CLS] is a special classification token and the last hidden state of BERT corresponding to this token (h[CLS]) is used for classification tasks.\n",
        "\n",
        "sentences_train = [\"[CLS] \" + query + \" [SEP]\" for query in X_train]\n",
        "sentences_test = [\"[CLS] \" + query + \" [SEP]\" for query in X_test]\n",
        "sentences_valid = [\"[CLS] \" + query + \" [SEP]\" for query in X_valid]\n",
        "print(sentences_train[0])\n",
        "print(sentences_test[0])\n",
        "print(sentences_valid[0])"
      ],
      "execution_count": 10,
      "outputs": [
        {
          "output_type": "stream",
          "name": "stdout",
          "text": [
            "[CLS] school is so dead o my god [SEP]\n",
            "[CLS] The conversation is so deep i saw adele rolling [SEP]\n",
            "[CLS] hahahah you guys crack me up [SEP]\n"
          ]
        }
      ]
    },
    {
      "cell_type": "markdown",
      "metadata": {
        "id": "oUH-4dz3hVUL"
      },
      "source": [
        "### Tokenizing Each Sentences"
      ]
    },
    {
      "cell_type": "code",
      "metadata": {
        "colab": {
          "base_uri": "https://localhost:8080/",
          "height": 178,
          "referenced_widgets": [
            "98e32a580dbe41adbaa4024bff6e0633",
            "36346c4e3bf24fed9ad1e439a12ee1c4",
            "9512a51e61474d3cb3d1fc1d2c6ce7e6",
            "26a91ce46eea4f59b099020b269ad9da",
            "931430daecb14013bf65a9110cfc4c59",
            "82d3d1057e5a48b599f9c055e274b6e9",
            "cd36a3d9bf5e42149db3734a442cd09c",
            "c8d80d7eec4a472fa0320f9187ca6587",
            "55c8387d107943089c121bf582abe613",
            "83440cfb221d402da10593a4dc95af26",
            "8e520e13a34f442cb3c4019ae620af30",
            "d80a0b2d27c845cbafd1ec55da6d153e",
            "725bd4c2b4ec4d4f9dc6f22b5cfdb85c",
            "eeb0e41123e647d3a1b650ff90218c96",
            "37c592fe20314a6e83a74358dc8b89a3",
            "cdc991ab35354002a301c2e76657d716",
            "2b2f28f332da4a0c8c0254c3407da808",
            "d0f661d5479d44c9aeb8d92c041a956d",
            "fd9a15cadde7456c84102b7d8a0a03ba",
            "70504329d62e46c0bf5ad40d5a3fcbec",
            "e9747fa35c1e472888e9ac829b4fbcc2",
            "531a233ad8a44fb7b8fd986601f7cd19",
            "dd8e5859d2884990b01a64502c7b2619",
            "5b19c57924ac49dd995f8604117529d1",
            "e3d565cb3f2d45f28040b5d2e571fac8",
            "cbb4a8a07f3446528801f69b6c77ff85",
            "6a32a72d11f14ceba32d5f4545926ec0",
            "a87c8ab00ff9428e8b7217e5114e21da",
            "63b834687aab4418a810e13190a1a7ee",
            "81f3830f8adc4a14bea53c01e42d5fda",
            "3e6900035fee4899812961d3be0f718b",
            "81c98d60a2bd45febfd23a77a79d2273",
            "31e581e1994c427eb76fb65a875702e7",
            "68810b0026354c51912b42525e07c5cb",
            "40b94bfc2e6144028deda658336d5aed",
            "f89226e8846b42ddb8b003303628f840",
            "167915419d8d44a08640d4337c481086",
            "908140da4a794b56a1069f96a2d6c814",
            "514e2adbfb424002923fe89c26a50743",
            "75e27c9caff1429da9ac5bf9c4b2b858",
            "ddbb42ece53e4304937140dff8a75195",
            "2aa85667dc0e484ebb2256d7e339dd92",
            "996e9340272445a4b2122f1bf02d2ffb",
            "8f3758dfe9ec439aa4a5542b9398aefd"
          ]
        },
        "id": "okm48fs9r1eT",
        "outputId": "b6f99de0-cac0-4f7a-b3c1-375d1569b733"
      },
      "source": [
        "# Tokenize all the sentences in the training, test, and validation datasets\n",
        "\n",
        "tokenizer = BertTokenizer.from_pretrained('bert-base-uncased')\n",
        "tokenized_texts_train = [tokenizer.tokenize(sent) for sent in sentences_train]\n",
        "tokenized_texts_test = [tokenizer.tokenize(sent) for sent in sentences_test]\n",
        "tokenized_texts_valid = [tokenizer.tokenize(sent) for sent in sentences_valid]\n",
        "print (\"Tokenize the first sentence of the training:\")\n",
        "print (tokenized_texts_train[0])\n"
      ],
      "execution_count": 11,
      "outputs": [
        {
          "output_type": "display_data",
          "data": {
            "application/vnd.jupyter.widget-view+json": {
              "model_id": "98e32a580dbe41adbaa4024bff6e0633",
              "version_minor": 0,
              "version_major": 2
            },
            "text/plain": [
              "Downloading:   0%|          | 0.00/226k [00:00<?, ?B/s]"
            ]
          },
          "metadata": {}
        },
        {
          "output_type": "display_data",
          "data": {
            "application/vnd.jupyter.widget-view+json": {
              "model_id": "d80a0b2d27c845cbafd1ec55da6d153e",
              "version_minor": 0,
              "version_major": 2
            },
            "text/plain": [
              "Downloading:   0%|          | 0.00/28.0 [00:00<?, ?B/s]"
            ]
          },
          "metadata": {}
        },
        {
          "output_type": "display_data",
          "data": {
            "application/vnd.jupyter.widget-view+json": {
              "model_id": "dd8e5859d2884990b01a64502c7b2619",
              "version_minor": 0,
              "version_major": 2
            },
            "text/plain": [
              "Downloading:   0%|          | 0.00/455k [00:00<?, ?B/s]"
            ]
          },
          "metadata": {}
        },
        {
          "output_type": "display_data",
          "data": {
            "application/vnd.jupyter.widget-view+json": {
              "model_id": "68810b0026354c51912b42525e07c5cb",
              "version_minor": 0,
              "version_major": 2
            },
            "text/plain": [
              "Downloading:   0%|          | 0.00/570 [00:00<?, ?B/s]"
            ]
          },
          "metadata": {}
        },
        {
          "output_type": "stream",
          "name": "stdout",
          "text": [
            "Tokenize the first sentence of the training:\n",
            "['[CLS]', 'school', 'is', 'so', 'dead', 'o', 'my', 'god', '[SEP]']\n"
          ]
        }
      ]
    },
    {
      "cell_type": "markdown",
      "metadata": {
        "id": "qyTIhaQXKbfY"
      },
      "source": [
        "# Text Padding"
      ]
    },
    {
      "cell_type": "code",
      "metadata": {
        "id": "nxV0ScvPV5Xr"
      },
      "source": [
        "max_token_length_train = 0\n",
        "max_token_length_test = 0\n",
        "max_token_length_valid = 0\n",
        "\n",
        "for i in range(len(tokenized_texts_train)):\n",
        "  if max_token_length_train < len(tokenized_texts_train[i]):\n",
        "    max_token_length_train = len(tokenized_texts_train[i])\n",
        "\n",
        "for i in range(len(tokenized_texts_test)):\n",
        "  if max_token_length_test < len(tokenized_texts_test[i]):\n",
        "    max_token_length_test = len(tokenized_texts_test[i])\n",
        "\n",
        "for i in range(len(tokenized_texts_valid)):\n",
        "  if max_token_length_valid < len(tokenized_texts_valid[i]):\n",
        "    max_token_length_valid = len(tokenized_texts_valid[i])"
      ],
      "execution_count": 12,
      "outputs": []
    },
    {
      "cell_type": "code",
      "metadata": {
        "colab": {
          "base_uri": "https://localhost:8080/"
        },
        "id": "vcXusXqAR7Uj",
        "outputId": "1fc21866-771e-487e-e559-638575fe0750"
      },
      "source": [
        "# Find out the maximum number of tokens in each sentence from the train, test, validation datasets\n",
        "\n",
        "print(\"Maximum number of tokens in each tweet from the training dataset is: \"+str(max_token_length_train))\n",
        "print(\"Maximum number of tokens in each tweet from the test dataset is: \"+str(max_token_length_test))\n",
        "print(\"Maximum number of tokens in each tweet from the validation dataset is: \"+str(max_token_length_valid))"
      ],
      "execution_count": 13,
      "outputs": [
        {
          "output_type": "stream",
          "name": "stdout",
          "text": [
            "Maximum number of tokens in each tweet from the training dataset is: 45\n",
            "Maximum number of tokens in each tweet from the test dataset is: 39\n",
            "Maximum number of tokens in each tweet from the validation dataset is: 41\n"
          ]
        }
      ]
    },
    {
      "cell_type": "code",
      "metadata": {
        "id": "JWYu-QkHrtWr"
      },
      "source": [
        "# Set the maximum sequence length (a bit higher than the max number of tokens). \n",
        "MAX_LEN = 50\n",
        "\n",
        "# Pad our input tokens\n",
        "input_ids_train = pad_sequences([tokenizer.convert_tokens_to_ids(txt) for txt in tokenized_texts_train],\n",
        "                          maxlen=MAX_LEN, dtype=\"long\", truncating=\"post\", padding=\"post\")\n",
        "\n",
        "input_ids_test = pad_sequences([tokenizer.convert_tokens_to_ids(txt) for txt in tokenized_texts_test],\n",
        "                          maxlen=MAX_LEN, dtype=\"long\", truncating=\"post\", padding=\"post\")\n",
        "\n",
        "input_ids_valid = pad_sequences([tokenizer.convert_tokens_to_ids(txt) for txt in tokenized_texts_valid],\n",
        "                          maxlen=MAX_LEN, dtype=\"long\", truncating=\"post\", padding=\"post\")\n",
        "\n",
        "# Use the BERT tokenizer to convert the tokens to their index numbers in the BERT vocabulary\n",
        "input_ids_train = [tokenizer.convert_tokens_to_ids(x) for x in tokenized_texts_train]\n",
        "input_ids_train = pad_sequences(input_ids_train, maxlen=MAX_LEN, dtype=\"long\", truncating=\"post\", padding=\"post\")\n",
        "\n",
        "input_ids_test = [tokenizer.convert_tokens_to_ids(x) for x in tokenized_texts_test]\n",
        "input_ids_test = pad_sequences(input_ids_test, maxlen=MAX_LEN, dtype=\"long\", truncating=\"post\", padding=\"post\")\n",
        "\n",
        "input_ids_valid = [tokenizer.convert_tokens_to_ids(x) for x in tokenized_texts_valid]\n",
        "input_ids_valid = pad_sequences(input_ids_valid, maxlen=MAX_LEN, dtype=\"long\", truncating=\"post\", padding=\"post\")"
      ],
      "execution_count": 14,
      "outputs": []
    },
    {
      "cell_type": "markdown",
      "metadata": {
        "id": "3khuiaokKiiG"
      },
      "source": [
        "# Finalize the data for the model"
      ]
    },
    {
      "cell_type": "code",
      "metadata": {
        "id": "n-a0FgVesaIO"
      },
      "source": [
        "train_inputs = input_ids_train\n",
        "test_inputs = input_ids_test\n",
        "validation_inputs = input_ids_valid\n",
        "\n",
        "\n",
        "train_labels = y_train\n",
        "test_labels = y_test\n",
        "validation_labels = y_valid"
      ],
      "execution_count": 15,
      "outputs": []
    },
    {
      "cell_type": "markdown",
      "metadata": {
        "id": "_NS4ek5tKm8R"
      },
      "source": [
        "# Model Preparation"
      ]
    },
    {
      "cell_type": "markdown",
      "metadata": {
        "id": "lrB5chtTg7K4"
      },
      "source": [
        "### Creating a New Model"
      ]
    },
    {
      "cell_type": "code",
      "metadata": {
        "colab": {
          "base_uri": "https://localhost:8080/",
          "height": 136,
          "referenced_widgets": [
            "a5f2ec00715c4b5bbf10c5d6c1ef61a9",
            "319032dc840d4203b6b640950f82dad1",
            "07a37fb8193a44838e776acfe2f63bf7",
            "62678068393849e4bc80190a3c5ae74c",
            "a8f318a064dc4ad6a4ef2f8e328e54ed",
            "bc290849193449bb8a40bbaec9549b32",
            "be629ce9b5894581b310922d46c0a362",
            "56b3423ce12542d88067d00f335d76dc",
            "475a59e1c7334c68adad618a52f9d26f",
            "f782a337b7f84707afb53e61e5077f7b",
            "ecc0000fc54349f0894fb37f0b703f18"
          ]
        },
        "id": "Q_VsVo7RTtgc",
        "outputId": "436fef5a-e5ba-46c6-8516-7ee9b373817b"
      },
      "source": [
        "# Add some regularization to the model to reduce overfitting\n",
        "configuration = BertConfig(hidden_dropout_prob = 0.15, num_labels=12)\n",
        "\n",
        "# Load model from pretrained model/vocabulary\n",
        "model = TFBertForSequenceClassification.from_pretrained('bert-base-uncased', config=configuration)"
      ],
      "execution_count": 16,
      "outputs": [
        {
          "output_type": "display_data",
          "data": {
            "application/vnd.jupyter.widget-view+json": {
              "model_id": "a5f2ec00715c4b5bbf10c5d6c1ef61a9",
              "version_minor": 0,
              "version_major": 2
            },
            "text/plain": [
              "Downloading:   0%|          | 0.00/511M [00:00<?, ?B/s]"
            ]
          },
          "metadata": {}
        },
        {
          "output_type": "stream",
          "name": "stderr",
          "text": [
            "All model checkpoint layers were used when initializing TFBertForSequenceClassification.\n",
            "\n",
            "Some layers of TFBertForSequenceClassification were not initialized from the model checkpoint at bert-base-uncased and are newly initialized: ['classifier']\n",
            "You should probably TRAIN this model on a down-stream task to be able to use it for predictions and inference.\n"
          ]
        }
      ]
    },
    {
      "cell_type": "markdown",
      "metadata": {
        "id": "HZ32rX0ygv5i"
      },
      "source": [
        "### Optimizer + Loss Function + Metric"
      ]
    },
    {
      "cell_type": "code",
      "metadata": {
        "id": "ub9RVErujCBX"
      },
      "source": [
        "# Prepare training: \n",
        "# -. Compile tf.keras model with loss and learning rate schedule \n",
        "# -. Use AdamWeightDecay as the optimizer\n",
        "\n",
        "with tf.device('/device:GPU:0'):\n",
        "  optimizer = AdamWeightDecay(learning_rate=3e-05, epsilon=1e-08, clipnorm=1.0)\n",
        "  loss = tf.keras.losses.SparseCategoricalCrossentropy(from_logits=True)\n",
        "  metric = tf.keras.metrics.SparseCategoricalAccuracy('accuracy')\n",
        "  model.compile(optimizer=optimizer, loss=loss, metrics=[metric])"
      ],
      "execution_count": 17,
      "outputs": []
    },
    {
      "cell_type": "markdown",
      "metadata": {
        "id": "BOBZQcmtgsGJ"
      },
      "source": [
        "### Model Configuration"
      ]
    },
    {
      "cell_type": "code",
      "metadata": {
        "colab": {
          "base_uri": "https://localhost:8080/"
        },
        "id": "KmBTqSW8jSBH",
        "outputId": "3c45e2f2-4596-442a-82d0-ecfe6853da86"
      },
      "source": [
        "# Check the configuration of the model\n",
        "\n",
        "configuration = model.config\n",
        "configuration"
      ],
      "execution_count": 18,
      "outputs": [
        {
          "output_type": "execute_result",
          "data": {
            "text/plain": [
              "BertConfig {\n",
              "  \"_name_or_path\": \"bert-base-uncased\",\n",
              "  \"attention_probs_dropout_prob\": 0.1,\n",
              "  \"classifier_dropout\": null,\n",
              "  \"hidden_act\": \"gelu\",\n",
              "  \"hidden_dropout_prob\": 0.15,\n",
              "  \"hidden_size\": 768,\n",
              "  \"id2label\": {\n",
              "    \"0\": \"LABEL_0\",\n",
              "    \"1\": \"LABEL_1\",\n",
              "    \"2\": \"LABEL_2\",\n",
              "    \"3\": \"LABEL_3\",\n",
              "    \"4\": \"LABEL_4\",\n",
              "    \"5\": \"LABEL_5\",\n",
              "    \"6\": \"LABEL_6\",\n",
              "    \"7\": \"LABEL_7\",\n",
              "    \"8\": \"LABEL_8\",\n",
              "    \"9\": \"LABEL_9\",\n",
              "    \"10\": \"LABEL_10\",\n",
              "    \"11\": \"LABEL_11\"\n",
              "  },\n",
              "  \"initializer_range\": 0.02,\n",
              "  \"intermediate_size\": 3072,\n",
              "  \"label2id\": {\n",
              "    \"LABEL_0\": 0,\n",
              "    \"LABEL_1\": 1,\n",
              "    \"LABEL_10\": 10,\n",
              "    \"LABEL_11\": 11,\n",
              "    \"LABEL_2\": 2,\n",
              "    \"LABEL_3\": 3,\n",
              "    \"LABEL_4\": 4,\n",
              "    \"LABEL_5\": 5,\n",
              "    \"LABEL_6\": 6,\n",
              "    \"LABEL_7\": 7,\n",
              "    \"LABEL_8\": 8,\n",
              "    \"LABEL_9\": 9\n",
              "  },\n",
              "  \"layer_norm_eps\": 1e-12,\n",
              "  \"max_position_embeddings\": 512,\n",
              "  \"model_type\": \"bert\",\n",
              "  \"num_attention_heads\": 12,\n",
              "  \"num_hidden_layers\": 12,\n",
              "  \"pad_token_id\": 0,\n",
              "  \"position_embedding_type\": \"absolute\",\n",
              "  \"transformers_version\": \"4.13.0.dev0\",\n",
              "  \"type_vocab_size\": 2,\n",
              "  \"use_cache\": true,\n",
              "  \"vocab_size\": 30522\n",
              "}"
            ]
          },
          "metadata": {},
          "execution_count": 18
        }
      ]
    },
    {
      "cell_type": "markdown",
      "metadata": {
        "id": "IzmAlX9IgpX6"
      },
      "source": [
        "### Model Summary"
      ]
    },
    {
      "cell_type": "code",
      "metadata": {
        "colab": {
          "base_uri": "https://localhost:8080/"
        },
        "id": "NXT6lfhQZJ57",
        "outputId": "b062fe61-24d5-4dae-9d5b-5e16df019520"
      },
      "source": [
        "# Here's the summary of the model\n",
        "\n",
        "model.summary()"
      ],
      "execution_count": 19,
      "outputs": [
        {
          "output_type": "stream",
          "name": "stdout",
          "text": [
            "Model: \"tf_bert_for_sequence_classification\"\n",
            "_________________________________________________________________\n",
            " Layer (type)                Output Shape              Param #   \n",
            "=================================================================\n",
            " bert (TFBertMainLayer)      multiple                  109482240 \n",
            "                                                                 \n",
            " dropout_37 (Dropout)        multiple                  0         \n",
            "                                                                 \n",
            " classifier (Dense)          multiple                  9228      \n",
            "                                                                 \n",
            "=================================================================\n",
            "Total params: 109,491,468\n",
            "Trainable params: 109,491,468\n",
            "Non-trainable params: 0\n",
            "_________________________________________________________________\n"
          ]
        }
      ]
    },
    {
      "cell_type": "markdown",
      "metadata": {
        "id": "OxTzROejKqof"
      },
      "source": [
        "# Model Training"
      ]
    },
    {
      "cell_type": "markdown",
      "metadata": {
        "id": "yM6VcRdxgeJ0"
      },
      "source": [
        "### Training Part"
      ]
    },
    {
      "cell_type": "code",
      "metadata": {
        "colab": {
          "base_uri": "https://localhost:8080/"
        },
        "id": "9JR05w6pMvSn",
        "outputId": "e52cd6de-7e54-460a-c86f-54c0e847a536"
      },
      "source": [
        "# BERT can be easily overfitted, due to its model complexity.\n",
        "# So in this case, the model is trained with 2 epochs only. \n",
        "\n",
        "checkpoint_path = \"training_1/cp.ckpt\"\n",
        "checkpoint_dir = os.path.dirname(checkpoint_path)\n",
        "\n",
        "callback_1 = tf.keras.callbacks.EarlyStopping(monitor='val_loss', patience=3)\n",
        "callback_2 = tf.keras.callbacks.ModelCheckpoint(filepath=checkpoint_path,\n",
        "                                                 save_weights_only=True,\n",
        "                                                 verbose=1)\n",
        "\n",
        "history = model.fit(x=train_inputs, y=train_labels, validation_data = (validation_inputs, validation_labels), callbacks=[callback_1, callback_2], epochs = 2, batch_size=32)\n"
      ],
      "execution_count": 20,
      "outputs": [
        {
          "output_type": "stream",
          "name": "stdout",
          "text": [
            "Epoch 1/2\n",
            "1653/1653 [==============================] - ETA: 0s - loss: 2.2139 - accuracy: 0.2191\n",
            "Epoch 00001: saving model to training_1/cp.ckpt\n",
            "1653/1653 [==============================] - 408s 233ms/step - loss: 2.2139 - accuracy: 0.2191 - val_loss: 2.0367 - val_accuracy: 0.2911\n",
            "Epoch 2/2\n",
            "1653/1653 [==============================] - ETA: 0s - loss: 1.8993 - accuracy: 0.3442\n",
            "Epoch 00002: saving model to training_1/cp.ckpt\n",
            "1653/1653 [==============================] - 383s 231ms/step - loss: 1.8993 - accuracy: 0.3442 - val_loss: 2.0104 - val_accuracy: 0.3101\n"
          ]
        }
      ]
    },
    {
      "cell_type": "markdown",
      "metadata": {
        "id": "q04jscCBghmJ"
      },
      "source": [
        "### Visualization of the Model Training Result"
      ]
    },
    {
      "cell_type": "code",
      "metadata": {
        "colab": {
          "base_uri": "https://localhost:8080/",
          "height": 282
        },
        "id": "Zi13y4QgjGNc",
        "outputId": "58e120d5-4dc6-435d-bf49-c66a5f9ad4d4"
      },
      "source": [
        "losses = history.history['loss']\n",
        "accs = history.history['accuracy']\n",
        "val_losses = history.history['val_loss']\n",
        "val_accs = history.history['val_accuracy']\n",
        "epochs = len(losses)\n",
        "\n",
        "plt.figure(figsize=(12, 4))\n",
        "for i, metrics in enumerate(zip([losses, accs], [val_losses, val_accs], ['Loss', 'Accuracy'])):\n",
        "  plt.subplot(1, 2, i + 1)\n",
        "  plt.plot(range(epochs), metrics[0], label='Training {}'.format(metrics[2]))\n",
        "  plt.plot(range(epochs), metrics[1], label='Validation {}'.format(metrics[2]))\n",
        "  plt.legend()\n",
        "plt.show()\n",
        "plt.savefig('bert_accuracy.png')"
      ],
      "execution_count": 21,
      "outputs": [
        {
          "output_type": "display_data",
          "data": {
            "image/png": "[encoded data removed]",
            "text/plain": [
              "<Figure size 864x288 with 2 Axes>"
            ]
          },
          "metadata": {
            "needs_background": "light"
          }
        },
        {
          "output_type": "display_data",
          "data": {
            "text/plain": [
              "<Figure size 432x288 with 0 Axes>"
            ]
          },
          "metadata": {}
        }
      ]
    },
    {
      "cell_type": "markdown",
      "metadata": {
        "id": "-fA7aSC5Kt8q"
      },
      "source": [
        "# Model Evaluation"
      ]
    },
    {
      "cell_type": "markdown",
      "metadata": {
        "id": "q_-GfsWbealy"
      },
      "source": [
        "### Loss + Accuracy"
      ]
    },
    {
      "cell_type": "code",
      "metadata": {
        "colab": {
          "base_uri": "https://localhost:8080/"
        },
        "id": "e8JIDU4HsObg",
        "outputId": "49659cc8-9940-4664-936b-c4eab0195419"
      },
      "source": [
        "# Check out the accuracy + loss of the model using the test dataset\n",
        "\n",
        "results = model.evaluate(test_inputs, test_labels, batch_size = 32)\n",
        "\n",
        "print(\"test loss, test acc:\", results)"
      ],
      "execution_count": 22,
      "outputs": [
        {
          "output_type": "stream",
          "name": "stdout",
          "text": [
            "422/422 [==============================] - 32s 76ms/step - loss: 2.0258 - accuracy: 0.2980\n",
            "test loss, test acc: [2.0257623195648193, 0.29796069860458374]\n"
          ]
        }
      ]
    },
    {
      "cell_type": "code",
      "metadata": {
        "id": "EfUUzxngA6EU"
      },
      "source": [
        "very_complex_prediction = model.predict(test_inputs).logits"
      ],
      "execution_count": 23,
      "outputs": []
    },
    {
      "cell_type": "code",
      "metadata": {
        "colab": {
          "base_uri": "https://localhost:8080/"
        },
        "id": "iuITEJUnc9AK",
        "outputId": "a562958a-dbf5-4892-d09b-6615e11c4c06"
      },
      "source": [
        "very_complex_prediction"
      ],
      "execution_count": 24,
      "outputs": [
        {
          "output_type": "execute_result",
          "data": {
            "text/plain": [
              "array([[ 1.4857144 ,  1.8338704 , -0.24874955, ..., -1.0938574 ,\n",
              "        -1.7554514 ,  1.1934172 ],\n",
              "       [ 1.6619511 ,  1.0344625 , -0.7448918 , ...,  0.00521341,\n",
              "        -0.5380526 ,  0.28686512],\n",
              "       [ 0.13462532,  2.7060208 , -0.7917083 , ..., -0.73824805,\n",
              "        -1.262429  ,  1.1350123 ],\n",
              "       ...,\n",
              "       [ 1.5159193 ,  1.1476005 , -1.460758  , ..., -1.0310515 ,\n",
              "        -1.7170012 ,  2.3026233 ],\n",
              "       [ 1.2872727 ,  0.9334684 , -1.7700008 , ..., -0.33977124,\n",
              "        -0.45307496,  1.7356303 ],\n",
              "       [-0.32313097, -1.1996603 , -1.4536438 , ...,  2.7231617 ,\n",
              "         3.410479  , -0.2813233 ]], dtype=float32)"
            ]
          },
          "metadata": {},
          "execution_count": 24
        }
      ]
    },
    {
      "cell_type": "code",
      "metadata": {
        "colab": {
          "base_uri": "https://localhost:8080/"
        },
        "id": "z2604MP1dPEZ",
        "outputId": "e9187cde-cb67-4e32-dd5b-f731bf841860"
      },
      "source": [
        "np.shape(very_complex_prediction)"
      ],
      "execution_count": 25,
      "outputs": [
        {
          "output_type": "execute_result",
          "data": {
            "text/plain": [
              "(13485, 12)"
            ]
          },
          "metadata": {},
          "execution_count": 25
        }
      ]
    },
    {
      "cell_type": "code",
      "metadata": {
        "colab": {
          "base_uri": "https://localhost:8080/"
        },
        "id": "ivb4MTqqDB7q",
        "outputId": "d445178a-0716-4965-8509-51be77f61ef7"
      },
      "source": [
        "# Find out the predicted label for each row by finding the index of the maximum value for each row\n",
        "\n",
        "prediction = []\n",
        "\n",
        "for i in range(len(very_complex_prediction)):\n",
        "  prediction.append(np.argmax(very_complex_prediction[i]))\n",
        "\n",
        "print(prediction)"
      ],
      "execution_count": 26,
      "outputs": [
        {
          "output_type": "stream",
          "name": "stdout",
          "text": [
            "[1, 0, 6, 3, 0, 0, 3, 7, 11, 0, 1, 9, 0, 3, 9, 1, 11, 6, 8, 8, 3, 2, 11, 6, 10, 0, 2, 0, 0, 6, 7, 11, 0, 0, 0, 10, 1, 5, 0, 11, 0, 3, 1, 0, 0, 11, 11, 7, 0, 0, 0, 2, 6, 7, 5, 11, 0, 1, 7, 5, 11, 1, 0, 5, 2, 10, 7, 0, 2, 5, 0, 3, 6, 0, 0, 3, 0, 0, 11, 5, 1, 11, 7, 10, 0, 3, 0, 3, 11, 0, 0, 3, 7, 8, 0, 3, 8, 5, 0, 10, 5, 0, 0, 11, 7, 11, 10, 11, 0, 1, 2, 6, 0, 11, 0, 1, 9, 0, 6, 0, 0, 6, 3, 7, 3, 7, 0, 1, 0, 5, 11, 11, 11, 3, 11, 0, 7, 0, 9, 0, 3, 3, 0, 9, 3, 1, 10, 7, 3, 9, 0, 0, 11, 0, 2, 3, 1, 11, 3, 6, 7, 3, 2, 11, 11, 5, 2, 1, 1, 0, 1, 11, 11, 0, 0, 3, 3, 9, 2, 0, 1, 11, 11, 0, 0, 5, 9, 8, 2, 1, 3, 7, 2, 0, 9, 0, 3, 2, 0, 10, 11, 7, 0, 11, 2, 1, 11, 7, 4, 0, 10, 5, 5, 0, 6, 8, 0, 0, 2, 11, 11, 3, 6, 9, 3, 11, 5, 5, 2, 11, 11, 2, 11, 0, 7, 0, 6, 5, 5, 11, 0, 3, 6, 0, 0, 5, 0, 0, 11, 5, 2, 9, 0, 0, 11, 2, 4, 10, 0, 1, 1, 5, 2, 11, 1, 4, 0, 5, 9, 1, 0, 0, 6, 9, 5, 7, 0, 0, 0, 9, 1, 1, 0, 1, 6, 0, 0, 0, 9, 2, 9, 11, 0, 3, 3, 3, 9, 0, 0, 1, 1, 0, 7, 3, 0, 11, 1, 0, 2, 3, 0, 6, 1, 10, 11, 7, 2, 0, 5, 3, 6, 9, 0, 3, 10, 11, 5, 0, 3, 0, 8, 2, 3, 7, 0, 1, 4, 11, 6, 0, 7, 0, 3, 0, 3, 1, 3, 0, 9, 5, 0, 3, 1, 3, 0, 4, 7, 2, 0, 3, 1, 0, 1, 0, 11, 10, 0, 0, 0, 3, 3, 0, 11, 11, 0, 6, 0, 4, 7, 3, 0, 3, 7, 0, 1, 7, 3, 11, 5, 4, 3, 0, 5, 3, 0, 2, 1, 9, 0, 3, 3, 0, 0, 0, 1, 7, 0, 9, 7, 2, 3, 3, 0, 10, 1, 0, 0, 0, 1, 11, 3, 1, 11, 11, 0, 2, 7, 4, 11, 7, 2, 0, 11, 3, 11, 0, 11, 0, 0, 0, 3, 7, 10, 1, 1, 0, 11, 4, 0, 0, 7, 5, 3, 2, 11, 0, 0, 0, 3, 3, 2, 3, 3, 5, 11, 7, 3, 1, 0, 3, 0, 7, 11, 1, 3, 7, 6, 9, 5, 8, 1, 0, 1, 0, 2, 11, 0, 0, 5, 0, 10, 4, 0, 7, 11, 1, 5, 2, 11, 0, 2, 11, 0, 2, 1, 11, 2, 3, 0, 3, 0, 2, 0, 5, 5, 0, 2, 6, 3, 9, 0, 0, 10, 0, 1, 2, 2, 1, 0, 1, 1, 7, 0, 7, 2, 2, 2, 0, 0, 0, 1, 11, 10, 1, 11, 0, 10, 6, 0, 2, 0, 10, 3, 5, 3, 0, 0, 3, 11, 11, 0, 11, 1, 9, 1, 5, 0, 11, 11, 10, 5, 0, 3, 3, 1, 3, 7, 2, 1, 0, 5, 11, 7, 11, 0, 0, 3, 2, 3, 9, 0, 6, 3, 0, 3, 3, 7, 7, 0, 1, 2, 0, 1, 11, 3, 2, 3, 3, 0, 3, 7, 0, 6, 2, 7, 6, 1, 5, 6, 0, 3, 2, 1, 8, 2, 7, 3, 0, 0, 3, 7, 7, 3, 11, 0, 11, 0, 6, 5, 5, 0, 5, 0, 1, 11, 1, 0, 7, 11, 0, 11, 3, 1, 7, 0, 7, 11, 0, 11, 0, 0, 0, 11, 0, 6, 11, 0, 7, 7, 0, 5, 3, 0, 11, 0, 3, 0, 2, 4, 1, 3, 2, 11, 3, 2, 7, 7, 2, 3, 11, 2, 6, 5, 10, 6, 7, 3, 7, 7, 0, 4, 0, 0, 0, 11, 0, 0, 4, 7, 2, 2, 0, 0, 4, 0, 0, 11, 1, 7, 3, 11, 5, 0, 5, 3, 7, 3, 7, 3, 0, 0, 5, 1, 10, 1, 2, 0, 0, 0, 10, 3, 7, 11, 7, 0, 7, 1, 1, 10, 10, 5, 10, 0, 8, 2, 7, 11, 3, 4, 3, 0, 0, 2, 11, 2, 11, 1, 11, 11, 6, 0, 0, 11, 7, 11, 6, 0, 3, 2, 3, 2, 6, 5, 5, 11, 2, 0, 0, 2, 11, 11, 7, 10, 5, 5, 11, 2, 0, 11, 5, 1, 10, 5, 2, 2, 0, 0, 0, 6, 3, 1, 7, 3, 0, 0, 7, 0, 5, 7, 11, 11, 7, 5, 5, 3, 0, 11, 3, 0, 3, 11, 0, 0, 11, 3, 0, 11, 2, 0, 5, 11, 3, 11, 11, 6, 0, 1, 2, 0, 2, 6, 3, 0, 0, 0, 5, 0, 11, 2, 0, 6, 2, 10, 0, 1, 0, 0, 2, 5, 0, 1, 0, 8, 0, 0, 7, 1, 8, 0, 7, 1, 0, 0, 2, 0, 0, 4, 5, 11, 6, 0, 1, 0, 6, 7, 2, 2, 0, 9, 1, 3, 9, 0, 7, 0, 7, 11, 0, 7, 3, 7, 1, 5, 1, 0, 7, 3, 0, 3, 0, 0, 0, 5, 11, 7, 5, 0, 5, 3, 0, 11, 0, 7, 3, 7, 2, 1, 3, 4, 5, 11, 3, 0, 11, 0, 3, 10, 0, 0, 0, 3, 2, 7, 0, 3, 1, 8, 4, 0, 3, 5, 2, 7, 11, 1, 7, 0, 1, 11, 5, 6, 5, 7, 7, 1, 0, 5, 8, 0, 2, 3, 5, 3, 0, 7, 7, 0, 0, 2, 11, 7, 0, 3, 2, 11, 11, 5, 11, 0, 11, 0, 0, 4, 2, 5, 11, 11, 0, 8, 3, 0, 9, 3, 5, 0, 0, 7, 10, 0, 3, 0, 3, 5, 6, 7, 7, 0, 2, 0, 5, 0, 11, 0, 3, 0, 10, 1, 2, 9, 10, 1, 11, 0, 0, 0, 2, 0, 11, 7, 7, 7, 0, 11, 11, 2, 8, 3, 0, 0, 2, 3, 9, 1, 11, 0, 7, 6, 0, 2, 2, 0, 2, 0, 0, 3, 0, 0, 0, 2, 11, 5, 11, 6, 11, 1, 5, 1, 0, 7, 0, 7, 0, 5, 0, 0, 1, 11, 11, 2, 5, 3, 11, 0, 4, 2, 1, 0, 11, 3, 11, 7, 9, 11, 0, 3, 5, 0, 0, 0, 5, 11, 4, 4, 3, 5, 5, 11, 8, 0, 3, 10, 0, 0, 2, 6, 0, 0, 10, 2, 5, 11, 6, 8, 11, 10, 0, 0, 0, 11, 0, 0, 3, 0, 7, 7, 9, 3, 0, 1, 0, 10, 0, 0, 3, 0, 4, 3, 1, 11, 3, 0, 3, 3, 3, 5, 0, 0, 1, 7, 0, 1, 3, 2, 0, 3, 7, 3, 0, 4, 11, 3, 2, 0, 0, 2, 9, 7, 3, 1, 10, 0, 8, 10, 11, 6, 0, 3, 3, 0, 0, 0, 5, 1, 6, 2, 3, 0, 10, 0, 11, 11, 0, 1, 6, 6, 0, 0, 1, 0, 0, 0, 2, 5, 3, 3, 0, 0, 0, 7, 9, 0, 10, 0, 0, 0, 0, 3, 5, 10, 2, 2, 5, 6, 11, 0, 1, 0, 2, 5, 3, 0, 7, 5, 0, 0, 6, 7, 10, 11, 11, 0, 3, 2, 2, 2, 3, 3, 11, 1, 0, 5, 0, 11, 3, 0, 3, 6, 3, 1, 0, 4, 5, 2, 3, 1, 5, 9, 10, 0, 3, 3, 5, 4, 7, 10, 1, 6, 0, 4, 4, 3, 1, 0, 1, 2, 0, 0, 1, 11, 11, 0, 11, 2, 2, 8, 9, 11, 0, 0, 6, 11, 0, 2, 0, 0, 3, 5, 0, 0, 0, 0, 3, 3, 0, 7, 7, 1, 1, 5, 2, 0, 3, 11, 2, 11, 0, 0, 3, 0, 2, 7, 3, 11, 7, 0, 7, 7, 0, 0, 3, 1, 9, 1, 11, 3, 10, 9, 0, 6, 11, 0, 11, 0, 2, 0, 6, 0, 3, 10, 0, 3, 7, 3, 11, 0, 7, 1, 4, 3, 5, 1, 11, 7, 2, 1, 5, 11, 8, 0, 3, 10, 1, 0, 0, 3, 0, 2, 11, 0, 1, 10, 11, 3, 11, 4, 2, 3, 3, 0, 7, 1, 1, 5, 7, 0, 0, 5, 11, 4, 0, 6, 0, 0, 3, 0, 0, 0, 2, 2, 3, 0, 4, 3, 0, 2, 1, 1, 1, 0, 11, 0, 8, 7, 11, 0, 7, 1, 1, 0, 0, 6, 7, 1, 0, 0, 11, 7, 0, 9, 1, 0, 5, 2, 0, 9, 3, 9, 1, 3, 11, 7, 7, 6, 7, 0, 9, 1, 3, 11, 7, 0, 0, 6, 11, 2, 0, 3, 0, 10, 0, 7, 11, 0, 11, 10, 5, 3, 0, 11, 7, 10, 5, 3, 0, 10, 2, 0, 11, 3, 11, 0, 11, 0, 2, 0, 0, 1, 2, 9, 2, 0, 6, 1, 10, 1, 10, 1, 3, 1, 3, 1, 2, 3, 0, 4, 2, 0, 1, 5, 1, 0, 3, 11, 5, 3, 5, 2, 11, 0, 0, 8, 0, 3, 7, 2, 11, 6, 7, 1, 0, 5, 1, 11, 0, 1, 1, 7, 1, 7, 7, 0, 0, 5, 3, 1, 0, 5, 3, 10, 1, 11, 3, 3, 1, 7, 2, 10, 8, 0, 10, 11, 10, 6, 5, 0, 3, 2, 0, 9, 3, 5, 6, 0, 0, 0, 0, 3, 0, 7, 1, 1, 3, 5, 4, 10, 3, 3, 0, 11, 10, 0, 1, 7, 0, 1, 1, 7, 11, 1, 2, 4, 0, 10, 0, 3, 10, 11, 11, 2, 5, 0, 0, 0, 3, 2, 7, 1, 5, 0, 11, 0, 7, 1, 3, 3, 7, 0, 3, 0, 11, 0, 0, 5, 3, 0, 0, 1, 3, 7, 6, 0, 7, 3, 5, 3, 0, 0, 2, 11, 6, 1, 5, 0, 5, 11, 3, 0, 0, 7, 11, 11, 11, 3, 11, 2, 1, 7, 10, 0, 2, 7, 7, 3, 2, 11, 6, 2, 3, 0, 6, 11, 3, 3, 1, 11, 1, 0, 11, 0, 5, 2, 11, 9, 6, 11, 6, 2, 0, 0, 5, 7, 6, 3, 6, 1, 11, 0, 7, 3, 2, 0, 3, 0, 11, 5, 6, 0, 2, 5, 3, 3, 2, 7, 11, 11, 0, 0, 9, 2, 0, 0, 0, 7, 8, 9, 5, 11, 7, 5, 11, 2, 0, 11, 3, 2, 0, 2, 0, 0, 4, 3, 5, 2, 9, 0, 0, 11, 9, 1, 7, 0, 1, 6, 2, 11, 1, 11, 11, 3, 1, 11, 11, 11, 7, 2, 3, 4, 3, 1, 0, 0, 1, 0, 0, 6, 11, 7, 7, 8, 6, 6, 0, 3, 1, 1, 4, 0, 1, 2, 7, 5, 9, 0, 6, 2, 11, 2, 5, 6, 11, 6, 3, 11, 7, 1, 11, 9, 7, 9, 0, 4, 0, 1, 9, 5, 8, 2, 0, 3, 3, 6, 6, 0, 3, 1, 11, 6, 2, 4, 7, 11, 3, 6, 8, 6, 7, 11, 2, 1, 8, 11, 3, 3, 11, 5, 11, 1, 6, 5, 7, 6, 1, 1, 0, 1, 1, 6, 11, 2, 11, 3, 3, 10, 1, 2, 11, 10, 3, 3, 10, 2, 0, 2, 0, 1, 11, 11, 6, 0, 11, 1, 11, 3, 9, 6, 6, 1, 2, 2, 0, 2, 11, 11, 0, 3, 11, 1, 2, 5, 2, 7, 5, 4, 3, 9, 6, 6, 3, 7, 11, 3, 11, 3, 0, 1, 1, 2, 10, 3, 1, 8, 0, 6, 11, 5, 5, 1, 2, 0, 1, 6, 10, 1, 3, 4, 0, 6, 10, 0, 6, 1, 3, 2, 0, 2, 0, 2, 4, 2, 2, 11, 0, 11, 1, 1, 7, 6, 11, 2, 3, 3, 6, 11, 11, 11, 7, 1, 6, 3, 7, 1, 7, 2, 0, 6, 0, 1, 7, 6, 1, 1, 6, 6, 2, 1, 1, 0, 0, 1, 1, 7, 0, 1, 1, 0, 1, 1, 4, 0, 1, 2, 4, 6, 11, 3, 1, 6, 6, 1, 3, 11, 1, 0, 0, 7, 1, 5, 7, 10, 3, 0, 1, 4, 11, 2, 2, 6, 10, 11, 0, 3, 6, 2, 1, 11, 1, 0, 4, 6, 11, 0, 6, 11, 0, 7, 0, 2, 2, 4, 1, 1, 11, 2, 11, 1, 11, 11, 6, 1, 6, 6, 7, 4, 6, 3, 1, 4, 6, 6, 6, 2, 9, 1, 2, 3, 11, 6, 6, 3, 6, 5, 11, 11, 4, 0, 11, 5, 8, 3, 4, 1, 3, 3, 11, 2, 11, 1, 6, 11, 8, 1, 11, 6, 5, 3, 11, 11, 6, 6, 9, 6, 0, 9, 3, 1, 1, 2, 6, 1, 6, 2, 6, 4, 8, 0, 3, 2, 1, 1, 7, 11, 3, 0, 0, 6, 11, 0, 3, 1, 1, 6, 0, 10, 0, 10, 0, 0, 2, 4, 1, 4, 6, 11, 1, 5, 7, 3, 11, 7, 2, 0, 0, 1, 11, 8, 3, 6, 8, 6, 0, 2, 0, 1, 7, 2, 2, 7, 3, 11, 2, 3, 0, 0, 11, 0, 3, 11, 1, 2, 8, 6, 6, 1, 1, 2, 3, 11, 1, 1, 6, 10, 0, 2, 1, 1, 4, 2, 5, 3, 2, 4, 7, 10, 5, 2, 3, 3, 3, 6, 6, 5, 1, 3, 0, 6, 7, 1, 2, 11, 3, 2, 3, 1, 0, 4, 1, 6, 0, 0, 2, 1, 7, 8, 3, 7, 0, 9, 3, 4, 4, 3, 6, 0, 10, 0, 5, 0, 11, 9, 0, 3, 10, 6, 1, 0, 0, 0, 5, 1, 11, 6, 2, 11, 6, 6, 2, 6, 11, 1, 4, 0, 8, 0, 2, 0, 0, 11, 8, 11, 5, 1, 0, 1, 2, 0, 3, 10, 6, 0, 8, 1, 2, 11, 2, 4, 5, 1, 6, 11, 2, 3, 1, 11, 0, 1, 1, 1, 0, 2, 11, 11, 11, 5, 11, 2, 5, 6, 3, 2, 6, 6, 6, 7, 0, 6, 1, 11, 6, 3, 7, 0, 5, 9, 11, 3, 2, 1, 0, 3, 7, 11, 1, 1, 7, 6, 0, 1, 0, 6, 6, 1, 11, 3, 7, 3, 10, 9, 1, 2, 6, 11, 3, 6, 3, 6, 4, 7, 1, 11, 0, 2, 1, 1, 6, 1, 0, 7, 11, 0, 5, 9, 1, 1, 11, 0, 4, 4, 11, 11, 8, 2, 6, 6, 3, 5, 6, 10, 5, 7, 6, 1, 6, 0, 0, 4, 6, 2, 3, 6, 6, 1, 7, 1, 6, 6, 1, 7, 6, 6, 11, 5, 1, 11, 7, 6, 1, 0, 3, 1, 3, 6, 1, 1, 0, 1, 10, 11, 4, 0, 1, 10, 11, 0, 1, 0, 3, 2, 1, 2, 11, 11, 0, 7, 2, 6, 2, 0, 8, 1, 3, 3, 2, 11, 11, 1, 6, 2, 1, 6, 2, 0, 2, 2, 3, 6, 11, 7, 6, 1, 11, 4, 0, 3, 0, 3, 3, 0, 0, 6, 5, 0, 1, 0, 1, 6, 5, 11, 1, 6, 0, 0, 11, 1, 11, 0, 6, 6, 8, 1, 2, 3, 7, 2, 11, 0, 1, 6, 0, 6, 0, 6, 0, 2, 0, 11, 7, 1, 11, 11, 1, 1, 3, 1, 0, 3, 4, 6, 1, 2, 5, 6, 6, 11, 3, 2, 9, 9, 3, 1, 0, 7, 11, 1, 6, 1, 0, 11, 2, 6, 0, 11, 6, 6, 6, 2, 1, 6, 1, 10, 1, 2, 6, 7, 6, 2, 10, 1, 6, 2, 3, 6, 6, 3, 1, 2, 7, 3, 0, 1, 3, 2, 0, 2, 10, 7, 3, 1, 5, 5, 3, 0, 1, 0, 0, 0, 3, 5, 6, 0, 11, 11, 9, 0, 3, 2, 1, 10, 0, 1, 11, 5, 11, 1, 1, 1, 10, 1, 0, 6, 6, 2, 2, 11, 2, 0, 7, 11, 6, 3, 6, 6, 0, 7, 2, 0, 6, 6, 0, 1, 0, 1, 1, 6, 1, 1, 6, 11, 6, 5, 5, 1, 0, 1, 2, 9, 8, 7, 2, 0, 11, 0, 1, 3, 1, 0, 0, 2, 6, 4, 1, 6, 7, 2, 0, 6, 10, 0, 0, 0, 5, 3, 8, 1, 4, 11, 0, 6, 0, 6, 0, 4, 1, 11, 0, 6, 1, 7, 11, 0, 6, 1, 0, 0, 1, 6, 3, 2, 5, 1, 6, 0, 7, 2, 3, 7, 11, 6, 11, 6, 0, 5, 11, 3, 2, 6, 1, 1, 3, 11, 11, 5, 3, 3, 3, 3, 0, 1, 1, 1, 11, 7, 3, 3, 0, 6, 3, 6, 1, 2, 6, 3, 11, 0, 2, 2, 11, 9, 1, 1, 2, 1, 6, 0, 1, 11, 3, 11, 11, 1, 1, 1, 3, 4, 3, 7, 0, 1, 6, 9, 0, 11, 9, 1, 1, 1, 4, 0, 6, 0, 2, 0, 0, 9, 10, 3, 3, 4, 3, 1, 7, 0, 2, 0, 0, 6, 0, 7, 3, 1, 11, 0, 11, 11, 11, 1, 2, 3, 9, 7, 8, 0, 7, 6, 6, 3, 1, 6, 1, 3, 1, 11, 11, 6, 1, 6, 6, 6, 1, 7, 6, 6, 6, 1, 3, 11, 11, 1, 3, 1, 1, 1, 0, 2, 1, 2, 1, 2, 11, 10, 5, 0, 10, 1, 2, 11, 6, 0, 8, 6, 3, 6, 1, 11, 1, 11, 1, 6, 1, 0, 0, 5, 0, 1, 4, 0, 4, 0, 0, 3, 2, 1, 5, 3, 1, 6, 11, 5, 7, 0, 7, 11, 6, 2, 3, 4, 3, 11, 1, 0, 2, 1, 9, 1, 11, 5, 0, 3, 0, 7, 11, 2, 6, 2, 6, 7, 6, 2, 2, 4, 6, 3, 7, 0, 2, 1, 2, 0, 3, 11, 6, 1, 1, 1, 7, 7, 2, 8, 11, 2, 4, 0, 7, 11, 11, 3, 6, 4, 0, 2, 0, 1, 0, 11, 0, 2, 10, 11, 11, 0, 1, 11, 2, 11, 5, 6, 1, 7, 2, 0, 6, 0, 3, 2, 5, 0, 11, 2, 3, 1, 2, 3, 11, 1, 1, 1, 2, 9, 3, 3, 0, 6, 6, 11, 11, 1, 1, 11, 0, 5, 11, 1, 2, 1, 2, 11, 2, 1, 1, 3, 0, 2, 11, 2, 2, 0, 11, 8, 2, 1, 3, 2, 5, 0, 6, 6, 6, 3, 0, 1, 3, 1, 1, 1, 6, 1, 3, 3, 3, 6, 2, 6, 6, 6, 3, 2, 4, 1, 0, 11, 3, 5, 3, 11, 1, 1, 2, 1, 11, 2, 1, 2, 11, 0, 3, 1, 3, 11, 3, 11, 1, 3, 0, 0, 1, 1, 3, 2, 0, 2, 3, 7, 0, 1, 9, 1, 0, 1, 11, 0, 1, 1, 11, 6, 0, 6, 0, 1, 1, 1, 1, 11, 0, 2, 7, 1, 0, 11, 6, 8, 1, 6, 4, 6, 4, 6, 0, 0, 6, 11, 11, 3, 1, 6, 6, 7, 0, 1, 6, 3, 0, 3, 6, 11, 5, 5, 3, 6, 1, 3, 7, 1, 0, 5, 2, 11, 6, 3, 4, 3, 2, 1, 0, 0, 11, 0, 0, 5, 0, 6, 7, 6, 11, 1, 6, 1, 9, 1, 3, 0, 10, 11, 0, 1, 0, 1, 6, 11, 6, 2, 2, 6, 0, 7, 1, 11, 8, 5, 0, 0, 9, 1, 1, 1, 1, 3, 1, 2, 1, 11, 2, 11, 1, 11, 6, 11, 11, 1, 2, 5, 6, 11, 11, 11, 1, 11, 1, 11, 1, 0, 7, 1, 0, 8, 6, 11, 6, 1, 2, 6, 7, 6, 2, 6, 6, 6, 11, 0, 3, 1, 11, 0, 11, 7, 11, 1, 6, 5, 6, 6, 0, 3, 6, 1, 1, 0, 4, 2, 0, 3, 6, 1, 7, 1, 6, 3, 0, 3, 10, 3, 6, 7, 2, 6, 0, 6, 3, 3, 0, 1, 8, 0, 0, 0, 0, 9, 2, 2, 5, 2, 2, 4, 5, 2, 2, 2, 2, 2, 5, 5, 7, 2, 2, 10, 5, 2, 2, 2, 2, 0, 11, 2, 6, 2, 5, 0, 2, 11, 2, 4, 2, 4, 4, 0, 8, 2, 2, 2, 2, 5, 2, 7, 2, 5, 3, 9, 2, 3, 7, 5, 5, 9, 6, 1, 2, 2, 1, 2, 7, 1, 8, 0, 6, 2, 5, 5, 2, 8, 4, 2, 2, 2, 5, 1, 0, 0, 2, 0, 5, 2, 2, 2, 4, 2, 2, 6, 5, 4, 0, 2, 2, 5, 9, 2, 2, 4, 0, 2, 2, 0, 2, 5, 2, 2, 2, 2, 2, 4, 2, 2, 2, 2, 2, 4, 5, 2, 2, 7, 2, 2, 4, 5, 8, 11, 2, 2, 4, 2, 2, 2, 2, 4, 2, 2, 6, 0, 2, 8, 7, 2, 2, 8, 5, 9, 0, 2, 2, 2, 7, 2, 0, 2, 8, 2, 2, 11, 5, 4, 4, 2, 2, 2, 2, 2, 9, 2, 2, 5, 2, 4, 0, 5, 7, 2, 2, 8, 4, 2, 8, 2, 0, 4, 0, 5, 4, 2, 9, 2, 2, 5, 9, 2, 2, 5, 0, 5, 0, 0, 2, 2, 9, 2, 2, 2, 2, 2, 1, 11, 2, 2, 2, 8, 2, 2, 2, 3, 0, 7, 2, 0, 11, 2, 2, 0, 2, 2, 2, 2, 2, 2, 2, 7, 2, 2, 4, 1, 2, 2, 2, 2, 5, 11, 2, 3, 1, 6, 11, 5, 2, 7, 5, 2, 1, 8, 2, 5, 10, 0, 2, 0, 6, 2, 5, 2, 4, 4, 5, 2, 2, 2, 9, 1, 1, 2, 2, 4, 11, 2, 4, 2, 0, 4, 5, 7, 5, 4, 2, 0, 4, 8, 0, 11, 2, 0, 2, 2, 5, 5, 0, 7, 2, 2, 7, 2, 3, 2, 4, 2, 6, 2, 3, 4, 5, 8, 2, 2, 4, 2, 2, 7, 2, 11, 0, 2, 0, 2, 2, 8, 2, 2, 2, 2, 2, 2, 4, 2, 2, 0, 4, 11, 2, 11, 2, 5, 1, 0, 4, 1, 5, 5, 2, 8, 4, 2, 2, 0, 0, 2, 4, 5, 2, 2, 4, 1, 8, 2, 5, 1, 1, 2, 2, 4, 2, 5, 2, 5, 8, 5, 0, 8, 2, 9, 2, 1, 1, 5, 0, 10, 5, 5, 11, 9, 2, 9, 11, 2, 2, 0, 2, 2, 1, 2, 2, 7, 0, 4, 2, 2, 1, 2, 2, 5, 2, 2, 2, 2, 1, 1, 2, 11, 2, 2, 2, 11, 4, 0, 2, 6, 4, 2, 6, 6, 6, 5, 2, 2, 2, 2, 7, 1, 2, 5, 2, 2, 4, 2, 10, 0, 2, 2, 2, 2, 2, 2, 2, 5, 7, 2, 5, 2, 2, 2, 2, 2, 5, 3, 2, 2, 6, 7, 2, 5, 8, 2, 2, 4, 8, 2, 1, 5, 2, 4, 2, 2, 6, 9, 4, 4, 5, 4, 2, 8, 2, 11, 0, 0, 2, 2, 0, 2, 0, 2, 2, 2, 11, 2, 4, 2, 2, 2, 10, 5, 6, 9, 3, 8, 2, 5, 2, 2, 5, 2, 2, 5, 2, 5, 9, 4, 2, 1, 4, 8, 2, 2, 0, 4, 2, 4, 4, 9, 11, 2, 6, 2, 2, 2, 2, 0, 5, 2, 2, 2, 0, 8, 2, 2, 2, 11, 4, 2, 2, 11, 6, 2, 2, 1, 6, 2, 2, 8, 4, 4, 2, 0, 0, 1, 5, 5, 0, 0, 2, 5, 5, 2, 2, 9, 2, 2, 4, 6, 2, 2, 5, 4, 2, 2, 4, 2, 2, 2, 2, 2, 4, 2, 4, 1, 2, 2, 2, 2, 6, 2, 2, 4, 2, 2, 2, 4, 4, 5, 5, 6, 2, 2, 6, 2, 5, 7, 2, 2, 6, 4, 2, 8, 1, 1, 2, 2, 2, 0, 4, 7, 2, 2, 0, 9, 2, 8, 10, 2, 2, 2, 2, 1, 5, 2, 2, 4, 11, 0, 2, 2, 5, 5, 5, 2, 2, 4, 7, 1, 6, 2, 1, 2, 8, 2, 2, 2, 2, 11, 6, 4, 5, 0, 3, 11, 2, 2, 2, 1, 2, 5, 2, 6, 2, 4, 5, 1, 2, 2, 2, 5, 2, 2, 2, 6, 9, 2, 1, 5, 5, 0, 10, 2, 2, 2, 2, 2, 7, 2, 2, 2, 11, 2, 2, 2, 3, 2, 0, 2, 2, 2, 2, 2, 1, 2, 2, 2, 2, 2, 0, 2, 2, 0, 5, 7, 6, 5, 0, 2, 4, 4, 2, 2, 2, 2, 3, 2, 2, 7, 5, 2, 2, 2, 2, 8, 2, 2, 4, 2, 9, 7, 4, 3, 2, 2, 5, 0, 2, 3, 2, 1, 6, 2, 2, 11, 8, 2, 5, 4, 1, 9, 2, 4, 2, 2, 11, 5, 2, 2, 8, 2, 2, 5, 4, 2, 5, 11, 2, 8, 2, 2, 2, 11, 2, 2, 2, 10, 6, 2, 10, 2, 2, 2, 0, 4, 9, 4, 1, 2, 2, 2, 2, 2, 2, 2, 2, 1, 2, 5, 2, 9, 0, 2, 2, 2, 2, 2, 8, 7, 9, 6, 11, 11, 2, 5, 5, 2, 2, 11, 2, 2, 2, 11, 2, 2, 2, 2, 2, 2, 9, 2, 2, 6, 0, 2, 0, 2, 2, 2, 2, 1, 11, 0, 11, 2, 4, 2, 5, 5, 2, 2, 4, 2, 2, 5, 1, 2, 2, 5, 1, 0, 0, 5, 11, 9, 2, 0, 2, 5, 1, 8, 2, 4, 4, 2, 4, 4, 6, 3, 5, 5, 0, 11, 2, 5, 2, 2, 2, 0, 2, 5, 1, 11, 2, 2, 0, 1, 4, 5, 1, 2, 2, 8, 2, 7, 2, 6, 2, 2, 2, 2, 2, 6, 11, 4, 2, 0, 7, 2, 2, 2, 2, 8, 2, 5, 9, 8, 5, 5, 2, 5, 2, 2, 2, 5, 2, 1, 2, 0, 9, 2, 2, 2, 7, 2, 8, 4, 6, 2, 2, 11, 0, 2, 2, 2, 2, 7, 5, 2, 2, 1, 4, 8, 7, 8, 2, 2, 4, 2, 1, 3, 3, 4, 5, 2, 5, 2, 2, 5, 2, 2, 4, 4, 7, 2, 2, 2, 0, 2, 7, 2, 2, 2, 2, 2, 2, 2, 9, 2, 1, 2, 1, 2, 2, 0, 5, 2, 1, 2, 7, 5, 2, 2, 2, 2, 2, 2, 0, 2, 2, 2, 7, 11, 6, 5, 5, 1, 5, 1, 0, 2, 2, 2, 4, 2, 2, 2, 2, 0, 2, 2, 6, 7, 0, 9, 2, 2, 3, 11, 11, 6, 0, 11, 3, 3, 2, 10, 3, 11, 6, 3, 6, 11, 10, 5, 0, 11, 7, 11, 2, 11, 3, 0, 6, 5, 7, 3, 10, 3, 0, 0, 1, 3, 3, 0, 3, 5, 11, 11, 11, 3, 0, 0, 9, 11, 7, 6, 1, 11, 0, 3, 6, 0, 11, 3, 6, 6, 3, 2, 0, 11, 3, 2, 3, 1, 10, 11, 6, 0, 3, 3, 0, 10, 3, 3, 3, 0, 6, 7, 3, 11, 3, 0, 11, 3, 7, 0, 3, 11, 6, 8, 3, 1, 3, 3, 3, 3, 0, 0, 0, 1, 3, 0, 7, 11, 11, 6, 3, 6, 7, 11, 11, 5, 3, 11, 6, 0, 6, 6, 5, 11, 6, 3, 6, 0, 0, 6, 3, 11, 6, 11, 4, 3, 5, 1, 11, 6, 5, 11, 3, 11, 7, 3, 5, 11, 10, 6, 0, 11, 3, 3, 3, 0, 3, 11, 1, 3, 3, 7, 0, 3, 0, 0, 3, 11, 3, 5, 0, 11, 3, 0, 11, 3, 11, 2, 2, 10, 6, 5, 6, 0, 6, 0, 3, 11, 3, 5, 6, 6, 3, 0, 0, 11, 5, 3, 11, 11, 7, 11, 11, 0, 3, 2, 7, 7, 0, 3, 2, 3, 1, 11, 7, 5, 3, 3, 5, 0, 5, 7, 11, 1, 7, 6, 3, 1, 3, 0, 6, 3, 2, 11, 3, 3, 11, 3, 3, 2, 5, 3, 11, 0, 3, 3, 7, 3, 6, 7, 11, 3, 3, 3, 11, 11, 11, 5, 11, 6, 6, 6, 11, 0, 11, 11, 3, 7, 10, 10, 3, 11, 3, 11, 6, 3, 5, 3, 2, 3, 6, 1, 4, 3, 3, 11, 5, 10, 11, 3, 6, 8, 11, 3, 3, 11, 3, 3, 11, 3, 1, 0, 11, 2, 0, 11, 5, 6, 3, 10, 6, 3, 1, 3, 0, 10, 0, 3, 3, 6, 0, 11, 3, 10, 7, 0, 10, 11, 11, 3, 1, 11, 0, 3, 3, 10, 0, 5, 6, 3, 5, 3, 1, 6, 11, 6, 10, 0, 11, 6, 3, 10, 7, 0, 5, 6, 5, 7, 6, 3, 11, 3, 6, 6, 11, 3, 0, 5, 0, 11, 9, 0, 3, 6, 3, 6, 3, 0, 0, 2, 1, 6, 5, 0, 7, 3, 0, 0, 10, 1, 9, 0, 1, 11, 11, 2, 10, 7, 1, 6, 6, 3, 7, 1, 3, 11, 3, 0, 11, 11, 3, 3, 3, 7, 10, 0, 11, 11, 11, 7, 3, 0, 3, 3, 9, 3, 3, 0, 5, 11, 1, 11, 6, 11, 11, 6, 11, 3, 11, 0, 11, 1, 11, 0, 3, 6, 0, 3, 7, 3, 2, 6, 2, 11, 6, 9, 3, 3, 6, 0, 3, 0, 3, 11, 7, 6, 3, 7, 3, 3, 3, 10, 0, 2, 11, 0, 11, 0, 3, 7, 0, 6, 6, 6, 0, 3, 7, 11, 0, 7, 10, 10, 0, 6, 2, 9, 5, 1, 7, 0, 11, 1, 3, 3, 0, 3, 6, 7, 6, 11, 11, 3, 1, 3, 11, 6, 4, 1, 2, 0, 3, 6, 3, 0, 11, 11, 0, 7, 3, 3, 3, 10, 3, 11, 11, 11, 3, 11, 11, 3, 3, 6, 11, 6, 3, 3, 3, 6, 10, 11, 3, 11, 2, 5, 5, 9, 3, 0, 1, 0, 9, 3, 11, 1, 11, 3, 1, 7, 6, 0, 3, 0, 9, 11, 1, 4, 11, 3, 7, 3, 3, 1, 2, 2, 11, 1, 7, 6, 11, 6, 3, 10, 0, 3, 3, 3, 3, 5, 4, 0, 1, 3, 7, 1, 10, 3, 6, 6, 0, 3, 0, 6, 6, 3, 7, 3, 3, 10, 1, 11, 0, 3, 2, 1, 11, 3, 7, 0, 11, 10, 11, 11, 11, 3, 7, 3, 3, 1, 11, 3, 6, 0, 11, 11, 5, 0, 3, 2, 3, 0, 5, 11, 6, 6, 3, 6, 11, 3, 7, 10, 3, 1, 6, 7, 0, 11, 3, 3, 0, 3, 0, 6, 2, 11, 5, 3, 0, 11, 6, 5, 3, 9, 6, 3, 11, 3, 3, 7, 7, 11, 6, 11, 6, 6, 1, 11, 10, 3, 6, 1, 6, 11, 1, 1, 7, 6, 3, 5, 3, 11, 3, 2, 5, 11, 11, 4, 6, 11, 5, 11, 1, 3, 7, 0, 3, 7, 6, 2, 0, 1, 6, 1, 0, 11, 7, 3, 0, 6, 10, 11, 5, 10, 11, 0, 2, 6, 3, 6, 3, 7, 3, 6, 6, 7, 11, 10, 10, 3, 3, 3, 0, 3, 3, 3, 6, 10, 3, 3, 10, 11, 3, 3, 11, 11, 3, 5, 6, 3, 11, 0, 11, 7, 6, 6, 3, 3, 3, 6, 3, 8, 0, 3, 11, 6, 0, 0, 0, 6, 3, 10, 0, 1, 10, 0, 5, 6, 11, 0, 5, 7, 7, 11, 2, 11, 7, 9, 2, 6, 11, 0, 3, 3, 1, 11, 3, 0, 0, 10, 11, 0, 7, 0, 11, 3, 6, 11, 1, 0, 11, 11, 1, 3, 0, 1, 3, 7, 1, 3, 3, 3, 7, 3, 2, 5, 11, 3, 5, 6, 11, 5, 7, 1, 3, 6, 3, 11, 6, 3, 6, 11, 3, 7, 11, 11, 1, 0, 3, 0, 11, 6, 2, 7, 5, 10, 3, 11, 6, 6, 0, 3, 11, 11, 3, 11, 11, 0, 10, 1, 0, 6, 6, 6, 0, 3, 3, 6, 3, 0, 3, 11, 11, 6, 5, 6, 6, 2, 3, 6, 3, 2, 7, 1, 6, 3, 11, 5, 11, 3, 3, 2, 6, 3, 2, 3, 11, 3, 0, 3, 11, 2, 0, 6, 6, 10, 6, 3, 11, 11, 2, 0, 11, 3, 1, 6, 3, 0, 2, 6, 5, 6, 3, 0, 1, 6, 1, 11, 5, 3, 6, 11, 7, 6, 11, 0, 3, 6, 0, 11, 11, 3, 3, 6, 6, 11, 3, 1, 3, 3, 3, 0, 1, 3, 5, 1, 0, 0, 0, 7, 3, 3, 3, 0, 3, 5, 6, 0, 0, 0, 3, 5, 3, 2, 5, 11, 2, 3, 3, 7, 11, 0, 3, 3, 11, 10, 9, 11, 3, 0, 3, 11, 11, 3, 3, 3, 4, 11, 3, 6, 3, 11, 2, 11, 11, 11, 11, 11, 6, 3, 0, 11, 3, 11, 11, 3, 2, 3, 11, 11, 11, 0, 1, 10, 1, 3, 0, 7, 3, 11, 11, 3, 3, 3, 0, 3, 11, 3, 11, 3, 3, 7, 3, 1, 9, 6, 1, 3, 2, 6, 3, 6, 2, 3, 3, 3, 3, 3, 9, 3, 7, 3, 0, 11, 1, 0, 5, 3, 0, 3, 0, 7, 10, 1, 0, 8, 3, 3, 10, 10, 11, 1, 1, 11, 11, 6, 3, 1, 0, 11, 3, 6, 3, 11, 10, 8, 0, 7, 3, 0, 4, 10, 0, 0, 6, 11, 5, 0, 3, 3, 6, 3, 0, 6, 3, 10, 7, 3, 11, 11, 3, 1, 7, 10, 11, 7, 1, 6, 11, 3, 11, 3, 6, 11, 11, 1, 11, 11, 2, 3, 3, 10, 11, 11, 0, 0, 6, 3, 11, 7, 11, 1, 6, 0, 6, 5, 6, 11, 3, 9, 11, 0, 6, 3, 6, 2, 11, 10, 6, 7, 6, 2, 11, 1, 10, 3, 6, 5, 4, 2, 2, 2, 0, 2, 4, 4, 10, 4, 4, 10, 0, 4, 5, 4, 4, 5, 8, 2, 8, 4, 4, 4, 1, 8, 2, 2, 3, 0, 5, 5, 5, 7, 2, 6, 4, 5, 4, 8, 2, 4, 10, 5, 4, 2, 5, 1, 8, 8, 5, 5, 4, 2, 2, 4, 4, 4, 5, 2, 11, 11, 5, 4, 4, 2, 1, 4, 4, 2, 5, 5, 4, 1, 4, 1, 4, 4, 0, 8, 5, 4, 0, 9, 4, 2, 4, 5, 4, 0, 4, 4, 1, 2, 4, 3, 4, 8, 4, 4, 4, 1, 2, 2, 4, 4, 4, 11, 8, 4, 4, 4, 7, 0, 2, 7, 5, 3, 8, 2, 5, 1, 8, 7, 2, 2, 4, 5, 3, 8, 5, 5, 6, 4, 8, 1, 0, 2, 8, 5, 5, 5, 5, 4, 4, 5, 4, 4, 4, 4, 4, 2, 5, 4, 4, 5, 4, 5, 5, 2, 5, 4, 4, 8, 9, 10, 4, 11, 4, 5, 2, 2, 9, 9, 4, 7, 4, 4, 4, 4, 9, 2, 4, 4, 5, 0, 4, 5, 5, 5, 5, 4, 1, 5, 4, 4, 4, 9, 2, 0, 4, 5, 10, 8, 2, 5, 1, 4, 4, 4, 4, 9, 1, 4, 4, 2, 1, 4, 2, 4, 2, 2, 5, 5, 5, 5, 1, 5, 4, 4, 1, 4, 5, 2, 4, 5, 5, 0, 5, 5, 4, 4, 4, 4, 4, 3, 8, 7, 8, 4, 4, 2, 4, 5, 2, 1, 2, 8, 5, 11, 1, 8, 5, 2, 4, 0, 8, 4, 1, 4, 5, 9, 4, 4, 4, 4, 6, 5, 4, 4, 8, 5, 2, 4, 2, 2, 3, 4, 7, 5, 5, 5, 11, 2, 4, 4, 4, 4, 5, 4, 4, 5, 5, 4, 4, 8, 5, 4, 5, 4, 8, 1, 2, 2, 9, 4, 4, 2, 5, 8, 4, 1, 8, 10, 8, 2, 1, 4, 4, 2, 5, 4, 4, 4, 5, 4, 7, 8, 4, 5, 2, 4, 4, 5, 8, 5, 4, 0, 2, 5, 8, 2, 4, 1, 4, 4, 5, 1, 1, 5, 8, 4, 5, 9, 8, 4, 4, 8, 5, 4, 2, 5, 5, 1, 8, 2, 5, 4, 0, 5, 4, 0, 5, 5, 4, 0, 4, 4, 4, 4, 3, 1, 2, 5, 2, 1, 5, 4, 4, 4, 2, 11, 5, 4, 5, 4, 5, 10, 5, 2, 4, 4, 5, 2, 11, 4, 0, 5, 5, 4, 4, 4, 4, 2, 4, 2, 5, 8, 4, 5, 5, 5, 0, 8, 4, 2, 5, 4, 5, 4, 4, 8, 8, 4, 4, 4, 3, 8, 4, 4, 4, 2, 4, 11, 5, 2, 2, 4, 5, 4, 4, 2, 4, 5, 4, 4, 5, 9, 4, 10, 5, 10, 4, 4, 4, 4, 10, 11, 2, 2, 5, 4, 5, 5, 2, 8, 4, 8, 2, 5, 11, 8, 1, 4, 2, 2, 4, 4, 5, 1, 4, 2, 4, 4, 8, 11, 8, 4, 11, 2, 3, 9, 1, 6, 5, 8, 8, 4, 5, 4, 4, 5, 4, 4, 0, 2, 10, 5, 2, 4, 4, 2, 0, 4, 8, 8, 4, 8, 5, 2, 4, 4, 11, 5, 4, 2, 5, 5, 6, 4, 4, 4, 8, 5, 2, 5, 2, 6, 8, 5, 2, 4, 4, 4, 8, 2, 4, 9, 2, 4, 4, 4, 2, 4, 4, 2, 2, 4, 2, 5, 2, 4, 5, 2, 2, 1, 4, 4, 8, 4, 4, 5, 5, 5, 5, 3, 2, 4, 4, 11, 2, 4, 5, 0, 11, 0, 5, 2, 5, 4, 6, 4, 5, 8, 4, 4, 0, 4, 10, 4, 4, 4, 5, 4, 2, 8, 5, 4, 5, 2, 4, 4, 4, 5, 5, 5, 4, 5, 4, 4, 0, 10, 4, 5, 4, 2, 8, 0, 5, 8, 5, 4, 4, 8, 4, 2, 5, 8, 5, 5, 8, 2, 5, 0, 4, 10, 2, 0, 4, 9, 8, 4, 5, 5, 5, 4, 4, 5, 5, 2, 5, 4, 4, 2, 2, 2, 4, 11, 1, 4, 5, 4, 4, 5, 8, 4, 4, 4, 2, 2, 2, 6, 4, 3, 4, 2, 2, 2, 8, 4, 4, 8, 2, 2, 1, 4, 8, 2, 2, 4, 5, 8, 1, 4, 5, 4, 7, 2, 4, 4, 5, 4, 11, 8, 5, 5, 5, 5, 1, 4, 11, 4, 0, 8, 3, 0, 5, 1, 5, 5, 2, 5, 2, 11, 11, 5, 4, 5, 7, 5, 5, 5, 5, 5, 0, 4, 5, 5, 5, 8, 5, 2, 2, 10, 5, 11, 0, 2, 3, 5, 4, 5, 7, 5, 7, 3, 4, 10, 5, 6, 0, 8, 10, 5, 9, 5, 0, 5, 9, 5, 10, 2, 4, 5, 5, 8, 6, 3, 2, 4, 0, 11, 0, 4, 0, 5, 5, 5, 11, 5, 5, 5, 7, 0, 5, 5, 3, 8, 2, 11, 5, 5, 11, 2, 7, 1, 5, 1, 7, 0, 4, 5, 8, 4, 5, 8, 5, 8, 5, 1, 2, 0, 11, 5, 5, 4, 5, 0, 2, 5, 8, 4, 0, 5, 10, 5, 5, 11, 1, 4, 11, 5, 5, 4, 5, 5, 5, 5, 3, 0, 0, 5, 3, 5, 6, 7, 1, 7, 5, 4, 11, 5, 2, 2, 3, 5, 5, 11, 5, 5, 8, 1, 2, 0, 5, 5, 5, 2, 7, 9, 8, 5, 1, 5, 2, 4, 7, 2, 11, 0, 0, 11, 4, 10, 3, 5, 2, 5, 5, 5, 5, 5, 11, 11, 5, 2, 5, 5, 3, 5, 9, 5, 8, 11, 0, 8, 5, 5, 5, 0, 5, 4, 5, 6, 5, 5, 5, 2, 9, 2, 5, 5, 5, 3, 5, 7, 5, 5, 4, 4, 4, 9, 10, 7, 5, 3, 2, 8, 5, 4, 5, 5, 0, 5, 3, 1, 5, 1, 8, 4, 6, 5, 11, 9, 5, 5, 2, 5, 1, 11, 5, 5, 4, 5, 5, 5, 9, 4, 5, 2, 2, 10, 5, 5, 5, 2, 5, 10, 5, 2, 6, 11, 11, 5, 6, 1, 4, 2, 1, 5, 5, 11, 5, 3, 6, 5, 8, 6, 5, 8, 5, 10, 5, 10, 2, 11, 0, 9, 8, 5, 5, 5, 5, 0, 0, 5, 7, 2, 2, 2, 10, 9, 5, 5, 4, 5, 5, 5, 5, 5, 2, 9, 5, 7, 6, 5, 5, 5, 4, 7, 5, 2, 11, 5, 5, 2, 9, 4, 4, 11, 5, 5, 5, 5, 5, 2, 0, 5, 5, 5, 4, 11, 11, 5, 5, 7, 11, 5, 5, 11, 5, 0, 5, 5, 5, 5, 3, 5, 0, 5, 4, 0, 5, 4, 5, 4, 2, 11, 11, 5, 2, 2, 5, 10, 9, 5, 6, 5, 3, 5, 2, 5, 9, 7, 5, 4, 5, 5, 2, 4, 5, 2, 5, 2, 5, 5, 5, 5, 3, 5, 5, 3, 5, 5, 5, 9, 4, 0, 5, 5, 4, 5, 5, 11, 4, 5, 6, 5, 2, 5, 4, 8, 5, 5, 5, 2, 6, 4, 5, 0, 9, 3, 5, 5, 5, 5, 4, 5, 6, 5, 5, 5, 4, 5, 5, 0, 1, 5, 5, 7, 5, 5, 3, 5, 4, 4, 0, 11, 7, 5, 8, 5, 4, 3, 0, 11, 4, 5, 9, 2, 10, 0, 5, 4, 5, 5, 11, 5, 4, 7, 2, 0, 0, 5, 11, 5, 4, 7, 5, 11, 5, 5, 11, 5, 4, 2, 5, 8, 5, 5, 10, 5, 2, 2, 10, 11, 5, 11, 4, 4, 5, 5, 2, 4, 9, 7, 2, 2, 5, 5, 2, 5, 5, 5, 6, 4, 5, 4, 9, 4, 6, 8, 5, 5, 5, 5, 0, 6, 11, 5, 5, 2, 10, 0, 11, 5, 6, 9, 4, 5, 11, 5, 7, 4, 5, 5, 7, 11, 5, 2, 5, 5, 5, 5, 0, 3, 5, 5, 4, 5, 11, 5, 2, 3, 6, 5, 9, 4, 2, 4, 5, 5, 11, 11, 4, 6, 9, 8, 1, 8, 4, 7, 2, 0, 4, 5, 2, 6, 5, 5, 5, 9, 5, 9, 5, 6, 5, 5, 2, 5, 5, 8, 5, 5, 5, 7, 7, 7, 5, 5, 5, 5, 4, 4, 4, 2, 5, 6, 7, 2, 5, 4, 2, 5, 2, 7, 7, 0, 5, 5, 5, 4, 8, 5, 4, 7, 11, 8, 0, 2, 5, 4, 5, 4, 5, 4, 10, 7, 5, 9, 4, 0, 5, 2, 2, 0, 5, 4, 2, 5, 6, 4, 4, 2, 0, 3, 8, 8, 8, 4, 0, 11, 5, 4, 2, 3, 5, 5, 4, 2, 0, 4, 5, 3, 2, 6, 9, 5, 5, 0, 9, 7, 11, 4, 5, 0, 10, 0, 2, 5, 3, 9, 5, 6, 4, 6, 2, 7, 0, 1, 6, 6, 6, 11, 6, 0, 6, 6, 5, 6, 2, 2, 6, 6, 6, 0, 3, 6, 11, 11, 3, 0, 3, 5, 1, 11, 11, 5, 6, 7, 6, 1, 2, 6, 1, 11, 0, 7, 6, 1, 6, 2, 10, 11, 11, 1, 2, 2, 7, 3, 4, 11, 7, 6, 7, 0, 3, 0, 6, 11, 6, 3, 6, 6, 1, 11, 6, 6, 1, 11, 2, 6, 10, 3, 1, 6, 8, 2, 1, 5, 3, 11, 5, 2, 6, 5, 8, 7, 3, 6, 6, 4, 4, 6, 6, 6, 10, 2, 6, 0, 6, 1, 2, 1, 1, 11, 6, 2, 6, 11, 0, 1, 1, 6, 6, 6, 3, 1, 0, 6, 7, 2, 3, 3, 11, 6, 3, 6, 11, 6, 6, 2, 6, 11, 6, 7, 11, 11, 8, 2, 2, 0, 11, 7, 3, 9, 7, 3, 11, 6, 6, 5, 3, 1, 2, 11, 6, 11, 11, 1, 3, 11, 6, 5, 7, 4, 11, 3, 6, 3, 1, 1, 9, 2, 2, 0, 0, 11, 6, 3, 6, 11, 0, 2, 5, 11, 8, 11, 2, 7, 1, 5, 11, 2, 6, 11, 7, 6, 3, 5, 1, 1, 1, 0, 5, 1, 1, 7, 1, 7, 7, 11, 3, 11, 10, 6, 6, 6, 6, 10, 11, 6, 6, 7, 6, 5, 3, 6, 3, 5, 4, 8, 11, 11, 9, 11, 6, 11, 6, 6, 11, 6, 6, 11, 3, 6, 3, 4, 1, 3, 11, 7, 11, 6, 6, 0, 3, 8, 11, 6, 5, 6, 11, 0, 1, 6, 5, 6, 2, 10, 0, 6, 3, 11, 0, 7, 3, 6, 11, 1, 6, 1, 6, 0, 7, 7, 11, 6, 11, 2, 6, 1, 6, 11, 3, 1, 6, 6, 6, 1, 6, 1, 6, 6, 7, 7, 11, 3, 11, 2, 3, 6, 7, 11, 11, 1, 10, 6, 6, 1, 11, 6, 11, 6, 11, 5, 6, 11, 6, 6, 5, 6, 6, 6, 3, 0, 4, 5, 0, 6, 10, 11, 1, 3, 3, 10, 11, 11, 3, 11, 2, 2, 5, 2, 0, 6, 1, 6, 3, 6, 2, 6, 1, 11, 2, 10, 3, 6, 6, 11, 11, 2, 6, 3, 2, 2, 11, 1, 6, 11, 11, 7, 10, 1, 6, 6, 2, 11, 1, 11, 6, 7, 6, 6, 0, 0, 6, 6, 0, 6, 6, 11, 3, 6, 11, 5, 9, 6, 6, 2, 11, 2, 9, 2, 6, 6, 11, 7, 6, 3, 1, 6, 6, 6, 3, 3, 1, 3, 6, 6, 1, 0, 2, 0, 11, 6, 3, 6, 2, 3, 3, 11, 6, 6, 2, 6, 3, 5, 1, 6, 1, 0, 9, 6, 0, 10, 6, 3, 11, 6, 6, 10, 7, 11, 2, 5, 11, 11, 6, 11, 5, 1, 6, 6, 1, 6, 3, 6, 0, 9, 11, 6, 1, 6, 6, 11, 6, 6, 4, 2, 6, 10, 6, 6, 3, 0, 3, 0, 11, 1, 11, 6, 5, 2, 11, 1, 11, 0, 0, 6, 11, 0, 9, 6, 6, 6, 6, 11, 6, 3, 2, 1, 3, 3, 9, 11, 1, 0, 11, 6, 11, 6, 0, 6, 6, 6, 1, 3, 3, 2, 11, 6, 6, 6, 11, 2, 6, 11, 11, 6, 6, 11, 0, 2, 6, 0, 6, 6, 11, 11, 6, 0, 6, 3, 6, 1, 10, 0, 0, 0, 2, 7, 0, 6, 0, 6, 6, 6, 0, 10, 11, 0, 11, 11, 1, 7, 6, 6, 0, 11, 6, 6, 11, 6, 11, 11, 11, 0, 11, 1, 11, 2, 2, 6, 1, 7, 11, 1, 0, 3, 6, 2, 1, 6, 6, 11, 11, 0, 7, 5, 6, 2, 10, 2, 6, 6, 2, 10, 3, 7, 2, 11, 1, 3, 2, 9, 3, 11, 2, 3, 5, 11, 2, 1, 11, 6, 6, 1, 6, 6, 7, 11, 7, 6, 7, 2, 7, 1, 3, 0, 9, 6, 3, 6, 11, 1, 6, 0, 7, 2, 11, 2, 3, 11, 2, 5, 11, 2, 1, 0, 1, 0, 6, 2, 7, 10, 6, 2, 6, 11, 3, 6, 6, 11, 6, 2, 4, 2, 1, 6, 6, 6, 3, 6, 2, 11, 7, 0, 11, 3, 2, 6, 6, 11, 6, 3, 7, 11, 11, 11, 6, 2, 5, 2, 6, 3, 9, 6, 6, 6, 3, 11, 1, 7, 6, 6, 6, 11, 6, 3, 6, 3, 0, 0, 11, 11, 7, 5, 2, 7, 11, 11, 2, 2, 5, 5, 6, 3, 6, 6, 11, 6, 6, 3, 6, 6, 1, 3, 1, 9, 6, 3, 11, 11, 3, 1, 11, 0, 7, 6, 2, 0, 11, 6, 6, 6, 8, 0, 3, 10, 6, 6, 2, 2, 6, 0, 6, 2, 11, 6, 11, 6, 11, 1, 11, 2, 6, 1, 6, 0, 0, 6, 3, 2, 11, 2, 11, 11, 3, 10, 2, 6, 0, 3, 6, 5, 6, 11, 6, 6, 11, 3, 9, 11, 11, 6, 11, 6, 2, 7, 6, 11, 6, 0, 3, 2, 6, 10, 11, 3, 7, 7, 6, 8, 0, 3, 3, 6, 1, 6, 7, 6, 3, 1, 6, 6, 11, 3, 11, 5, 0, 11, 2, 11, 7, 6, 7, 0, 11, 6, 7, 1, 6, 6, 1, 6, 3, 6, 9, 0, 6, 11, 6, 1, 0, 2, 11, 6, 6, 9, 0, 11, 0, 11, 2, 3, 11, 4, 7, 1, 6, 0, 6, 2, 2, 3, 6, 5, 6, 1, 6, 6, 6, 4, 6, 1, 2, 11, 6, 11, 11, 1, 7, 8, 3, 11, 5, 4, 0, 11, 3, 3, 3, 11, 6, 3, 1, 11, 5, 0, 6, 1, 1, 6, 10, 6, 6, 6, 1, 2, 11, 11, 6, 2, 11, 0, 6, 7, 1, 1, 6, 11, 3, 11, 9, 0, 1, 2, 3, 9, 11, 3, 2, 6, 3, 11, 6, 2, 1, 6, 3, 11, 0, 11, 2, 6, 6, 11, 3, 3, 6, 6, 2, 3, 6, 3, 2, 6, 7, 11, 6, 11, 7, 2, 7, 6, 10, 11, 10, 6, 9, 11, 1, 6, 3, 3, 10, 7, 11, 6, 6, 7, 6, 7, 6, 2, 4, 11, 6, 0, 5, 1, 6, 5, 0, 0, 6, 11, 2, 6, 6, 11, 2, 2, 10, 6, 6, 1, 1, 5, 11, 6, 6, 1, 6, 3, 3, 5, 7, 11, 6, 3, 0, 5, 1, 2, 11, 10, 2, 11, 7, 6, 2, 1, 6, 7, 2, 2, 0, 6, 2, 3, 3, 6, 2, 6, 0, 1, 6, 6, 11, 1, 6, 1, 10, 11, 9, 5, 1, 11, 0, 0, 11, 6, 3, 2, 6, 3, 1, 9, 6, 11, 6, 8, 11, 11, 8, 11, 1, 5, 6, 0, 6, 6, 1, 3, 6, 6, 0, 0, 10, 10, 3, 6, 6, 1, 7, 0, 11, 7, 11, 0, 10, 11, 11, 3, 11, 6, 6, 7, 2, 1, 10, 2, 2, 11, 5, 6, 11, 11, 1, 6, 6, 4, 7, 11, 3, 6, 6, 6, 4, 7, 11, 0, 4, 3, 0, 6, 7, 10, 11, 11, 3, 2, 4, 2, 1, 3, 3, 6, 6, 6, 11, 1, 5, 11, 6, 6, 5, 6, 0, 7, 6, 3, 2, 7, 5, 0, 1, 2, 3, 1, 0, 6, 2, 0, 0, 11, 6, 3, 0, 2, 0, 9, 6, 1, 10, 7, 3, 6, 9, 6, 2, 11, 0, 0, 0, 7, 2, 6, 11, 0, 6, 0, 11, 6, 4, 6, 3, 0, 3, 11, 6, 6, 6, 2, 2, 1, 6, 0, 6, 2, 6, 6, 11, 11, 5, 6, 11, 11, 10, 6, 11, 6, 3, 2, 1, 6, 2, 6, 10, 5, 6, 1, 5, 2, 11, 0, 3, 7, 6, 0, 7, 11, 3, 7, 7, 7, 7, 3, 3, 7, 7, 11, 1, 7, 7, 7, 0, 3, 6, 5, 7, 11, 11, 10, 11, 11, 0, 7, 7, 3, 11, 7, 10, 7, 7, 7, 10, 5, 5, 7, 10, 7, 7, 6, 7, 7, 5, 7, 0, 0, 11, 6, 7, 7, 7, 0, 10, 3, 1, 3, 7, 3, 7, 7, 7, 7, 0, 0, 9, 0, 10, 10, 3, 0, 9, 7, 4, 10, 7, 5, 11, 1, 2, 7, 0, 6, 7, 9, 3, 5, 0, 7, 11, 0, 0, 5, 11, 7, 5, 7, 7, 3, 7, 0, 8, 1, 7, 6, 7, 7, 11, 7, 7, 7, 7, 11, 7, 7, 7, 2, 5, 10, 2, 9, 7, 11, 3, 0, 7, 7, 2, 2, 3, 3, 5, 3, 0, 11, 5, 1, 11, 6, 0, 6, 7, 7, 7, 11, 3, 2, 0, 7, 3, 3, 11, 7, 10, 5, 0, 6, 7, 11, 0, 11, 7, 3, 7, 7, 7, 11, 9, 9, 7, 0, 7, 7, 7, 11, 10, 0, 0, 7, 7, 3, 11, 7, 0, 10, 6, 0, 0, 7, 7, 11, 3, 7, 7, 2, 7, 7, 7, 0, 6, 10, 11, 5, 6, 7, 10, 9, 7, 7, 7, 0, 7, 11, 7, 0, 7, 3, 4, 2, 0, 6, 11, 0, 7, 6, 7, 5, 5, 3, 7, 3, 5, 5, 3, 6, 7, 11, 7, 7, 5, 3, 7, 3, 7, 1, 11, 2, 7, 11, 7, 3, 11, 0, 7, 7, 11, 11, 4, 3, 1, 7, 3, 3, 7, 11, 7, 7, 9, 7, 4, 8, 10, 7, 5, 7, 7, 0, 11, 7, 6, 10, 7, 7, 3, 7, 7, 0, 3, 7, 2, 0, 11, 0, 0, 7, 5, 7, 11, 0, 0, 7, 7, 7, 11, 0, 3, 3, 7, 5, 0, 7, 0, 7, 7, 10, 7, 7, 7, 7, 11, 11, 7, 2, 11, 2, 6, 0, 7, 11, 11, 11, 7, 7, 3, 7, 7, 2, 7, 11, 7, 11, 11, 7, 2, 7, 7, 9, 11, 7, 11, 3, 7, 3, 3, 7, 7, 6, 2, 7, 0, 0, 3, 7, 7, 8, 3, 9, 3, 7, 3, 7, 7, 7, 9, 0, 3, 7, 7, 7, 3, 6, 7, 3, 6, 7, 7, 10, 7, 7, 3, 6, 7, 6, 11, 0, 5, 11, 3, 11, 7, 6, 7, 7, 7, 2, 3, 0, 10, 0, 3, 6, 0, 1, 1, 0, 10, 7, 7, 11, 6, 7, 3, 8, 0, 1, 1, 7, 0, 6, 2, 2, 7, 0, 11, 7, 2, 7, 7, 3, 5, 7, 7, 0, 7, 2, 11, 3, 10, 7, 3, 11, 7, 7, 3, 10, 0, 3, 9, 5, 3, 3, 7, 7, 7, 7, 3, 3, 2, 1, 7, 6, 7, 6, 2, 5, 6, 7, 7, 5, 7, 7, 0, 11, 11, 6, 3, 11, 7, 7, 7, 0, 0, 4, 1, 7, 3, 7, 6, 11, 2, 3, 1, 6, 3, 7, 7, 6, 11, 6, 7, 10, 0, 10, 0, 0, 7, 7, 0, 7, 11, 7, 0, 7, 7, 9, 7, 7, 0, 7, 7, 0, 0, 0, 7, 7, 7, 0, 11, 1, 3, 10, 3, 2, 0, 11, 7, 2, 7, 7, 7, 7, 6, 11, 11, 7, 0, 7, 7, 7, 3, 7, 6, 7, 11, 3, 7, 9, 7, 7, 1, 3, 7, 7, 5, 7, 11, 2, 7, 1, 7, 7, 0, 7, 7, 7, 3, 7, 7, 8, 7, 7, 7, 7, 5, 10, 11, 7, 11, 7, 6, 7, 6, 10, 2, 7, 7, 7, 3, 0, 2, 7, 7, 3, 0, 7, 6, 7, 7, 0, 10, 3, 3, 7, 10, 4, 11, 7, 3, 2, 3, 2, 9, 3, 7, 7, 7, 3, 7, 7, 7, 7, 6, 5, 0, 7, 2, 7, 7, 6, 0, 0, 2, 2, 3, 11, 7, 3, 10, 7, 7, 7, 6, 11, 7, 5, 7, 0, 7, 7, 11, 7, 11, 7, 7, 7, 7, 5, 11, 7, 3, 7, 7, 3, 7, 4, 1, 0, 7, 7, 0, 3, 0, 4, 2, 11, 7, 7, 7, 0, 7, 3, 11, 0, 7, 2, 7, 7, 7, 7, 7, 7, 0, 11, 7, 7, 11, 7, 0, 2, 3, 11, 7, 2, 7, 7, 11, 3, 7, 7, 7, 0, 11, 7, 7, 7, 7, 7, 7, 7, 7, 7, 2, 7, 7, 7, 11, 7, 3, 7, 0, 5, 7, 7, 6, 7, 7, 3, 0, 7, 7, 6, 1, 6, 7, 7, 0, 7, 3, 3, 2, 1, 0, 3, 5, 2, 9, 2, 2, 7, 7, 3, 7, 1, 0, 6, 7, 7, 7, 7, 2, 7, 0, 11, 6, 5, 11, 7, 3, 5, 7, 11, 7, 7, 7, 7, 3, 11, 7, 10, 7, 2, 7, 6, 7, 7, 3, 1, 7, 3, 3, 7, 3, 7, 0, 7, 7, 9, 10, 3, 7, 9, 3, 0, 3, 7, 6, 2, 9, 6, 7, 0, 7, 7, 10, 11, 7, 11, 11, 7, 1, 7, 7, 6, 7, 7, 11, 7, 7, 11, 7, 7, 7, 7, 11, 7, 7, 3, 11, 7, 7, 7, 7, 7, 3, 7, 7, 7, 3, 7, 0, 11, 7, 7, 9, 7, 3, 10, 7, 2, 11, 11, 11, 7, 0, 6, 1, 7, 0, 11, 7, 5, 6, 5, 7, 2, 5, 7, 7, 7, 7, 11, 7, 7, 5, 10, 7, 7, 5, 4, 7, 7, 7, 5, 11, 7, 7, 7, 11, 7, 7, 7, 7, 11, 7, 7, 7, 7, 7, 0, 3, 7, 11, 11, 7, 5, 7, 11, 3, 7, 0, 6, 4, 7, 3, 11, 7, 9, 7, 0, 7, 7, 1, 7, 7, 3, 7, 0, 7, 6, 7, 7, 11, 7, 9, 5, 7, 5, 11, 0, 7, 7, 7, 0, 0, 2, 3, 7, 3, 7, 7, 0, 5, 1, 7, 11, 7, 10, 3, 2, 7, 5, 2, 11, 2, 5, 0, 0, 2, 7, 7, 11, 3, 7, 6, 6, 7, 6, 0, 7, 7, 11, 0, 0, 0, 6, 10, 11, 10, 6, 7, 6, 2, 6, 7, 7, 7, 3, 5, 10, 0, 7, 0, 10, 7, 7, 7, 5, 7, 3, 0, 11, 7, 7, 11, 7, 11, 11, 0, 7, 11, 7, 6, 11, 7, 3, 11, 0, 3, 3, 3, 3, 7, 11, 7, 0, 7, 1, 7, 10, 0, 5, 7, 0, 7, 3, 7, 7, 0, 3, 3, 7, 7, 3, 7, 11, 7, 7, 11, 7, 7, 6, 9, 2, 2, 7, 6, 7, 11, 7, 7, 5, 7, 5, 7, 7, 3, 3, 0, 11, 4, 7, 7, 7, 6, 5, 7, 7, 6, 3, 3, 11, 3, 7, 0, 6, 7, 7, 3, 11, 7, 6, 7, 7, 2, 6, 3, 2, 7, 6, 7, 6, 7, 3, 6, 7, 7, 7, 6, 11, 7, 0, 10, 3, 2, 3, 7, 7, 7, 3, 11, 11, 3, 3, 11, 7, 6, 7, 7, 0, 11, 7, 10, 0, 7, 7, 7, 0, 9, 0, 7, 3, 6, 7, 7, 7, 7, 7, 7, 3, 3, 7, 5, 2, 7, 3, 11, 6, 7, 11, 7, 3, 7, 11, 5, 4, 5, 8, 4, 8, 5, 8, 4, 10, 4, 2, 8, 8, 0, 8, 4, 2, 5, 8, 5, 4, 10, 8, 9, 8, 4, 5, 5, 1, 8, 4, 4, 8, 5, 2, 4, 5, 4, 5, 5, 0, 5, 5, 9, 5, 5, 1, 8, 0, 8, 4, 4, 8, 9, 5, 8, 4, 5, 1, 4, 8, 0, 0, 0, 5, 2, 5, 5, 5, 8, 8, 8, 5, 5, 5, 11, 8, 5, 4, 8, 0, 5, 4, 4, 8, 5, 5, 8, 8, 5, 5, 8, 5, 8, 4, 8, 5, 5, 8, 5, 8, 2, 8, 8, 8, 2, 8, 0, 1, 5, 8, 8, 0, 5, 5, 2, 5, 4, 3, 8, 4, 10, 5, 8, 5, 7, 4, 10, 5, 8, 4, 4, 10, 8, 5, 8, 7, 4, 8, 4, 5, 4, 5, 5, 8, 9, 8, 4, 5, 8, 2, 8, 10, 5, 2, 8, 8, 10, 5, 5, 0, 8, 4, 4, 5, 8, 5, 5, 5, 8, 4, 5, 2, 4, 3, 5, 4, 5, 4, 1, 0, 8, 8, 5, 2, 0, 8, 8, 2, 4, 5, 4, 8, 5, 8, 5, 5, 2, 5, 5, 8, 8, 2, 8, 8, 5, 5, 5, 5, 5, 5, 11, 5, 1, 5, 4, 0, 9, 5, 0, 4, 5, 4, 10, 5, 5, 5, 5, 5, 11, 8, 8, 8, 5, 5, 8, 5, 5, 8, 4, 4, 5, 4, 5, 5, 5, 4, 4, 5, 2, 8, 8, 2, 1, 5, 2, 4, 2, 4, 4, 10, 4, 5, 9, 4, 5, 8, 5, 1, 4, 5, 8, 8, 4, 2, 4, 8, 11, 4, 0, 0, 2, 8, 4, 4, 10, 2, 4, 1, 8, 8, 5, 2, 8, 5, 8, 4, 1, 1, 5, 5, 8, 8, 4, 5, 2, 2, 5, 5, 2, 0, 8, 5, 4, 4, 9, 8, 4, 2, 4, 5, 5, 5, 5, 4, 2, 4, 5, 1, 8, 1, 5, 1, 8, 2, 8, 5, 2, 6, 5, 5, 5, 9, 9, 0, 4, 4, 0, 2, 5, 8, 5, 11, 4, 5, 2, 5, 3, 8, 9, 0, 2, 8, 3, 2, 11, 8, 5, 5, 5, 5, 1, 8, 8, 4, 4, 8, 8, 8, 4, 9, 5, 5, 0, 4, 4, 0, 5, 5, 5, 8, 8, 4, 2, 5, 2, 8, 8, 5, 0, 8, 8, 4, 5, 4, 8, 4, 2, 0, 11, 9, 0, 5, 5, 4, 11, 8, 5, 8, 1, 2, 4, 4, 5, 5, 5, 8, 5, 2, 5, 8, 5, 5, 8, 8, 5, 4, 10, 8, 5, 2, 5, 4, 3, 5, 8, 8, 8, 8, 4, 2, 5, 8, 5, 2, 8, 8, 9, 2, 8, 5, 4, 5, 4, 5, 4, 1, 4, 5, 3, 8, 8, 3, 8, 4, 0, 4, 4, 5, 7, 8, 5, 5, 5, 8, 8, 6, 5, 5, 9, 4, 5, 5, 0, 2, 10, 5, 1, 0, 8, 8, 8, 9, 7, 4, 5, 5, 3, 5, 10, 9, 8, 0, 2, 5, 5, 10, 3, 5, 1, 5, 0, 5, 11, 2, 11, 11, 0, 2, 10, 5, 3, 4, 9, 7, 9, 0, 7, 1, 7, 10, 9, 10, 5, 10, 9, 6, 0, 10, 6, 11, 7, 2, 4, 5, 2, 2, 0, 5, 10, 11, 9, 10, 5, 9, 9, 3, 2, 10, 3, 8, 7, 6, 3, 10, 5, 9, 2, 4, 11, 9, 9, 11, 9, 1, 4, 1, 11, 11, 6, 10, 10, 5, 10, 2, 0, 3, 9, 10, 0, 8, 4, 9, 5, 3, 5, 4, 5, 1, 1, 9, 5, 5, 0, 11, 2, 1, 11, 10, 3, 0, 2, 9, 9, 10, 3, 5, 10, 11, 11, 10, 2, 2, 5, 11, 3, 1, 5, 0, 10, 10, 5, 4, 9, 10, 2, 11, 3, 9, 9, 1, 10, 3, 0, 3, 5, 0, 9, 1, 6, 8, 3, 10, 2, 5, 0, 5, 11, 9, 0, 5, 10, 0, 9, 2, 3, 7, 10, 9, 5, 10, 0, 4, 9, 5, 10, 2, 9, 7, 6, 2, 5, 10, 10, 2, 0, 0, 4, 1, 3, 5, 0, 6, 9, 2, 4, 7, 5, 0, 0, 10, 9, 5, 11, 10, 5, 10, 9, 10, 1, 8, 11, 2, 0, 8, 9, 10, 10, 10, 9, 4, 0, 10, 11, 9, 10, 3, 3, 9, 2, 1, 7, 3, 5, 5, 11, 10, 5, 7, 9, 7, 6, 11, 0, 5, 5, 11, 1, 3, 10, 5, 9, 8, 3, 9, 10, 0, 10, 0, 10, 9, 2, 11, 3, 5, 6, 5, 3, 5, 4, 6, 1, 0, 3, 7, 10, 3, 3, 3, 8, 0, 0, 10, 4, 9, 10, 7, 6, 10, 4, 5, 1, 9, 8, 10, 2, 9, 8, 0, 5, 1, 0, 7, 11, 5, 11, 9, 5, 7, 0, 4, 10, 10, 6, 8, 7, 9, 6, 6, 2, 4, 0, 9, 9, 4, 5, 5, 0, 9, 6, 11, 5, 2, 3, 11, 10, 4, 2, 3, 9, 3, 3, 8, 9, 5, 9, 3, 6, 5, 0, 0, 8, 0, 10, 8, 0, 5, 5, 0, 10, 5, 9, 0, 10, 0, 5, 2, 11, 0, 9, 11, 6, 1, 10, 10, 0, 9, 0, 10, 10, 10, 0, 0, 11, 3, 0, 5, 11, 9, 11, 9, 2, 6, 5, 5, 1, 9, 5, 7, 2, 8, 7, 9, 9, 10, 10, 3, 10, 4, 9, 5, 9, 9, 11, 7, 0, 8, 7, 11, 2, 0, 9, 9, 9, 5, 1, 4, 2, 5, 2, 4, 10, 5, 9, 0, 10, 5, 6, 2, 3, 9, 10, 10, 4, 11, 2, 7, 4, 2, 3, 5, 9, 11, 6, 2, 0, 9, 10, 9, 8, 11, 9, 10, 9, 0, 0, 3, 7, 0, 0, 0, 11, 8, 8, 4, 3, 5, 0, 11, 5, 2, 2, 11, 3, 0, 10, 2, 2, 3, 2, 8, 11, 9, 9, 3, 7, 2, 11, 5, 0, 0, 3, 2, 10, 3, 7, 11, 5, 11, 9, 0, 4, 0, 0, 5, 2, 5, 2, 5, 5, 4, 3, 10, 7, 5, 5, 6, 3, 3, 5, 3, 3, 6, 2, 4, 0, 11, 3, 1, 5, 4, 8, 10, 0, 7, 5, 3, 5, 5, 0, 5, 9, 9, 2, 10, 4, 2, 1, 8, 4, 5, 2, 2, 9, 9, 0, 5, 0, 2, 10, 9, 10, 9, 0, 5, 4, 2, 4, 10, 2, 0, 9, 9, 4, 5, 0, 0, 3, 9, 8, 11, 5, 5, 6, 9, 5, 9, 9, 0, 6, 5, 2, 3, 5, 11, 7, 11, 11, 5, 10, 3, 2, 7, 4, 0, 0, 9, 7, 9, 5, 9, 2, 5, 5, 11, 11, 5, 5, 4, 0, 4, 7, 3, 6, 0, 2, 2, 0, 2, 10, 0, 8, 5, 4, 5, 6, 4, 9, 4, 2, 5, 0, 10, 10, 10, 10, 5, 11, 11, 6, 11, 5, 10, 9, 3, 0, 0, 2, 11, 7, 10, 0, 6, 2, 6, 4, 5, 5, 2, 7, 4, 10, 11, 4, 10, 2, 0, 0, 0, 11, 7, 5, 4, 9, 9, 2, 3, 3, 3, 2, 5, 3, 3, 10, 1, 2, 5, 1, 0, 2, 5, 11, 7, 2, 10, 11, 3, 2, 10, 6, 10, 0, 5, 3, 2, 9, 6, 10, 5, 11, 0, 7, 9, 1, 10, 0, 4, 4, 2, 10, 3, 0, 10, 2, 2, 11, 8, 9, 9, 11, 4, 5, 0, 5, 5, 10, 2, 11, 9, 9, 9, 3, 9, 5, 2, 0, 11, 10, 9, 0, 0, 2, 11, 0, 1, 9, 10, 6, 10, 11, 7, 1, 11, 4, 10, 9, 3, 3, 7, 7, 9, 4, 1, 4, 0, 11, 9, 11, 3, 3, 4, 5, 9, 1, 3, 2, 10, 4, 0, 11, 0, 10, 4, 10, 3, 10, 7, 2, 5, 10, 0, 5, 9, 3, 3, 11, 10, 10, 3, 5, 5, 8, 10, 0, 2, 4, 7, 4, 3, 9, 0, 11, 5, 2, 3, 9, 7, 3, 10, 5, 5, 1, 5, 4, 3, 0, 11, 0, 10, 4, 3, 0, 1, 3, 11, 10, 11, 5, 5, 11, 9, 2, 9, 10, 2, 3, 5, 4, 6, 9, 3, 2, 9, 4, 5, 4, 11, 9, 9, 5, 4, 8, 0, 3, 10, 7, 1, 0, 3, 5, 5, 5, 5, 10, 1, 4, 3, 1, 11, 9, 9, 10, 4, 2, 8, 6, 11, 9, 11, 9, 2, 10, 10, 10, 5, 7, 7, 0, 10, 0, 4, 10, 2, 4, 5, 9, 9, 3, 5, 5, 3, 10, 0, 0, 4, 11, 5, 0, 5, 5, 1, 5, 9, 11, 5, 10, 3, 2, 2, 11, 9, 9, 4, 9, 2, 5, 10, 2, 1, 3, 2, 2, 0, 11, 9, 5, 4, 11, 0, 3, 4, 3, 11, 10, 7, 5, 1, 6, 9, 2, 10, 3, 10, 0, 8, 4, 0, 5, 3, 11, 4, 2, 2, 5, 0, 0, 10, 11, 10, 10, 10, 9, 2, 11, 11, 2, 4, 11, 0, 0, 2, 5, 9, 5, 9, 5, 8, 2, 1, 2, 5, 1, 10, 6, 3, 3, 7, 7, 9, 9, 5, 0, 4, 2, 7, 0, 10, 5, 9, 7, 5, 10, 10, 0, 7, 10, 4, 10, 7, 9, 0, 7, 4, 0, 6, 3, 3, 6, 11, 0, 10, 0, 2, 9, 3, 5, 11, 3, 11, 2, 10, 11, 3, 0, 9, 9, 5, 9, 4, 9, 7, 7, 5, 5, 2, 3, 3, 11, 9, 11, 10, 11, 10, 10, 11, 2, 10, 10, 0, 3, 10, 5, 9, 5, 3, 1, 10, 4, 0, 10, 2, 0, 9, 3, 9, 11, 3, 5, 2, 4, 4, 5, 2, 2, 0, 0, 10, 11, 4, 10, 5, 10, 10, 3, 5, 2, 9, 11, 9, 5, 11, 3, 0, 9, 0, 10, 7, 11, 0, 0, 5, 8, 8, 5, 2, 4, 9, 9, 5, 3, 10, 5, 6, 4, 0, 4, 1, 5, 0, 3, 0, 10, 2, 0, 9, 0, 9, 4, 5, 6, 0, 7, 11, 6, 4, 7, 5, 7, 10, 9, 0, 2, 9, 5, 10, 1, 6, 11, 0, 9, 9, 8, 11, 11, 10, 9, 2, 11, 4, 3, 4, 4, 5, 6, 5, 2, 6, 5, 2, 3, 9, 9, 4, 5, 0, 2, 3, 3, 10, 6, 2, 10, 5, 5, 3, 1, 9, 5, 0, 2, 11, 11, 0, 4, 5, 0, 8, 11, 5, 10, 4, 5, 5, 3, 9, 9, 3, 10, 11, 0, 1, 9, 1, 11, 3, 4, 0, 9, 9, 0, 9, 10, 11, 9, 6, 0, 4, 2, 11, 5, 3, 7, 10, 0, 1, 2, 2, 5, 6, 1, 10, 5, 11, 3, 11, 2, 5, 0, 3, 4, 4, 5, 5, 9, 7, 0, 10, 11, 0, 0, 2, 2, 10, 9, 3, 0, 5, 8, 10, 10, 7, 11, 11, 2, 2, 10, 9, 6, 5, 5, 11, 10, 5, 9, 9, 3, 2, 0, 11, 2, 3, 3, 11, 7, 6, 5, 1, 0, 9, 0, 2, 11, 3, 3, 2, 8, 9, 9, 4, 5, 1, 6, 3, 11, 11, 3, 3, 5, 0, 2, 5, 3, 0, 9, 4, 10, 2, 0, 6, 3, 1, 2, 4, 11, 4, 9, 10, 5, 10, 9, 11, 2, 1, 11, 9, 5, 11, 11, 2, 9, 5, 0, 10, 0, 10, 6, 11, 4, 8, 0, 0, 3, 0, 0, 4, 10, 11, 7, 3, 10, 0, 1, 0, 3, 9, 3, 4, 11, 7, 5, 2, 10, 2, 9, 5, 5, 10, 1, 5, 9, 0, 5, 5, 2, 0, 0, 5, 10, 11, 10, 10, 9, 5, 9, 3, 5, 2, 10, 10, 9, 5, 11, 10, 0, 3, 3, 9, 2, 9, 2, 4, 11, 0, 0, 4, 0, 4, 0, 0, 10, 2, 3, 9, 3, 9, 5, 3, 7, 4, 10, 9, 10, 6, 11, 6, 11, 5, 2, 9, 10, 9, 10, 3, 2, 0, 5, 11, 3, 4, 9, 10, 5, 0, 0, 11, 9, 9, 10, 6, 4, 10, 0, 2, 7, 5, 5, 9, 6, 5, 10, 1, 0, 5, 9, 2, 5, 4, 9, 0, 3, 10, 11, 5, 0, 5, 11, 10, 5, 11, 11, 3, 2, 3, 11, 0, 9, 2, 10, 0, 0, 7, 10, 5, 5, 8, 1, 11, 9, 4, 0, 10, 11, 9, 5, 5, 3, 11, 11, 10, 10, 4, 2, 5, 11, 11, 9, 5, 0, 9, 11, 9, 4, 0, 9, 7, 5, 9, 10, 11, 2, 2, 9, 9, 10, 2, 5, 1, 3, 10, 0, 9, 3, 5, 9, 6, 5, 2, 10, 11, 2, 4, 0, 4, 0, 11, 9, 5, 7, 3, 7, 6, 10, 11, 11, 10, 10, 5, 3, 5, 10, 10, 2, 2, 11, 4, 2, 9, 3, 10, 11, 9, 2, 5, 5, 2, 5, 3, 0, 0, 0, 8, 3, 5, 5, 4, 0, 2, 11, 0, 10, 4, 3, 7, 9, 4, 2, 2, 0, 0, 3, 1, 3, 5, 2, 6, 0, 6, 11, 3, 4, 9, 5, 0, 10, 5, 10, 8, 3, 5, 3, 5, 5, 2, 5, 1, 0, 0, 10, 9, 0, 4, 9, 2, 11, 10, 10, 0, 10, 3, 10, 10, 10, 10, 5, 8, 10, 10, 11, 2, 2, 10, 4, 9, 10, 3, 3, 2, 10, 5, 0, 7, 0, 11, 10, 4, 10, 8, 10, 10, 10, 9, 10, 5, 0, 1, 10, 10, 10, 10, 5, 3, 11, 10, 4, 0, 10, 8, 5, 11, 0, 10, 10, 10, 3, 11, 3, 0, 9, 10, 0, 10, 10, 5, 0, 0, 5, 7, 2, 10, 2, 0, 2, 0, 0, 10, 10, 7, 10, 2, 9, 3, 2, 10, 2, 10, 10, 10, 5, 0, 10, 2, 5, 8, 9, 2, 10, 3, 10, 10, 0, 1, 0, 10, 10, 9, 3, 3, 11, 6, 4, 10, 0, 10, 0, 3, 0, 2, 1, 4, 3, 9, 0, 0, 10, 0, 10, 10, 10, 11, 10, 10, 5, 11, 0, 1, 5, 9, 10, 2, 8, 10, 1, 3, 9, 7, 3, 10, 10, 4, 10, 11, 6, 3, 10, 4, 3, 11, 6, 10, 10, 0, 10, 4, 10, 0, 10, 5, 11, 10, 5, 10, 8, 9, 10, 10, 7, 10, 3, 10, 10, 9, 5, 4, 11, 9, 10, 10, 10, 1, 9, 10, 11, 6, 10, 10, 7, 10, 10, 5, 10, 10, 3, 10, 9, 9, 10, 3, 10, 11, 10, 11, 8, 10, 11, 5, 0, 5, 10, 9, 3, 10, 8, 3, 10, 0, 8, 10, 5, 0, 11, 10, 10, 10, 4, 9, 10, 3, 9, 10, 2, 9, 5, 0, 0, 0, 10, 8, 1, 2, 11, 7, 0, 10, 3, 6, 10, 10, 10, 10, 10, 2, 10, 10, 9, 3, 2, 10, 0, 10, 5, 2, 5, 9, 3, 7, 11, 10, 10, 0, 2, 10, 6, 10, 7, 4, 10, 10, 7, 3, 0, 10, 10, 10, 10, 9, 2, 9, 10, 10, 3, 10, 10, 2, 10, 0, 5, 4, 4, 2, 5, 10, 0, 9, 10, 0, 9, 7, 10, 4, 11, 10, 10, 6, 10, 10, 10, 10, 6, 9, 9, 10, 0, 5, 10, 10, 2, 4, 5, 2, 3, 1, 11, 9, 0, 9, 10, 2, 10, 0, 9, 8, 9, 2, 10, 10, 11, 10, 10, 10, 11, 3, 3, 4, 10, 11, 11, 5, 10, 10, 0, 5, 9, 10, 1, 10, 5, 7, 5, 0, 10, 8, 10, 10, 10, 7, 9, 0, 10, 4, 3, 5, 5, 10, 3, 3, 10, 5, 3, 1, 3, 10, 11, 10, 0, 6, 3, 0, 10, 10, 9, 6, 10, 10, 10, 10, 7, 0, 7, 2, 10, 5, 10, 10, 10, 0, 10, 9, 10, 8, 11, 7, 3, 4, 3, 0, 6, 10, 5, 9, 10, 11, 3, 10, 9, 10, 10, 7, 3, 10, 0, 9, 0, 10, 10, 6, 10, 10, 6, 10, 1, 10, 3, 0, 11, 0, 9, 4, 8, 10, 11, 5, 10, 3, 2, 9, 10, 7, 10, 10, 11, 5, 0, 10, 7, 10, 3, 9, 5, 9, 8, 5, 10, 8, 3, 10, 10, 3, 4, 11, 11, 8, 11, 4, 0, 1, 5, 10, 10, 10, 10, 8, 10, 4, 10, 0, 4, 11, 10, 10, 10, 10, 10, 4, 10, 10, 0, 10, 9, 10, 11, 0, 10, 5, 9, 3, 10, 5, 3, 5, 10, 0, 10, 10, 0, 2, 10, 0, 10, 0, 2, 3, 8, 10, 7, 7, 10, 5, 10, 10, 2, 10, 10, 9, 10, 7, 10, 10, 10, 3, 10, 7, 11, 10, 5, 11, 3, 0, 10, 10, 10, 10, 3, 0, 10, 0, 0, 4, 10, 10, 1, 0, 10, 5, 5, 3, 9, 10, 3, 0, 9, 0, 9, 4, 10, 9, 8, 2, 9, 11, 5, 3, 9, 1, 10, 0, 5, 10, 10, 0, 7, 3, 10, 10, 5, 10, 5, 10, 10, 10, 0, 0, 9, 10, 10, 9, 1, 0, 8, 10, 5, 3, 9, 10, 3, 10, 10, 3, 7, 0, 10, 10, 0, 10, 3, 2, 9, 10, 2, 0, 9, 5, 7, 9, 10, 10, 4, 3, 10, 10, 10, 10, 10, 10, 0, 10, 5, 10, 9, 1, 10, 10, 5, 10, 11, 11, 4, 11, 11, 11, 0, 0, 9, 3, 11, 11, 1, 9, 11, 0, 0, 11, 5, 11, 0, 6, 11, 6, 6, 11, 7, 3, 11, 11, 3, 11, 5, 7, 0, 3, 11, 11, 11, 5, 11, 6, 11, 11, 11, 11, 11, 6, 0, 0, 11, 11, 11, 11, 3, 5, 5, 6, 7, 0, 2, 11, 11, 11, 3, 3, 7, 11, 11, 7, 7, 11, 11, 10, 7, 5, 11, 11, 5, 5, 0, 11, 8, 0, 6, 11, 5, 11, 6, 11, 1, 11, 7, 5, 0, 11, 11, 7, 2, 5, 6, 7, 11, 6, 0, 11, 3, 1, 5, 0, 3, 5, 3, 0, 11, 11, 3, 6, 6, 11, 11, 11, 11, 2, 1, 6, 11, 11, 11, 5, 3, 11, 11, 11, 4, 7, 11, 10, 11, 6, 11, 0, 3, 11, 11, 5, 3, 11, 7, 6, 11, 1, 0, 11, 6, 7, 5, 6, 0, 5, 0, 3, 8, 11, 1, 0, 3, 5, 6, 5, 5, 5, 6, 2, 2, 7, 11, 7, 11, 2, 10, 7, 11, 3, 11, 5, 2, 9, 11, 11, 0, 0, 11, 9, 0, 11, 11, 6, 11, 0, 0, 11, 5, 7, 6, 11, 11, 10, 6, 11, 2, 7, 11, 5, 7, 9, 3, 11, 5, 7, 2, 11, 0, 3, 7, 6, 11, 11, 6, 11, 7, 6, 11, 5, 11, 7, 3, 11, 11, 11, 11, 0, 0, 11, 11, 6, 7, 3, 11, 6, 3, 11, 0, 0, 11, 2, 11, 0, 10, 0, 11, 3, 11, 11, 7, 6, 3, 2, 9, 0, 11, 11, 4, 5, 7, 1, 11, 11, 3, 11, 0, 10, 6, 10, 7, 11, 0, 11, 3, 3, 0, 3, 1, 11, 11, 7, 11, 3, 4, 6, 11, 3, 2, 3, 11, 11, 11, 0, 0, 11, 11, 5, 11, 5, 0, 11, 11, 6, 6, 11, 6, 9, 3, 9, 3, 3, 7, 11, 3, 11, 4, 11, 1, 2, 3, 4, 10, 0, 0, 11, 2, 11, 11, 11, 9, 7, 5, 11, 2, 1, 0, 8, 11, 0, 11, 3, 6, 11, 3, 0, 3, 0, 11, 3, 11, 6, 2, 11, 11, 3, 5, 11, 11, 11, 11, 5, 11, 11, 0, 3, 3, 1, 5, 3, 11, 11, 3, 11, 6, 7, 3, 6, 3, 11, 5, 11, 11, 3, 11, 5, 11, 5, 7, 7, 3, 3, 11, 3, 3, 11, 5, 11, 11, 11, 0, 5, 5, 1, 11, 7, 0, 7, 3, 11, 11, 11, 7, 5, 3, 2, 11, 5, 0, 11, 2, 3, 6, 11, 6, 9, 10, 0, 5, 11, 1, 11, 2, 11, 0, 3, 0, 11, 5, 11, 1, 7, 11, 7, 7, 1, 11, 11, 6, 11, 11, 4, 11, 10, 8, 11, 11, 3, 8, 11, 6, 2, 6, 2, 6, 11, 3, 9, 0, 6, 11, 3, 11, 11, 0, 3, 11, 1, 2, 0, 0, 0, 0, 11, 11, 11, 5, 3, 5, 7, 0, 2, 11, 3, 11, 6, 7, 11, 11, 3, 11, 5, 7, 11, 7, 11, 3, 11, 3, 6, 7, 11, 11, 1, 6, 0, 6, 11, 3, 0, 11, 11, 6, 11, 6, 0, 3, 9, 9, 3, 2, 7, 11, 11, 5, 5, 11, 5, 1, 0, 3, 10, 0, 11, 10, 3, 6, 1, 5, 11, 1, 0, 11, 6, 3, 11, 0, 11, 11, 2, 11, 7, 6, 0, 7, 11, 11, 11, 11, 11, 11, 0, 11, 6, 1, 11, 2, 7, 6, 1, 7, 11, 2, 3, 11, 9, 11, 7, 11, 2, 9, 10, 11, 5, 6, 1, 3, 11, 11, 5, 11, 11, 5, 5, 0, 11, 6, 3, 11, 11, 7, 3, 6, 11, 0, 11, 0, 11, 2, 0, 11, 6, 10, 11, 11, 11, 11, 11, 5, 6, 6, 11, 1, 5, 11, 6, 6, 10, 3, 3, 1, 9, 1, 6, 1, 5, 11, 2, 1, 11, 9, 0, 11, 9, 11, 6, 3, 0, 7, 11, 11, 6, 5, 1, 11, 6, 11, 3, 0, 11, 0, 6, 11, 3, 11, 1, 11, 0, 11, 11, 5, 3, 11, 11, 11, 7, 6, 11, 11, 11, 11, 1, 1, 1, 8, 11, 11, 11, 11, 11, 5, 11, 7, 2, 2, 3, 3, 0, 4, 5, 11, 11, 5, 11, 3, 11, 11, 5, 3, 11, 5, 6, 11, 5, 11, 11, 7, 5, 5, 0, 0, 0, 11, 11, 5, 5, 11, 5, 11, 5, 9, 1, 0, 0, 0, 11, 11, 0, 11, 5, 6, 0, 11, 2, 11, 11, 1, 6, 6, 11, 11, 11, 11, 5, 11, 0, 6, 6, 11, 2, 3, 0, 5, 6, 0, 3, 11, 3, 6, 11, 3, 11, 11, 11, 6, 3, 11, 6, 5, 2, 11, 10, 3, 3, 6, 5, 0, 4, 3, 11, 11, 0, 11, 3, 7, 7, 11, 1, 5, 5, 5, 0, 11, 7, 11, 11, 4, 0, 11, 0, 11, 7, 0, 11, 3, 3, 3, 7, 11, 11, 11, 11, 0, 6, 1, 5, 5, 6, 5, 6, 2, 11, 7, 6, 11, 11, 11, 2, 6, 7, 9, 11, 6, 11, 5, 11, 9, 11, 11, 4, 11, 3, 3, 11, 3, 10]\n"
          ]
        }
      ]
    },
    {
      "cell_type": "code",
      "metadata": {
        "id": "vQzyTSmBDDfm"
      },
      "source": [
        "cm=confusion_matrix(test_labels, prediction)"
      ],
      "execution_count": 27,
      "outputs": []
    },
    {
      "cell_type": "code",
      "metadata": {
        "colab": {
          "base_uri": "https://localhost:8080/",
          "height": 295
        },
        "id": "8Xf9THhKDDcu",
        "outputId": "5c01ba77-818f-45b9-ea85-4ad827209758"
      },
      "source": [
        "correct = 0\n",
        "\n",
        "for i in range(12):\n",
        "  correct += cm[i][i]\n",
        "\n",
        "total = 0\n",
        "\n",
        "for i in range(12):\n",
        "  for j in range(12):\n",
        "    total += cm[i][j]\n",
        "\n",
        "wrong = total - correct\n",
        "\n",
        "plt.title(\"Evaluation Accuracy\")\n",
        "\n",
        "# Data\n",
        "status = ['Correct', 'False']\n",
        "num   = [correct, wrong]\n",
        "\n",
        "# Plot\n",
        "plt.bar(status, num, width=0.50, edgecolor='k', linewidth=2)\n",
        "\n",
        "plt.xlabel(\"Status\")\n",
        "plt.ylabel(\"Number of Predictions\")\n",
        "\n",
        "# Create the graph ticks with a list comprehension\n",
        "plt.yticks(ticks=[x * 1000 for x in range(15)])\n",
        "\n",
        "# Render\n",
        "plt.savefig(\"plot.png\")\n",
        "plt.show()"
      ],
      "execution_count": 28,
      "outputs": [
        {
          "output_type": "display_data",
          "data": {
            "image/png": "[encoded data removed]",
            "text/plain": [
              "<Figure size 432x288 with 1 Axes>"
            ]
          },
          "metadata": {
            "needs_background": "light"
          }
        }
      ]
    },
    {
      "cell_type": "code",
      "metadata": {
        "colab": {
          "base_uri": "https://localhost:8080/"
        },
        "id": "VppNakhQDDZu",
        "outputId": "275bc63c-7643-4860-ab70-d74c7811cb73"
      },
      "source": [
        "print(\"Correct: \"+str(correct))\n",
        "print(\"False: \"+str(wrong))\n",
        "\n",
        "print(\"Test Accuracy: \"+str(correct/total))"
      ],
      "execution_count": 29,
      "outputs": [
        {
          "output_type": "stream",
          "name": "stdout",
          "text": [
            "Correct: 4018\n",
            "False: 9467\n",
            "Test Accuracy: 0.2979606970708194\n"
          ]
        }
      ]
    },
    {
      "cell_type": "markdown",
      "metadata": {
        "id": "2wUSVOuxeotL"
      },
      "source": [
        "### Predicted Labels"
      ]
    },
    {
      "cell_type": "code",
      "metadata": {
        "id": "i7CbtHH5elLF"
      },
      "source": [
        "test_labels = test_labels.values.tolist()"
      ],
      "execution_count": 30,
      "outputs": []
    },
    {
      "cell_type": "code",
      "metadata": {
        "colab": {
          "base_uri": "https://localhost:8080/",
          "height": 414
        },
        "id": "fNkBo3tBlkSj",
        "outputId": "e0d56141-f2a6-407c-8b97-c0928a28f434"
      },
      "source": [
        "# Compare the actual and the predicted labels for each row of the test dataset\n",
        "\n",
        "report = pd.DataFrame({'Actual': test_labels, 'Predicted': prediction})\n",
        "\n",
        "report"
      ],
      "execution_count": 31,
      "outputs": [
        {
          "output_type": "execute_result",
          "data": {
            "text/html": [
              "<div>\n",
              "<style scoped>\n",
              "    .dataframe tbody tr th:only-of-type {\n",
              "        vertical-align: middle;\n",
              "    }\n",
              "\n",
              "    .dataframe tbody tr th {\n",
              "        vertical-align: top;\n",
              "    }\n",
              "\n",
              "    .dataframe thead th {\n",
              "        text-align: right;\n",
              "    }\n",
              "</style>\n",
              "<table border=\"1\" class=\"dataframe\">\n",
              "  <thead>\n",
              "    <tr style=\"text-align: right;\">\n",
              "      <th></th>\n",
              "      <th>Actual</th>\n",
              "      <th>Predicted</th>\n",
              "    </tr>\n",
              "  </thead>\n",
              "  <tbody>\n",
              "    <tr>\n",
              "      <th>0</th>\n",
              "      <td>0</td>\n",
              "      <td>1</td>\n",
              "    </tr>\n",
              "    <tr>\n",
              "      <th>1</th>\n",
              "      <td>0</td>\n",
              "      <td>0</td>\n",
              "    </tr>\n",
              "    <tr>\n",
              "      <th>2</th>\n",
              "      <td>0</td>\n",
              "      <td>6</td>\n",
              "    </tr>\n",
              "    <tr>\n",
              "      <th>3</th>\n",
              "      <td>0</td>\n",
              "      <td>3</td>\n",
              "    </tr>\n",
              "    <tr>\n",
              "      <th>4</th>\n",
              "      <td>0</td>\n",
              "      <td>0</td>\n",
              "    </tr>\n",
              "    <tr>\n",
              "      <th>...</th>\n",
              "      <td>...</td>\n",
              "      <td>...</td>\n",
              "    </tr>\n",
              "    <tr>\n",
              "      <th>13480</th>\n",
              "      <td>11</td>\n",
              "      <td>3</td>\n",
              "    </tr>\n",
              "    <tr>\n",
              "      <th>13481</th>\n",
              "      <td>11</td>\n",
              "      <td>3</td>\n",
              "    </tr>\n",
              "    <tr>\n",
              "      <th>13482</th>\n",
              "      <td>11</td>\n",
              "      <td>11</td>\n",
              "    </tr>\n",
              "    <tr>\n",
              "      <th>13483</th>\n",
              "      <td>11</td>\n",
              "      <td>3</td>\n",
              "    </tr>\n",
              "    <tr>\n",
              "      <th>13484</th>\n",
              "      <td>11</td>\n",
              "      <td>10</td>\n",
              "    </tr>\n",
              "  </tbody>\n",
              "</table>\n",
              "<p>13485 rows × 2 columns</p>\n",
              "</div>"
            ],
            "text/plain": [
              "       Actual  Predicted\n",
              "0           0          1\n",
              "1           0          0\n",
              "2           0          6\n",
              "3           0          3\n",
              "4           0          0\n",
              "...       ...        ...\n",
              "13480      11          3\n",
              "13481      11          3\n",
              "13482      11         11\n",
              "13483      11          3\n",
              "13484      11         10\n",
              "\n",
              "[13485 rows x 2 columns]"
            ]
          },
          "metadata": {},
          "execution_count": 31
        }
      ]
    },
    {
      "cell_type": "code",
      "metadata": {
        "id": "C7Hw8bZ7qK4n"
      },
      "source": [
        "# Accumulate the number of each [actual, prediction] pair\n",
        "\n",
        "numbers = report.groupby(['Actual', 'Predicted']).size()\n",
        "\n",
        "pair_values = pd.DataFrame(numbers)"
      ],
      "execution_count": 32,
      "outputs": []
    },
    {
      "cell_type": "code",
      "metadata": {
        "colab": {
          "base_uri": "https://localhost:8080/",
          "height": 445
        },
        "id": "6Ne8ViE-qXiH",
        "outputId": "6e05ebb6-2179-431c-a57e-101e0272ac54"
      },
      "source": [
        "pair_values"
      ],
      "execution_count": 33,
      "outputs": [
        {
          "output_type": "execute_result",
          "data": {
            "text/html": [
              "<div>\n",
              "<style scoped>\n",
              "    .dataframe tbody tr th:only-of-type {\n",
              "        vertical-align: middle;\n",
              "    }\n",
              "\n",
              "    .dataframe tbody tr th {\n",
              "        vertical-align: top;\n",
              "    }\n",
              "\n",
              "    .dataframe thead th {\n",
              "        text-align: right;\n",
              "    }\n",
              "</style>\n",
              "<table border=\"1\" class=\"dataframe\">\n",
              "  <thead>\n",
              "    <tr style=\"text-align: right;\">\n",
              "      <th></th>\n",
              "      <th></th>\n",
              "      <th>0</th>\n",
              "    </tr>\n",
              "    <tr>\n",
              "      <th>Actual</th>\n",
              "      <th>Predicted</th>\n",
              "      <th></th>\n",
              "    </tr>\n",
              "  </thead>\n",
              "  <tbody>\n",
              "    <tr>\n",
              "      <th rowspan=\"5\" valign=\"top\">0</th>\n",
              "      <th>0</th>\n",
              "      <td>505</td>\n",
              "    </tr>\n",
              "    <tr>\n",
              "      <th>1</th>\n",
              "      <td>162</td>\n",
              "    </tr>\n",
              "    <tr>\n",
              "      <th>2</th>\n",
              "      <td>154</td>\n",
              "    </tr>\n",
              "    <tr>\n",
              "      <th>3</th>\n",
              "      <td>234</td>\n",
              "    </tr>\n",
              "    <tr>\n",
              "      <th>4</th>\n",
              "      <td>36</td>\n",
              "    </tr>\n",
              "    <tr>\n",
              "      <th>...</th>\n",
              "      <th>...</th>\n",
              "      <td>...</td>\n",
              "    </tr>\n",
              "    <tr>\n",
              "      <th rowspan=\"5\" valign=\"top\">11</th>\n",
              "      <th>7</th>\n",
              "      <td>62</td>\n",
              "    </tr>\n",
              "    <tr>\n",
              "      <th>8</th>\n",
              "      <td>6</td>\n",
              "    </tr>\n",
              "    <tr>\n",
              "      <th>9</th>\n",
              "      <td>21</td>\n",
              "    </tr>\n",
              "    <tr>\n",
              "      <th>10</th>\n",
              "      <td>17</td>\n",
              "    </tr>\n",
              "    <tr>\n",
              "      <th>11</th>\n",
              "      <td>324</td>\n",
              "    </tr>\n",
              "  </tbody>\n",
              "</table>\n",
              "<p>144 rows × 1 columns</p>\n",
              "</div>"
            ],
            "text/plain": [
              "                    0\n",
              "Actual Predicted     \n",
              "0      0          505\n",
              "       1          162\n",
              "       2          154\n",
              "       3          234\n",
              "       4           36\n",
              "...               ...\n",
              "11     7           62\n",
              "       8            6\n",
              "       9           21\n",
              "       10          17\n",
              "       11         324\n",
              "\n",
              "[144 rows x 1 columns]"
            ]
          },
          "metadata": {},
          "execution_count": 33
        }
      ]
    },
    {
      "cell_type": "code",
      "metadata": {
        "id": "aN2ebVFREaSk"
      },
      "source": [
        "data=[]\n",
        "\n",
        "used_pair_values = pair_values[0]\n",
        "\n",
        "for i in range(12):\n",
        "  row = []\n",
        "  for j in range(12):\n",
        "    row.append(used_pair_values[i][j])\n",
        "  data.append(row)"
      ],
      "execution_count": 34,
      "outputs": []
    },
    {
      "cell_type": "code",
      "metadata": {
        "id": "3ZaQwbzHs6gs"
      },
      "source": [
        "final = pd.DataFrame(data, index=emojis, columns=emojis)\n",
        "\n",
        "final.index.name=\"Actual\"\n",
        "\n",
        "final.columns.name=\"Predicted\""
      ],
      "execution_count": 35,
      "outputs": []
    },
    {
      "cell_type": "markdown",
      "metadata": {
        "id": "iMkbHFHKe1EC"
      },
      "source": [
        "### Raw Confusion Matrix"
      ]
    },
    {
      "cell_type": "code",
      "metadata": {
        "colab": {
          "base_uri": "https://localhost:8080/",
          "height": 447
        },
        "id": "e7QZwohlxYci",
        "outputId": "18206ee3-9398-458c-f575-edc072b71b93"
      },
      "source": [
        "final"
      ],
      "execution_count": 36,
      "outputs": [
        {
          "output_type": "execute_result",
          "data": {
            "text/html": [
              "<div>\n",
              "<style scoped>\n",
              "    .dataframe tbody tr th:only-of-type {\n",
              "        vertical-align: middle;\n",
              "    }\n",
              "\n",
              "    .dataframe tbody tr th {\n",
              "        vertical-align: top;\n",
              "    }\n",
              "\n",
              "    .dataframe thead th {\n",
              "        text-align: right;\n",
              "    }\n",
              "</style>\n",
              "<table border=\"1\" class=\"dataframe\">\n",
              "  <thead>\n",
              "    <tr style=\"text-align: right;\">\n",
              "      <th>Predicted</th>\n",
              "      <th>😂</th>\n",
              "      <th>😭</th>\n",
              "      <th>😍</th>\n",
              "      <th>🙄</th>\n",
              "      <th>❤</th>\n",
              "      <th>😊</th>\n",
              "      <th>😩</th>\n",
              "      <th>🤔</th>\n",
              "      <th>😘</th>\n",
              "      <th>🏽</th>\n",
              "      <th>💯</th>\n",
              "      <th>🙃</th>\n",
              "    </tr>\n",
              "    <tr>\n",
              "      <th>Actual</th>\n",
              "      <th></th>\n",
              "      <th></th>\n",
              "      <th></th>\n",
              "      <th></th>\n",
              "      <th></th>\n",
              "      <th></th>\n",
              "      <th></th>\n",
              "      <th></th>\n",
              "      <th></th>\n",
              "      <th></th>\n",
              "      <th></th>\n",
              "      <th></th>\n",
              "    </tr>\n",
              "  </thead>\n",
              "  <tbody>\n",
              "    <tr>\n",
              "      <th>😂</th>\n",
              "      <td>505</td>\n",
              "      <td>162</td>\n",
              "      <td>154</td>\n",
              "      <td>234</td>\n",
              "      <td>36</td>\n",
              "      <td>127</td>\n",
              "      <td>74</td>\n",
              "      <td>154</td>\n",
              "      <td>25</td>\n",
              "      <td>48</td>\n",
              "      <td>65</td>\n",
              "      <td>220</td>\n",
              "    </tr>\n",
              "    <tr>\n",
              "      <th>😭</th>\n",
              "      <td>240</td>\n",
              "      <td>287</td>\n",
              "      <td>161</td>\n",
              "      <td>167</td>\n",
              "      <td>50</td>\n",
              "      <td>58</td>\n",
              "      <td>231</td>\n",
              "      <td>84</td>\n",
              "      <td>28</td>\n",
              "      <td>29</td>\n",
              "      <td>31</td>\n",
              "      <td>204</td>\n",
              "    </tr>\n",
              "    <tr>\n",
              "      <th>😍</th>\n",
              "      <td>82</td>\n",
              "      <td>55</td>\n",
              "      <td>532</td>\n",
              "      <td>16</td>\n",
              "      <td>93</td>\n",
              "      <td>118</td>\n",
              "      <td>38</td>\n",
              "      <td>37</td>\n",
              "      <td>40</td>\n",
              "      <td>31</td>\n",
              "      <td>9</td>\n",
              "      <td>42</td>\n",
              "    </tr>\n",
              "    <tr>\n",
              "      <th>🙄</th>\n",
              "      <td>162</td>\n",
              "      <td>75</td>\n",
              "      <td>48</td>\n",
              "      <td>321</td>\n",
              "      <td>8</td>\n",
              "      <td>57</td>\n",
              "      <td>160</td>\n",
              "      <td>76</td>\n",
              "      <td>5</td>\n",
              "      <td>15</td>\n",
              "      <td>55</td>\n",
              "      <td>233</td>\n",
              "    </tr>\n",
              "    <tr>\n",
              "      <th>❤</th>\n",
              "      <td>27</td>\n",
              "      <td>34</td>\n",
              "      <td>115</td>\n",
              "      <td>11</td>\n",
              "      <td>264</td>\n",
              "      <td>152</td>\n",
              "      <td>8</td>\n",
              "      <td>9</td>\n",
              "      <td>66</td>\n",
              "      <td>14</td>\n",
              "      <td>14</td>\n",
              "      <td>17</td>\n",
              "    </tr>\n",
              "    <tr>\n",
              "      <th>😊</th>\n",
              "      <td>51</td>\n",
              "      <td>16</td>\n",
              "      <td>74</td>\n",
              "      <td>27</td>\n",
              "      <td>85</td>\n",
              "      <td>301</td>\n",
              "      <td>25</td>\n",
              "      <td>34</td>\n",
              "      <td>31</td>\n",
              "      <td>28</td>\n",
              "      <td>19</td>\n",
              "      <td>52</td>\n",
              "    </tr>\n",
              "    <tr>\n",
              "      <th>😩</th>\n",
              "      <td>110</td>\n",
              "      <td>118</td>\n",
              "      <td>129</td>\n",
              "      <td>133</td>\n",
              "      <td>19</td>\n",
              "      <td>51</td>\n",
              "      <td>374</td>\n",
              "      <td>76</td>\n",
              "      <td>11</td>\n",
              "      <td>23</td>\n",
              "      <td>37</td>\n",
              "      <td>227</td>\n",
              "    </tr>\n",
              "    <tr>\n",
              "      <th>🤔</th>\n",
              "      <td>130</td>\n",
              "      <td>27</td>\n",
              "      <td>59</td>\n",
              "      <td>142</td>\n",
              "      <td>11</td>\n",
              "      <td>54</td>\n",
              "      <td>76</td>\n",
              "      <td>509</td>\n",
              "      <td>5</td>\n",
              "      <td>24</td>\n",
              "      <td>43</td>\n",
              "      <td>136</td>\n",
              "    </tr>\n",
              "    <tr>\n",
              "      <th>😘</th>\n",
              "      <td>28</td>\n",
              "      <td>18</td>\n",
              "      <td>43</td>\n",
              "      <td>8</td>\n",
              "      <td>91</td>\n",
              "      <td>158</td>\n",
              "      <td>2</td>\n",
              "      <td>4</td>\n",
              "      <td>123</td>\n",
              "      <td>15</td>\n",
              "      <td>13</td>\n",
              "      <td>9</td>\n",
              "    </tr>\n",
              "    <tr>\n",
              "      <th>🏽</th>\n",
              "      <td>211</td>\n",
              "      <td>58</td>\n",
              "      <td>168</td>\n",
              "      <td>160</td>\n",
              "      <td>119</td>\n",
              "      <td>245</td>\n",
              "      <td>60</td>\n",
              "      <td>71</td>\n",
              "      <td>40</td>\n",
              "      <td>215</td>\n",
              "      <td>213</td>\n",
              "      <td>163</td>\n",
              "    </tr>\n",
              "    <tr>\n",
              "      <th>💯</th>\n",
              "      <td>78</td>\n",
              "      <td>16</td>\n",
              "      <td>34</td>\n",
              "      <td>60</td>\n",
              "      <td>27</td>\n",
              "      <td>54</td>\n",
              "      <td>13</td>\n",
              "      <td>26</td>\n",
              "      <td>21</td>\n",
              "      <td>58</td>\n",
              "      <td>263</td>\n",
              "      <td>40</td>\n",
              "    </tr>\n",
              "    <tr>\n",
              "      <th>🙃</th>\n",
              "      <td>96</td>\n",
              "      <td>37</td>\n",
              "      <td>37</td>\n",
              "      <td>100</td>\n",
              "      <td>11</td>\n",
              "      <td>83</td>\n",
              "      <td>86</td>\n",
              "      <td>62</td>\n",
              "      <td>6</td>\n",
              "      <td>21</td>\n",
              "      <td>17</td>\n",
              "      <td>324</td>\n",
              "    </tr>\n",
              "  </tbody>\n",
              "</table>\n",
              "</div>"
            ],
            "text/plain": [
              "Predicted    😂    😭    😍    🙄    ❤    😊    😩    🤔    😘    🏽    💯    🙃\n",
              "Actual                                                               \n",
              "😂          505  162  154  234   36  127   74  154   25   48   65  220\n",
              "😭          240  287  161  167   50   58  231   84   28   29   31  204\n",
              "😍           82   55  532   16   93  118   38   37   40   31    9   42\n",
              "🙄          162   75   48  321    8   57  160   76    5   15   55  233\n",
              "❤           27   34  115   11  264  152    8    9   66   14   14   17\n",
              "😊           51   16   74   27   85  301   25   34   31   28   19   52\n",
              "😩          110  118  129  133   19   51  374   76   11   23   37  227\n",
              "🤔          130   27   59  142   11   54   76  509    5   24   43  136\n",
              "😘           28   18   43    8   91  158    2    4  123   15   13    9\n",
              "🏽          211   58  168  160  119  245   60   71   40  215  213  163\n",
              "💯           78   16   34   60   27   54   13   26   21   58  263   40\n",
              "🙃           96   37   37  100   11   83   86   62    6   21   17  324"
            ]
          },
          "metadata": {},
          "execution_count": 36
        }
      ]
    },
    {
      "cell_type": "code",
      "metadata": {
        "colab": {
          "base_uri": "https://localhost:8080/",
          "height": 629
        },
        "id": "ugTZnHnbl90h",
        "outputId": "ffe04883-d186-461c-e105-62b827c55c75"
      },
      "source": [
        "sns.heatmap(final)"
      ],
      "execution_count": 37,
      "outputs": [
        {
          "output_type": "stream",
          "name": "stderr",
          "text": [
            "/usr/local/lib/python3.7/dist-packages/matplotlib/backends/backend_agg.py:214: RuntimeWarning: Glyph 128580 missing from current font.\n",
            "  font.set_text(s, 0.0, flags=flags)\n",
            "/usr/local/lib/python3.7/dist-packages/matplotlib/backends/backend_agg.py:214: RuntimeWarning: Glyph 129300 missing from current font.\n",
            "  font.set_text(s, 0.0, flags=flags)\n",
            "/usr/local/lib/python3.7/dist-packages/matplotlib/backends/backend_agg.py:214: RuntimeWarning: Glyph 127997 missing from current font.\n",
            "  font.set_text(s, 0.0, flags=flags)\n",
            "/usr/local/lib/python3.7/dist-packages/matplotlib/backends/backend_agg.py:214: RuntimeWarning: Glyph 128175 missing from current font.\n",
            "  font.set_text(s, 0.0, flags=flags)\n",
            "/usr/local/lib/python3.7/dist-packages/matplotlib/backends/backend_agg.py:214: RuntimeWarning: Glyph 128579 missing from current font.\n",
            "  font.set_text(s, 0.0, flags=flags)\n",
            "/usr/local/lib/python3.7/dist-packages/matplotlib/backends/backend_agg.py:183: RuntimeWarning: Glyph 128580 missing from current font.\n",
            "  font.set_text(s, 0, flags=flags)\n",
            "/usr/local/lib/python3.7/dist-packages/matplotlib/backends/backend_agg.py:183: RuntimeWarning: Glyph 129300 missing from current font.\n",
            "  font.set_text(s, 0, flags=flags)\n",
            "/usr/local/lib/python3.7/dist-packages/matplotlib/backends/backend_agg.py:183: RuntimeWarning: Glyph 127997 missing from current font.\n",
            "  font.set_text(s, 0, flags=flags)\n",
            "/usr/local/lib/python3.7/dist-packages/matplotlib/backends/backend_agg.py:183: RuntimeWarning: Glyph 128175 missing from current font.\n",
            "  font.set_text(s, 0, flags=flags)\n",
            "/usr/local/lib/python3.7/dist-packages/matplotlib/backends/backend_agg.py:183: RuntimeWarning: Glyph 128579 missing from current font.\n",
            "  font.set_text(s, 0, flags=flags)\n"
          ]
        },
        {
          "output_type": "execute_result",
          "data": {
            "text/plain": [
              "<matplotlib.axes._subplots.AxesSubplot at 0x7fd237f53e50>"
            ]
          },
          "metadata": {},
          "execution_count": 37
        },
        {
          "output_type": "display_data",
          "data": {
            "image/png": "[encoded data removed]",
            "text/plain": [
              "<Figure size 432x288 with 2 Axes>"
            ]
          },
          "metadata": {
            "needs_background": "light"
          }
        }
      ]
    },
    {
      "cell_type": "markdown",
      "metadata": {
        "id": "0wBBAhxmCkb7"
      },
      "source": [
        "### Micro-Average Evaluation + Cleaned Confusion Matrix"
      ]
    },
    {
      "cell_type": "code",
      "metadata": {
        "id": "unpcfRiwCd4E"
      },
      "source": [
        "# Micro-average evaluation is used as the dataset is imbalanced\n",
        "\n",
        "True_Positive = [0]*12\n",
        "True_Negative = [0]*12\n",
        "False_Positive = [0]*12\n",
        "False_Negative = [0]*12\n",
        "\n",
        "for i in range(12):\n",
        "  True_Positive[i] = used_pair_values[i][i]\n",
        "  for j in range(12):\n",
        "    for k in range(12):\n",
        "      if i == k and j != k:\n",
        "        False_Negative[k] += used_pair_values[i][j]\n",
        "      elif i != k and j == k:\n",
        "        False_Positive[k] += used_pair_values[i][j]\n",
        "      else:\n",
        "        True_Negative[k] += used_pair_values[i][j]\n",
        "\n",
        "TP = sum(True_Positive)/12\n",
        "TN = sum(True_Negative)/12\n",
        "FP = sum(False_Positive)/12\n",
        "FN = sum(False_Negative)/12"
      ],
      "execution_count": 40,
      "outputs": []
    },
    {
      "cell_type": "code",
      "metadata": {
        "colab": {
          "base_uri": "https://localhost:8080/"
        },
        "id": "JgHHmfFENW-e",
        "outputId": "2b90a6ec-00e2-4488-f11d-bc90d843ec14"
      },
      "source": [
        "print(\"True Positive: \"+str(TP))\n",
        "print(\"True Negative: \"+str(TN))\n",
        "print(\"False Positive: \"+str(FP))\n",
        "print(\"False Negative: \"+str(FN))"
      ],
      "execution_count": 49,
      "outputs": [
        {
          "output_type": "stream",
          "name": "stdout",
          "text": [
            "True Positive: 334.8333333333333\n",
            "True Negative: 11907.166666666666\n",
            "False Positive: 788.9166666666666\n",
            "False Negative: 788.9166666666666\n"
          ]
        }
      ]
    },
    {
      "cell_type": "code",
      "metadata": {
        "colab": {
          "base_uri": "https://localhost:8080/",
          "height": 269
        },
        "id": "5oI5qcJiMRR9",
        "outputId": "6cbb2b5f-ad95-437e-9727-80d459332249"
      },
      "source": [
        "cleaned_confusion_matrix = [[TP, FP],[FN, TN]]\n",
        "heatmap = plt.pcolor(cleaned_confusion_matrix)\n",
        "plt.colorbar(heatmap)\n",
        "plt.show()\n",
        "\n"
      ],
      "execution_count": 53,
      "outputs": [
        {
          "output_type": "display_data",
          "data": {
            "image/png": "[encoded data removed]",
            "text/plain": [
              "<Figure size 432x288 with 2 Axes>"
            ]
          },
          "metadata": {
            "needs_background": "light"
          }
        }
      ]
    },
    {
      "cell_type": "code",
      "metadata": {
        "id": "bFgfhN6UH0PH"
      },
      "source": [
        "Precision = TP/(TP+FP)\n",
        "Recall = TP/(TP+FN)\n",
        "F1 = 2/((1/Precision)+(1/Recall))"
      ],
      "execution_count": 42,
      "outputs": []
    },
    {
      "cell_type": "code",
      "metadata": {
        "colab": {
          "base_uri": "https://localhost:8080/"
        },
        "id": "YeF65GqiIRt3",
        "outputId": "8a853176-a8ea-4c74-ad6d-38783ca54b8a"
      },
      "source": [
        "print(\"Precision: \"+str(Precision))\n",
        "print(\"Recall: \"+str(Recall))\n",
        "print(\"F1 score: \"+str(F1))"
      ],
      "execution_count": 43,
      "outputs": [
        {
          "output_type": "stream",
          "name": "stdout",
          "text": [
            "Precision: 0.2979606970708194\n",
            "Recall: 0.2979606970708194\n",
            "F1 score: 0.2979606970708194\n"
          ]
        }
      ]
    },
    {
      "cell_type": "markdown",
      "metadata": {
        "id": "OGlwC-f6K910"
      },
      "source": [
        "# Function for Emoji Prediction"
      ]
    },
    {
      "cell_type": "code",
      "metadata": {
        "id": "Lzl8uNeh9AlR"
      },
      "source": [
        "# Before predicting the emoji from a text, don't forget to do the following:\n",
        "#   -. Include the [CLS] & [SEP] tokens\n",
        "#   -. Tokenize the sentence\n",
        "#   -. Pad the tokenized sentence with a fixed padding length\n",
        "#   -. Find the index of the highest value from the prediction result\n",
        "#   -. return the emoji with the index\n",
        "\n",
        "def prediction(text):\n",
        "  semi_processed_text = \"[CLS] \" + text + \" [SEP]\"\n",
        "  tokenized_text = tokenizer.tokenize(semi_processed_text)\n",
        "  tokenized_text_in_array = [tokenized_text]\n",
        "  text_with_padding = pad_sequences([tokenizer.convert_tokens_to_ids(sent) for sent in tokenized_text_in_array], maxlen=MAX_LEN, dtype=\"long\", truncating=\"post\", padding=\"post\")\n",
        "  index = np.argmax(model.predict(text_with_padding).logits[0])\n",
        "  return emojis[index]"
      ],
      "execution_count": 44,
      "outputs": []
    },
    {
      "cell_type": "code",
      "metadata": {
        "colab": {
          "base_uri": "https://localhost:8080/"
        },
        "id": "akEek8oGgQDM",
        "outputId": "a5e7fc25-c4eb-4ac7-efd3-b4bfb2f144ff"
      },
      "source": [
        "emojis"
      ],
      "execution_count": 45,
      "outputs": [
        {
          "output_type": "execute_result",
          "data": {
            "text/plain": [
              "array(['😂', '😭', '😍', '🙄', '❤', '😊', '😩', '🤔', '😘', '🏽', '💯', '🙃'],\n",
              "      dtype=object)"
            ]
          },
          "metadata": {},
          "execution_count": 45
        }
      ]
    },
    {
      "cell_type": "code",
      "metadata": {
        "id": "1zyVrWdo-A0-",
        "colab": {
          "base_uri": "https://localhost:8080/",
          "height": 35
        },
        "outputId": "c746eed2-7c45-49a3-a391-5dc8c1c4c9bf"
      },
      "source": [
        "prediction(\"Hi, it's really nice to meet you\")"
      ],
      "execution_count": 46,
      "outputs": [
        {
          "output_type": "execute_result",
          "data": {
            "application/vnd.google.colaboratory.intrinsic+json": {
              "type": "string"
            },
            "text/plain": [
              "'😊'"
            ]
          },
          "metadata": {},
          "execution_count": 46
        }
      ]
    },
    {
      "cell_type": "code",
      "metadata": {
        "colab": {
          "base_uri": "https://localhost:8080/",
          "height": 35
        },
        "id": "8HMxq3Y6fKMo",
        "outputId": "e56bbbe0-c476-4092-924a-885c65b4e4a0"
      },
      "source": [
        "prediction(\"Why do I have to fail a lot??\")"
      ],
      "execution_count": 47,
      "outputs": [
        {
          "output_type": "execute_result",
          "data": {
            "application/vnd.google.colaboratory.intrinsic+json": {
              "type": "string"
            },
            "text/plain": [
              "'🙄'"
            ]
          },
          "metadata": {},
          "execution_count": 47
        }
      ]
    },
    {
      "cell_type": "code",
      "metadata": {
        "colab": {
          "base_uri": "https://localhost:8080/",
          "height": 35
        },
        "id": "nU1yetUnfZfx",
        "outputId": "5ba03fc0-7c72-4398-ade7-9fca0ce97606"
      },
      "source": [
        "prediction(\"I love you so much, babe!\")"
      ],
      "execution_count": 48,
      "outputs": [
        {
          "output_type": "execute_result",
          "data": {
            "application/vnd.google.colaboratory.intrinsic+json": {
              "type": "string"
            },
            "text/plain": [
              "'❤'"
            ]
          },
          "metadata": {},
          "execution_count": 48
        }
      ]
    }
  ]
}