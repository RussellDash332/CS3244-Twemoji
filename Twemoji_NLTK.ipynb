{
 "cells": [
  {
   "cell_type": "code",
   "execution_count": 1,
   "metadata": {},
   "outputs": [],
   "source": [
    "import pandas as pd\n",
    "import matplotlib.pyplot as plt\n",
    "import seaborn as sns\n",
    "import os, re, pickle\n",
    "import numpy as np\n",
    "\n",
    "# Almost everything from sklearn\n",
    "from sklearn.model_selection import train_test_split, StratifiedKFold, cross_val_score\n",
    "from sklearn.metrics import f1_score, confusion_matrix, accuracy_score, log_loss\n",
    "\"\"\"\n",
    "from sklearn.linear_model import SGDClassifier\n",
    "from sklearn.tree import DecisionTreeClassifier\n",
    "from sklearn.ensemble import RandomForestClassifier, AdaBoostClassifier\n",
    "from sklearn.neural_network import MLPClassifier\n",
    "from sklearn.neighbors import KNeighborsClassifier\n",
    "from sklearn.svm import SVC\n",
    "from sklearn.gaussian_process import GaussianProcessClassifier\n",
    "from xgboost import XGBClassifier\n",
    "\"\"\"\n",
    "from sklearn.naive_bayes import MultinomialNB\n",
    "\n",
    "# NLTK package\n",
    "!pip install --disable-pip-version-check -q nltk\n",
    "import nltk\n",
    "nltk.download('punkt', quiet=True)\n",
    "nltk.download('stopwords', quiet=True)\n",
    "nltk.download('wordnet', quiet=True)\n",
    "nltk.download('averaged_perceptron_tagger', quiet=True)\n",
    "from nltk.tokenize import word_tokenize, RegexpTokenizer\n",
    "from nltk.corpus import stopwords\n",
    "from nltk.stem.wordnet import WordNetLemmatizer\n",
    "from sklearn.feature_extraction.text import TfidfVectorizer"
   ]
  },
  {
   "cell_type": "markdown",
   "metadata": {},
   "source": [
    "The following cell is optional because we don't want to see red warnings here and there."
   ]
  },
  {
   "cell_type": "code",
   "execution_count": 2,
   "metadata": {},
   "outputs": [],
   "source": [
    "# Optional\n",
    "toggle_warn = False\n",
    "\n",
    "def warn(*args, **kwargs):\n",
    "    pass\n",
    "import warnings\n",
    "\n",
    "if not toggle_warn:\n",
    "    warnings.warn = warn\n",
    "    os.environ['TF_CPP_MIN_LOG_LEVEL'] = '3' "
   ]
  },
  {
   "cell_type": "markdown",
   "metadata": {},
   "source": [
    "Import data from GitHub to make things easier."
   ]
  },
  {
   "cell_type": "code",
   "execution_count": 3,
   "metadata": {},
   "outputs": [],
   "source": [
    "train_data = pd.read_csv(\"https://raw.githubusercontent.com/RussellDash332/CS3244-Twemoji/main/Datasets/train_text_emoji_clean.csv\")\n",
    "test_data = pd.read_csv(\"https://raw.githubusercontent.com/RussellDash332/CS3244-Twemoji/main/Datasets/test_text_emoji_clean.csv\")\n",
    "valid_data = pd.read_csv(\"https://raw.githubusercontent.com/RussellDash332/CS3244-Twemoji/main/Datasets/valid_text_emoji_clean.csv\")"
   ]
  },
  {
   "cell_type": "markdown",
   "metadata": {},
   "source": [
    "## Sanity Check"
   ]
  },
  {
   "cell_type": "code",
   "execution_count": 4,
   "metadata": {},
   "outputs": [
    {
     "data": {
      "text/plain": [
       "(52884, 3)"
      ]
     },
     "execution_count": 4,
     "metadata": {},
     "output_type": "execute_result"
    }
   ],
   "source": [
    "train_data.shape"
   ]
  },
  {
   "cell_type": "code",
   "execution_count": 5,
   "metadata": {},
   "outputs": [
    {
     "data": {
      "text/html": [
       "<div>\n",
       "<style scoped>\n",
       "    .dataframe tbody tr th:only-of-type {\n",
       "        vertical-align: middle;\n",
       "    }\n",
       "\n",
       "    .dataframe tbody tr th {\n",
       "        vertical-align: top;\n",
       "    }\n",
       "\n",
       "    .dataframe thead th {\n",
       "        text-align: right;\n",
       "    }\n",
       "</style>\n",
       "<table border=\"1\" class=\"dataframe\">\n",
       "  <thead>\n",
       "    <tr style=\"text-align: right;\">\n",
       "      <th></th>\n",
       "      <th>annotations</th>\n",
       "      <th>tweets</th>\n",
       "      <th>labels</th>\n",
       "    </tr>\n",
       "  </thead>\n",
       "  <tbody>\n",
       "    <tr>\n",
       "      <th>0</th>\n",
       "      <td>😂</td>\n",
       "      <td>school is so dead o my god</td>\n",
       "      <td>0</td>\n",
       "    </tr>\n",
       "    <tr>\n",
       "      <th>1</th>\n",
       "      <td>😂</td>\n",
       "      <td>lol ive been told mine is worse than yours but...</td>\n",
       "      <td>0</td>\n",
       "    </tr>\n",
       "    <tr>\n",
       "      <th>2</th>\n",
       "      <td>😂</td>\n",
       "      <td>im excited to hear them that shit is going rat...</td>\n",
       "      <td>0</td>\n",
       "    </tr>\n",
       "    <tr>\n",
       "      <th>3</th>\n",
       "      <td>😂</td>\n",
       "      <td>damn alicia knows everything even indirect tweets</td>\n",
       "      <td>0</td>\n",
       "    </tr>\n",
       "    <tr>\n",
       "      <th>4</th>\n",
       "      <td>😂</td>\n",
       "      <td>that sound like everything</td>\n",
       "      <td>0</td>\n",
       "    </tr>\n",
       "    <tr>\n",
       "      <th>...</th>\n",
       "      <td>...</td>\n",
       "      <td>...</td>\n",
       "      <td>...</td>\n",
       "    </tr>\n",
       "    <tr>\n",
       "      <th>52879</th>\n",
       "      <td>🙃</td>\n",
       "      <td>or that picture was just cute to you</td>\n",
       "      <td>11</td>\n",
       "    </tr>\n",
       "    <tr>\n",
       "      <th>52880</th>\n",
       "      <td>🙃</td>\n",
       "      <td>im tow wit some gas still hate me</td>\n",
       "      <td>11</td>\n",
       "    </tr>\n",
       "    <tr>\n",
       "      <th>52881</th>\n",
       "      <td>🙃</td>\n",
       "      <td>yeah you kinda do</td>\n",
       "      <td>11</td>\n",
       "    </tr>\n",
       "    <tr>\n",
       "      <th>52882</th>\n",
       "      <td>🙃</td>\n",
       "      <td>nothing wit youuuu raymundo</td>\n",
       "      <td>11</td>\n",
       "    </tr>\n",
       "    <tr>\n",
       "      <th>52883</th>\n",
       "      <td>🙃</td>\n",
       "      <td>dont be that person who parks right next to me...</td>\n",
       "      <td>11</td>\n",
       "    </tr>\n",
       "  </tbody>\n",
       "</table>\n",
       "<p>52884 rows × 3 columns</p>\n",
       "</div>"
      ],
      "text/plain": [
       "      annotations                                             tweets  labels\n",
       "0               😂                         school is so dead o my god       0\n",
       "1               😂  lol ive been told mine is worse than yours but...       0\n",
       "2               😂  im excited to hear them that shit is going rat...       0\n",
       "3               😂  damn alicia knows everything even indirect tweets       0\n",
       "4               😂                         that sound like everything       0\n",
       "...           ...                                                ...     ...\n",
       "52879           🙃               or that picture was just cute to you      11\n",
       "52880           🙃                  im tow wit some gas still hate me      11\n",
       "52881           🙃                                  yeah you kinda do      11\n",
       "52882           🙃                        nothing wit youuuu raymundo      11\n",
       "52883           🙃  dont be that person who parks right next to me...      11\n",
       "\n",
       "[52884 rows x 3 columns]"
      ]
     },
     "execution_count": 5,
     "metadata": {},
     "output_type": "execute_result"
    }
   ],
   "source": [
    "train_data"
   ]
  },
  {
   "cell_type": "markdown",
   "metadata": {},
   "source": [
    "Eventually this function may not be needed, but it's good to have in case of multi-label classification!"
   ]
  },
  {
   "cell_type": "code",
   "execution_count": 6,
   "metadata": {},
   "outputs": [],
   "source": [
    "def binarize(label):\n",
    "    return [0]*(label) + [1] + [0]*(11-label)"
   ]
  },
  {
   "cell_type": "markdown",
   "metadata": {},
   "source": [
    "A function that outputs the things we need for evaluation in one go."
   ]
  },
  {
   "cell_type": "code",
   "execution_count": 7,
   "metadata": {},
   "outputs": [],
   "source": [
    "def evaluate(sub, y_val, predicted, use_heatmap=True):\n",
    "    print(f'{sub} Accuracy:', accuracy_score(y_val, predicted))\n",
    "    print(f'{sub} F1 Score:', f1_score(y_val, predicted, average='weighted'))\n",
    "    if use_heatmap:\n",
    "        print('Confusion Matrix:')\n",
    "        ax = sns.heatmap(confusion_matrix(y_val, predicted), annot=True, fmt=\"d\")\n",
    "        ax.set_xlabel(\"Predicted\")\n",
    "        ax.set_ylabel(\"Actual\")"
   ]
  },
  {
   "cell_type": "markdown",
   "metadata": {},
   "source": [
    "Prepare a function to lemmatize and filter stopwords to even process the words better."
   ]
  },
  {
   "cell_type": "code",
   "execution_count": 8,
   "metadata": {},
   "outputs": [],
   "source": [
    "# https://www.datacamp.com/community/tutorials/text-analytics-beginners-nltk\n",
    "token = RegexpTokenizer(r'[a-zA-Z0-9]+')\n",
    "\n",
    "def filter_stopword(tokenized_text):\n",
    "    stop_words = set(stopwords.words(\"english\"))\n",
    "    return list(filter(lambda x: x not in stop_words, tokenized_text))\n",
    "\n",
    "def lemmatize_better(sentence):\n",
    "    return \" \".join(list(map(WordNetLemmatizer().lemmatize, filter_stopword(word_tokenize(sentence)))))"
   ]
  },
  {
   "cell_type": "code",
   "execution_count": 9,
   "metadata": {},
   "outputs": [
    {
     "data": {
      "text/plain": [
       "'quick brown fox jumping laziest dog ever'"
      ]
     },
     "execution_count": 9,
     "metadata": {},
     "output_type": "execute_result"
    }
   ],
   "source": [
    "lemmatize_better(\"the quick brown foxes were jumping over the laziest dogs ever\")"
   ]
  },
  {
   "cell_type": "markdown",
   "metadata": {},
   "source": [
    "Create another dataset where we apply this modified lemmatization."
   ]
  },
  {
   "cell_type": "code",
   "execution_count": 10,
   "metadata": {},
   "outputs": [],
   "source": [
    "train_data_nltk = train_data.copy()\n",
    "train_data_nltk.tweets = train_data.tweets.apply(lemmatize_better)\n",
    "valid_data_nltk = valid_data.copy()\n",
    "valid_data_nltk.tweets = valid_data.tweets.apply(lemmatize_better)\n",
    "test_data_nltk = test_data.copy()\n",
    "test_data_nltk.tweets = test_data.tweets.apply(lemmatize_better)"
   ]
  },
  {
   "cell_type": "code",
   "execution_count": 11,
   "metadata": {},
   "outputs": [],
   "source": [
    "train_data_nltk = train_data_nltk[train_data_nltk.tweets != \"\"]\n",
    "valid_data_nltk = valid_data_nltk[valid_data_nltk.tweets != \"\"]\n",
    "test_data_nltk = test_data_nltk[test_data_nltk.tweets != \"\"]"
   ]
  },
  {
   "cell_type": "code",
   "execution_count": 12,
   "metadata": {},
   "outputs": [
    {
     "data": {
      "text/html": [
       "<div>\n",
       "<style scoped>\n",
       "    .dataframe tbody tr th:only-of-type {\n",
       "        vertical-align: middle;\n",
       "    }\n",
       "\n",
       "    .dataframe tbody tr th {\n",
       "        vertical-align: top;\n",
       "    }\n",
       "\n",
       "    .dataframe thead th {\n",
       "        text-align: right;\n",
       "    }\n",
       "</style>\n",
       "<table border=\"1\" class=\"dataframe\">\n",
       "  <thead>\n",
       "    <tr style=\"text-align: right;\">\n",
       "      <th></th>\n",
       "      <th>annotations</th>\n",
       "      <th>tweets</th>\n",
       "      <th>labels</th>\n",
       "    </tr>\n",
       "  </thead>\n",
       "  <tbody>\n",
       "    <tr>\n",
       "      <th>0</th>\n",
       "      <td>😂</td>\n",
       "      <td>school dead god</td>\n",
       "      <td>0</td>\n",
       "    </tr>\n",
       "    <tr>\n",
       "      <th>1</th>\n",
       "      <td>😂</td>\n",
       "      <td>lol ive told mine worse dont believe</td>\n",
       "      <td>0</td>\n",
       "    </tr>\n",
       "    <tr>\n",
       "      <th>2</th>\n",
       "      <td>😂</td>\n",
       "      <td>im excited hear shit going rattle soul</td>\n",
       "      <td>0</td>\n",
       "    </tr>\n",
       "    <tr>\n",
       "      <th>3</th>\n",
       "      <td>😂</td>\n",
       "      <td>damn alicia know everything even indirect tweet</td>\n",
       "      <td>0</td>\n",
       "    </tr>\n",
       "    <tr>\n",
       "      <th>4</th>\n",
       "      <td>😂</td>\n",
       "      <td>sound like everything</td>\n",
       "      <td>0</td>\n",
       "    </tr>\n",
       "    <tr>\n",
       "      <th>...</th>\n",
       "      <td>...</td>\n",
       "      <td>...</td>\n",
       "      <td>...</td>\n",
       "    </tr>\n",
       "    <tr>\n",
       "      <th>52879</th>\n",
       "      <td>🙃</td>\n",
       "      <td>picture cute</td>\n",
       "      <td>11</td>\n",
       "    </tr>\n",
       "    <tr>\n",
       "      <th>52880</th>\n",
       "      <td>🙃</td>\n",
       "      <td>im tow wit gas still hate</td>\n",
       "      <td>11</td>\n",
       "    </tr>\n",
       "    <tr>\n",
       "      <th>52881</th>\n",
       "      <td>🙃</td>\n",
       "      <td>yeah kinda</td>\n",
       "      <td>11</td>\n",
       "    </tr>\n",
       "    <tr>\n",
       "      <th>52882</th>\n",
       "      <td>🙃</td>\n",
       "      <td>nothing wit youuuu raymundo</td>\n",
       "      <td>11</td>\n",
       "    </tr>\n",
       "    <tr>\n",
       "      <th>52883</th>\n",
       "      <td>🙃</td>\n",
       "      <td>dont person park right next there crap load pa...</td>\n",
       "      <td>11</td>\n",
       "    </tr>\n",
       "  </tbody>\n",
       "</table>\n",
       "<p>52331 rows × 3 columns</p>\n",
       "</div>"
      ],
      "text/plain": [
       "      annotations                                             tweets  labels\n",
       "0               😂                                    school dead god       0\n",
       "1               😂               lol ive told mine worse dont believe       0\n",
       "2               😂             im excited hear shit going rattle soul       0\n",
       "3               😂    damn alicia know everything even indirect tweet       0\n",
       "4               😂                              sound like everything       0\n",
       "...           ...                                                ...     ...\n",
       "52879           🙃                                       picture cute      11\n",
       "52880           🙃                          im tow wit gas still hate      11\n",
       "52881           🙃                                         yeah kinda      11\n",
       "52882           🙃                        nothing wit youuuu raymundo      11\n",
       "52883           🙃  dont person park right next there crap load pa...      11\n",
       "\n",
       "[52331 rows x 3 columns]"
      ]
     },
     "execution_count": 12,
     "metadata": {},
     "output_type": "execute_result"
    }
   ],
   "source": [
    "train_data_nltk"
   ]
  },
  {
   "cell_type": "code",
   "execution_count": 13,
   "metadata": {},
   "outputs": [
    {
     "data": {
      "image/png": "[encoded data removed]",
      "text/plain": [
       "<Figure size 576x288 with 1 Axes>"
      ]
     },
     "metadata": {
      "needs_background": "light"
     },
     "output_type": "display_data"
    },
    {
     "data": {
      "image/png": "[encoded data removed]",
      "text/plain": [
       "<Figure size 576x288 with 1 Axes>"
      ]
     },
     "metadata": {
      "needs_background": "light"
     },
     "output_type": "display_data"
    },
    {
     "data": {
      "image/png": "[encoded data removed]",
      "text/plain": [
       "<Figure size 576x288 with 1 Axes>"
      ]
     },
     "metadata": {
      "needs_background": "light"
     },
     "output_type": "display_data"
    }
   ],
   "source": [
    "# https://fallfordata.com/multi-label-classification-of-texts-with-nltk/\n",
    "for data, name in [(train_data_nltk, \"training\"), (test_data_nltk, \"testing\"), (valid_data_nltk, \"validation\")]:\n",
    "    x = data.labels.value_counts()\n",
    "    plt.figure(figsize=(8, 4))\n",
    "    ax = sns.barplot(x=x.index, y=x.values)\n",
    "    plt.title(f\"Emoji distribution in {name} dataset\")\n",
    "    plt.xlabel('Emoji number', fontsize=12)\n",
    "    plt.ylabel('# of tweets', fontsize=12)\n",
    "    plt.show()"
   ]
  },
  {
   "cell_type": "markdown",
   "metadata": {},
   "source": [
    "## The Model"
   ]
  },
  {
   "cell_type": "markdown",
   "metadata": {},
   "source": [
    "Start by creating a TFIDF Vectorizer which uses a RegexpTokenizer. By default the norm is L2, but it's good to include.\n",
    "After that transform all train, valid, and test data using this, but fit only the training data.\n",
    "\n",
    "Once we're good with the transformation, simply use the transformed data for the X features and then fit them to a MultinomialNB model."
   ]
  },
  {
   "cell_type": "code",
   "execution_count": 14,
   "metadata": {},
   "outputs": [],
   "source": [
    "tf = TfidfVectorizer(ngram_range=(1, 5), tokenizer=token.tokenize, norm=\"l2\")\n",
    "train_text_tf = tf.fit_transform(train_data_nltk.tweets)\n",
    "valid_text_tf = tf.transform(valid_data_nltk.tweets) # do not fit, just transform\n",
    "test_text_tf = tf.transform(test_data_nltk.tweets) # do not fit, just transform\n",
    "\n",
    "X_train, X_test, y_train, y_test = train_text_tf, valid_text_tf, train_data_nltk.labels, valid_data_nltk.labels\n",
    "clf = MultinomialNB().fit(X_train, y_train)\n",
    "predicted = clf.predict(X_test)"
   ]
  },
  {
   "cell_type": "markdown",
   "metadata": {},
   "source": [
    "As seen below, this is an example of the vector obtained when we predict the word \"Hello\". Index 5 has the highest probability, so it goes to class 5."
   ]
  },
  {
   "cell_type": "code",
   "execution_count": 15,
   "metadata": {},
   "outputs": [
    {
     "data": {
      "text/plain": [
       "array([[0.05322537, 0.0426711 , 0.15423027, 0.03073576, 0.14849723,\n",
       "        0.31339174, 0.02165031, 0.03089866, 0.07021057, 0.04700061,\n",
       "        0.02948067, 0.05800773]])"
      ]
     },
     "execution_count": 15,
     "metadata": {},
     "output_type": "execute_result"
    }
   ],
   "source": [
    "clf.predict_proba(tf.transform([\"Hello\"]))"
   ]
  },
  {
   "cell_type": "code",
   "execution_count": 16,
   "metadata": {},
   "outputs": [
    {
     "data": {
      "text/plain": [
       "array([5], dtype=int64)"
      ]
     },
     "execution_count": 16,
     "metadata": {},
     "output_type": "execute_result"
    }
   ],
   "source": [
    "clf.predict(tf.transform([\"Hello\"]))"
   ]
  },
  {
   "cell_type": "markdown",
   "metadata": {},
   "source": [
    "However, for the loss function, one can use the categorical cross entropy combined with the StratifiedKFold cross validation where K = 10, just like below."
   ]
  },
  {
   "cell_type": "code",
   "execution_count": 17,
   "metadata": {},
   "outputs": [
    {
     "name": "stdout",
     "output_type": "stream",
     "text": [
      "Training Loss = -2.2509484042419627\n",
      "Training Accuracy: 0.25270351456893964\n",
      "Training F1 Score: 0.25328635837762536\n",
      "Confusion Matrix:\n"
     ]
    },
    {
     "data": {
      "image/png": "[encoded data removed]",
      "text/plain": [
       "<Figure size 432x288 with 2 Axes>"
      ]
     },
     "metadata": {
      "needs_background": "light"
     },
     "output_type": "display_data"
    }
   ],
   "source": [
    "print(\"Training Loss =\", np.mean(cross_val_score(\n",
    "    estimator=clf, X = X_train, y = y_train,\n",
    "    cv = StratifiedKFold(n_splits = 10), scoring='neg_log_loss')))\n",
    "evaluate(\"Training\", y_test, predicted)"
   ]
  },
  {
   "cell_type": "markdown",
   "metadata": {},
   "source": [
    "Or, we can just manually count the regular categorical cross-entropy function like below."
   ]
  },
  {
   "cell_type": "code",
   "execution_count": 18,
   "metadata": {},
   "outputs": [
    {
     "data": {
      "text/plain": [
       "2.2047096704447946"
      ]
     },
     "execution_count": 18,
     "metadata": {},
     "output_type": "execute_result"
    }
   ],
   "source": [
    "-np.mean(np.sum(np.array(list(map(binarize, y_test))) * clf.predict_log_proba(X_test), axis=1))"
   ]
  },
  {
   "cell_type": "code",
   "execution_count": 19,
   "metadata": {},
   "outputs": [
    {
     "name": "stdout",
     "output_type": "stream",
     "text": [
      "Test Loss = -1.7503801878581633\n",
      "Test Accuracy: 0.24313784310784461\n",
      "Test F1 Score: 0.23847250083291313\n",
      "Confusion Matrix:\n"
     ]
    },
    {
     "data": {
      "image/png": "[encoded data removed]",
      "text/plain": [
       "<Figure size 432x288 with 2 Axes>"
      ]
     },
     "metadata": {
      "needs_background": "light"
     },
     "output_type": "display_data"
    }
   ],
   "source": [
    "print(\"Test Loss =\", np.mean(cross_val_score(\n",
    "    estimator=clf, X = test_text_tf, y = clf.predict(test_text_tf),\n",
    "    cv = StratifiedKFold(n_splits = 10), scoring='neg_log_loss')))\n",
    "evaluate(\"Test\", test_data_nltk.labels, clf.predict(test_text_tf))"
   ]
  },
  {
   "cell_type": "markdown",
   "metadata": {},
   "source": [
    "Similarly, do this."
   ]
  },
  {
   "cell_type": "code",
   "execution_count": 20,
   "metadata": {},
   "outputs": [
    {
     "data": {
      "text/plain": [
       "2.2185783858982817"
      ]
     },
     "execution_count": 20,
     "metadata": {},
     "output_type": "execute_result"
    }
   ],
   "source": [
    "-np.mean(np.sum(np.array(list(map(binarize, test_data_nltk.labels))) * clf.predict_log_proba(test_text_tf), axis=1))"
   ]
  },
  {
   "cell_type": "markdown",
   "metadata": {},
   "source": [
    "## Micro Averaging"
   ]
  },
  {
   "cell_type": "markdown",
   "metadata": {},
   "source": [
    "In this case, we're going to evaluate just on the test dataset. This is done as a way to improve evaluation metrics especially on imbalanced datasets."
   ]
  },
  {
   "cell_type": "code",
   "execution_count": 21,
   "metadata": {},
   "outputs": [],
   "source": [
    "test_actual = test_data_nltk.labels\n",
    "test_predict = clf.predict(test_text_tf)"
   ]
  },
  {
   "cell_type": "code",
   "execution_count": 22,
   "metadata": {},
   "outputs": [
    {
     "name": "stdout",
     "output_type": "stream",
     "text": [
      "True Positive: 270\n",
      "True Negative: 11382\n",
      "False Positive: 841\n",
      "False Negative: 841\n",
      "\n",
      "Precision:  0.24313784310784467\n",
      "Recall:  0.24313784310784467\n",
      "F1 score:  0.24313784310784467\n"
     ]
    }
   ],
   "source": [
    "TP, FP, TN, FN = 0, 0, 0, 0\n",
    "num_emojis = 12\n",
    "\n",
    "for i in range(num_emojis):\n",
    "    test_actual_i = list(map(lambda x: int(x == i), test_actual))\n",
    "    test_predict_i = list(map(lambda x: 2*int(x == i), test_predict))\n",
    "    # TP: 3, TN: 0, FP: 2, FN: 1\n",
    "    test_check_i = [test_actual_i[k] + test_predict_i[k] for k in range(len(test_actual_i))]\n",
    "    TP += test_check_i.count(3) / num_emojis\n",
    "    TN += test_check_i.count(0) / num_emojis\n",
    "    FP += test_check_i.count(2) / num_emojis\n",
    "    FN += test_check_i.count(1) / num_emojis\n",
    "\n",
    "print(\"True Positive:\", round(TP))\n",
    "print(\"True Negative:\", round(TN))\n",
    "print(\"False Positive:\", round(FP))\n",
    "print(\"False Negative:\", round(FN))\n",
    "print()\n",
    "print(\"Precision: \", TP / (TP + FP))\n",
    "print(\"Recall: \", TP / (TP + FN))\n",
    "print(\"F1 score: \", TP / (TP + (FP + FN) / 2))"
   ]
  },
  {
   "cell_type": "markdown",
   "metadata": {},
   "source": [
    "## Saving the Model"
   ]
  },
  {
   "cell_type": "code",
   "execution_count": 23,
   "metadata": {},
   "outputs": [],
   "source": [
    "pickle.dump(tf, open(os.getcwd() + \"\\Models\\\\tfidf.pkl\", 'wb'))\n",
    "pickle.dump(clf, open(os.getcwd() + \"\\Models\\\\nltk-sklearn.pkl\", 'wb'))"
   ]
  },
  {
   "cell_type": "markdown",
   "metadata": {},
   "source": [
    "## Predict an emoji! (badly)"
   ]
  },
  {
   "cell_type": "code",
   "execution_count": 24,
   "metadata": {},
   "outputs": [
    {
     "data": {
      "text/plain": [
       "['😂', '😭', '😍', '🙄', '❤', '😊', '😩', '🤔', '😘', '🏽', '💯', '🙃']"
      ]
     },
     "execution_count": 24,
     "metadata": {},
     "output_type": "execute_result"
    }
   ],
   "source": [
    "emoji_map = pd.read_csv(os.getcwd() + \"\\Datasets\\Original\\emoji_map_1791.csv\")\n",
    "emoji_idx = [1381, 1424, 1392, 1447, 186, 1389, 1420, 1620, 1403, 763, 1138, 1446]\n",
    "emoji_list = list(map(lambda x: emoji_map.iloc[x, 0], emoji_idx))\n",
    "\n",
    "def give_me_emoji(sentence):\n",
    "    sen = lemmatize_better(sentence)\n",
    "    tfidf = pickle.load(open(os.getcwd() + \"\\Models\\\\tfidf.pkl\", 'rb'))\n",
    "    nb_model = pickle.load(open(os.getcwd() + \"\\Models\\\\nltk-sklearn.pkl\", 'rb'))\n",
    "    print(sentence, \"--->\", emoji_list[nb_model.predict(tfidf.transform([sen]))[0]])\n",
    "\n",
    "emoji_list"
   ]
  },
  {
   "cell_type": "code",
   "execution_count": 25,
   "metadata": {},
   "outputs": [
    {
     "name": "stdout",
     "output_type": "stream",
     "text": [
      "Lol this is so hard I'm laughing so hard! ---> 😂\n",
      "Why am I failing all test cases... :( ---> 🙃\n"
     ]
    }
   ],
   "source": [
    "give_me_emoji(\"Lol this is so hard I'm laughing so hard!\")\n",
    "give_me_emoji(\"Why am I failing all test cases... :(\")"
   ]
  },
  {
   "cell_type": "markdown",
   "metadata": {},
   "source": [
    "## Attempt Using Tensorflow (unused)\n",
    "Not sure why is this giving me a much lower accuracy but I guess sklearn is viable enough!"
   ]
  },
  {
   "cell_type": "code",
   "execution_count": 17,
   "metadata": {},
   "outputs": [],
   "source": [
    "# Bringing in Tensorflow to go deeper?\n",
    "np.random.seed(3244)\n",
    "import tensorflow as tf\n",
    "import torch\n",
    "from tensorflow.keras.models import Sequential\n",
    "from tensorflow.keras.layers import Dense, Dropout, Flatten, Embedding\n",
    "from tensorflow.keras.optimizers import SGD\n",
    "from tensorflow.keras.preprocessing import sequence\n",
    "from sklearn.preprocessing import Normalizer"
   ]
  },
  {
   "cell_type": "code",
   "execution_count": null,
   "metadata": {},
   "outputs": [],
   "source": [
    "%%time\n",
    "\n",
    "tfidf = TfidfVectorizer(max_features=50000, ngram_range=(1, 3), tokenizer=token.tokenize, norm=\"l2\")\n",
    "train_text_tf = tfidf.fit_transform(train_data_nltk.tweets)\n",
    "valid_text_tf = tfidf.transform(valid_data_nltk.tweets) # do not fit, just transform\n",
    "test_text_tf = tfidf.transform(test_data_nltk.tweets) # do not fit, just transform\n",
    "\n",
    "X_train, X_val, y_train, y_val = train_text_tf, valid_text_tf, train_data_nltk.labels, valid_data_nltk.labels\n",
    "\n",
    "model = Sequential()\n",
    "model.add(Dense(256, activation='relu', input_dim=50000))\n",
    "model.add(Dropout(0.2))\n",
    "#model.add(Dense(256, activation='relu'))\n",
    "#model.add(Dropout(0.2))\n",
    "#model.add(Dense(64, activation='relu'))\n",
    "#model.add(Dropout(0.2))\n",
    "model.add(Dense(1, activation='sigmoid'))\n",
    "model.compile(optimizer='adam',\n",
    "              loss='categorical_crossentropy',\n",
    "              metrics=['accuracy'])\n",
    "\n",
    "model.summary()"
   ]
  },
  {
   "cell_type": "code",
   "execution_count": null,
   "metadata": {},
   "outputs": [],
   "source": [
    "(X_train, y_train)"
   ]
  },
  {
   "cell_type": "code",
   "execution_count": 22,
   "metadata": {},
   "outputs": [],
   "source": [
    "# https://github.com/tthustla/twitter_sentiment_analysis_part9/blob/master/Capstone_part4-Copy7.ipynb\n",
    "def batch_generator(X_data, y_data, batch_size):\n",
    "    samples_per_epoch = X_data.shape[0]\n",
    "    number_of_batches = samples_per_epoch / batch_size\n",
    "    counter = 0\n",
    "    index = np.arange(np.shape(y_data)[0])\n",
    "    while 1:\n",
    "        index_batch = index[batch_size*counter:batch_size*(counter+1)]\n",
    "        X_st = tf.sparse.slice(X_data, [batch_size*counter, 0], [batch_size, X_data.shape[1]])\n",
    "        X_batch = tf.sparse.to_dense(tf.sparse.reorder(X_st)).numpy()\n",
    "        y_batch = y_data[index_batch]\n",
    "        counter += 1\n",
    "        yield X_batch, y_batch\n",
    "        if (counter > number_of_batches):\n",
    "            counter = 0"
   ]
  },
  {
   "cell_type": "code",
   "execution_count": 23,
   "metadata": {},
   "outputs": [],
   "source": [
    "# https://stackoverflow.com/questions/40896157/scipy-sparse-csr-matrix-to-tensorflow-sparsetensor-mini-batch-gradient-descent\n",
    "def convert_sparse_matrix_to_sparse_tensor(X):\n",
    "    coo = X.tocoo()\n",
    "    indices = np.mat([coo.row, coo.col]).transpose()\n",
    "    return tf.SparseTensor(indices, coo.data, coo.shape)"
   ]
  },
  {
   "cell_type": "code",
   "execution_count": 24,
   "metadata": {},
   "outputs": [],
   "source": [
    "X_train_reordered = tf.sparse.reorder(convert_sparse_matrix_to_sparse_tensor(X_train))\n",
    "X_val_reordered = tf.sparse.reorder(convert_sparse_matrix_to_sparse_tensor(X_val))"
   ]
  },
  {
   "cell_type": "code",
   "execution_count": 25,
   "metadata": {},
   "outputs": [
    {
     "data": {
      "text/plain": [
       "TensorShape([52331, 50000])"
      ]
     },
     "execution_count": 25,
     "metadata": {},
     "output_type": "execute_result"
    }
   ],
   "source": [
    "X_train_reordered.shape"
   ]
  },
  {
   "cell_type": "code",
   "execution_count": null,
   "metadata": {},
   "outputs": [],
   "source": [
    "batch_size = 32\n",
    "\n",
    "hist = model.fit_generator(\n",
    "    generator=batch_generator(X_train_reordered, np.array(y_train), batch_size),\n",
    "    epochs=10, validation_data=(X_val_reordered, np.array(y_val)),\n",
    "    steps_per_epoch=X_train_reordered.shape[0] / batch_size)\n",
    "model.save(os.getcwd() + \"\\Models\\\\nltk-keras.h5\")"
   ]
  },
  {
   "cell_type": "code",
   "execution_count": null,
   "metadata": {},
   "outputs": [],
   "source": [
    "def plot_loss_curves(history):\n",
    "    loss = history.history['loss']\n",
    "    val_loss = history.history['val_loss']\n",
    "    accuracy = history.history['accuracy']\n",
    "    val_accuracy = history.history['val_accuracy']\n",
    "    epochs = range(len(history.history['loss']))\n",
    "\n",
    "    plt.plot(epochs, loss, label = \"Training loss\")\n",
    "    plt.plot(epochs, val_loss, label = \"Validation loss\")\n",
    "    plt.title(\"Loss\")\n",
    "    plt.xlabel(\"Epochs\")\n",
    "    plt.legend()\n",
    "\n",
    "    plt.figure()\n",
    "    plt.plot(epochs, accuracy, label = \"Training accuracy\")\n",
    "    plt.plot(epochs, val_accuracy, label = \"Validation accuracy\")\n",
    "    plt.title(\"Accuracy\")\n",
    "    plt.xlabel(\"Epochs\")\n",
    "    plt.legend()"
   ]
  },
  {
   "cell_type": "code",
   "execution_count": null,
   "metadata": {},
   "outputs": [],
   "source": [
    "plot_loss_curves(hist) # weird..."
   ]
  }
 ],
 "metadata": {
  "interpreter": {
   "hash": "247ab06e135bb35fa78c5eff31b2a9a0050dcb5fb773c2631d2a29ac689eeccb"
  },
  "kernelspec": {
   "display_name": "Python 3.9.6 64-bit",
   "name": "python3"
  },
  "language_info": {
   "codemirror_mode": {
    "name": "ipython",
    "version": 3
   },
   "file_extension": ".py",
   "mimetype": "text/x-python",
   "name": "python",
   "nbconvert_exporter": "python",
   "pygments_lexer": "ipython3",
   "version": "3.9.6"
  },
  "orig_nbformat": 4
 },
 "nbformat": 4,
 "nbformat_minor": 2
}
