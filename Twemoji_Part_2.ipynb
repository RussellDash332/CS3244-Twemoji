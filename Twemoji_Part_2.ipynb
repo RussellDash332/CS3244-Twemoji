{
 "cells": [
  {
   "cell_type": "code",
   "execution_count": 1,
   "metadata": {},
   "outputs": [],
   "source": [
    "import os\n",
    "import pandas as pd\n",
    "import preprocessor as p"
   ]
  },
  {
   "cell_type": "code",
   "execution_count": 2,
   "metadata": {},
   "outputs": [
    {
     "name": "stdout",
     "output_type": "stream",
     "text": [
      "RT: Foobar 22/7 is pi yup!\n"
     ]
    },
    {
     "data": {
      "text/plain": [
       "'Foobar 22/7 is pi yup!'"
      ]
     },
     "execution_count": 2,
     "metadata": {},
     "output_type": "execute_result"
    }
   ],
   "source": [
    "# Setup preprocessor\n",
    "p.set_options(p.OPT.MENTION, p.OPT.URL, p.OPT.HASHTAG, p.OPT.EMOJI, p.OPT.SMILEY)\n",
    "print(p.clean(\"RT: @test Foobar #awesome https://www.baz.me 22/7 is pi yup!\"))\n",
    "\n",
    "def clean(word):\n",
    "    if word[:2] == \"RT\":\n",
    "        return p.clean(word[4:])\n",
    "    return p.clean(word)\n",
    "\n",
    "clean(\"RT: @test Foobar #awesome https://www.baz.me 22/7 is pi yup!\")"
   ]
  },
  {
   "cell_type": "code",
   "execution_count": 3,
   "metadata": {},
   "outputs": [],
   "source": [
    "train_data, test_data, valid_data = [], [], []\n",
    "size_table = {\"train\": [], \"test\": [], \"valid\": []}\n",
    "\n",
    "emoji_map = pd.read_csv(os.getcwd() + \"\\Datasets\\Original\\emoji_map_1791.csv\")\n",
    "emoji_idx = [1381, 1424, 1392, 1447, 186, 1389, 1420, 1620, 1403, 763, 1138, 1446]"
   ]
  },
  {
   "cell_type": "code",
   "execution_count": 4,
   "metadata": {},
   "outputs": [
    {
     "data": {
      "text/plain": [
       "['😂', '😭', '😍', '🙄', '❤', '😊', '😩', '🤔', '😘', '🏽', '💯', '🙃']"
      ]
     },
     "execution_count": 4,
     "metadata": {},
     "output_type": "execute_result"
    }
   ],
   "source": [
    "emoji_list = list(map(lambda x: emoji_map.iloc[x, 0], emoji_idx))\n",
    "emoji_list"
   ]
  },
  {
   "cell_type": "code",
   "execution_count": 5,
   "metadata": {},
   "outputs": [
    {
     "name": "stdout",
     "output_type": "stream",
     "text": [
      "🏽\n"
     ]
    }
   ],
   "source": [
    "# This particular emoji has a different behaviour.\n",
    "print(emoji_map.iloc[emoji_idx[-3], 0])"
   ]
  },
  {
   "cell_type": "code",
   "execution_count": 6,
   "metadata": {},
   "outputs": [],
   "source": [
    "for num in range(1, 13):\n",
    "    train_df = pd.read_csv(f\"https://raw.githubusercontent.com/RussellDash332/CS3244-Twemoji/main/Datasets/train_text_emoji_{num}.csv\")\n",
    "    test_df = pd.read_csv(f\"https://raw.githubusercontent.com/RussellDash332/CS3244-Twemoji/main/Datasets/test_text_emoji_{num}.csv\")\n",
    "    valid_df = pd.read_csv(f\"https://raw.githubusercontent.com/RussellDash332/CS3244-Twemoji/main/Datasets/valid_text_emoji_{num}.csv\")\n",
    "\n",
    "    def list_to_emoji(string):\n",
    "        emojis = list(map(int, string[1:-1].split(\",\")))\n",
    "        return str().join(sorted(map(lambda x: emoji_map.iloc[x, 0], emojis), key = lambda x: emoji_list.index(x)))\n",
    "\n",
    "    def emoji_to_index(emojis):\n",
    "        return tuple(sorted(map(lambda x: emoji_list.index(x), emojis)))\n",
    "\n",
    "    # Convert \"[1381, 1424]\" to \"😂😭\"\n",
    "    train_df[\"annotations\"] = train_df[\"annotations\"].apply(list_to_emoji)\n",
    "    test_df[\"annotations\"] = test_df[\"annotations\"].apply(list_to_emoji)\n",
    "    valid_df[\"annotations\"] = valid_df[\"annotations\"].apply(list_to_emoji)\n",
    "    \n",
    "    # Convert \"😂😭\" to (0, 1)\n",
    "    train_df[\"labels\"] = train_df[\"annotations\"].apply(emoji_to_index)\n",
    "    test_df[\"labels\"] = test_df[\"annotations\"].apply(emoji_to_index)\n",
    "    valid_df[\"labels\"] = valid_df[\"annotations\"].apply(emoji_to_index)\n",
    "\n",
    "    # Apply cleaning from twitter-preprocessor\n",
    "    train_df[\"tweets\"] = train_df[\"tweets\"].apply(clean)\n",
    "    test_df[\"tweets\"] = test_df[\"tweets\"].apply(clean)\n",
    "    valid_df[\"tweets\"] = valid_df[\"tweets\"].apply(clean)\n",
    "\n",
    "    train_data.append(train_df)\n",
    "    test_data.append(test_df)\n",
    "    valid_data.append(valid_df)\n",
    "\n",
    "    # print(f\"Train data size from emoji {num}:\", train_df.shape)\n",
    "    # print(f\"Test data size from emoji {num}:\", test_df.shape)\n",
    "    # print(f\"Valid data size from emoji {num}:\", valid_df.shape)\n",
    "\n",
    "    size_table[\"train\"].append(train_df.shape[0])\n",
    "    size_table[\"test\"].append(test_df.shape[0])\n",
    "    size_table[\"valid\"].append(valid_df.shape[0])"
   ]
  },
  {
   "cell_type": "code",
   "execution_count": 7,
   "metadata": {},
   "outputs": [
    {
     "data": {
      "text/html": [
       "<div>\n",
       "<style scoped>\n",
       "    .dataframe tbody tr th:only-of-type {\n",
       "        vertical-align: middle;\n",
       "    }\n",
       "\n",
       "    .dataframe tbody tr th {\n",
       "        vertical-align: top;\n",
       "    }\n",
       "\n",
       "    .dataframe thead th {\n",
       "        text-align: right;\n",
       "    }\n",
       "</style>\n",
       "<table border=\"1\" class=\"dataframe\">\n",
       "  <thead>\n",
       "    <tr style=\"text-align: right;\">\n",
       "      <th></th>\n",
       "      <th>train</th>\n",
       "      <th>test</th>\n",
       "      <th>valid</th>\n",
       "      <th>sum</th>\n",
       "    </tr>\n",
       "  </thead>\n",
       "  <tbody>\n",
       "    <tr>\n",
       "      <th>1</th>\n",
       "      <td>5000</td>\n",
       "      <td>2000</td>\n",
       "      <td>2000</td>\n",
       "      <td>9000</td>\n",
       "    </tr>\n",
       "    <tr>\n",
       "      <th>2</th>\n",
       "      <td>5000</td>\n",
       "      <td>1846</td>\n",
       "      <td>1708</td>\n",
       "      <td>8554</td>\n",
       "    </tr>\n",
       "    <tr>\n",
       "      <th>3</th>\n",
       "      <td>5000</td>\n",
       "      <td>1272</td>\n",
       "      <td>1384</td>\n",
       "      <td>7656</td>\n",
       "    </tr>\n",
       "    <tr>\n",
       "      <th>4</th>\n",
       "      <td>5000</td>\n",
       "      <td>1325</td>\n",
       "      <td>1355</td>\n",
       "      <td>7680</td>\n",
       "    </tr>\n",
       "    <tr>\n",
       "      <th>5</th>\n",
       "      <td>5000</td>\n",
       "      <td>865</td>\n",
       "      <td>683</td>\n",
       "      <td>6548</td>\n",
       "    </tr>\n",
       "    <tr>\n",
       "      <th>6</th>\n",
       "      <td>5000</td>\n",
       "      <td>824</td>\n",
       "      <td>815</td>\n",
       "      <td>6639</td>\n",
       "    </tr>\n",
       "    <tr>\n",
       "      <th>7</th>\n",
       "      <td>5000</td>\n",
       "      <td>1481</td>\n",
       "      <td>921</td>\n",
       "      <td>7402</td>\n",
       "    </tr>\n",
       "    <tr>\n",
       "      <th>8</th>\n",
       "      <td>5000</td>\n",
       "      <td>1319</td>\n",
       "      <td>2000</td>\n",
       "      <td>8319</td>\n",
       "    </tr>\n",
       "    <tr>\n",
       "      <th>9</th>\n",
       "      <td>5000</td>\n",
       "      <td>621</td>\n",
       "      <td>713</td>\n",
       "      <td>6334</td>\n",
       "    </tr>\n",
       "    <tr>\n",
       "      <th>10</th>\n",
       "      <td>5000</td>\n",
       "      <td>2000</td>\n",
       "      <td>2000</td>\n",
       "      <td>9000</td>\n",
       "    </tr>\n",
       "    <tr>\n",
       "      <th>11</th>\n",
       "      <td>5000</td>\n",
       "      <td>773</td>\n",
       "      <td>1215</td>\n",
       "      <td>6988</td>\n",
       "    </tr>\n",
       "    <tr>\n",
       "      <th>12</th>\n",
       "      <td>5000</td>\n",
       "      <td>926</td>\n",
       "      <td>600</td>\n",
       "      <td>6526</td>\n",
       "    </tr>\n",
       "  </tbody>\n",
       "</table>\n",
       "</div>"
      ],
      "text/plain": [
       "    train  test  valid   sum\n",
       "1    5000  2000   2000  9000\n",
       "2    5000  1846   1708  8554\n",
       "3    5000  1272   1384  7656\n",
       "4    5000  1325   1355  7680\n",
       "5    5000   865    683  6548\n",
       "6    5000   824    815  6639\n",
       "7    5000  1481    921  7402\n",
       "8    5000  1319   2000  8319\n",
       "9    5000   621    713  6334\n",
       "10   5000  2000   2000  9000\n",
       "11   5000   773   1215  6988\n",
       "12   5000   926    600  6526"
      ]
     },
     "execution_count": 7,
     "metadata": {},
     "output_type": "execute_result"
    }
   ],
   "source": [
    "size_table = pd.DataFrame(size_table, index=list(range(1, 13)))\n",
    "size_table[\"sum\"] = size_table.train + size_table.test + size_table.valid\n",
    "size_table\n",
    "\n",
    "# training is balanced, good to go\n",
    "# stick with this t-t-v combination\n",
    "# this was before duplicate removal"
   ]
  },
  {
   "cell_type": "code",
   "execution_count": 8,
   "metadata": {},
   "outputs": [
    {
     "data": {
      "text/plain": [
       "train    60000\n",
       "test     15252\n",
       "valid    15394\n",
       "sum      90646\n",
       "dtype: int64"
      ]
     },
     "execution_count": 8,
     "metadata": {},
     "output_type": "execute_result"
    }
   ],
   "source": [
    "size_table.apply(sum)"
   ]
  },
  {
   "cell_type": "code",
   "execution_count": 9,
   "metadata": {},
   "outputs": [
    {
     "data": {
      "text/html": [
       "<div>\n",
       "<style scoped>\n",
       "    .dataframe tbody tr th:only-of-type {\n",
       "        vertical-align: middle;\n",
       "    }\n",
       "\n",
       "    .dataframe tbody tr th {\n",
       "        vertical-align: top;\n",
       "    }\n",
       "\n",
       "    .dataframe thead th {\n",
       "        text-align: right;\n",
       "    }\n",
       "</style>\n",
       "<table border=\"1\" class=\"dataframe\">\n",
       "  <thead>\n",
       "    <tr style=\"text-align: right;\">\n",
       "      <th></th>\n",
       "      <th>id</th>\n",
       "      <th>annotations</th>\n",
       "      <th>tweets</th>\n",
       "      <th>labels</th>\n",
       "    </tr>\n",
       "  </thead>\n",
       "  <tbody>\n",
       "    <tr>\n",
       "      <th>0</th>\n",
       "      <td>743419925738496000</td>\n",
       "      <td>😂</td>\n",
       "      <td>school is so dead o my god</td>\n",
       "      <td>(0,)</td>\n",
       "    </tr>\n",
       "    <tr>\n",
       "      <th>1</th>\n",
       "      <td>742411940677492736</td>\n",
       "      <td>😂</td>\n",
       "      <td>lol I've been told mine is worse than yours bu...</td>\n",
       "      <td>(0,)</td>\n",
       "    </tr>\n",
       "    <tr>\n",
       "      <th>2</th>\n",
       "      <td>744394777974628352</td>\n",
       "      <td>😂</td>\n",
       "      <td>I'm excited to hear them..... That shit is goi...</td>\n",
       "      <td>(0,)</td>\n",
       "    </tr>\n",
       "    <tr>\n",
       "      <th>3</th>\n",
       "      <td>743679858199298049</td>\n",
       "      <td>😂</td>\n",
       "      <td>Damn alycia knows everything even indirect tweets</td>\n",
       "      <td>(0,)</td>\n",
       "    </tr>\n",
       "    <tr>\n",
       "      <th>4</th>\n",
       "      <td>742579985588887552</td>\n",
       "      <td>😂</td>\n",
       "      <td>x_juicebox: That sound like everything</td>\n",
       "      <td>(0,)</td>\n",
       "    </tr>\n",
       "    <tr>\n",
       "      <th>...</th>\n",
       "      <td>...</td>\n",
       "      <td>...</td>\n",
       "      <td>...</td>\n",
       "      <td>...</td>\n",
       "    </tr>\n",
       "    <tr>\n",
       "      <th>4995</th>\n",
       "      <td>744391978171904000</td>\n",
       "      <td>😂</td>\n",
       "      <td>Always</td>\n",
       "      <td>(0,)</td>\n",
       "    </tr>\n",
       "    <tr>\n",
       "      <th>4996</th>\n",
       "      <td>747994577357930497</td>\n",
       "      <td>😂</td>\n",
       "      <td>Had to flex on Tia people</td>\n",
       "      <td>(0,)</td>\n",
       "    </tr>\n",
       "    <tr>\n",
       "      <th>4997</th>\n",
       "      <td>746430898464161792</td>\n",
       "      <td>😂</td>\n",
       "      <td>DJ Esco is really the coolest DJ</td>\n",
       "      <td>(0,)</td>\n",
       "    </tr>\n",
       "    <tr>\n",
       "      <th>4998</th>\n",
       "      <td>742758236986576897</td>\n",
       "      <td>😂</td>\n",
       "      <td>we be so jobless</td>\n",
       "      <td>(0,)</td>\n",
       "    </tr>\n",
       "    <tr>\n",
       "      <th>4999</th>\n",
       "      <td>744574211226767360</td>\n",
       "      <td>😂</td>\n",
       "      <td>Stfu if they played both roles then they deser...</td>\n",
       "      <td>(0,)</td>\n",
       "    </tr>\n",
       "  </tbody>\n",
       "</table>\n",
       "<p>5000 rows × 4 columns</p>\n",
       "</div>"
      ],
      "text/plain": [
       "                      id annotations  \\\n",
       "0     743419925738496000           😂   \n",
       "1     742411940677492736           😂   \n",
       "2     744394777974628352           😂   \n",
       "3     743679858199298049           😂   \n",
       "4     742579985588887552           😂   \n",
       "...                  ...         ...   \n",
       "4995  744391978171904000           😂   \n",
       "4996  747994577357930497           😂   \n",
       "4997  746430898464161792           😂   \n",
       "4998  742758236986576897           😂   \n",
       "4999  744574211226767360           😂   \n",
       "\n",
       "                                                 tweets labels  \n",
       "0                            school is so dead o my god   (0,)  \n",
       "1     lol I've been told mine is worse than yours bu...   (0,)  \n",
       "2     I'm excited to hear them..... That shit is goi...   (0,)  \n",
       "3     Damn alycia knows everything even indirect tweets   (0,)  \n",
       "4                x_juicebox: That sound like everything   (0,)  \n",
       "...                                                 ...    ...  \n",
       "4995                                             Always   (0,)  \n",
       "4996                          Had to flex on Tia people   (0,)  \n",
       "4997                   DJ Esco is really the coolest DJ   (0,)  \n",
       "4998                                   we be so jobless   (0,)  \n",
       "4999  Stfu if they played both roles then they deser...   (0,)  \n",
       "\n",
       "[5000 rows x 4 columns]"
      ]
     },
     "execution_count": 9,
     "metadata": {},
     "output_type": "execute_result"
    }
   ],
   "source": [
    "train_data[0]"
   ]
  },
  {
   "cell_type": "code",
   "execution_count": 10,
   "metadata": {},
   "outputs": [
    {
     "name": "stdout",
     "output_type": "stream",
     "text": [
      "Before duplicate removal:  (60000, 4) (15252, 4) (15394, 4)\n",
      "After duplicate removal:  (59907, 4) (15185, 4) (15333, 4)\n"
     ]
    }
   ],
   "source": [
    "train_data = pd.concat(train_data)\n",
    "test_data = pd.concat(test_data)\n",
    "valid_data = pd.concat(valid_data)\n",
    "\n",
    "print(\"Before duplicate removal: \", train_data.shape, test_data.shape, valid_data.shape)\n",
    "\n",
    "train_data = train_data[~train_data.duplicated()]\n",
    "test_data = test_data[~test_data.duplicated()]\n",
    "valid_data = valid_data[~valid_data.duplicated()]\n",
    "\n",
    "print(\"After duplicate removal: \", train_data.shape, test_data.shape, valid_data.shape)"
   ]
  },
  {
   "cell_type": "code",
   "execution_count": 11,
   "metadata": {},
   "outputs": [],
   "source": [
    "train_data = train_data.drop(\"id\", axis=1)\n",
    "test_data = valid_data.drop(\"id\", axis=1)\n",
    "valid_data = valid_data.drop(\"id\", axis=1)"
   ]
  },
  {
   "cell_type": "code",
   "execution_count": 12,
   "metadata": {},
   "outputs": [
    {
     "data": {
      "text/html": [
       "<div>\n",
       "<style scoped>\n",
       "    .dataframe tbody tr th:only-of-type {\n",
       "        vertical-align: middle;\n",
       "    }\n",
       "\n",
       "    .dataframe tbody tr th {\n",
       "        vertical-align: top;\n",
       "    }\n",
       "\n",
       "    .dataframe thead th {\n",
       "        text-align: right;\n",
       "    }\n",
       "</style>\n",
       "<table border=\"1\" class=\"dataframe\">\n",
       "  <thead>\n",
       "    <tr style=\"text-align: right;\">\n",
       "      <th></th>\n",
       "      <th>annotations</th>\n",
       "      <th>tweets</th>\n",
       "      <th>labels</th>\n",
       "    </tr>\n",
       "  </thead>\n",
       "  <tbody>\n",
       "    <tr>\n",
       "      <th>2650</th>\n",
       "      <td>😍❤</td>\n",
       "      <td>When The ticket sale start i hope i Can get To...</td>\n",
       "      <td>(2, 4)</td>\n",
       "    </tr>\n",
       "    <tr>\n",
       "      <th>3241</th>\n",
       "      <td>🙃</td>\n",
       "      <td>\"Friends can break your heart too\" if that ain...</td>\n",
       "      <td>(11,)</td>\n",
       "    </tr>\n",
       "    <tr>\n",
       "      <th>4264</th>\n",
       "      <td>😍</td>\n",
       "      <td>I'm so grateful for my girl</td>\n",
       "      <td>(2,)</td>\n",
       "    </tr>\n",
       "    <tr>\n",
       "      <th>2000</th>\n",
       "      <td>💯</td>\n",
       "      <td>I deserve better and ins get it.. This shit ai...</td>\n",
       "      <td>(10,)</td>\n",
       "    </tr>\n",
       "    <tr>\n",
       "      <th>1659</th>\n",
       "      <td>😂🏽</td>\n",
       "      <td>juahoe: im sorry \"wtf u mean you dont do blow?...</td>\n",
       "      <td>(0, 9)</td>\n",
       "    </tr>\n",
       "    <tr>\n",
       "      <th>2938</th>\n",
       "      <td>🤔</td>\n",
       "      <td>well today</td>\n",
       "      <td>(7,)</td>\n",
       "    </tr>\n",
       "    <tr>\n",
       "      <th>2012</th>\n",
       "      <td>💯</td>\n",
       "      <td>DJ837: Proud of the DMV music scene right now ...</td>\n",
       "      <td>(10,)</td>\n",
       "    </tr>\n",
       "    <tr>\n",
       "      <th>305</th>\n",
       "      <td>🙄</td>\n",
       "      <td>I think everyone knows that periods and period...</td>\n",
       "      <td>(3,)</td>\n",
       "    </tr>\n",
       "    <tr>\n",
       "      <th>317</th>\n",
       "      <td>😘</td>\n",
       "      <td>Happy Birthday kiddo</td>\n",
       "      <td>(8,)</td>\n",
       "    </tr>\n",
       "    <tr>\n",
       "      <th>3834</th>\n",
       "      <td>😘</td>\n",
       "      <td>thank you!!! Love you too</td>\n",
       "      <td>(8,)</td>\n",
       "    </tr>\n",
       "  </tbody>\n",
       "</table>\n",
       "</div>"
      ],
      "text/plain": [
       "     annotations                                             tweets  labels\n",
       "2650          😍❤  When The ticket sale start i hope i Can get To...  (2, 4)\n",
       "3241           🙃  \"Friends can break your heart too\" if that ain...   (11,)\n",
       "4264           😍                        I'm so grateful for my girl    (2,)\n",
       "2000           💯  I deserve better and ins get it.. This shit ai...   (10,)\n",
       "1659          😂🏽  juahoe: im sorry \"wtf u mean you dont do blow?...  (0, 9)\n",
       "2938           🤔                                         well today    (7,)\n",
       "2012           💯  DJ837: Proud of the DMV music scene right now ...   (10,)\n",
       "305            🙄  I think everyone knows that periods and period...    (3,)\n",
       "317            😘                               Happy Birthday kiddo    (8,)\n",
       "3834           😘                          thank you!!! Love you too    (8,)"
      ]
     },
     "execution_count": 12,
     "metadata": {},
     "output_type": "execute_result"
    }
   ],
   "source": [
    "train_data.sample(n=10, random_state=1010)"
   ]
  },
  {
   "cell_type": "code",
   "execution_count": 13,
   "metadata": {},
   "outputs": [],
   "source": [
    "train_data.to_csv(os.getcwd() + \"\\Datasets\\\\train_text_emoji_clean.csv\", index=False)\n",
    "test_data.to_csv(os.getcwd() + \"\\Datasets\\\\test_text_emoji_clean.csv\", index=False)\n",
    "valid_data.to_csv(os.getcwd() + \"\\Datasets\\\\valid_text_emoji_clean.csv\", index=False)"
   ]
  },
  {
   "cell_type": "markdown",
   "metadata": {},
   "source": [
    "- XLNet -> sentiment analysis / Text Classification (https://www.topbots.com/leading-nlp-language-models-2020/#language-models-2020-3)\n",
    "- OpenAI’s GPT2 -> supervised learning on task-specific datasets (https://insights.daffodilsw.com/blog/top-5-nlp-language-models)\n",
    "- Embedding Layers (https://machinelearningmastery.com/what-are-word-embeddings/)\n",
    "- Word2Vec (https://machinelearningmastery.com/what-are-word-embeddings/)\\\n",
    "- GloVe (https://machinelearningmastery.com/what-are-word-embeddings/)\n",
    "- Parsing (https://www.analyticsvidhya.com/blog/2020/12/understanding-text-classification-in-nlp-with-movie-review-example-example/#h2_6)\n",
    "- Semantic (https://www.analyticsvidhya.com/blog/2020/12/understanding-text-classification-in-nlp-with-movie-review-example-example/#h2_7)"
   ]
  }
 ],
 "metadata": {
  "interpreter": {
   "hash": "247ab06e135bb35fa78c5eff31b2a9a0050dcb5fb773c2631d2a29ac689eeccb"
  },
  "kernelspec": {
   "display_name": "Python 3.9.6 64-bit",
   "name": "python3"
  },
  "language_info": {
   "codemirror_mode": {
    "name": "ipython",
    "version": 3
   },
   "file_extension": ".py",
   "mimetype": "text/x-python",
   "name": "python",
   "nbconvert_exporter": "python",
   "pygments_lexer": "ipython3",
   "version": "3.9.6"
  },
  "orig_nbformat": 4
 },
 "nbformat": 4,
 "nbformat_minor": 2
}
