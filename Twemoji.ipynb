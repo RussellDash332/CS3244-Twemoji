{
  "nbformat": 4,
  "nbformat_minor": 0,
  "metadata": {
    "colab": {
      "name": "CS3244 Twemoji.ipynb",
      "provenance": [],
      "collapsed_sections": [
        "BLWqY7vn4f1T"
      ]
    },
    "kernelspec": {
      "name": "python3",
      "display_name": "Python 3"
    },
    "language_info": {
      "name": "python"
    }
  },
  "cells": [
    {
      "cell_type": "code",
      "metadata": {
        "id": "rxEtp44DO1_K"
      },
      "source": [
        "import pandas as pd"
      ],
      "execution_count": null,
      "outputs": []
    },
    {
      "cell_type": "code",
      "metadata": {
        "id": "pI2xk9HBPFJc"
      },
      "source": [
        "test_full = pd.read_csv('full_test_plaintext.txt', sep = '\\t')\n",
        "train_full = pd.read_csv('full_train_plaintext.txt', sep = '\\t')\n",
        "valid_full = pd.read_csv('full_valid_plaintext.txt', sep = '\\t')\n",
        "\n",
        "test_img = pd.read_csv('img_test_plaintext.txt', sep = '\\t')\n",
        "train_img = pd.read_csv('img_train_plaintext.txt', sep = '\\t')\n",
        "valid_img = pd.read_csv('img_valid_plaintext.txt', sep = '\\t')\n",
        "\n",
        "test_balanced = pd.read_csv('balanced_test_plaintext.txt', sep = '\\t')\n",
        "\n",
        "emoji_map = pd.read_csv('emoji_map_1791.csv')"
      ],
      "execution_count": null,
      "outputs": []
    },
    {
      "cell_type": "markdown",
      "metadata": {
        "id": "rUvDrssJXf0b"
      },
      "source": [
        "#Pre-Checking"
      ]
    },
    {
      "cell_type": "markdown",
      "metadata": {
        "id": "-HfK1gngoWE2"
      },
      "source": [
        "**Key Points:**\n",
        "\n",
        "1. Tweets that contain a retweet ends with _q (train, test, valid_img do not contain _q)\n",
        "\n",
        "2. For tweets that contain a retweet with pic, that tweet ID is not included in img.txt, but the text in the retweet is considered. (See codes below)\n",
        "e.g. id 742700829703057408_q is in full_test but not img_test\n",
        "\n",
        "3. Idk for this case, 742886817339432962_q.. annotations: 1 emoji that belongs to the retweet. However, we have two other emojis in the tweet itself. 747532397315395584_q, 743594076503683072_q, 747522541464453120_q, 744959564504793088_q too\n",
        "\n",
        "4. 747159552718680064_q have 4 emojis in main tweet but only 1 annotation..\n",
        "Conclusion: I think they only see the retweet not the main tweet if that tweet contains a retweet\n",
        "\n",
        "5. 753324941404147712 2 annotations: flower and heart -> heart from the pic??, but 742960387843338241 doesnt take into account the emoji in the pic\n",
        "\n",
        "6. 746283452740206592 weird annotations. In full_train_plaintext only hv 5 annotations, img_test 4 annotations, img_train -> a lot\n",
        "\n",
        "It's a reply to a main tweet and all the replies in that thread are considered.\n",
        "Try this \"emoji_map.loc[[768, 775, 520, 776, 525, 784, 785, 787, 1556, 791, 537, 1562, 539, 540, 796, 1310, 798, 544, 806, 554, 557, 1582, 815, 818, 1330, 566, 567, 56, 569, 58, 57, 824, 1598, 577, 1604, 585, 1354, 593, 1361, 1362, 1365, 1367, 600, 1119, 1125, 1126, 615, 103, 1389, 1134, 1144, 1406, 130, 642, 648, 649, 1162, 651, 652, 1167, 143, 1169, 913, 916, 662, 663, 664, 919, 920, 1180, 1437, 670, 926, 930, 681, 684, 174, 1200, 1201, 177, 1210, 1217, 200, 721, 1255, 1263, 754, 757, 509, 510], 'ucode']\"\n",
        "\n",
        "Maybe the API will answer every doubt we have :)"
      ]
    },
    {
      "cell_type": "code",
      "metadata": {
        "id": "d9hE295pWgGG",
        "colab": {
          "base_uri": "https://localhost:8080/",
          "height": 241
        },
        "outputId": "de17b446-ac35-4d64-8c39-1ba8771dc881"
      },
      "source": [
        "print(\"total rows: \" + str(len(test_full)))\n",
        "print(\"total tweets that contain a retweet: \" + str(len(test_full[(test_full['id'].str[-2:] == \"_q\")])))\n",
        "test_full.head()"
      ],
      "execution_count": null,
      "outputs": [
        {
          "output_type": "stream",
          "name": "stdout",
          "text": [
            "total rows: 1000000\n",
            "total tweets that contain a retweet: 53482\n"
          ]
        },
        {
          "output_type": "execute_result",
          "data": {
            "text/html": [
              "<div>\n",
              "<style scoped>\n",
              "    .dataframe tbody tr th:only-of-type {\n",
              "        vertical-align: middle;\n",
              "    }\n",
              "\n",
              "    .dataframe tbody tr th {\n",
              "        vertical-align: top;\n",
              "    }\n",
              "\n",
              "    .dataframe thead th {\n",
              "        text-align: right;\n",
              "    }\n",
              "</style>\n",
              "<table border=\"1\" class=\"dataframe\">\n",
              "  <thead>\n",
              "    <tr style=\"text-align: right;\">\n",
              "      <th></th>\n",
              "      <th>id</th>\n",
              "      <th>annotations</th>\n",
              "    </tr>\n",
              "  </thead>\n",
              "  <tbody>\n",
              "    <tr>\n",
              "      <th>0</th>\n",
              "      <td>747643690521341953</td>\n",
              "      <td>1138</td>\n",
              "    </tr>\n",
              "    <tr>\n",
              "      <th>1</th>\n",
              "      <td>746196870121164800</td>\n",
              "      <td>1056</td>\n",
              "    </tr>\n",
              "    <tr>\n",
              "      <th>2</th>\n",
              "      <td>744595559470800896</td>\n",
              "      <td>1381</td>\n",
              "    </tr>\n",
              "    <tr>\n",
              "      <th>3</th>\n",
              "      <td>747720844730859520</td>\n",
              "      <td>889,1128</td>\n",
              "    </tr>\n",
              "    <tr>\n",
              "      <th>4</th>\n",
              "      <td>743285629576843264</td>\n",
              "      <td>1424</td>\n",
              "    </tr>\n",
              "  </tbody>\n",
              "</table>\n",
              "</div>"
            ],
            "text/plain": [
              "                   id annotations\n",
              "0  747643690521341953        1138\n",
              "1  746196870121164800        1056\n",
              "2  744595559470800896        1381\n",
              "3  747720844730859520    889,1128\n",
              "4  743285629576843264        1424"
            ]
          },
          "metadata": {},
          "execution_count": 3
        }
      ]
    },
    {
      "cell_type": "code",
      "metadata": {
        "id": "_YGe6FanW-VM",
        "colab": {
          "base_uri": "https://localhost:8080/",
          "height": 241
        },
        "outputId": "5d31c22d-406d-4fc0-f3f1-6c1efa659af9"
      },
      "source": [
        "print(\"total rows: \" + str(len(train_full)))\n",
        "print(\"total tweets that contain a retweet: \" + str(len(train_full[(train_full['id'].str[-2:] == \"_q\")])))\n",
        "train_full.head()"
      ],
      "execution_count": null,
      "outputs": [
        {
          "output_type": "stream",
          "name": "stdout",
          "text": [
            "total rows: 12997219\n",
            "total tweets that contain a retweet: 690524\n"
          ]
        },
        {
          "output_type": "execute_result",
          "data": {
            "text/html": [
              "<div>\n",
              "<style scoped>\n",
              "    .dataframe tbody tr th:only-of-type {\n",
              "        vertical-align: middle;\n",
              "    }\n",
              "\n",
              "    .dataframe tbody tr th {\n",
              "        vertical-align: top;\n",
              "    }\n",
              "\n",
              "    .dataframe thead th {\n",
              "        text-align: right;\n",
              "    }\n",
              "</style>\n",
              "<table border=\"1\" class=\"dataframe\">\n",
              "  <thead>\n",
              "    <tr style=\"text-align: right;\">\n",
              "      <th></th>\n",
              "      <th>id</th>\n",
              "      <th>annotations</th>\n",
              "    </tr>\n",
              "  </thead>\n",
              "  <tbody>\n",
              "    <tr>\n",
              "      <th>0</th>\n",
              "      <td>744014442837454848</td>\n",
              "      <td>47,883</td>\n",
              "    </tr>\n",
              "    <tr>\n",
              "      <th>1</th>\n",
              "      <td>742407819496919041</td>\n",
              "      <td>1381</td>\n",
              "    </tr>\n",
              "    <tr>\n",
              "      <th>2</th>\n",
              "      <td>744101567981359105</td>\n",
              "      <td>1421</td>\n",
              "    </tr>\n",
              "    <tr>\n",
              "      <th>3</th>\n",
              "      <td>744692442033577984</td>\n",
              "      <td>1056</td>\n",
              "    </tr>\n",
              "    <tr>\n",
              "      <th>4</th>\n",
              "      <td>746426733834944512</td>\n",
              "      <td>1056,1381</td>\n",
              "    </tr>\n",
              "  </tbody>\n",
              "</table>\n",
              "</div>"
            ],
            "text/plain": [
              "                   id annotations\n",
              "0  744014442837454848      47,883\n",
              "1  742407819496919041        1381\n",
              "2  744101567981359105        1421\n",
              "3  744692442033577984        1056\n",
              "4  746426733834944512   1056,1381"
            ]
          },
          "metadata": {},
          "execution_count": 4
        }
      ]
    },
    {
      "cell_type": "code",
      "metadata": {
        "id": "R_hTio4MW_9k",
        "colab": {
          "base_uri": "https://localhost:8080/",
          "height": 241
        },
        "outputId": "a1a5b60b-91db-414c-eb19-19e9cd0dee8f"
      },
      "source": [
        "print(\"total rows: \" + str(len(valid_full)))\n",
        "print(\"total tweets that contain a retweet: \" + str(len(valid_full[(valid_full['id'].str[-2:] == \"_q\")])))\n",
        "valid_full.head()"
      ],
      "execution_count": null,
      "outputs": [
        {
          "output_type": "stream",
          "name": "stdout",
          "text": [
            "total rows: 1000000\n",
            "total tweets that contain a retweet: 53332\n"
          ]
        },
        {
          "output_type": "execute_result",
          "data": {
            "text/html": [
              "<div>\n",
              "<style scoped>\n",
              "    .dataframe tbody tr th:only-of-type {\n",
              "        vertical-align: middle;\n",
              "    }\n",
              "\n",
              "    .dataframe tbody tr th {\n",
              "        vertical-align: top;\n",
              "    }\n",
              "\n",
              "    .dataframe thead th {\n",
              "        text-align: right;\n",
              "    }\n",
              "</style>\n",
              "<table border=\"1\" class=\"dataframe\">\n",
              "  <thead>\n",
              "    <tr style=\"text-align: right;\">\n",
              "      <th></th>\n",
              "      <th>id</th>\n",
              "      <th>annotations</th>\n",
              "    </tr>\n",
              "  </thead>\n",
              "  <tbody>\n",
              "    <tr>\n",
              "      <th>0</th>\n",
              "      <td>746634523048292352</td>\n",
              "      <td>1103,1389,1399</td>\n",
              "    </tr>\n",
              "    <tr>\n",
              "      <th>1</th>\n",
              "      <td>741650544847147009</td>\n",
              "      <td>1381</td>\n",
              "    </tr>\n",
              "    <tr>\n",
              "      <th>2</th>\n",
              "      <td>746803092239196162</td>\n",
              "      <td>1424</td>\n",
              "    </tr>\n",
              "    <tr>\n",
              "      <th>3</th>\n",
              "      <td>746625375875170304</td>\n",
              "      <td>1107</td>\n",
              "    </tr>\n",
              "    <tr>\n",
              "      <th>4</th>\n",
              "      <td>744724790485757952</td>\n",
              "      <td>1620</td>\n",
              "    </tr>\n",
              "  </tbody>\n",
              "</table>\n",
              "</div>"
            ],
            "text/plain": [
              "                   id     annotations\n",
              "0  746634523048292352  1103,1389,1399\n",
              "1  741650544847147009            1381\n",
              "2  746803092239196162            1424\n",
              "3  746625375875170304            1107\n",
              "4  744724790485757952            1620"
            ]
          },
          "metadata": {},
          "execution_count": 5
        }
      ]
    },
    {
      "cell_type": "code",
      "metadata": {
        "id": "QE1mfSmgXETj",
        "colab": {
          "base_uri": "https://localhost:8080/",
          "height": 241
        },
        "outputId": "27592065-dba9-4a42-e551-9561bf3af218"
      },
      "source": [
        "test_img = test_img.astype({'id': str})\n",
        "print(\"total rows: \" + str(len(test_img)))\n",
        "print(\"total tweets that contain a retweet: \" + str(len(test_img[(test_img['id'].str[-2:] == \"_q\")])))\n",
        "test_img.head()"
      ],
      "execution_count": null,
      "outputs": [
        {
          "output_type": "stream",
          "name": "stdout",
          "text": [
            "total rows: 79191\n",
            "total tweets that contain a retweet: 0\n"
          ]
        },
        {
          "output_type": "execute_result",
          "data": {
            "text/html": [
              "<div>\n",
              "<style scoped>\n",
              "    .dataframe tbody tr th:only-of-type {\n",
              "        vertical-align: middle;\n",
              "    }\n",
              "\n",
              "    .dataframe tbody tr th {\n",
              "        vertical-align: top;\n",
              "    }\n",
              "\n",
              "    .dataframe thead th {\n",
              "        text-align: right;\n",
              "    }\n",
              "</style>\n",
              "<table border=\"1\" class=\"dataframe\">\n",
              "  <thead>\n",
              "    <tr style=\"text-align: right;\">\n",
              "      <th></th>\n",
              "      <th>id</th>\n",
              "      <th>imgid</th>\n",
              "      <th>annotations</th>\n",
              "    </tr>\n",
              "  </thead>\n",
              "  <tbody>\n",
              "    <tr>\n",
              "      <th>0</th>\n",
              "      <td>748230468458418177</td>\n",
              "      <td>http://pbs.twimg.com/media/CmI_nUeWkAAoDLm.jpg</td>\n",
              "      <td>1382</td>\n",
              "    </tr>\n",
              "    <tr>\n",
              "      <th>1</th>\n",
              "      <td>747854910612398081</td>\n",
              "      <td>http://pbs.twimg.com/media/CmDqE7qUkAA4oZH.jpg</td>\n",
              "      <td>174,1108</td>\n",
              "    </tr>\n",
              "    <tr>\n",
              "      <th>2</th>\n",
              "      <td>742432606709485568</td>\n",
              "      <td>http://pbs.twimg.com/media/Ci6Hi8xVEAAUkST.jpg</td>\n",
              "      <td>186</td>\n",
              "    </tr>\n",
              "    <tr>\n",
              "      <th>3</th>\n",
              "      <td>742257533616816128</td>\n",
              "      <td>http://pbs.twimg.com/media/Ckxuh4SXIAEQZQX.jpg</td>\n",
              "      <td>78</td>\n",
              "    </tr>\n",
              "    <tr>\n",
              "      <th>4</th>\n",
              "      <td>747312758127890432</td>\n",
              "      <td>http://pbs.twimg.com/media/Cl78_KTUsAAj-wC.jpg</td>\n",
              "      <td>156,601,1109</td>\n",
              "    </tr>\n",
              "  </tbody>\n",
              "</table>\n",
              "</div>"
            ],
            "text/plain": [
              "                   id  ...   annotations\n",
              "0  748230468458418177  ...          1382\n",
              "1  747854910612398081  ...      174,1108\n",
              "2  742432606709485568  ...           186\n",
              "3  742257533616816128  ...            78\n",
              "4  747312758127890432  ...  156,601,1109\n",
              "\n",
              "[5 rows x 3 columns]"
            ]
          },
          "metadata": {},
          "execution_count": 6
        }
      ]
    },
    {
      "cell_type": "code",
      "metadata": {
        "id": "u38bggoWXIUb",
        "colab": {
          "base_uri": "https://localhost:8080/",
          "height": 241
        },
        "outputId": "551315ae-7c46-4140-c34e-d0d9f1573dd9"
      },
      "source": [
        "train_img = train_img.astype({'id': str})\n",
        "print(\"total rows: \" + str(len(train_img)))\n",
        "print(\"total tweets that contain a retweet: \" + str(len(train_img[(train_img['id'].str[-2:] == \"_q\")])))\n",
        "train_img.head()"
      ],
      "execution_count": null,
      "outputs": [
        {
          "output_type": "stream",
          "name": "stdout",
          "text": [
            "total rows: 916864\n",
            "total tweets that contain a retweet: 0\n"
          ]
        },
        {
          "output_type": "execute_result",
          "data": {
            "text/html": [
              "<div>\n",
              "<style scoped>\n",
              "    .dataframe tbody tr th:only-of-type {\n",
              "        vertical-align: middle;\n",
              "    }\n",
              "\n",
              "    .dataframe tbody tr th {\n",
              "        vertical-align: top;\n",
              "    }\n",
              "\n",
              "    .dataframe thead th {\n",
              "        text-align: right;\n",
              "    }\n",
              "</style>\n",
              "<table border=\"1\" class=\"dataframe\">\n",
              "  <thead>\n",
              "    <tr style=\"text-align: right;\">\n",
              "      <th></th>\n",
              "      <th>id</th>\n",
              "      <th>imgid</th>\n",
              "      <th>annotations</th>\n",
              "    </tr>\n",
              "  </thead>\n",
              "  <tbody>\n",
              "    <tr>\n",
              "      <th>0</th>\n",
              "      <td>744014442837454848</td>\n",
              "      <td>http://pbs.twimg.com/media/ClNFMNSWgAI7qq0.jpg</td>\n",
              "      <td>47,883</td>\n",
              "    </tr>\n",
              "    <tr>\n",
              "      <th>1</th>\n",
              "      <td>742240402288345088</td>\n",
              "      <td>http://pbs.twimg.com/media/CkzuE33WsAA2cUB.jpg</td>\n",
              "      <td>229</td>\n",
              "    </tr>\n",
              "    <tr>\n",
              "      <th>2</th>\n",
              "      <td>742427564535353349</td>\n",
              "      <td>http://pbs.twimg.com/media/Ck2h7lzXIAA0Aqw.jpg</td>\n",
              "      <td>658</td>\n",
              "    </tr>\n",
              "    <tr>\n",
              "      <th>3</th>\n",
              "      <td>747888709375229952</td>\n",
              "      <td>http://pbs.twimg.com/media/CmEIe-_VYAADvg0.jpg</td>\n",
              "      <td>1108,1108</td>\n",
              "    </tr>\n",
              "    <tr>\n",
              "      <th>4</th>\n",
              "      <td>747199027649871872</td>\n",
              "      <td>http://pbs.twimg.com/media/Cl6UJF1XIAADDAJ.jpg</td>\n",
              "      <td>1466</td>\n",
              "    </tr>\n",
              "  </tbody>\n",
              "</table>\n",
              "</div>"
            ],
            "text/plain": [
              "                   id  ... annotations\n",
              "0  744014442837454848  ...      47,883\n",
              "1  742240402288345088  ...         229\n",
              "2  742427564535353349  ...         658\n",
              "3  747888709375229952  ...   1108,1108\n",
              "4  747199027649871872  ...        1466\n",
              "\n",
              "[5 rows x 3 columns]"
            ]
          },
          "metadata": {},
          "execution_count": 7
        }
      ]
    },
    {
      "cell_type": "code",
      "metadata": {
        "id": "OMhlGRGlXKqs",
        "colab": {
          "base_uri": "https://localhost:8080/",
          "height": 241
        },
        "outputId": "0cc5a9ac-1c71-47d4-c58b-94cca6579362"
      },
      "source": [
        "valid_img = valid_img.astype({'id': str})\n",
        "print(\"total rows: \" + str(len(valid_img)))\n",
        "print(\"total tweets that contain a retweet: \" + str(len(valid_img[(valid_img['id'].str[-2:] == \"_q\")])))\n",
        "valid_img.head()"
      ],
      "execution_count": null,
      "outputs": [
        {
          "output_type": "stream",
          "name": "stdout",
          "text": [
            "total rows: 79419\n",
            "total tweets that contain a retweet: 0\n"
          ]
        },
        {
          "output_type": "execute_result",
          "data": {
            "text/html": [
              "<div>\n",
              "<style scoped>\n",
              "    .dataframe tbody tr th:only-of-type {\n",
              "        vertical-align: middle;\n",
              "    }\n",
              "\n",
              "    .dataframe tbody tr th {\n",
              "        vertical-align: top;\n",
              "    }\n",
              "\n",
              "    .dataframe thead th {\n",
              "        text-align: right;\n",
              "    }\n",
              "</style>\n",
              "<table border=\"1\" class=\"dataframe\">\n",
              "  <thead>\n",
              "    <tr style=\"text-align: right;\">\n",
              "      <th></th>\n",
              "      <th>id</th>\n",
              "      <th>imgid</th>\n",
              "      <th>annotations</th>\n",
              "    </tr>\n",
              "  </thead>\n",
              "  <tbody>\n",
              "    <tr>\n",
              "      <th>0</th>\n",
              "      <td>746473363992784897</td>\n",
              "      <td>http://pbs.twimg.com/media/Clv7F6mVAAIw28L.jpg</td>\n",
              "      <td>1105</td>\n",
              "    </tr>\n",
              "    <tr>\n",
              "      <th>1</th>\n",
              "      <td>747463019911843840</td>\n",
              "      <td>http://pbs.twimg.com/media/Cl9sTJQWYAEm4q9.jpg</td>\n",
              "      <td>186,503,1111,1112,1113,1114</td>\n",
              "    </tr>\n",
              "    <tr>\n",
              "      <th>2</th>\n",
              "      <td>742355654052978689</td>\n",
              "      <td>http://pbs.twimg.com/media/Ck1ggjFUoAE58nB.jpg</td>\n",
              "      <td>186,635</td>\n",
              "    </tr>\n",
              "    <tr>\n",
              "      <th>3</th>\n",
              "      <td>748291920175173632</td>\n",
              "      <td>http://pbs.twimg.com/media/Cl7U_BbUsAEasQD.jpg</td>\n",
              "      <td>78</td>\n",
              "    </tr>\n",
              "    <tr>\n",
              "      <th>4</th>\n",
              "      <td>746296637509668866</td>\n",
              "      <td>http://pbs.twimg.com/media/Clrhp96UYAAQOmv.jpg</td>\n",
              "      <td>186,426</td>\n",
              "    </tr>\n",
              "  </tbody>\n",
              "</table>\n",
              "</div>"
            ],
            "text/plain": [
              "                   id  ...                  annotations\n",
              "0  746473363992784897  ...                         1105\n",
              "1  747463019911843840  ...  186,503,1111,1112,1113,1114\n",
              "2  742355654052978689  ...                      186,635\n",
              "3  748291920175173632  ...                           78\n",
              "4  746296637509668866  ...                      186,426\n",
              "\n",
              "[5 rows x 3 columns]"
            ]
          },
          "metadata": {},
          "execution_count": 8
        }
      ]
    },
    {
      "cell_type": "code",
      "metadata": {
        "id": "QaDPhmypXM07",
        "colab": {
          "base_uri": "https://localhost:8080/",
          "height": 241
        },
        "outputId": "d155cac3-8259-46be-cd50-6fd8bd46fa6b"
      },
      "source": [
        "print(\"total rows: \" + str(len(test_balanced)))\n",
        "print(\"total tweets that contain a retweet: \" + str(len(test_balanced[(test_balanced['id'].str[-2:] == \"_q\")])))\n",
        "test_balanced.head()"
      ],
      "execution_count": null,
      "outputs": [
        {
          "output_type": "stream",
          "name": "stdout",
          "text": [
            "total rows: 9528\n",
            "total tweets that contain a retweet: 659\n"
          ]
        },
        {
          "output_type": "execute_result",
          "data": {
            "text/html": [
              "<div>\n",
              "<style scoped>\n",
              "    .dataframe tbody tr th:only-of-type {\n",
              "        vertical-align: middle;\n",
              "    }\n",
              "\n",
              "    .dataframe tbody tr th {\n",
              "        vertical-align: top;\n",
              "    }\n",
              "\n",
              "    .dataframe thead th {\n",
              "        text-align: right;\n",
              "    }\n",
              "</style>\n",
              "<table border=\"1\" class=\"dataframe\">\n",
              "  <thead>\n",
              "    <tr style=\"text-align: right;\">\n",
              "      <th></th>\n",
              "      <th>id</th>\n",
              "      <th>annotations</th>\n",
              "    </tr>\n",
              "  </thead>\n",
              "  <tbody>\n",
              "    <tr>\n",
              "      <th>0</th>\n",
              "      <td>742207272537886721</td>\n",
              "      <td>575</td>\n",
              "    </tr>\n",
              "    <tr>\n",
              "      <th>1</th>\n",
              "      <td>746284085362966528</td>\n",
              "      <td>24,25,186,187,217,550,560,979,980,1126,1219,12...</td>\n",
              "    </tr>\n",
              "    <tr>\n",
              "      <th>2</th>\n",
              "      <td>741070803807043585_q</td>\n",
              "      <td>1516</td>\n",
              "    </tr>\n",
              "    <tr>\n",
              "      <th>3</th>\n",
              "      <td>744681934626791428</td>\n",
              "      <td>761,1088</td>\n",
              "    </tr>\n",
              "    <tr>\n",
              "      <th>4</th>\n",
              "      <td>747676925183803392</td>\n",
              "      <td>659</td>\n",
              "    </tr>\n",
              "  </tbody>\n",
              "</table>\n",
              "</div>"
            ],
            "text/plain": [
              "                     id                                        annotations\n",
              "0    742207272537886721                                                575\n",
              "1    746284085362966528  24,25,186,187,217,550,560,979,980,1126,1219,12...\n",
              "2  741070803807043585_q                                               1516\n",
              "3    744681934626791428                                           761,1088\n",
              "4    747676925183803392                                                659"
            ]
          },
          "metadata": {},
          "execution_count": 9
        }
      ]
    },
    {
      "cell_type": "code",
      "metadata": {
        "id": "F4PfDipTXOey",
        "colab": {
          "base_uri": "https://localhost:8080/",
          "height": 223
        },
        "outputId": "61f08345-b4c5-4971-b162-2d9c4e92b3cf"
      },
      "source": [
        "print(len(emoji_map))\n",
        "emoji_map.head()"
      ],
      "execution_count": null,
      "outputs": [
        {
          "output_type": "stream",
          "name": "stdout",
          "text": [
            "1791\n"
          ]
        },
        {
          "output_type": "execute_result",
          "data": {
            "text/html": [
              "<div>\n",
              "<style scoped>\n",
              "    .dataframe tbody tr th:only-of-type {\n",
              "        vertical-align: middle;\n",
              "    }\n",
              "\n",
              "    .dataframe tbody tr th {\n",
              "        vertical-align: top;\n",
              "    }\n",
              "\n",
              "    .dataframe thead th {\n",
              "        text-align: right;\n",
              "    }\n",
              "</style>\n",
              "<table border=\"1\" class=\"dataframe\">\n",
              "  <thead>\n",
              "    <tr style=\"text-align: right;\">\n",
              "      <th></th>\n",
              "      <th>Unnamed: 0</th>\n",
              "      <th>category</th>\n",
              "      <th>title</th>\n",
              "      <th>shorts</th>\n",
              "      <th>unicode_alternates</th>\n",
              "      <th>keywords</th>\n",
              "      <th>ucode_short</th>\n",
              "      <th>ucode</th>\n",
              "      <th>aliases</th>\n",
              "      <th>alt_title</th>\n",
              "      <th>aliases_ascii</th>\n",
              "    </tr>\n",
              "  </thead>\n",
              "  <tbody>\n",
              "    <tr>\n",
              "      <th>0</th>\n",
              "      <td>#️⃣</td>\n",
              "      <td>symbols</td>\n",
              "      <td>keycap number sign</td>\n",
              "      <td>[hash]</td>\n",
              "      <td>0023-fe0f-20e3</td>\n",
              "      <td>[keycap, symbol, pound, hash, number]</td>\n",
              "      <td>0023_fe0f_20e3</td>\n",
              "      <td>#️⃣</td>\n",
              "      <td>NaN</td>\n",
              "      <td>NaN</td>\n",
              "      <td>NaN</td>\n",
              "    </tr>\n",
              "    <tr>\n",
              "      <th>1</th>\n",
              "      <td>*️⃣</td>\n",
              "      <td>symbols</td>\n",
              "      <td>keycap asterisk</td>\n",
              "      <td>[asterisk]</td>\n",
              "      <td>002a-fe0f-20e3</td>\n",
              "      <td>[keycap, symbol, asterisk, star]</td>\n",
              "      <td>002a_fe0f_20e3</td>\n",
              "      <td>*️⃣</td>\n",
              "      <td>[:keycap_asterisk:]</td>\n",
              "      <td>NaN</td>\n",
              "      <td>NaN</td>\n",
              "    </tr>\n",
              "    <tr>\n",
              "      <th>2</th>\n",
              "      <td>0️⃣</td>\n",
              "      <td>symbols</td>\n",
              "      <td>keycap digit zero</td>\n",
              "      <td>[zero]</td>\n",
              "      <td>0030-fe0f-20e3</td>\n",
              "      <td>[, keycap, symbol, number, zero, math]</td>\n",
              "      <td>0030_fe0f_20e3</td>\n",
              "      <td>0️⃣</td>\n",
              "      <td>NaN</td>\n",
              "      <td>NaN</td>\n",
              "      <td>NaN</td>\n",
              "    </tr>\n",
              "    <tr>\n",
              "      <th>3</th>\n",
              "      <td>1️⃣</td>\n",
              "      <td>symbols</td>\n",
              "      <td>keycap digit one</td>\n",
              "      <td>[one]</td>\n",
              "      <td>0031-fe0f-20e3</td>\n",
              "      <td>[, keycap, symbol, number, one, math]</td>\n",
              "      <td>0031_fe0f_20e3</td>\n",
              "      <td>1️⃣</td>\n",
              "      <td>NaN</td>\n",
              "      <td>NaN</td>\n",
              "      <td>NaN</td>\n",
              "    </tr>\n",
              "    <tr>\n",
              "      <th>4</th>\n",
              "      <td>2️⃣</td>\n",
              "      <td>symbols</td>\n",
              "      <td>keycap digit two</td>\n",
              "      <td>[two]</td>\n",
              "      <td>0032-fe0f-20e3</td>\n",
              "      <td>[, keycap, symbol, two, number, math]</td>\n",
              "      <td>0032_fe0f_20e3</td>\n",
              "      <td>2️⃣</td>\n",
              "      <td>NaN</td>\n",
              "      <td>NaN</td>\n",
              "      <td>NaN</td>\n",
              "    </tr>\n",
              "  </tbody>\n",
              "</table>\n",
              "</div>"
            ],
            "text/plain": [
              "  Unnamed: 0 category  ... alt_title aliases_ascii\n",
              "0        #️⃣  symbols  ...       NaN           NaN\n",
              "1        *️⃣  symbols  ...       NaN           NaN\n",
              "2        0️⃣  symbols  ...       NaN           NaN\n",
              "3        1️⃣  symbols  ...       NaN           NaN\n",
              "4        2️⃣  symbols  ...       NaN           NaN\n",
              "\n",
              "[5 rows x 11 columns]"
            ]
          },
          "metadata": {},
          "execution_count": 10
        }
      ]
    },
    {
      "cell_type": "code",
      "metadata": {
        "id": "UyxLni3AaUo9",
        "colab": {
          "base_uri": "https://localhost:8080/",
          "height": 423
        },
        "outputId": "3ef48909-f9ed-4045-9afd-bb9b8ded04f3"
      },
      "source": [
        "emoji_map.rename(columns = {'Unnamed: 0': 'ucode1'}, inplace = True)\n",
        "emoji_map[(emoji_map['ucode1'] == emoji_map['ucode'])] #ucode and ucode1 are the same"
      ],
      "execution_count": null,
      "outputs": [
        {
          "output_type": "execute_result",
          "data": {
            "text/html": [
              "<div>\n",
              "<style scoped>\n",
              "    .dataframe tbody tr th:only-of-type {\n",
              "        vertical-align: middle;\n",
              "    }\n",
              "\n",
              "    .dataframe tbody tr th {\n",
              "        vertical-align: top;\n",
              "    }\n",
              "\n",
              "    .dataframe thead th {\n",
              "        text-align: right;\n",
              "    }\n",
              "</style>\n",
              "<table border=\"1\" class=\"dataframe\">\n",
              "  <thead>\n",
              "    <tr style=\"text-align: right;\">\n",
              "      <th></th>\n",
              "      <th>ucode1</th>\n",
              "      <th>category</th>\n",
              "      <th>title</th>\n",
              "      <th>shorts</th>\n",
              "      <th>unicode_alternates</th>\n",
              "      <th>keywords</th>\n",
              "      <th>ucode_short</th>\n",
              "      <th>ucode</th>\n",
              "      <th>aliases</th>\n",
              "      <th>alt_title</th>\n",
              "      <th>aliases_ascii</th>\n",
              "    </tr>\n",
              "  </thead>\n",
              "  <tbody>\n",
              "    <tr>\n",
              "      <th>0</th>\n",
              "      <td>#️⃣</td>\n",
              "      <td>symbols</td>\n",
              "      <td>keycap number sign</td>\n",
              "      <td>[hash]</td>\n",
              "      <td>0023-fe0f-20e3</td>\n",
              "      <td>[keycap, symbol, pound, hash, number]</td>\n",
              "      <td>0023_fe0f_20e3</td>\n",
              "      <td>#️⃣</td>\n",
              "      <td>NaN</td>\n",
              "      <td>NaN</td>\n",
              "      <td>NaN</td>\n",
              "    </tr>\n",
              "    <tr>\n",
              "      <th>1</th>\n",
              "      <td>*️⃣</td>\n",
              "      <td>symbols</td>\n",
              "      <td>keycap asterisk</td>\n",
              "      <td>[asterisk]</td>\n",
              "      <td>002a-fe0f-20e3</td>\n",
              "      <td>[keycap, symbol, asterisk, star]</td>\n",
              "      <td>002a_fe0f_20e3</td>\n",
              "      <td>*️⃣</td>\n",
              "      <td>[:keycap_asterisk:]</td>\n",
              "      <td>NaN</td>\n",
              "      <td>NaN</td>\n",
              "    </tr>\n",
              "    <tr>\n",
              "      <th>2</th>\n",
              "      <td>0️⃣</td>\n",
              "      <td>symbols</td>\n",
              "      <td>keycap digit zero</td>\n",
              "      <td>[zero]</td>\n",
              "      <td>0030-fe0f-20e3</td>\n",
              "      <td>[, keycap, symbol, number, zero, math]</td>\n",
              "      <td>0030_fe0f_20e3</td>\n",
              "      <td>0️⃣</td>\n",
              "      <td>NaN</td>\n",
              "      <td>NaN</td>\n",
              "      <td>NaN</td>\n",
              "    </tr>\n",
              "    <tr>\n",
              "      <th>3</th>\n",
              "      <td>1️⃣</td>\n",
              "      <td>symbols</td>\n",
              "      <td>keycap digit one</td>\n",
              "      <td>[one]</td>\n",
              "      <td>0031-fe0f-20e3</td>\n",
              "      <td>[, keycap, symbol, number, one, math]</td>\n",
              "      <td>0031_fe0f_20e3</td>\n",
              "      <td>1️⃣</td>\n",
              "      <td>NaN</td>\n",
              "      <td>NaN</td>\n",
              "      <td>NaN</td>\n",
              "    </tr>\n",
              "    <tr>\n",
              "      <th>4</th>\n",
              "      <td>2️⃣</td>\n",
              "      <td>symbols</td>\n",
              "      <td>keycap digit two</td>\n",
              "      <td>[two]</td>\n",
              "      <td>0032-fe0f-20e3</td>\n",
              "      <td>[, keycap, symbol, two, number, math]</td>\n",
              "      <td>0032_fe0f_20e3</td>\n",
              "      <td>2️⃣</td>\n",
              "      <td>NaN</td>\n",
              "      <td>NaN</td>\n",
              "      <td>NaN</td>\n",
              "    </tr>\n",
              "    <tr>\n",
              "      <th>...</th>\n",
              "      <td>...</td>\n",
              "      <td>...</td>\n",
              "      <td>...</td>\n",
              "      <td>...</td>\n",
              "      <td>...</td>\n",
              "      <td>...</td>\n",
              "      <td>...</td>\n",
              "      <td>...</td>\n",
              "      <td>...</td>\n",
              "      <td>...</td>\n",
              "      <td>...</td>\n",
              "    </tr>\n",
              "    <tr>\n",
              "      <th>1786</th>\n",
              "      <td>🦎</td>\n",
              "      <td>unicode9</td>\n",
              "      <td>lizard</td>\n",
              "      <td>[lizard]</td>\n",
              "      <td>NaN</td>\n",
              "      <td>[lizard, reptile]</td>\n",
              "      <td>1f98e</td>\n",
              "      <td>🦎</td>\n",
              "      <td>NaN</td>\n",
              "      <td>NaN</td>\n",
              "      <td>NaN</td>\n",
              "    </tr>\n",
              "    <tr>\n",
              "      <th>1787</th>\n",
              "      <td>🦏</td>\n",
              "      <td>unicode9</td>\n",
              "      <td>rhinoceros</td>\n",
              "      <td>[rhino]</td>\n",
              "      <td>NaN</td>\n",
              "      <td>[rhinoceros]</td>\n",
              "      <td>1f98f</td>\n",
              "      <td>🦏</td>\n",
              "      <td>[:rhinoceros:]</td>\n",
              "      <td>NaN</td>\n",
              "      <td>NaN</td>\n",
              "    </tr>\n",
              "    <tr>\n",
              "      <th>1788</th>\n",
              "      <td>🦐</td>\n",
              "      <td>unicode9</td>\n",
              "      <td>shrimp</td>\n",
              "      <td>[shrimp]</td>\n",
              "      <td>NaN</td>\n",
              "      <td>[small, shellfish, shrimp]</td>\n",
              "      <td>1f990</td>\n",
              "      <td>🦐</td>\n",
              "      <td>NaN</td>\n",
              "      <td>NaN</td>\n",
              "      <td>NaN</td>\n",
              "    </tr>\n",
              "    <tr>\n",
              "      <th>1789</th>\n",
              "      <td>🦑</td>\n",
              "      <td>unicode9</td>\n",
              "      <td>squid</td>\n",
              "      <td>[squid]</td>\n",
              "      <td>NaN</td>\n",
              "      <td>[squid, molusc]</td>\n",
              "      <td>1f991</td>\n",
              "      <td>🦑</td>\n",
              "      <td>NaN</td>\n",
              "      <td>NaN</td>\n",
              "      <td>NaN</td>\n",
              "    </tr>\n",
              "    <tr>\n",
              "      <th>1790</th>\n",
              "      <td>🧀</td>\n",
              "      <td>food</td>\n",
              "      <td>cheese wedge</td>\n",
              "      <td>[cheese, cheese_wedge]</td>\n",
              "      <td>NaN</td>\n",
              "      <td>[food, cheese]</td>\n",
              "      <td>1f9c0</td>\n",
              "      <td>🧀</td>\n",
              "      <td>[:cheese_wedge:]</td>\n",
              "      <td>NaN</td>\n",
              "      <td>NaN</td>\n",
              "    </tr>\n",
              "  </tbody>\n",
              "</table>\n",
              "<p>1791 rows × 11 columns</p>\n",
              "</div>"
            ],
            "text/plain": [
              "     ucode1  category  ... alt_title aliases_ascii\n",
              "0       #️⃣   symbols  ...       NaN           NaN\n",
              "1       *️⃣   symbols  ...       NaN           NaN\n",
              "2       0️⃣   symbols  ...       NaN           NaN\n",
              "3       1️⃣   symbols  ...       NaN           NaN\n",
              "4       2️⃣   symbols  ...       NaN           NaN\n",
              "...     ...       ...  ...       ...           ...\n",
              "1786      🦎  unicode9  ...       NaN           NaN\n",
              "1787      🦏  unicode9  ...       NaN           NaN\n",
              "1788      🦐  unicode9  ...       NaN           NaN\n",
              "1789      🦑  unicode9  ...       NaN           NaN\n",
              "1790      🧀      food  ...       NaN           NaN\n",
              "\n",
              "[1791 rows x 11 columns]"
            ]
          },
          "metadata": {},
          "execution_count": 11
        }
      ]
    },
    {
      "cell_type": "code",
      "metadata": {
        "id": "tgHP4_Dem0fM",
        "colab": {
          "base_uri": "https://localhost:8080/",
          "height": 35
        },
        "outputId": "0f3ec0cb-0b8c-4a6c-8233-bf5d93639ec3"
      },
      "source": [
        "# emoji_map.loc[[768, 775, 520, 776, 525, 784, 785, 787, 1556, 791, 537, 1562, 539, 540, 796, 1310, 798, 544, 806, 554, 557, 1582, 815, 818, 1330, 566, 567, 56, 569, 58, 57, 824, 1598, 577, 1604, 585, 1354, 593, 1361, 1362, 1365, 1367, 600, 1119, 1125, 1126, 615, 103, 1389, 1134, 1144, 1406, 130, 642, 648, 649, 1162, 651, 652, 1167, 143, 1169, 913, 916, 662, 663, 664, 919, 920, 1180, 1437, 670, 926, 930, 681, 684, 174, 1200, 1201, 177, 1210, 1217, 200, 721, 1255, 1263, 754, 757, 509, 510], 'ucode']\n",
        "emoji_map.loc[1393, 'ucode']"
      ],
      "execution_count": null,
      "outputs": [
        {
          "output_type": "execute_result",
          "data": {
            "application/vnd.google.colaboratory.intrinsic+json": {
              "type": "string"
            },
            "text/plain": [
              "'😎'"
            ]
          },
          "metadata": {},
          "execution_count": 12
        }
      ]
    },
    {
      "cell_type": "markdown",
      "metadata": {
        "id": "5nYNXIe5YK9M"
      },
      "source": [
        "#Cleaning"
      ]
    },
    {
      "cell_type": "markdown",
      "metadata": {
        "id": "BLWqY7vn4f1T"
      },
      "source": [
        "## Remove duplicate annotations (and store them in a sorted list)"
      ]
    },
    {
      "cell_type": "markdown",
      "metadata": {
        "id": "9whRbWY2FPfc"
      },
      "source": [
        "For train_full, test_full, and valid_full, I think there are no duplicates and alr in order. For the img, a lot of duplicates"
      ]
    },
    {
      "cell_type": "code",
      "metadata": {
        "id": "e201ItAIAnV9"
      },
      "source": [
        "remove_duplicates = lambda annotation : sorted(list(int(x) for x in set(annotation.split(\",\"))))"
      ],
      "execution_count": null,
      "outputs": []
    },
    {
      "cell_type": "code",
      "metadata": {
        "id": "WueWJls8_U_B"
      },
      "source": [
        "test_full[\"annotations\"] = test_full[\"annotations\"].apply(remove_duplicates)\n",
        "train_full[\"annotations\"] = train_full[\"annotations\"].apply(remove_duplicates)\n",
        "valid_full[\"annotations\"] = valid_full[\"annotations\"].apply(remove_duplicates)\n",
        "\n",
        "test_img[\"annotations\"] = test_img[\"annotations\"].apply(remove_duplicates)\n",
        "train_img[\"annotations\"] = train_img[\"annotations\"].apply(remove_duplicates)\n",
        "valid_img[\"annotations\"] = valid_img[\"annotations\"].apply(remove_duplicates)\n",
        "\n",
        "test_balanced[\"annotations\"] = test_balanced[\"annotations\"].apply(remove_duplicates)"
      ],
      "execution_count": null,
      "outputs": []
    },
    {
      "cell_type": "code",
      "metadata": {
        "id": "eQzhigwgBiha",
        "colab": {
          "base_uri": "https://localhost:8080/"
        },
        "outputId": "feddd221-4f03-43b5-bd25-61aeebbfbfae"
      },
      "source": [
        "train_full"
      ],
      "execution_count": null,
      "outputs": [
        {
          "output_type": "execute_result",
          "data": {
            "text/html": [
              "<div>\n",
              "<style scoped>\n",
              "    .dataframe tbody tr th:only-of-type {\n",
              "        vertical-align: middle;\n",
              "    }\n",
              "\n",
              "    .dataframe tbody tr th {\n",
              "        vertical-align: top;\n",
              "    }\n",
              "\n",
              "    .dataframe thead th {\n",
              "        text-align: right;\n",
              "    }\n",
              "</style>\n",
              "<table border=\"1\" class=\"dataframe\">\n",
              "  <thead>\n",
              "    <tr style=\"text-align: right;\">\n",
              "      <th></th>\n",
              "      <th>id</th>\n",
              "      <th>annotations</th>\n",
              "    </tr>\n",
              "  </thead>\n",
              "  <tbody>\n",
              "    <tr>\n",
              "      <th>0</th>\n",
              "      <td>744014442837454848</td>\n",
              "      <td>[47, 883]</td>\n",
              "    </tr>\n",
              "    <tr>\n",
              "      <th>1</th>\n",
              "      <td>742407819496919041</td>\n",
              "      <td>[1381]</td>\n",
              "    </tr>\n",
              "    <tr>\n",
              "      <th>2</th>\n",
              "      <td>744101567981359105</td>\n",
              "      <td>[1421]</td>\n",
              "    </tr>\n",
              "    <tr>\n",
              "      <th>3</th>\n",
              "      <td>744692442033577984</td>\n",
              "      <td>[1056]</td>\n",
              "    </tr>\n",
              "    <tr>\n",
              "      <th>4</th>\n",
              "      <td>746426733834944512</td>\n",
              "      <td>[1056, 1381]</td>\n",
              "    </tr>\n",
              "    <tr>\n",
              "      <th>...</th>\n",
              "      <td>...</td>\n",
              "      <td>...</td>\n",
              "    </tr>\n",
              "    <tr>\n",
              "      <th>12997214</th>\n",
              "      <td>744270931997171712</td>\n",
              "      <td>[1210]</td>\n",
              "    </tr>\n",
              "    <tr>\n",
              "      <th>12997215</th>\n",
              "      <td>743546441591721984</td>\n",
              "      <td>[1447]</td>\n",
              "    </tr>\n",
              "    <tr>\n",
              "      <th>12997216</th>\n",
              "      <td>742894986304344064</td>\n",
              "      <td>[12, 114, 1111]</td>\n",
              "    </tr>\n",
              "    <tr>\n",
              "      <th>12997217</th>\n",
              "      <td>741607748975132672</td>\n",
              "      <td>[1428]</td>\n",
              "    </tr>\n",
              "    <tr>\n",
              "      <th>12997218</th>\n",
              "      <td>744088860909518848</td>\n",
              "      <td>[1107]</td>\n",
              "    </tr>\n",
              "  </tbody>\n",
              "</table>\n",
              "<p>12997219 rows × 2 columns</p>\n",
              "</div>"
            ],
            "text/plain": [
              "                          id      annotations\n",
              "0         744014442837454848        [47, 883]\n",
              "1         742407819496919041           [1381]\n",
              "2         744101567981359105           [1421]\n",
              "3         744692442033577984           [1056]\n",
              "4         746426733834944512     [1056, 1381]\n",
              "...                      ...              ...\n",
              "12997214  744270931997171712           [1210]\n",
              "12997215  743546441591721984           [1447]\n",
              "12997216  742894986304344064  [12, 114, 1111]\n",
              "12997217  741607748975132672           [1428]\n",
              "12997218  744088860909518848           [1107]\n",
              "\n",
              "[12997219 rows x 2 columns]"
            ]
          },
          "metadata": {},
          "execution_count": 15
        }
      ]
    },
    {
      "cell_type": "code",
      "metadata": {
        "id": "OVjf8qNABAOo",
        "colab": {
          "base_uri": "https://localhost:8080/"
        },
        "outputId": "d1fd7d20-137d-4b5d-f5f2-5c801a479620"
      },
      "source": [
        "valid_full"
      ],
      "execution_count": null,
      "outputs": [
        {
          "output_type": "execute_result",
          "data": {
            "text/html": [
              "<div>\n",
              "<style scoped>\n",
              "    .dataframe tbody tr th:only-of-type {\n",
              "        vertical-align: middle;\n",
              "    }\n",
              "\n",
              "    .dataframe tbody tr th {\n",
              "        vertical-align: top;\n",
              "    }\n",
              "\n",
              "    .dataframe thead th {\n",
              "        text-align: right;\n",
              "    }\n",
              "</style>\n",
              "<table border=\"1\" class=\"dataframe\">\n",
              "  <thead>\n",
              "    <tr style=\"text-align: right;\">\n",
              "      <th></th>\n",
              "      <th>id</th>\n",
              "      <th>annotations</th>\n",
              "    </tr>\n",
              "  </thead>\n",
              "  <tbody>\n",
              "    <tr>\n",
              "      <th>0</th>\n",
              "      <td>746634523048292352</td>\n",
              "      <td>[1103, 1389, 1399]</td>\n",
              "    </tr>\n",
              "    <tr>\n",
              "      <th>1</th>\n",
              "      <td>741650544847147009</td>\n",
              "      <td>[1381]</td>\n",
              "    </tr>\n",
              "    <tr>\n",
              "      <th>2</th>\n",
              "      <td>746803092239196162</td>\n",
              "      <td>[1424]</td>\n",
              "    </tr>\n",
              "    <tr>\n",
              "      <th>3</th>\n",
              "      <td>746625375875170304</td>\n",
              "      <td>[1107]</td>\n",
              "    </tr>\n",
              "    <tr>\n",
              "      <th>4</th>\n",
              "      <td>744724790485757952</td>\n",
              "      <td>[1620]</td>\n",
              "    </tr>\n",
              "    <tr>\n",
              "      <th>...</th>\n",
              "      <td>...</td>\n",
              "      <td>...</td>\n",
              "    </tr>\n",
              "    <tr>\n",
              "      <th>999995</th>\n",
              "      <td>747420757790162944</td>\n",
              "      <td>[1620]</td>\n",
              "    </tr>\n",
              "    <tr>\n",
              "      <th>999996</th>\n",
              "      <td>744673950962225152</td>\n",
              "      <td>[544]</td>\n",
              "    </tr>\n",
              "    <tr>\n",
              "      <th>999997</th>\n",
              "      <td>741743895000809472</td>\n",
              "      <td>[1415]</td>\n",
              "    </tr>\n",
              "    <tr>\n",
              "      <th>999998</th>\n",
              "      <td>745039072628899841</td>\n",
              "      <td>[1447]</td>\n",
              "    </tr>\n",
              "    <tr>\n",
              "      <th>999999</th>\n",
              "      <td>746762117898895361</td>\n",
              "      <td>[186]</td>\n",
              "    </tr>\n",
              "  </tbody>\n",
              "</table>\n",
              "<p>1000000 rows × 2 columns</p>\n",
              "</div>"
            ],
            "text/plain": [
              "                        id         annotations\n",
              "0       746634523048292352  [1103, 1389, 1399]\n",
              "1       741650544847147009              [1381]\n",
              "2       746803092239196162              [1424]\n",
              "3       746625375875170304              [1107]\n",
              "4       744724790485757952              [1620]\n",
              "...                    ...                 ...\n",
              "999995  747420757790162944              [1620]\n",
              "999996  744673950962225152               [544]\n",
              "999997  741743895000809472              [1415]\n",
              "999998  745039072628899841              [1447]\n",
              "999999  746762117898895361               [186]\n",
              "\n",
              "[1000000 rows x 2 columns]"
            ]
          },
          "metadata": {},
          "execution_count": 16
        }
      ]
    },
    {
      "cell_type": "markdown",
      "metadata": {
        "id": "ahpfPuigIRcb"
      },
      "source": [
        "## Filter out Tweets with Images"
      ]
    },
    {
      "cell_type": "markdown",
      "metadata": {
        "id": "CIGSjrU3I2CC"
      },
      "source": [
        "Key Points:\n",
        "1. There are some tweets in train_img but not in train_full (e.g. 760790155389243393)"
      ]
    },
    {
      "cell_type": "code",
      "metadata": {
        "id": "aUOVyU7-DyOi",
        "colab": {
          "base_uri": "https://localhost:8080/"
        },
        "outputId": "400cb0b5-9e30-48e9-d7fe-4ff7295f1637"
      },
      "source": [
        "train_text = pd.concat([train_full, train_img])\n",
        "print(\"total rows without imgid before: \" + str(len(train_text[train_text[\"imgid\"].isnull()])))\n",
        "print(\"total rows with imgid before: \" + str(len(train_text[train_text[\"imgid\"].notnull()])))\n",
        "\n",
        "train_text = train_text.drop_duplicates(subset = 'id', keep = False)\n",
        "print(\"total rows without imgid after: \" + str(len(train_text[train_text[\"imgid\"].isnull()])))\n",
        "print(\"total rows with imgid after: \" + str(len(train_text[train_text[\"imgid\"].notnull()])))\n",
        "\n",
        "train_text = train_text[train_text[\"imgid\"].isnull()]\n",
        "train_text = train_text.drop('imgid', 1)\n",
        "print(\"total rows in train_text final: \" + str(len(train_text)))"
      ],
      "execution_count": null,
      "outputs": [
        {
          "output_type": "stream",
          "name": "stdout",
          "text": [
            "total rows without imgid before: 12997219\n",
            "total rows with imgid before: 916864\n",
            "total rows without imgid after: 12124064\n",
            "total rows with imgid after: 43709\n",
            "total rows in train_text final: 12124064\n"
          ]
        }
      ]
    },
    {
      "cell_type": "code",
      "metadata": {
        "id": "nr-SXAWXJIZL",
        "colab": {
          "base_uri": "https://localhost:8080/"
        },
        "outputId": "e6fbc7bc-3335-4620-eeb2-68579ee217e7"
      },
      "source": [
        "test_text = pd.concat([test_full, test_img])\n",
        "print(\"total rows without imgid before: \" + str(len(test_text[test_text[\"imgid\"].isnull()])))\n",
        "print(\"total rows with imgid before: \" + str(len(test_text[test_text[\"imgid\"].notnull()])))\n",
        "\n",
        "test_text = test_text.drop_duplicates(subset = 'id', keep = False)\n",
        "print(\"total rows without imgid after: \" + str(len(test_text[test_text[\"imgid\"].isnull()])))\n",
        "print(\"total rows with imgid after: \" + str(len(test_text[test_text[\"imgid\"].notnull()])))\n",
        "\n",
        "test_text = test_text[test_text[\"imgid\"].isnull()]\n",
        "test_text = test_text.drop('imgid', 1)\n",
        "print(\"total rows in test_text final: \" + str(len(test_text)))"
      ],
      "execution_count": null,
      "outputs": [
        {
          "output_type": "stream",
          "name": "stdout",
          "text": [
            "total rows without imgid before: 1000000\n",
            "total rows with imgid before: 79191\n",
            "total rows without imgid after: 932573\n",
            "total rows with imgid after: 11764\n",
            "total rows in test_text final: 932573\n"
          ]
        }
      ]
    },
    {
      "cell_type": "code",
      "metadata": {
        "id": "atAaB_f1MKtM",
        "colab": {
          "base_uri": "https://localhost:8080/"
        },
        "outputId": "bd19fd3e-d5a2-44f7-8812-3da98f9b0c2d"
      },
      "source": [
        "valid_text = pd.concat([valid_full, valid_img])\n",
        "print(\"total rows without imgid before: \" + str(len(valid_text[valid_text[\"imgid\"].isnull()])))\n",
        "print(\"total rows with imgid before: \" + str(len(valid_text[valid_text[\"imgid\"].notnull()])))\n",
        "\n",
        "valid_text = valid_text.drop_duplicates(subset = 'id', keep = False)\n",
        "print(\"total rows without imgid after: \" + str(len(valid_text[valid_text[\"imgid\"].isnull()])))\n",
        "print(\"total rows with imgid after: \" + str(len(valid_text[valid_text[\"imgid\"].notnull()])))\n",
        "\n",
        "valid_text = valid_text[valid_text[\"imgid\"].isnull()]\n",
        "valid_text = valid_text.drop('imgid', 1)\n",
        "print(\"total rows in valid_text final: \" + str(len(valid_text)))"
      ],
      "execution_count": null,
      "outputs": [
        {
          "output_type": "stream",
          "name": "stdout",
          "text": [
            "total rows without imgid before: 1000000\n",
            "total rows with imgid before: 79419\n",
            "total rows without imgid after: 932533\n",
            "total rows with imgid after: 11952\n",
            "total rows in valid_text final: 932533\n"
          ]
        }
      ]
    },
    {
      "cell_type": "code",
      "metadata": {
        "id": "epq5RR78O870",
        "colab": {
          "base_uri": "https://localhost:8080/",
          "height": 423
        },
        "outputId": "f10b6b86-e017-4c0d-ca4b-7e3f01977182"
      },
      "source": [
        "train_text"
      ],
      "execution_count": null,
      "outputs": [
        {
          "output_type": "execute_result",
          "data": {
            "text/html": [
              "<div>\n",
              "<style scoped>\n",
              "    .dataframe tbody tr th:only-of-type {\n",
              "        vertical-align: middle;\n",
              "    }\n",
              "\n",
              "    .dataframe tbody tr th {\n",
              "        vertical-align: top;\n",
              "    }\n",
              "\n",
              "    .dataframe thead th {\n",
              "        text-align: right;\n",
              "    }\n",
              "</style>\n",
              "<table border=\"1\" class=\"dataframe\">\n",
              "  <thead>\n",
              "    <tr style=\"text-align: right;\">\n",
              "      <th></th>\n",
              "      <th>id</th>\n",
              "      <th>annotations</th>\n",
              "    </tr>\n",
              "  </thead>\n",
              "  <tbody>\n",
              "    <tr>\n",
              "      <th>1</th>\n",
              "      <td>742407819496919041</td>\n",
              "      <td>[1381]</td>\n",
              "    </tr>\n",
              "    <tr>\n",
              "      <th>2</th>\n",
              "      <td>744101567981359105</td>\n",
              "      <td>[1421]</td>\n",
              "    </tr>\n",
              "    <tr>\n",
              "      <th>3</th>\n",
              "      <td>744692442033577984</td>\n",
              "      <td>[1056]</td>\n",
              "    </tr>\n",
              "    <tr>\n",
              "      <th>4</th>\n",
              "      <td>746426733834944512</td>\n",
              "      <td>[1056, 1381]</td>\n",
              "    </tr>\n",
              "    <tr>\n",
              "      <th>5</th>\n",
              "      <td>744959564504793088_q</td>\n",
              "      <td>[616]</td>\n",
              "    </tr>\n",
              "    <tr>\n",
              "      <th>...</th>\n",
              "      <td>...</td>\n",
              "      <td>...</td>\n",
              "    </tr>\n",
              "    <tr>\n",
              "      <th>12997214</th>\n",
              "      <td>744270931997171712</td>\n",
              "      <td>[1210]</td>\n",
              "    </tr>\n",
              "    <tr>\n",
              "      <th>12997215</th>\n",
              "      <td>743546441591721984</td>\n",
              "      <td>[1447]</td>\n",
              "    </tr>\n",
              "    <tr>\n",
              "      <th>12997216</th>\n",
              "      <td>742894986304344064</td>\n",
              "      <td>[12, 114, 1111]</td>\n",
              "    </tr>\n",
              "    <tr>\n",
              "      <th>12997217</th>\n",
              "      <td>741607748975132672</td>\n",
              "      <td>[1428]</td>\n",
              "    </tr>\n",
              "    <tr>\n",
              "      <th>12997218</th>\n",
              "      <td>744088860909518848</td>\n",
              "      <td>[1107]</td>\n",
              "    </tr>\n",
              "  </tbody>\n",
              "</table>\n",
              "<p>12124064 rows × 2 columns</p>\n",
              "</div>"
            ],
            "text/plain": [
              "                            id      annotations\n",
              "1           742407819496919041           [1381]\n",
              "2           744101567981359105           [1421]\n",
              "3           744692442033577984           [1056]\n",
              "4           746426733834944512     [1056, 1381]\n",
              "5         744959564504793088_q            [616]\n",
              "...                        ...              ...\n",
              "12997214    744270931997171712           [1210]\n",
              "12997215    743546441591721984           [1447]\n",
              "12997216    742894986304344064  [12, 114, 1111]\n",
              "12997217    741607748975132672           [1428]\n",
              "12997218    744088860909518848           [1107]\n",
              "\n",
              "[12124064 rows x 2 columns]"
            ]
          },
          "metadata": {},
          "execution_count": 20
        }
      ]
    },
    {
      "cell_type": "code",
      "metadata": {
        "id": "ague0iojPAZM",
        "colab": {
          "base_uri": "https://localhost:8080/",
          "height": 423
        },
        "outputId": "b10685b7-020d-45a6-d26d-bc38652c0987"
      },
      "source": [
        "test_text"
      ],
      "execution_count": null,
      "outputs": [
        {
          "output_type": "execute_result",
          "data": {
            "text/html": [
              "<div>\n",
              "<style scoped>\n",
              "    .dataframe tbody tr th:only-of-type {\n",
              "        vertical-align: middle;\n",
              "    }\n",
              "\n",
              "    .dataframe tbody tr th {\n",
              "        vertical-align: top;\n",
              "    }\n",
              "\n",
              "    .dataframe thead th {\n",
              "        text-align: right;\n",
              "    }\n",
              "</style>\n",
              "<table border=\"1\" class=\"dataframe\">\n",
              "  <thead>\n",
              "    <tr style=\"text-align: right;\">\n",
              "      <th></th>\n",
              "      <th>id</th>\n",
              "      <th>annotations</th>\n",
              "    </tr>\n",
              "  </thead>\n",
              "  <tbody>\n",
              "    <tr>\n",
              "      <th>0</th>\n",
              "      <td>747643690521341953</td>\n",
              "      <td>[1138]</td>\n",
              "    </tr>\n",
              "    <tr>\n",
              "      <th>1</th>\n",
              "      <td>746196870121164800</td>\n",
              "      <td>[1056]</td>\n",
              "    </tr>\n",
              "    <tr>\n",
              "      <th>2</th>\n",
              "      <td>744595559470800896</td>\n",
              "      <td>[1381]</td>\n",
              "    </tr>\n",
              "    <tr>\n",
              "      <th>3</th>\n",
              "      <td>747720844730859520</td>\n",
              "      <td>[889, 1128]</td>\n",
              "    </tr>\n",
              "    <tr>\n",
              "      <th>4</th>\n",
              "      <td>743285629576843264</td>\n",
              "      <td>[1424]</td>\n",
              "    </tr>\n",
              "    <tr>\n",
              "      <th>...</th>\n",
              "      <td>...</td>\n",
              "      <td>...</td>\n",
              "    </tr>\n",
              "    <tr>\n",
              "      <th>999995</th>\n",
              "      <td>742645704074481664</td>\n",
              "      <td>[1105]</td>\n",
              "    </tr>\n",
              "    <tr>\n",
              "      <th>999996</th>\n",
              "      <td>747015502791335936</td>\n",
              "      <td>[1400]</td>\n",
              "    </tr>\n",
              "    <tr>\n",
              "      <th>999997</th>\n",
              "      <td>744745632141737984</td>\n",
              "      <td>[807]</td>\n",
              "    </tr>\n",
              "    <tr>\n",
              "      <th>999998</th>\n",
              "      <td>747071768817471488</td>\n",
              "      <td>[1389]</td>\n",
              "    </tr>\n",
              "    <tr>\n",
              "      <th>999999</th>\n",
              "      <td>748393225166127105</td>\n",
              "      <td>[1393, 1447]</td>\n",
              "    </tr>\n",
              "  </tbody>\n",
              "</table>\n",
              "<p>932573 rows × 2 columns</p>\n",
              "</div>"
            ],
            "text/plain": [
              "                        id   annotations\n",
              "0       747643690521341953        [1138]\n",
              "1       746196870121164800        [1056]\n",
              "2       744595559470800896        [1381]\n",
              "3       747720844730859520   [889, 1128]\n",
              "4       743285629576843264        [1424]\n",
              "...                    ...           ...\n",
              "999995  742645704074481664        [1105]\n",
              "999996  747015502791335936        [1400]\n",
              "999997  744745632141737984         [807]\n",
              "999998  747071768817471488        [1389]\n",
              "999999  748393225166127105  [1393, 1447]\n",
              "\n",
              "[932573 rows x 2 columns]"
            ]
          },
          "metadata": {},
          "execution_count": 21
        }
      ]
    },
    {
      "cell_type": "code",
      "metadata": {
        "id": "jqqVsSE8PBuW",
        "colab": {
          "base_uri": "https://localhost:8080/",
          "height": 423
        },
        "outputId": "220a7fd3-ceca-4620-f82f-f1386cdfd4fb"
      },
      "source": [
        "valid_text"
      ],
      "execution_count": null,
      "outputs": [
        {
          "output_type": "execute_result",
          "data": {
            "text/html": [
              "<div>\n",
              "<style scoped>\n",
              "    .dataframe tbody tr th:only-of-type {\n",
              "        vertical-align: middle;\n",
              "    }\n",
              "\n",
              "    .dataframe tbody tr th {\n",
              "        vertical-align: top;\n",
              "    }\n",
              "\n",
              "    .dataframe thead th {\n",
              "        text-align: right;\n",
              "    }\n",
              "</style>\n",
              "<table border=\"1\" class=\"dataframe\">\n",
              "  <thead>\n",
              "    <tr style=\"text-align: right;\">\n",
              "      <th></th>\n",
              "      <th>id</th>\n",
              "      <th>annotations</th>\n",
              "    </tr>\n",
              "  </thead>\n",
              "  <tbody>\n",
              "    <tr>\n",
              "      <th>0</th>\n",
              "      <td>746634523048292352</td>\n",
              "      <td>[1103, 1389, 1399]</td>\n",
              "    </tr>\n",
              "    <tr>\n",
              "      <th>1</th>\n",
              "      <td>741650544847147009</td>\n",
              "      <td>[1381]</td>\n",
              "    </tr>\n",
              "    <tr>\n",
              "      <th>2</th>\n",
              "      <td>746803092239196162</td>\n",
              "      <td>[1424]</td>\n",
              "    </tr>\n",
              "    <tr>\n",
              "      <th>3</th>\n",
              "      <td>746625375875170304</td>\n",
              "      <td>[1107]</td>\n",
              "    </tr>\n",
              "    <tr>\n",
              "      <th>4</th>\n",
              "      <td>744724790485757952</td>\n",
              "      <td>[1620]</td>\n",
              "    </tr>\n",
              "    <tr>\n",
              "      <th>...</th>\n",
              "      <td>...</td>\n",
              "      <td>...</td>\n",
              "    </tr>\n",
              "    <tr>\n",
              "      <th>999995</th>\n",
              "      <td>747420757790162944</td>\n",
              "      <td>[1620]</td>\n",
              "    </tr>\n",
              "    <tr>\n",
              "      <th>999996</th>\n",
              "      <td>744673950962225152</td>\n",
              "      <td>[544]</td>\n",
              "    </tr>\n",
              "    <tr>\n",
              "      <th>999997</th>\n",
              "      <td>741743895000809472</td>\n",
              "      <td>[1415]</td>\n",
              "    </tr>\n",
              "    <tr>\n",
              "      <th>999998</th>\n",
              "      <td>745039072628899841</td>\n",
              "      <td>[1447]</td>\n",
              "    </tr>\n",
              "    <tr>\n",
              "      <th>999999</th>\n",
              "      <td>746762117898895361</td>\n",
              "      <td>[186]</td>\n",
              "    </tr>\n",
              "  </tbody>\n",
              "</table>\n",
              "<p>932533 rows × 2 columns</p>\n",
              "</div>"
            ],
            "text/plain": [
              "                        id         annotations\n",
              "0       746634523048292352  [1103, 1389, 1399]\n",
              "1       741650544847147009              [1381]\n",
              "2       746803092239196162              [1424]\n",
              "3       746625375875170304              [1107]\n",
              "4       744724790485757952              [1620]\n",
              "...                    ...                 ...\n",
              "999995  747420757790162944              [1620]\n",
              "999996  744673950962225152               [544]\n",
              "999997  741743895000809472              [1415]\n",
              "999998  745039072628899841              [1447]\n",
              "999999  746762117898895361               [186]\n",
              "\n",
              "[932533 rows x 2 columns]"
            ]
          },
          "metadata": {},
          "execution_count": 22
        }
      ]
    },
    {
      "cell_type": "code",
      "metadata": {
        "id": "J8rBVXFTjcRX"
      },
      "source": [
        "test_text = test_text[test_text['id'].str[-2:] != \"_q\"]\n",
        "train_text = train_text[train_text['id'].str[-2:] != \"_q\"]\n",
        "valid_text = valid_text[valid_text['id'].str[-2:] != \"_q\"]"
      ],
      "execution_count": null,
      "outputs": []
    },
    {
      "cell_type": "code",
      "metadata": {
        "id": "4B7dC0Tzq5fK"
      },
      "source": [
        "test_text"
      ],
      "execution_count": null,
      "outputs": []
    },
    {
      "cell_type": "code",
      "metadata": {
        "id": "uWnW0AXyq7cn"
      },
      "source": [
        "train_text"
      ],
      "execution_count": null,
      "outputs": []
    },
    {
      "cell_type": "code",
      "metadata": {
        "id": "hXXTmvDkq8d3"
      },
      "source": [
        "valid_text"
      ],
      "execution_count": null,
      "outputs": []
    },
    {
      "cell_type": "markdown",
      "metadata": {
        "id": "E5VipfI4IJQz"
      },
      "source": [
        "## Get The Tweets and Remove Unavailable Tweets\n",
        "\n"
      ]
    },
    {
      "cell_type": "code",
      "metadata": {
        "id": "apnkG8Q6T1xc"
      },
      "source": [
        "# consumer key / API key = BFkhoyYPvdDg6vRTgHAYyAa9r\n",
        "# consumer key secret / API key secret = Hx5OQOgLxP2fsqLoUUGRdJycBhisYg1uac8vtSqdLyLijUkvcD\n",
        "# bearer token = AAAAAAAAAAAAAAAAAAAAAHdSUQEAAAAAzd%2B01SA5YHfDQmy3h7VX2OYyiC4%3Dd2eQEh8Z2nAQ9zWBMyKlyjOKwjwb7lwUJT4SEDTWcCFxz3xHmX\n",
        "# access token = 1443079270301978625-vzmeZhaly1A7mmS861eBoF9eAF2eWW\n",
        "# access token secret = MR3rzfGlS9MHsT3B7bDBfwU7yAU5RS7F8MVYtSoGXmHGj"
      ],
      "execution_count": null,
      "outputs": []
    },
    {
      "cell_type": "code",
      "metadata": {
        "id": "Q6oY6swzYdTC"
      },
      "source": [
        "import tweepy\n",
        "\n",
        "consumer_key = 'BFkhoyYPvdDg6vRTgHAYyAa9r'\n",
        "consumer_secret = 'Hx5OQOgLxP2fsqLoUUGRdJycBhisYg1uac8vtSqdLyLijUkvcD'\n",
        "access_key= '1443079270301978625-vzmeZhaly1A7mmS861eBoF9eAF2eWW'\n",
        "access_secret = 'MR3rzfGlS9MHsT3B7bDBfwU7yAU5RS7F8MVYtSoGXmHGj'"
      ],
      "execution_count": null,
      "outputs": []
    },
    {
      "cell_type": "code",
      "metadata": {
        "id": "M54pOYVgY5ci"
      },
      "source": [
        "auth = tweepy.OAuthHandler(consumer_key, consumer_secret)\n",
        "auth.set_access_token(access_key, access_secret)"
      ],
      "execution_count": null,
      "outputs": []
    },
    {
      "cell_type": "code",
      "metadata": {
        "id": "s7tsbm8HZwe9"
      },
      "source": [
        "api = tweepy.API(auth)"
      ],
      "execution_count": null,
      "outputs": []
    },
    {
      "cell_type": "code",
      "metadata": {
        "id": "wdeQci4nbnZL"
      },
      "source": [
        "def get_tweets(id):\n",
        "    if id[-2:]!=\"_q\":\n",
        "        try:\n",
        "            return api.get_status(id).text\n",
        "        except:\n",
        "            return \n",
        "    else:\n",
        "        try:\n",
        "            return api.get_status(id).text + \" *<RETWEET TEXT>* \" + api.get_status(id).quoted_status.text\n",
        "        except:\n",
        "            return "
      ],
      "execution_count": null,
      "outputs": []
    },
    {
      "cell_type": "code",
      "metadata": {
        "id": "u2Ffmh8gew_z"
      },
      "source": [
        "get_tweets('74288681733943272_q')"
      ],
      "execution_count": null,
      "outputs": []
    },
    {
      "cell_type": "code",
      "metadata": {
        "id": "Yx_M1L1Japqz"
      },
      "source": [
        "test_text[\"tweets\"] = test_text[\"id\"].apply(get_tweets)\n",
        "train_text[\"tweets\"] = train_text[\"id\"].apply(get_tweets)\n",
        "valid_text[\"tweets\"] = valid_text[\"id\"].apply(get_tweets)"
      ],
      "execution_count": null,
      "outputs": []
    }
  ]
}